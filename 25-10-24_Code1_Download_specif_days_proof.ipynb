{
 "cells": [
  {
   "cell_type": "markdown",
   "id": "23049ca2",
   "metadata": {},
   "source": [
    "# packages"
   ]
  },
  {
   "cell_type": "code",
   "execution_count": 1,
   "id": "75a3fe45",
   "metadata": {},
   "outputs": [
    {
     "name": "stderr",
     "output_type": "stream",
     "text": [
      "/home/pjgonzalesp/miniforge3/envs/sunpy/lib/python3.13/site-packages/tqdm/auto.py:21: TqdmWarning: IProgress not found. Please update jupyter and ipywidgets. See https://ipywidgets.readthedocs.io/en/stable/user_install.html\n",
      "  from .autonotebook import tqdm as notebook_tqdm\n"
     ]
    }
   ],
   "source": [
    "from sunpy.net import Fido, attrs as a\n",
    "from sunpy.timeseries import TimeSeries\n",
    "from sunpy.timeseries.sources.goes import XRSTimeSeries\n",
    "import astropy.units as u\n",
    "from sunkit_instruments.goes_xrs import calculate_temperature_em\n",
    "import matplotlib.pyplot as plt\n",
    "import numpy as np\n",
    "from sunpy.data import manager\n",
    "import netCDF4 as nc\n",
    "import os\n",
    "import pandas as pd\n",
    "from datetime import datetime, timedelta\n",
    "import copy\n",
    "from matplotlib import colormaps\n",
    "list(colormaps)\n",
    "#from colorspacious import cspace_converter\n",
    "import matplotlib as mpl\n",
    "from matplotlib.colors import LinearSegmentedColormap\n",
    "from matplotlib import cm\n",
    "from matplotlib.colors import ListedColormap\n",
    "import matplotlib.dates as mdates\n",
    "from matplotlib.ticker import LogFormatter\n",
    "from matplotlib.ticker import LogFormatterMathtext\n",
    "from IPython.display import HTML, display\n",
    "import matplotlib.pyplot as plt\n",
    "import seaborn as sns\n",
    "import re\n",
    "import glob\n",
    "import logging\n"
   ]
  },
  {
   "cell_type": "markdown",
   "id": "eab8e068",
   "metadata": {},
   "source": [
    "# Funciones"
   ]
  },
  {
   "cell_type": "code",
   "execution_count": 2,
   "id": "90c9bc69",
   "metadata": {},
   "outputs": [],
   "source": [
    "##############################\n",
    "##    1. Download GOES data   #\n",
    "##############################\n",
    "\n",
    "## 1.0. Ensure 1 min resolution (C1)\n",
    "def ensure_1min_resolution(ts):\n",
    "    \"\"\"\n",
    "    Revisa si el TimeSeries está en resolución de 1 minuto.\n",
    "    Si no, lo re-muestrea a 1 min con la media.\n",
    "\n",
    "    Check if the TimeSeries has a resolution of 1 minute.\n",
    "    If no, it will be shown again in 1 minute with the media\n",
    "    \"\"\"\n",
    "    # Pasar a DataFrame\n",
    "    df = ts.to_dataframe()\n",
    "    \n",
    "    # Calcular la resolución actual (diferencia entre los 2 primeros tiempos)\n",
    "    current_res = (df.index[1] - df.index[0]).total_seconds()\n",
    "    \n",
    "    if abs(current_res - 60) < 1:  # ya es 1 min (tolerancia de 1s)\n",
    "        print(\"Resolution = 1 minute\")\n",
    "        return ts\n",
    "    else:\n",
    "        print(f\"Resolution detected: {current_res:.2f} s → resampling at 1 min\")\n",
    "        df_resampled = df.resample(\"1min\").mean()\n",
    "        return TimeSeries(df_resampled, ts.meta)\n",
    "\n",
    "## 1.1. Download data (C1)\n",
    "def Download_Data(start_time, end_time, resolution=\"avg1m\", log_file=None, output_dir=None):\n",
    "    \n",
    "    \"\"\"\n",
    "    Descarga datos GOES entre start_time y end_time, asegura resolución 1min,\n",
    "    guarda gráficas en block_dir/data_graphs y log de errores en block_dir.\n",
    "\n",
    "    Entrada / Input:\n",
    "        start_time (str): Tiempo inicial del intervalo de búsqueda, en formato compatible con SunPy.\n",
    "        end_time (str): Tiempo final del intervalo de búsqueda, en formato compatible con SunPy.\n",
    "        resolution (str, opcional / optional): Resolución temporal de los datos GOES. \n",
    "            Opciones válidas: \"flx1s\", \"avg1m\". Por defecto es 'avg1m'.\n",
    "\n",
    "    Salida / Output:\n",
    "        TimeSeries: Objeto de SunPy que contiene los datos XRS del satélite GOES \n",
    "                    dentro del intervalo de tiempo especificado.\n",
    "                    con la resolución especificada.\n",
    "\n",
    "    Descripción / Description:\n",
    "        Esta función busca, descarga y carga datos del instrumento GOES (X-Ray Sensor, XRS)\n",
    "        en el intervalo de tiempo especificado y con la resolución deseada. Utiliza Fido para la búsqueda\n",
    "        y retorna un objeto TimeSeries con los datos.\n",
    "\n",
    "        This function searches for, downloads, and loads data from the GOES (X-Ray Sensor, XRS)\n",
    "        within the specified time interval and chosen resolution. It uses Fido for querying and \n",
    "        returns a TimeSeries object with the data.\n",
    "    \"\"\"\n",
    "    try:\n",
    "        # ===== Directorios =====\n",
    "        if output_dir is not None:\n",
    "            os.makedirs(output_dir, exist_ok=True)\n",
    "            graph_dir = os.path.join(output_dir, \"data_graphs\")\n",
    "            os.makedirs(graph_dir, exist_ok=True)\n",
    "            log_file = os.path.join(output_dir, \"errores_goes.log\")\n",
    "        else:\n",
    "            graph_dir = \"data_graphs\"\n",
    "            os.makedirs(graph_dir, exist_ok=True)\n",
    "            log_file = \"errores_goes.log\"\n",
    "\n",
    "        # ===== Validar resolución =====\n",
    "        valid_resolutions = [\"flx1s\", \"avg1m\"]\n",
    "        if resolution not in valid_resolutions:\n",
    "            raise ValueError(f\"Resolución no válida. Usa una de: {valid_resolutions}\")\n",
    "\n",
    "        # ===== Buscar y descargar datos =====\n",
    "        print(f\"Buscando datos de: {start_time}\")\n",
    "        result = Fido.search(a.Time(start_time, end_time), a.Instrument.goes, a.Resolution(resolution))\n",
    "\n",
    "        if len(result[0]) == 0:\n",
    "            msg = f\"No hay datos GOES para {start_time} - {end_time}. Día saltado.\"\n",
    "            print(msg)\n",
    "            with open(log_file, \"a\") as f:\n",
    "                f.write(msg + \"\\n\")\n",
    "            return None, None  \n",
    "\n",
    "        print(f\"Descargando datos de {start_time}...\")\n",
    "        files = Fido.fetch(result)\n",
    "\n",
    "        if len(files) == 0:\n",
    "            msg = f\"No se descargaron archivos GOES para {start_time}. Día saltado.\"\n",
    "            print(msg)\n",
    "            with open(log_file, \"a\") as f:\n",
    "                f.write(msg + \"\\n\")\n",
    "            return None, None\n",
    "\n",
    "        # ===== Cargar datos en TimeSeries =====\n",
    "        try:\n",
    "            ts = TimeSeries(files[0], source=\"XRS\")\n",
    "        except Exception as e:\n",
    "            msg = f\"Error al abrir archivo GOES de {start_time}: {e}\"\n",
    "            print(msg)\n",
    "            with open(log_file, \"a\") as f:\n",
    "                f.write(msg + \"\\n\")\n",
    "            return None, None\n",
    "\n",
    "        # ===== Asegurar resolución 1 min =====\n",
    "        goes_ts = ensure_1min_resolution(ts)\n",
    "\n",
    "        # ===== Guardar gráfica =====\n",
    "        fig, ax = plt.subplots(figsize=(12,6))\n",
    "        goes_ts.plot(axes=ax)\n",
    "        safe_time = start_time.replace(':','-').replace(' ','_')\n",
    "        output_file = os.path.join(graph_dir, f\"GOES_{safe_time}.png\")\n",
    "        fig.savefig(output_file, dpi=150, bbox_inches=\"tight\")\n",
    "        plt.close(fig)\n",
    "        print(f\"Gráfica guardada en {output_file}\")\n",
    "\n",
    "        # ===== Extraer observatorio =====\n",
    "        try:\n",
    "            meta0 = goes_ts.meta.metas[0]\n",
    "            platform = meta0.get(\"platform\", \"g16\")\n",
    "            numero = int(\"\".join(filter(str.isdigit, platform)))\n",
    "            observatory = f\"GOES-{numero}\"\n",
    "        except Exception:\n",
    "            observatory = None\n",
    "        print(f\"Observatorio encontrado: {observatory}\")\n",
    "\n",
    "        return goes_ts, observatory\n",
    "\n",
    "    except Exception as e:\n",
    "        msg = f\"Error inesperado al descargar datos GOES de {start_time}: {e}\"\n",
    "        print(msg)\n",
    "        if block_dir is not None:\n",
    "            with open(log_file, \"a\") as f:\n",
    "                f.write(msg + \"\\n\")\n",
    "        return None, None  #  siempre devuelve una tupla\n",
    "    \n",
    "\n",
    "## 1.2. Truncar datos\n",
    "def Truncate_Data(goes_ts, flare_start_time, flare_end_time):\n",
    "    \n",
    "    \"\"\"\n",
    "    Entrada / Input:\n",
    "        goes_ts (TimeSeries): Objeto TimeSeries con los datos GOES completos.\n",
    "        flare_start_time (str): Tiempo de inicio de la fulguración (en formato compatible con SunPy).\n",
    "        flare_end_time (str): Tiempo de fin de la fulguración (en formato compatible con SunPy).\n",
    "\n",
    "    Salida / Output:\n",
    "        TimeSeries: Objeto TimeSeries con los datos recortados al intervalo de la fulguración.\n",
    "\n",
    "    Descripción / Description:\n",
    "        Esta función recorta un conjunto de datos GOES a un intervalo de tiempo específico\n",
    "        correspondiente al inicio y fin de una fulguración solar. Si el intervalo no contiene datos,\n",
    "        se lanza una excepción.\n",
    "\n",
    "        This function trims a GOES TimeSeries dataset to a specific time interval\n",
    "        corresponding to the start and end of a solar flare. If the interval contains no data,\n",
    "        an exception is raised.\n",
    "    \"\"\"\n",
    "\n",
    "    # Seleccionar el rango de interés / Select the time range of interest\n",
    "    goes_flare = goes_ts.truncate(flare_start_time, flare_end_time)\n",
    "\n",
    "    # Verificar si hay datos disponibles  / Check if data is available\n",
    "    if len(goes_flare.to_dataframe()) == 0:\n",
    "        raise ValueError(\"El rango de datos seleccionado está vacío. Revisa las fechas.\")\n",
    "        # The selected time range is empty. Please check the input times.\n",
    "\n",
    "    # Visualizar los datos truncados / Plot the trimmed data\n",
    "    goes_flare.peek()\n",
    "\n",
    "    return goes_flare\n",
    "\n",
    "## 2. Background (1)\n",
    "def running_difference(goes_ts, Dif_time=5, plot=False, block_dir=None, start_time=None):\n",
    "    \"\"\"\n",
    "    Calcula las diferencias de flujo de rayos X GOES a un intervalo definido (default 5 min).\n",
    "    \n",
    "    Parámetros\n",
    "    ----------\n",
    "    goes_ts : XRSTimeSeries\n",
    "        Serie temporal original de GOES.\n",
    "    Dif_time : int, optional\n",
    "        Intervalo de diferencia en número de pasos para restar flux (default=5).\n",
    "    plot : bool, optional\n",
    "        Si True, guarda gráficas comparativas original vs corregido.\n",
    "    block_dir : str, optional\n",
    "        Carpeta base donde guardar gráficas.\n",
    "    start_time : str, optional\n",
    "        Tiempo inicial usado para nombrar archivos.\n",
    "        \n",
    "    Retorna\n",
    "    -------\n",
    "    goes_diff_ts : XRSTimeSeries\n",
    "        Serie temporal corregida con las diferencias.\n",
    "    \"\"\"\n",
    "\n",
    "    import matplotlib.dates as mdates\n",
    "    from matplotlib.ticker import LogFormatterMathtext\n",
    "\n",
    "    # --- 1. Extraer datos ---\n",
    "    df = goes_ts.to_dataframe()\n",
    "    flux_xrsa = df[\"xrsa\"]\n",
    "    flux_xrsb = df[\"xrsb\"]\n",
    "    npts = len(df)\n",
    "\n",
    "    # --- 2. Calcular diferencias ---\n",
    "    diffa = np.array(flux_xrsa[Dif_time:]) - np.array(flux_xrsa[:npts - Dif_time])\n",
    "    diffb = np.array(flux_xrsb[Dif_time:]) - np.array(flux_xrsb[:npts - Dif_time])\n",
    "\n",
    "    # --- 3. Llenar arreglos completos ---\n",
    "    diffa_full = np.zeros(npts)\n",
    "    diffb_full = np.zeros(npts)\n",
    "    diffa_full[Dif_time:] = diffa\n",
    "    diffb_full[Dif_time:] = diffb\n",
    "\n",
    "    # --- 4. Crear DataFrame corregido ---\n",
    "    df_diff = pd.DataFrame({'xrsa': diffa_full, 'xrsb': diffb_full}, index=df.index)\n",
    "\n",
    "    # --- 5. Crear TimeSeries corregida ---\n",
    "    units = {'xrsa': u.W / u.m**2, 'xrsb': u.W / u.m**2}\n",
    "    goes_diff_ts = XRSTimeSeries(df_diff, units=units, meta=goes_ts.meta)\n",
    "\n",
    "    # --- 6. Función auxiliar para graficar ---\n",
    "    def save_plot(df_orig, df_corr, output_file, title=\"\", logscale=False, positive_only=False):\n",
    "        df_o, df_c = df_orig.copy(), df_corr.copy()\n",
    "        if positive_only:\n",
    "            df_o = df_o.clip(lower=1e-9)\n",
    "            df_c = df_c.clip(lower=1e-9)\n",
    "\n",
    "        fig, ax = plt.subplots(figsize=(12,6))\n",
    "        ax.plot(df_o.index, df_o['xrsa'], label='XRSA (original)', color='blue')\n",
    "        ax.plot(df_c.index, df_c['xrsa'], label='XRSA (corrected)', color='blue', linestyle='--')\n",
    "        ax.plot(df_o.index, df_o['xrsb'], label='XRSB (original)', color='red')\n",
    "        ax.plot(df_c.index, df_c['xrsb'], label='XRSB (corrected)', color='red', linestyle='--')\n",
    "\n",
    "        date_only = df_orig.index[0].strftime(\"%Y-%m-%d\")\n",
    "        ax.set_xlabel(f\"Time (UTC) — {date_only}\")\n",
    "        ax.set_ylabel(\"Flux [W/m²]\")\n",
    "        ax.set_title(title)\n",
    "        ax.legend()\n",
    "        ax.grid(True, which='both', ls='--', alpha=0.6)\n",
    "        ax.xaxis.set_major_formatter(mdates.DateFormatter('%H:%M'))\n",
    "\n",
    "        if logscale:\n",
    "            ax.set_yscale('log', base=10)\n",
    "            ax.yaxis.set_major_formatter(LogFormatterMathtext())\n",
    "\n",
    "        plt.tight_layout()\n",
    "        fig.savefig(output_file, dpi=150, bbox_inches=\"tight\")\n",
    "        plt.close(fig)\n",
    "        print(f\"Plot saved at: {output_file}\")\n",
    "\n",
    "    # --- 7. Guardar gráficas si plot=True ---\n",
    "    if plot and block_dir is not None and start_time is not None:\n",
    "        graph_dir = os.path.join(block_dir, \"data_graphs\")\n",
    "        os.makedirs(graph_dir, exist_ok=True)\n",
    "\n",
    "        safe_time = start_time.replace(':','-').replace(' ','_')\n",
    "        df_corr = df_diff\n",
    "\n",
    "        # Linear\n",
    "        save_plot(df, df_corr, os.path.join(graph_dir, f\"GOES_diff_linear_{safe_time}.png\"),\n",
    "                  title=f\"GOES Data Comparison (Δt={Dif_time} steps)\")\n",
    "\n",
    "        # Logarithmic\n",
    "        save_plot(df, df_corr, os.path.join(graph_dir, f\"GOES_diff_log_{safe_time}.png\"),\n",
    "                  title=f\"GOES Data Comparison (Δt={Dif_time} steps) [Log Y]\",\n",
    "                  logscale=True)\n",
    "\n",
    "        # Positive only\n",
    "        save_plot(df, df_corr, os.path.join(graph_dir, f\"GOES_diff_positive_{safe_time}.png\"),\n",
    "                  title=f\"GOES Data Comparison [Positive only, Log Y]\",\n",
    "                  logscale=True,\n",
    "                  positive_only=True)\n",
    "\n",
    "    return goes_diff_ts\n",
    "\n",
    "\n",
    "#####################################\n",
    "# 5. Temperatura y Emission Measure #\n",
    "#####################################\n",
    "\n",
    "## 5.1. Calcular la Temperatura y Medida de emisión con los datos corregidos (C1)\n",
    "#Calculate_Tem_EM(goes_flare_corrected, abundance='photospheric')\n",
    "#Calculate_Tem_EM(goes_flare_corrected, abundance='coronal')\n",
    "def Calculate_Tem_EM(goes_flare_corrected, abundance='coronal'):\n",
    "    \n",
    "    \"\"\"\n",
    "    Entrada / Input:\n",
    "        goes_flare_corrected: Objeto TimeSeries corregido que contiene los datos del flare solar en los\n",
    "        canales XRSA y XRSB. Debe ser compatible con la función `calculate_temperature_em` de SunPy.\n",
    "        abundance (str): Tipo de abundancia elemental a usar en el cálculo (por defecto: 'coronal').\n",
    "                         Otras opciones posibles incluyen 'photospheric', dependiendo del modelo de SunPy.\n",
    "\n",
    "    Salida / Output:\n",
    "        temp_em: Objeto que contiene la temperatura (T) y medida de emisión (EM) derivadas a partir de los\n",
    "        datos GOES corregidos.\n",
    "\n",
    "    Descripción / Description:\n",
    "        Esta función utiliza los datos corregidos del satélite GOES para calcular la temperatura del plasma\n",
    "        y la medida de emisión (EM) durante un evento de fulguración solar. Permite especificar el modelo\n",
    "        de abundancia elemental a utilizar en el cálculo.\n",
    "\n",
    "        This function uses corrected GOES data to compute the plasma temperature and emission measure (EM)\n",
    "        during a solar flare. It allows specifying the elemental abundance model to be used in the calculation.\n",
    "\n",
    "    Notas / Notes:\n",
    "        - Usa la función `calculate_temperature_em` de SunPy.\n",
    "        - El parámetro `abundance` controla el modelo de abundancias (por ejemplo, 'coronal' o 'photospheric').\n",
    "        - Se desactiva temporalmente la verificación del hash de calibración del instrumento.\n",
    "        - Los datos deben estar previamente corregidos y limpios.\n",
    "    \"\"\"\n",
    "\n",
    "    print(f'Ahora vamos a calcular la T y EM con el modelo de abundancias:{abundance}')\n",
    "    #  Saltar la verificación del hash temporalmente\n",
    "    with manager.skip_hash_check():\n",
    "        #temp_em = calculate_temperature_em(goes_flare_corrected, abundance='coronal')\n",
    "        temp_em = calculate_temperature_em(goes_flare_corrected, abundance)\n",
    "    \n",
    "    print(f'se calculó T y EM con el modelo de abundancias:{abundance}')\n",
    "    #print(temp_em)\n",
    "    return temp_em\n",
    "\n",
    "\n",
    "# mostrar un rango de datos de un TimeSeries\n",
    "def show_range_ts(ts, start_idx, end_idx, height=300):\n",
    "    df = ts.to_dataframe()\n",
    "    subdf = df.iloc[start_idx:end_idx]\n",
    "    display(HTML(f\"\"\"\n",
    "    <div style=\"height:{height}px; overflow:auto; border:1px solid #ccc; padding:10px\">\n",
    "        {subdf.to_html()}\n",
    "    </div>\n",
    "    \"\"\"))\n",
    "\n",
    "# Uso:\n",
    "#show_range_ts(goes_ts01, 0, 10)\n",
    "\n",
    "#####################################\n",
    "#     6. Calcula tiempos de FAI     #\n",
    "#####################################\n",
    "\n",
    "def calcular_fai_times(df, \n",
    "                       T_min=7, T_max=14, \n",
    "                       EM_threshold=0.005, \n",
    "                       col_T=\"T_cor\", \n",
    "                       col_EM=\"EM_cor_norm\"):\n",
    "    \"\"\"\n",
    "    Calcula los tiempos en los que se cumplen los criterios del índice FAI.\n",
    "    \"\"\"\n",
    "\n",
    "    # Copiar para no modificar el original\n",
    "    df_fai = df.copy()\n",
    "\n",
    "    # Condiciones del criterio FAI\n",
    "    fai_condition = (\n",
    "        (df_fai[col_T] >= T_min) & \n",
    "        (df_fai[col_T] <= T_max) & \n",
    "        (df_fai[col_EM] > EM_threshold)\n",
    "    )\n",
    "\n",
    "    # Selección\n",
    "    df_fai_selected = df_fai[fai_condition]\n",
    "    fai_times = df_fai_selected.index\n",
    "\n",
    "    # Mostrar los resultados como en tu código original\n",
    "    print(f\"Se encontraron {len(df_fai_selected)} puntos que cumplen el criterio FAI.\\n\")\n",
    "    print(df_fai_selected[[col_T, col_EM]].head())\n",
    "\n",
    "    return fai_times, df_fai_selected\n",
    "\n",
    "########################\n",
    "# 7. Descargar Flares #\n",
    "#######################\n",
    "\n",
    "# Configurar logging básico\n",
    "logging.basicConfig(level=logging.INFO, format='%(levelname)s: %(message)s')\n",
    "\n",
    "## 7.1. Descarga de datos de flares\n",
    "def get_flares(start_time, end_time, output_dir=None):\n",
    "    \"\"\"\n",
    "    Busca fulguraciones solares reportadas por GOES en el intervalo dado.\n",
    "    y guarda un log si no se encuentran flares o si hay errores.\n",
    "    \n",
    "    Parameters\n",
    "    ----------\n",
    "    start_time : str\n",
    "        Tiempo inicial (YYYY-MM-DD o compatible con SunPy).\n",
    "    end_time : str\n",
    "        Tiempo final (YYYY-MM-DD o compatible con SunPy).\n",
    "    log_file : str o None, opcional\n",
    "        Ruta del archivo .log donde guardar mensajes si no hay flares o hay errores.\n",
    "        Si es None, no se escribe log en disco (solo en consola).\n",
    "\n",
    "    \n",
    "    Returns\n",
    "    -------\n",
    "    pd.DataFrame or None\n",
    "        DataFrame con columnas ['StartTime', 'EndTime', 'Class', 'Observatory', 'PeakTime'] \n",
    "        o None si no se encontraron flares.\n",
    "    \"\"\"\n",
    "    try:\n",
    "        logging.info(f\"Searching for GOES flares between {start_time} and {end_time}...\")\n",
    "        result = Fido.search(a.Time(start_time, end_time), a.hek.FL, a.hek.OBS.Observatory == \"GOES\")\n",
    "\n",
    "        if not result or len(result) == 0 or len(result[0]) == 0:\n",
    "            msg = f\"No solar flares found between {start_time} and {end_time}.\"\n",
    "            logging.info(msg)\n",
    "            if output_dir is not None:\n",
    "                os.makedirs(output_dir, exist_ok=True)\n",
    "                log_path = os.path.join(output_dir, \"no_flares.log\")\n",
    "                with open(log_path, \"a\") as f:\n",
    "                    f.write(msg + \"\\n\")\n",
    "            return None\n",
    "\n",
    "        # Filtrar columnas 1D\n",
    "        names = [name for name in result[0].colnames if len(result[0][name].shape) <= 1]\n",
    "        table = result[0][names].to_pandas()\n",
    "\n",
    "        # Seleccionar columnas de interés\n",
    "        flare_data = table[[\n",
    "            \"event_starttime\",\n",
    "            \"event_endtime\",\n",
    "            \"fl_goescls\",\n",
    "            \"obs_observatory\",\n",
    "            \"event_peaktime\"\n",
    "        ]]\n",
    "\n",
    "        # Renombrar columnas\n",
    "        flare_data.columns = [\"StartTime\", \"EndTime\", \"Class\", \"Observatory\", \"PeakTime\"]\n",
    "\n",
    "        logging.info(f\"Found {len(flare_data)} GOES solar flares between {start_time} and {end_time}.\")\n",
    "        return flare_data\n",
    "\n",
    "    except Exception as e:\n",
    "        msg = f\"❌ Error retrieving flares between {start_time} and {end_time}: {e}\"\n",
    "        logging.error(msg)\n",
    "\n",
    "        if output_dir is not None:\n",
    "            os.makedirs(output_dir, exist_ok=True)\n",
    "            log_path = os.path.join(output_dir, \"no_flares.log\")\n",
    "            with open(log_path, \"a\") as f:\n",
    "                f.write(msg + \"\\n\")\n",
    "        return None\n",
    "    \n",
    "\n",
    "def build_full_dataframe(goes_ts, goes_corrected, temp_em_cor, temp_em_phot,\n",
    "                         clip_negative=True, normalize_em=False):\n",
    "    \"\"\"\n",
    "    Combina datos originales, corregidos y parámetros de temperatura/EM\n",
    "    en un solo DataFrame.\n",
    "\n",
    "    Parámetros\n",
    "    ----------\n",
    "    goes_ts : sunpy.timeseries.TimeSeries\n",
    "        Serie temporal GOES remuestreada (contiene 'xrsa', 'xrsb').\n",
    "    goes_corrected : sunpy.timeseries.TimeSeries\n",
    "        Serie temporal con GOES corregido (xrsa, xrsb corregidos).\n",
    "    temp_em_cor : sunpy.timeseries.TimeSeries\n",
    "        Serie temporal con temperatura y EM coronal.\n",
    "    temp_em_phot : sunpy.timeseries.TimeSeries\n",
    "        Serie temporal con temperatura y EM fotosférica.\n",
    "    clip_negative : bool, opcional\n",
    "        Si True, reemplaza valores negativos con NaN (en lugar de 0).\n",
    "    normalize_em : bool, opcional\n",
    "        Si True, normaliza EM a unidades de 1e49 cm^-3.\n",
    "\n",
    "    Retorna\n",
    "    -------\n",
    "    pd.DataFrame\n",
    "        DataFrame combinado con todas las columnas.\n",
    "    \"\"\"\n",
    "\n",
    "    # Originales\n",
    "    df_original = goes_ts.to_dataframe()[['xrsa', 'xrsb']]\n",
    "\n",
    "    # Corregidos\n",
    "    df_corr = goes_corrected.to_dataframe().rename(\n",
    "        columns={'xrsa': 'xrsa_corr', 'xrsb': 'xrsb_corr'}\n",
    "    )\n",
    "\n",
    "    # Coronal\n",
    "    df_cor = temp_em_cor.to_dataframe()[['temperature', 'emission_measure']].rename(\n",
    "        columns={'temperature': 'T_cor', 'emission_measure': 'EM_cor'}\n",
    "    )\n",
    "\n",
    "    # Fotosférica\n",
    "    df_phot = temp_em_phot.to_dataframe()[['temperature', 'emission_measure']].rename(\n",
    "        columns={'temperature': 'T_phot', 'emission_measure': 'EM_phot'}\n",
    "    )\n",
    "\n",
    "    # Combinar todo\n",
    "    df_full = pd.concat([df_original, df_corr, df_cor, df_phot], axis=1)\n",
    "\n",
    "    # Opcional: reemplazar valores negativos\n",
    "    if clip_negative:\n",
    "        df_full = df_full.mask(df_full < 0, np.nan)   # ahora quedan NaN y no 0\n",
    "\n",
    "    # Opcional: normalizar EM\n",
    "    if normalize_em:\n",
    "        df_full['EM_cor_norm'] = df_full['EM_cor'] / 1e49\n",
    "        df_full['EM_phot_norm'] = df_full['EM_phot'] / 1e49\n",
    "\n",
    "    return df_full\n",
    "\n",
    "\n",
    "# agrupa por clases de flares en 2 grupos por clase\n",
    "def assign_flare_group(flare_class):\n",
    "    \"\"\"\n",
    "    Asigna un grupo a un flare según su clase y subnivel.\n",
    "    \n",
    "    Ejemplos:\n",
    "    - C3.0 → C1-4\n",
    "    - C7.5 → C5-9\n",
    "    - X2.0 → X1-4\n",
    "    - X7.0 → X5+\n",
    "    \"\"\"\n",
    "    group_ranges = {\n",
    "        \"A\": [(1, 4), (5, 9)],\n",
    "        \"B\": [(1, 4), (5, 9)],\n",
    "        \"C\": [(1, 4), (5, 9)],\n",
    "        \"M\": [(1, 4), (5, 9)],\n",
    "        \"X\": [(1, 4), (5, 1000)]  # 1000 actúa como \"infinito\"\n",
    "    }\n",
    "\n",
    "    try:\n",
    "        letter = flare_class[0]  # A, B, C, M, X\n",
    "        number = float(flare_class[1:])  # acepta decimales, ej: \"2.7\" → 2.7\n",
    "    except:\n",
    "        return flare_class  # si algo raro viene en el CSV\n",
    "\n",
    "    if letter not in group_ranges:\n",
    "        return flare_class\n",
    "\n",
    "    for (low, high) in group_ranges[letter]:\n",
    "        if low <= number <= high:\n",
    "            if high >= 1000:  # caso abierto (ej: X5+)\n",
    "                return f\"{letter}{low}+\"\n",
    "            return f\"{letter}{low}-{high}\"\n",
    "    \n",
    "    return flare_class\n",
    "\n",
    "\n",
    "#######################\n",
    "### cuenta los días ###\n",
    "#######################\n",
    "\n",
    "def count_days(start_date, end_date):\n",
    "    \"\"\"\n",
    "    Counts the number of days between two dates.\n",
    "\n",
    "    Parameters:\n",
    "    - start_date (str): Start date in 'YYYY-MM-DD' format\n",
    "    - end_date (str): End date in 'YYYY-MM-DD' format\n",
    "\n",
    "    Returns:\n",
    "    - int: Number of days between start_date and end_date\n",
    "    \"\"\"\n",
    "    # Convert the strings to datetime objects\n",
    "    start = datetime.strptime(start_date, \"%Y-%m-%d\")\n",
    "    end = datetime.strptime(end_date, \"%Y-%m-%d\")\n",
    "    \n",
    "    # Calculate the difference\n",
    "    difference = end - start\n",
    "    \n",
    "    return difference.days\n",
    "\n",
    "# Example usage\n",
    "#days = count_days(\"1980-01-05\", \"2025-08-20\")\n",
    "#print(f\"Days between the dates: {days}\")\n",
    "\n",
    "# Dataframe con todas las fechas\n",
    "def all_dates_dataframe(start_date, end_date):\n",
    "    \"\"\"\n",
    "    Crea un DataFrame con todas las fechas entre start_date y end_date (inclusive).\n",
    "\n",
    "    Parámetros:\n",
    "    - start_date (str): Fecha inicial en formato 'YYYY-MM-DD'\n",
    "    - end_date (str): Fecha final en formato 'YYYY-MM-DD'\n",
    "\n",
    "    Retorna:\n",
    "    - pd.DataFrame con columnas ['start_time', 'end_time']\n",
    "    \"\"\"\n",
    "    # Convertir a objetos datetime\n",
    "    start = datetime.strptime(start_date, \"%Y-%m-%d\")\n",
    "    end = datetime.strptime(end_date, \"%Y-%m-%d\")\n",
    "    \n",
    "    # Generar todas las fechas día a día\n",
    "    all_days = [start + timedelta(days=i) for i in range((end - start).days + 1)]\n",
    "    \n",
    "    # Crear DataFrame\n",
    "    data = {\n",
    "        \"start_time\": [d.strftime(\"%Y-%m-%d 00:00:00\") for d in all_days],\n",
    "        \"end_time\":   [d.strftime(\"%Y-%m-%d 23:59:00\") for d in all_days]\n",
    "    }\n",
    "    return pd.DataFrame(data)\n",
    "\n",
    "#############################################\n",
    "# elige los días cada cierto paso según     #\n",
    "# el número de días que quiera analizar (n) #\n",
    "#############################################\n",
    "\n",
    "def select_dates(start_date, end_date, n=10):\n",
    "    \"\"\"\n",
    "    Selects n dates evenly spaced between start_date and end_date.\n",
    "\n",
    "    Parameters:\n",
    "    - start_date (str): Start date in 'YYYY-MM-DD' format\n",
    "    - end_date (str): End date in 'YYYY-MM-DD' format\n",
    "    - n (int): Number of dates to select (default 10)\n",
    "\n",
    "    Returns:\n",
    "    - list of str: List of dates in 'YYYY-MM-DD' format\n",
    "    \"\"\"\n",
    "    # Convert strings to datetime objects\n",
    "    start = datetime.strptime(start_date, \"%Y-%m-%d\")\n",
    "    end = datetime.strptime(end_date, \"%Y-%m-%d\")\n",
    "    \n",
    "    # Calculate total number of days\n",
    "    total_days = (end - start).days\n",
    "    \n",
    "    # Calculate integer step\n",
    "    #step = total_days // (n - 1)  # n-1 intervals for n dates\n",
    "    \n",
    "    if n < 2:\n",
    "        return [start_date]\n",
    "\n",
    "    # step aproximado al entero más cercano\n",
    "    step = max(1, int(round(total_days / (n - 1))))\n",
    "    print(step)\n",
    "    # Generate the dates\n",
    "    dates = [start + timedelta(days=i*step) for i in range(n)]\n",
    "    print(len(dates))\n",
    "    # Convert to strings\n",
    "    return [d.strftime(\"%Y-%m-%d\") for d in dates]\n",
    "\n",
    "\n",
    "# guarda los datos seleccionados segun el paso en un df\n",
    "def dates_to_dataframe(dates_list):\n",
    "    \"\"\"\n",
    "    Converts a list of dates into a DataFrame with start_time and end_time.\n",
    "\n",
    "    Parameters:\n",
    "    - dates_list (list of str): List of dates in 'YYYY-MM-DD' format\n",
    "\n",
    "    Returns:\n",
    "    - pd.DataFrame: DataFrame with columns ['start_time', 'end_time']\n",
    "    \"\"\"\n",
    "    data = {\n",
    "        \"start_time\": [f\"{date} 00:00:00\" for date in dates_list],\n",
    "        \"end_time\":   [f\"{date} 23:59:00\" for date in dates_list]\n",
    "    }\n",
    "    return pd.DataFrame(data)\n",
    "\n",
    "\n",
    "# Divide un dateframen en lotes:\n",
    "def chunk_dataframe(df, chunk_size=20):\n",
    "    \"\"\"\n",
    "    Divide un DataFrame en bloques (chunks) de tamaño chunk_size.\n",
    "    Devuelve una lista de DataFrames.\n",
    "    \"\"\"\n",
    "    return [df.iloc[i:i + chunk_size] for i in range(0, len(df), chunk_size)]\n",
    "\n",
    "# unir todos los bloques al final\n",
    "def combine_blocks(output_dir, pattern, final_name, time_column=None):\n",
    "    \"\"\"\n",
    "    Une todos los CSV de bloques en un único archivo final, manteniendo resolución de 1 min.\n",
    "    Si los CSV tienen la primera columna como fecha sin nombre, se renombra como 'date'.\n",
    "    \"\"\"\n",
    "    import os, glob, pandas as pd\n",
    "\n",
    "    # Buscar todos los CSV que coincidan con el patrón (también dentro de subcarpetas)\n",
    "    files = sorted(glob.glob(os.path.join(output_dir, \"**\", f\"*{pattern}*.csv\"), recursive=True))\n",
    "    output_file = os.path.join(output_dir, final_name)\n",
    "\n",
    "    # Evitar incluir el archivo combinado si ya existe\n",
    "    files = [f for f in files if os.path.abspath(f) != os.path.abspath(output_file)]\n",
    "\n",
    "    if not files:\n",
    "        print(f\"No se encontraron archivos con patrón {pattern}\")\n",
    "        return\n",
    "\n",
    "    df_list = []\n",
    "    for f in files:\n",
    "        df = pd.read_csv(f)\n",
    "        # Si la primera columna no tiene nombre o se llama 'Unnamed: 0', la renombramos como 'date'\n",
    "        first_col = df.columns[0]\n",
    "        if first_col.startswith(\"Unnamed\") or first_col == \"\":\n",
    "            df.rename(columns={first_col: \"date\"}, inplace=True)\n",
    "        df_list.append(df)\n",
    "\n",
    "    combined = pd.concat(df_list, ignore_index=True)\n",
    "\n",
    "    # Si no se especifica columna de tiempo, usamos la primera (ya llamada 'date')\n",
    "    if time_column is None:\n",
    "        time_column = combined.columns[0]\n",
    "\n",
    "    # Convertir a datetime y ordenar\n",
    "    combined[time_column] = pd.to_datetime(combined[time_column], errors=\"coerce\")\n",
    "    combined = combined.sort_values(by=time_column).reset_index(drop=True)\n",
    "\n",
    "    # 🔹 Eliminar duplicados exactos (mismo timestamp)\n",
    "    combined = combined.drop_duplicates(subset=[time_column])\n",
    "\n",
    "    # 🔹 Verificar resolución de 1 min\n",
    "    diffs = combined[time_column].diff().dropna()\n",
    "    if (diffs.dt.total_seconds() == 60).all():\n",
    "        print(\"⏱️ Resolución consistente de 1 minuto.\")\n",
    "    else:\n",
    "        print(\"⚠️ Hay diferencias en la resolución temporal (no todos los pasos son 1 min).\")\n",
    "\n",
    "    # Guardar resultado final\n",
    "    combined.to_csv(output_file, index=False)\n",
    "    print(f\"✅ {final_name} creado con {len(combined)} filas (desde {len(files)} archivos).\")\n",
    "    return combined\n",
    "\n",
    "# Example usage\n",
    "#dates_list = select_dates(\"1980-01-05\", \"2025-08-20\", n=10)\n",
    "#df_intervals = dates_to_dataframe(dates_list)\n",
    "\n",
    "#print(df_intervals)"
   ]
  },
  {
   "cell_type": "markdown",
   "id": "c7ca9657",
   "metadata": {},
   "source": [
    "# Función completa"
   ]
  },
  {
   "cell_type": "code",
   "execution_count": 3,
   "id": "a4076d13",
   "metadata": {},
   "outputs": [],
   "source": [
    "def download_goes_flare_data(start_time, end_time, \n",
    "                      resolution=\"avg1m\",  #resolución de descarga de los datos GOES (1min)\n",
    "                      Dif_time=5,            #Difference time Δt (for background)\n",
    "                      plot_diff=True,\n",
    "                      output_dir=None):\n",
    "    \"\"\"\n",
    "    Pipeline completo para análisis de datos GOES y cálculo de FAI y anticipación.\n",
    "\n",
    "    Parámetros:\n",
    "    -----------\n",
    "    start_time : str\n",
    "        Tiempo inicial (ej: \"2017-09-06 12:00:00\")\n",
    "    end_time : str\n",
    "        Tiempo final (ej: \"2017-09-06 12:15:00\")\n",
    "    resolution : str, opcional\n",
    "        Resolución de datos GOES, default \"avg1m\". Opciones: [\"flx1s\", \"avg1m\"]\n",
    "    Dif_time : int, opcional\n",
    "        Ventana en pasos para calcular diferencias (default 5).\n",
    "    plot_diff : bool, opcional\n",
    "        Si True, grafica las diferencias calculadas.\n",
    "    \n",
    "    Retorna:\n",
    "    --------\n",
    "    dict con:\n",
    "        - df_full : DataFrame con todos los cálculos\n",
    "        - df_flare_data : DataFrame de flares GOES en el intervalo\n",
    "    \"\"\"\n",
    "\n",
    "    # 1. Descargar datos GOES\n",
    "    print(\"1. Descargar datos GOES\")\n",
    "    data = Download_Data(start_time, end_time, resolution, log_file=\"errores_goes.log\", output_dir=output_dir)\n",
    "    # para días sin datos GOES\n",
    "    if data is None:\n",
    "        print(f\"No hay datos GOES para {start_time} - {end_time}. Día saltado.\\n\")\n",
    "        return None\n",
    "    else:\n",
    "        print(f\"Se encontraron datos  GOES para {start_time} - {end_time}. Día saltado.\\n\")\n",
    "        goes_ts, observatory = data\n",
    "        # Convertir TimeSeries a DataFrame para inspección\n",
    "        df_goes = goes_ts.to_dataframe()\n",
    "\n",
    "        # Número de registros\n",
    "        print(f\"Número de registros: {len(df_goes)}\")\n",
    "\n",
    "        # Columnas disponibles\n",
    "        print(f\"Columnas disponibles: {list(df_goes.columns)}\")\n",
    "        \n",
    "    print(\"2. Restar Background\")\n",
    "    # 2. Calcular diferencias\n",
    "    goes_ts_corrected_diff = running_difference(goes_ts, Dif_time=Dif_time, plot=plot_diff, block_dir=output_dir, start_time=start_time)\n",
    "                            \n",
    "\n",
    "    # 3. Calcular T y EM (coronal y fotosférico)\n",
    "    print(\"3. USAR FUNCIÓN SUNPY calculate_t_em\")\n",
    "    temp_em_cor = Calculate_Tem_EM(goes_ts_corrected_diff, abundance='coronal')\n",
    "    temp_em_phot = Calculate_Tem_EM(goes_ts_corrected_diff, abundance='photospheric')\n",
    "\n",
    "    print(\"4. CONSTRUIR df_full\")\n",
    "    # 4. Construir dataframe completo\n",
    "    df_full = build_full_dataframe(goes_ts, goes_ts_corrected_diff, temp_em_cor, temp_em_phot,\n",
    "                         clip_negative=True, normalize_em=True)\n",
    "\n",
    "    print(f\"5. añadiendo observatorio: GOES: {observatory}\")\n",
    "    # 5. Añadir columna del observatorio\n",
    "    df_full[\"observatory\"] = observatory\n",
    "    # Reemplazar NaN por \"Unknown\"\n",
    "    df_full[\"observatory\"] = df_full[\"observatory\"].fillna(\"Unknown\")\n",
    "    # Mover \"observatory\" al inicio\n",
    "    cols = [\"observatory\"] + [col for col in df_full.columns if col != \"observatory\"]\n",
    "    df_full = df_full[cols]\n",
    "    #print(df_full)\n",
    "    print(f\"se añadió observatorio: GOES: {observatory}\")\n",
    "\n",
    "    #print(f\"6. Normalizando EM\")\n",
    "    # 6. Normalizar EM\n",
    "    #df_full['EM_cor_norm'] = df_full['EM_cor'] / 1e49\n",
    "    #df_full['EM_phot_norm'] = df_full['EM_phot'] / 1e49\n",
    "    \n",
    "    print(f\"6. Descargando flares: {start_time} - {end_time}\")\n",
    "    # 6. Descargar flares\n",
    "    flare_data = get_flares(start_time, end_time, output_dir=output_dir)\n",
    "    \n",
    "    #verifica si encontró flares para el día\n",
    "    if flare_data is None:\n",
    "        print(f\"No se encontraron flares para el intervalo {start_time} - {end_time}. Saltando...\")\n",
    "        # Crear DataFrames vacíos para todos los resultados que dependen de flares\n",
    "        df_flare_data = pd.DataFrame()\n",
    "    \n",
    "        \n",
    "        # Retornar diccionario con flares vacíos\n",
    "        return {\n",
    "            \"df_full\": df_full,\n",
    "            \"df_flare_data\": df_flare_data,\n",
    "        }\n",
    "    \n",
    "\n",
    "    # Si flare_data no es None continúa\n",
    "    print(f\"Se descargaron flares para el intervalo {start_time} - {end_time}.\")\n",
    "    df_flare_data = flare_data[\n",
    "        flare_data['Class'].notna() & \n",
    "        (flare_data['Class'].str.strip() != \"\") &\n",
    "        (flare_data['Observatory'] == \"GOES\")\n",
    "    ]\n",
    "    print(f\"7. Se filtraron solo flares de GOES.\")\n",
    "      \n",
    "\n",
    "    # Retornar todo como dict\n",
    "    return {\n",
    "        \"df_full\": df_full,\n",
    "        \"df_flare_data\": df_flare_data,\n",
    "    }"
   ]
  },
  {
   "cell_type": "markdown",
   "id": "1f52cae5",
   "metadata": {},
   "source": [
    "# lista de fechas desde CSV"
   ]
  },
  {
   "cell_type": "code",
   "execution_count": 4,
   "id": "cc3fd541",
   "metadata": {},
   "outputs": [
    {
     "name": "stdout",
     "output_type": "stream",
     "text": [
      "  start_time   end_time\n",
      "0 2000-06-06 2000-06-07\n",
      "1 2000-06-07 2000-06-08\n",
      "2 2000-06-18 2000-06-19\n",
      "3 2000-07-11 2000-07-12\n",
      "4 2000-07-12 2000-07-13\n",
      "Total de fechas cargadas: 185\n"
     ]
    }
   ],
   "source": [
    "# Leer lista de fechas desde CSV\n",
    "csv_path = \"2025-10-24_Download_for_specific_days/Specific_days.csv\"\n",
    "df_fechas = pd.read_csv(csv_path)\n",
    "# Asegurar que la columna se llame \"date\" y sea datetime\n",
    "df_fechas[\"date\"] = pd.to_datetime(df_fechas[\"date\"])\n",
    "df_days = pd.DataFrame({\n",
    "    \"start_time\": df_fechas[\"date\"],\n",
    "    \"end_time\": df_fechas[\"date\"] + pd.Timedelta(days=1)\n",
    "})\n",
    "print(df_days.head())\n",
    "print(f\"Total de fechas cargadas: {len(df_days)}\")"
   ]
  },
  {
   "cell_type": "markdown",
   "id": "27ab5bd2",
   "metadata": {},
   "source": [
    "# NUeva carperta"
   ]
  },
  {
   "cell_type": "code",
   "execution_count": 5,
   "id": "bf3ed5b5",
   "metadata": {},
   "outputs": [
    {
     "name": "stdout",
     "output_type": "stream",
     "text": [
      "⚠️ La carpeta principal ya existía: 2025-10-24_Download_for_specific_days\n",
      "⚠️ La subcarpeta ya existía: 2025-10-24_Download_for_specific_days/Data\n"
     ]
    }
   ],
   "source": [
    "# Obtener la fecha actual\n",
    "fecha_actual = datetime.now().strftime(\"%Y-%m-%d\")\n",
    "\n",
    "# Nombre de la carpeta principal\n",
    "output_dir = f\"{fecha_actual}_Download_for_specific_days\"\n",
    "\n",
    "# Crear carpeta principal (si no existe) y mostrar mensaje\n",
    "if os.path.exists(output_dir):\n",
    "    print(f\"⚠️ La carpeta principal ya existía: {output_dir}\")\n",
    "else:\n",
    "    os.makedirs(output_dir, exist_ok=True)\n",
    "    print(f\"📁 Carpeta principal creada: {output_dir}\")\n",
    "\n",
    "# Crear subcarpeta dentro de la principal\n",
    "subfolder = os.path.join(output_dir, \"Data\")\n",
    "\n",
    "# Crear subcarpeta (si no existe) y mostrar mensaje\n",
    "if os.path.exists(subfolder):\n",
    "    print(f\"⚠️ La subcarpeta ya existía: {subfolder}\")\n",
    "else:\n",
    "    os.makedirs(subfolder, exist_ok=True)\n",
    "    print(f\"📂 Subcarpeta creada: {subfolder}\")"
   ]
  },
  {
   "cell_type": "markdown",
   "id": "175dd59a",
   "metadata": {},
   "source": [
    "# correr función completa para dias en csv"
   ]
  },
  {
   "cell_type": "code",
   "execution_count": 6,
   "id": "9c146b9e",
   "metadata": {},
   "outputs": [],
   "source": [
    "# función para procesar y guardar datos por mes (días específicos)\n",
    "def process_goes_by_month_specific_days(df_days, output_dir):\n",
    "    \"\"\"\n",
    "    Procesa los datos GOES para días específicos agrupando por mes.\n",
    "\n",
    "    Crea una carpeta por mes (YYYY_MM) dentro de output_dir,\n",
    "    y guarda los CSV 'df_full' y 'df_flare_data' para cada mes.\n",
    "\n",
    "    Parámetros:\n",
    "    - df_days: DataFrame con columna ['date'] con los días a descargar\n",
    "    - output_dir: ruta base donde se guardarán los resultados\n",
    "    \"\"\"\n",
    "    import os\n",
    "    import pandas as pd\n",
    "    import sys\n",
    "\n",
    "    # Asegurar que la columna de fecha es tipo datetime\n",
    "    df_days[\"date\"] = pd.to_datetime(df_days[\"date\"])\n",
    "    df_days[\"start_time\"] = df_days[\"date\"]\n",
    "    df_days[\"end_time\"]   = df_days[\"start_time\"] + pd.Timedelta(days=1)\n",
    "\n",
    "    # Crear columna auxiliar con el mes en formato YYYY_MM\n",
    "    df_days[\"month\"] = df_days[\"start_time\"].dt.strftime(\"%Y_%m\")\n",
    "\n",
    "    total_days = len(df_days)\n",
    "    print(f\"\\n📅 Total de días a descargar: {total_days}\")\n",
    "\n",
    "    day_counter = 0  # contador de progreso\n",
    "\n",
    "    # Agrupar por mes\n",
    "    for month, df_month in df_days.groupby(\"month\"):\n",
    "        print(\"\\n\" + \"=\"*40)\n",
    "        print(f\"🟦 Procesando mes {month} ({len(df_month)} días)\")\n",
    "        print(\"=\"*40)\n",
    "\n",
    "        # Carpeta para este mes\n",
    "        month_dir = os.path.join(output_dir, f\"Month_{month}\")\n",
    "        os.makedirs(month_dir, exist_ok=True)\n",
    "\n",
    "        # Archivos esperados\n",
    "        file_full_month  = os.path.join(month_dir, f\"df_full_{month}.csv\")\n",
    "        file_flare_month = os.path.join(month_dir, f\"df_flare_data_{month}.csv\")\n",
    "\n",
    "        # Leer archivos existentes si hay\n",
    "        if os.path.exists(file_full_month):\n",
    "            existing_full = pd.read_csv(file_full_month)\n",
    "\n",
    "            # Asegurar que exista columna 'date'\n",
    "            first_col = existing_full.columns[0]\n",
    "            if first_col.startswith(\"Unnamed\") or first_col == \"\":\n",
    "                existing_full.rename(columns={first_col: \"date\"}, inplace=True)\n",
    "            if 'date' not in existing_full.columns:\n",
    "                existing_full.insert(0, 'date', pd.NaT)\n",
    "            existing_full['date'] = pd.to_datetime(existing_full['date'], errors='coerce')\n",
    "            downloaded_days = existing_full['date'].dt.date.dropna().unique()\n",
    "        else:\n",
    "            existing_full = pd.DataFrame(columns=['date'])\n",
    "            downloaded_days = []\n",
    "\n",
    "        if os.path.exists(file_flare_month):\n",
    "            existing_flares = pd.read_csv(file_flare_month)\n",
    "            if 'StartTime' not in existing_flares.columns:\n",
    "                first_col = existing_flares.columns[0]\n",
    "                if first_col.startswith(\"Unnamed\") or first_col == \"\":\n",
    "                    existing_flares.rename(columns={first_col: \"StartTime\"}, inplace=True)\n",
    "                else:\n",
    "                    existing_flares['StartTime'] = pd.to_datetime(existing_flares[first_col], errors='coerce')\n",
    "            existing_flares['StartTime'] = pd.to_datetime(existing_flares['StartTime'], errors='coerce')\n",
    "        else:\n",
    "            existing_flares = pd.DataFrame(columns=['StartTime'])\n",
    "\n",
    "        # Filtrar días que faltan\n",
    "        df_month_to_download = df_month[~df_month['start_time'].dt.date.isin(downloaded_days)]\n",
    "\n",
    "        # Guardar días ya existentes\n",
    "        already_downloaded = df_month['start_time'].dt.date[df_month['start_time'].dt.date.isin(downloaded_days)].tolist()\n",
    "        if already_downloaded:\n",
    "            print(f\"⚠️ Días ya descargados y saltados: {already_downloaded}\")\n",
    "\n",
    "        if df_month_to_download.empty:\n",
    "            print(f\"⚠️ Todos los días del mes {month} ya fueron descargados. Saltando...\")\n",
    "            continue\n",
    "\n",
    "        list_df_full = []\n",
    "        list_df_flare_data = []\n",
    "\n",
    "        # Procesar cada día\n",
    "        for idx, row in df_month_to_download.iterrows():\n",
    "            start_time = row[\"start_time\"].strftime(\"%Y-%m-%d %H:%M:%S\")\n",
    "            end_time   = row[\"end_time\"].strftime(\"%Y-%m-%d %H:%M:%S\")\n",
    "            date_str   = row[\"start_time\"].strftime(\"%Y-%m-%d\")\n",
    "            day_counter += 1\n",
    "            print(f\"Día {day_counter} de {total_days}: {date_str}\", file=sys.stderr)\n",
    "\n",
    "            try:\n",
    "                results = download_goes_flare_data(\n",
    "                    start_time, end_time,\n",
    "                    resolution=\"avg1m\",\n",
    "                    Dif_time=5,\n",
    "                    plot_diff=True,\n",
    "                    output_dir=month_dir\n",
    "                )\n",
    "            except Exception as e:\n",
    "                print(f\"❌ Error en {date_str}: {e}\", file=sys.stderr)\n",
    "                continue\n",
    "\n",
    "            if results is None:\n",
    "                print(f\"⚠️ Sin resultados para {date_str}\", file=sys.stderr)\n",
    "                continue\n",
    "\n",
    "            df_full = results[\"df_full\"]\n",
    "            df_flare_data = results[\"df_flare_data\"]\n",
    "\n",
    "            # Asegurarse de que df_full tenga columna 'date'\n",
    "            if 'date' not in df_full.columns:\n",
    "                if isinstance(df_full.index, pd.DatetimeIndex):\n",
    "                    df_full = df_full.reset_index().rename(columns={'index': 'date'})\n",
    "                else:\n",
    "                    df_full.insert(0, 'date', row[\"start_time\"])\n",
    "\n",
    "            if not df_full.empty:\n",
    "                list_df_full.append(df_full)\n",
    "            if not df_flare_data.empty:\n",
    "                list_df_flare_data.append(df_flare_data)\n",
    "\n",
    "        # Guardar resultados del mes concatenando con existentes\n",
    "        if list_df_full:\n",
    "            df_full_to_save = pd.concat([existing_full] + list_df_full, ignore_index=True) if not existing_full.empty else pd.concat(list_df_full, ignore_index=True)\n",
    "            # Asegurarse que la columna 'date' sea la primera\n",
    "            cols = df_full_to_save.columns.tolist()\n",
    "            if 'date' in cols:\n",
    "                cols.insert(0, cols.pop(cols.index('date')))\n",
    "            df_full_to_save = df_full_to_save[cols]\n",
    "\n",
    "            df_full_to_save.to_csv(file_full_month, index=False)\n",
    "            new_downloaded = df_month_to_download['start_time'].dt.date.tolist()\n",
    "            print(f\"💾 df_full_{month}.csv actualizado ({len(df_full_to_save)} filas)\")\n",
    "            print(f\"✅ Días descargados este mes: {new_downloaded}\")\n",
    "        elif existing_full.empty:\n",
    "            pd.DataFrame(columns=['date']).to_csv(file_full_month, index=False)\n",
    "            print(f\"ℹ️ df_full_{month}.csv vacío\")\n",
    "\n",
    "        if list_df_flare_data:\n",
    "            df_flares_to_save = pd.concat([existing_flares] + list_df_flare_data, ignore_index=True) if not existing_flares.empty else pd.concat(list_df_flare_data, ignore_index=True)\n",
    "            df_flares_to_save.to_csv(file_flare_month, index=False)\n",
    "            print(f\"💾 df_flare_data_{month}.csv actualizado ({len(df_flares_to_save)} filas)\")\n",
    "        elif existing_flares.empty:\n",
    "            pd.DataFrame(columns=['StartTime']).to_csv(file_flare_month, index=False)\n",
    "            print(f\"ℹ️ df_flare_data_{month}.csv vacío\")\n",
    "\n",
    "        print(f\"🏁 Mes {month} terminado → {month_dir}\")\n",
    "\n"
   ]
  },
  {
   "cell_type": "markdown",
   "id": "aa61c312",
   "metadata": {},
   "source": [
    "# corre todo"
   ]
  },
  {
   "cell_type": "code",
   "execution_count": 7,
   "id": "6d327582",
   "metadata": {},
   "outputs": [
    {
     "name": "stdout",
     "output_type": "stream",
     "text": [
      "\n",
      "📅 Total de días a descargar: 185\n",
      "\n",
      "========================================\n",
      "🟦 Procesando mes 2000_06 (3 días)\n",
      "========================================\n",
      "⚠️ Días ya descargados y saltados: [datetime.date(2000, 6, 6), datetime.date(2000, 6, 18)]\n",
      "1. Descargar datos GOES\n",
      "Buscando datos de: 2000-06-07 00:00:00\n"
     ]
    },
    {
     "name": "stderr",
     "output_type": "stream",
     "text": [
      "Día 1 de 185: 2000-06-07\n"
     ]
    },
    {
     "name": "stdout",
     "output_type": "stream",
     "text": [
      "Descargando datos de 2000-06-07 00:00:00...\n"
     ]
    },
    {
     "name": "stderr",
     "output_type": "stream",
     "text": [
      "Files Downloaded: 100%|██████████| 3/3 [00:00<00:00,  6.09file/s]\n",
      "WARNING: SunpyUserWarning: Unknown units for xrsa [sunpy.timeseries.timeseriesbase]\n",
      "2025-10-24 14:53:29 - sunpy - WARNING: SunpyUserWarning: Unknown units for xrsa\n",
      "WARNING: SunpyUserWarning: Unknown units for xrsb [sunpy.timeseries.timeseriesbase]\n",
      "2025-10-24 14:53:29 - sunpy - WARNING: SunpyUserWarning: Unknown units for xrsb\n"
     ]
    },
    {
     "name": "stdout",
     "output_type": "stream",
     "text": [
      "Resolution detected: 3.00 s → resampling at 1 min\n",
      "Gráfica guardada en 2025-10-24_Download_for_specific_days/Data/Month_2000_06/data_graphs/GOES_2000-06-07_00-00-00.png\n",
      "Observatorio encontrado: GOES-16\n",
      "Se encontraron datos  GOES para 2000-06-07 00:00:00 - 2000-06-08 00:00:00. Día saltado.\n",
      "\n",
      "Número de registros: 1440\n",
      "Columnas disponibles: ['xrsa', 'xrsb']\n",
      "2. Restar Background\n",
      "Plot saved at: 2025-10-24_Download_for_specific_days/Data/Month_2000_06/data_graphs/GOES_diff_linear_2000-06-07_00-00-00.png\n",
      "Plot saved at: 2025-10-24_Download_for_specific_days/Data/Month_2000_06/data_graphs/GOES_diff_log_2000-06-07_00-00-00.png\n",
      "Plot saved at: 2025-10-24_Download_for_specific_days/Data/Month_2000_06/data_graphs/GOES_diff_positive_2000-06-07_00-00-00.png\n",
      "3. USAR FUNCIÓN SUNPY calculate_t_em\n",
      "Ahora vamos a calcular la T y EM con el modelo de abundancias:coronal\n"
     ]
    },
    {
     "name": "stderr",
     "output_type": "stream",
     "text": [
      "Files Downloaded: 100%|██████████| 1/1 [00:00<00:00,  1.09file/s]\n",
      "/home/pjgonzalesp/miniforge3/envs/sunpy/lib/python3.13/site-packages/astropy/units/quantity.py:659: RuntimeWarning: invalid value encountered in divide\n",
      "  result = super().__array_ufunc__(function, method, *arrays, **kwargs)\n"
     ]
    },
    {
     "name": "stdout",
     "output_type": "stream",
     "text": [
      "se calculó T y EM con el modelo de abundancias:coronal\n",
      "Ahora vamos a calcular la T y EM con el modelo de abundancias:photospheric\n"
     ]
    },
    {
     "name": "stderr",
     "output_type": "stream",
     "text": [
      "Files Downloaded: 100%|██████████| 1/1 [00:00<00:00,  1.24file/s]\n",
      "2025-10-24 14:53:34 - root - INFO: Searching for GOES flares between 2000-06-07 00:00:00 and 2000-06-08 00:00:00...\n"
     ]
    },
    {
     "name": "stdout",
     "output_type": "stream",
     "text": [
      "se calculó T y EM con el modelo de abundancias:photospheric\n",
      "4. CONSTRUIR df_full\n",
      "5. añadiendo observatorio: GOES: GOES-16\n",
      "se añadió observatorio: GOES: GOES-16\n",
      "6. Descargando flares: 2000-06-07 00:00:00 - 2000-06-08 00:00:00\n"
     ]
    },
    {
     "name": "stderr",
     "output_type": "stream",
     "text": [
      "2025-10-24 14:53:38 - root - INFO: Found 7 GOES solar flares between 2000-06-07 00:00:00 and 2000-06-08 00:00:00.\n"
     ]
    },
    {
     "name": "stdout",
     "output_type": "stream",
     "text": [
      "Se descargaron flares para el intervalo 2000-06-07 00:00:00 - 2000-06-08 00:00:00.\n",
      "7. Se filtraron solo flares de GOES.\n",
      "💾 df_full_2000_06.csv actualizado (5760 filas)\n",
      "✅ Días descargados este mes: [datetime.date(2000, 6, 7)]\n",
      "💾 df_flare_data_2000_06.csv actualizado (27 filas)\n",
      "🏁 Mes 2000_06 terminado → 2025-10-24_Download_for_specific_days/Data/Month_2000_06\n",
      "\n",
      "========================================\n",
      "🟦 Procesando mes 2000_07 (3 días)\n",
      "========================================\n",
      "⚠️ Días ya descargados y saltados: [datetime.date(2000, 7, 11), datetime.date(2000, 7, 12), datetime.date(2000, 7, 14)]\n",
      "⚠️ Todos los días del mes 2000_07 ya fueron descargados. Saltando...\n",
      "\n",
      "========================================\n",
      "🟦 Procesando mes 2000_09 (1 días)\n",
      "========================================\n",
      "⚠️ Días ya descargados y saltados: [datetime.date(2000, 9, 30)]\n",
      "⚠️ Todos los días del mes 2000_09 ya fueron descargados. Saltando...\n",
      "\n",
      "========================================\n",
      "🟦 Procesando mes 2000_11 (3 días)\n",
      "========================================\n",
      "⚠️ Días ya descargados y saltados: [datetime.date(2000, 11, 24), datetime.date(2000, 11, 25), datetime.date(2000, 11, 26)]\n",
      "⚠️ Todos los días del mes 2000_11 ya fueron descargados. Saltando...\n",
      "\n",
      "========================================\n",
      "🟦 Procesando mes 2001_03 (1 días)\n",
      "========================================\n",
      "⚠️ Días ya descargados y saltados: [datetime.date(2001, 3, 29)]\n",
      "⚠️ Todos los días del mes 2001_03 ya fueron descargados. Saltando...\n",
      "\n",
      "========================================\n",
      "🟦 Procesando mes 2001_04 (6 días)\n",
      "========================================\n",
      "⚠️ Días ya descargados y saltados: [datetime.date(2001, 4, 2), datetime.date(2001, 4, 3), datetime.date(2001, 4, 6), datetime.date(2001, 4, 10), datetime.date(2001, 4, 12), datetime.date(2001, 4, 15)]\n",
      "⚠️ Todos los días del mes 2001_04 ya fueron descargados. Saltando...\n",
      "\n",
      "========================================\n",
      "🟦 Procesando mes 2001_06 (1 días)\n",
      "========================================\n",
      "⚠️ Días ya descargados y saltados: [datetime.date(2001, 6, 23)]\n",
      "⚠️ Todos los días del mes 2001_06 ya fueron descargados. Saltando...\n",
      "\n",
      "========================================\n",
      "🟦 Procesando mes 2001_08 (1 días)\n",
      "========================================\n",
      "⚠️ Días ya descargados y saltados: [datetime.date(2001, 8, 25)]\n",
      "⚠️ Todos los días del mes 2001_08 ya fueron descargados. Saltando...\n",
      "\n",
      "========================================\n",
      "🟦 Procesando mes 2001_09 (1 días)\n",
      "========================================\n",
      "⚠️ Días ya descargados y saltados: [datetime.date(2001, 9, 24)]\n",
      "⚠️ Todos los días del mes 2001_09 ya fueron descargados. Saltando...\n",
      "\n",
      "========================================\n",
      "🟦 Procesando mes 2001_10 (3 días)\n",
      "========================================\n",
      "⚠️ Días ya descargados y saltados: [datetime.date(2001, 10, 19), datetime.date(2001, 10, 22), datetime.date(2001, 10, 25)]\n",
      "⚠️ Todos los días del mes 2001_10 ya fueron descargados. Saltando...\n",
      "\n",
      "========================================\n",
      "🟦 Procesando mes 2001_11 (2 días)\n",
      "========================================\n",
      "⚠️ Días ya descargados y saltados: [datetime.date(2001, 11, 4), datetime.date(2001, 11, 25)]\n",
      "⚠️ Todos los días del mes 2001_11 ya fueron descargados. Saltando...\n",
      "\n",
      "========================================\n",
      "🟦 Procesando mes 2001_12 (3 días)\n",
      "========================================\n",
      "⚠️ Días ya descargados y saltados: [datetime.date(2001, 12, 11), datetime.date(2001, 12, 13), datetime.date(2001, 12, 28)]\n",
      "⚠️ Todos los días del mes 2001_12 ya fueron descargados. Saltando...\n",
      "\n",
      "========================================\n",
      "🟦 Procesando mes 2002_04 (1 días)\n",
      "========================================\n",
      "⚠️ Días ya descargados y saltados: [datetime.date(2002, 4, 21)]\n",
      "⚠️ Todos los días del mes 2002_04 ya fueron descargados. Saltando...\n",
      "\n",
      "========================================\n",
      "🟦 Procesando mes 2002_05 (1 días)\n",
      "========================================\n",
      "⚠️ Días ya descargados y saltados: [datetime.date(2002, 5, 20)]\n",
      "⚠️ Todos los días del mes 2002_05 ya fueron descargados. Saltando...\n",
      "\n",
      "========================================\n",
      "🟦 Procesando mes 2002_07 (5 días)\n",
      "========================================\n",
      "⚠️ Días ya descargados y saltados: [datetime.date(2002, 7, 3), datetime.date(2002, 7, 15), datetime.date(2002, 7, 18), datetime.date(2002, 7, 20), datetime.date(2002, 7, 23)]\n",
      "⚠️ Todos los días del mes 2002_07 ya fueron descargados. Saltando...\n",
      "\n",
      "========================================\n",
      "🟦 Procesando mes 2002_08 (4 días)\n",
      "========================================\n",
      "1. Descargar datos GOES\n",
      "Buscando datos de: 2002-08-03 00:00:00\n"
     ]
    },
    {
     "name": "stderr",
     "output_type": "stream",
     "text": [
      "Día 2 de 185: 2002-08-03\n"
     ]
    },
    {
     "name": "stdout",
     "output_type": "stream",
     "text": [
      "Descargando datos de 2002-08-03 00:00:00...\n"
     ]
    },
    {
     "name": "stderr",
     "output_type": "stream",
     "text": [
      "Files Downloaded: 100%|██████████| 2/2 [00:00<00:00,  3.47file/s]\n"
     ]
    },
    {
     "name": "stdout",
     "output_type": "stream",
     "text": [
      "Resolution = 1 minute\n",
      "Gráfica guardada en 2025-10-24_Download_for_specific_days/Data/Month_2002_08/data_graphs/GOES_2002-08-03_00-00-00.png\n",
      "Observatorio encontrado: GOES-10\n",
      "Se encontraron datos  GOES para 2002-08-03 00:00:00 - 2002-08-04 00:00:00. Día saltado.\n",
      "\n",
      "Número de registros: 1440\n",
      "Columnas disponibles: ['xrsa', 'xrsb', 'xrsa_quality', 'xrsb_quality']\n",
      "2. Restar Background\n",
      "Plot saved at: 2025-10-24_Download_for_specific_days/Data/Month_2002_08/data_graphs/GOES_diff_linear_2002-08-03_00-00-00.png\n",
      "Plot saved at: 2025-10-24_Download_for_specific_days/Data/Month_2002_08/data_graphs/GOES_diff_log_2002-08-03_00-00-00.png\n"
     ]
    },
    {
     "name": "stderr",
     "output_type": "stream",
     "text": [
      "/tmp/ipykernel_2397830/750897493.py:225: FutureWarning: Downcasting behavior in Series and DataFrame methods 'where', 'mask', and 'clip' is deprecated. In a future version this will not infer object dtypes or cast all-round floats to integers. Instead call result.infer_objects(copy=False) for object inference, or cast round floats explicitly. To opt-in to the future behavior, set `pd.set_option('future.no_silent_downcasting', True)`\n",
      "  df_o = df_o.clip(lower=1e-9)\n"
     ]
    },
    {
     "name": "stdout",
     "output_type": "stream",
     "text": [
      "Plot saved at: 2025-10-24_Download_for_specific_days/Data/Month_2002_08/data_graphs/GOES_diff_positive_2002-08-03_00-00-00.png\n",
      "3. USAR FUNCIÓN SUNPY calculate_t_em\n",
      "Ahora vamos a calcular la T y EM con el modelo de abundancias:coronal\n"
     ]
    },
    {
     "name": "stderr",
     "output_type": "stream",
     "text": [
      "Files Downloaded: 100%|██████████| 1/1 [00:00<00:00,  1.18file/s]\n",
      "/home/pjgonzalesp/miniforge3/envs/sunpy/lib/python3.13/site-packages/astropy/units/quantity.py:659: RuntimeWarning: invalid value encountered in divide\n",
      "  result = super().__array_ufunc__(function, method, *arrays, **kwargs)\n"
     ]
    },
    {
     "name": "stdout",
     "output_type": "stream",
     "text": [
      "se calculó T y EM con el modelo de abundancias:coronal\n",
      "Ahora vamos a calcular la T y EM con el modelo de abundancias:photospheric\n"
     ]
    },
    {
     "name": "stderr",
     "output_type": "stream",
     "text": [
      "Files Downloaded: 100%|██████████| 1/1 [00:00<00:00,  1.16file/s]\n",
      "2025-10-24 14:53:53 - root - INFO: Searching for GOES flares between 2002-08-03 00:00:00 and 2002-08-04 00:00:00...\n"
     ]
    },
    {
     "name": "stdout",
     "output_type": "stream",
     "text": [
      "se calculó T y EM con el modelo de abundancias:photospheric\n",
      "4. CONSTRUIR df_full\n",
      "5. añadiendo observatorio: GOES: GOES-10\n",
      "se añadió observatorio: GOES: GOES-10\n",
      "6. Descargando flares: 2002-08-03 00:00:00 - 2002-08-04 00:00:00\n"
     ]
    },
    {
     "name": "stderr",
     "output_type": "stream",
     "text": [
      "2025-10-24 14:53:56 - root - INFO: Found 13 GOES solar flares between 2002-08-03 00:00:00 and 2002-08-04 00:00:00.\n",
      "Día 3 de 185: 2002-08-21\n"
     ]
    },
    {
     "name": "stdout",
     "output_type": "stream",
     "text": [
      "Se descargaron flares para el intervalo 2002-08-03 00:00:00 - 2002-08-04 00:00:00.\n",
      "7. Se filtraron solo flares de GOES.\n",
      "1. Descargar datos GOES\n",
      "Buscando datos de: 2002-08-21 00:00:00\n",
      "Descargando datos de 2002-08-21 00:00:00...\n"
     ]
    },
    {
     "name": "stderr",
     "output_type": "stream",
     "text": [
      "Files Downloaded: 100%|██████████| 2/2 [00:00<00:00,  3.47file/s]\n"
     ]
    },
    {
     "name": "stdout",
     "output_type": "stream",
     "text": [
      "Resolution = 1 minute\n",
      "Gráfica guardada en 2025-10-24_Download_for_specific_days/Data/Month_2002_08/data_graphs/GOES_2002-08-21_00-00-00.png\n",
      "Observatorio encontrado: GOES-10\n",
      "Se encontraron datos  GOES para 2002-08-21 00:00:00 - 2002-08-22 00:00:00. Día saltado.\n",
      "\n",
      "Número de registros: 1440\n",
      "Columnas disponibles: ['xrsa', 'xrsb', 'xrsa_quality', 'xrsb_quality']\n",
      "2. Restar Background\n",
      "Plot saved at: 2025-10-24_Download_for_specific_days/Data/Month_2002_08/data_graphs/GOES_diff_linear_2002-08-21_00-00-00.png\n",
      "Plot saved at: 2025-10-24_Download_for_specific_days/Data/Month_2002_08/data_graphs/GOES_diff_log_2002-08-21_00-00-00.png\n"
     ]
    },
    {
     "name": "stderr",
     "output_type": "stream",
     "text": [
      "/tmp/ipykernel_2397830/750897493.py:225: FutureWarning: Downcasting behavior in Series and DataFrame methods 'where', 'mask', and 'clip' is deprecated. In a future version this will not infer object dtypes or cast all-round floats to integers. Instead call result.infer_objects(copy=False) for object inference, or cast round floats explicitly. To opt-in to the future behavior, set `pd.set_option('future.no_silent_downcasting', True)`\n",
      "  df_o = df_o.clip(lower=1e-9)\n"
     ]
    },
    {
     "name": "stdout",
     "output_type": "stream",
     "text": [
      "Plot saved at: 2025-10-24_Download_for_specific_days/Data/Month_2002_08/data_graphs/GOES_diff_positive_2002-08-21_00-00-00.png\n",
      "3. USAR FUNCIÓN SUNPY calculate_t_em\n",
      "Ahora vamos a calcular la T y EM con el modelo de abundancias:coronal\n"
     ]
    },
    {
     "name": "stderr",
     "output_type": "stream",
     "text": [
      "Files Downloaded: 100%|██████████| 1/1 [00:00<00:00,  1.23file/s]\n",
      "/home/pjgonzalesp/miniforge3/envs/sunpy/lib/python3.13/site-packages/astropy/units/quantity.py:659: RuntimeWarning: invalid value encountered in divide\n",
      "  result = super().__array_ufunc__(function, method, *arrays, **kwargs)\n"
     ]
    },
    {
     "name": "stdout",
     "output_type": "stream",
     "text": [
      "se calculó T y EM con el modelo de abundancias:coronal\n",
      "Ahora vamos a calcular la T y EM con el modelo de abundancias:photospheric\n"
     ]
    },
    {
     "name": "stderr",
     "output_type": "stream",
     "text": [
      "Files Downloaded:   0%|          | 0/1 [00:00<?, ?file/s]Exception ignored in: <function BaseEventLoop.__del__ at 0x7f20fad47420>\n",
      "Traceback (most recent call last):\n",
      "  File \"/home/pjgonzalesp/miniforge3/envs/sunpy/lib/python3.13/asyncio/base_events.py\", line 766, in __del__\n",
      "    self.close()\n",
      "  File \"/home/pjgonzalesp/miniforge3/envs/sunpy/lib/python3.13/asyncio/unix_events.py\", line 73, in close\n",
      "    self.remove_signal_handler(sig)\n",
      "  File \"/home/pjgonzalesp/miniforge3/envs/sunpy/lib/python3.13/asyncio/unix_events.py\", line 162, in remove_signal_handler\n",
      "    signal.signal(sig, handler)\n",
      "  File \"/home/pjgonzalesp/miniforge3/envs/sunpy/lib/python3.13/signal.py\", line 58, in signal\n",
      "    handler = _signal.signal(_enum_to_int(signalnum), _enum_to_int(handler))\n",
      "ValueError: signal only works in main thread of the main interpreter\n",
      "Files Downloaded: 100%|██████████| 1/1 [00:00<00:00,  1.24file/s]\n",
      "2025-10-24 14:54:11 - root - INFO: Searching for GOES flares between 2002-08-21 00:00:00 and 2002-08-22 00:00:00...\n"
     ]
    },
    {
     "name": "stdout",
     "output_type": "stream",
     "text": [
      "se calculó T y EM con el modelo de abundancias:photospheric\n",
      "4. CONSTRUIR df_full\n",
      "5. añadiendo observatorio: GOES: GOES-10\n",
      "se añadió observatorio: GOES: GOES-10\n",
      "6. Descargando flares: 2002-08-21 00:00:00 - 2002-08-22 00:00:00\n"
     ]
    },
    {
     "name": "stderr",
     "output_type": "stream",
     "text": [
      "2025-10-24 14:54:14 - root - INFO: Found 14 GOES solar flares between 2002-08-21 00:00:00 and 2002-08-22 00:00:00.\n",
      "Día 4 de 185: 2002-08-24\n"
     ]
    },
    {
     "name": "stdout",
     "output_type": "stream",
     "text": [
      "Se descargaron flares para el intervalo 2002-08-21 00:00:00 - 2002-08-22 00:00:00.\n",
      "7. Se filtraron solo flares de GOES.\n",
      "1. Descargar datos GOES\n",
      "Buscando datos de: 2002-08-24 00:00:00\n",
      "Descargando datos de 2002-08-24 00:00:00...\n"
     ]
    },
    {
     "name": "stderr",
     "output_type": "stream",
     "text": [
      "Files Downloaded: 100%|██████████| 2/2 [00:00<00:00,  3.47file/s]\n"
     ]
    },
    {
     "name": "stdout",
     "output_type": "stream",
     "text": [
      "Resolution = 1 minute\n",
      "Gráfica guardada en 2025-10-24_Download_for_specific_days/Data/Month_2002_08/data_graphs/GOES_2002-08-24_00-00-00.png\n",
      "Observatorio encontrado: GOES-10\n",
      "Se encontraron datos  GOES para 2002-08-24 00:00:00 - 2002-08-25 00:00:00. Día saltado.\n",
      "\n",
      "Número de registros: 1440\n",
      "Columnas disponibles: ['xrsa', 'xrsb', 'xrsa_quality', 'xrsb_quality']\n",
      "2. Restar Background\n",
      "Plot saved at: 2025-10-24_Download_for_specific_days/Data/Month_2002_08/data_graphs/GOES_diff_linear_2002-08-24_00-00-00.png\n",
      "Plot saved at: 2025-10-24_Download_for_specific_days/Data/Month_2002_08/data_graphs/GOES_diff_log_2002-08-24_00-00-00.png\n"
     ]
    },
    {
     "name": "stderr",
     "output_type": "stream",
     "text": [
      "/tmp/ipykernel_2397830/750897493.py:225: FutureWarning: Downcasting behavior in Series and DataFrame methods 'where', 'mask', and 'clip' is deprecated. In a future version this will not infer object dtypes or cast all-round floats to integers. Instead call result.infer_objects(copy=False) for object inference, or cast round floats explicitly. To opt-in to the future behavior, set `pd.set_option('future.no_silent_downcasting', True)`\n",
      "  df_o = df_o.clip(lower=1e-9)\n"
     ]
    },
    {
     "name": "stdout",
     "output_type": "stream",
     "text": [
      "Plot saved at: 2025-10-24_Download_for_specific_days/Data/Month_2002_08/data_graphs/GOES_diff_positive_2002-08-24_00-00-00.png\n",
      "3. USAR FUNCIÓN SUNPY calculate_t_em\n",
      "Ahora vamos a calcular la T y EM con el modelo de abundancias:coronal\n"
     ]
    },
    {
     "name": "stderr",
     "output_type": "stream",
     "text": [
      "Files Downloaded: 100%|██████████| 1/1 [00:00<00:00,  1.24file/s]\n",
      "/home/pjgonzalesp/miniforge3/envs/sunpy/lib/python3.13/site-packages/astropy/units/quantity.py:659: RuntimeWarning: invalid value encountered in divide\n",
      "  result = super().__array_ufunc__(function, method, *arrays, **kwargs)\n"
     ]
    },
    {
     "name": "stdout",
     "output_type": "stream",
     "text": [
      "se calculó T y EM con el modelo de abundancias:coronal\n",
      "Ahora vamos a calcular la T y EM con el modelo de abundancias:photospheric\n"
     ]
    },
    {
     "name": "stderr",
     "output_type": "stream",
     "text": [
      "Files Downloaded: 100%|██████████| 1/1 [00:00<00:00,  1.24file/s]\n",
      "2025-10-24 14:54:28 - root - INFO: Searching for GOES flares between 2002-08-24 00:00:00 and 2002-08-25 00:00:00...\n"
     ]
    },
    {
     "name": "stdout",
     "output_type": "stream",
     "text": [
      "se calculó T y EM con el modelo de abundancias:photospheric\n",
      "4. CONSTRUIR df_full\n",
      "5. añadiendo observatorio: GOES: GOES-10\n",
      "se añadió observatorio: GOES: GOES-10\n",
      "6. Descargando flares: 2002-08-24 00:00:00 - 2002-08-25 00:00:00\n"
     ]
    },
    {
     "name": "stderr",
     "output_type": "stream",
     "text": [
      "2025-10-24 14:54:30 - root - INFO: Found 8 GOES solar flares between 2002-08-24 00:00:00 and 2002-08-25 00:00:00.\n",
      "Día 5 de 185: 2002-08-30\n"
     ]
    },
    {
     "name": "stdout",
     "output_type": "stream",
     "text": [
      "Se descargaron flares para el intervalo 2002-08-24 00:00:00 - 2002-08-25 00:00:00.\n",
      "7. Se filtraron solo flares de GOES.\n",
      "1. Descargar datos GOES\n",
      "Buscando datos de: 2002-08-30 00:00:00\n",
      "Descargando datos de 2002-08-30 00:00:00...\n"
     ]
    },
    {
     "name": "stderr",
     "output_type": "stream",
     "text": [
      "Files Downloaded: 100%|██████████| 2/2 [00:00<00:00,  3.43file/s]\n"
     ]
    },
    {
     "name": "stdout",
     "output_type": "stream",
     "text": [
      "Resolution = 1 minute\n",
      "Gráfica guardada en 2025-10-24_Download_for_specific_days/Data/Month_2002_08/data_graphs/GOES_2002-08-30_00-00-00.png\n",
      "Observatorio encontrado: GOES-10\n",
      "Se encontraron datos  GOES para 2002-08-30 00:00:00 - 2002-08-31 00:00:00. Día saltado.\n",
      "\n",
      "Número de registros: 1440\n",
      "Columnas disponibles: ['xrsa', 'xrsb', 'xrsa_quality', 'xrsb_quality']\n",
      "2. Restar Background\n",
      "Plot saved at: 2025-10-24_Download_for_specific_days/Data/Month_2002_08/data_graphs/GOES_diff_linear_2002-08-30_00-00-00.png\n",
      "Plot saved at: 2025-10-24_Download_for_specific_days/Data/Month_2002_08/data_graphs/GOES_diff_log_2002-08-30_00-00-00.png\n"
     ]
    },
    {
     "name": "stderr",
     "output_type": "stream",
     "text": [
      "/tmp/ipykernel_2397830/750897493.py:225: FutureWarning: Downcasting behavior in Series and DataFrame methods 'where', 'mask', and 'clip' is deprecated. In a future version this will not infer object dtypes or cast all-round floats to integers. Instead call result.infer_objects(copy=False) for object inference, or cast round floats explicitly. To opt-in to the future behavior, set `pd.set_option('future.no_silent_downcasting', True)`\n",
      "  df_o = df_o.clip(lower=1e-9)\n"
     ]
    },
    {
     "name": "stdout",
     "output_type": "stream",
     "text": [
      "Plot saved at: 2025-10-24_Download_for_specific_days/Data/Month_2002_08/data_graphs/GOES_diff_positive_2002-08-30_00-00-00.png\n",
      "3. USAR FUNCIÓN SUNPY calculate_t_em\n",
      "Ahora vamos a calcular la T y EM con el modelo de abundancias:coronal\n"
     ]
    },
    {
     "name": "stderr",
     "output_type": "stream",
     "text": [
      "Files Downloaded: 100%|██████████| 1/1 [00:00<00:00,  1.24file/s]\n",
      "/home/pjgonzalesp/miniforge3/envs/sunpy/lib/python3.13/site-packages/astropy/units/quantity.py:659: RuntimeWarning: invalid value encountered in divide\n",
      "  result = super().__array_ufunc__(function, method, *arrays, **kwargs)\n"
     ]
    },
    {
     "name": "stdout",
     "output_type": "stream",
     "text": [
      "se calculó T y EM con el modelo de abundancias:coronal\n",
      "Ahora vamos a calcular la T y EM con el modelo de abundancias:photospheric\n"
     ]
    },
    {
     "name": "stderr",
     "output_type": "stream",
     "text": [
      "Files Downloaded: 100%|██████████| 1/1 [00:00<00:00,  1.10file/s]\n",
      "2025-10-24 14:54:45 - root - INFO: Searching for GOES flares between 2002-08-30 00:00:00 and 2002-08-31 00:00:00...\n"
     ]
    },
    {
     "name": "stdout",
     "output_type": "stream",
     "text": [
      "se calculó T y EM con el modelo de abundancias:photospheric\n",
      "4. CONSTRUIR df_full\n",
      "5. añadiendo observatorio: GOES: GOES-10\n",
      "se añadió observatorio: GOES: GOES-10\n",
      "6. Descargando flares: 2002-08-30 00:00:00 - 2002-08-31 00:00:00\n"
     ]
    },
    {
     "name": "stderr",
     "output_type": "stream",
     "text": [
      "2025-10-24 14:54:48 - root - INFO: Found 11 GOES solar flares between 2002-08-30 00:00:00 and 2002-08-31 00:00:00.\n",
      "Día 6 de 185: 2002-10-31\n"
     ]
    },
    {
     "name": "stdout",
     "output_type": "stream",
     "text": [
      "Se descargaron flares para el intervalo 2002-08-30 00:00:00 - 2002-08-31 00:00:00.\n",
      "7. Se filtraron solo flares de GOES.\n",
      "💾 df_full_2002_08.csv actualizado (5760 filas)\n",
      "✅ Días descargados este mes: [datetime.date(2002, 8, 3), datetime.date(2002, 8, 21), datetime.date(2002, 8, 24), datetime.date(2002, 8, 30)]\n",
      "💾 df_flare_data_2002_08.csv actualizado (46 filas)\n",
      "🏁 Mes 2002_08 terminado → 2025-10-24_Download_for_specific_days/Data/Month_2002_08\n",
      "\n",
      "========================================\n",
      "🟦 Procesando mes 2002_10 (1 días)\n",
      "========================================\n",
      "1. Descargar datos GOES\n",
      "Buscando datos de: 2002-10-31 00:00:00\n",
      "Descargando datos de 2002-10-31 00:00:00...\n"
     ]
    },
    {
     "name": "stderr",
     "output_type": "stream",
     "text": [
      "Files Downloaded: 100%|██████████| 2/2 [00:00<00:00,  3.45file/s]\n"
     ]
    },
    {
     "name": "stdout",
     "output_type": "stream",
     "text": [
      "Resolution = 1 minute\n",
      "Gráfica guardada en 2025-10-24_Download_for_specific_days/Data/Month_2002_10/data_graphs/GOES_2002-10-31_00-00-00.png\n",
      "Observatorio encontrado: GOES-10\n",
      "Se encontraron datos  GOES para 2002-10-31 00:00:00 - 2002-11-01 00:00:00. Día saltado.\n",
      "\n",
      "Número de registros: 1440\n",
      "Columnas disponibles: ['xrsa', 'xrsb', 'xrsa_quality', 'xrsb_quality']\n",
      "2. Restar Background\n",
      "Plot saved at: 2025-10-24_Download_for_specific_days/Data/Month_2002_10/data_graphs/GOES_diff_linear_2002-10-31_00-00-00.png\n",
      "Plot saved at: 2025-10-24_Download_for_specific_days/Data/Month_2002_10/data_graphs/GOES_diff_log_2002-10-31_00-00-00.png\n"
     ]
    },
    {
     "name": "stderr",
     "output_type": "stream",
     "text": [
      "/tmp/ipykernel_2397830/750897493.py:225: FutureWarning: Downcasting behavior in Series and DataFrame methods 'where', 'mask', and 'clip' is deprecated. In a future version this will not infer object dtypes or cast all-round floats to integers. Instead call result.infer_objects(copy=False) for object inference, or cast round floats explicitly. To opt-in to the future behavior, set `pd.set_option('future.no_silent_downcasting', True)`\n",
      "  df_o = df_o.clip(lower=1e-9)\n"
     ]
    },
    {
     "name": "stdout",
     "output_type": "stream",
     "text": [
      "Plot saved at: 2025-10-24_Download_for_specific_days/Data/Month_2002_10/data_graphs/GOES_diff_positive_2002-10-31_00-00-00.png\n",
      "3. USAR FUNCIÓN SUNPY calculate_t_em\n",
      "Ahora vamos a calcular la T y EM con el modelo de abundancias:coronal\n"
     ]
    },
    {
     "name": "stderr",
     "output_type": "stream",
     "text": [
      "Files Downloaded: 100%|██████████| 1/1 [00:01<00:00,  1.04s/file]\n",
      "/home/pjgonzalesp/miniforge3/envs/sunpy/lib/python3.13/site-packages/astropy/units/quantity.py:659: RuntimeWarning: invalid value encountered in divide\n",
      "  result = super().__array_ufunc__(function, method, *arrays, **kwargs)\n"
     ]
    },
    {
     "name": "stdout",
     "output_type": "stream",
     "text": [
      "se calculó T y EM con el modelo de abundancias:coronal\n",
      "Ahora vamos a calcular la T y EM con el modelo de abundancias:photospheric\n"
     ]
    },
    {
     "name": "stderr",
     "output_type": "stream",
     "text": [
      "Files Downloaded:   0%|          | 0/1 [00:00<?, ?file/s]Exception ignored in: <function BaseEventLoop.__del__ at 0x7f20fad47420>\n",
      "Traceback (most recent call last):\n",
      "  File \"/home/pjgonzalesp/miniforge3/envs/sunpy/lib/python3.13/asyncio/base_events.py\", line 766, in __del__\n",
      "    self.close()\n",
      "  File \"/home/pjgonzalesp/miniforge3/envs/sunpy/lib/python3.13/asyncio/unix_events.py\", line 73, in close\n",
      "    self.remove_signal_handler(sig)\n",
      "  File \"/home/pjgonzalesp/miniforge3/envs/sunpy/lib/python3.13/asyncio/unix_events.py\", line 162, in remove_signal_handler\n",
      "    signal.signal(sig, handler)\n",
      "  File \"/home/pjgonzalesp/miniforge3/envs/sunpy/lib/python3.13/signal.py\", line 58, in signal\n",
      "    handler = _signal.signal(_enum_to_int(signalnum), _enum_to_int(handler))\n",
      "ValueError: signal only works in main thread of the main interpreter\n",
      "Files Downloaded: 100%|██████████| 1/1 [00:00<00:00,  1.24file/s]\n",
      "2025-10-24 14:55:07 - root - INFO: Searching for GOES flares between 2002-10-31 00:00:00 and 2002-11-01 00:00:00...\n"
     ]
    },
    {
     "name": "stdout",
     "output_type": "stream",
     "text": [
      "se calculó T y EM con el modelo de abundancias:photospheric\n",
      "4. CONSTRUIR df_full\n",
      "5. añadiendo observatorio: GOES: GOES-10\n",
      "se añadió observatorio: GOES: GOES-10\n",
      "6. Descargando flares: 2002-10-31 00:00:00 - 2002-11-01 00:00:00\n"
     ]
    },
    {
     "name": "stderr",
     "output_type": "stream",
     "text": [
      "2025-10-24 14:55:10 - root - INFO: Found 9 GOES solar flares between 2002-10-31 00:00:00 and 2002-11-01 00:00:00.\n",
      "Día 7 de 185: 2003-03-17\n"
     ]
    },
    {
     "name": "stdout",
     "output_type": "stream",
     "text": [
      "Se descargaron flares para el intervalo 2002-10-31 00:00:00 - 2002-11-01 00:00:00.\n",
      "7. Se filtraron solo flares de GOES.\n",
      "💾 df_full_2002_10.csv actualizado (1440 filas)\n",
      "✅ Días descargados este mes: [datetime.date(2002, 10, 31)]\n",
      "💾 df_flare_data_2002_10.csv actualizado (9 filas)\n",
      "🏁 Mes 2002_10 terminado → 2025-10-24_Download_for_specific_days/Data/Month_2002_10\n",
      "\n",
      "========================================\n",
      "🟦 Procesando mes 2003_03 (2 días)\n",
      "========================================\n",
      "1. Descargar datos GOES\n",
      "Buscando datos de: 2003-03-17 00:00:00\n",
      "Descargando datos de 2003-03-17 00:00:00...\n"
     ]
    },
    {
     "name": "stderr",
     "output_type": "stream",
     "text": [
      "Files Downloaded: 100%|██████████| 4/4 [00:00<00:00,  6.79file/s]\n"
     ]
    },
    {
     "name": "stdout",
     "output_type": "stream",
     "text": [
      "Resolution = 1 minute\n",
      "Gráfica guardada en 2025-10-24_Download_for_specific_days/Data/Month_2003_03/data_graphs/GOES_2003-03-17_00-00-00.png\n",
      "Observatorio encontrado: GOES-10\n",
      "Se encontraron datos  GOES para 2003-03-17 00:00:00 - 2003-03-18 00:00:00. Día saltado.\n",
      "\n",
      "Número de registros: 1440\n",
      "Columnas disponibles: ['xrsa', 'xrsb', 'xrsa_quality', 'xrsb_quality']\n",
      "2. Restar Background\n",
      "Plot saved at: 2025-10-24_Download_for_specific_days/Data/Month_2003_03/data_graphs/GOES_diff_linear_2003-03-17_00-00-00.png\n",
      "Plot saved at: 2025-10-24_Download_for_specific_days/Data/Month_2003_03/data_graphs/GOES_diff_log_2003-03-17_00-00-00.png\n"
     ]
    },
    {
     "name": "stderr",
     "output_type": "stream",
     "text": [
      "/tmp/ipykernel_2397830/750897493.py:225: FutureWarning: Downcasting behavior in Series and DataFrame methods 'where', 'mask', and 'clip' is deprecated. In a future version this will not infer object dtypes or cast all-round floats to integers. Instead call result.infer_objects(copy=False) for object inference, or cast round floats explicitly. To opt-in to the future behavior, set `pd.set_option('future.no_silent_downcasting', True)`\n",
      "  df_o = df_o.clip(lower=1e-9)\n"
     ]
    },
    {
     "name": "stdout",
     "output_type": "stream",
     "text": [
      "Plot saved at: 2025-10-24_Download_for_specific_days/Data/Month_2003_03/data_graphs/GOES_diff_positive_2003-03-17_00-00-00.png\n",
      "3. USAR FUNCIÓN SUNPY calculate_t_em\n",
      "Ahora vamos a calcular la T y EM con el modelo de abundancias:coronal\n"
     ]
    },
    {
     "name": "stderr",
     "output_type": "stream",
     "text": [
      "Files Downloaded: 100%|██████████| 1/1 [00:00<00:00,  1.23file/s]\n",
      "/home/pjgonzalesp/miniforge3/envs/sunpy/lib/python3.13/site-packages/astropy/units/quantity.py:659: RuntimeWarning: invalid value encountered in divide\n",
      "  result = super().__array_ufunc__(function, method, *arrays, **kwargs)\n"
     ]
    },
    {
     "name": "stdout",
     "output_type": "stream",
     "text": [
      "se calculó T y EM con el modelo de abundancias:coronal\n",
      "Ahora vamos a calcular la T y EM con el modelo de abundancias:photospheric\n"
     ]
    },
    {
     "name": "stderr",
     "output_type": "stream",
     "text": [
      "Files Downloaded: 100%|██████████| 1/1 [00:00<00:00,  1.22file/s]\n",
      "2025-10-24 14:55:24 - root - INFO: Searching for GOES flares between 2003-03-17 00:00:00 and 2003-03-18 00:00:00...\n"
     ]
    },
    {
     "name": "stdout",
     "output_type": "stream",
     "text": [
      "se calculó T y EM con el modelo de abundancias:photospheric\n",
      "4. CONSTRUIR df_full\n",
      "5. añadiendo observatorio: GOES: GOES-10\n",
      "se añadió observatorio: GOES: GOES-10\n",
      "6. Descargando flares: 2003-03-17 00:00:00 - 2003-03-18 00:00:00\n"
     ]
    },
    {
     "name": "stderr",
     "output_type": "stream",
     "text": [
      "2025-10-24 14:55:27 - root - INFO: Found 12 GOES solar flares between 2003-03-17 00:00:00 and 2003-03-18 00:00:00.\n",
      "Día 8 de 185: 2003-03-18\n"
     ]
    },
    {
     "name": "stdout",
     "output_type": "stream",
     "text": [
      "Se descargaron flares para el intervalo 2003-03-17 00:00:00 - 2003-03-18 00:00:00.\n",
      "7. Se filtraron solo flares de GOES.\n",
      "1. Descargar datos GOES\n",
      "Buscando datos de: 2003-03-18 00:00:00\n",
      "Descargando datos de 2003-03-18 00:00:00...\n"
     ]
    },
    {
     "name": "stderr",
     "output_type": "stream",
     "text": [
      "Files Downloaded: 100%|██████████| 4/4 [00:00<00:00,  5.69file/s]\n"
     ]
    },
    {
     "name": "stdout",
     "output_type": "stream",
     "text": [
      "Resolution = 1 minute\n",
      "Gráfica guardada en 2025-10-24_Download_for_specific_days/Data/Month_2003_03/data_graphs/GOES_2003-03-18_00-00-00.png\n",
      "Observatorio encontrado: GOES-10\n",
      "Se encontraron datos  GOES para 2003-03-18 00:00:00 - 2003-03-19 00:00:00. Día saltado.\n",
      "\n",
      "Número de registros: 1440\n",
      "Columnas disponibles: ['xrsa', 'xrsb', 'xrsa_quality', 'xrsb_quality']\n",
      "2. Restar Background\n",
      "Plot saved at: 2025-10-24_Download_for_specific_days/Data/Month_2003_03/data_graphs/GOES_diff_linear_2003-03-18_00-00-00.png\n",
      "Plot saved at: 2025-10-24_Download_for_specific_days/Data/Month_2003_03/data_graphs/GOES_diff_log_2003-03-18_00-00-00.png\n"
     ]
    },
    {
     "name": "stderr",
     "output_type": "stream",
     "text": [
      "/tmp/ipykernel_2397830/750897493.py:225: FutureWarning: Downcasting behavior in Series and DataFrame methods 'where', 'mask', and 'clip' is deprecated. In a future version this will not infer object dtypes or cast all-round floats to integers. Instead call result.infer_objects(copy=False) for object inference, or cast round floats explicitly. To opt-in to the future behavior, set `pd.set_option('future.no_silent_downcasting', True)`\n",
      "  df_o = df_o.clip(lower=1e-9)\n"
     ]
    },
    {
     "name": "stdout",
     "output_type": "stream",
     "text": [
      "Plot saved at: 2025-10-24_Download_for_specific_days/Data/Month_2003_03/data_graphs/GOES_diff_positive_2003-03-18_00-00-00.png\n",
      "3. USAR FUNCIÓN SUNPY calculate_t_em\n",
      "Ahora vamos a calcular la T y EM con el modelo de abundancias:coronal\n"
     ]
    },
    {
     "name": "stderr",
     "output_type": "stream",
     "text": [
      "Files Downloaded: 100%|██████████| 1/1 [00:00<00:00,  1.18file/s]\n",
      "/home/pjgonzalesp/miniforge3/envs/sunpy/lib/python3.13/site-packages/astropy/units/quantity.py:659: RuntimeWarning: invalid value encountered in divide\n",
      "  result = super().__array_ufunc__(function, method, *arrays, **kwargs)\n"
     ]
    },
    {
     "name": "stdout",
     "output_type": "stream",
     "text": [
      "se calculó T y EM con el modelo de abundancias:coronal\n",
      "Ahora vamos a calcular la T y EM con el modelo de abundancias:photospheric\n"
     ]
    },
    {
     "name": "stderr",
     "output_type": "stream",
     "text": [
      "Files Downloaded: 100%|██████████| 1/1 [00:00<00:00,  1.18file/s]\n",
      "2025-10-24 14:55:42 - root - INFO: Searching for GOES flares between 2003-03-18 00:00:00 and 2003-03-19 00:00:00...\n"
     ]
    },
    {
     "name": "stdout",
     "output_type": "stream",
     "text": [
      "se calculó T y EM con el modelo de abundancias:photospheric\n",
      "4. CONSTRUIR df_full\n",
      "5. añadiendo observatorio: GOES: GOES-10\n",
      "se añadió observatorio: GOES: GOES-10\n",
      "6. Descargando flares: 2003-03-18 00:00:00 - 2003-03-19 00:00:00\n"
     ]
    },
    {
     "name": "stderr",
     "output_type": "stream",
     "text": [
      "2025-10-24 14:55:45 - root - INFO: Found 19 GOES solar flares between 2003-03-18 00:00:00 and 2003-03-19 00:00:00.\n",
      "Día 9 de 185: 2003-05-27\n"
     ]
    },
    {
     "name": "stdout",
     "output_type": "stream",
     "text": [
      "Se descargaron flares para el intervalo 2003-03-18 00:00:00 - 2003-03-19 00:00:00.\n",
      "7. Se filtraron solo flares de GOES.\n",
      "💾 df_full_2003_03.csv actualizado (2880 filas)\n",
      "✅ Días descargados este mes: [datetime.date(2003, 3, 17), datetime.date(2003, 3, 18)]\n",
      "💾 df_flare_data_2003_03.csv actualizado (31 filas)\n",
      "🏁 Mes 2003_03 terminado → 2025-10-24_Download_for_specific_days/Data/Month_2003_03\n",
      "\n",
      "========================================\n",
      "🟦 Procesando mes 2003_05 (3 días)\n",
      "========================================\n",
      "1. Descargar datos GOES\n",
      "Buscando datos de: 2003-05-27 00:00:00\n",
      "Descargando datos de 2003-05-27 00:00:00...\n"
     ]
    },
    {
     "name": "stderr",
     "output_type": "stream",
     "text": [
      "Files Downloaded: 100%|██████████| 4/4 [00:00<00:00,  6.81file/s]\n"
     ]
    },
    {
     "name": "stdout",
     "output_type": "stream",
     "text": [
      "Resolution = 1 minute\n",
      "Gráfica guardada en 2025-10-24_Download_for_specific_days/Data/Month_2003_05/data_graphs/GOES_2003-05-27_00-00-00.png\n",
      "Observatorio encontrado: GOES-10\n",
      "Se encontraron datos  GOES para 2003-05-27 00:00:00 - 2003-05-28 00:00:00. Día saltado.\n",
      "\n",
      "Número de registros: 1440\n",
      "Columnas disponibles: ['xrsa', 'xrsb', 'xrsa_quality', 'xrsb_quality']\n",
      "2. Restar Background\n",
      "Plot saved at: 2025-10-24_Download_for_specific_days/Data/Month_2003_05/data_graphs/GOES_diff_linear_2003-05-27_00-00-00.png\n",
      "Plot saved at: 2025-10-24_Download_for_specific_days/Data/Month_2003_05/data_graphs/GOES_diff_log_2003-05-27_00-00-00.png\n"
     ]
    },
    {
     "name": "stderr",
     "output_type": "stream",
     "text": [
      "/tmp/ipykernel_2397830/750897493.py:225: FutureWarning: Downcasting behavior in Series and DataFrame methods 'where', 'mask', and 'clip' is deprecated. In a future version this will not infer object dtypes or cast all-round floats to integers. Instead call result.infer_objects(copy=False) for object inference, or cast round floats explicitly. To opt-in to the future behavior, set `pd.set_option('future.no_silent_downcasting', True)`\n",
      "  df_o = df_o.clip(lower=1e-9)\n"
     ]
    },
    {
     "name": "stdout",
     "output_type": "stream",
     "text": [
      "Plot saved at: 2025-10-24_Download_for_specific_days/Data/Month_2003_05/data_graphs/GOES_diff_positive_2003-05-27_00-00-00.png\n",
      "3. USAR FUNCIÓN SUNPY calculate_t_em\n",
      "Ahora vamos a calcular la T y EM con el modelo de abundancias:coronal\n"
     ]
    },
    {
     "name": "stderr",
     "output_type": "stream",
     "text": [
      "Files Downloaded: 100%|██████████| 1/1 [00:00<00:00,  1.24file/s]\n",
      "/home/pjgonzalesp/miniforge3/envs/sunpy/lib/python3.13/site-packages/astropy/units/quantity.py:659: RuntimeWarning: divide by zero encountered in divide\n",
      "  result = super().__array_ufunc__(function, method, *arrays, **kwargs)\n",
      "/home/pjgonzalesp/miniforge3/envs/sunpy/lib/python3.13/site-packages/astropy/units/quantity.py:659: RuntimeWarning: invalid value encountered in divide\n",
      "  result = super().__array_ufunc__(function, method, *arrays, **kwargs)\n"
     ]
    },
    {
     "name": "stdout",
     "output_type": "stream",
     "text": [
      "se calculó T y EM con el modelo de abundancias:coronal\n",
      "Ahora vamos a calcular la T y EM con el modelo de abundancias:photospheric\n"
     ]
    },
    {
     "name": "stderr",
     "output_type": "stream",
     "text": [
      "Files Downloaded: 100%|██████████| 1/1 [00:00<00:00,  1.24file/s]\n",
      "2025-10-24 14:56:00 - root - INFO: Searching for GOES flares between 2003-05-27 00:00:00 and 2003-05-28 00:00:00...\n"
     ]
    },
    {
     "name": "stdout",
     "output_type": "stream",
     "text": [
      "se calculó T y EM con el modelo de abundancias:photospheric\n",
      "4. CONSTRUIR df_full\n",
      "5. añadiendo observatorio: GOES: GOES-10\n",
      "se añadió observatorio: GOES: GOES-10\n",
      "6. Descargando flares: 2003-05-27 00:00:00 - 2003-05-28 00:00:00\n"
     ]
    },
    {
     "name": "stderr",
     "output_type": "stream",
     "text": [
      "2025-10-24 14:56:02 - root - INFO: Found 6 GOES solar flares between 2003-05-27 00:00:00 and 2003-05-28 00:00:00.\n",
      "Día 10 de 185: 2003-05-28\n"
     ]
    },
    {
     "name": "stdout",
     "output_type": "stream",
     "text": [
      "Se descargaron flares para el intervalo 2003-05-27 00:00:00 - 2003-05-28 00:00:00.\n",
      "7. Se filtraron solo flares de GOES.\n",
      "1. Descargar datos GOES\n",
      "Buscando datos de: 2003-05-28 00:00:00\n",
      "Descargando datos de 2003-05-28 00:00:00...\n"
     ]
    },
    {
     "name": "stderr",
     "output_type": "stream",
     "text": [
      "Files Downloaded: 100%|██████████| 4/4 [00:00<00:00,  6.84file/s]\n"
     ]
    },
    {
     "name": "stdout",
     "output_type": "stream",
     "text": [
      "Resolution = 1 minute\n",
      "Gráfica guardada en 2025-10-24_Download_for_specific_days/Data/Month_2003_05/data_graphs/GOES_2003-05-28_00-00-00.png\n",
      "Observatorio encontrado: GOES-10\n",
      "Se encontraron datos  GOES para 2003-05-28 00:00:00 - 2003-05-29 00:00:00. Día saltado.\n",
      "\n",
      "Número de registros: 1440\n",
      "Columnas disponibles: ['xrsa', 'xrsb', 'xrsa_quality', 'xrsb_quality']\n",
      "2. Restar Background\n",
      "Plot saved at: 2025-10-24_Download_for_specific_days/Data/Month_2003_05/data_graphs/GOES_diff_linear_2003-05-28_00-00-00.png\n",
      "Plot saved at: 2025-10-24_Download_for_specific_days/Data/Month_2003_05/data_graphs/GOES_diff_log_2003-05-28_00-00-00.png\n"
     ]
    },
    {
     "name": "stderr",
     "output_type": "stream",
     "text": [
      "/tmp/ipykernel_2397830/750897493.py:225: FutureWarning: Downcasting behavior in Series and DataFrame methods 'where', 'mask', and 'clip' is deprecated. In a future version this will not infer object dtypes or cast all-round floats to integers. Instead call result.infer_objects(copy=False) for object inference, or cast round floats explicitly. To opt-in to the future behavior, set `pd.set_option('future.no_silent_downcasting', True)`\n",
      "  df_o = df_o.clip(lower=1e-9)\n"
     ]
    },
    {
     "name": "stdout",
     "output_type": "stream",
     "text": [
      "Plot saved at: 2025-10-24_Download_for_specific_days/Data/Month_2003_05/data_graphs/GOES_diff_positive_2003-05-28_00-00-00.png\n",
      "3. USAR FUNCIÓN SUNPY calculate_t_em\n",
      "Ahora vamos a calcular la T y EM con el modelo de abundancias:coronal\n"
     ]
    },
    {
     "name": "stderr",
     "output_type": "stream",
     "text": [
      "Files Downloaded: 100%|██████████| 1/1 [00:00<00:00,  1.21file/s]\n",
      "/home/pjgonzalesp/miniforge3/envs/sunpy/lib/python3.13/site-packages/astropy/units/quantity.py:659: RuntimeWarning: divide by zero encountered in divide\n",
      "  result = super().__array_ufunc__(function, method, *arrays, **kwargs)\n",
      "/home/pjgonzalesp/miniforge3/envs/sunpy/lib/python3.13/site-packages/astropy/units/quantity.py:659: RuntimeWarning: invalid value encountered in divide\n",
      "  result = super().__array_ufunc__(function, method, *arrays, **kwargs)\n"
     ]
    },
    {
     "name": "stdout",
     "output_type": "stream",
     "text": [
      "se calculó T y EM con el modelo de abundancias:coronal\n",
      "Ahora vamos a calcular la T y EM con el modelo de abundancias:photospheric\n"
     ]
    },
    {
     "name": "stderr",
     "output_type": "stream",
     "text": [
      "Files Downloaded:   0%|          | 0/1 [00:00<?, ?file/s]Exception ignored in: <function BaseEventLoop.__del__ at 0x7f20fad47420>\n",
      "Traceback (most recent call last):\n",
      "  File \"/home/pjgonzalesp/miniforge3/envs/sunpy/lib/python3.13/asyncio/base_events.py\", line 766, in __del__\n",
      "    self.close()\n",
      "  File \"/home/pjgonzalesp/miniforge3/envs/sunpy/lib/python3.13/asyncio/unix_events.py\", line 73, in close\n",
      "    self.remove_signal_handler(sig)\n",
      "  File \"/home/pjgonzalesp/miniforge3/envs/sunpy/lib/python3.13/asyncio/unix_events.py\", line 162, in remove_signal_handler\n",
      "    signal.signal(sig, handler)\n",
      "  File \"/home/pjgonzalesp/miniforge3/envs/sunpy/lib/python3.13/signal.py\", line 58, in signal\n",
      "    handler = _signal.signal(_enum_to_int(signalnum), _enum_to_int(handler))\n",
      "ValueError: signal only works in main thread of the main interpreter\n",
      "Files Downloaded: 100%|██████████| 1/1 [00:00<00:00,  1.23file/s]\n",
      "2025-10-24 14:56:17 - root - INFO: Searching for GOES flares between 2003-05-28 00:00:00 and 2003-05-29 00:00:00...\n"
     ]
    },
    {
     "name": "stdout",
     "output_type": "stream",
     "text": [
      "se calculó T y EM con el modelo de abundancias:photospheric\n",
      "4. CONSTRUIR df_full\n",
      "5. añadiendo observatorio: GOES: GOES-10\n",
      "se añadió observatorio: GOES: GOES-10\n",
      "6. Descargando flares: 2003-05-28 00:00:00 - 2003-05-29 00:00:00\n"
     ]
    },
    {
     "name": "stderr",
     "output_type": "stream",
     "text": [
      "2025-10-24 14:56:20 - root - INFO: Found 18 GOES solar flares between 2003-05-28 00:00:00 and 2003-05-29 00:00:00.\n",
      "Día 11 de 185: 2003-05-29\n"
     ]
    },
    {
     "name": "stdout",
     "output_type": "stream",
     "text": [
      "Se descargaron flares para el intervalo 2003-05-28 00:00:00 - 2003-05-29 00:00:00.\n",
      "7. Se filtraron solo flares de GOES.\n",
      "1. Descargar datos GOES\n",
      "Buscando datos de: 2003-05-29 00:00:00\n",
      "Descargando datos de 2003-05-29 00:00:00...\n"
     ]
    },
    {
     "name": "stderr",
     "output_type": "stream",
     "text": [
      "Files Downloaded: 100%|██████████| 4/4 [00:00<00:00,  6.84file/s]\n"
     ]
    },
    {
     "name": "stdout",
     "output_type": "stream",
     "text": [
      "Resolution = 1 minute\n",
      "Gráfica guardada en 2025-10-24_Download_for_specific_days/Data/Month_2003_05/data_graphs/GOES_2003-05-29_00-00-00.png\n",
      "Observatorio encontrado: GOES-10\n",
      "Se encontraron datos  GOES para 2003-05-29 00:00:00 - 2003-05-30 00:00:00. Día saltado.\n",
      "\n",
      "Número de registros: 1440\n",
      "Columnas disponibles: ['xrsa', 'xrsb', 'xrsa_quality', 'xrsb_quality']\n",
      "2. Restar Background\n",
      "Plot saved at: 2025-10-24_Download_for_specific_days/Data/Month_2003_05/data_graphs/GOES_diff_linear_2003-05-29_00-00-00.png\n",
      "Plot saved at: 2025-10-24_Download_for_specific_days/Data/Month_2003_05/data_graphs/GOES_diff_log_2003-05-29_00-00-00.png\n"
     ]
    },
    {
     "name": "stderr",
     "output_type": "stream",
     "text": [
      "/tmp/ipykernel_2397830/750897493.py:225: FutureWarning: Downcasting behavior in Series and DataFrame methods 'where', 'mask', and 'clip' is deprecated. In a future version this will not infer object dtypes or cast all-round floats to integers. Instead call result.infer_objects(copy=False) for object inference, or cast round floats explicitly. To opt-in to the future behavior, set `pd.set_option('future.no_silent_downcasting', True)`\n",
      "  df_o = df_o.clip(lower=1e-9)\n"
     ]
    },
    {
     "name": "stdout",
     "output_type": "stream",
     "text": [
      "Plot saved at: 2025-10-24_Download_for_specific_days/Data/Month_2003_05/data_graphs/GOES_diff_positive_2003-05-29_00-00-00.png\n",
      "3. USAR FUNCIÓN SUNPY calculate_t_em\n",
      "Ahora vamos a calcular la T y EM con el modelo de abundancias:coronal\n"
     ]
    },
    {
     "name": "stderr",
     "output_type": "stream",
     "text": [
      "Files Downloaded: 100%|██████████| 1/1 [00:00<00:00,  1.22file/s]\n",
      "/home/pjgonzalesp/miniforge3/envs/sunpy/lib/python3.13/site-packages/astropy/units/quantity.py:659: RuntimeWarning: divide by zero encountered in divide\n",
      "  result = super().__array_ufunc__(function, method, *arrays, **kwargs)\n",
      "/home/pjgonzalesp/miniforge3/envs/sunpy/lib/python3.13/site-packages/astropy/units/quantity.py:659: RuntimeWarning: invalid value encountered in divide\n",
      "  result = super().__array_ufunc__(function, method, *arrays, **kwargs)\n"
     ]
    },
    {
     "name": "stdout",
     "output_type": "stream",
     "text": [
      "se calculó T y EM con el modelo de abundancias:coronal\n",
      "Ahora vamos a calcular la T y EM con el modelo de abundancias:photospheric\n"
     ]
    },
    {
     "name": "stderr",
     "output_type": "stream",
     "text": [
      "Files Downloaded: 100%|██████████| 1/1 [00:00<00:00,  1.23file/s]\n",
      "2025-10-24 14:56:35 - root - INFO: Searching for GOES flares between 2003-05-29 00:00:00 and 2003-05-30 00:00:00...\n"
     ]
    },
    {
     "name": "stdout",
     "output_type": "stream",
     "text": [
      "se calculó T y EM con el modelo de abundancias:photospheric\n",
      "4. CONSTRUIR df_full\n",
      "5. añadiendo observatorio: GOES: GOES-10\n",
      "se añadió observatorio: GOES: GOES-10\n",
      "6. Descargando flares: 2003-05-29 00:00:00 - 2003-05-30 00:00:00\n"
     ]
    },
    {
     "name": "stderr",
     "output_type": "stream",
     "text": [
      "2025-10-24 14:56:37 - root - INFO: Found 7 GOES solar flares between 2003-05-29 00:00:00 and 2003-05-30 00:00:00.\n",
      "Día 12 de 185: 2003-06-09\n"
     ]
    },
    {
     "name": "stdout",
     "output_type": "stream",
     "text": [
      "Se descargaron flares para el intervalo 2003-05-29 00:00:00 - 2003-05-30 00:00:00.\n",
      "7. Se filtraron solo flares de GOES.\n",
      "💾 df_full_2003_05.csv actualizado (4320 filas)\n",
      "✅ Días descargados este mes: [datetime.date(2003, 5, 27), datetime.date(2003, 5, 28), datetime.date(2003, 5, 29)]\n",
      "💾 df_flare_data_2003_05.csv actualizado (31 filas)\n",
      "🏁 Mes 2003_05 terminado → 2025-10-24_Download_for_specific_days/Data/Month_2003_05\n",
      "\n",
      "========================================\n",
      "🟦 Procesando mes 2003_06 (4 días)\n",
      "========================================\n",
      "1. Descargar datos GOES\n",
      "Buscando datos de: 2003-06-09 00:00:00\n",
      "Descargando datos de 2003-06-09 00:00:00...\n"
     ]
    },
    {
     "name": "stderr",
     "output_type": "stream",
     "text": [
      "Files Downloaded: 100%|██████████| 4/4 [00:00<00:00,  6.72file/s]\n"
     ]
    },
    {
     "name": "stdout",
     "output_type": "stream",
     "text": [
      "Resolution = 1 minute\n",
      "Gráfica guardada en 2025-10-24_Download_for_specific_days/Data/Month_2003_06/data_graphs/GOES_2003-06-09_00-00-00.png\n",
      "Observatorio encontrado: GOES-10\n",
      "Se encontraron datos  GOES para 2003-06-09 00:00:00 - 2003-06-10 00:00:00. Día saltado.\n",
      "\n",
      "Número de registros: 1440\n",
      "Columnas disponibles: ['xrsa', 'xrsb', 'xrsa_quality', 'xrsb_quality']\n",
      "2. Restar Background\n",
      "Plot saved at: 2025-10-24_Download_for_specific_days/Data/Month_2003_06/data_graphs/GOES_diff_linear_2003-06-09_00-00-00.png\n",
      "Plot saved at: 2025-10-24_Download_for_specific_days/Data/Month_2003_06/data_graphs/GOES_diff_log_2003-06-09_00-00-00.png\n"
     ]
    },
    {
     "name": "stderr",
     "output_type": "stream",
     "text": [
      "/tmp/ipykernel_2397830/750897493.py:225: FutureWarning: Downcasting behavior in Series and DataFrame methods 'where', 'mask', and 'clip' is deprecated. In a future version this will not infer object dtypes or cast all-round floats to integers. Instead call result.infer_objects(copy=False) for object inference, or cast round floats explicitly. To opt-in to the future behavior, set `pd.set_option('future.no_silent_downcasting', True)`\n",
      "  df_o = df_o.clip(lower=1e-9)\n"
     ]
    },
    {
     "name": "stdout",
     "output_type": "stream",
     "text": [
      "Plot saved at: 2025-10-24_Download_for_specific_days/Data/Month_2003_06/data_graphs/GOES_diff_positive_2003-06-09_00-00-00.png\n",
      "3. USAR FUNCIÓN SUNPY calculate_t_em\n",
      "Ahora vamos a calcular la T y EM con el modelo de abundancias:coronal\n"
     ]
    },
    {
     "name": "stderr",
     "output_type": "stream",
     "text": [
      "Files Downloaded: 100%|██████████| 1/1 [00:01<00:00,  1.11s/file]\n",
      "/home/pjgonzalesp/miniforge3/envs/sunpy/lib/python3.13/site-packages/astropy/units/quantity.py:659: RuntimeWarning: divide by zero encountered in divide\n",
      "  result = super().__array_ufunc__(function, method, *arrays, **kwargs)\n",
      "/home/pjgonzalesp/miniforge3/envs/sunpy/lib/python3.13/site-packages/astropy/units/quantity.py:659: RuntimeWarning: invalid value encountered in divide\n",
      "  result = super().__array_ufunc__(function, method, *arrays, **kwargs)\n"
     ]
    },
    {
     "name": "stdout",
     "output_type": "stream",
     "text": [
      "se calculó T y EM con el modelo de abundancias:coronal\n",
      "Ahora vamos a calcular la T y EM con el modelo de abundancias:photospheric\n"
     ]
    },
    {
     "name": "stderr",
     "output_type": "stream",
     "text": [
      "Files Downloaded:   0%|          | 0/1 [00:00<?, ?file/s]Exception ignored in: <function BaseEventLoop.__del__ at 0x7f20fad47420>\n",
      "Traceback (most recent call last):\n",
      "  File \"/home/pjgonzalesp/miniforge3/envs/sunpy/lib/python3.13/asyncio/base_events.py\", line 766, in __del__\n",
      "    self.close()\n",
      "  File \"/home/pjgonzalesp/miniforge3/envs/sunpy/lib/python3.13/asyncio/unix_events.py\", line 73, in close\n",
      "    self.remove_signal_handler(sig)\n",
      "  File \"/home/pjgonzalesp/miniforge3/envs/sunpy/lib/python3.13/asyncio/unix_events.py\", line 162, in remove_signal_handler\n",
      "    signal.signal(sig, handler)\n",
      "  File \"/home/pjgonzalesp/miniforge3/envs/sunpy/lib/python3.13/signal.py\", line 58, in signal\n",
      "    handler = _signal.signal(_enum_to_int(signalnum), _enum_to_int(handler))\n",
      "ValueError: signal only works in main thread of the main interpreter\n",
      "Files Downloaded: 100%|██████████| 1/1 [00:00<00:00,  1.11file/s]\n",
      "2025-10-24 14:56:52 - root - INFO: Searching for GOES flares between 2003-06-09 00:00:00 and 2003-06-10 00:00:00...\n"
     ]
    },
    {
     "name": "stdout",
     "output_type": "stream",
     "text": [
      "se calculó T y EM con el modelo de abundancias:photospheric\n",
      "4. CONSTRUIR df_full\n",
      "5. añadiendo observatorio: GOES: GOES-10\n",
      "se añadió observatorio: GOES: GOES-10\n",
      "6. Descargando flares: 2003-06-09 00:00:00 - 2003-06-10 00:00:00\n"
     ]
    },
    {
     "name": "stderr",
     "output_type": "stream",
     "text": [
      "2025-10-24 14:56:56 - root - INFO: Found 16 GOES solar flares between 2003-06-09 00:00:00 and 2003-06-10 00:00:00.\n",
      "Día 13 de 185: 2003-06-10\n"
     ]
    },
    {
     "name": "stdout",
     "output_type": "stream",
     "text": [
      "Se descargaron flares para el intervalo 2003-06-09 00:00:00 - 2003-06-10 00:00:00.\n",
      "7. Se filtraron solo flares de GOES.\n",
      "1. Descargar datos GOES\n",
      "Buscando datos de: 2003-06-10 00:00:00\n",
      "Descargando datos de 2003-06-10 00:00:00...\n"
     ]
    },
    {
     "name": "stderr",
     "output_type": "stream",
     "text": [
      "Files Downloaded: 100%|██████████| 4/4 [00:00<00:00,  6.80file/s]\n"
     ]
    },
    {
     "name": "stdout",
     "output_type": "stream",
     "text": [
      "Resolution = 1 minute\n",
      "Gráfica guardada en 2025-10-24_Download_for_specific_days/Data/Month_2003_06/data_graphs/GOES_2003-06-10_00-00-00.png\n",
      "Observatorio encontrado: GOES-10\n",
      "Se encontraron datos  GOES para 2003-06-10 00:00:00 - 2003-06-11 00:00:00. Día saltado.\n",
      "\n",
      "Número de registros: 1440\n",
      "Columnas disponibles: ['xrsa', 'xrsb', 'xrsa_quality', 'xrsb_quality']\n",
      "2. Restar Background\n",
      "Plot saved at: 2025-10-24_Download_for_specific_days/Data/Month_2003_06/data_graphs/GOES_diff_linear_2003-06-10_00-00-00.png\n",
      "Plot saved at: 2025-10-24_Download_for_specific_days/Data/Month_2003_06/data_graphs/GOES_diff_log_2003-06-10_00-00-00.png\n"
     ]
    },
    {
     "name": "stderr",
     "output_type": "stream",
     "text": [
      "/tmp/ipykernel_2397830/750897493.py:225: FutureWarning: Downcasting behavior in Series and DataFrame methods 'where', 'mask', and 'clip' is deprecated. In a future version this will not infer object dtypes or cast all-round floats to integers. Instead call result.infer_objects(copy=False) for object inference, or cast round floats explicitly. To opt-in to the future behavior, set `pd.set_option('future.no_silent_downcasting', True)`\n",
      "  df_o = df_o.clip(lower=1e-9)\n"
     ]
    },
    {
     "name": "stdout",
     "output_type": "stream",
     "text": [
      "Plot saved at: 2025-10-24_Download_for_specific_days/Data/Month_2003_06/data_graphs/GOES_diff_positive_2003-06-10_00-00-00.png\n",
      "3. USAR FUNCIÓN SUNPY calculate_t_em\n",
      "Ahora vamos a calcular la T y EM con el modelo de abundancias:coronal\n"
     ]
    },
    {
     "name": "stderr",
     "output_type": "stream",
     "text": [
      "Files Downloaded: 100%|██████████| 1/1 [00:00<00:00,  1.25file/s]\n",
      "/home/pjgonzalesp/miniforge3/envs/sunpy/lib/python3.13/site-packages/astropy/units/quantity.py:659: RuntimeWarning: divide by zero encountered in divide\n",
      "  result = super().__array_ufunc__(function, method, *arrays, **kwargs)\n",
      "/home/pjgonzalesp/miniforge3/envs/sunpy/lib/python3.13/site-packages/astropy/units/quantity.py:659: RuntimeWarning: invalid value encountered in divide\n",
      "  result = super().__array_ufunc__(function, method, *arrays, **kwargs)\n"
     ]
    },
    {
     "name": "stdout",
     "output_type": "stream",
     "text": [
      "se calculó T y EM con el modelo de abundancias:coronal\n",
      "Ahora vamos a calcular la T y EM con el modelo de abundancias:photospheric\n"
     ]
    },
    {
     "name": "stderr",
     "output_type": "stream",
     "text": [
      "Files Downloaded: 100%|██████████| 1/1 [00:00<00:00,  1.21file/s]\n",
      "2025-10-24 14:57:11 - root - INFO: Searching for GOES flares between 2003-06-10 00:00:00 and 2003-06-11 00:00:00...\n"
     ]
    },
    {
     "name": "stdout",
     "output_type": "stream",
     "text": [
      "se calculó T y EM con el modelo de abundancias:photospheric\n",
      "4. CONSTRUIR df_full\n",
      "5. añadiendo observatorio: GOES: GOES-10\n",
      "se añadió observatorio: GOES: GOES-10\n",
      "6. Descargando flares: 2003-06-10 00:00:00 - 2003-06-11 00:00:00\n"
     ]
    },
    {
     "name": "stderr",
     "output_type": "stream",
     "text": [
      "2025-10-24 14:57:13 - root - INFO: Found 12 GOES solar flares between 2003-06-10 00:00:00 and 2003-06-11 00:00:00.\n",
      "Día 14 de 185: 2003-06-11\n"
     ]
    },
    {
     "name": "stdout",
     "output_type": "stream",
     "text": [
      "Se descargaron flares para el intervalo 2003-06-10 00:00:00 - 2003-06-11 00:00:00.\n",
      "7. Se filtraron solo flares de GOES.\n",
      "1. Descargar datos GOES\n",
      "Buscando datos de: 2003-06-11 00:00:00\n",
      "Descargando datos de 2003-06-11 00:00:00...\n"
     ]
    },
    {
     "name": "stderr",
     "output_type": "stream",
     "text": [
      "Files Downloaded: 100%|██████████| 4/4 [00:00<00:00,  6.42file/s]\n"
     ]
    },
    {
     "name": "stdout",
     "output_type": "stream",
     "text": [
      "Resolution = 1 minute\n",
      "Gráfica guardada en 2025-10-24_Download_for_specific_days/Data/Month_2003_06/data_graphs/GOES_2003-06-11_00-00-00.png\n",
      "Observatorio encontrado: GOES-10\n",
      "Se encontraron datos  GOES para 2003-06-11 00:00:00 - 2003-06-12 00:00:00. Día saltado.\n",
      "\n",
      "Número de registros: 1440\n",
      "Columnas disponibles: ['xrsa', 'xrsb', 'xrsa_quality', 'xrsb_quality']\n",
      "2. Restar Background\n",
      "Plot saved at: 2025-10-24_Download_for_specific_days/Data/Month_2003_06/data_graphs/GOES_diff_linear_2003-06-11_00-00-00.png\n",
      "Plot saved at: 2025-10-24_Download_for_specific_days/Data/Month_2003_06/data_graphs/GOES_diff_log_2003-06-11_00-00-00.png\n"
     ]
    },
    {
     "name": "stderr",
     "output_type": "stream",
     "text": [
      "/tmp/ipykernel_2397830/750897493.py:225: FutureWarning: Downcasting behavior in Series and DataFrame methods 'where', 'mask', and 'clip' is deprecated. In a future version this will not infer object dtypes or cast all-round floats to integers. Instead call result.infer_objects(copy=False) for object inference, or cast round floats explicitly. To opt-in to the future behavior, set `pd.set_option('future.no_silent_downcasting', True)`\n",
      "  df_o = df_o.clip(lower=1e-9)\n"
     ]
    },
    {
     "name": "stdout",
     "output_type": "stream",
     "text": [
      "Plot saved at: 2025-10-24_Download_for_specific_days/Data/Month_2003_06/data_graphs/GOES_diff_positive_2003-06-11_00-00-00.png\n",
      "3. USAR FUNCIÓN SUNPY calculate_t_em\n",
      "Ahora vamos a calcular la T y EM con el modelo de abundancias:coronal\n"
     ]
    },
    {
     "name": "stderr",
     "output_type": "stream",
     "text": [
      "Files Downloaded: 100%|██████████| 1/1 [00:00<00:00,  1.21file/s]\n",
      "/home/pjgonzalesp/miniforge3/envs/sunpy/lib/python3.13/site-packages/astropy/units/quantity.py:659: RuntimeWarning: divide by zero encountered in divide\n",
      "  result = super().__array_ufunc__(function, method, *arrays, **kwargs)\n",
      "/home/pjgonzalesp/miniforge3/envs/sunpy/lib/python3.13/site-packages/astropy/units/quantity.py:659: RuntimeWarning: invalid value encountered in divide\n",
      "  result = super().__array_ufunc__(function, method, *arrays, **kwargs)\n"
     ]
    },
    {
     "name": "stdout",
     "output_type": "stream",
     "text": [
      "se calculó T y EM con el modelo de abundancias:coronal\n",
      "Ahora vamos a calcular la T y EM con el modelo de abundancias:photospheric\n"
     ]
    },
    {
     "name": "stderr",
     "output_type": "stream",
     "text": [
      "Files Downloaded:   0%|          | 0/1 [00:00<?, ?file/s]Exception ignored in: <function BaseEventLoop.__del__ at 0x7f20fad47420>\n",
      "Traceback (most recent call last):\n",
      "  File \"/home/pjgonzalesp/miniforge3/envs/sunpy/lib/python3.13/asyncio/base_events.py\", line 766, in __del__\n",
      "  File \"/home/pjgonzalesp/miniforge3/envs/sunpy/lib/python3.13/asyncio/unix_events.py\", line 73, in close\n",
      "  File \"/home/pjgonzalesp/miniforge3/envs/sunpy/lib/python3.13/asyncio/unix_events.py\", line 162, in remove_signal_handler\n",
      "  File \"/home/pjgonzalesp/miniforge3/envs/sunpy/lib/python3.13/signal.py\", line 58, in signal\n",
      "ValueError: signal only works in main thread of the main interpreter\n",
      "Files Downloaded: 100%|██████████| 1/1 [00:00<00:00,  1.25file/s]\n",
      "2025-10-24 14:57:28 - root - INFO: Searching for GOES flares between 2003-06-11 00:00:00 and 2003-06-12 00:00:00...\n"
     ]
    },
    {
     "name": "stdout",
     "output_type": "stream",
     "text": [
      "se calculó T y EM con el modelo de abundancias:photospheric\n",
      "4. CONSTRUIR df_full\n",
      "5. añadiendo observatorio: GOES: GOES-10\n",
      "se añadió observatorio: GOES: GOES-10\n",
      "6. Descargando flares: 2003-06-11 00:00:00 - 2003-06-12 00:00:00\n"
     ]
    },
    {
     "name": "stderr",
     "output_type": "stream",
     "text": [
      "2025-10-24 14:57:30 - root - INFO: Found 12 GOES solar flares between 2003-06-11 00:00:00 and 2003-06-12 00:00:00.\n",
      "Día 15 de 185: 2003-06-15\n"
     ]
    },
    {
     "name": "stdout",
     "output_type": "stream",
     "text": [
      "Se descargaron flares para el intervalo 2003-06-11 00:00:00 - 2003-06-12 00:00:00.\n",
      "7. Se filtraron solo flares de GOES.\n",
      "1. Descargar datos GOES\n",
      "Buscando datos de: 2003-06-15 00:00:00\n",
      "Descargando datos de 2003-06-15 00:00:00...\n"
     ]
    },
    {
     "name": "stderr",
     "output_type": "stream",
     "text": [
      "Files Downloaded: 100%|██████████| 4/4 [00:00<00:00,  6.44file/s]\n"
     ]
    },
    {
     "name": "stdout",
     "output_type": "stream",
     "text": [
      "Resolution = 1 minute\n",
      "Gráfica guardada en 2025-10-24_Download_for_specific_days/Data/Month_2003_06/data_graphs/GOES_2003-06-15_00-00-00.png\n",
      "Observatorio encontrado: GOES-10\n",
      "Se encontraron datos  GOES para 2003-06-15 00:00:00 - 2003-06-16 00:00:00. Día saltado.\n",
      "\n",
      "Número de registros: 1440\n",
      "Columnas disponibles: ['xrsa', 'xrsb', 'xrsa_quality', 'xrsb_quality']\n",
      "2. Restar Background\n",
      "Plot saved at: 2025-10-24_Download_for_specific_days/Data/Month_2003_06/data_graphs/GOES_diff_linear_2003-06-15_00-00-00.png\n",
      "Plot saved at: 2025-10-24_Download_for_specific_days/Data/Month_2003_06/data_graphs/GOES_diff_log_2003-06-15_00-00-00.png\n"
     ]
    },
    {
     "name": "stderr",
     "output_type": "stream",
     "text": [
      "/tmp/ipykernel_2397830/750897493.py:225: FutureWarning: Downcasting behavior in Series and DataFrame methods 'where', 'mask', and 'clip' is deprecated. In a future version this will not infer object dtypes or cast all-round floats to integers. Instead call result.infer_objects(copy=False) for object inference, or cast round floats explicitly. To opt-in to the future behavior, set `pd.set_option('future.no_silent_downcasting', True)`\n",
      "  df_o = df_o.clip(lower=1e-9)\n"
     ]
    },
    {
     "name": "stdout",
     "output_type": "stream",
     "text": [
      "Plot saved at: 2025-10-24_Download_for_specific_days/Data/Month_2003_06/data_graphs/GOES_diff_positive_2003-06-15_00-00-00.png\n",
      "3. USAR FUNCIÓN SUNPY calculate_t_em\n",
      "Ahora vamos a calcular la T y EM con el modelo de abundancias:coronal\n"
     ]
    },
    {
     "name": "stderr",
     "output_type": "stream",
     "text": [
      "Files Downloaded: 100%|██████████| 1/1 [00:00<00:00,  1.17file/s]\n",
      "/home/pjgonzalesp/miniforge3/envs/sunpy/lib/python3.13/site-packages/astropy/units/quantity.py:659: RuntimeWarning: divide by zero encountered in divide\n",
      "  result = super().__array_ufunc__(function, method, *arrays, **kwargs)\n",
      "/home/pjgonzalesp/miniforge3/envs/sunpy/lib/python3.13/site-packages/astropy/units/quantity.py:659: RuntimeWarning: invalid value encountered in divide\n",
      "  result = super().__array_ufunc__(function, method, *arrays, **kwargs)\n"
     ]
    },
    {
     "name": "stdout",
     "output_type": "stream",
     "text": [
      "se calculó T y EM con el modelo de abundancias:coronal\n",
      "Ahora vamos a calcular la T y EM con el modelo de abundancias:photospheric\n"
     ]
    },
    {
     "name": "stderr",
     "output_type": "stream",
     "text": [
      "Files Downloaded: 100%|██████████| 1/1 [00:00<00:00,  1.17file/s]\n",
      "2025-10-24 14:57:46 - root - INFO: Searching for GOES flares between 2003-06-15 00:00:00 and 2003-06-16 00:00:00...\n"
     ]
    },
    {
     "name": "stdout",
     "output_type": "stream",
     "text": [
      "se calculó T y EM con el modelo de abundancias:photospheric\n",
      "4. CONSTRUIR df_full\n",
      "5. añadiendo observatorio: GOES: GOES-10\n",
      "se añadió observatorio: GOES: GOES-10\n",
      "6. Descargando flares: 2003-06-15 00:00:00 - 2003-06-16 00:00:00\n"
     ]
    },
    {
     "name": "stderr",
     "output_type": "stream",
     "text": [
      "2025-10-24 14:57:49 - root - INFO: Found 8 GOES solar flares between 2003-06-15 00:00:00 and 2003-06-16 00:00:00.\n",
      "Día 16 de 185: 2003-10-19\n"
     ]
    },
    {
     "name": "stdout",
     "output_type": "stream",
     "text": [
      "Se descargaron flares para el intervalo 2003-06-15 00:00:00 - 2003-06-16 00:00:00.\n",
      "7. Se filtraron solo flares de GOES.\n",
      "💾 df_full_2003_06.csv actualizado (5760 filas)\n",
      "✅ Días descargados este mes: [datetime.date(2003, 6, 9), datetime.date(2003, 6, 10), datetime.date(2003, 6, 11), datetime.date(2003, 6, 15)]\n",
      "💾 df_flare_data_2003_06.csv actualizado (48 filas)\n",
      "🏁 Mes 2003_06 terminado → 2025-10-24_Download_for_specific_days/Data/Month_2003_06\n",
      "\n",
      "========================================\n",
      "🟦 Procesando mes 2003_10 (5 días)\n",
      "========================================\n",
      "1. Descargar datos GOES\n",
      "Buscando datos de: 2003-10-19 00:00:00\n",
      "Descargando datos de 2003-10-19 00:00:00...\n"
     ]
    },
    {
     "name": "stderr",
     "output_type": "stream",
     "text": [
      "Files Downloaded: 100%|██████████| 4/4 [00:00<00:00,  6.88file/s]\n"
     ]
    },
    {
     "name": "stdout",
     "output_type": "stream",
     "text": [
      "Resolution = 1 minute\n",
      "Gráfica guardada en 2025-10-24_Download_for_specific_days/Data/Month_2003_10/data_graphs/GOES_2003-10-19_00-00-00.png\n",
      "Observatorio encontrado: GOES-10\n",
      "Se encontraron datos  GOES para 2003-10-19 00:00:00 - 2003-10-20 00:00:00. Día saltado.\n",
      "\n",
      "Número de registros: 1440\n",
      "Columnas disponibles: ['xrsa', 'xrsb', 'xrsa_quality', 'xrsb_quality']\n",
      "2. Restar Background\n",
      "Plot saved at: 2025-10-24_Download_for_specific_days/Data/Month_2003_10/data_graphs/GOES_diff_linear_2003-10-19_00-00-00.png\n",
      "Plot saved at: 2025-10-24_Download_for_specific_days/Data/Month_2003_10/data_graphs/GOES_diff_log_2003-10-19_00-00-00.png\n"
     ]
    },
    {
     "name": "stderr",
     "output_type": "stream",
     "text": [
      "/tmp/ipykernel_2397830/750897493.py:225: FutureWarning: Downcasting behavior in Series and DataFrame methods 'where', 'mask', and 'clip' is deprecated. In a future version this will not infer object dtypes or cast all-round floats to integers. Instead call result.infer_objects(copy=False) for object inference, or cast round floats explicitly. To opt-in to the future behavior, set `pd.set_option('future.no_silent_downcasting', True)`\n",
      "  df_o = df_o.clip(lower=1e-9)\n"
     ]
    },
    {
     "name": "stdout",
     "output_type": "stream",
     "text": [
      "Plot saved at: 2025-10-24_Download_for_specific_days/Data/Month_2003_10/data_graphs/GOES_diff_positive_2003-10-19_00-00-00.png\n",
      "3. USAR FUNCIÓN SUNPY calculate_t_em\n",
      "Ahora vamos a calcular la T y EM con el modelo de abundancias:coronal\n"
     ]
    },
    {
     "name": "stderr",
     "output_type": "stream",
     "text": [
      "Files Downloaded: 100%|██████████| 1/1 [00:00<00:00,  1.21file/s]\n",
      "/home/pjgonzalesp/miniforge3/envs/sunpy/lib/python3.13/site-packages/astropy/units/quantity.py:659: RuntimeWarning: invalid value encountered in divide\n",
      "  result = super().__array_ufunc__(function, method, *arrays, **kwargs)\n"
     ]
    },
    {
     "name": "stdout",
     "output_type": "stream",
     "text": [
      "se calculó T y EM con el modelo de abundancias:coronal\n",
      "Ahora vamos a calcular la T y EM con el modelo de abundancias:photospheric\n"
     ]
    },
    {
     "name": "stderr",
     "output_type": "stream",
     "text": [
      "Files Downloaded:   0%|          | 0/1 [00:00<?, ?file/s]Exception ignored in: <function BaseEventLoop.__del__ at 0x7f20fad47420>\n",
      "Traceback (most recent call last):\n",
      "  File \"/home/pjgonzalesp/miniforge3/envs/sunpy/lib/python3.13/asyncio/base_events.py\", line 766, in __del__\n",
      "    self.close()\n",
      "  File \"/home/pjgonzalesp/miniforge3/envs/sunpy/lib/python3.13/asyncio/unix_events.py\", line 73, in close\n",
      "    self.remove_signal_handler(sig)\n",
      "  File \"/home/pjgonzalesp/miniforge3/envs/sunpy/lib/python3.13/asyncio/unix_events.py\", line 162, in remove_signal_handler\n",
      "    signal.signal(sig, handler)\n",
      "  File \"/home/pjgonzalesp/miniforge3/envs/sunpy/lib/python3.13/signal.py\", line 58, in signal\n",
      "    handler = _signal.signal(_enum_to_int(signalnum), _enum_to_int(handler))\n",
      "ValueError: signal only works in main thread of the main interpreter\n",
      "Files Downloaded: 100%|██████████| 1/1 [00:01<00:00,  1.26s/file]\n",
      "2025-10-24 14:58:04 - root - INFO: Searching for GOES flares between 2003-10-19 00:00:00 and 2003-10-20 00:00:00...\n"
     ]
    },
    {
     "name": "stdout",
     "output_type": "stream",
     "text": [
      "se calculó T y EM con el modelo de abundancias:photospheric\n",
      "4. CONSTRUIR df_full\n",
      "5. añadiendo observatorio: GOES: GOES-10\n",
      "se añadió observatorio: GOES: GOES-10\n",
      "6. Descargando flares: 2003-10-19 00:00:00 - 2003-10-20 00:00:00\n"
     ]
    },
    {
     "name": "stderr",
     "output_type": "stream",
     "text": [
      "2025-10-24 14:58:06 - root - INFO: Found 6 GOES solar flares between 2003-10-19 00:00:00 and 2003-10-20 00:00:00.\n",
      "Día 17 de 185: 2003-10-23\n"
     ]
    },
    {
     "name": "stdout",
     "output_type": "stream",
     "text": [
      "Se descargaron flares para el intervalo 2003-10-19 00:00:00 - 2003-10-20 00:00:00.\n",
      "7. Se filtraron solo flares de GOES.\n",
      "1. Descargar datos GOES\n",
      "Buscando datos de: 2003-10-23 00:00:00\n",
      "Descargando datos de 2003-10-23 00:00:00...\n"
     ]
    },
    {
     "name": "stderr",
     "output_type": "stream",
     "text": [
      "Files Downloaded: 100%|██████████| 4/4 [00:00<00:00,  6.63file/s]\n"
     ]
    },
    {
     "name": "stdout",
     "output_type": "stream",
     "text": [
      "Resolution = 1 minute\n",
      "Gráfica guardada en 2025-10-24_Download_for_specific_days/Data/Month_2003_10/data_graphs/GOES_2003-10-23_00-00-00.png\n",
      "Observatorio encontrado: GOES-10\n",
      "Se encontraron datos  GOES para 2003-10-23 00:00:00 - 2003-10-24 00:00:00. Día saltado.\n",
      "\n",
      "Número de registros: 1440\n",
      "Columnas disponibles: ['xrsa', 'xrsb', 'xrsa_quality', 'xrsb_quality']\n",
      "2. Restar Background\n",
      "Plot saved at: 2025-10-24_Download_for_specific_days/Data/Month_2003_10/data_graphs/GOES_diff_linear_2003-10-23_00-00-00.png\n",
      "Plot saved at: 2025-10-24_Download_for_specific_days/Data/Month_2003_10/data_graphs/GOES_diff_log_2003-10-23_00-00-00.png\n"
     ]
    },
    {
     "name": "stderr",
     "output_type": "stream",
     "text": [
      "/tmp/ipykernel_2397830/750897493.py:225: FutureWarning: Downcasting behavior in Series and DataFrame methods 'where', 'mask', and 'clip' is deprecated. In a future version this will not infer object dtypes or cast all-round floats to integers. Instead call result.infer_objects(copy=False) for object inference, or cast round floats explicitly. To opt-in to the future behavior, set `pd.set_option('future.no_silent_downcasting', True)`\n",
      "  df_o = df_o.clip(lower=1e-9)\n"
     ]
    },
    {
     "name": "stdout",
     "output_type": "stream",
     "text": [
      "Plot saved at: 2025-10-24_Download_for_specific_days/Data/Month_2003_10/data_graphs/GOES_diff_positive_2003-10-23_00-00-00.png\n",
      "3. USAR FUNCIÓN SUNPY calculate_t_em\n",
      "Ahora vamos a calcular la T y EM con el modelo de abundancias:coronal\n"
     ]
    },
    {
     "name": "stderr",
     "output_type": "stream",
     "text": [
      "Files Downloaded: 100%|██████████| 1/1 [00:00<00:00,  1.02file/s]\n",
      "/home/pjgonzalesp/miniforge3/envs/sunpy/lib/python3.13/site-packages/astropy/units/quantity.py:659: RuntimeWarning: invalid value encountered in divide\n",
      "  result = super().__array_ufunc__(function, method, *arrays, **kwargs)\n"
     ]
    },
    {
     "name": "stdout",
     "output_type": "stream",
     "text": [
      "se calculó T y EM con el modelo de abundancias:coronal\n",
      "Ahora vamos a calcular la T y EM con el modelo de abundancias:photospheric\n"
     ]
    },
    {
     "name": "stderr",
     "output_type": "stream",
     "text": [
      "Files Downloaded: 100%|██████████| 1/1 [00:00<00:00,  1.16file/s]\n",
      "2025-10-24 14:58:21 - root - INFO: Searching for GOES flares between 2003-10-23 00:00:00 and 2003-10-24 00:00:00...\n"
     ]
    },
    {
     "name": "stdout",
     "output_type": "stream",
     "text": [
      "se calculó T y EM con el modelo de abundancias:photospheric\n",
      "4. CONSTRUIR df_full\n",
      "5. añadiendo observatorio: GOES: GOES-10\n",
      "se añadió observatorio: GOES: GOES-10\n",
      "6. Descargando flares: 2003-10-23 00:00:00 - 2003-10-24 00:00:00\n"
     ]
    },
    {
     "name": "stderr",
     "output_type": "stream",
     "text": [
      "2025-10-24 14:58:22 - root - INFO: Found 5 GOES solar flares between 2003-10-23 00:00:00 and 2003-10-24 00:00:00.\n",
      "Día 18 de 185: 2003-10-26\n"
     ]
    },
    {
     "name": "stdout",
     "output_type": "stream",
     "text": [
      "Se descargaron flares para el intervalo 2003-10-23 00:00:00 - 2003-10-24 00:00:00.\n",
      "7. Se filtraron solo flares de GOES.\n",
      "1. Descargar datos GOES\n",
      "Buscando datos de: 2003-10-26 00:00:00\n",
      "Descargando datos de 2003-10-26 00:00:00...\n"
     ]
    },
    {
     "name": "stderr",
     "output_type": "stream",
     "text": [
      "Files Downloaded: 100%|██████████| 4/4 [00:00<00:00,  6.86file/s]\n"
     ]
    },
    {
     "name": "stdout",
     "output_type": "stream",
     "text": [
      "Resolution = 1 minute\n",
      "Gráfica guardada en 2025-10-24_Download_for_specific_days/Data/Month_2003_10/data_graphs/GOES_2003-10-26_00-00-00.png\n",
      "Observatorio encontrado: GOES-10\n",
      "Se encontraron datos  GOES para 2003-10-26 00:00:00 - 2003-10-27 00:00:00. Día saltado.\n",
      "\n",
      "Número de registros: 1440\n",
      "Columnas disponibles: ['xrsa', 'xrsb', 'xrsa_quality', 'xrsb_quality']\n",
      "2. Restar Background\n",
      "Plot saved at: 2025-10-24_Download_for_specific_days/Data/Month_2003_10/data_graphs/GOES_diff_linear_2003-10-26_00-00-00.png\n",
      "Plot saved at: 2025-10-24_Download_for_specific_days/Data/Month_2003_10/data_graphs/GOES_diff_log_2003-10-26_00-00-00.png\n"
     ]
    },
    {
     "name": "stderr",
     "output_type": "stream",
     "text": [
      "/tmp/ipykernel_2397830/750897493.py:225: FutureWarning: Downcasting behavior in Series and DataFrame methods 'where', 'mask', and 'clip' is deprecated. In a future version this will not infer object dtypes or cast all-round floats to integers. Instead call result.infer_objects(copy=False) for object inference, or cast round floats explicitly. To opt-in to the future behavior, set `pd.set_option('future.no_silent_downcasting', True)`\n",
      "  df_o = df_o.clip(lower=1e-9)\n"
     ]
    },
    {
     "name": "stdout",
     "output_type": "stream",
     "text": [
      "Plot saved at: 2025-10-24_Download_for_specific_days/Data/Month_2003_10/data_graphs/GOES_diff_positive_2003-10-26_00-00-00.png\n",
      "3. USAR FUNCIÓN SUNPY calculate_t_em\n",
      "Ahora vamos a calcular la T y EM con el modelo de abundancias:coronal\n"
     ]
    },
    {
     "name": "stderr",
     "output_type": "stream",
     "text": [
      "Files Downloaded: 100%|██████████| 1/1 [00:00<00:00,  1.24file/s]\n",
      "/home/pjgonzalesp/miniforge3/envs/sunpy/lib/python3.13/site-packages/astropy/units/quantity.py:659: RuntimeWarning: invalid value encountered in divide\n",
      "  result = super().__array_ufunc__(function, method, *arrays, **kwargs)\n"
     ]
    },
    {
     "name": "stdout",
     "output_type": "stream",
     "text": [
      "se calculó T y EM con el modelo de abundancias:coronal\n",
      "Ahora vamos a calcular la T y EM con el modelo de abundancias:photospheric\n"
     ]
    },
    {
     "name": "stderr",
     "output_type": "stream",
     "text": [
      "Files Downloaded: 100%|██████████| 1/1 [00:00<00:00,  1.24file/s]\n",
      "2025-10-24 14:58:37 - root - INFO: Searching for GOES flares between 2003-10-26 00:00:00 and 2003-10-27 00:00:00...\n"
     ]
    },
    {
     "name": "stdout",
     "output_type": "stream",
     "text": [
      "se calculó T y EM con el modelo de abundancias:photospheric\n",
      "4. CONSTRUIR df_full\n",
      "5. añadiendo observatorio: GOES: GOES-10\n",
      "se añadió observatorio: GOES: GOES-10\n",
      "6. Descargando flares: 2003-10-26 00:00:00 - 2003-10-27 00:00:00\n"
     ]
    },
    {
     "name": "stderr",
     "output_type": "stream",
     "text": [
      "2025-10-24 14:58:40 - root - INFO: Found 5 GOES solar flares between 2003-10-26 00:00:00 and 2003-10-27 00:00:00.\n",
      "Día 19 de 185: 2003-10-28\n"
     ]
    },
    {
     "name": "stdout",
     "output_type": "stream",
     "text": [
      "Se descargaron flares para el intervalo 2003-10-26 00:00:00 - 2003-10-27 00:00:00.\n",
      "7. Se filtraron solo flares de GOES.\n",
      "1. Descargar datos GOES\n",
      "Buscando datos de: 2003-10-28 00:00:00\n",
      "Descargando datos de 2003-10-28 00:00:00...\n"
     ]
    },
    {
     "name": "stderr",
     "output_type": "stream",
     "text": [
      "Files Downloaded: 100%|██████████| 4/4 [00:00<00:00,  6.87file/s]\n"
     ]
    },
    {
     "name": "stdout",
     "output_type": "stream",
     "text": [
      "Resolution = 1 minute\n",
      "Gráfica guardada en 2025-10-24_Download_for_specific_days/Data/Month_2003_10/data_graphs/GOES_2003-10-28_00-00-00.png\n",
      "Observatorio encontrado: GOES-10\n",
      "Se encontraron datos  GOES para 2003-10-28 00:00:00 - 2003-10-29 00:00:00. Día saltado.\n",
      "\n",
      "Número de registros: 1440\n",
      "Columnas disponibles: ['xrsa', 'xrsb', 'xrsa_quality', 'xrsb_quality']\n",
      "2. Restar Background\n",
      "Plot saved at: 2025-10-24_Download_for_specific_days/Data/Month_2003_10/data_graphs/GOES_diff_linear_2003-10-28_00-00-00.png\n",
      "Plot saved at: 2025-10-24_Download_for_specific_days/Data/Month_2003_10/data_graphs/GOES_diff_log_2003-10-28_00-00-00.png\n"
     ]
    },
    {
     "name": "stderr",
     "output_type": "stream",
     "text": [
      "/tmp/ipykernel_2397830/750897493.py:225: FutureWarning: Downcasting behavior in Series and DataFrame methods 'where', 'mask', and 'clip' is deprecated. In a future version this will not infer object dtypes or cast all-round floats to integers. Instead call result.infer_objects(copy=False) for object inference, or cast round floats explicitly. To opt-in to the future behavior, set `pd.set_option('future.no_silent_downcasting', True)`\n",
      "  df_o = df_o.clip(lower=1e-9)\n"
     ]
    },
    {
     "name": "stdout",
     "output_type": "stream",
     "text": [
      "Plot saved at: 2025-10-24_Download_for_specific_days/Data/Month_2003_10/data_graphs/GOES_diff_positive_2003-10-28_00-00-00.png\n",
      "3. USAR FUNCIÓN SUNPY calculate_t_em\n",
      "Ahora vamos a calcular la T y EM con el modelo de abundancias:coronal\n"
     ]
    },
    {
     "name": "stderr",
     "output_type": "stream",
     "text": [
      "Files Downloaded: 100%|██████████| 1/1 [00:00<00:00,  1.24file/s]\n",
      "/home/pjgonzalesp/miniforge3/envs/sunpy/lib/python3.13/site-packages/astropy/units/quantity.py:659: RuntimeWarning: invalid value encountered in divide\n",
      "  result = super().__array_ufunc__(function, method, *arrays, **kwargs)\n"
     ]
    },
    {
     "name": "stdout",
     "output_type": "stream",
     "text": [
      "se calculó T y EM con el modelo de abundancias:coronal\n",
      "Ahora vamos a calcular la T y EM con el modelo de abundancias:photospheric\n"
     ]
    },
    {
     "name": "stderr",
     "output_type": "stream",
     "text": [
      "Files Downloaded:   0%|          | 0/1 [00:00<?, ?file/s]Exception ignored in: <function BaseEventLoop.__del__ at 0x7f20fad47420>\n",
      "Traceback (most recent call last):\n",
      "  File \"/home/pjgonzalesp/miniforge3/envs/sunpy/lib/python3.13/asyncio/base_events.py\", line 766, in __del__\n",
      "    self.close()\n",
      "  File \"/home/pjgonzalesp/miniforge3/envs/sunpy/lib/python3.13/asyncio/unix_events.py\", line 73, in close\n",
      "    self.remove_signal_handler(sig)\n",
      "  File \"/home/pjgonzalesp/miniforge3/envs/sunpy/lib/python3.13/asyncio/unix_events.py\", line 162, in remove_signal_handler\n",
      "    signal.signal(sig, handler)\n",
      "  File \"/home/pjgonzalesp/miniforge3/envs/sunpy/lib/python3.13/signal.py\", line 58, in signal\n",
      "    handler = _signal.signal(_enum_to_int(signalnum), _enum_to_int(handler))\n",
      "ValueError: signal only works in main thread of the main interpreter\n",
      "Files Downloaded: 100%|██████████| 1/1 [00:00<00:00,  1.24file/s]\n",
      "2025-10-24 14:58:55 - root - INFO: Searching for GOES flares between 2003-10-28 00:00:00 and 2003-10-29 00:00:00...\n"
     ]
    },
    {
     "name": "stdout",
     "output_type": "stream",
     "text": [
      "se calculó T y EM con el modelo de abundancias:photospheric\n",
      "4. CONSTRUIR df_full\n",
      "5. añadiendo observatorio: GOES: GOES-10\n",
      "se añadió observatorio: GOES: GOES-10\n",
      "6. Descargando flares: 2003-10-28 00:00:00 - 2003-10-29 00:00:00\n"
     ]
    },
    {
     "name": "stderr",
     "output_type": "stream",
     "text": [
      "2025-10-24 14:58:57 - root - INFO: Found 7 GOES solar flares between 2003-10-28 00:00:00 and 2003-10-29 00:00:00.\n",
      "Día 20 de 185: 2003-10-29\n"
     ]
    },
    {
     "name": "stdout",
     "output_type": "stream",
     "text": [
      "Se descargaron flares para el intervalo 2003-10-28 00:00:00 - 2003-10-29 00:00:00.\n",
      "7. Se filtraron solo flares de GOES.\n",
      "1. Descargar datos GOES\n",
      "Buscando datos de: 2003-10-29 00:00:00\n",
      "Descargando datos de 2003-10-29 00:00:00...\n"
     ]
    },
    {
     "name": "stderr",
     "output_type": "stream",
     "text": [
      "Files Downloaded: 100%|██████████| 4/4 [00:00<00:00,  6.40file/s]\n"
     ]
    },
    {
     "name": "stdout",
     "output_type": "stream",
     "text": [
      "Resolution = 1 minute\n",
      "Gráfica guardada en 2025-10-24_Download_for_specific_days/Data/Month_2003_10/data_graphs/GOES_2003-10-29_00-00-00.png\n",
      "Observatorio encontrado: GOES-10\n",
      "Se encontraron datos  GOES para 2003-10-29 00:00:00 - 2003-10-30 00:00:00. Día saltado.\n",
      "\n",
      "Número de registros: 1440\n",
      "Columnas disponibles: ['xrsa', 'xrsb', 'xrsa_quality', 'xrsb_quality']\n",
      "2. Restar Background\n",
      "Plot saved at: 2025-10-24_Download_for_specific_days/Data/Month_2003_10/data_graphs/GOES_diff_linear_2003-10-29_00-00-00.png\n",
      "Plot saved at: 2025-10-24_Download_for_specific_days/Data/Month_2003_10/data_graphs/GOES_diff_log_2003-10-29_00-00-00.png\n"
     ]
    },
    {
     "name": "stderr",
     "output_type": "stream",
     "text": [
      "/tmp/ipykernel_2397830/750897493.py:225: FutureWarning: Downcasting behavior in Series and DataFrame methods 'where', 'mask', and 'clip' is deprecated. In a future version this will not infer object dtypes or cast all-round floats to integers. Instead call result.infer_objects(copy=False) for object inference, or cast round floats explicitly. To opt-in to the future behavior, set `pd.set_option('future.no_silent_downcasting', True)`\n",
      "  df_o = df_o.clip(lower=1e-9)\n"
     ]
    },
    {
     "name": "stdout",
     "output_type": "stream",
     "text": [
      "Plot saved at: 2025-10-24_Download_for_specific_days/Data/Month_2003_10/data_graphs/GOES_diff_positive_2003-10-29_00-00-00.png\n",
      "3. USAR FUNCIÓN SUNPY calculate_t_em\n",
      "Ahora vamos a calcular la T y EM con el modelo de abundancias:coronal\n"
     ]
    },
    {
     "name": "stderr",
     "output_type": "stream",
     "text": [
      "Files Downloaded: 100%|██████████| 1/1 [00:00<00:00,  1.24file/s]\n",
      "/home/pjgonzalesp/miniforge3/envs/sunpy/lib/python3.13/site-packages/astropy/units/quantity.py:659: RuntimeWarning: invalid value encountered in divide\n",
      "  result = super().__array_ufunc__(function, method, *arrays, **kwargs)\n"
     ]
    },
    {
     "name": "stdout",
     "output_type": "stream",
     "text": [
      "se calculó T y EM con el modelo de abundancias:coronal\n",
      "Ahora vamos a calcular la T y EM con el modelo de abundancias:photospheric\n"
     ]
    },
    {
     "name": "stderr",
     "output_type": "stream",
     "text": [
      "Files Downloaded:   0%|          | 0/1 [00:00<?, ?file/s]Exception ignored in: <function BaseEventLoop.__del__ at 0x7f20fad47420>\n",
      "Traceback (most recent call last):\n",
      "  File \"/home/pjgonzalesp/miniforge3/envs/sunpy/lib/python3.13/asyncio/base_events.py\", line 766, in __del__\n",
      "    self.close()\n",
      "  File \"/home/pjgonzalesp/miniforge3/envs/sunpy/lib/python3.13/asyncio/unix_events.py\", line 73, in close\n",
      "    self.remove_signal_handler(sig)\n",
      "  File \"/home/pjgonzalesp/miniforge3/envs/sunpy/lib/python3.13/asyncio/unix_events.py\", line 162, in remove_signal_handler\n",
      "    signal.signal(sig, handler)\n",
      "  File \"/home/pjgonzalesp/miniforge3/envs/sunpy/lib/python3.13/signal.py\", line 58, in signal\n",
      "    handler = _signal.signal(_enum_to_int(signalnum), _enum_to_int(handler))\n",
      "ValueError: signal only works in main thread of the main interpreter\n",
      "Files Downloaded: 100%|██████████| 1/1 [00:01<00:00,  1.35s/file]\n",
      "2025-10-24 14:59:12 - root - INFO: Searching for GOES flares between 2003-10-29 00:00:00 and 2003-10-30 00:00:00...\n"
     ]
    },
    {
     "name": "stdout",
     "output_type": "stream",
     "text": [
      "se calculó T y EM con el modelo de abundancias:photospheric\n",
      "4. CONSTRUIR df_full\n",
      "5. añadiendo observatorio: GOES: GOES-10\n",
      "se añadió observatorio: GOES: GOES-10\n",
      "6. Descargando flares: 2003-10-29 00:00:00 - 2003-10-30 00:00:00\n"
     ]
    },
    {
     "name": "stderr",
     "output_type": "stream",
     "text": [
      "2025-10-24 14:59:14 - root - INFO: Found 7 GOES solar flares between 2003-10-29 00:00:00 and 2003-10-30 00:00:00.\n",
      "Día 21 de 185: 2003-11-02\n"
     ]
    },
    {
     "name": "stdout",
     "output_type": "stream",
     "text": [
      "Se descargaron flares para el intervalo 2003-10-29 00:00:00 - 2003-10-30 00:00:00.\n",
      "7. Se filtraron solo flares de GOES.\n",
      "💾 df_full_2003_10.csv actualizado (7200 filas)\n",
      "✅ Días descargados este mes: [datetime.date(2003, 10, 19), datetime.date(2003, 10, 23), datetime.date(2003, 10, 26), datetime.date(2003, 10, 28), datetime.date(2003, 10, 29)]\n",
      "💾 df_flare_data_2003_10.csv actualizado (30 filas)\n",
      "🏁 Mes 2003_10 terminado → 2025-10-24_Download_for_specific_days/Data/Month_2003_10\n",
      "\n",
      "========================================\n",
      "🟦 Procesando mes 2003_11 (3 días)\n",
      "========================================\n",
      "1. Descargar datos GOES\n",
      "Buscando datos de: 2003-11-02 00:00:00\n",
      "Descargando datos de 2003-11-02 00:00:00...\n"
     ]
    },
    {
     "name": "stderr",
     "output_type": "stream",
     "text": [
      "Files Downloaded: 100%|██████████| 4/4 [00:00<00:00,  6.80file/s]\n"
     ]
    },
    {
     "name": "stdout",
     "output_type": "stream",
     "text": [
      "Resolution = 1 minute\n",
      "Gráfica guardada en 2025-10-24_Download_for_specific_days/Data/Month_2003_11/data_graphs/GOES_2003-11-02_00-00-00.png\n",
      "Observatorio encontrado: GOES-10\n",
      "Se encontraron datos  GOES para 2003-11-02 00:00:00 - 2003-11-03 00:00:00. Día saltado.\n",
      "\n",
      "Número de registros: 1440\n",
      "Columnas disponibles: ['xrsa', 'xrsb', 'xrsa_quality', 'xrsb_quality']\n",
      "2. Restar Background\n",
      "Plot saved at: 2025-10-24_Download_for_specific_days/Data/Month_2003_11/data_graphs/GOES_diff_linear_2003-11-02_00-00-00.png\n",
      "Plot saved at: 2025-10-24_Download_for_specific_days/Data/Month_2003_11/data_graphs/GOES_diff_log_2003-11-02_00-00-00.png\n"
     ]
    },
    {
     "name": "stderr",
     "output_type": "stream",
     "text": [
      "/tmp/ipykernel_2397830/750897493.py:225: FutureWarning: Downcasting behavior in Series and DataFrame methods 'where', 'mask', and 'clip' is deprecated. In a future version this will not infer object dtypes or cast all-round floats to integers. Instead call result.infer_objects(copy=False) for object inference, or cast round floats explicitly. To opt-in to the future behavior, set `pd.set_option('future.no_silent_downcasting', True)`\n",
      "  df_o = df_o.clip(lower=1e-9)\n"
     ]
    },
    {
     "name": "stdout",
     "output_type": "stream",
     "text": [
      "Plot saved at: 2025-10-24_Download_for_specific_days/Data/Month_2003_11/data_graphs/GOES_diff_positive_2003-11-02_00-00-00.png\n",
      "3. USAR FUNCIÓN SUNPY calculate_t_em\n",
      "Ahora vamos a calcular la T y EM con el modelo de abundancias:coronal\n"
     ]
    },
    {
     "name": "stderr",
     "output_type": "stream",
     "text": [
      "Files Downloaded: 100%|██████████| 1/1 [00:00<00:00,  1.09file/s]\n",
      "/home/pjgonzalesp/miniforge3/envs/sunpy/lib/python3.13/site-packages/astropy/units/quantity.py:659: RuntimeWarning: invalid value encountered in divide\n",
      "  result = super().__array_ufunc__(function, method, *arrays, **kwargs)\n"
     ]
    },
    {
     "name": "stdout",
     "output_type": "stream",
     "text": [
      "se calculó T y EM con el modelo de abundancias:coronal\n",
      "Ahora vamos a calcular la T y EM con el modelo de abundancias:photospheric\n"
     ]
    },
    {
     "name": "stderr",
     "output_type": "stream",
     "text": [
      "Files Downloaded: 100%|██████████| 1/1 [00:00<00:00,  1.23file/s]\n",
      "2025-10-24 14:59:29 - root - INFO: Searching for GOES flares between 2003-11-02 00:00:00 and 2003-11-03 00:00:00...\n"
     ]
    },
    {
     "name": "stdout",
     "output_type": "stream",
     "text": [
      "se calculó T y EM con el modelo de abundancias:photospheric\n",
      "4. CONSTRUIR df_full\n",
      "5. añadiendo observatorio: GOES: GOES-10\n",
      "se añadió observatorio: GOES: GOES-10\n",
      "6. Descargando flares: 2003-11-02 00:00:00 - 2003-11-03 00:00:00\n"
     ]
    },
    {
     "name": "stderr",
     "output_type": "stream",
     "text": [
      "2025-10-24 14:59:31 - root - INFO: Found 4 GOES solar flares between 2003-11-02 00:00:00 and 2003-11-03 00:00:00.\n",
      "Día 22 de 185: 2003-11-03\n"
     ]
    },
    {
     "name": "stdout",
     "output_type": "stream",
     "text": [
      "Se descargaron flares para el intervalo 2003-11-02 00:00:00 - 2003-11-03 00:00:00.\n",
      "7. Se filtraron solo flares de GOES.\n",
      "1. Descargar datos GOES\n",
      "Buscando datos de: 2003-11-03 00:00:00\n",
      "Descargando datos de 2003-11-03 00:00:00...\n"
     ]
    },
    {
     "name": "stderr",
     "output_type": "stream",
     "text": [
      "Files Downloaded: 100%|██████████| 4/4 [00:00<00:00,  6.88file/s]\n"
     ]
    },
    {
     "name": "stdout",
     "output_type": "stream",
     "text": [
      "Resolution = 1 minute\n",
      "Gráfica guardada en 2025-10-24_Download_for_specific_days/Data/Month_2003_11/data_graphs/GOES_2003-11-03_00-00-00.png\n",
      "Observatorio encontrado: GOES-10\n",
      "Se encontraron datos  GOES para 2003-11-03 00:00:00 - 2003-11-04 00:00:00. Día saltado.\n",
      "\n",
      "Número de registros: 1440\n",
      "Columnas disponibles: ['xrsa', 'xrsb', 'xrsa_quality', 'xrsb_quality']\n",
      "2. Restar Background\n",
      "Plot saved at: 2025-10-24_Download_for_specific_days/Data/Month_2003_11/data_graphs/GOES_diff_linear_2003-11-03_00-00-00.png\n",
      "Plot saved at: 2025-10-24_Download_for_specific_days/Data/Month_2003_11/data_graphs/GOES_diff_log_2003-11-03_00-00-00.png\n"
     ]
    },
    {
     "name": "stderr",
     "output_type": "stream",
     "text": [
      "/tmp/ipykernel_2397830/750897493.py:225: FutureWarning: Downcasting behavior in Series and DataFrame methods 'where', 'mask', and 'clip' is deprecated. In a future version this will not infer object dtypes or cast all-round floats to integers. Instead call result.infer_objects(copy=False) for object inference, or cast round floats explicitly. To opt-in to the future behavior, set `pd.set_option('future.no_silent_downcasting', True)`\n",
      "  df_o = df_o.clip(lower=1e-9)\n"
     ]
    },
    {
     "name": "stdout",
     "output_type": "stream",
     "text": [
      "Plot saved at: 2025-10-24_Download_for_specific_days/Data/Month_2003_11/data_graphs/GOES_diff_positive_2003-11-03_00-00-00.png\n",
      "3. USAR FUNCIÓN SUNPY calculate_t_em\n",
      "Ahora vamos a calcular la T y EM con el modelo de abundancias:coronal\n"
     ]
    },
    {
     "name": "stderr",
     "output_type": "stream",
     "text": [
      "Files Downloaded: 100%|██████████| 1/1 [00:00<00:00,  1.24file/s]\n",
      "/home/pjgonzalesp/miniforge3/envs/sunpy/lib/python3.13/site-packages/astropy/units/quantity.py:659: RuntimeWarning: invalid value encountered in divide\n",
      "  result = super().__array_ufunc__(function, method, *arrays, **kwargs)\n"
     ]
    },
    {
     "name": "stdout",
     "output_type": "stream",
     "text": [
      "se calculó T y EM con el modelo de abundancias:coronal\n",
      "Ahora vamos a calcular la T y EM con el modelo de abundancias:photospheric\n"
     ]
    },
    {
     "name": "stderr",
     "output_type": "stream",
     "text": [
      "Files Downloaded: 100%|██████████| 1/1 [00:00<00:00,  1.24file/s]\n",
      "2025-10-24 14:59:45 - root - INFO: Searching for GOES flares between 2003-11-03 00:00:00 and 2003-11-04 00:00:00...\n"
     ]
    },
    {
     "name": "stdout",
     "output_type": "stream",
     "text": [
      "se calculó T y EM con el modelo de abundancias:photospheric\n",
      "4. CONSTRUIR df_full\n",
      "5. añadiendo observatorio: GOES: GOES-10\n",
      "se añadió observatorio: GOES: GOES-10\n",
      "6. Descargando flares: 2003-11-03 00:00:00 - 2003-11-04 00:00:00\n"
     ]
    },
    {
     "name": "stderr",
     "output_type": "stream",
     "text": [
      "2025-10-24 14:59:48 - root - INFO: Found 6 GOES solar flares between 2003-11-03 00:00:00 and 2003-11-04 00:00:00.\n",
      "Día 23 de 185: 2003-11-04\n"
     ]
    },
    {
     "name": "stdout",
     "output_type": "stream",
     "text": [
      "Se descargaron flares para el intervalo 2003-11-03 00:00:00 - 2003-11-04 00:00:00.\n",
      "7. Se filtraron solo flares de GOES.\n",
      "1. Descargar datos GOES\n",
      "Buscando datos de: 2003-11-04 00:00:00\n",
      "Descargando datos de 2003-11-04 00:00:00...\n"
     ]
    },
    {
     "name": "stderr",
     "output_type": "stream",
     "text": [
      "Files Downloaded: 100%|██████████| 4/4 [00:00<00:00,  6.70file/s]\n"
     ]
    },
    {
     "name": "stdout",
     "output_type": "stream",
     "text": [
      "Resolution = 1 minute\n",
      "Gráfica guardada en 2025-10-24_Download_for_specific_days/Data/Month_2003_11/data_graphs/GOES_2003-11-04_00-00-00.png\n",
      "Observatorio encontrado: GOES-10\n",
      "Se encontraron datos  GOES para 2003-11-04 00:00:00 - 2003-11-05 00:00:00. Día saltado.\n",
      "\n",
      "Número de registros: 1440\n",
      "Columnas disponibles: ['xrsa', 'xrsb', 'xrsa_quality', 'xrsb_quality']\n",
      "2. Restar Background\n",
      "Plot saved at: 2025-10-24_Download_for_specific_days/Data/Month_2003_11/data_graphs/GOES_diff_linear_2003-11-04_00-00-00.png\n",
      "Plot saved at: 2025-10-24_Download_for_specific_days/Data/Month_2003_11/data_graphs/GOES_diff_log_2003-11-04_00-00-00.png\n"
     ]
    },
    {
     "name": "stderr",
     "output_type": "stream",
     "text": [
      "/tmp/ipykernel_2397830/750897493.py:225: FutureWarning: Downcasting behavior in Series and DataFrame methods 'where', 'mask', and 'clip' is deprecated. In a future version this will not infer object dtypes or cast all-round floats to integers. Instead call result.infer_objects(copy=False) for object inference, or cast round floats explicitly. To opt-in to the future behavior, set `pd.set_option('future.no_silent_downcasting', True)`\n",
      "  df_o = df_o.clip(lower=1e-9)\n"
     ]
    },
    {
     "name": "stdout",
     "output_type": "stream",
     "text": [
      "Plot saved at: 2025-10-24_Download_for_specific_days/Data/Month_2003_11/data_graphs/GOES_diff_positive_2003-11-04_00-00-00.png\n",
      "3. USAR FUNCIÓN SUNPY calculate_t_em\n",
      "Ahora vamos a calcular la T y EM con el modelo de abundancias:coronal\n"
     ]
    },
    {
     "name": "stderr",
     "output_type": "stream",
     "text": [
      "Files Downloaded: 100%|██████████| 1/1 [00:01<00:00,  1.21s/file]\n",
      "/home/pjgonzalesp/miniforge3/envs/sunpy/lib/python3.13/site-packages/astropy/units/quantity.py:659: RuntimeWarning: invalid value encountered in divide\n",
      "  result = super().__array_ufunc__(function, method, *arrays, **kwargs)\n"
     ]
    },
    {
     "name": "stdout",
     "output_type": "stream",
     "text": [
      "se calculó T y EM con el modelo de abundancias:coronal\n",
      "Ahora vamos a calcular la T y EM con el modelo de abundancias:photospheric\n"
     ]
    },
    {
     "name": "stderr",
     "output_type": "stream",
     "text": [
      "Files Downloaded: 100%|██████████| 1/1 [00:00<00:00,  1.02file/s]\n",
      "2025-10-24 15:00:03 - root - INFO: Searching for GOES flares between 2003-11-04 00:00:00 and 2003-11-05 00:00:00...\n"
     ]
    },
    {
     "name": "stdout",
     "output_type": "stream",
     "text": [
      "se calculó T y EM con el modelo de abundancias:photospheric\n",
      "4. CONSTRUIR df_full\n",
      "5. añadiendo observatorio: GOES: GOES-10\n",
      "se añadió observatorio: GOES: GOES-10\n",
      "6. Descargando flares: 2003-11-04 00:00:00 - 2003-11-05 00:00:00\n"
     ]
    },
    {
     "name": "stderr",
     "output_type": "stream",
     "text": [
      "2025-10-24 15:00:08 - root - INFO: Found 7 GOES solar flares between 2003-11-04 00:00:00 and 2003-11-05 00:00:00.\n",
      "Día 24 de 185: 2004-02-26\n"
     ]
    },
    {
     "name": "stdout",
     "output_type": "stream",
     "text": [
      "Se descargaron flares para el intervalo 2003-11-04 00:00:00 - 2003-11-05 00:00:00.\n",
      "7. Se filtraron solo flares de GOES.\n",
      "💾 df_full_2003_11.csv actualizado (4320 filas)\n",
      "✅ Días descargados este mes: [datetime.date(2003, 11, 2), datetime.date(2003, 11, 3), datetime.date(2003, 11, 4)]\n",
      "💾 df_flare_data_2003_11.csv actualizado (17 filas)\n",
      "🏁 Mes 2003_11 terminado → 2025-10-24_Download_for_specific_days/Data/Month_2003_11\n",
      "\n",
      "========================================\n",
      "🟦 Procesando mes 2004_02 (1 días)\n",
      "========================================\n",
      "1. Descargar datos GOES\n",
      "Buscando datos de: 2004-02-26 00:00:00\n",
      "Descargando datos de 2004-02-26 00:00:00...\n"
     ]
    },
    {
     "name": "stderr",
     "output_type": "stream",
     "text": [
      "Files Downloaded: 100%|██████████| 4/4 [00:00<00:00,  6.75file/s]\n"
     ]
    },
    {
     "name": "stdout",
     "output_type": "stream",
     "text": [
      "Resolution = 1 minute\n",
      "Gráfica guardada en 2025-10-24_Download_for_specific_days/Data/Month_2004_02/data_graphs/GOES_2004-02-26_00-00-00.png\n",
      "Observatorio encontrado: GOES-10\n",
      "Se encontraron datos  GOES para 2004-02-26 00:00:00 - 2004-02-27 00:00:00. Día saltado.\n",
      "\n",
      "Número de registros: 1440\n",
      "Columnas disponibles: ['xrsa', 'xrsb', 'xrsa_quality', 'xrsb_quality']\n",
      "2. Restar Background\n",
      "Plot saved at: 2025-10-24_Download_for_specific_days/Data/Month_2004_02/data_graphs/GOES_diff_linear_2004-02-26_00-00-00.png\n",
      "Plot saved at: 2025-10-24_Download_for_specific_days/Data/Month_2004_02/data_graphs/GOES_diff_log_2004-02-26_00-00-00.png\n"
     ]
    },
    {
     "name": "stderr",
     "output_type": "stream",
     "text": [
      "/tmp/ipykernel_2397830/750897493.py:225: FutureWarning: Downcasting behavior in Series and DataFrame methods 'where', 'mask', and 'clip' is deprecated. In a future version this will not infer object dtypes or cast all-round floats to integers. Instead call result.infer_objects(copy=False) for object inference, or cast round floats explicitly. To opt-in to the future behavior, set `pd.set_option('future.no_silent_downcasting', True)`\n",
      "  df_o = df_o.clip(lower=1e-9)\n"
     ]
    },
    {
     "name": "stdout",
     "output_type": "stream",
     "text": [
      "Plot saved at: 2025-10-24_Download_for_specific_days/Data/Month_2004_02/data_graphs/GOES_diff_positive_2004-02-26_00-00-00.png\n",
      "3. USAR FUNCIÓN SUNPY calculate_t_em\n",
      "Ahora vamos a calcular la T y EM con el modelo de abundancias:coronal\n"
     ]
    },
    {
     "name": "stderr",
     "output_type": "stream",
     "text": [
      "Files Downloaded: 100%|██████████| 1/1 [00:00<00:00,  1.24file/s]\n",
      "/home/pjgonzalesp/miniforge3/envs/sunpy/lib/python3.13/site-packages/astropy/units/quantity.py:659: RuntimeWarning: invalid value encountered in divide\n",
      "  result = super().__array_ufunc__(function, method, *arrays, **kwargs)\n"
     ]
    },
    {
     "name": "stdout",
     "output_type": "stream",
     "text": [
      "se calculó T y EM con el modelo de abundancias:coronal\n",
      "Ahora vamos a calcular la T y EM con el modelo de abundancias:photospheric\n"
     ]
    },
    {
     "name": "stderr",
     "output_type": "stream",
     "text": [
      "Files Downloaded: 100%|██████████| 1/1 [00:00<00:00,  1.24file/s]\n",
      "2025-10-24 15:00:23 - root - INFO: Searching for GOES flares between 2004-02-26 00:00:00 and 2004-02-27 00:00:00...\n"
     ]
    },
    {
     "name": "stdout",
     "output_type": "stream",
     "text": [
      "se calculó T y EM con el modelo de abundancias:photospheric\n",
      "4. CONSTRUIR df_full\n",
      "5. añadiendo observatorio: GOES: GOES-10\n",
      "se añadió observatorio: GOES: GOES-10\n",
      "6. Descargando flares: 2004-02-26 00:00:00 - 2004-02-27 00:00:00\n"
     ]
    },
    {
     "name": "stderr",
     "output_type": "stream",
     "text": [
      "2025-10-24 15:00:25 - root - INFO: Found 11 GOES solar flares between 2004-02-26 00:00:00 and 2004-02-27 00:00:00.\n",
      "Día 25 de 185: 2004-07-15\n"
     ]
    },
    {
     "name": "stdout",
     "output_type": "stream",
     "text": [
      "Se descargaron flares para el intervalo 2004-02-26 00:00:00 - 2004-02-27 00:00:00.\n",
      "7. Se filtraron solo flares de GOES.\n",
      "💾 df_full_2004_02.csv actualizado (1440 filas)\n",
      "✅ Días descargados este mes: [datetime.date(2004, 2, 26)]\n",
      "💾 df_flare_data_2004_02.csv actualizado (11 filas)\n",
      "🏁 Mes 2004_02 terminado → 2025-10-24_Download_for_specific_days/Data/Month_2004_02\n",
      "\n",
      "========================================\n",
      "🟦 Procesando mes 2004_07 (3 días)\n",
      "========================================\n",
      "1. Descargar datos GOES\n",
      "Buscando datos de: 2004-07-15 00:00:00\n",
      "Descargando datos de 2004-07-15 00:00:00...\n"
     ]
    },
    {
     "name": "stderr",
     "output_type": "stream",
     "text": [
      "Files Downloaded: 100%|██████████| 4/4 [00:00<00:00,  6.74file/s]\n"
     ]
    },
    {
     "name": "stdout",
     "output_type": "stream",
     "text": [
      "Resolution = 1 minute\n",
      "Gráfica guardada en 2025-10-24_Download_for_specific_days/Data/Month_2004_07/data_graphs/GOES_2004-07-15_00-00-00.png\n",
      "Observatorio encontrado: GOES-10\n",
      "Se encontraron datos  GOES para 2004-07-15 00:00:00 - 2004-07-16 00:00:00. Día saltado.\n",
      "\n",
      "Número de registros: 1440\n",
      "Columnas disponibles: ['xrsa', 'xrsb', 'xrsa_quality', 'xrsb_quality']\n",
      "2. Restar Background\n",
      "Plot saved at: 2025-10-24_Download_for_specific_days/Data/Month_2004_07/data_graphs/GOES_diff_linear_2004-07-15_00-00-00.png\n",
      "Plot saved at: 2025-10-24_Download_for_specific_days/Data/Month_2004_07/data_graphs/GOES_diff_log_2004-07-15_00-00-00.png\n"
     ]
    },
    {
     "name": "stderr",
     "output_type": "stream",
     "text": [
      "/tmp/ipykernel_2397830/750897493.py:225: FutureWarning: Downcasting behavior in Series and DataFrame methods 'where', 'mask', and 'clip' is deprecated. In a future version this will not infer object dtypes or cast all-round floats to integers. Instead call result.infer_objects(copy=False) for object inference, or cast round floats explicitly. To opt-in to the future behavior, set `pd.set_option('future.no_silent_downcasting', True)`\n",
      "  df_o = df_o.clip(lower=1e-9)\n"
     ]
    },
    {
     "name": "stdout",
     "output_type": "stream",
     "text": [
      "Plot saved at: 2025-10-24_Download_for_specific_days/Data/Month_2004_07/data_graphs/GOES_diff_positive_2004-07-15_00-00-00.png\n",
      "3. USAR FUNCIÓN SUNPY calculate_t_em\n",
      "Ahora vamos a calcular la T y EM con el modelo de abundancias:coronal\n"
     ]
    },
    {
     "name": "stderr",
     "output_type": "stream",
     "text": [
      "Files Downloaded: 100%|██████████| 1/1 [00:01<00:00,  1.83s/file]\n",
      "/home/pjgonzalesp/miniforge3/envs/sunpy/lib/python3.13/site-packages/astropy/units/quantity.py:659: RuntimeWarning: invalid value encountered in divide\n",
      "  result = super().__array_ufunc__(function, method, *arrays, **kwargs)\n"
     ]
    },
    {
     "name": "stdout",
     "output_type": "stream",
     "text": [
      "se calculó T y EM con el modelo de abundancias:coronal\n",
      "Ahora vamos a calcular la T y EM con el modelo de abundancias:photospheric\n"
     ]
    },
    {
     "name": "stderr",
     "output_type": "stream",
     "text": [
      "Files Downloaded: 100%|██████████| 1/1 [00:00<00:00,  1.18file/s]\n",
      "2025-10-24 15:00:41 - root - INFO: Searching for GOES flares between 2004-07-15 00:00:00 and 2004-07-16 00:00:00...\n"
     ]
    },
    {
     "name": "stdout",
     "output_type": "stream",
     "text": [
      "se calculó T y EM con el modelo de abundancias:photospheric\n",
      "4. CONSTRUIR df_full\n",
      "5. añadiendo observatorio: GOES: GOES-10\n",
      "se añadió observatorio: GOES: GOES-10\n",
      "6. Descargando flares: 2004-07-15 00:00:00 - 2004-07-16 00:00:00\n"
     ]
    },
    {
     "name": "stderr",
     "output_type": "stream",
     "text": [
      "2025-10-24 15:00:43 - root - INFO: Found 6 GOES solar flares between 2004-07-15 00:00:00 and 2004-07-16 00:00:00.\n",
      "Día 26 de 185: 2004-07-16\n"
     ]
    },
    {
     "name": "stdout",
     "output_type": "stream",
     "text": [
      "Se descargaron flares para el intervalo 2004-07-15 00:00:00 - 2004-07-16 00:00:00.\n",
      "7. Se filtraron solo flares de GOES.\n",
      "1. Descargar datos GOES\n",
      "Buscando datos de: 2004-07-16 00:00:00\n",
      "Descargando datos de 2004-07-16 00:00:00...\n"
     ]
    },
    {
     "name": "stderr",
     "output_type": "stream",
     "text": [
      "Files Downloaded: 100%|██████████| 4/4 [00:00<00:00,  6.89file/s]\n"
     ]
    },
    {
     "name": "stdout",
     "output_type": "stream",
     "text": [
      "Resolution = 1 minute\n",
      "Gráfica guardada en 2025-10-24_Download_for_specific_days/Data/Month_2004_07/data_graphs/GOES_2004-07-16_00-00-00.png\n",
      "Observatorio encontrado: GOES-10\n",
      "Se encontraron datos  GOES para 2004-07-16 00:00:00 - 2004-07-17 00:00:00. Día saltado.\n",
      "\n",
      "Número de registros: 1440\n",
      "Columnas disponibles: ['xrsa', 'xrsb', 'xrsa_quality', 'xrsb_quality']\n",
      "2. Restar Background\n",
      "Plot saved at: 2025-10-24_Download_for_specific_days/Data/Month_2004_07/data_graphs/GOES_diff_linear_2004-07-16_00-00-00.png\n",
      "Plot saved at: 2025-10-24_Download_for_specific_days/Data/Month_2004_07/data_graphs/GOES_diff_log_2004-07-16_00-00-00.png\n"
     ]
    },
    {
     "name": "stderr",
     "output_type": "stream",
     "text": [
      "/tmp/ipykernel_2397830/750897493.py:225: FutureWarning: Downcasting behavior in Series and DataFrame methods 'where', 'mask', and 'clip' is deprecated. In a future version this will not infer object dtypes or cast all-round floats to integers. Instead call result.infer_objects(copy=False) for object inference, or cast round floats explicitly. To opt-in to the future behavior, set `pd.set_option('future.no_silent_downcasting', True)`\n",
      "  df_o = df_o.clip(lower=1e-9)\n"
     ]
    },
    {
     "name": "stdout",
     "output_type": "stream",
     "text": [
      "Plot saved at: 2025-10-24_Download_for_specific_days/Data/Month_2004_07/data_graphs/GOES_diff_positive_2004-07-16_00-00-00.png\n",
      "3. USAR FUNCIÓN SUNPY calculate_t_em\n",
      "Ahora vamos a calcular la T y EM con el modelo de abundancias:coronal\n"
     ]
    },
    {
     "name": "stderr",
     "output_type": "stream",
     "text": [
      "Files Downloaded: 100%|██████████| 1/1 [00:00<00:00,  1.22file/s]\n",
      "/home/pjgonzalesp/miniforge3/envs/sunpy/lib/python3.13/site-packages/astropy/units/quantity.py:659: RuntimeWarning: invalid value encountered in divide\n",
      "  result = super().__array_ufunc__(function, method, *arrays, **kwargs)\n"
     ]
    },
    {
     "name": "stdout",
     "output_type": "stream",
     "text": [
      "se calculó T y EM con el modelo de abundancias:coronal\n",
      "Ahora vamos a calcular la T y EM con el modelo de abundancias:photospheric\n"
     ]
    },
    {
     "name": "stderr",
     "output_type": "stream",
     "text": [
      "Files Downloaded: 100%|██████████| 1/1 [00:00<00:00,  1.24file/s]\n",
      "2025-10-24 15:00:57 - root - INFO: Searching for GOES flares between 2004-07-16 00:00:00 and 2004-07-17 00:00:00...\n"
     ]
    },
    {
     "name": "stdout",
     "output_type": "stream",
     "text": [
      "se calculó T y EM con el modelo de abundancias:photospheric\n",
      "4. CONSTRUIR df_full\n",
      "5. añadiendo observatorio: GOES: GOES-10\n",
      "se añadió observatorio: GOES: GOES-10\n",
      "6. Descargando flares: 2004-07-16 00:00:00 - 2004-07-17 00:00:00\n"
     ]
    },
    {
     "name": "stderr",
     "output_type": "stream",
     "text": [
      "2025-10-24 15:00:59 - root - INFO: Found 8 GOES solar flares between 2004-07-16 00:00:00 and 2004-07-17 00:00:00.\n",
      "Día 27 de 185: 2004-07-17\n"
     ]
    },
    {
     "name": "stdout",
     "output_type": "stream",
     "text": [
      "Se descargaron flares para el intervalo 2004-07-16 00:00:00 - 2004-07-17 00:00:00.\n",
      "7. Se filtraron solo flares de GOES.\n",
      "1. Descargar datos GOES\n",
      "Buscando datos de: 2004-07-17 00:00:00\n",
      "Descargando datos de 2004-07-17 00:00:00...\n"
     ]
    },
    {
     "name": "stderr",
     "output_type": "stream",
     "text": [
      "Files Downloaded: 100%|██████████| 4/4 [00:00<00:00,  6.90file/s]\n"
     ]
    },
    {
     "name": "stdout",
     "output_type": "stream",
     "text": [
      "Resolution = 1 minute\n",
      "Gráfica guardada en 2025-10-24_Download_for_specific_days/Data/Month_2004_07/data_graphs/GOES_2004-07-17_00-00-00.png\n",
      "Observatorio encontrado: GOES-10\n",
      "Se encontraron datos  GOES para 2004-07-17 00:00:00 - 2004-07-18 00:00:00. Día saltado.\n",
      "\n",
      "Número de registros: 1440\n",
      "Columnas disponibles: ['xrsa', 'xrsb', 'xrsa_quality', 'xrsb_quality']\n",
      "2. Restar Background\n",
      "Plot saved at: 2025-10-24_Download_for_specific_days/Data/Month_2004_07/data_graphs/GOES_diff_linear_2004-07-17_00-00-00.png\n",
      "Plot saved at: 2025-10-24_Download_for_specific_days/Data/Month_2004_07/data_graphs/GOES_diff_log_2004-07-17_00-00-00.png\n"
     ]
    },
    {
     "name": "stderr",
     "output_type": "stream",
     "text": [
      "/tmp/ipykernel_2397830/750897493.py:225: FutureWarning: Downcasting behavior in Series and DataFrame methods 'where', 'mask', and 'clip' is deprecated. In a future version this will not infer object dtypes or cast all-round floats to integers. Instead call result.infer_objects(copy=False) for object inference, or cast round floats explicitly. To opt-in to the future behavior, set `pd.set_option('future.no_silent_downcasting', True)`\n",
      "  df_o = df_o.clip(lower=1e-9)\n"
     ]
    },
    {
     "name": "stdout",
     "output_type": "stream",
     "text": [
      "Plot saved at: 2025-10-24_Download_for_specific_days/Data/Month_2004_07/data_graphs/GOES_diff_positive_2004-07-17_00-00-00.png\n",
      "3. USAR FUNCIÓN SUNPY calculate_t_em\n",
      "Ahora vamos a calcular la T y EM con el modelo de abundancias:coronal\n"
     ]
    },
    {
     "name": "stderr",
     "output_type": "stream",
     "text": [
      "Files Downloaded: 100%|██████████| 1/1 [00:00<00:00,  1.24file/s]\n",
      "/home/pjgonzalesp/miniforge3/envs/sunpy/lib/python3.13/site-packages/astropy/units/quantity.py:659: RuntimeWarning: invalid value encountered in divide\n",
      "  result = super().__array_ufunc__(function, method, *arrays, **kwargs)\n"
     ]
    },
    {
     "name": "stdout",
     "output_type": "stream",
     "text": [
      "se calculó T y EM con el modelo de abundancias:coronal\n",
      "Ahora vamos a calcular la T y EM con el modelo de abundancias:photospheric\n"
     ]
    },
    {
     "name": "stderr",
     "output_type": "stream",
     "text": [
      "Files Downloaded: 100%|██████████| 1/1 [00:01<00:00,  1.02s/file]\n",
      "2025-10-24 15:01:14 - root - INFO: Searching for GOES flares between 2004-07-17 00:00:00 and 2004-07-18 00:00:00...\n"
     ]
    },
    {
     "name": "stdout",
     "output_type": "stream",
     "text": [
      "se calculó T y EM con el modelo de abundancias:photospheric\n",
      "4. CONSTRUIR df_full\n",
      "5. añadiendo observatorio: GOES: GOES-10\n",
      "se añadió observatorio: GOES: GOES-10\n",
      "6. Descargando flares: 2004-07-17 00:00:00 - 2004-07-18 00:00:00\n"
     ]
    },
    {
     "name": "stderr",
     "output_type": "stream",
     "text": [
      "2025-10-24 15:01:17 - root - INFO: Found 16 GOES solar flares between 2004-07-17 00:00:00 and 2004-07-18 00:00:00.\n",
      "Día 28 de 185: 2004-08-13\n"
     ]
    },
    {
     "name": "stdout",
     "output_type": "stream",
     "text": [
      "Se descargaron flares para el intervalo 2004-07-17 00:00:00 - 2004-07-18 00:00:00.\n",
      "7. Se filtraron solo flares de GOES.\n",
      "💾 df_full_2004_07.csv actualizado (4320 filas)\n",
      "✅ Días descargados este mes: [datetime.date(2004, 7, 15), datetime.date(2004, 7, 16), datetime.date(2004, 7, 17)]\n",
      "💾 df_flare_data_2004_07.csv actualizado (30 filas)\n",
      "🏁 Mes 2004_07 terminado → 2025-10-24_Download_for_specific_days/Data/Month_2004_07\n",
      "\n",
      "========================================\n",
      "🟦 Procesando mes 2004_08 (2 días)\n",
      "========================================\n",
      "1. Descargar datos GOES\n",
      "Buscando datos de: 2004-08-13 00:00:00\n",
      "Descargando datos de 2004-08-13 00:00:00...\n"
     ]
    },
    {
     "name": "stderr",
     "output_type": "stream",
     "text": [
      "Files Downloaded: 100%|██████████| 4/4 [00:00<00:00,  4.66file/s]\n"
     ]
    },
    {
     "name": "stdout",
     "output_type": "stream",
     "text": [
      "Resolution = 1 minute\n",
      "Gráfica guardada en 2025-10-24_Download_for_specific_days/Data/Month_2004_08/data_graphs/GOES_2004-08-13_00-00-00.png\n",
      "Observatorio encontrado: GOES-10\n",
      "Se encontraron datos  GOES para 2004-08-13 00:00:00 - 2004-08-14 00:00:00. Día saltado.\n",
      "\n",
      "Número de registros: 1440\n",
      "Columnas disponibles: ['xrsa', 'xrsb', 'xrsa_quality', 'xrsb_quality']\n",
      "2. Restar Background\n",
      "Plot saved at: 2025-10-24_Download_for_specific_days/Data/Month_2004_08/data_graphs/GOES_diff_linear_2004-08-13_00-00-00.png\n",
      "Plot saved at: 2025-10-24_Download_for_specific_days/Data/Month_2004_08/data_graphs/GOES_diff_log_2004-08-13_00-00-00.png\n"
     ]
    },
    {
     "name": "stderr",
     "output_type": "stream",
     "text": [
      "/tmp/ipykernel_2397830/750897493.py:225: FutureWarning: Downcasting behavior in Series and DataFrame methods 'where', 'mask', and 'clip' is deprecated. In a future version this will not infer object dtypes or cast all-round floats to integers. Instead call result.infer_objects(copy=False) for object inference, or cast round floats explicitly. To opt-in to the future behavior, set `pd.set_option('future.no_silent_downcasting', True)`\n",
      "  df_o = df_o.clip(lower=1e-9)\n"
     ]
    },
    {
     "name": "stdout",
     "output_type": "stream",
     "text": [
      "Plot saved at: 2025-10-24_Download_for_specific_days/Data/Month_2004_08/data_graphs/GOES_diff_positive_2004-08-13_00-00-00.png\n",
      "3. USAR FUNCIÓN SUNPY calculate_t_em\n",
      "Ahora vamos a calcular la T y EM con el modelo de abundancias:coronal\n"
     ]
    },
    {
     "name": "stderr",
     "output_type": "stream",
     "text": [
      "Files Downloaded: 100%|██████████| 1/1 [00:01<00:00,  1.56s/file]\n",
      "/home/pjgonzalesp/miniforge3/envs/sunpy/lib/python3.13/site-packages/astropy/units/quantity.py:659: RuntimeWarning: invalid value encountered in divide\n",
      "  result = super().__array_ufunc__(function, method, *arrays, **kwargs)\n"
     ]
    },
    {
     "name": "stdout",
     "output_type": "stream",
     "text": [
      "se calculó T y EM con el modelo de abundancias:coronal\n",
      "Ahora vamos a calcular la T y EM con el modelo de abundancias:photospheric\n"
     ]
    },
    {
     "name": "stderr",
     "output_type": "stream",
     "text": [
      "Files Downloaded: 100%|██████████| 1/1 [00:00<00:00,  1.10file/s]\n",
      "2025-10-24 15:01:33 - root - INFO: Searching for GOES flares between 2004-08-13 00:00:00 and 2004-08-14 00:00:00...\n"
     ]
    },
    {
     "name": "stdout",
     "output_type": "stream",
     "text": [
      "se calculó T y EM con el modelo de abundancias:photospheric\n",
      "4. CONSTRUIR df_full\n",
      "5. añadiendo observatorio: GOES: GOES-10\n",
      "se añadió observatorio: GOES: GOES-10\n",
      "6. Descargando flares: 2004-08-13 00:00:00 - 2004-08-14 00:00:00\n"
     ]
    },
    {
     "name": "stderr",
     "output_type": "stream",
     "text": [
      "2025-10-24 15:01:36 - root - INFO: Found 11 GOES solar flares between 2004-08-13 00:00:00 and 2004-08-14 00:00:00.\n",
      "Día 29 de 185: 2004-08-18\n"
     ]
    },
    {
     "name": "stdout",
     "output_type": "stream",
     "text": [
      "Se descargaron flares para el intervalo 2004-08-13 00:00:00 - 2004-08-14 00:00:00.\n",
      "7. Se filtraron solo flares de GOES.\n",
      "1. Descargar datos GOES\n",
      "Buscando datos de: 2004-08-18 00:00:00\n",
      "Descargando datos de 2004-08-18 00:00:00...\n"
     ]
    },
    {
     "name": "stderr",
     "output_type": "stream",
     "text": [
      "Files Downloaded: 100%|██████████| 4/4 [00:00<00:00,  6.69file/s]\n"
     ]
    },
    {
     "name": "stdout",
     "output_type": "stream",
     "text": [
      "Resolution = 1 minute\n",
      "Gráfica guardada en 2025-10-24_Download_for_specific_days/Data/Month_2004_08/data_graphs/GOES_2004-08-18_00-00-00.png\n",
      "Observatorio encontrado: GOES-10\n",
      "Se encontraron datos  GOES para 2004-08-18 00:00:00 - 2004-08-19 00:00:00. Día saltado.\n",
      "\n",
      "Número de registros: 1440\n",
      "Columnas disponibles: ['xrsa', 'xrsb', 'xrsa_quality', 'xrsb_quality']\n",
      "2. Restar Background\n",
      "Plot saved at: 2025-10-24_Download_for_specific_days/Data/Month_2004_08/data_graphs/GOES_diff_linear_2004-08-18_00-00-00.png\n",
      "Plot saved at: 2025-10-24_Download_for_specific_days/Data/Month_2004_08/data_graphs/GOES_diff_log_2004-08-18_00-00-00.png\n"
     ]
    },
    {
     "name": "stderr",
     "output_type": "stream",
     "text": [
      "/tmp/ipykernel_2397830/750897493.py:225: FutureWarning: Downcasting behavior in Series and DataFrame methods 'where', 'mask', and 'clip' is deprecated. In a future version this will not infer object dtypes or cast all-round floats to integers. Instead call result.infer_objects(copy=False) for object inference, or cast round floats explicitly. To opt-in to the future behavior, set `pd.set_option('future.no_silent_downcasting', True)`\n",
      "  df_o = df_o.clip(lower=1e-9)\n"
     ]
    },
    {
     "name": "stdout",
     "output_type": "stream",
     "text": [
      "Plot saved at: 2025-10-24_Download_for_specific_days/Data/Month_2004_08/data_graphs/GOES_diff_positive_2004-08-18_00-00-00.png\n",
      "3. USAR FUNCIÓN SUNPY calculate_t_em\n",
      "Ahora vamos a calcular la T y EM con el modelo de abundancias:coronal\n"
     ]
    },
    {
     "name": "stderr",
     "output_type": "stream",
     "text": [
      "Files Downloaded: 100%|██████████| 1/1 [00:01<00:00,  1.10s/file]\n",
      "/home/pjgonzalesp/miniforge3/envs/sunpy/lib/python3.13/site-packages/astropy/units/quantity.py:659: RuntimeWarning: invalid value encountered in divide\n",
      "  result = super().__array_ufunc__(function, method, *arrays, **kwargs)\n"
     ]
    },
    {
     "name": "stdout",
     "output_type": "stream",
     "text": [
      "se calculó T y EM con el modelo de abundancias:coronal\n",
      "Ahora vamos a calcular la T y EM con el modelo de abundancias:photospheric\n"
     ]
    },
    {
     "name": "stderr",
     "output_type": "stream",
     "text": [
      "Files Downloaded:   0%|          | 0/1 [00:00<?, ?file/s]Exception ignored in: <function BaseEventLoop.__del__ at 0x7f20fad47420>\n",
      "Traceback (most recent call last):\n",
      "  File \"/home/pjgonzalesp/miniforge3/envs/sunpy/lib/python3.13/asyncio/base_events.py\", line 766, in __del__\n",
      "    self.close()\n",
      "  File \"/home/pjgonzalesp/miniforge3/envs/sunpy/lib/python3.13/asyncio/unix_events.py\", line 73, in close\n",
      "    self.remove_signal_handler(sig)\n",
      "  File \"/home/pjgonzalesp/miniforge3/envs/sunpy/lib/python3.13/asyncio/unix_events.py\", line 162, in remove_signal_handler\n",
      "    signal.signal(sig, handler)\n",
      "  File \"/home/pjgonzalesp/miniforge3/envs/sunpy/lib/python3.13/signal.py\", line 58, in signal\n",
      "    handler = _signal.signal(_enum_to_int(signalnum), _enum_to_int(handler))\n",
      "ValueError: signal only works in main thread of the main interpreter\n",
      "Files Downloaded: 100%|██████████| 1/1 [00:00<00:00,  1.17file/s]\n",
      "2025-10-24 15:01:52 - root - INFO: Searching for GOES flares between 2004-08-18 00:00:00 and 2004-08-19 00:00:00...\n"
     ]
    },
    {
     "name": "stdout",
     "output_type": "stream",
     "text": [
      "se calculó T y EM con el modelo de abundancias:photospheric\n",
      "4. CONSTRUIR df_full\n",
      "5. añadiendo observatorio: GOES: GOES-10\n",
      "se añadió observatorio: GOES: GOES-10\n",
      "6. Descargando flares: 2004-08-18 00:00:00 - 2004-08-19 00:00:00\n"
     ]
    },
    {
     "name": "stderr",
     "output_type": "stream",
     "text": [
      "2025-10-24 15:01:54 - root - INFO: Found 13 GOES solar flares between 2004-08-18 00:00:00 and 2004-08-19 00:00:00.\n",
      "Día 30 de 185: 2004-10-30\n"
     ]
    },
    {
     "name": "stdout",
     "output_type": "stream",
     "text": [
      "Se descargaron flares para el intervalo 2004-08-18 00:00:00 - 2004-08-19 00:00:00.\n",
      "7. Se filtraron solo flares de GOES.\n",
      "💾 df_full_2004_08.csv actualizado (2880 filas)\n",
      "✅ Días descargados este mes: [datetime.date(2004, 8, 13), datetime.date(2004, 8, 18)]\n",
      "💾 df_flare_data_2004_08.csv actualizado (24 filas)\n",
      "🏁 Mes 2004_08 terminado → 2025-10-24_Download_for_specific_days/Data/Month_2004_08\n",
      "\n",
      "========================================\n",
      "🟦 Procesando mes 2004_10 (1 días)\n",
      "========================================\n",
      "1. Descargar datos GOES\n",
      "Buscando datos de: 2004-10-30 00:00:00\n",
      "Descargando datos de 2004-10-30 00:00:00...\n"
     ]
    },
    {
     "name": "stderr",
     "output_type": "stream",
     "text": [
      "Files Downloaded: 100%|██████████| 4/4 [00:00<00:00,  6.89file/s]\n"
     ]
    },
    {
     "name": "stdout",
     "output_type": "stream",
     "text": [
      "Resolution = 1 minute\n",
      "Gráfica guardada en 2025-10-24_Download_for_specific_days/Data/Month_2004_10/data_graphs/GOES_2004-10-30_00-00-00.png\n",
      "Observatorio encontrado: GOES-10\n",
      "Se encontraron datos  GOES para 2004-10-30 00:00:00 - 2004-10-31 00:00:00. Día saltado.\n",
      "\n",
      "Número de registros: 1440\n",
      "Columnas disponibles: ['xrsa', 'xrsb', 'xrsa_quality', 'xrsb_quality']\n",
      "2. Restar Background\n",
      "Plot saved at: 2025-10-24_Download_for_specific_days/Data/Month_2004_10/data_graphs/GOES_diff_linear_2004-10-30_00-00-00.png\n",
      "Plot saved at: 2025-10-24_Download_for_specific_days/Data/Month_2004_10/data_graphs/GOES_diff_log_2004-10-30_00-00-00.png\n"
     ]
    },
    {
     "name": "stderr",
     "output_type": "stream",
     "text": [
      "/tmp/ipykernel_2397830/750897493.py:225: FutureWarning: Downcasting behavior in Series and DataFrame methods 'where', 'mask', and 'clip' is deprecated. In a future version this will not infer object dtypes or cast all-round floats to integers. Instead call result.infer_objects(copy=False) for object inference, or cast round floats explicitly. To opt-in to the future behavior, set `pd.set_option('future.no_silent_downcasting', True)`\n",
      "  df_o = df_o.clip(lower=1e-9)\n"
     ]
    },
    {
     "name": "stdout",
     "output_type": "stream",
     "text": [
      "Plot saved at: 2025-10-24_Download_for_specific_days/Data/Month_2004_10/data_graphs/GOES_diff_positive_2004-10-30_00-00-00.png\n",
      "3. USAR FUNCIÓN SUNPY calculate_t_em\n",
      "Ahora vamos a calcular la T y EM con el modelo de abundancias:coronal\n"
     ]
    },
    {
     "name": "stderr",
     "output_type": "stream",
     "text": [
      "Files Downloaded: 100%|██████████| 1/1 [00:01<00:00,  1.18s/file]\n",
      "/home/pjgonzalesp/miniforge3/envs/sunpy/lib/python3.13/site-packages/astropy/units/quantity.py:659: RuntimeWarning: invalid value encountered in divide\n",
      "  result = super().__array_ufunc__(function, method, *arrays, **kwargs)\n"
     ]
    },
    {
     "name": "stdout",
     "output_type": "stream",
     "text": [
      "se calculó T y EM con el modelo de abundancias:coronal\n",
      "Ahora vamos a calcular la T y EM con el modelo de abundancias:photospheric\n"
     ]
    },
    {
     "name": "stderr",
     "output_type": "stream",
     "text": [
      "Files Downloaded: 100%|██████████| 1/1 [00:01<00:00,  1.00s/file]\n",
      "2025-10-24 15:02:10 - root - INFO: Searching for GOES flares between 2004-10-30 00:00:00 and 2004-10-31 00:00:00...\n"
     ]
    },
    {
     "name": "stdout",
     "output_type": "stream",
     "text": [
      "se calculó T y EM con el modelo de abundancias:photospheric\n",
      "4. CONSTRUIR df_full\n",
      "5. añadiendo observatorio: GOES: GOES-10\n",
      "se añadió observatorio: GOES: GOES-10\n",
      "6. Descargando flares: 2004-10-30 00:00:00 - 2004-10-31 00:00:00\n"
     ]
    },
    {
     "name": "stderr",
     "output_type": "stream",
     "text": [
      "2025-10-24 15:02:13 - root - INFO: Found 22 GOES solar flares between 2004-10-30 00:00:00 and 2004-10-31 00:00:00.\n",
      "Día 31 de 185: 2004-11-07\n"
     ]
    },
    {
     "name": "stdout",
     "output_type": "stream",
     "text": [
      "Se descargaron flares para el intervalo 2004-10-30 00:00:00 - 2004-10-31 00:00:00.\n",
      "7. Se filtraron solo flares de GOES.\n",
      "💾 df_full_2004_10.csv actualizado (1440 filas)\n",
      "✅ Días descargados este mes: [datetime.date(2004, 10, 30)]\n",
      "💾 df_flare_data_2004_10.csv actualizado (22 filas)\n",
      "🏁 Mes 2004_10 terminado → 2025-10-24_Download_for_specific_days/Data/Month_2004_10\n",
      "\n",
      "========================================\n",
      "🟦 Procesando mes 2004_11 (2 días)\n",
      "========================================\n",
      "1. Descargar datos GOES\n",
      "Buscando datos de: 2004-11-07 00:00:00\n",
      "Descargando datos de 2004-11-07 00:00:00...\n"
     ]
    },
    {
     "name": "stderr",
     "output_type": "stream",
     "text": [
      "Files Downloaded: 100%|██████████| 4/4 [00:00<00:00,  6.81file/s]\n"
     ]
    },
    {
     "name": "stdout",
     "output_type": "stream",
     "text": [
      "Resolution = 1 minute\n",
      "Gráfica guardada en 2025-10-24_Download_for_specific_days/Data/Month_2004_11/data_graphs/GOES_2004-11-07_00-00-00.png\n",
      "Observatorio encontrado: GOES-10\n",
      "Se encontraron datos  GOES para 2004-11-07 00:00:00 - 2004-11-08 00:00:00. Día saltado.\n",
      "\n",
      "Número de registros: 1440\n",
      "Columnas disponibles: ['xrsa', 'xrsb', 'xrsa_quality', 'xrsb_quality']\n",
      "2. Restar Background\n",
      "Plot saved at: 2025-10-24_Download_for_specific_days/Data/Month_2004_11/data_graphs/GOES_diff_linear_2004-11-07_00-00-00.png\n",
      "Plot saved at: 2025-10-24_Download_for_specific_days/Data/Month_2004_11/data_graphs/GOES_diff_log_2004-11-07_00-00-00.png\n"
     ]
    },
    {
     "name": "stderr",
     "output_type": "stream",
     "text": [
      "/tmp/ipykernel_2397830/750897493.py:225: FutureWarning: Downcasting behavior in Series and DataFrame methods 'where', 'mask', and 'clip' is deprecated. In a future version this will not infer object dtypes or cast all-round floats to integers. Instead call result.infer_objects(copy=False) for object inference, or cast round floats explicitly. To opt-in to the future behavior, set `pd.set_option('future.no_silent_downcasting', True)`\n",
      "  df_o = df_o.clip(lower=1e-9)\n"
     ]
    },
    {
     "name": "stdout",
     "output_type": "stream",
     "text": [
      "Plot saved at: 2025-10-24_Download_for_specific_days/Data/Month_2004_11/data_graphs/GOES_diff_positive_2004-11-07_00-00-00.png\n",
      "3. USAR FUNCIÓN SUNPY calculate_t_em\n",
      "Ahora vamos a calcular la T y EM con el modelo de abundancias:coronal\n"
     ]
    },
    {
     "name": "stderr",
     "output_type": "stream",
     "text": [
      "Files Downloaded: 100%|██████████| 1/1 [00:01<00:00,  1.04s/file]\n",
      "/home/pjgonzalesp/miniforge3/envs/sunpy/lib/python3.13/site-packages/astropy/units/quantity.py:659: RuntimeWarning: invalid value encountered in divide\n",
      "  result = super().__array_ufunc__(function, method, *arrays, **kwargs)\n"
     ]
    },
    {
     "name": "stdout",
     "output_type": "stream",
     "text": [
      "se calculó T y EM con el modelo de abundancias:coronal\n",
      "Ahora vamos a calcular la T y EM con el modelo de abundancias:photospheric\n"
     ]
    },
    {
     "name": "stderr",
     "output_type": "stream",
     "text": [
      "Files Downloaded: 100%|██████████| 1/1 [00:00<00:00,  1.24file/s]\n",
      "2025-10-24 15:02:28 - root - INFO: Searching for GOES flares between 2004-11-07 00:00:00 and 2004-11-08 00:00:00...\n"
     ]
    },
    {
     "name": "stdout",
     "output_type": "stream",
     "text": [
      "se calculó T y EM con el modelo de abundancias:photospheric\n",
      "4. CONSTRUIR df_full\n",
      "5. añadiendo observatorio: GOES: GOES-10\n",
      "se añadió observatorio: GOES: GOES-10\n",
      "6. Descargando flares: 2004-11-07 00:00:00 - 2004-11-08 00:00:00\n"
     ]
    },
    {
     "name": "stderr",
     "output_type": "stream",
     "text": [
      "2025-10-24 15:02:32 - root - INFO: Found 15 GOES solar flares between 2004-11-07 00:00:00 and 2004-11-08 00:00:00.\n",
      "Día 32 de 185: 2004-11-10\n"
     ]
    },
    {
     "name": "stdout",
     "output_type": "stream",
     "text": [
      "Se descargaron flares para el intervalo 2004-11-07 00:00:00 - 2004-11-08 00:00:00.\n",
      "7. Se filtraron solo flares de GOES.\n",
      "1. Descargar datos GOES\n",
      "Buscando datos de: 2004-11-10 00:00:00\n",
      "Descargando datos de 2004-11-10 00:00:00...\n"
     ]
    },
    {
     "name": "stderr",
     "output_type": "stream",
     "text": [
      "Files Downloaded: 100%|██████████| 4/4 [00:00<00:00,  6.76file/s]\n"
     ]
    },
    {
     "name": "stdout",
     "output_type": "stream",
     "text": [
      "Resolution = 1 minute\n",
      "Gráfica guardada en 2025-10-24_Download_for_specific_days/Data/Month_2004_11/data_graphs/GOES_2004-11-10_00-00-00.png\n",
      "Observatorio encontrado: GOES-10\n",
      "Se encontraron datos  GOES para 2004-11-10 00:00:00 - 2004-11-11 00:00:00. Día saltado.\n",
      "\n",
      "Número de registros: 1440\n",
      "Columnas disponibles: ['xrsa', 'xrsb', 'xrsa_quality', 'xrsb_quality']\n",
      "2. Restar Background\n",
      "Plot saved at: 2025-10-24_Download_for_specific_days/Data/Month_2004_11/data_graphs/GOES_diff_linear_2004-11-10_00-00-00.png\n",
      "Plot saved at: 2025-10-24_Download_for_specific_days/Data/Month_2004_11/data_graphs/GOES_diff_log_2004-11-10_00-00-00.png\n"
     ]
    },
    {
     "name": "stderr",
     "output_type": "stream",
     "text": [
      "/tmp/ipykernel_2397830/750897493.py:225: FutureWarning: Downcasting behavior in Series and DataFrame methods 'where', 'mask', and 'clip' is deprecated. In a future version this will not infer object dtypes or cast all-round floats to integers. Instead call result.infer_objects(copy=False) for object inference, or cast round floats explicitly. To opt-in to the future behavior, set `pd.set_option('future.no_silent_downcasting', True)`\n",
      "  df_o = df_o.clip(lower=1e-9)\n"
     ]
    },
    {
     "name": "stdout",
     "output_type": "stream",
     "text": [
      "Plot saved at: 2025-10-24_Download_for_specific_days/Data/Month_2004_11/data_graphs/GOES_diff_positive_2004-11-10_00-00-00.png\n",
      "3. USAR FUNCIÓN SUNPY calculate_t_em\n",
      "Ahora vamos a calcular la T y EM con el modelo de abundancias:coronal\n"
     ]
    },
    {
     "name": "stderr",
     "output_type": "stream",
     "text": [
      "Files Downloaded: 100%|██████████| 1/1 [00:00<00:00,  1.19file/s]\n",
      "/home/pjgonzalesp/miniforge3/envs/sunpy/lib/python3.13/site-packages/astropy/units/quantity.py:659: RuntimeWarning: divide by zero encountered in divide\n",
      "  result = super().__array_ufunc__(function, method, *arrays, **kwargs)\n",
      "/home/pjgonzalesp/miniforge3/envs/sunpy/lib/python3.13/site-packages/astropy/units/quantity.py:659: RuntimeWarning: invalid value encountered in divide\n",
      "  result = super().__array_ufunc__(function, method, *arrays, **kwargs)\n"
     ]
    },
    {
     "name": "stdout",
     "output_type": "stream",
     "text": [
      "se calculó T y EM con el modelo de abundancias:coronal\n",
      "Ahora vamos a calcular la T y EM con el modelo de abundancias:photospheric\n"
     ]
    },
    {
     "name": "stderr",
     "output_type": "stream",
     "text": [
      "Files Downloaded: 100%|██████████| 1/1 [00:02<00:00,  2.19s/file]\n",
      "2025-10-24 15:02:47 - root - INFO: Searching for GOES flares between 2004-11-10 00:00:00 and 2004-11-11 00:00:00...\n"
     ]
    },
    {
     "name": "stdout",
     "output_type": "stream",
     "text": [
      "se calculó T y EM con el modelo de abundancias:photospheric\n",
      "4. CONSTRUIR df_full\n",
      "5. añadiendo observatorio: GOES: GOES-10\n",
      "se añadió observatorio: GOES: GOES-10\n",
      "6. Descargando flares: 2004-11-10 00:00:00 - 2004-11-11 00:00:00\n"
     ]
    },
    {
     "name": "stderr",
     "output_type": "stream",
     "text": [
      "2025-10-24 15:02:50 - root - INFO: Found 11 GOES solar flares between 2004-11-10 00:00:00 and 2004-11-11 00:00:00.\n",
      "Día 33 de 185: 2006-12-05\n"
     ]
    },
    {
     "name": "stdout",
     "output_type": "stream",
     "text": [
      "Se descargaron flares para el intervalo 2004-11-10 00:00:00 - 2004-11-11 00:00:00.\n",
      "7. Se filtraron solo flares de GOES.\n",
      "💾 df_full_2004_11.csv actualizado (2880 filas)\n",
      "✅ Días descargados este mes: [datetime.date(2004, 11, 7), datetime.date(2004, 11, 10)]\n",
      "💾 df_flare_data_2004_11.csv actualizado (26 filas)\n",
      "🏁 Mes 2004_11 terminado → 2025-10-24_Download_for_specific_days/Data/Month_2004_11\n",
      "\n",
      "========================================\n",
      "🟦 Procesando mes 2006_12 (4 días)\n",
      "========================================\n",
      "1. Descargar datos GOES\n",
      "Buscando datos de: 2006-12-05 00:00:00\n",
      "Descargando datos de 2006-12-05 00:00:00...\n"
     ]
    },
    {
     "name": "stderr",
     "output_type": "stream",
     "text": [
      "Files Downloaded: 100%|██████████| 6/6 [00:01<00:00,  5.19file/s]\n"
     ]
    },
    {
     "name": "stdout",
     "output_type": "stream",
     "text": [
      "Resolution = 1 minute\n",
      "Gráfica guardada en 2025-10-24_Download_for_specific_days/Data/Month_2006_12/data_graphs/GOES_2006-12-05_00-00-00.png\n",
      "Observatorio encontrado: GOES-10\n",
      "Se encontraron datos  GOES para 2006-12-05 00:00:00 - 2006-12-06 00:00:00. Día saltado.\n",
      "\n",
      "Número de registros: 1440\n",
      "Columnas disponibles: ['xrsa', 'xrsb', 'xrsa_quality', 'xrsb_quality']\n",
      "2. Restar Background\n",
      "Plot saved at: 2025-10-24_Download_for_specific_days/Data/Month_2006_12/data_graphs/GOES_diff_linear_2006-12-05_00-00-00.png\n",
      "Plot saved at: 2025-10-24_Download_for_specific_days/Data/Month_2006_12/data_graphs/GOES_diff_log_2006-12-05_00-00-00.png\n"
     ]
    },
    {
     "name": "stderr",
     "output_type": "stream",
     "text": [
      "/tmp/ipykernel_2397830/750897493.py:225: FutureWarning: Downcasting behavior in Series and DataFrame methods 'where', 'mask', and 'clip' is deprecated. In a future version this will not infer object dtypes or cast all-round floats to integers. Instead call result.infer_objects(copy=False) for object inference, or cast round floats explicitly. To opt-in to the future behavior, set `pd.set_option('future.no_silent_downcasting', True)`\n",
      "  df_o = df_o.clip(lower=1e-9)\n"
     ]
    },
    {
     "name": "stdout",
     "output_type": "stream",
     "text": [
      "Plot saved at: 2025-10-24_Download_for_specific_days/Data/Month_2006_12/data_graphs/GOES_diff_positive_2006-12-05_00-00-00.png\n",
      "3. USAR FUNCIÓN SUNPY calculate_t_em\n",
      "Ahora vamos a calcular la T y EM con el modelo de abundancias:coronal\n"
     ]
    },
    {
     "name": "stderr",
     "output_type": "stream",
     "text": [
      "Files Downloaded: 100%|██████████| 1/1 [00:00<00:00,  1.19file/s]\n",
      "/home/pjgonzalesp/miniforge3/envs/sunpy/lib/python3.13/site-packages/astropy/units/quantity.py:659: RuntimeWarning: divide by zero encountered in divide\n",
      "  result = super().__array_ufunc__(function, method, *arrays, **kwargs)\n",
      "/home/pjgonzalesp/miniforge3/envs/sunpy/lib/python3.13/site-packages/astropy/units/quantity.py:659: RuntimeWarning: invalid value encountered in divide\n",
      "  result = super().__array_ufunc__(function, method, *arrays, **kwargs)\n"
     ]
    },
    {
     "name": "stdout",
     "output_type": "stream",
     "text": [
      "se calculó T y EM con el modelo de abundancias:coronal\n",
      "Ahora vamos a calcular la T y EM con el modelo de abundancias:photospheric\n"
     ]
    },
    {
     "name": "stderr",
     "output_type": "stream",
     "text": [
      "Files Downloaded: 100%|██████████| 1/1 [00:00<00:00,  1.24file/s]\n",
      "2025-10-24 15:03:05 - root - INFO: Searching for GOES flares between 2006-12-05 00:00:00 and 2006-12-06 00:00:00...\n"
     ]
    },
    {
     "name": "stdout",
     "output_type": "stream",
     "text": [
      "se calculó T y EM con el modelo de abundancias:photospheric\n",
      "4. CONSTRUIR df_full\n",
      "5. añadiendo observatorio: GOES: GOES-10\n",
      "se añadió observatorio: GOES: GOES-10\n",
      "6. Descargando flares: 2006-12-05 00:00:00 - 2006-12-06 00:00:00\n"
     ]
    },
    {
     "name": "stderr",
     "output_type": "stream",
     "text": [
      "2025-10-24 15:03:08 - root - INFO: Found 18 GOES solar flares between 2006-12-05 00:00:00 and 2006-12-06 00:00:00.\n",
      "Día 34 de 185: 2006-12-06\n"
     ]
    },
    {
     "name": "stdout",
     "output_type": "stream",
     "text": [
      "Se descargaron flares para el intervalo 2006-12-05 00:00:00 - 2006-12-06 00:00:00.\n",
      "7. Se filtraron solo flares de GOES.\n",
      "1. Descargar datos GOES\n",
      "Buscando datos de: 2006-12-06 00:00:00\n",
      "Descargando datos de 2006-12-06 00:00:00...\n"
     ]
    },
    {
     "name": "stderr",
     "output_type": "stream",
     "text": [
      "Files Downloaded: 100%|██████████| 6/6 [00:01<00:00,  5.18file/s]\n"
     ]
    },
    {
     "name": "stdout",
     "output_type": "stream",
     "text": [
      "Resolution = 1 minute\n",
      "Gráfica guardada en 2025-10-24_Download_for_specific_days/Data/Month_2006_12/data_graphs/GOES_2006-12-06_00-00-00.png\n",
      "Observatorio encontrado: GOES-10\n",
      "Se encontraron datos  GOES para 2006-12-06 00:00:00 - 2006-12-07 00:00:00. Día saltado.\n",
      "\n",
      "Número de registros: 1440\n",
      "Columnas disponibles: ['xrsa', 'xrsb', 'xrsa_quality', 'xrsb_quality']\n",
      "2. Restar Background\n",
      "Plot saved at: 2025-10-24_Download_for_specific_days/Data/Month_2006_12/data_graphs/GOES_diff_linear_2006-12-06_00-00-00.png\n",
      "Plot saved at: 2025-10-24_Download_for_specific_days/Data/Month_2006_12/data_graphs/GOES_diff_log_2006-12-06_00-00-00.png\n"
     ]
    },
    {
     "name": "stderr",
     "output_type": "stream",
     "text": [
      "/tmp/ipykernel_2397830/750897493.py:225: FutureWarning: Downcasting behavior in Series and DataFrame methods 'where', 'mask', and 'clip' is deprecated. In a future version this will not infer object dtypes or cast all-round floats to integers. Instead call result.infer_objects(copy=False) for object inference, or cast round floats explicitly. To opt-in to the future behavior, set `pd.set_option('future.no_silent_downcasting', True)`\n",
      "  df_o = df_o.clip(lower=1e-9)\n"
     ]
    },
    {
     "name": "stdout",
     "output_type": "stream",
     "text": [
      "Plot saved at: 2025-10-24_Download_for_specific_days/Data/Month_2006_12/data_graphs/GOES_diff_positive_2006-12-06_00-00-00.png\n",
      "3. USAR FUNCIÓN SUNPY calculate_t_em\n",
      "Ahora vamos a calcular la T y EM con el modelo de abundancias:coronal\n"
     ]
    },
    {
     "name": "stderr",
     "output_type": "stream",
     "text": [
      "Files Downloaded: 100%|██████████| 1/1 [00:00<00:00,  1.09file/s]\n",
      "/home/pjgonzalesp/miniforge3/envs/sunpy/lib/python3.13/site-packages/astropy/units/quantity.py:659: RuntimeWarning: divide by zero encountered in divide\n",
      "  result = super().__array_ufunc__(function, method, *arrays, **kwargs)\n",
      "/home/pjgonzalesp/miniforge3/envs/sunpy/lib/python3.13/site-packages/astropy/units/quantity.py:659: RuntimeWarning: invalid value encountered in divide\n",
      "  result = super().__array_ufunc__(function, method, *arrays, **kwargs)\n"
     ]
    },
    {
     "name": "stdout",
     "output_type": "stream",
     "text": [
      "se calculó T y EM con el modelo de abundancias:coronal\n",
      "Ahora vamos a calcular la T y EM con el modelo de abundancias:photospheric\n"
     ]
    },
    {
     "name": "stderr",
     "output_type": "stream",
     "text": [
      "Files Downloaded: 100%|██████████| 1/1 [00:01<00:00,  1.22s/file]\n",
      "2025-10-24 15:03:24 - root - INFO: Searching for GOES flares between 2006-12-06 00:00:00 and 2006-12-07 00:00:00...\n"
     ]
    },
    {
     "name": "stdout",
     "output_type": "stream",
     "text": [
      "se calculó T y EM con el modelo de abundancias:photospheric\n",
      "4. CONSTRUIR df_full\n",
      "5. añadiendo observatorio: GOES: GOES-10\n",
      "se añadió observatorio: GOES: GOES-10\n",
      "6. Descargando flares: 2006-12-06 00:00:00 - 2006-12-07 00:00:00\n"
     ]
    },
    {
     "name": "stderr",
     "output_type": "stream",
     "text": [
      "2025-10-24 15:03:27 - root - INFO: Found 18 GOES solar flares between 2006-12-06 00:00:00 and 2006-12-07 00:00:00.\n",
      "Día 35 de 185: 2006-12-13\n"
     ]
    },
    {
     "name": "stdout",
     "output_type": "stream",
     "text": [
      "Se descargaron flares para el intervalo 2006-12-06 00:00:00 - 2006-12-07 00:00:00.\n",
      "7. Se filtraron solo flares de GOES.\n",
      "1. Descargar datos GOES\n",
      "Buscando datos de: 2006-12-13 00:00:00\n",
      "Descargando datos de 2006-12-13 00:00:00...\n"
     ]
    },
    {
     "name": "stderr",
     "output_type": "stream",
     "text": [
      "Files Downloaded: 100%|██████████| 6/6 [00:01<00:00,  5.12file/s]\n"
     ]
    },
    {
     "name": "stdout",
     "output_type": "stream",
     "text": [
      "Resolution = 1 minute\n",
      "Gráfica guardada en 2025-10-24_Download_for_specific_days/Data/Month_2006_12/data_graphs/GOES_2006-12-13_00-00-00.png\n",
      "Observatorio encontrado: GOES-10\n",
      "Se encontraron datos  GOES para 2006-12-13 00:00:00 - 2006-12-14 00:00:00. Día saltado.\n",
      "\n",
      "Número de registros: 1440\n",
      "Columnas disponibles: ['xrsa', 'xrsb', 'xrsa_quality', 'xrsb_quality']\n",
      "2. Restar Background\n",
      "Plot saved at: 2025-10-24_Download_for_specific_days/Data/Month_2006_12/data_graphs/GOES_diff_linear_2006-12-13_00-00-00.png\n",
      "Plot saved at: 2025-10-24_Download_for_specific_days/Data/Month_2006_12/data_graphs/GOES_diff_log_2006-12-13_00-00-00.png\n"
     ]
    },
    {
     "name": "stderr",
     "output_type": "stream",
     "text": [
      "/tmp/ipykernel_2397830/750897493.py:225: FutureWarning: Downcasting behavior in Series and DataFrame methods 'where', 'mask', and 'clip' is deprecated. In a future version this will not infer object dtypes or cast all-round floats to integers. Instead call result.infer_objects(copy=False) for object inference, or cast round floats explicitly. To opt-in to the future behavior, set `pd.set_option('future.no_silent_downcasting', True)`\n",
      "  df_o = df_o.clip(lower=1e-9)\n"
     ]
    },
    {
     "name": "stdout",
     "output_type": "stream",
     "text": [
      "Plot saved at: 2025-10-24_Download_for_specific_days/Data/Month_2006_12/data_graphs/GOES_diff_positive_2006-12-13_00-00-00.png\n",
      "3. USAR FUNCIÓN SUNPY calculate_t_em\n",
      "Ahora vamos a calcular la T y EM con el modelo de abundancias:coronal\n"
     ]
    },
    {
     "name": "stderr",
     "output_type": "stream",
     "text": [
      "Files Downloaded: 100%|██████████| 1/1 [00:00<00:00,  1.20file/s]\n",
      "/home/pjgonzalesp/miniforge3/envs/sunpy/lib/python3.13/site-packages/astropy/units/quantity.py:659: RuntimeWarning: divide by zero encountered in divide\n",
      "  result = super().__array_ufunc__(function, method, *arrays, **kwargs)\n",
      "/home/pjgonzalesp/miniforge3/envs/sunpy/lib/python3.13/site-packages/astropy/units/quantity.py:659: RuntimeWarning: invalid value encountered in divide\n",
      "  result = super().__array_ufunc__(function, method, *arrays, **kwargs)\n"
     ]
    },
    {
     "name": "stdout",
     "output_type": "stream",
     "text": [
      "se calculó T y EM con el modelo de abundancias:coronal\n",
      "Ahora vamos a calcular la T y EM con el modelo de abundancias:photospheric\n"
     ]
    },
    {
     "name": "stderr",
     "output_type": "stream",
     "text": [
      "Files Downloaded: 100%|██████████| 1/1 [00:00<00:00,  1.20file/s]\n",
      "2025-10-24 15:03:42 - root - INFO: Searching for GOES flares between 2006-12-13 00:00:00 and 2006-12-14 00:00:00...\n"
     ]
    },
    {
     "name": "stdout",
     "output_type": "stream",
     "text": [
      "se calculó T y EM con el modelo de abundancias:photospheric\n",
      "4. CONSTRUIR df_full\n",
      "5. añadiendo observatorio: GOES: GOES-10\n",
      "se añadió observatorio: GOES: GOES-10\n",
      "6. Descargando flares: 2006-12-13 00:00:00 - 2006-12-14 00:00:00\n"
     ]
    },
    {
     "name": "stderr",
     "output_type": "stream",
     "text": [
      "2025-10-24 15:03:44 - root - INFO: Found 6 GOES solar flares between 2006-12-13 00:00:00 and 2006-12-14 00:00:00.\n",
      "Día 36 de 185: 2006-12-14\n"
     ]
    },
    {
     "name": "stdout",
     "output_type": "stream",
     "text": [
      "Se descargaron flares para el intervalo 2006-12-13 00:00:00 - 2006-12-14 00:00:00.\n",
      "7. Se filtraron solo flares de GOES.\n",
      "1. Descargar datos GOES\n",
      "Buscando datos de: 2006-12-14 00:00:00\n",
      "Descargando datos de 2006-12-14 00:00:00...\n"
     ]
    },
    {
     "name": "stderr",
     "output_type": "stream",
     "text": [
      "Files Downloaded: 100%|██████████| 6/6 [00:01<00:00,  5.16file/s]\n"
     ]
    },
    {
     "name": "stdout",
     "output_type": "stream",
     "text": [
      "Resolution = 1 minute\n",
      "Gráfica guardada en 2025-10-24_Download_for_specific_days/Data/Month_2006_12/data_graphs/GOES_2006-12-14_00-00-00.png\n",
      "Observatorio encontrado: GOES-10\n",
      "Se encontraron datos  GOES para 2006-12-14 00:00:00 - 2006-12-15 00:00:00. Día saltado.\n",
      "\n",
      "Número de registros: 1440\n",
      "Columnas disponibles: ['xrsa', 'xrsb', 'xrsa_quality', 'xrsb_quality']\n",
      "2. Restar Background\n",
      "Plot saved at: 2025-10-24_Download_for_specific_days/Data/Month_2006_12/data_graphs/GOES_diff_linear_2006-12-14_00-00-00.png\n",
      "Plot saved at: 2025-10-24_Download_for_specific_days/Data/Month_2006_12/data_graphs/GOES_diff_log_2006-12-14_00-00-00.png\n"
     ]
    },
    {
     "name": "stderr",
     "output_type": "stream",
     "text": [
      "/tmp/ipykernel_2397830/750897493.py:225: FutureWarning: Downcasting behavior in Series and DataFrame methods 'where', 'mask', and 'clip' is deprecated. In a future version this will not infer object dtypes or cast all-round floats to integers. Instead call result.infer_objects(copy=False) for object inference, or cast round floats explicitly. To opt-in to the future behavior, set `pd.set_option('future.no_silent_downcasting', True)`\n",
      "  df_o = df_o.clip(lower=1e-9)\n"
     ]
    },
    {
     "name": "stdout",
     "output_type": "stream",
     "text": [
      "Plot saved at: 2025-10-24_Download_for_specific_days/Data/Month_2006_12/data_graphs/GOES_diff_positive_2006-12-14_00-00-00.png\n",
      "3. USAR FUNCIÓN SUNPY calculate_t_em\n",
      "Ahora vamos a calcular la T y EM con el modelo de abundancias:coronal\n"
     ]
    },
    {
     "name": "stderr",
     "output_type": "stream",
     "text": [
      "Files Downloaded: 100%|██████████| 1/1 [00:00<00:00,  1.24file/s]\n",
      "/home/pjgonzalesp/miniforge3/envs/sunpy/lib/python3.13/site-packages/astropy/units/quantity.py:659: RuntimeWarning: divide by zero encountered in divide\n",
      "  result = super().__array_ufunc__(function, method, *arrays, **kwargs)\n",
      "/home/pjgonzalesp/miniforge3/envs/sunpy/lib/python3.13/site-packages/astropy/units/quantity.py:659: RuntimeWarning: invalid value encountered in divide\n",
      "  result = super().__array_ufunc__(function, method, *arrays, **kwargs)\n"
     ]
    },
    {
     "name": "stdout",
     "output_type": "stream",
     "text": [
      "se calculó T y EM con el modelo de abundancias:coronal\n",
      "Ahora vamos a calcular la T y EM con el modelo de abundancias:photospheric\n"
     ]
    },
    {
     "name": "stderr",
     "output_type": "stream",
     "text": [
      "Files Downloaded: 100%|██████████| 1/1 [00:00<00:00,  1.23file/s]\n",
      "2025-10-24 15:04:01 - root - INFO: Searching for GOES flares between 2006-12-14 00:00:00 and 2006-12-15 00:00:00...\n"
     ]
    },
    {
     "name": "stdout",
     "output_type": "stream",
     "text": [
      "se calculó T y EM con el modelo de abundancias:photospheric\n",
      "4. CONSTRUIR df_full\n",
      "5. añadiendo observatorio: GOES: GOES-10\n",
      "se añadió observatorio: GOES: GOES-10\n",
      "6. Descargando flares: 2006-12-14 00:00:00 - 2006-12-15 00:00:00\n"
     ]
    },
    {
     "name": "stderr",
     "output_type": "stream",
     "text": [
      "2025-10-24 15:04:04 - root - INFO: Found 16 GOES solar flares between 2006-12-14 00:00:00 and 2006-12-15 00:00:00.\n",
      "Día 37 de 185: 2011-02-15\n"
     ]
    },
    {
     "name": "stdout",
     "output_type": "stream",
     "text": [
      "Se descargaron flares para el intervalo 2006-12-14 00:00:00 - 2006-12-15 00:00:00.\n",
      "7. Se filtraron solo flares de GOES.\n",
      "💾 df_full_2006_12.csv actualizado (5760 filas)\n",
      "✅ Días descargados este mes: [datetime.date(2006, 12, 5), datetime.date(2006, 12, 6), datetime.date(2006, 12, 13), datetime.date(2006, 12, 14)]\n",
      "💾 df_flare_data_2006_12.csv actualizado (58 filas)\n",
      "🏁 Mes 2006_12 terminado → 2025-10-24_Download_for_specific_days/Data/Month_2006_12\n",
      "\n",
      "========================================\n",
      "🟦 Procesando mes 2011_02 (1 días)\n",
      "========================================\n",
      "1. Descargar datos GOES\n",
      "Buscando datos de: 2011-02-15 00:00:00\n",
      "Descargando datos de 2011-02-15 00:00:00...\n"
     ]
    },
    {
     "name": "stderr",
     "output_type": "stream",
     "text": [
      "Files Downloaded:   0%|          | 0/2 [00:00<?, ?file/s]\n",
      "\u001b[A\n",
      "Files Downloaded:  50%|█████     | 1/2 [00:01<00:01,  1.65s/file]\n",
      "\u001b[A\n",
      "Files Downloaded: 100%|██████████| 2/2 [00:01<00:00,  1.20file/s]\n"
     ]
    },
    {
     "name": "stdout",
     "output_type": "stream",
     "text": [
      "Resolution = 1 minute\n",
      "Gráfica guardada en 2025-10-24_Download_for_specific_days/Data/Month_2011_02/data_graphs/GOES_2011-02-15_00-00-00.png\n",
      "Observatorio encontrado: GOES-15\n",
      "Se encontraron datos  GOES para 2011-02-15 00:00:00 - 2011-02-16 00:00:00. Día saltado.\n",
      "\n",
      "Número de registros: 1440\n",
      "Columnas disponibles: ['xrsa', 'xrsb', 'xrsa_quality', 'xrsb_quality']\n",
      "2. Restar Background\n",
      "Plot saved at: 2025-10-24_Download_for_specific_days/Data/Month_2011_02/data_graphs/GOES_diff_linear_2011-02-15_00-00-00.png\n",
      "Plot saved at: 2025-10-24_Download_for_specific_days/Data/Month_2011_02/data_graphs/GOES_diff_log_2011-02-15_00-00-00.png\n"
     ]
    },
    {
     "name": "stderr",
     "output_type": "stream",
     "text": [
      "/tmp/ipykernel_2397830/750897493.py:225: FutureWarning: Downcasting behavior in Series and DataFrame methods 'where', 'mask', and 'clip' is deprecated. In a future version this will not infer object dtypes or cast all-round floats to integers. Instead call result.infer_objects(copy=False) for object inference, or cast round floats explicitly. To opt-in to the future behavior, set `pd.set_option('future.no_silent_downcasting', True)`\n",
      "  df_o = df_o.clip(lower=1e-9)\n"
     ]
    },
    {
     "name": "stdout",
     "output_type": "stream",
     "text": [
      "Plot saved at: 2025-10-24_Download_for_specific_days/Data/Month_2011_02/data_graphs/GOES_diff_positive_2011-02-15_00-00-00.png\n",
      "3. USAR FUNCIÓN SUNPY calculate_t_em\n",
      "Ahora vamos a calcular la T y EM con el modelo de abundancias:coronal\n"
     ]
    },
    {
     "name": "stderr",
     "output_type": "stream",
     "text": [
      "Files Downloaded: 100%|██████████| 1/1 [00:01<00:00,  1.27s/file]\n",
      "/home/pjgonzalesp/miniforge3/envs/sunpy/lib/python3.13/site-packages/astropy/units/quantity.py:659: RuntimeWarning: invalid value encountered in divide\n",
      "  result = super().__array_ufunc__(function, method, *arrays, **kwargs)\n"
     ]
    },
    {
     "name": "stdout",
     "output_type": "stream",
     "text": [
      "se calculó T y EM con el modelo de abundancias:coronal\n",
      "Ahora vamos a calcular la T y EM con el modelo de abundancias:photospheric\n"
     ]
    },
    {
     "name": "stderr",
     "output_type": "stream",
     "text": [
      "Files Downloaded:   0%|          | 0/1 [00:00<?, ?file/s]Exception ignored in: <function BaseEventLoop.__del__ at 0x7f20fad47420>\n",
      "Traceback (most recent call last):\n",
      "  File \"/home/pjgonzalesp/miniforge3/envs/sunpy/lib/python3.13/asyncio/base_events.py\", line 766, in __del__\n",
      "    self.close()\n",
      "  File \"/home/pjgonzalesp/miniforge3/envs/sunpy/lib/python3.13/asyncio/unix_events.py\", line 73, in close\n",
      "    self.remove_signal_handler(sig)\n",
      "  File \"/home/pjgonzalesp/miniforge3/envs/sunpy/lib/python3.13/asyncio/unix_events.py\", line 162, in remove_signal_handler\n",
      "    signal.signal(sig, handler)\n",
      "  File \"/home/pjgonzalesp/miniforge3/envs/sunpy/lib/python3.13/signal.py\", line 58, in signal\n",
      "    handler = _signal.signal(_enum_to_int(signalnum), _enum_to_int(handler))\n",
      "ValueError: signal only works in main thread of the main interpreter\n",
      "Files Downloaded: 100%|██████████| 1/1 [00:00<00:00,  1.21file/s]\n",
      "2025-10-24 15:04:20 - root - INFO: Searching for GOES flares between 2011-02-15 00:00:00 and 2011-02-16 00:00:00...\n"
     ]
    },
    {
     "name": "stdout",
     "output_type": "stream",
     "text": [
      "se calculó T y EM con el modelo de abundancias:photospheric\n",
      "4. CONSTRUIR df_full\n",
      "5. añadiendo observatorio: GOES: GOES-15\n",
      "se añadió observatorio: GOES: GOES-15\n",
      "6. Descargando flares: 2011-02-15 00:00:00 - 2011-02-16 00:00:00\n"
     ]
    },
    {
     "name": "stderr",
     "output_type": "stream",
     "text": [
      "2025-10-24 15:04:22 - root - INFO: Found 8 GOES solar flares between 2011-02-15 00:00:00 and 2011-02-16 00:00:00.\n",
      "Día 38 de 185: 2011-03-09\n"
     ]
    },
    {
     "name": "stdout",
     "output_type": "stream",
     "text": [
      "Se descargaron flares para el intervalo 2011-02-15 00:00:00 - 2011-02-16 00:00:00.\n",
      "7. Se filtraron solo flares de GOES.\n",
      "💾 df_full_2011_02.csv actualizado (1440 filas)\n",
      "✅ Días descargados este mes: [datetime.date(2011, 2, 15)]\n",
      "💾 df_flare_data_2011_02.csv actualizado (8 filas)\n",
      "🏁 Mes 2011_02 terminado → 2025-10-24_Download_for_specific_days/Data/Month_2011_02\n",
      "\n",
      "========================================\n",
      "🟦 Procesando mes 2011_03 (1 días)\n",
      "========================================\n",
      "1. Descargar datos GOES\n",
      "Buscando datos de: 2011-03-09 00:00:00\n",
      "Descargando datos de 2011-03-09 00:00:00...\n"
     ]
    },
    {
     "name": "stderr",
     "output_type": "stream",
     "text": [
      "Files Downloaded:   0%|          | 0/2 [00:00<?, ?file/s]\n",
      "\u001b[A\n",
      "Files Downloaded:  50%|█████     | 1/2 [00:01<00:01,  1.27s/file]\n",
      "Files Downloaded: 100%|██████████| 2/2 [00:01<00:00,  1.55file/s]\n"
     ]
    },
    {
     "name": "stdout",
     "output_type": "stream",
     "text": [
      "Resolution = 1 minute\n",
      "Gráfica guardada en 2025-10-24_Download_for_specific_days/Data/Month_2011_03/data_graphs/GOES_2011-03-09_00-00-00.png\n",
      "Observatorio encontrado: GOES-15\n",
      "Se encontraron datos  GOES para 2011-03-09 00:00:00 - 2011-03-10 00:00:00. Día saltado.\n",
      "\n",
      "Número de registros: 1440\n",
      "Columnas disponibles: ['xrsa', 'xrsb', 'xrsa_quality', 'xrsb_quality']\n",
      "2. Restar Background\n",
      "Plot saved at: 2025-10-24_Download_for_specific_days/Data/Month_2011_03/data_graphs/GOES_diff_linear_2011-03-09_00-00-00.png\n",
      "Plot saved at: 2025-10-24_Download_for_specific_days/Data/Month_2011_03/data_graphs/GOES_diff_log_2011-03-09_00-00-00.png\n"
     ]
    },
    {
     "name": "stderr",
     "output_type": "stream",
     "text": [
      "/tmp/ipykernel_2397830/750897493.py:225: FutureWarning: Downcasting behavior in Series and DataFrame methods 'where', 'mask', and 'clip' is deprecated. In a future version this will not infer object dtypes or cast all-round floats to integers. Instead call result.infer_objects(copy=False) for object inference, or cast round floats explicitly. To opt-in to the future behavior, set `pd.set_option('future.no_silent_downcasting', True)`\n",
      "  df_o = df_o.clip(lower=1e-9)\n"
     ]
    },
    {
     "name": "stdout",
     "output_type": "stream",
     "text": [
      "Plot saved at: 2025-10-24_Download_for_specific_days/Data/Month_2011_03/data_graphs/GOES_diff_positive_2011-03-09_00-00-00.png\n",
      "3. USAR FUNCIÓN SUNPY calculate_t_em\n",
      "Ahora vamos a calcular la T y EM con el modelo de abundancias:coronal\n"
     ]
    },
    {
     "name": "stderr",
     "output_type": "stream",
     "text": [
      "Files Downloaded: 100%|██████████| 1/1 [00:00<00:00,  1.24file/s]\n",
      "/home/pjgonzalesp/miniforge3/envs/sunpy/lib/python3.13/site-packages/astropy/units/quantity.py:659: RuntimeWarning: invalid value encountered in divide\n",
      "  result = super().__array_ufunc__(function, method, *arrays, **kwargs)\n"
     ]
    },
    {
     "name": "stdout",
     "output_type": "stream",
     "text": [
      "se calculó T y EM con el modelo de abundancias:coronal\n",
      "Ahora vamos a calcular la T y EM con el modelo de abundancias:photospheric\n"
     ]
    },
    {
     "name": "stderr",
     "output_type": "stream",
     "text": [
      "Files Downloaded:   0%|          | 0/1 [00:00<?, ?file/s]Exception ignored in: <function BaseEventLoop.__del__ at 0x7f20fad47420>\n",
      "Traceback (most recent call last):\n",
      "  File \"/home/pjgonzalesp/miniforge3/envs/sunpy/lib/python3.13/asyncio/base_events.py\", line 766, in __del__\n",
      "    self.close()\n",
      "  File \"/home/pjgonzalesp/miniforge3/envs/sunpy/lib/python3.13/asyncio/unix_events.py\", line 73, in close\n",
      "    self.remove_signal_handler(sig)\n",
      "  File \"/home/pjgonzalesp/miniforge3/envs/sunpy/lib/python3.13/asyncio/unix_events.py\", line 162, in remove_signal_handler\n",
      "    signal.signal(sig, handler)\n",
      "  File \"/home/pjgonzalesp/miniforge3/envs/sunpy/lib/python3.13/signal.py\", line 58, in signal\n",
      "    handler = _signal.signal(_enum_to_int(signalnum), _enum_to_int(handler))\n",
      "ValueError: signal only works in main thread of the main interpreter\n",
      "Files Downloaded: 100%|██████████| 1/1 [00:00<00:00,  1.21file/s]\n",
      "2025-10-24 15:04:38 - root - INFO: Searching for GOES flares between 2011-03-09 00:00:00 and 2011-03-10 00:00:00...\n"
     ]
    },
    {
     "name": "stdout",
     "output_type": "stream",
     "text": [
      "se calculó T y EM con el modelo de abundancias:photospheric\n",
      "4. CONSTRUIR df_full\n",
      "5. añadiendo observatorio: GOES: GOES-15\n",
      "se añadió observatorio: GOES: GOES-15\n",
      "6. Descargando flares: 2011-03-09 00:00:00 - 2011-03-10 00:00:00\n"
     ]
    },
    {
     "name": "stderr",
     "output_type": "stream",
     "text": [
      "2025-10-24 15:04:40 - root - INFO: Found 12 GOES solar flares between 2011-03-09 00:00:00 and 2011-03-10 00:00:00.\n",
      "Día 39 de 185: 2011-08-09\n"
     ]
    },
    {
     "name": "stdout",
     "output_type": "stream",
     "text": [
      "Se descargaron flares para el intervalo 2011-03-09 00:00:00 - 2011-03-10 00:00:00.\n",
      "7. Se filtraron solo flares de GOES.\n",
      "💾 df_full_2011_03.csv actualizado (1440 filas)\n",
      "✅ Días descargados este mes: [datetime.date(2011, 3, 9)]\n",
      "💾 df_flare_data_2011_03.csv actualizado (12 filas)\n",
      "🏁 Mes 2011_03 terminado → 2025-10-24_Download_for_specific_days/Data/Month_2011_03\n",
      "\n",
      "========================================\n",
      "🟦 Procesando mes 2011_08 (1 días)\n",
      "========================================\n",
      "1. Descargar datos GOES\n",
      "Buscando datos de: 2011-08-09 00:00:00\n",
      "Descargando datos de 2011-08-09 00:00:00...\n"
     ]
    },
    {
     "name": "stderr",
     "output_type": "stream",
     "text": [
      "Files Downloaded: 100%|██████████| 2/2 [00:00<00:00,  3.45file/s]\n"
     ]
    },
    {
     "name": "stdout",
     "output_type": "stream",
     "text": [
      "Resolution = 1 minute\n",
      "Gráfica guardada en 2025-10-24_Download_for_specific_days/Data/Month_2011_08/data_graphs/GOES_2011-08-09_00-00-00.png\n",
      "Observatorio encontrado: GOES-15\n",
      "Se encontraron datos  GOES para 2011-08-09 00:00:00 - 2011-08-10 00:00:00. Día saltado.\n",
      "\n",
      "Número de registros: 1440\n",
      "Columnas disponibles: ['xrsa', 'xrsb', 'xrsa_quality', 'xrsb_quality']\n",
      "2. Restar Background\n",
      "Plot saved at: 2025-10-24_Download_for_specific_days/Data/Month_2011_08/data_graphs/GOES_diff_linear_2011-08-09_00-00-00.png\n",
      "Plot saved at: 2025-10-24_Download_for_specific_days/Data/Month_2011_08/data_graphs/GOES_diff_log_2011-08-09_00-00-00.png\n"
     ]
    },
    {
     "name": "stderr",
     "output_type": "stream",
     "text": [
      "/tmp/ipykernel_2397830/750897493.py:225: FutureWarning: Downcasting behavior in Series and DataFrame methods 'where', 'mask', and 'clip' is deprecated. In a future version this will not infer object dtypes or cast all-round floats to integers. Instead call result.infer_objects(copy=False) for object inference, or cast round floats explicitly. To opt-in to the future behavior, set `pd.set_option('future.no_silent_downcasting', True)`\n",
      "  df_o = df_o.clip(lower=1e-9)\n"
     ]
    },
    {
     "name": "stdout",
     "output_type": "stream",
     "text": [
      "Plot saved at: 2025-10-24_Download_for_specific_days/Data/Month_2011_08/data_graphs/GOES_diff_positive_2011-08-09_00-00-00.png\n",
      "3. USAR FUNCIÓN SUNPY calculate_t_em\n",
      "Ahora vamos a calcular la T y EM con el modelo de abundancias:coronal\n"
     ]
    },
    {
     "name": "stderr",
     "output_type": "stream",
     "text": [
      "Files Downloaded: 100%|██████████| 1/1 [00:00<00:00,  1.24file/s]\n",
      "/home/pjgonzalesp/miniforge3/envs/sunpy/lib/python3.13/site-packages/astropy/units/quantity.py:659: RuntimeWarning: divide by zero encountered in divide\n",
      "  result = super().__array_ufunc__(function, method, *arrays, **kwargs)\n",
      "/home/pjgonzalesp/miniforge3/envs/sunpy/lib/python3.13/site-packages/astropy/units/quantity.py:659: RuntimeWarning: invalid value encountered in divide\n",
      "  result = super().__array_ufunc__(function, method, *arrays, **kwargs)\n"
     ]
    },
    {
     "name": "stdout",
     "output_type": "stream",
     "text": [
      "se calculó T y EM con el modelo de abundancias:coronal\n",
      "Ahora vamos a calcular la T y EM con el modelo de abundancias:photospheric\n"
     ]
    },
    {
     "name": "stderr",
     "output_type": "stream",
     "text": [
      "Files Downloaded: 100%|██████████| 1/1 [00:00<00:00,  1.24file/s]\n",
      "2025-10-24 15:04:55 - root - INFO: Searching for GOES flares between 2011-08-09 00:00:00 and 2011-08-10 00:00:00...\n"
     ]
    },
    {
     "name": "stdout",
     "output_type": "stream",
     "text": [
      "se calculó T y EM con el modelo de abundancias:photospheric\n",
      "4. CONSTRUIR df_full\n",
      "5. añadiendo observatorio: GOES: GOES-15\n",
      "se añadió observatorio: GOES: GOES-15\n",
      "6. Descargando flares: 2011-08-09 00:00:00 - 2011-08-10 00:00:00\n"
     ]
    },
    {
     "name": "stderr",
     "output_type": "stream",
     "text": [
      "2025-10-24 15:04:57 - root - INFO: Found 8 GOES solar flares between 2011-08-09 00:00:00 and 2011-08-10 00:00:00.\n",
      "Día 40 de 185: 2011-09-06\n"
     ]
    },
    {
     "name": "stdout",
     "output_type": "stream",
     "text": [
      "Se descargaron flares para el intervalo 2011-08-09 00:00:00 - 2011-08-10 00:00:00.\n",
      "7. Se filtraron solo flares de GOES.\n",
      "💾 df_full_2011_08.csv actualizado (1440 filas)\n",
      "✅ Días descargados este mes: [datetime.date(2011, 8, 9)]\n",
      "💾 df_flare_data_2011_08.csv actualizado (8 filas)\n",
      "🏁 Mes 2011_08 terminado → 2025-10-24_Download_for_specific_days/Data/Month_2011_08\n",
      "\n",
      "========================================\n",
      "🟦 Procesando mes 2011_09 (4 días)\n",
      "========================================\n",
      "1. Descargar datos GOES\n",
      "Buscando datos de: 2011-09-06 00:00:00\n",
      "Descargando datos de 2011-09-06 00:00:00...\n"
     ]
    },
    {
     "name": "stderr",
     "output_type": "stream",
     "text": [
      "Files Downloaded: 100%|██████████| 2/2 [00:01<00:00,  1.63file/s]\n"
     ]
    },
    {
     "name": "stdout",
     "output_type": "stream",
     "text": [
      "Resolution = 1 minute\n",
      "Gráfica guardada en 2025-10-24_Download_for_specific_days/Data/Month_2011_09/data_graphs/GOES_2011-09-06_00-00-00.png\n",
      "Observatorio encontrado: GOES-15\n",
      "Se encontraron datos  GOES para 2011-09-06 00:00:00 - 2011-09-07 00:00:00. Día saltado.\n",
      "\n",
      "Número de registros: 1440\n",
      "Columnas disponibles: ['xrsa', 'xrsb', 'xrsa_quality', 'xrsb_quality']\n",
      "2. Restar Background\n",
      "Plot saved at: 2025-10-24_Download_for_specific_days/Data/Month_2011_09/data_graphs/GOES_diff_linear_2011-09-06_00-00-00.png\n",
      "Plot saved at: 2025-10-24_Download_for_specific_days/Data/Month_2011_09/data_graphs/GOES_diff_log_2011-09-06_00-00-00.png\n"
     ]
    },
    {
     "name": "stderr",
     "output_type": "stream",
     "text": [
      "/tmp/ipykernel_2397830/750897493.py:225: FutureWarning: Downcasting behavior in Series and DataFrame methods 'where', 'mask', and 'clip' is deprecated. In a future version this will not infer object dtypes or cast all-round floats to integers. Instead call result.infer_objects(copy=False) for object inference, or cast round floats explicitly. To opt-in to the future behavior, set `pd.set_option('future.no_silent_downcasting', True)`\n",
      "  df_o = df_o.clip(lower=1e-9)\n"
     ]
    },
    {
     "name": "stdout",
     "output_type": "stream",
     "text": [
      "Plot saved at: 2025-10-24_Download_for_specific_days/Data/Month_2011_09/data_graphs/GOES_diff_positive_2011-09-06_00-00-00.png\n",
      "3. USAR FUNCIÓN SUNPY calculate_t_em\n",
      "Ahora vamos a calcular la T y EM con el modelo de abundancias:coronal\n"
     ]
    },
    {
     "name": "stderr",
     "output_type": "stream",
     "text": [
      "Files Downloaded: 100%|██████████| 1/1 [00:00<00:00,  1.21file/s]\n",
      "/home/pjgonzalesp/miniforge3/envs/sunpy/lib/python3.13/site-packages/astropy/units/quantity.py:659: RuntimeWarning: divide by zero encountered in divide\n",
      "  result = super().__array_ufunc__(function, method, *arrays, **kwargs)\n",
      "/home/pjgonzalesp/miniforge3/envs/sunpy/lib/python3.13/site-packages/astropy/units/quantity.py:659: RuntimeWarning: invalid value encountered in divide\n",
      "  result = super().__array_ufunc__(function, method, *arrays, **kwargs)\n"
     ]
    },
    {
     "name": "stdout",
     "output_type": "stream",
     "text": [
      "se calculó T y EM con el modelo de abundancias:coronal\n",
      "Ahora vamos a calcular la T y EM con el modelo de abundancias:photospheric\n"
     ]
    },
    {
     "name": "stderr",
     "output_type": "stream",
     "text": [
      "Files Downloaded: 100%|██████████| 1/1 [00:00<00:00,  1.10file/s]\n",
      "2025-10-24 15:05:13 - root - INFO: Searching for GOES flares between 2011-09-06 00:00:00 and 2011-09-07 00:00:00...\n"
     ]
    },
    {
     "name": "stdout",
     "output_type": "stream",
     "text": [
      "se calculó T y EM con el modelo de abundancias:photospheric\n",
      "4. CONSTRUIR df_full\n",
      "5. añadiendo observatorio: GOES: GOES-15\n",
      "se añadió observatorio: GOES: GOES-15\n",
      "6. Descargando flares: 2011-09-06 00:00:00 - 2011-09-07 00:00:00\n"
     ]
    },
    {
     "name": "stderr",
     "output_type": "stream",
     "text": [
      "2025-10-24 15:05:14 - root - INFO: Found 3 GOES solar flares between 2011-09-06 00:00:00 and 2011-09-07 00:00:00.\n",
      "Día 41 de 185: 2011-09-07\n"
     ]
    },
    {
     "name": "stdout",
     "output_type": "stream",
     "text": [
      "Se descargaron flares para el intervalo 2011-09-06 00:00:00 - 2011-09-07 00:00:00.\n",
      "7. Se filtraron solo flares de GOES.\n",
      "1. Descargar datos GOES\n",
      "Buscando datos de: 2011-09-07 00:00:00\n",
      "Descargando datos de 2011-09-07 00:00:00...\n"
     ]
    },
    {
     "name": "stderr",
     "output_type": "stream",
     "text": [
      "Files Downloaded:   0%|          | 0/2 [00:00<?, ?file/s]\n",
      "Files Downloaded:  50%|█████     | 1/2 [00:00<00:00,  1.58file/s]\n",
      "\u001b[A\n",
      "\u001b[A\n",
      "Files Downloaded: 100%|██████████| 2/2 [00:01<00:00,  1.42file/s]\n"
     ]
    },
    {
     "name": "stdout",
     "output_type": "stream",
     "text": [
      "Resolution = 1 minute\n",
      "Gráfica guardada en 2025-10-24_Download_for_specific_days/Data/Month_2011_09/data_graphs/GOES_2011-09-07_00-00-00.png\n",
      "Observatorio encontrado: GOES-15\n",
      "Se encontraron datos  GOES para 2011-09-07 00:00:00 - 2011-09-08 00:00:00. Día saltado.\n",
      "\n",
      "Número de registros: 1440\n",
      "Columnas disponibles: ['xrsa', 'xrsb', 'xrsa_quality', 'xrsb_quality']\n",
      "2. Restar Background\n",
      "Plot saved at: 2025-10-24_Download_for_specific_days/Data/Month_2011_09/data_graphs/GOES_diff_linear_2011-09-07_00-00-00.png\n",
      "Plot saved at: 2025-10-24_Download_for_specific_days/Data/Month_2011_09/data_graphs/GOES_diff_log_2011-09-07_00-00-00.png\n"
     ]
    },
    {
     "name": "stderr",
     "output_type": "stream",
     "text": [
      "/tmp/ipykernel_2397830/750897493.py:225: FutureWarning: Downcasting behavior in Series and DataFrame methods 'where', 'mask', and 'clip' is deprecated. In a future version this will not infer object dtypes or cast all-round floats to integers. Instead call result.infer_objects(copy=False) for object inference, or cast round floats explicitly. To opt-in to the future behavior, set `pd.set_option('future.no_silent_downcasting', True)`\n",
      "  df_o = df_o.clip(lower=1e-9)\n"
     ]
    },
    {
     "name": "stdout",
     "output_type": "stream",
     "text": [
      "Plot saved at: 2025-10-24_Download_for_specific_days/Data/Month_2011_09/data_graphs/GOES_diff_positive_2011-09-07_00-00-00.png\n",
      "3. USAR FUNCIÓN SUNPY calculate_t_em\n",
      "Ahora vamos a calcular la T y EM con el modelo de abundancias:coronal\n"
     ]
    },
    {
     "name": "stderr",
     "output_type": "stream",
     "text": [
      "Files Downloaded: 100%|██████████| 1/1 [00:01<00:00,  1.03s/file]\n",
      "/home/pjgonzalesp/miniforge3/envs/sunpy/lib/python3.13/site-packages/astropy/units/quantity.py:659: RuntimeWarning: divide by zero encountered in divide\n",
      "  result = super().__array_ufunc__(function, method, *arrays, **kwargs)\n",
      "/home/pjgonzalesp/miniforge3/envs/sunpy/lib/python3.13/site-packages/astropy/units/quantity.py:659: RuntimeWarning: invalid value encountered in divide\n",
      "  result = super().__array_ufunc__(function, method, *arrays, **kwargs)\n"
     ]
    },
    {
     "name": "stdout",
     "output_type": "stream",
     "text": [
      "se calculó T y EM con el modelo de abundancias:coronal\n",
      "Ahora vamos a calcular la T y EM con el modelo de abundancias:photospheric\n"
     ]
    },
    {
     "name": "stderr",
     "output_type": "stream",
     "text": [
      "Files Downloaded: 100%|██████████| 1/1 [00:00<00:00,  1.08file/s]\n",
      "2025-10-24 15:05:30 - root - INFO: Searching for GOES flares between 2011-09-07 00:00:00 and 2011-09-08 00:00:00...\n"
     ]
    },
    {
     "name": "stdout",
     "output_type": "stream",
     "text": [
      "se calculó T y EM con el modelo de abundancias:photospheric\n",
      "4. CONSTRUIR df_full\n",
      "5. añadiendo observatorio: GOES: GOES-15\n",
      "se añadió observatorio: GOES: GOES-15\n",
      "6. Descargando flares: 2011-09-07 00:00:00 - 2011-09-08 00:00:00\n"
     ]
    },
    {
     "name": "stderr",
     "output_type": "stream",
     "text": [
      "2025-10-24 15:05:32 - root - INFO: Found 5 GOES solar flares between 2011-09-07 00:00:00 and 2011-09-08 00:00:00.\n",
      "Día 42 de 185: 2011-09-22\n"
     ]
    },
    {
     "name": "stdout",
     "output_type": "stream",
     "text": [
      "Se descargaron flares para el intervalo 2011-09-07 00:00:00 - 2011-09-08 00:00:00.\n",
      "7. Se filtraron solo flares de GOES.\n",
      "1. Descargar datos GOES\n",
      "Buscando datos de: 2011-09-22 00:00:00\n",
      "Descargando datos de 2011-09-22 00:00:00...\n"
     ]
    },
    {
     "name": "stderr",
     "output_type": "stream",
     "text": [
      "Files Downloaded: 100%|██████████| 2/2 [00:01<00:00,  1.60file/s]\n"
     ]
    },
    {
     "name": "stdout",
     "output_type": "stream",
     "text": [
      "Resolution = 1 minute\n",
      "Gráfica guardada en 2025-10-24_Download_for_specific_days/Data/Month_2011_09/data_graphs/GOES_2011-09-22_00-00-00.png\n",
      "Observatorio encontrado: GOES-15\n",
      "Se encontraron datos  GOES para 2011-09-22 00:00:00 - 2011-09-23 00:00:00. Día saltado.\n",
      "\n",
      "Número de registros: 1440\n",
      "Columnas disponibles: ['xrsa', 'xrsb', 'xrsa_quality', 'xrsb_quality']\n",
      "2. Restar Background\n",
      "Plot saved at: 2025-10-24_Download_for_specific_days/Data/Month_2011_09/data_graphs/GOES_diff_linear_2011-09-22_00-00-00.png\n",
      "Plot saved at: 2025-10-24_Download_for_specific_days/Data/Month_2011_09/data_graphs/GOES_diff_log_2011-09-22_00-00-00.png\n"
     ]
    },
    {
     "name": "stderr",
     "output_type": "stream",
     "text": [
      "/tmp/ipykernel_2397830/750897493.py:225: FutureWarning: Downcasting behavior in Series and DataFrame methods 'where', 'mask', and 'clip' is deprecated. In a future version this will not infer object dtypes or cast all-round floats to integers. Instead call result.infer_objects(copy=False) for object inference, or cast round floats explicitly. To opt-in to the future behavior, set `pd.set_option('future.no_silent_downcasting', True)`\n",
      "  df_o = df_o.clip(lower=1e-9)\n"
     ]
    },
    {
     "name": "stdout",
     "output_type": "stream",
     "text": [
      "Plot saved at: 2025-10-24_Download_for_specific_days/Data/Month_2011_09/data_graphs/GOES_diff_positive_2011-09-22_00-00-00.png\n",
      "3. USAR FUNCIÓN SUNPY calculate_t_em\n",
      "Ahora vamos a calcular la T y EM con el modelo de abundancias:coronal\n"
     ]
    },
    {
     "name": "stderr",
     "output_type": "stream",
     "text": [
      "Files Downloaded: 100%|██████████| 1/1 [00:00<00:00,  1.21file/s]\n",
      "/home/pjgonzalesp/miniforge3/envs/sunpy/lib/python3.13/site-packages/astropy/units/quantity.py:659: RuntimeWarning: invalid value encountered in divide\n",
      "  result = super().__array_ufunc__(function, method, *arrays, **kwargs)\n"
     ]
    },
    {
     "name": "stdout",
     "output_type": "stream",
     "text": [
      "se calculó T y EM con el modelo de abundancias:coronal\n",
      "Ahora vamos a calcular la T y EM con el modelo de abundancias:photospheric\n"
     ]
    },
    {
     "name": "stderr",
     "output_type": "stream",
     "text": [
      "Files Downloaded: 100%|██████████| 1/1 [00:00<00:00,  1.10file/s]\n",
      "2025-10-24 15:05:48 - root - INFO: Searching for GOES flares between 2011-09-22 00:00:00 and 2011-09-23 00:00:00...\n"
     ]
    },
    {
     "name": "stdout",
     "output_type": "stream",
     "text": [
      "se calculó T y EM con el modelo de abundancias:photospheric\n",
      "4. CONSTRUIR df_full\n",
      "5. añadiendo observatorio: GOES: GOES-15\n",
      "se añadió observatorio: GOES: GOES-15\n",
      "6. Descargando flares: 2011-09-22 00:00:00 - 2011-09-23 00:00:00\n"
     ]
    },
    {
     "name": "stderr",
     "output_type": "stream",
     "text": [
      "2025-10-24 15:05:50 - root - INFO: Found 7 GOES solar flares between 2011-09-22 00:00:00 and 2011-09-23 00:00:00.\n",
      "Día 43 de 185: 2011-09-24\n"
     ]
    },
    {
     "name": "stdout",
     "output_type": "stream",
     "text": [
      "Se descargaron flares para el intervalo 2011-09-22 00:00:00 - 2011-09-23 00:00:00.\n",
      "7. Se filtraron solo flares de GOES.\n",
      "1. Descargar datos GOES\n",
      "Buscando datos de: 2011-09-24 00:00:00\n",
      "Descargando datos de 2011-09-24 00:00:00...\n"
     ]
    },
    {
     "name": "stderr",
     "output_type": "stream",
     "text": [
      "Files Downloaded:   0%|          | 0/2 [00:00<?, ?file/s]\n",
      "\u001b[A\n",
      "\u001b[A\n",
      "Files Downloaded: 100%|██████████| 2/2 [00:01<00:00,  1.36file/s]\n"
     ]
    },
    {
     "name": "stdout",
     "output_type": "stream",
     "text": [
      "Resolution = 1 minute\n",
      "Gráfica guardada en 2025-10-24_Download_for_specific_days/Data/Month_2011_09/data_graphs/GOES_2011-09-24_00-00-00.png\n",
      "Observatorio encontrado: GOES-15\n",
      "Se encontraron datos  GOES para 2011-09-24 00:00:00 - 2011-09-25 00:00:00. Día saltado.\n",
      "\n",
      "Número de registros: 1440\n",
      "Columnas disponibles: ['xrsa', 'xrsb', 'xrsa_quality', 'xrsb_quality']\n",
      "2. Restar Background\n",
      "Plot saved at: 2025-10-24_Download_for_specific_days/Data/Month_2011_09/data_graphs/GOES_diff_linear_2011-09-24_00-00-00.png\n",
      "Plot saved at: 2025-10-24_Download_for_specific_days/Data/Month_2011_09/data_graphs/GOES_diff_log_2011-09-24_00-00-00.png\n"
     ]
    },
    {
     "name": "stderr",
     "output_type": "stream",
     "text": [
      "/tmp/ipykernel_2397830/750897493.py:225: FutureWarning: Downcasting behavior in Series and DataFrame methods 'where', 'mask', and 'clip' is deprecated. In a future version this will not infer object dtypes or cast all-round floats to integers. Instead call result.infer_objects(copy=False) for object inference, or cast round floats explicitly. To opt-in to the future behavior, set `pd.set_option('future.no_silent_downcasting', True)`\n",
      "  df_o = df_o.clip(lower=1e-9)\n"
     ]
    },
    {
     "name": "stdout",
     "output_type": "stream",
     "text": [
      "Plot saved at: 2025-10-24_Download_for_specific_days/Data/Month_2011_09/data_graphs/GOES_diff_positive_2011-09-24_00-00-00.png\n",
      "3. USAR FUNCIÓN SUNPY calculate_t_em\n",
      "Ahora vamos a calcular la T y EM con el modelo de abundancias:coronal\n"
     ]
    },
    {
     "name": "stderr",
     "output_type": "stream",
     "text": [
      "Files Downloaded: 100%|██████████| 1/1 [00:00<00:00,  1.25file/s]\n",
      "/home/pjgonzalesp/miniforge3/envs/sunpy/lib/python3.13/site-packages/astropy/units/quantity.py:659: RuntimeWarning: divide by zero encountered in divide\n",
      "  result = super().__array_ufunc__(function, method, *arrays, **kwargs)\n",
      "/home/pjgonzalesp/miniforge3/envs/sunpy/lib/python3.13/site-packages/astropy/units/quantity.py:659: RuntimeWarning: invalid value encountered in divide\n",
      "  result = super().__array_ufunc__(function, method, *arrays, **kwargs)\n"
     ]
    },
    {
     "name": "stdout",
     "output_type": "stream",
     "text": [
      "se calculó T y EM con el modelo de abundancias:coronal\n",
      "Ahora vamos a calcular la T y EM con el modelo de abundancias:photospheric\n"
     ]
    },
    {
     "name": "stderr",
     "output_type": "stream",
     "text": [
      "Files Downloaded: 100%|██████████| 1/1 [00:00<00:00,  1.04file/s]\n",
      "2025-10-24 15:06:06 - root - INFO: Searching for GOES flares between 2011-09-24 00:00:00 and 2011-09-25 00:00:00...\n"
     ]
    },
    {
     "name": "stdout",
     "output_type": "stream",
     "text": [
      "se calculó T y EM con el modelo de abundancias:photospheric\n",
      "4. CONSTRUIR df_full\n",
      "5. añadiendo observatorio: GOES: GOES-15\n",
      "se añadió observatorio: GOES: GOES-15\n",
      "6. Descargando flares: 2011-09-24 00:00:00 - 2011-09-25 00:00:00\n"
     ]
    },
    {
     "name": "stderr",
     "output_type": "stream",
     "text": [
      "2025-10-24 15:06:08 - root - INFO: Found 14 GOES solar flares between 2011-09-24 00:00:00 and 2011-09-25 00:00:00.\n",
      "Día 44 de 185: 2011-11-03\n"
     ]
    },
    {
     "name": "stdout",
     "output_type": "stream",
     "text": [
      "Se descargaron flares para el intervalo 2011-09-24 00:00:00 - 2011-09-25 00:00:00.\n",
      "7. Se filtraron solo flares de GOES.\n",
      "💾 df_full_2011_09.csv actualizado (5760 filas)\n",
      "✅ Días descargados este mes: [datetime.date(2011, 9, 6), datetime.date(2011, 9, 7), datetime.date(2011, 9, 22), datetime.date(2011, 9, 24)]\n",
      "💾 df_flare_data_2011_09.csv actualizado (29 filas)\n",
      "🏁 Mes 2011_09 terminado → 2025-10-24_Download_for_specific_days/Data/Month_2011_09\n",
      "\n",
      "========================================\n",
      "🟦 Procesando mes 2011_11 (1 días)\n",
      "========================================\n",
      "1. Descargar datos GOES\n",
      "Buscando datos de: 2011-11-03 00:00:00\n",
      "Descargando datos de 2011-11-03 00:00:00...\n"
     ]
    },
    {
     "name": "stderr",
     "output_type": "stream",
     "text": [
      "Files Downloaded:   0%|          | 0/2 [00:00<?, ?file/s]\n",
      "\u001b[A\n",
      "Files Downloaded:  50%|█████     | 1/2 [00:01<00:01,  1.26s/file]\n",
      "Files Downloaded: 100%|██████████| 2/2 [00:01<00:00,  1.58file/s]\n"
     ]
    },
    {
     "name": "stdout",
     "output_type": "stream",
     "text": [
      "Resolution = 1 minute\n",
      "Gráfica guardada en 2025-10-24_Download_for_specific_days/Data/Month_2011_11/data_graphs/GOES_2011-11-03_00-00-00.png\n",
      "Observatorio encontrado: GOES-15\n",
      "Se encontraron datos  GOES para 2011-11-03 00:00:00 - 2011-11-04 00:00:00. Día saltado.\n",
      "\n",
      "Número de registros: 1440\n",
      "Columnas disponibles: ['xrsa', 'xrsb', 'xrsa_quality', 'xrsb_quality']\n",
      "2. Restar Background\n",
      "Plot saved at: 2025-10-24_Download_for_specific_days/Data/Month_2011_11/data_graphs/GOES_diff_linear_2011-11-03_00-00-00.png\n",
      "Plot saved at: 2025-10-24_Download_for_specific_days/Data/Month_2011_11/data_graphs/GOES_diff_log_2011-11-03_00-00-00.png\n"
     ]
    },
    {
     "name": "stderr",
     "output_type": "stream",
     "text": [
      "/tmp/ipykernel_2397830/750897493.py:225: FutureWarning: Downcasting behavior in Series and DataFrame methods 'where', 'mask', and 'clip' is deprecated. In a future version this will not infer object dtypes or cast all-round floats to integers. Instead call result.infer_objects(copy=False) for object inference, or cast round floats explicitly. To opt-in to the future behavior, set `pd.set_option('future.no_silent_downcasting', True)`\n",
      "  df_o = df_o.clip(lower=1e-9)\n"
     ]
    },
    {
     "name": "stdout",
     "output_type": "stream",
     "text": [
      "Plot saved at: 2025-10-24_Download_for_specific_days/Data/Month_2011_11/data_graphs/GOES_diff_positive_2011-11-03_00-00-00.png\n",
      "3. USAR FUNCIÓN SUNPY calculate_t_em\n",
      "Ahora vamos a calcular la T y EM con el modelo de abundancias:coronal\n"
     ]
    },
    {
     "name": "stderr",
     "output_type": "stream",
     "text": [
      "Files Downloaded: 100%|██████████| 1/1 [00:00<00:00,  1.09file/s]\n",
      "/home/pjgonzalesp/miniforge3/envs/sunpy/lib/python3.13/site-packages/astropy/units/quantity.py:659: RuntimeWarning: invalid value encountered in divide\n",
      "  result = super().__array_ufunc__(function, method, *arrays, **kwargs)\n"
     ]
    },
    {
     "name": "stdout",
     "output_type": "stream",
     "text": [
      "se calculó T y EM con el modelo de abundancias:coronal\n",
      "Ahora vamos a calcular la T y EM con el modelo de abundancias:photospheric\n"
     ]
    },
    {
     "name": "stderr",
     "output_type": "stream",
     "text": [
      "Files Downloaded: 100%|██████████| 1/1 [00:01<00:00,  1.01s/file]\n",
      "2025-10-24 15:06:25 - root - INFO: Searching for GOES flares between 2011-11-03 00:00:00 and 2011-11-04 00:00:00...\n"
     ]
    },
    {
     "name": "stdout",
     "output_type": "stream",
     "text": [
      "se calculó T y EM con el modelo de abundancias:photospheric\n",
      "4. CONSTRUIR df_full\n",
      "5. añadiendo observatorio: GOES: GOES-15\n",
      "se añadió observatorio: GOES: GOES-15\n",
      "6. Descargando flares: 2011-11-03 00:00:00 - 2011-11-04 00:00:00\n"
     ]
    },
    {
     "name": "stderr",
     "output_type": "stream",
     "text": [
      "2025-10-24 15:06:28 - root - INFO: Found 16 GOES solar flares between 2011-11-03 00:00:00 and 2011-11-04 00:00:00.\n",
      "Día 45 de 185: 2012-01-27\n"
     ]
    },
    {
     "name": "stdout",
     "output_type": "stream",
     "text": [
      "Se descargaron flares para el intervalo 2011-11-03 00:00:00 - 2011-11-04 00:00:00.\n",
      "7. Se filtraron solo flares de GOES.\n",
      "💾 df_full_2011_11.csv actualizado (1440 filas)\n",
      "✅ Días descargados este mes: [datetime.date(2011, 11, 3)]\n",
      "💾 df_flare_data_2011_11.csv actualizado (16 filas)\n",
      "🏁 Mes 2011_11 terminado → 2025-10-24_Download_for_specific_days/Data/Month_2011_11\n",
      "\n",
      "========================================\n",
      "🟦 Procesando mes 2012_01 (1 días)\n",
      "========================================\n",
      "1. Descargar datos GOES\n",
      "Buscando datos de: 2012-01-27 00:00:00\n",
      "Descargando datos de 2012-01-27 00:00:00...\n"
     ]
    },
    {
     "name": "stderr",
     "output_type": "stream",
     "text": [
      "Files Downloaded:   0%|          | 0/2 [00:00<?, ?file/s]\n",
      "\u001b[A\n",
      "Files Downloaded:  50%|█████     | 1/2 [00:01<00:01,  1.26s/file]\n",
      "Files Downloaded: 100%|██████████| 2/2 [00:01<00:00,  1.57file/s]\n"
     ]
    },
    {
     "name": "stdout",
     "output_type": "stream",
     "text": [
      "Resolution = 1 minute\n",
      "Gráfica guardada en 2025-10-24_Download_for_specific_days/Data/Month_2012_01/data_graphs/GOES_2012-01-27_00-00-00.png\n",
      "Observatorio encontrado: GOES-15\n",
      "Se encontraron datos  GOES para 2012-01-27 00:00:00 - 2012-01-28 00:00:00. Día saltado.\n",
      "\n",
      "Número de registros: 1440\n",
      "Columnas disponibles: ['xrsa', 'xrsb', 'xrsa_quality', 'xrsb_quality']\n",
      "2. Restar Background\n",
      "Plot saved at: 2025-10-24_Download_for_specific_days/Data/Month_2012_01/data_graphs/GOES_diff_linear_2012-01-27_00-00-00.png\n",
      "Plot saved at: 2025-10-24_Download_for_specific_days/Data/Month_2012_01/data_graphs/GOES_diff_log_2012-01-27_00-00-00.png\n"
     ]
    },
    {
     "name": "stderr",
     "output_type": "stream",
     "text": [
      "/tmp/ipykernel_2397830/750897493.py:225: FutureWarning: Downcasting behavior in Series and DataFrame methods 'where', 'mask', and 'clip' is deprecated. In a future version this will not infer object dtypes or cast all-round floats to integers. Instead call result.infer_objects(copy=False) for object inference, or cast round floats explicitly. To opt-in to the future behavior, set `pd.set_option('future.no_silent_downcasting', True)`\n",
      "  df_o = df_o.clip(lower=1e-9)\n"
     ]
    },
    {
     "name": "stdout",
     "output_type": "stream",
     "text": [
      "Plot saved at: 2025-10-24_Download_for_specific_days/Data/Month_2012_01/data_graphs/GOES_diff_positive_2012-01-27_00-00-00.png\n",
      "3. USAR FUNCIÓN SUNPY calculate_t_em\n",
      "Ahora vamos a calcular la T y EM con el modelo de abundancias:coronal\n"
     ]
    },
    {
     "name": "stderr",
     "output_type": "stream",
     "text": [
      "Files Downloaded: 100%|██████████| 1/1 [00:00<00:00,  1.21file/s]\n",
      "/home/pjgonzalesp/miniforge3/envs/sunpy/lib/python3.13/site-packages/astropy/units/quantity.py:659: RuntimeWarning: invalid value encountered in divide\n",
      "  result = super().__array_ufunc__(function, method, *arrays, **kwargs)\n"
     ]
    },
    {
     "name": "stdout",
     "output_type": "stream",
     "text": [
      "se calculó T y EM con el modelo de abundancias:coronal\n",
      "Ahora vamos a calcular la T y EM con el modelo de abundancias:photospheric\n"
     ]
    },
    {
     "name": "stderr",
     "output_type": "stream",
     "text": [
      "Files Downloaded: 100%|██████████| 1/1 [00:00<00:00,  1.22file/s]\n",
      "2025-10-24 15:06:44 - root - INFO: Searching for GOES flares between 2012-01-27 00:00:00 and 2012-01-28 00:00:00...\n"
     ]
    },
    {
     "name": "stdout",
     "output_type": "stream",
     "text": [
      "se calculó T y EM con el modelo de abundancias:photospheric\n",
      "4. CONSTRUIR df_full\n",
      "5. añadiendo observatorio: GOES: GOES-15\n",
      "se añadió observatorio: GOES: GOES-15\n",
      "6. Descargando flares: 2012-01-27 00:00:00 - 2012-01-28 00:00:00\n"
     ]
    },
    {
     "name": "stderr",
     "output_type": "stream",
     "text": [
      "2025-10-24 15:06:45 - root - INFO: Found 6 GOES solar flares between 2012-01-27 00:00:00 and 2012-01-28 00:00:00.\n",
      "Día 46 de 185: 2012-03-05\n"
     ]
    },
    {
     "name": "stdout",
     "output_type": "stream",
     "text": [
      "Se descargaron flares para el intervalo 2012-01-27 00:00:00 - 2012-01-28 00:00:00.\n",
      "7. Se filtraron solo flares de GOES.\n",
      "💾 df_full_2012_01.csv actualizado (1440 filas)\n",
      "✅ Días descargados este mes: [datetime.date(2012, 1, 27)]\n",
      "💾 df_flare_data_2012_01.csv actualizado (6 filas)\n",
      "🏁 Mes 2012_01 terminado → 2025-10-24_Download_for_specific_days/Data/Month_2012_01\n",
      "\n",
      "========================================\n",
      "🟦 Procesando mes 2012_03 (2 días)\n",
      "========================================\n",
      "1. Descargar datos GOES\n",
      "Buscando datos de: 2012-03-05 00:00:00\n",
      "Descargando datos de 2012-03-05 00:00:00...\n"
     ]
    },
    {
     "name": "stderr",
     "output_type": "stream",
     "text": [
      "Files Downloaded:   0%|          | 0/2 [00:00<?, ?file/s]\n",
      "\u001b[A\n",
      "\u001b[A\n",
      "Files Downloaded: 100%|██████████| 2/2 [00:01<00:00,  1.48file/s]\n"
     ]
    },
    {
     "name": "stdout",
     "output_type": "stream",
     "text": [
      "Resolution = 1 minute\n",
      "Gráfica guardada en 2025-10-24_Download_for_specific_days/Data/Month_2012_03/data_graphs/GOES_2012-03-05_00-00-00.png\n",
      "Observatorio encontrado: GOES-15\n",
      "Se encontraron datos  GOES para 2012-03-05 00:00:00 - 2012-03-06 00:00:00. Día saltado.\n",
      "\n",
      "Número de registros: 1440\n",
      "Columnas disponibles: ['xrsa', 'xrsb', 'xrsa_quality', 'xrsb_quality']\n",
      "2. Restar Background\n",
      "Plot saved at: 2025-10-24_Download_for_specific_days/Data/Month_2012_03/data_graphs/GOES_diff_linear_2012-03-05_00-00-00.png\n",
      "Plot saved at: 2025-10-24_Download_for_specific_days/Data/Month_2012_03/data_graphs/GOES_diff_log_2012-03-05_00-00-00.png\n"
     ]
    },
    {
     "name": "stderr",
     "output_type": "stream",
     "text": [
      "/tmp/ipykernel_2397830/750897493.py:225: FutureWarning: Downcasting behavior in Series and DataFrame methods 'where', 'mask', and 'clip' is deprecated. In a future version this will not infer object dtypes or cast all-round floats to integers. Instead call result.infer_objects(copy=False) for object inference, or cast round floats explicitly. To opt-in to the future behavior, set `pd.set_option('future.no_silent_downcasting', True)`\n",
      "  df_o = df_o.clip(lower=1e-9)\n"
     ]
    },
    {
     "name": "stdout",
     "output_type": "stream",
     "text": [
      "Plot saved at: 2025-10-24_Download_for_specific_days/Data/Month_2012_03/data_graphs/GOES_diff_positive_2012-03-05_00-00-00.png\n",
      "3. USAR FUNCIÓN SUNPY calculate_t_em\n",
      "Ahora vamos a calcular la T y EM con el modelo de abundancias:coronal\n"
     ]
    },
    {
     "name": "stderr",
     "output_type": "stream",
     "text": [
      "Files Downloaded: 100%|██████████| 1/1 [00:00<00:00,  1.22file/s]\n",
      "/home/pjgonzalesp/miniforge3/envs/sunpy/lib/python3.13/site-packages/astropy/units/quantity.py:659: RuntimeWarning: invalid value encountered in divide\n",
      "  result = super().__array_ufunc__(function, method, *arrays, **kwargs)\n"
     ]
    },
    {
     "name": "stdout",
     "output_type": "stream",
     "text": [
      "se calculó T y EM con el modelo de abundancias:coronal\n",
      "Ahora vamos a calcular la T y EM con el modelo de abundancias:photospheric\n"
     ]
    },
    {
     "name": "stderr",
     "output_type": "stream",
     "text": [
      "Files Downloaded:   0%|          | 0/1 [00:00<?, ?file/s]Exception ignored in: <function BaseEventLoop.__del__ at 0x7f20fad47420>\n",
      "Traceback (most recent call last):\n",
      "  File \"/home/pjgonzalesp/miniforge3/envs/sunpy/lib/python3.13/asyncio/base_events.py\", line 766, in __del__\n",
      "    self.close()\n",
      "  File \"/home/pjgonzalesp/miniforge3/envs/sunpy/lib/python3.13/asyncio/unix_events.py\", line 73, in close\n",
      "    self.remove_signal_handler(sig)\n",
      "  File \"/home/pjgonzalesp/miniforge3/envs/sunpy/lib/python3.13/asyncio/unix_events.py\", line 162, in remove_signal_handler\n",
      "    signal.signal(sig, handler)\n",
      "  File \"/home/pjgonzalesp/miniforge3/envs/sunpy/lib/python3.13/signal.py\", line 58, in signal\n",
      "    handler = _signal.signal(_enum_to_int(signalnum), _enum_to_int(handler))\n",
      "ValueError: signal only works in main thread of the main interpreter\n",
      "Files Downloaded: 100%|██████████| 1/1 [00:01<00:00,  1.23s/file]\n",
      "2025-10-24 15:07:02 - root - INFO: Searching for GOES flares between 2012-03-05 00:00:00 and 2012-03-06 00:00:00...\n"
     ]
    },
    {
     "name": "stdout",
     "output_type": "stream",
     "text": [
      "se calculó T y EM con el modelo de abundancias:photospheric\n",
      "4. CONSTRUIR df_full\n",
      "5. añadiendo observatorio: GOES: GOES-15\n",
      "se añadió observatorio: GOES: GOES-15\n",
      "6. Descargando flares: 2012-03-05 00:00:00 - 2012-03-06 00:00:00\n"
     ]
    },
    {
     "name": "stderr",
     "output_type": "stream",
     "text": [
      "2025-10-24 15:07:05 - root - INFO: Found 19 GOES solar flares between 2012-03-05 00:00:00 and 2012-03-06 00:00:00.\n",
      "Día 47 de 185: 2012-03-07\n"
     ]
    },
    {
     "name": "stdout",
     "output_type": "stream",
     "text": [
      "Se descargaron flares para el intervalo 2012-03-05 00:00:00 - 2012-03-06 00:00:00.\n",
      "7. Se filtraron solo flares de GOES.\n",
      "1. Descargar datos GOES\n",
      "Buscando datos de: 2012-03-07 00:00:00\n",
      "Descargando datos de 2012-03-07 00:00:00...\n"
     ]
    },
    {
     "name": "stderr",
     "output_type": "stream",
     "text": [
      "Files Downloaded:   0%|          | 0/2 [00:00<?, ?file/s]\n",
      "\u001b[A\n",
      "\u001b[A\n",
      "Files Downloaded: 100%|██████████| 2/2 [00:01<00:00,  1.59file/s]\n"
     ]
    },
    {
     "name": "stdout",
     "output_type": "stream",
     "text": [
      "Resolution = 1 minute\n",
      "Gráfica guardada en 2025-10-24_Download_for_specific_days/Data/Month_2012_03/data_graphs/GOES_2012-03-07_00-00-00.png\n",
      "Observatorio encontrado: GOES-15\n",
      "Se encontraron datos  GOES para 2012-03-07 00:00:00 - 2012-03-08 00:00:00. Día saltado.\n",
      "\n",
      "Número de registros: 1440\n",
      "Columnas disponibles: ['xrsa', 'xrsb', 'xrsa_quality', 'xrsb_quality']\n",
      "2. Restar Background\n",
      "Plot saved at: 2025-10-24_Download_for_specific_days/Data/Month_2012_03/data_graphs/GOES_diff_linear_2012-03-07_00-00-00.png\n",
      "Plot saved at: 2025-10-24_Download_for_specific_days/Data/Month_2012_03/data_graphs/GOES_diff_log_2012-03-07_00-00-00.png\n"
     ]
    },
    {
     "name": "stderr",
     "output_type": "stream",
     "text": [
      "/tmp/ipykernel_2397830/750897493.py:225: FutureWarning: Downcasting behavior in Series and DataFrame methods 'where', 'mask', and 'clip' is deprecated. In a future version this will not infer object dtypes or cast all-round floats to integers. Instead call result.infer_objects(copy=False) for object inference, or cast round floats explicitly. To opt-in to the future behavior, set `pd.set_option('future.no_silent_downcasting', True)`\n",
      "  df_o = df_o.clip(lower=1e-9)\n"
     ]
    },
    {
     "name": "stdout",
     "output_type": "stream",
     "text": [
      "Plot saved at: 2025-10-24_Download_for_specific_days/Data/Month_2012_03/data_graphs/GOES_diff_positive_2012-03-07_00-00-00.png\n",
      "3. USAR FUNCIÓN SUNPY calculate_t_em\n",
      "Ahora vamos a calcular la T y EM con el modelo de abundancias:coronal\n"
     ]
    },
    {
     "name": "stderr",
     "output_type": "stream",
     "text": [
      "Files Downloaded: 100%|██████████| 1/1 [00:00<00:00,  1.23file/s]\n",
      "/home/pjgonzalesp/miniforge3/envs/sunpy/lib/python3.13/site-packages/astropy/units/quantity.py:659: RuntimeWarning: divide by zero encountered in divide\n",
      "  result = super().__array_ufunc__(function, method, *arrays, **kwargs)\n",
      "/home/pjgonzalesp/miniforge3/envs/sunpy/lib/python3.13/site-packages/astropy/units/quantity.py:659: RuntimeWarning: invalid value encountered in divide\n",
      "  result = super().__array_ufunc__(function, method, *arrays, **kwargs)\n"
     ]
    },
    {
     "name": "stdout",
     "output_type": "stream",
     "text": [
      "se calculó T y EM con el modelo de abundancias:coronal\n",
      "Ahora vamos a calcular la T y EM con el modelo de abundancias:photospheric\n"
     ]
    },
    {
     "name": "stderr",
     "output_type": "stream",
     "text": [
      "Files Downloaded: 100%|██████████| 1/1 [00:00<00:00,  1.10file/s]\n",
      "2025-10-24 15:07:20 - root - INFO: Searching for GOES flares between 2012-03-07 00:00:00 and 2012-03-08 00:00:00...\n"
     ]
    },
    {
     "name": "stdout",
     "output_type": "stream",
     "text": [
      "se calculó T y EM con el modelo de abundancias:photospheric\n",
      "4. CONSTRUIR df_full\n",
      "5. añadiendo observatorio: GOES: GOES-15\n",
      "se añadió observatorio: GOES: GOES-15\n",
      "6. Descargando flares: 2012-03-07 00:00:00 - 2012-03-08 00:00:00\n"
     ]
    },
    {
     "name": "stderr",
     "output_type": "stream",
     "text": [
      "2025-10-24 15:07:22 - root - INFO: Found 3 GOES solar flares between 2012-03-07 00:00:00 and 2012-03-08 00:00:00.\n",
      "Día 48 de 185: 2012-07-06\n"
     ]
    },
    {
     "name": "stdout",
     "output_type": "stream",
     "text": [
      "Se descargaron flares para el intervalo 2012-03-07 00:00:00 - 2012-03-08 00:00:00.\n",
      "7. Se filtraron solo flares de GOES.\n",
      "💾 df_full_2012_03.csv actualizado (2880 filas)\n",
      "✅ Días descargados este mes: [datetime.date(2012, 3, 5), datetime.date(2012, 3, 7)]\n",
      "💾 df_flare_data_2012_03.csv actualizado (22 filas)\n",
      "🏁 Mes 2012_03 terminado → 2025-10-24_Download_for_specific_days/Data/Month_2012_03\n",
      "\n",
      "========================================\n",
      "🟦 Procesando mes 2012_07 (2 días)\n",
      "========================================\n",
      "1. Descargar datos GOES\n",
      "Buscando datos de: 2012-07-06 00:00:00\n",
      "Descargando datos de 2012-07-06 00:00:00...\n"
     ]
    },
    {
     "name": "stderr",
     "output_type": "stream",
     "text": [
      "Files Downloaded: 100%|██████████| 2/2 [00:01<00:00,  1.61file/s]\n"
     ]
    },
    {
     "name": "stdout",
     "output_type": "stream",
     "text": [
      "Resolution = 1 minute\n",
      "Gráfica guardada en 2025-10-24_Download_for_specific_days/Data/Month_2012_07/data_graphs/GOES_2012-07-06_00-00-00.png\n",
      "Observatorio encontrado: GOES-15\n",
      "Se encontraron datos  GOES para 2012-07-06 00:00:00 - 2012-07-07 00:00:00. Día saltado.\n",
      "\n",
      "Número de registros: 1440\n",
      "Columnas disponibles: ['xrsa', 'xrsb', 'xrsa_quality', 'xrsb_quality']\n",
      "2. Restar Background\n",
      "Plot saved at: 2025-10-24_Download_for_specific_days/Data/Month_2012_07/data_graphs/GOES_diff_linear_2012-07-06_00-00-00.png\n",
      "Plot saved at: 2025-10-24_Download_for_specific_days/Data/Month_2012_07/data_graphs/GOES_diff_log_2012-07-06_00-00-00.png\n"
     ]
    },
    {
     "name": "stderr",
     "output_type": "stream",
     "text": [
      "/tmp/ipykernel_2397830/750897493.py:225: FutureWarning: Downcasting behavior in Series and DataFrame methods 'where', 'mask', and 'clip' is deprecated. In a future version this will not infer object dtypes or cast all-round floats to integers. Instead call result.infer_objects(copy=False) for object inference, or cast round floats explicitly. To opt-in to the future behavior, set `pd.set_option('future.no_silent_downcasting', True)`\n",
      "  df_o = df_o.clip(lower=1e-9)\n"
     ]
    },
    {
     "name": "stdout",
     "output_type": "stream",
     "text": [
      "Plot saved at: 2025-10-24_Download_for_specific_days/Data/Month_2012_07/data_graphs/GOES_diff_positive_2012-07-06_00-00-00.png\n",
      "3. USAR FUNCIÓN SUNPY calculate_t_em\n",
      "Ahora vamos a calcular la T y EM con el modelo de abundancias:coronal\n"
     ]
    },
    {
     "name": "stderr",
     "output_type": "stream",
     "text": [
      "Files Downloaded: 100%|██████████| 1/1 [00:01<00:00,  1.86s/file]\n",
      "/home/pjgonzalesp/miniforge3/envs/sunpy/lib/python3.13/site-packages/astropy/units/quantity.py:659: RuntimeWarning: invalid value encountered in divide\n",
      "  result = super().__array_ufunc__(function, method, *arrays, **kwargs)\n"
     ]
    },
    {
     "name": "stdout",
     "output_type": "stream",
     "text": [
      "se calculó T y EM con el modelo de abundancias:coronal\n",
      "Ahora vamos a calcular la T y EM con el modelo de abundancias:photospheric\n"
     ]
    },
    {
     "name": "stderr",
     "output_type": "stream",
     "text": [
      "Files Downloaded: 100%|██████████| 1/1 [00:01<00:00,  1.05s/file]\n",
      "2025-10-24 15:07:38 - root - INFO: Searching for GOES flares between 2012-07-06 00:00:00 and 2012-07-07 00:00:00...\n"
     ]
    },
    {
     "name": "stdout",
     "output_type": "stream",
     "text": [
      "se calculó T y EM con el modelo de abundancias:photospheric\n",
      "4. CONSTRUIR df_full\n",
      "5. añadiendo observatorio: GOES: GOES-15\n",
      "se añadió observatorio: GOES: GOES-15\n",
      "6. Descargando flares: 2012-07-06 00:00:00 - 2012-07-07 00:00:00\n"
     ]
    },
    {
     "name": "stderr",
     "output_type": "stream",
     "text": [
      "2025-10-24 15:07:42 - root - INFO: Found 18 GOES solar flares between 2012-07-06 00:00:00 and 2012-07-07 00:00:00.\n",
      "Día 49 de 185: 2012-07-12\n"
     ]
    },
    {
     "name": "stdout",
     "output_type": "stream",
     "text": [
      "Se descargaron flares para el intervalo 2012-07-06 00:00:00 - 2012-07-07 00:00:00.\n",
      "7. Se filtraron solo flares de GOES.\n",
      "1. Descargar datos GOES\n",
      "Buscando datos de: 2012-07-12 00:00:00\n",
      "Descargando datos de 2012-07-12 00:00:00...\n"
     ]
    },
    {
     "name": "stderr",
     "output_type": "stream",
     "text": [
      "Files Downloaded:   0%|          | 0/2 [00:00<?, ?file/s]\n",
      "\u001b[A\n",
      "\u001b[A\n",
      "Files Downloaded: 100%|██████████| 2/2 [00:01<00:00,  1.61file/s]\n"
     ]
    },
    {
     "name": "stdout",
     "output_type": "stream",
     "text": [
      "Resolution = 1 minute\n",
      "Gráfica guardada en 2025-10-24_Download_for_specific_days/Data/Month_2012_07/data_graphs/GOES_2012-07-12_00-00-00.png\n",
      "Observatorio encontrado: GOES-15\n",
      "Se encontraron datos  GOES para 2012-07-12 00:00:00 - 2012-07-13 00:00:00. Día saltado.\n",
      "\n",
      "Número de registros: 1440\n",
      "Columnas disponibles: ['xrsa', 'xrsb', 'xrsa_quality', 'xrsb_quality']\n",
      "2. Restar Background\n",
      "Plot saved at: 2025-10-24_Download_for_specific_days/Data/Month_2012_07/data_graphs/GOES_diff_linear_2012-07-12_00-00-00.png\n",
      "Plot saved at: 2025-10-24_Download_for_specific_days/Data/Month_2012_07/data_graphs/GOES_diff_log_2012-07-12_00-00-00.png\n"
     ]
    },
    {
     "name": "stderr",
     "output_type": "stream",
     "text": [
      "/tmp/ipykernel_2397830/750897493.py:225: FutureWarning: Downcasting behavior in Series and DataFrame methods 'where', 'mask', and 'clip' is deprecated. In a future version this will not infer object dtypes or cast all-round floats to integers. Instead call result.infer_objects(copy=False) for object inference, or cast round floats explicitly. To opt-in to the future behavior, set `pd.set_option('future.no_silent_downcasting', True)`\n",
      "  df_o = df_o.clip(lower=1e-9)\n"
     ]
    },
    {
     "name": "stdout",
     "output_type": "stream",
     "text": [
      "Plot saved at: 2025-10-24_Download_for_specific_days/Data/Month_2012_07/data_graphs/GOES_diff_positive_2012-07-12_00-00-00.png\n",
      "3. USAR FUNCIÓN SUNPY calculate_t_em\n",
      "Ahora vamos a calcular la T y EM con el modelo de abundancias:coronal\n"
     ]
    },
    {
     "name": "stderr",
     "output_type": "stream",
     "text": [
      "Files Downloaded: 100%|██████████| 1/1 [00:00<00:00,  1.23file/s]\n",
      "/home/pjgonzalesp/miniforge3/envs/sunpy/lib/python3.13/site-packages/astropy/units/quantity.py:659: RuntimeWarning: invalid value encountered in divide\n",
      "  result = super().__array_ufunc__(function, method, *arrays, **kwargs)\n"
     ]
    },
    {
     "name": "stdout",
     "output_type": "stream",
     "text": [
      "se calculó T y EM con el modelo de abundancias:coronal\n",
      "Ahora vamos a calcular la T y EM con el modelo de abundancias:photospheric\n"
     ]
    },
    {
     "name": "stderr",
     "output_type": "stream",
     "text": [
      "Files Downloaded:   0%|          | 0/1 [00:00<?, ?file/s]Exception ignored in: <function BaseEventLoop.__del__ at 0x7f20fad47420>\n",
      "Traceback (most recent call last):\n",
      "  File \"/home/pjgonzalesp/miniforge3/envs/sunpy/lib/python3.13/asyncio/base_events.py\", line 766, in __del__\n",
      "    self.close()\n",
      "  File \"/home/pjgonzalesp/miniforge3/envs/sunpy/lib/python3.13/asyncio/unix_events.py\", line 73, in close\n",
      "    self.remove_signal_handler(sig)\n",
      "  File \"/home/pjgonzalesp/miniforge3/envs/sunpy/lib/python3.13/asyncio/unix_events.py\", line 162, in remove_signal_handler\n",
      "    signal.signal(sig, handler)\n",
      "  File \"/home/pjgonzalesp/miniforge3/envs/sunpy/lib/python3.13/signal.py\", line 58, in signal\n",
      "    handler = _signal.signal(_enum_to_int(signalnum), _enum_to_int(handler))\n",
      "ValueError: signal only works in main thread of the main interpreter\n",
      "Files Downloaded: 100%|██████████| 1/1 [00:00<00:00,  1.23file/s]\n",
      "2025-10-24 15:07:58 - root - INFO: Searching for GOES flares between 2012-07-12 00:00:00 and 2012-07-13 00:00:00...\n"
     ]
    },
    {
     "name": "stdout",
     "output_type": "stream",
     "text": [
      "se calculó T y EM con el modelo de abundancias:photospheric\n",
      "4. CONSTRUIR df_full\n",
      "5. añadiendo observatorio: GOES: GOES-15\n",
      "se añadió observatorio: GOES: GOES-15\n",
      "6. Descargando flares: 2012-07-12 00:00:00 - 2012-07-13 00:00:00\n"
     ]
    },
    {
     "name": "stderr",
     "output_type": "stream",
     "text": [
      "2025-10-24 15:08:00 - root - INFO: Found 5 GOES solar flares between 2012-07-12 00:00:00 and 2012-07-13 00:00:00.\n",
      "Día 50 de 185: 2012-10-23\n"
     ]
    },
    {
     "name": "stdout",
     "output_type": "stream",
     "text": [
      "Se descargaron flares para el intervalo 2012-07-12 00:00:00 - 2012-07-13 00:00:00.\n",
      "7. Se filtraron solo flares de GOES.\n",
      "💾 df_full_2012_07.csv actualizado (2880 filas)\n",
      "✅ Días descargados este mes: [datetime.date(2012, 7, 6), datetime.date(2012, 7, 12)]\n",
      "💾 df_flare_data_2012_07.csv actualizado (23 filas)\n",
      "🏁 Mes 2012_07 terminado → 2025-10-24_Download_for_specific_days/Data/Month_2012_07\n",
      "\n",
      "========================================\n",
      "🟦 Procesando mes 2012_10 (1 días)\n",
      "========================================\n",
      "1. Descargar datos GOES\n",
      "Buscando datos de: 2012-10-23 00:00:00\n",
      "Descargando datos de 2012-10-23 00:00:00...\n"
     ]
    },
    {
     "name": "stderr",
     "output_type": "stream",
     "text": [
      "Files Downloaded:   0%|          | 0/2 [00:00<?, ?file/s]\n",
      "\u001b[A\n",
      "\u001b[A\n",
      "\u001b[A\n",
      "Files Downloaded: 100%|██████████| 2/2 [00:01<00:00,  1.43file/s]\n"
     ]
    },
    {
     "name": "stdout",
     "output_type": "stream",
     "text": [
      "Resolution = 1 minute\n",
      "Gráfica guardada en 2025-10-24_Download_for_specific_days/Data/Month_2012_10/data_graphs/GOES_2012-10-23_00-00-00.png\n",
      "Observatorio encontrado: GOES-14\n",
      "Se encontraron datos  GOES para 2012-10-23 00:00:00 - 2012-10-24 00:00:00. Día saltado.\n",
      "\n",
      "Número de registros: 1440\n",
      "Columnas disponibles: ['xrsa', 'xrsb', 'xrsa_quality', 'xrsb_quality']\n",
      "2. Restar Background\n",
      "Plot saved at: 2025-10-24_Download_for_specific_days/Data/Month_2012_10/data_graphs/GOES_diff_linear_2012-10-23_00-00-00.png\n",
      "Plot saved at: 2025-10-24_Download_for_specific_days/Data/Month_2012_10/data_graphs/GOES_diff_log_2012-10-23_00-00-00.png\n"
     ]
    },
    {
     "name": "stderr",
     "output_type": "stream",
     "text": [
      "/tmp/ipykernel_2397830/750897493.py:225: FutureWarning: Downcasting behavior in Series and DataFrame methods 'where', 'mask', and 'clip' is deprecated. In a future version this will not infer object dtypes or cast all-round floats to integers. Instead call result.infer_objects(copy=False) for object inference, or cast round floats explicitly. To opt-in to the future behavior, set `pd.set_option('future.no_silent_downcasting', True)`\n",
      "  df_o = df_o.clip(lower=1e-9)\n"
     ]
    },
    {
     "name": "stdout",
     "output_type": "stream",
     "text": [
      "Plot saved at: 2025-10-24_Download_for_specific_days/Data/Month_2012_10/data_graphs/GOES_diff_positive_2012-10-23_00-00-00.png\n",
      "3. USAR FUNCIÓN SUNPY calculate_t_em\n",
      "Ahora vamos a calcular la T y EM con el modelo de abundancias:coronal\n"
     ]
    },
    {
     "name": "stderr",
     "output_type": "stream",
     "text": [
      "Files Downloaded: 100%|██████████| 1/1 [00:00<00:00,  1.25file/s]\n",
      "/home/pjgonzalesp/miniforge3/envs/sunpy/lib/python3.13/site-packages/astropy/units/quantity.py:659: RuntimeWarning: invalid value encountered in divide\n",
      "  result = super().__array_ufunc__(function, method, *arrays, **kwargs)\n"
     ]
    },
    {
     "name": "stdout",
     "output_type": "stream",
     "text": [
      "se calculó T y EM con el modelo de abundancias:coronal\n",
      "Ahora vamos a calcular la T y EM con el modelo de abundancias:photospheric\n"
     ]
    },
    {
     "name": "stderr",
     "output_type": "stream",
     "text": [
      "Files Downloaded:   0%|          | 0/1 [00:00<?, ?file/s]Exception ignored in: <function BaseEventLoop.__del__ at 0x7f20fad47420>\n",
      "Traceback (most recent call last):\n",
      "  File \"/home/pjgonzalesp/miniforge3/envs/sunpy/lib/python3.13/asyncio/base_events.py\", line 766, in __del__\n",
      "    self.close()\n",
      "  File \"/home/pjgonzalesp/miniforge3/envs/sunpy/lib/python3.13/asyncio/unix_events.py\", line 73, in close\n",
      "    self.remove_signal_handler(sig)\n",
      "  File \"/home/pjgonzalesp/miniforge3/envs/sunpy/lib/python3.13/asyncio/unix_events.py\", line 162, in remove_signal_handler\n",
      "    signal.signal(sig, handler)\n",
      "  File \"/home/pjgonzalesp/miniforge3/envs/sunpy/lib/python3.13/signal.py\", line 58, in signal\n",
      "    handler = _signal.signal(_enum_to_int(signalnum), _enum_to_int(handler))\n",
      "ValueError: signal only works in main thread of the main interpreter\n",
      "Files Downloaded: 100%|██████████| 1/1 [00:00<00:00,  1.20file/s]\n",
      "2025-10-24 15:08:15 - root - INFO: Searching for GOES flares between 2012-10-23 00:00:00 and 2012-10-24 00:00:00...\n"
     ]
    },
    {
     "name": "stdout",
     "output_type": "stream",
     "text": [
      "se calculó T y EM con el modelo de abundancias:photospheric\n",
      "4. CONSTRUIR df_full\n",
      "5. añadiendo observatorio: GOES: GOES-14\n",
      "se añadió observatorio: GOES: GOES-14\n",
      "6. Descargando flares: 2012-10-23 00:00:00 - 2012-10-24 00:00:00\n"
     ]
    },
    {
     "name": "stderr",
     "output_type": "stream",
     "text": [
      "2025-10-24 15:08:17 - root - INFO: Found 7 GOES solar flares between 2012-10-23 00:00:00 and 2012-10-24 00:00:00.\n",
      "Día 51 de 185: 2013-05-13\n"
     ]
    },
    {
     "name": "stdout",
     "output_type": "stream",
     "text": [
      "Se descargaron flares para el intervalo 2012-10-23 00:00:00 - 2012-10-24 00:00:00.\n",
      "7. Se filtraron solo flares de GOES.\n",
      "💾 df_full_2012_10.csv actualizado (1440 filas)\n",
      "✅ Días descargados este mes: [datetime.date(2012, 10, 23)]\n",
      "💾 df_flare_data_2012_10.csv actualizado (7 filas)\n",
      "🏁 Mes 2012_10 terminado → 2025-10-24_Download_for_specific_days/Data/Month_2012_10\n",
      "\n",
      "========================================\n",
      "🟦 Procesando mes 2013_05 (3 días)\n",
      "========================================\n",
      "1. Descargar datos GOES\n",
      "Buscando datos de: 2013-05-13 00:00:00\n",
      "Descargando datos de 2013-05-13 00:00:00...\n"
     ]
    },
    {
     "name": "stderr",
     "output_type": "stream",
     "text": [
      "Files Downloaded:   0%|          | 0/2 [00:00<?, ?file/s]\n",
      "\u001b[A\n",
      "Files Downloaded:  50%|█████     | 1/2 [00:01<00:01,  1.23s/file]\n",
      "\u001b[A\n",
      "\u001b[A\n",
      "Files Downloaded: 100%|██████████| 2/2 [00:01<00:00,  1.22file/s]\n"
     ]
    },
    {
     "name": "stdout",
     "output_type": "stream",
     "text": [
      "Resolution = 1 minute\n",
      "Gráfica guardada en 2025-10-24_Download_for_specific_days/Data/Month_2013_05/data_graphs/GOES_2013-05-13_00-00-00.png\n",
      "Observatorio encontrado: GOES-15\n",
      "Se encontraron datos  GOES para 2013-05-13 00:00:00 - 2013-05-14 00:00:00. Día saltado.\n",
      "\n",
      "Número de registros: 1440\n",
      "Columnas disponibles: ['xrsa', 'xrsb', 'xrsa_quality', 'xrsb_quality']\n",
      "2. Restar Background\n",
      "Plot saved at: 2025-10-24_Download_for_specific_days/Data/Month_2013_05/data_graphs/GOES_diff_linear_2013-05-13_00-00-00.png\n",
      "Plot saved at: 2025-10-24_Download_for_specific_days/Data/Month_2013_05/data_graphs/GOES_diff_log_2013-05-13_00-00-00.png\n"
     ]
    },
    {
     "name": "stderr",
     "output_type": "stream",
     "text": [
      "/tmp/ipykernel_2397830/750897493.py:225: FutureWarning: Downcasting behavior in Series and DataFrame methods 'where', 'mask', and 'clip' is deprecated. In a future version this will not infer object dtypes or cast all-round floats to integers. Instead call result.infer_objects(copy=False) for object inference, or cast round floats explicitly. To opt-in to the future behavior, set `pd.set_option('future.no_silent_downcasting', True)`\n",
      "  df_o = df_o.clip(lower=1e-9)\n"
     ]
    },
    {
     "name": "stdout",
     "output_type": "stream",
     "text": [
      "Plot saved at: 2025-10-24_Download_for_specific_days/Data/Month_2013_05/data_graphs/GOES_diff_positive_2013-05-13_00-00-00.png\n",
      "3. USAR FUNCIÓN SUNPY calculate_t_em\n",
      "Ahora vamos a calcular la T y EM con el modelo de abundancias:coronal\n"
     ]
    },
    {
     "name": "stderr",
     "output_type": "stream",
     "text": [
      "Files Downloaded: 100%|██████████| 1/1 [00:00<00:00,  1.24file/s]\n",
      "/home/pjgonzalesp/miniforge3/envs/sunpy/lib/python3.13/site-packages/astropy/units/quantity.py:659: RuntimeWarning: invalid value encountered in divide\n",
      "  result = super().__array_ufunc__(function, method, *arrays, **kwargs)\n"
     ]
    },
    {
     "name": "stdout",
     "output_type": "stream",
     "text": [
      "se calculó T y EM con el modelo de abundancias:coronal\n",
      "Ahora vamos a calcular la T y EM con el modelo de abundancias:photospheric\n"
     ]
    },
    {
     "name": "stderr",
     "output_type": "stream",
     "text": [
      "Files Downloaded:   0%|          | 0/1 [00:00<?, ?file/s]Exception ignored in: <function BaseEventLoop.__del__ at 0x7f20fad47420>\n",
      "Traceback (most recent call last):\n",
      "  File \"/home/pjgonzalesp/miniforge3/envs/sunpy/lib/python3.13/asyncio/base_events.py\", line 766, in __del__\n",
      "    self.close()\n",
      "  File \"/home/pjgonzalesp/miniforge3/envs/sunpy/lib/python3.13/asyncio/unix_events.py\", line 73, in close\n",
      "    self.remove_signal_handler(sig)\n",
      "  File \"/home/pjgonzalesp/miniforge3/envs/sunpy/lib/python3.13/asyncio/unix_events.py\", line 162, in remove_signal_handler\n",
      "    signal.signal(sig, handler)\n",
      "  File \"/home/pjgonzalesp/miniforge3/envs/sunpy/lib/python3.13/signal.py\", line 58, in signal\n",
      "    handler = _signal.signal(_enum_to_int(signalnum), _enum_to_int(handler))\n",
      "ValueError: signal only works in main thread of the main interpreter\n",
      "Files Downloaded: 100%|██████████| 1/1 [00:00<00:00,  1.23file/s]\n",
      "2025-10-24 15:08:33 - root - INFO: Searching for GOES flares between 2013-05-13 00:00:00 and 2013-05-14 00:00:00...\n"
     ]
    },
    {
     "name": "stdout",
     "output_type": "stream",
     "text": [
      "se calculó T y EM con el modelo de abundancias:photospheric\n",
      "4. CONSTRUIR df_full\n",
      "5. añadiendo observatorio: GOES: GOES-15\n",
      "se añadió observatorio: GOES: GOES-15\n",
      "6. Descargando flares: 2013-05-13 00:00:00 - 2013-05-14 00:00:00\n"
     ]
    },
    {
     "name": "stderr",
     "output_type": "stream",
     "text": [
      "2025-10-24 15:08:36 - root - INFO: Found 14 GOES solar flares between 2013-05-13 00:00:00 and 2013-05-14 00:00:00.\n",
      "Día 52 de 185: 2013-05-14\n"
     ]
    },
    {
     "name": "stdout",
     "output_type": "stream",
     "text": [
      "Se descargaron flares para el intervalo 2013-05-13 00:00:00 - 2013-05-14 00:00:00.\n",
      "7. Se filtraron solo flares de GOES.\n",
      "1. Descargar datos GOES\n",
      "Buscando datos de: 2013-05-14 00:00:00\n",
      "Descargando datos de 2013-05-14 00:00:00...\n"
     ]
    },
    {
     "name": "stderr",
     "output_type": "stream",
     "text": [
      "Files Downloaded:  50%|█████     | 1/2 [00:00<00:00,  1.68file/s]\n",
      "\u001b[A\n",
      "\u001b[A\n",
      "Files Downloaded: 100%|██████████| 2/2 [00:01<00:00,  1.56file/s]\n"
     ]
    },
    {
     "name": "stdout",
     "output_type": "stream",
     "text": [
      "Resolution = 1 minute\n",
      "Gráfica guardada en 2025-10-24_Download_for_specific_days/Data/Month_2013_05/data_graphs/GOES_2013-05-14_00-00-00.png\n",
      "Observatorio encontrado: GOES-15\n",
      "Se encontraron datos  GOES para 2013-05-14 00:00:00 - 2013-05-15 00:00:00. Día saltado.\n",
      "\n",
      "Número de registros: 1440\n",
      "Columnas disponibles: ['xrsa', 'xrsb', 'xrsa_quality', 'xrsb_quality']\n",
      "2. Restar Background\n",
      "Plot saved at: 2025-10-24_Download_for_specific_days/Data/Month_2013_05/data_graphs/GOES_diff_linear_2013-05-14_00-00-00.png\n",
      "Plot saved at: 2025-10-24_Download_for_specific_days/Data/Month_2013_05/data_graphs/GOES_diff_log_2013-05-14_00-00-00.png\n"
     ]
    },
    {
     "name": "stderr",
     "output_type": "stream",
     "text": [
      "/tmp/ipykernel_2397830/750897493.py:225: FutureWarning: Downcasting behavior in Series and DataFrame methods 'where', 'mask', and 'clip' is deprecated. In a future version this will not infer object dtypes or cast all-round floats to integers. Instead call result.infer_objects(copy=False) for object inference, or cast round floats explicitly. To opt-in to the future behavior, set `pd.set_option('future.no_silent_downcasting', True)`\n",
      "  df_o = df_o.clip(lower=1e-9)\n"
     ]
    },
    {
     "name": "stdout",
     "output_type": "stream",
     "text": [
      "Plot saved at: 2025-10-24_Download_for_specific_days/Data/Month_2013_05/data_graphs/GOES_diff_positive_2013-05-14_00-00-00.png\n",
      "3. USAR FUNCIÓN SUNPY calculate_t_em\n",
      "Ahora vamos a calcular la T y EM con el modelo de abundancias:coronal\n"
     ]
    },
    {
     "name": "stderr",
     "output_type": "stream",
     "text": [
      "Files Downloaded: 100%|██████████| 1/1 [00:00<00:00,  1.21file/s]\n",
      "/home/pjgonzalesp/miniforge3/envs/sunpy/lib/python3.13/site-packages/astropy/units/quantity.py:659: RuntimeWarning: invalid value encountered in divide\n",
      "  result = super().__array_ufunc__(function, method, *arrays, **kwargs)\n"
     ]
    },
    {
     "name": "stdout",
     "output_type": "stream",
     "text": [
      "se calculó T y EM con el modelo de abundancias:coronal\n",
      "Ahora vamos a calcular la T y EM con el modelo de abundancias:photospheric\n"
     ]
    },
    {
     "name": "stderr",
     "output_type": "stream",
     "text": [
      "Files Downloaded: 100%|██████████| 1/1 [00:00<00:00,  1.24file/s]\n",
      "2025-10-24 15:08:51 - root - INFO: Searching for GOES flares between 2013-05-14 00:00:00 and 2013-05-15 00:00:00...\n"
     ]
    },
    {
     "name": "stdout",
     "output_type": "stream",
     "text": [
      "se calculó T y EM con el modelo de abundancias:photospheric\n",
      "4. CONSTRUIR df_full\n",
      "5. añadiendo observatorio: GOES: GOES-15\n",
      "se añadió observatorio: GOES: GOES-15\n",
      "6. Descargando flares: 2013-05-14 00:00:00 - 2013-05-15 00:00:00\n"
     ]
    },
    {
     "name": "stderr",
     "output_type": "stream",
     "text": [
      "2025-10-24 15:08:53 - root - INFO: Found 4 GOES solar flares between 2013-05-14 00:00:00 and 2013-05-15 00:00:00.\n",
      "Día 53 de 185: 2013-05-15\n"
     ]
    },
    {
     "name": "stdout",
     "output_type": "stream",
     "text": [
      "Se descargaron flares para el intervalo 2013-05-14 00:00:00 - 2013-05-15 00:00:00.\n",
      "7. Se filtraron solo flares de GOES.\n",
      "1. Descargar datos GOES\n",
      "Buscando datos de: 2013-05-15 00:00:00\n",
      "Descargando datos de 2013-05-15 00:00:00...\n"
     ]
    },
    {
     "name": "stderr",
     "output_type": "stream",
     "text": [
      "Files Downloaded:   0%|          | 0/2 [00:00<?, ?file/s]\n",
      "Files Downloaded:  50%|█████     | 1/2 [00:00<00:00,  1.72file/s]\n",
      "\u001b[A\n",
      "Files Downloaded: 100%|██████████| 2/2 [00:01<00:00,  1.60file/s]\n"
     ]
    },
    {
     "name": "stdout",
     "output_type": "stream",
     "text": [
      "Resolution = 1 minute\n",
      "Gráfica guardada en 2025-10-24_Download_for_specific_days/Data/Month_2013_05/data_graphs/GOES_2013-05-15_00-00-00.png\n",
      "Observatorio encontrado: GOES-15\n",
      "Se encontraron datos  GOES para 2013-05-15 00:00:00 - 2013-05-16 00:00:00. Día saltado.\n",
      "\n",
      "Número de registros: 1440\n",
      "Columnas disponibles: ['xrsa', 'xrsb', 'xrsa_quality', 'xrsb_quality']\n",
      "2. Restar Background\n",
      "Plot saved at: 2025-10-24_Download_for_specific_days/Data/Month_2013_05/data_graphs/GOES_diff_linear_2013-05-15_00-00-00.png\n",
      "Plot saved at: 2025-10-24_Download_for_specific_days/Data/Month_2013_05/data_graphs/GOES_diff_log_2013-05-15_00-00-00.png\n"
     ]
    },
    {
     "name": "stderr",
     "output_type": "stream",
     "text": [
      "/tmp/ipykernel_2397830/750897493.py:225: FutureWarning: Downcasting behavior in Series and DataFrame methods 'where', 'mask', and 'clip' is deprecated. In a future version this will not infer object dtypes or cast all-round floats to integers. Instead call result.infer_objects(copy=False) for object inference, or cast round floats explicitly. To opt-in to the future behavior, set `pd.set_option('future.no_silent_downcasting', True)`\n",
      "  df_o = df_o.clip(lower=1e-9)\n"
     ]
    },
    {
     "name": "stdout",
     "output_type": "stream",
     "text": [
      "Plot saved at: 2025-10-24_Download_for_specific_days/Data/Month_2013_05/data_graphs/GOES_diff_positive_2013-05-15_00-00-00.png\n",
      "3. USAR FUNCIÓN SUNPY calculate_t_em\n",
      "Ahora vamos a calcular la T y EM con el modelo de abundancias:coronal\n"
     ]
    },
    {
     "name": "stderr",
     "output_type": "stream",
     "text": [
      "Files Downloaded: 100%|██████████| 1/1 [00:00<00:00,  1.19file/s]\n",
      "/home/pjgonzalesp/miniforge3/envs/sunpy/lib/python3.13/site-packages/astropy/units/quantity.py:659: RuntimeWarning: divide by zero encountered in divide\n",
      "  result = super().__array_ufunc__(function, method, *arrays, **kwargs)\n",
      "/home/pjgonzalesp/miniforge3/envs/sunpy/lib/python3.13/site-packages/astropy/units/quantity.py:659: RuntimeWarning: invalid value encountered in divide\n",
      "  result = super().__array_ufunc__(function, method, *arrays, **kwargs)\n"
     ]
    },
    {
     "name": "stdout",
     "output_type": "stream",
     "text": [
      "se calculó T y EM con el modelo de abundancias:coronal\n",
      "Ahora vamos a calcular la T y EM con el modelo de abundancias:photospheric\n"
     ]
    },
    {
     "name": "stderr",
     "output_type": "stream",
     "text": [
      "Files Downloaded:   0%|          | 0/1 [00:00<?, ?file/s]Exception ignored in: <function BaseEventLoop.__del__ at 0x7f20fad47420>\n",
      "Traceback (most recent call last):\n",
      "  File \"/home/pjgonzalesp/miniforge3/envs/sunpy/lib/python3.13/asyncio/base_events.py\", line 766, in __del__\n",
      "    self.close()\n",
      "  File \"/home/pjgonzalesp/miniforge3/envs/sunpy/lib/python3.13/asyncio/unix_events.py\", line 73, in close\n",
      "    self.remove_signal_handler(sig)\n",
      "  File \"/home/pjgonzalesp/miniforge3/envs/sunpy/lib/python3.13/asyncio/unix_events.py\", line 162, in remove_signal_handler\n",
      "    signal.signal(sig, handler)\n",
      "  File \"/home/pjgonzalesp/miniforge3/envs/sunpy/lib/python3.13/signal.py\", line 58, in signal\n",
      "    handler = _signal.signal(_enum_to_int(signalnum), _enum_to_int(handler))\n",
      "ValueError: signal only works in main thread of the main interpreter\n",
      "Files Downloaded: 100%|██████████| 1/1 [00:04<00:00,  4.19s/file]\n",
      "2025-10-24 15:09:11 - root - INFO: Searching for GOES flares between 2013-05-15 00:00:00 and 2013-05-16 00:00:00...\n"
     ]
    },
    {
     "name": "stdout",
     "output_type": "stream",
     "text": [
      "se calculó T y EM con el modelo de abundancias:photospheric\n",
      "4. CONSTRUIR df_full\n",
      "5. añadiendo observatorio: GOES: GOES-15\n",
      "se añadió observatorio: GOES: GOES-15\n",
      "6. Descargando flares: 2013-05-15 00:00:00 - 2013-05-16 00:00:00\n"
     ]
    },
    {
     "name": "stderr",
     "output_type": "stream",
     "text": [
      "2025-10-24 15:09:13 - root - INFO: Found 5 GOES solar flares between 2013-05-15 00:00:00 and 2013-05-16 00:00:00.\n",
      "Día 54 de 185: 2013-10-25\n"
     ]
    },
    {
     "name": "stdout",
     "output_type": "stream",
     "text": [
      "Se descargaron flares para el intervalo 2013-05-15 00:00:00 - 2013-05-16 00:00:00.\n",
      "7. Se filtraron solo flares de GOES.\n",
      "💾 df_full_2013_05.csv actualizado (4320 filas)\n",
      "✅ Días descargados este mes: [datetime.date(2013, 5, 13), datetime.date(2013, 5, 14), datetime.date(2013, 5, 15)]\n",
      "💾 df_flare_data_2013_05.csv actualizado (23 filas)\n",
      "🏁 Mes 2013_05 terminado → 2025-10-24_Download_for_specific_days/Data/Month_2013_05\n",
      "\n",
      "========================================\n",
      "🟦 Procesando mes 2013_10 (3 días)\n",
      "========================================\n",
      "1. Descargar datos GOES\n",
      "Buscando datos de: 2013-10-25 00:00:00\n",
      "Descargando datos de 2013-10-25 00:00:00...\n"
     ]
    },
    {
     "name": "stderr",
     "output_type": "stream",
     "text": [
      "Files Downloaded:   0%|          | 0/4 [00:00<?, ?file/s]\n",
      "\n",
      "\u001b[A\u001b[A\n",
      "\u001b[A\n",
      "\n",
      "\n",
      "\u001b[A\u001b[A\u001b[A\n",
      "\u001b[A\n",
      "\n",
      "\u001b[A\u001b[A\n",
      "\n",
      "\n",
      "\u001b[A\u001b[A\u001b[A\n",
      "\n",
      "Files Downloaded:  25%|██▌       | 1/4 [00:01<00:03,  1.25s/file]\n",
      "\u001b[A\n",
      "\u001b[A\n",
      "\n",
      "\n",
      "\u001b[A\u001b[A\u001b[A\n",
      "\n",
      "\n",
      "Files Downloaded: 100%|██████████| 4/4 [00:01<00:00,  2.92file/s]\n"
     ]
    },
    {
     "name": "stdout",
     "output_type": "stream",
     "text": [
      "Resolution = 1 minute\n",
      "Gráfica guardada en 2025-10-24_Download_for_specific_days/Data/Month_2013_10/data_graphs/GOES_2013-10-25_00-00-00.png\n",
      "Observatorio encontrado: GOES-13\n",
      "Se encontraron datos  GOES para 2013-10-25 00:00:00 - 2013-10-26 00:00:00. Día saltado.\n",
      "\n",
      "Número de registros: 1440\n",
      "Columnas disponibles: ['xrsa', 'xrsb', 'xrsa_quality', 'xrsb_quality']\n",
      "2. Restar Background\n",
      "Plot saved at: 2025-10-24_Download_for_specific_days/Data/Month_2013_10/data_graphs/GOES_diff_linear_2013-10-25_00-00-00.png\n",
      "Plot saved at: 2025-10-24_Download_for_specific_days/Data/Month_2013_10/data_graphs/GOES_diff_log_2013-10-25_00-00-00.png\n"
     ]
    },
    {
     "name": "stderr",
     "output_type": "stream",
     "text": [
      "/tmp/ipykernel_2397830/750897493.py:225: FutureWarning: Downcasting behavior in Series and DataFrame methods 'where', 'mask', and 'clip' is deprecated. In a future version this will not infer object dtypes or cast all-round floats to integers. Instead call result.infer_objects(copy=False) for object inference, or cast round floats explicitly. To opt-in to the future behavior, set `pd.set_option('future.no_silent_downcasting', True)`\n",
      "  df_o = df_o.clip(lower=1e-9)\n"
     ]
    },
    {
     "name": "stdout",
     "output_type": "stream",
     "text": [
      "Plot saved at: 2025-10-24_Download_for_specific_days/Data/Month_2013_10/data_graphs/GOES_diff_positive_2013-10-25_00-00-00.png\n",
      "3. USAR FUNCIÓN SUNPY calculate_t_em\n",
      "Ahora vamos a calcular la T y EM con el modelo de abundancias:coronal\n"
     ]
    },
    {
     "name": "stderr",
     "output_type": "stream",
     "text": [
      "Files Downloaded: 100%|██████████| 1/1 [00:00<00:00,  1.24file/s]\n",
      "/home/pjgonzalesp/miniforge3/envs/sunpy/lib/python3.13/site-packages/astropy/units/quantity.py:659: RuntimeWarning: invalid value encountered in divide\n",
      "  result = super().__array_ufunc__(function, method, *arrays, **kwargs)\n"
     ]
    },
    {
     "name": "stdout",
     "output_type": "stream",
     "text": [
      "se calculó T y EM con el modelo de abundancias:coronal\n",
      "Ahora vamos a calcular la T y EM con el modelo de abundancias:photospheric\n"
     ]
    },
    {
     "name": "stderr",
     "output_type": "stream",
     "text": [
      "Files Downloaded:   0%|          | 0/1 [00:00<?, ?file/s]Exception ignored in: <function BaseEventLoop.__del__ at 0x7f20fad47420>\n",
      "Traceback (most recent call last):\n",
      "  File \"/home/pjgonzalesp/miniforge3/envs/sunpy/lib/python3.13/asyncio/base_events.py\", line 766, in __del__\n",
      "    self.close()\n",
      "  File \"/home/pjgonzalesp/miniforge3/envs/sunpy/lib/python3.13/asyncio/unix_events.py\", line 73, in close\n",
      "    self.remove_signal_handler(sig)\n",
      "  File \"/home/pjgonzalesp/miniforge3/envs/sunpy/lib/python3.13/asyncio/unix_events.py\", line 162, in remove_signal_handler\n",
      "    signal.signal(sig, handler)\n",
      "  File \"/home/pjgonzalesp/miniforge3/envs/sunpy/lib/python3.13/signal.py\", line 58, in signal\n",
      "    handler = _signal.signal(_enum_to_int(signalnum), _enum_to_int(handler))\n",
      "ValueError: signal only works in main thread of the main interpreter\n",
      "Files Downloaded: 100%|██████████| 1/1 [00:00<00:00,  1.23file/s]\n",
      "2025-10-24 15:09:29 - root - INFO: Searching for GOES flares between 2013-10-25 00:00:00 and 2013-10-26 00:00:00...\n"
     ]
    },
    {
     "name": "stdout",
     "output_type": "stream",
     "text": [
      "se calculó T y EM con el modelo de abundancias:photospheric\n",
      "4. CONSTRUIR df_full\n",
      "5. añadiendo observatorio: GOES: GOES-13\n",
      "se añadió observatorio: GOES: GOES-13\n",
      "6. Descargando flares: 2013-10-25 00:00:00 - 2013-10-26 00:00:00\n"
     ]
    },
    {
     "name": "stderr",
     "output_type": "stream",
     "text": [
      "2025-10-24 15:09:32 - root - INFO: Found 14 GOES solar flares between 2013-10-25 00:00:00 and 2013-10-26 00:00:00.\n",
      "Día 55 de 185: 2013-10-28\n"
     ]
    },
    {
     "name": "stdout",
     "output_type": "stream",
     "text": [
      "Se descargaron flares para el intervalo 2013-10-25 00:00:00 - 2013-10-26 00:00:00.\n",
      "7. Se filtraron solo flares de GOES.\n",
      "1. Descargar datos GOES\n",
      "Buscando datos de: 2013-10-28 00:00:00\n",
      "Descargando datos de 2013-10-28 00:00:00...\n"
     ]
    },
    {
     "name": "stderr",
     "output_type": "stream",
     "text": [
      "Files Downloaded:   0%|          | 0/4 [00:00<?, ?file/s]\n",
      "\n",
      "\n",
      "\u001b[A\u001b[A\u001b[A\n",
      "\n",
      "\u001b[A\u001b[A\n",
      "\u001b[A\n",
      "\n",
      "\u001b[A\u001b[A\n",
      "\u001b[A\n",
      "\n",
      "\n",
      "Files Downloaded:  25%|██▌       | 1/4 [00:01<00:03,  1.24s/file]\n",
      "\n",
      "\u001b[A\u001b[A\n",
      "\n",
      "\n",
      "\u001b[A\u001b[A\u001b[A\n",
      "Files Downloaded: 100%|██████████| 4/4 [00:01<00:00,  3.14file/s]\n"
     ]
    },
    {
     "name": "stdout",
     "output_type": "stream",
     "text": [
      "Resolution = 1 minute\n",
      "Gráfica guardada en 2025-10-24_Download_for_specific_days/Data/Month_2013_10/data_graphs/GOES_2013-10-28_00-00-00.png\n",
      "Observatorio encontrado: GOES-13\n",
      "Se encontraron datos  GOES para 2013-10-28 00:00:00 - 2013-10-29 00:00:00. Día saltado.\n",
      "\n",
      "Número de registros: 1440\n",
      "Columnas disponibles: ['xrsa', 'xrsb', 'xrsa_quality', 'xrsb_quality']\n",
      "2. Restar Background\n",
      "Plot saved at: 2025-10-24_Download_for_specific_days/Data/Month_2013_10/data_graphs/GOES_diff_linear_2013-10-28_00-00-00.png\n",
      "Plot saved at: 2025-10-24_Download_for_specific_days/Data/Month_2013_10/data_graphs/GOES_diff_log_2013-10-28_00-00-00.png\n"
     ]
    },
    {
     "name": "stderr",
     "output_type": "stream",
     "text": [
      "/tmp/ipykernel_2397830/750897493.py:225: FutureWarning: Downcasting behavior in Series and DataFrame methods 'where', 'mask', and 'clip' is deprecated. In a future version this will not infer object dtypes or cast all-round floats to integers. Instead call result.infer_objects(copy=False) for object inference, or cast round floats explicitly. To opt-in to the future behavior, set `pd.set_option('future.no_silent_downcasting', True)`\n",
      "  df_o = df_o.clip(lower=1e-9)\n"
     ]
    },
    {
     "name": "stdout",
     "output_type": "stream",
     "text": [
      "Plot saved at: 2025-10-24_Download_for_specific_days/Data/Month_2013_10/data_graphs/GOES_diff_positive_2013-10-28_00-00-00.png\n",
      "3. USAR FUNCIÓN SUNPY calculate_t_em\n",
      "Ahora vamos a calcular la T y EM con el modelo de abundancias:coronal\n"
     ]
    },
    {
     "name": "stderr",
     "output_type": "stream",
     "text": [
      "Files Downloaded: 100%|██████████| 1/1 [00:00<00:00,  1.06file/s]\n",
      "/home/pjgonzalesp/miniforge3/envs/sunpy/lib/python3.13/site-packages/astropy/units/quantity.py:659: RuntimeWarning: invalid value encountered in divide\n",
      "  result = super().__array_ufunc__(function, method, *arrays, **kwargs)\n"
     ]
    },
    {
     "name": "stdout",
     "output_type": "stream",
     "text": [
      "se calculó T y EM con el modelo de abundancias:coronal\n",
      "Ahora vamos a calcular la T y EM con el modelo de abundancias:photospheric\n"
     ]
    },
    {
     "name": "stderr",
     "output_type": "stream",
     "text": [
      "Files Downloaded:   0%|          | 0/1 [00:00<?, ?file/s]Exception ignored in: <function BaseEventLoop.__del__ at 0x7f20fad47420>\n",
      "Traceback (most recent call last):\n",
      "  File \"/home/pjgonzalesp/miniforge3/envs/sunpy/lib/python3.13/asyncio/base_events.py\", line 766, in __del__\n",
      "    self.close()\n",
      "  File \"/home/pjgonzalesp/miniforge3/envs/sunpy/lib/python3.13/asyncio/unix_events.py\", line 73, in close\n",
      "    self.remove_signal_handler(sig)\n",
      "  File \"/home/pjgonzalesp/miniforge3/envs/sunpy/lib/python3.13/asyncio/unix_events.py\", line 162, in remove_signal_handler\n",
      "    signal.signal(sig, handler)\n",
      "  File \"/home/pjgonzalesp/miniforge3/envs/sunpy/lib/python3.13/signal.py\", line 58, in signal\n",
      "    handler = _signal.signal(_enum_to_int(signalnum), _enum_to_int(handler))\n",
      "ValueError: signal only works in main thread of the main interpreter\n",
      "Files Downloaded: 100%|██████████| 1/1 [00:01<00:00,  1.30s/file]\n",
      "2025-10-24 15:09:48 - root - INFO: Searching for GOES flares between 2013-10-28 00:00:00 and 2013-10-29 00:00:00...\n"
     ]
    },
    {
     "name": "stdout",
     "output_type": "stream",
     "text": [
      "se calculó T y EM con el modelo de abundancias:photospheric\n",
      "4. CONSTRUIR df_full\n",
      "5. añadiendo observatorio: GOES: GOES-13\n",
      "se añadió observatorio: GOES: GOES-13\n",
      "6. Descargando flares: 2013-10-28 00:00:00 - 2013-10-29 00:00:00\n"
     ]
    },
    {
     "name": "stderr",
     "output_type": "stream",
     "text": [
      "2025-10-24 15:09:50 - root - INFO: Found 9 GOES solar flares between 2013-10-28 00:00:00 and 2013-10-29 00:00:00.\n",
      "Día 56 de 185: 2013-10-29\n"
     ]
    },
    {
     "name": "stdout",
     "output_type": "stream",
     "text": [
      "Se descargaron flares para el intervalo 2013-10-28 00:00:00 - 2013-10-29 00:00:00.\n",
      "7. Se filtraron solo flares de GOES.\n",
      "1. Descargar datos GOES\n",
      "Buscando datos de: 2013-10-29 00:00:00\n",
      "Descargando datos de 2013-10-29 00:00:00...\n"
     ]
    },
    {
     "name": "stderr",
     "output_type": "stream",
     "text": [
      "Files Downloaded: 100%|██████████| 4/4 [00:00<00:00,  6.76file/s]\n"
     ]
    },
    {
     "name": "stdout",
     "output_type": "stream",
     "text": [
      "Resolution = 1 minute\n",
      "Gráfica guardada en 2025-10-24_Download_for_specific_days/Data/Month_2013_10/data_graphs/GOES_2013-10-29_00-00-00.png\n",
      "Observatorio encontrado: GOES-13\n",
      "Se encontraron datos  GOES para 2013-10-29 00:00:00 - 2013-10-30 00:00:00. Día saltado.\n",
      "\n",
      "Número de registros: 1440\n",
      "Columnas disponibles: ['xrsa', 'xrsb', 'xrsa_quality', 'xrsb_quality']\n",
      "2. Restar Background\n",
      "Plot saved at: 2025-10-24_Download_for_specific_days/Data/Month_2013_10/data_graphs/GOES_diff_linear_2013-10-29_00-00-00.png\n",
      "Plot saved at: 2025-10-24_Download_for_specific_days/Data/Month_2013_10/data_graphs/GOES_diff_log_2013-10-29_00-00-00.png\n"
     ]
    },
    {
     "name": "stderr",
     "output_type": "stream",
     "text": [
      "/tmp/ipykernel_2397830/750897493.py:225: FutureWarning: Downcasting behavior in Series and DataFrame methods 'where', 'mask', and 'clip' is deprecated. In a future version this will not infer object dtypes or cast all-round floats to integers. Instead call result.infer_objects(copy=False) for object inference, or cast round floats explicitly. To opt-in to the future behavior, set `pd.set_option('future.no_silent_downcasting', True)`\n",
      "  df_o = df_o.clip(lower=1e-9)\n"
     ]
    },
    {
     "name": "stdout",
     "output_type": "stream",
     "text": [
      "Plot saved at: 2025-10-24_Download_for_specific_days/Data/Month_2013_10/data_graphs/GOES_diff_positive_2013-10-29_00-00-00.png\n",
      "3. USAR FUNCIÓN SUNPY calculate_t_em\n",
      "Ahora vamos a calcular la T y EM con el modelo de abundancias:coronal\n"
     ]
    },
    {
     "name": "stderr",
     "output_type": "stream",
     "text": [
      "Files Downloaded: 100%|██████████| 1/1 [00:02<00:00,  2.07s/file]\n",
      "/home/pjgonzalesp/miniforge3/envs/sunpy/lib/python3.13/site-packages/astropy/units/quantity.py:659: RuntimeWarning: divide by zero encountered in divide\n",
      "  result = super().__array_ufunc__(function, method, *arrays, **kwargs)\n",
      "/home/pjgonzalesp/miniforge3/envs/sunpy/lib/python3.13/site-packages/astropy/units/quantity.py:659: RuntimeWarning: invalid value encountered in divide\n",
      "  result = super().__array_ufunc__(function, method, *arrays, **kwargs)\n"
     ]
    },
    {
     "name": "stdout",
     "output_type": "stream",
     "text": [
      "se calculó T y EM con el modelo de abundancias:coronal\n",
      "Ahora vamos a calcular la T y EM con el modelo de abundancias:photospheric\n"
     ]
    },
    {
     "name": "stderr",
     "output_type": "stream",
     "text": [
      "Files Downloaded: 100%|██████████| 1/1 [00:00<00:00,  1.06file/s]\n",
      "2025-10-24 15:10:06 - root - INFO: Searching for GOES flares between 2013-10-29 00:00:00 and 2013-10-30 00:00:00...\n"
     ]
    },
    {
     "name": "stdout",
     "output_type": "stream",
     "text": [
      "se calculó T y EM con el modelo de abundancias:photospheric\n",
      "4. CONSTRUIR df_full\n",
      "5. añadiendo observatorio: GOES: GOES-13\n",
      "se añadió observatorio: GOES: GOES-13\n",
      "6. Descargando flares: 2013-10-29 00:00:00 - 2013-10-30 00:00:00\n"
     ]
    },
    {
     "name": "stderr",
     "output_type": "stream",
     "text": [
      "2025-10-24 15:10:10 - root - INFO: Found 11 GOES solar flares between 2013-10-29 00:00:00 and 2013-10-30 00:00:00.\n",
      "Día 57 de 185: 2013-11-05\n"
     ]
    },
    {
     "name": "stdout",
     "output_type": "stream",
     "text": [
      "Se descargaron flares para el intervalo 2013-10-29 00:00:00 - 2013-10-30 00:00:00.\n",
      "7. Se filtraron solo flares de GOES.\n",
      "💾 df_full_2013_10.csv actualizado (4320 filas)\n",
      "✅ Días descargados este mes: [datetime.date(2013, 10, 25), datetime.date(2013, 10, 28), datetime.date(2013, 10, 29)]\n",
      "💾 df_flare_data_2013_10.csv actualizado (34 filas)\n",
      "🏁 Mes 2013_10 terminado → 2025-10-24_Download_for_specific_days/Data/Month_2013_10\n",
      "\n",
      "========================================\n",
      "🟦 Procesando mes 2013_11 (4 días)\n",
      "========================================\n",
      "1. Descargar datos GOES\n",
      "Buscando datos de: 2013-11-05 00:00:00\n",
      "Descargando datos de 2013-11-05 00:00:00...\n"
     ]
    },
    {
     "name": "stderr",
     "output_type": "stream",
     "text": [
      "Files Downloaded:   0%|          | 0/4 [00:00<?, ?file/s]\n",
      "\n",
      "\u001b[A\u001b[A\n",
      "\u001b[A\n",
      "\n",
      "\n",
      "\u001b[A\u001b[A\u001b[A\n",
      "\n",
      "\u001b[A\u001b[A\n",
      "\u001b[A\n",
      "\n",
      "Files Downloaded:  25%|██▌       | 1/4 [00:01<00:03,  1.25s/file]\n",
      "\n",
      "\n",
      "\u001b[A\u001b[A\u001b[A\n",
      "\n",
      "\n",
      "\u001b[A\u001b[A\u001b[A\n",
      "\n",
      "\n",
      "Files Downloaded:  75%|███████▌  | 3/4 [00:01<00:00,  2.65file/s]\n",
      "\u001b[A\n",
      "Files Downloaded: 100%|██████████| 4/4 [00:01<00:00,  2.27file/s]\n"
     ]
    },
    {
     "name": "stdout",
     "output_type": "stream",
     "text": [
      "Resolution = 1 minute\n",
      "Gráfica guardada en 2025-10-24_Download_for_specific_days/Data/Month_2013_11/data_graphs/GOES_2013-11-05_00-00-00.png\n",
      "Observatorio encontrado: GOES-13\n",
      "Se encontraron datos  GOES para 2013-11-05 00:00:00 - 2013-11-06 00:00:00. Día saltado.\n",
      "\n",
      "Número de registros: 1440\n",
      "Columnas disponibles: ['xrsa', 'xrsb', 'xrsa_quality', 'xrsb_quality']\n",
      "2. Restar Background\n",
      "Plot saved at: 2025-10-24_Download_for_specific_days/Data/Month_2013_11/data_graphs/GOES_diff_linear_2013-11-05_00-00-00.png\n",
      "Plot saved at: 2025-10-24_Download_for_specific_days/Data/Month_2013_11/data_graphs/GOES_diff_log_2013-11-05_00-00-00.png\n"
     ]
    },
    {
     "name": "stderr",
     "output_type": "stream",
     "text": [
      "/tmp/ipykernel_2397830/750897493.py:225: FutureWarning: Downcasting behavior in Series and DataFrame methods 'where', 'mask', and 'clip' is deprecated. In a future version this will not infer object dtypes or cast all-round floats to integers. Instead call result.infer_objects(copy=False) for object inference, or cast round floats explicitly. To opt-in to the future behavior, set `pd.set_option('future.no_silent_downcasting', True)`\n",
      "  df_o = df_o.clip(lower=1e-9)\n"
     ]
    },
    {
     "name": "stdout",
     "output_type": "stream",
     "text": [
      "Plot saved at: 2025-10-24_Download_for_specific_days/Data/Month_2013_11/data_graphs/GOES_diff_positive_2013-11-05_00-00-00.png\n",
      "3. USAR FUNCIÓN SUNPY calculate_t_em\n",
      "Ahora vamos a calcular la T y EM con el modelo de abundancias:coronal\n"
     ]
    },
    {
     "name": "stderr",
     "output_type": "stream",
     "text": [
      "Files Downloaded: 100%|██████████| 1/1 [00:01<00:00,  1.24s/file]\n",
      "/home/pjgonzalesp/miniforge3/envs/sunpy/lib/python3.13/site-packages/astropy/units/quantity.py:659: RuntimeWarning: divide by zero encountered in divide\n",
      "  result = super().__array_ufunc__(function, method, *arrays, **kwargs)\n",
      "/home/pjgonzalesp/miniforge3/envs/sunpy/lib/python3.13/site-packages/astropy/units/quantity.py:659: RuntimeWarning: invalid value encountered in divide\n",
      "  result = super().__array_ufunc__(function, method, *arrays, **kwargs)\n"
     ]
    },
    {
     "name": "stdout",
     "output_type": "stream",
     "text": [
      "se calculó T y EM con el modelo de abundancias:coronal\n",
      "Ahora vamos a calcular la T y EM con el modelo de abundancias:photospheric\n"
     ]
    },
    {
     "name": "stderr",
     "output_type": "stream",
     "text": [
      "Files Downloaded: 100%|██████████| 1/1 [00:00<00:00,  1.05file/s]\n",
      "2025-10-24 15:10:27 - root - INFO: Searching for GOES flares between 2013-11-05 00:00:00 and 2013-11-06 00:00:00...\n"
     ]
    },
    {
     "name": "stdout",
     "output_type": "stream",
     "text": [
      "se calculó T y EM con el modelo de abundancias:photospheric\n",
      "4. CONSTRUIR df_full\n",
      "5. añadiendo observatorio: GOES: GOES-13\n",
      "se añadió observatorio: GOES: GOES-13\n",
      "6. Descargando flares: 2013-11-05 00:00:00 - 2013-11-06 00:00:00\n"
     ]
    },
    {
     "name": "stderr",
     "output_type": "stream",
     "text": [
      "2025-10-24 15:10:29 - root - INFO: Found 12 GOES solar flares between 2013-11-05 00:00:00 and 2013-11-06 00:00:00.\n",
      "Día 58 de 185: 2013-11-08\n"
     ]
    },
    {
     "name": "stdout",
     "output_type": "stream",
     "text": [
      "Se descargaron flares para el intervalo 2013-11-05 00:00:00 - 2013-11-06 00:00:00.\n",
      "7. Se filtraron solo flares de GOES.\n",
      "1. Descargar datos GOES\n",
      "Buscando datos de: 2013-11-08 00:00:00\n",
      "Descargando datos de 2013-11-08 00:00:00...\n"
     ]
    },
    {
     "name": "stderr",
     "output_type": "stream",
     "text": [
      "Files Downloaded:   0%|          | 0/4 [00:00<?, ?file/s]\n",
      "\u001b[A\n",
      "\n",
      "\n",
      "\u001b[A\u001b[A\u001b[A\n",
      "\n",
      "\u001b[A\u001b[A\n",
      "\n",
      "\n",
      "\u001b[A\u001b[A\u001b[A\n",
      "Files Downloaded:  25%|██▌       | 1/4 [00:01<00:03,  1.26s/file]\n",
      "\n",
      "\u001b[A\u001b[A\n",
      "\n",
      "\u001b[A\u001b[A\n",
      "\n",
      "\n",
      "\u001b[A\u001b[A\u001b[A\n",
      "\n",
      "\n",
      "Files Downloaded:  75%|███████▌  | 3/4 [00:01<00:00,  2.35file/s]\n",
      "\u001b[A\n",
      "\u001b[A\n",
      "Files Downloaded: 100%|██████████| 4/4 [00:01<00:00,  2.19file/s]\n"
     ]
    },
    {
     "name": "stdout",
     "output_type": "stream",
     "text": [
      "Resolution = 1 minute\n",
      "Gráfica guardada en 2025-10-24_Download_for_specific_days/Data/Month_2013_11/data_graphs/GOES_2013-11-08_00-00-00.png\n",
      "Observatorio encontrado: GOES-13\n",
      "Se encontraron datos  GOES para 2013-11-08 00:00:00 - 2013-11-09 00:00:00. Día saltado.\n",
      "\n",
      "Número de registros: 1440\n",
      "Columnas disponibles: ['xrsa', 'xrsb', 'xrsa_quality', 'xrsb_quality']\n",
      "2. Restar Background\n",
      "Plot saved at: 2025-10-24_Download_for_specific_days/Data/Month_2013_11/data_graphs/GOES_diff_linear_2013-11-08_00-00-00.png\n",
      "Plot saved at: 2025-10-24_Download_for_specific_days/Data/Month_2013_11/data_graphs/GOES_diff_log_2013-11-08_00-00-00.png\n"
     ]
    },
    {
     "name": "stderr",
     "output_type": "stream",
     "text": [
      "/tmp/ipykernel_2397830/750897493.py:225: FutureWarning: Downcasting behavior in Series and DataFrame methods 'where', 'mask', and 'clip' is deprecated. In a future version this will not infer object dtypes or cast all-round floats to integers. Instead call result.infer_objects(copy=False) for object inference, or cast round floats explicitly. To opt-in to the future behavior, set `pd.set_option('future.no_silent_downcasting', True)`\n",
      "  df_o = df_o.clip(lower=1e-9)\n"
     ]
    },
    {
     "name": "stdout",
     "output_type": "stream",
     "text": [
      "Plot saved at: 2025-10-24_Download_for_specific_days/Data/Month_2013_11/data_graphs/GOES_diff_positive_2013-11-08_00-00-00.png\n",
      "3. USAR FUNCIÓN SUNPY calculate_t_em\n",
      "Ahora vamos a calcular la T y EM con el modelo de abundancias:coronal\n"
     ]
    },
    {
     "name": "stderr",
     "output_type": "stream",
     "text": [
      "Files Downloaded: 100%|██████████| 1/1 [00:00<00:00,  1.23file/s]\n",
      "/home/pjgonzalesp/miniforge3/envs/sunpy/lib/python3.13/site-packages/astropy/units/quantity.py:659: RuntimeWarning: divide by zero encountered in divide\n",
      "  result = super().__array_ufunc__(function, method, *arrays, **kwargs)\n",
      "/home/pjgonzalesp/miniforge3/envs/sunpy/lib/python3.13/site-packages/astropy/units/quantity.py:659: RuntimeWarning: invalid value encountered in divide\n",
      "  result = super().__array_ufunc__(function, method, *arrays, **kwargs)\n"
     ]
    },
    {
     "name": "stdout",
     "output_type": "stream",
     "text": [
      "se calculó T y EM con el modelo de abundancias:coronal\n",
      "Ahora vamos a calcular la T y EM con el modelo de abundancias:photospheric\n"
     ]
    },
    {
     "name": "stderr",
     "output_type": "stream",
     "text": [
      "Files Downloaded:   0%|          | 0/1 [00:00<?, ?file/s]Exception ignored in: <function BaseEventLoop.__del__ at 0x7f20fad47420>\n",
      "Traceback (most recent call last):\n",
      "  File \"/home/pjgonzalesp/miniforge3/envs/sunpy/lib/python3.13/asyncio/base_events.py\", line 766, in __del__\n",
      "    self.close()\n",
      "  File \"/home/pjgonzalesp/miniforge3/envs/sunpy/lib/python3.13/asyncio/unix_events.py\", line 73, in close\n",
      "    self.remove_signal_handler(sig)\n",
      "  File \"/home/pjgonzalesp/miniforge3/envs/sunpy/lib/python3.13/asyncio/unix_events.py\", line 162, in remove_signal_handler\n",
      "    signal.signal(sig, handler)\n",
      "  File \"/home/pjgonzalesp/miniforge3/envs/sunpy/lib/python3.13/signal.py\", line 58, in signal\n",
      "    handler = _signal.signal(_enum_to_int(signalnum), _enum_to_int(handler))\n",
      "ValueError: signal only works in main thread of the main interpreter\n",
      "Files Downloaded: 100%|██████████| 1/1 [00:00<00:00,  1.19file/s]\n",
      "2025-10-24 15:10:45 - root - INFO: Searching for GOES flares between 2013-11-08 00:00:00 and 2013-11-09 00:00:00...\n"
     ]
    },
    {
     "name": "stdout",
     "output_type": "stream",
     "text": [
      "se calculó T y EM con el modelo de abundancias:photospheric\n",
      "4. CONSTRUIR df_full\n",
      "5. añadiendo observatorio: GOES: GOES-13\n",
      "se añadió observatorio: GOES: GOES-13\n",
      "6. Descargando flares: 2013-11-08 00:00:00 - 2013-11-09 00:00:00\n"
     ]
    },
    {
     "name": "stderr",
     "output_type": "stream",
     "text": [
      "2025-10-24 15:10:47 - root - INFO: Found 7 GOES solar flares between 2013-11-08 00:00:00 and 2013-11-09 00:00:00.\n",
      "Día 59 de 185: 2013-11-10\n"
     ]
    },
    {
     "name": "stdout",
     "output_type": "stream",
     "text": [
      "Se descargaron flares para el intervalo 2013-11-08 00:00:00 - 2013-11-09 00:00:00.\n",
      "7. Se filtraron solo flares de GOES.\n",
      "1. Descargar datos GOES\n",
      "Buscando datos de: 2013-11-10 00:00:00\n",
      "Descargando datos de 2013-11-10 00:00:00...\n"
     ]
    },
    {
     "name": "stderr",
     "output_type": "stream",
     "text": [
      "Files Downloaded:   0%|          | 0/4 [00:00<?, ?file/s]\n",
      "\u001b[A\n",
      "\n",
      "\u001b[A\u001b[A\n",
      "\n",
      "\n",
      "\u001b[A\u001b[A\u001b[A\n",
      "\n",
      "\n",
      "\u001b[A\u001b[A\u001b[A\n",
      "Files Downloaded:  25%|██▌       | 1/4 [00:01<00:03,  1.23s/file]\n",
      "\n",
      "\u001b[A\u001b[A\n",
      "\n",
      "\u001b[A\u001b[A\n",
      "\n",
      "\n",
      "\u001b[A\u001b[A\u001b[A\n",
      "\n",
      "\n",
      "\u001b[A\u001b[A\u001b[A\n",
      "Files Downloaded:  50%|█████     | 2/4 [00:01<00:01,  1.64file/s]\n",
      "\u001b[A\n",
      "\n",
      "Files Downloaded: 100%|██████████| 4/4 [00:01<00:00,  2.80file/s]\n"
     ]
    },
    {
     "name": "stdout",
     "output_type": "stream",
     "text": [
      "Resolution = 1 minute\n",
      "Gráfica guardada en 2025-10-24_Download_for_specific_days/Data/Month_2013_11/data_graphs/GOES_2013-11-10_00-00-00.png\n",
      "Observatorio encontrado: GOES-13\n",
      "Se encontraron datos  GOES para 2013-11-10 00:00:00 - 2013-11-11 00:00:00. Día saltado.\n",
      "\n",
      "Número de registros: 1440\n",
      "Columnas disponibles: ['xrsa', 'xrsb', 'xrsa_quality', 'xrsb_quality']\n",
      "2. Restar Background\n",
      "Plot saved at: 2025-10-24_Download_for_specific_days/Data/Month_2013_11/data_graphs/GOES_diff_linear_2013-11-10_00-00-00.png\n",
      "Plot saved at: 2025-10-24_Download_for_specific_days/Data/Month_2013_11/data_graphs/GOES_diff_log_2013-11-10_00-00-00.png\n"
     ]
    },
    {
     "name": "stderr",
     "output_type": "stream",
     "text": [
      "/tmp/ipykernel_2397830/750897493.py:225: FutureWarning: Downcasting behavior in Series and DataFrame methods 'where', 'mask', and 'clip' is deprecated. In a future version this will not infer object dtypes or cast all-round floats to integers. Instead call result.infer_objects(copy=False) for object inference, or cast round floats explicitly. To opt-in to the future behavior, set `pd.set_option('future.no_silent_downcasting', True)`\n",
      "  df_o = df_o.clip(lower=1e-9)\n"
     ]
    },
    {
     "name": "stdout",
     "output_type": "stream",
     "text": [
      "Plot saved at: 2025-10-24_Download_for_specific_days/Data/Month_2013_11/data_graphs/GOES_diff_positive_2013-11-10_00-00-00.png\n",
      "3. USAR FUNCIÓN SUNPY calculate_t_em\n",
      "Ahora vamos a calcular la T y EM con el modelo de abundancias:coronal\n"
     ]
    },
    {
     "name": "stderr",
     "output_type": "stream",
     "text": [
      "Files Downloaded: 100%|██████████| 1/1 [00:00<00:00,  1.25file/s]\n",
      "/home/pjgonzalesp/miniforge3/envs/sunpy/lib/python3.13/site-packages/astropy/units/quantity.py:659: RuntimeWarning: invalid value encountered in divide\n",
      "  result = super().__array_ufunc__(function, method, *arrays, **kwargs)\n"
     ]
    },
    {
     "name": "stdout",
     "output_type": "stream",
     "text": [
      "se calculó T y EM con el modelo de abundancias:coronal\n",
      "Ahora vamos a calcular la T y EM con el modelo de abundancias:photospheric\n"
     ]
    },
    {
     "name": "stderr",
     "output_type": "stream",
     "text": [
      "Files Downloaded: 100%|██████████| 1/1 [00:01<00:00,  1.07s/file]\n",
      "2025-10-24 15:11:03 - root - INFO: Searching for GOES flares between 2013-11-10 00:00:00 and 2013-11-11 00:00:00...\n"
     ]
    },
    {
     "name": "stdout",
     "output_type": "stream",
     "text": [
      "se calculó T y EM con el modelo de abundancias:photospheric\n",
      "4. CONSTRUIR df_full\n",
      "5. añadiendo observatorio: GOES: GOES-13\n",
      "se añadió observatorio: GOES: GOES-13\n",
      "6. Descargando flares: 2013-11-10 00:00:00 - 2013-11-11 00:00:00\n"
     ]
    },
    {
     "name": "stderr",
     "output_type": "stream",
     "text": [
      "2025-10-24 15:11:05 - root - INFO: Found 9 GOES solar flares between 2013-11-10 00:00:00 and 2013-11-11 00:00:00.\n",
      "Día 60 de 185: 2013-11-19\n"
     ]
    },
    {
     "name": "stdout",
     "output_type": "stream",
     "text": [
      "Se descargaron flares para el intervalo 2013-11-10 00:00:00 - 2013-11-11 00:00:00.\n",
      "7. Se filtraron solo flares de GOES.\n",
      "1. Descargar datos GOES\n",
      "Buscando datos de: 2013-11-19 00:00:00\n",
      "Descargando datos de 2013-11-19 00:00:00...\n"
     ]
    },
    {
     "name": "stderr",
     "output_type": "stream",
     "text": [
      "Files Downloaded:   0%|          | 0/4 [00:00<?, ?file/s]\n",
      "\n",
      "\n",
      "\u001b[A\u001b[A\u001b[A\n",
      "\n",
      "\u001b[A\u001b[A\n",
      "\u001b[A\n",
      "\n",
      "\n",
      "\u001b[A\u001b[A\u001b[A\n",
      "\n",
      "\u001b[A\u001b[A\n",
      "\n",
      "\n",
      "Files Downloaded:  25%|██▌       | 1/4 [00:01<00:03,  1.25s/file]\n",
      "\u001b[A\n",
      "\n",
      "\u001b[A\u001b[A\n",
      "\u001b[A\n",
      "Files Downloaded: 100%|██████████| 4/4 [00:01<00:00,  2.22file/s]\n"
     ]
    },
    {
     "name": "stdout",
     "output_type": "stream",
     "text": [
      "Resolution = 1 minute\n",
      "Gráfica guardada en 2025-10-24_Download_for_specific_days/Data/Month_2013_11/data_graphs/GOES_2013-11-19_00-00-00.png\n",
      "Observatorio encontrado: GOES-13\n",
      "Se encontraron datos  GOES para 2013-11-19 00:00:00 - 2013-11-20 00:00:00. Día saltado.\n",
      "\n",
      "Número de registros: 1440\n",
      "Columnas disponibles: ['xrsa', 'xrsb', 'xrsa_quality', 'xrsb_quality']\n",
      "2. Restar Background\n",
      "Plot saved at: 2025-10-24_Download_for_specific_days/Data/Month_2013_11/data_graphs/GOES_diff_linear_2013-11-19_00-00-00.png\n",
      "Plot saved at: 2025-10-24_Download_for_specific_days/Data/Month_2013_11/data_graphs/GOES_diff_log_2013-11-19_00-00-00.png\n"
     ]
    },
    {
     "name": "stderr",
     "output_type": "stream",
     "text": [
      "/tmp/ipykernel_2397830/750897493.py:225: FutureWarning: Downcasting behavior in Series and DataFrame methods 'where', 'mask', and 'clip' is deprecated. In a future version this will not infer object dtypes or cast all-round floats to integers. Instead call result.infer_objects(copy=False) for object inference, or cast round floats explicitly. To opt-in to the future behavior, set `pd.set_option('future.no_silent_downcasting', True)`\n",
      "  df_o = df_o.clip(lower=1e-9)\n"
     ]
    },
    {
     "name": "stdout",
     "output_type": "stream",
     "text": [
      "Plot saved at: 2025-10-24_Download_for_specific_days/Data/Month_2013_11/data_graphs/GOES_diff_positive_2013-11-19_00-00-00.png\n",
      "3. USAR FUNCIÓN SUNPY calculate_t_em\n",
      "Ahora vamos a calcular la T y EM con el modelo de abundancias:coronal\n"
     ]
    },
    {
     "name": "stderr",
     "output_type": "stream",
     "text": [
      "Files Downloaded: 100%|██████████| 1/1 [00:00<00:00,  1.19file/s]\n",
      "/home/pjgonzalesp/miniforge3/envs/sunpy/lib/python3.13/site-packages/astropy/units/quantity.py:659: RuntimeWarning: invalid value encountered in divide\n",
      "  result = super().__array_ufunc__(function, method, *arrays, **kwargs)\n"
     ]
    },
    {
     "name": "stdout",
     "output_type": "stream",
     "text": [
      "se calculó T y EM con el modelo de abundancias:coronal\n",
      "Ahora vamos a calcular la T y EM con el modelo de abundancias:photospheric\n"
     ]
    },
    {
     "name": "stderr",
     "output_type": "stream",
     "text": [
      "Files Downloaded: 100%|██████████| 1/1 [00:04<00:00,  4.19s/file]\n",
      "2025-10-24 15:11:24 - root - INFO: Searching for GOES flares between 2013-11-19 00:00:00 and 2013-11-20 00:00:00...\n"
     ]
    },
    {
     "name": "stdout",
     "output_type": "stream",
     "text": [
      "se calculó T y EM con el modelo de abundancias:photospheric\n",
      "4. CONSTRUIR df_full\n",
      "5. añadiendo observatorio: GOES: GOES-13\n",
      "se añadió observatorio: GOES: GOES-13\n",
      "6. Descargando flares: 2013-11-19 00:00:00 - 2013-11-20 00:00:00\n"
     ]
    },
    {
     "name": "stderr",
     "output_type": "stream",
     "text": [
      "2025-10-24 15:11:26 - root - INFO: Found 7 GOES solar flares between 2013-11-19 00:00:00 and 2013-11-20 00:00:00.\n",
      "Día 61 de 185: 2014-01-07\n"
     ]
    },
    {
     "name": "stdout",
     "output_type": "stream",
     "text": [
      "Se descargaron flares para el intervalo 2013-11-19 00:00:00 - 2013-11-20 00:00:00.\n",
      "7. Se filtraron solo flares de GOES.\n",
      "💾 df_full_2013_11.csv actualizado (5760 filas)\n",
      "✅ Días descargados este mes: [datetime.date(2013, 11, 5), datetime.date(2013, 11, 8), datetime.date(2013, 11, 10), datetime.date(2013, 11, 19)]\n",
      "💾 df_flare_data_2013_11.csv actualizado (35 filas)\n",
      "🏁 Mes 2013_11 terminado → 2025-10-24_Download_for_specific_days/Data/Month_2013_11\n",
      "\n",
      "========================================\n",
      "🟦 Procesando mes 2014_01 (1 días)\n",
      "========================================\n",
      "1. Descargar datos GOES\n",
      "Buscando datos de: 2014-01-07 00:00:00\n",
      "Descargando datos de 2014-01-07 00:00:00...\n"
     ]
    },
    {
     "name": "stderr",
     "output_type": "stream",
     "text": [
      "Files Downloaded:   0%|          | 0/4 [00:00<?, ?file/s]\n",
      "\u001b[A\n",
      "\n",
      "\n",
      "\u001b[A\u001b[A\u001b[A\n",
      "\n",
      "\u001b[A\u001b[A\n",
      "\u001b[A\n",
      "\n",
      "\n",
      "\u001b[A\u001b[A\u001b[A\n",
      "\n",
      "\u001b[A\u001b[A\n",
      "\u001b[A\n",
      "Files Downloaded:  25%|██▌       | 1/4 [00:01<00:04,  1.36s/file]\n",
      "\n",
      "\n",
      "\u001b[A\u001b[A\u001b[A\n",
      "\n",
      "\n",
      "\u001b[A\u001b[A\u001b[A\n",
      "\n",
      "\u001b[A\u001b[A\n",
      "\n",
      "Files Downloaded: 100%|██████████| 4/4 [00:01<00:00,  2.73file/s]\n"
     ]
    },
    {
     "name": "stdout",
     "output_type": "stream",
     "text": [
      "Resolution = 1 minute\n",
      "Gráfica guardada en 2025-10-24_Download_for_specific_days/Data/Month_2014_01/data_graphs/GOES_2014-01-07_00-00-00.png\n",
      "Observatorio encontrado: GOES-13\n",
      "Se encontraron datos  GOES para 2014-01-07 00:00:00 - 2014-01-08 00:00:00. Día saltado.\n",
      "\n",
      "Número de registros: 1440\n",
      "Columnas disponibles: ['xrsa', 'xrsb', 'xrsa_quality', 'xrsb_quality']\n",
      "2. Restar Background\n",
      "Plot saved at: 2025-10-24_Download_for_specific_days/Data/Month_2014_01/data_graphs/GOES_diff_linear_2014-01-07_00-00-00.png\n",
      "Plot saved at: 2025-10-24_Download_for_specific_days/Data/Month_2014_01/data_graphs/GOES_diff_log_2014-01-07_00-00-00.png\n"
     ]
    },
    {
     "name": "stderr",
     "output_type": "stream",
     "text": [
      "/tmp/ipykernel_2397830/750897493.py:225: FutureWarning: Downcasting behavior in Series and DataFrame methods 'where', 'mask', and 'clip' is deprecated. In a future version this will not infer object dtypes or cast all-round floats to integers. Instead call result.infer_objects(copy=False) for object inference, or cast round floats explicitly. To opt-in to the future behavior, set `pd.set_option('future.no_silent_downcasting', True)`\n",
      "  df_o = df_o.clip(lower=1e-9)\n"
     ]
    },
    {
     "name": "stdout",
     "output_type": "stream",
     "text": [
      "Plot saved at: 2025-10-24_Download_for_specific_days/Data/Month_2014_01/data_graphs/GOES_diff_positive_2014-01-07_00-00-00.png\n",
      "3. USAR FUNCIÓN SUNPY calculate_t_em\n",
      "Ahora vamos a calcular la T y EM con el modelo de abundancias:coronal\n"
     ]
    },
    {
     "name": "stderr",
     "output_type": "stream",
     "text": [
      "Files Downloaded: 100%|██████████| 1/1 [00:01<00:00,  1.01s/file]\n",
      "/home/pjgonzalesp/miniforge3/envs/sunpy/lib/python3.13/site-packages/astropy/units/quantity.py:659: RuntimeWarning: invalid value encountered in divide\n",
      "  result = super().__array_ufunc__(function, method, *arrays, **kwargs)\n"
     ]
    },
    {
     "name": "stdout",
     "output_type": "stream",
     "text": [
      "se calculó T y EM con el modelo de abundancias:coronal\n",
      "Ahora vamos a calcular la T y EM con el modelo de abundancias:photospheric\n"
     ]
    },
    {
     "name": "stderr",
     "output_type": "stream",
     "text": [
      "Files Downloaded:   0%|          | 0/1 [00:00<?, ?file/s]Exception ignored in: <function BaseEventLoop.__del__ at 0x7f20fad47420>\n",
      "Traceback (most recent call last):\n",
      "  File \"/home/pjgonzalesp/miniforge3/envs/sunpy/lib/python3.13/asyncio/base_events.py\", line 766, in __del__\n",
      "    self.close()\n",
      "  File \"/home/pjgonzalesp/miniforge3/envs/sunpy/lib/python3.13/asyncio/unix_events.py\", line 73, in close\n",
      "    self.remove_signal_handler(sig)\n",
      "  File \"/home/pjgonzalesp/miniforge3/envs/sunpy/lib/python3.13/asyncio/unix_events.py\", line 162, in remove_signal_handler\n",
      "    signal.signal(sig, handler)\n",
      "  File \"/home/pjgonzalesp/miniforge3/envs/sunpy/lib/python3.13/signal.py\", line 58, in signal\n",
      "    handler = _signal.signal(_enum_to_int(signalnum), _enum_to_int(handler))\n",
      "ValueError: signal only works in main thread of the main interpreter\n",
      "Files Downloaded: 100%|██████████| 1/1 [00:00<00:00,  1.25file/s]\n",
      "2025-10-24 15:11:42 - root - INFO: Searching for GOES flares between 2014-01-07 00:00:00 and 2014-01-08 00:00:00...\n"
     ]
    },
    {
     "name": "stdout",
     "output_type": "stream",
     "text": [
      "se calculó T y EM con el modelo de abundancias:photospheric\n",
      "4. CONSTRUIR df_full\n",
      "5. añadiendo observatorio: GOES: GOES-13\n",
      "se añadió observatorio: GOES: GOES-13\n",
      "6. Descargando flares: 2014-01-07 00:00:00 - 2014-01-08 00:00:00\n"
     ]
    },
    {
     "name": "stderr",
     "output_type": "stream",
     "text": [
      "2025-10-24 15:11:45 - root - INFO: Found 11 GOES solar flares between 2014-01-07 00:00:00 and 2014-01-08 00:00:00.\n",
      "Día 62 de 185: 2014-02-25\n"
     ]
    },
    {
     "name": "stdout",
     "output_type": "stream",
     "text": [
      "Se descargaron flares para el intervalo 2014-01-07 00:00:00 - 2014-01-08 00:00:00.\n",
      "7. Se filtraron solo flares de GOES.\n",
      "💾 df_full_2014_01.csv actualizado (1440 filas)\n",
      "✅ Días descargados este mes: [datetime.date(2014, 1, 7)]\n",
      "💾 df_flare_data_2014_01.csv actualizado (11 filas)\n",
      "🏁 Mes 2014_01 terminado → 2025-10-24_Download_for_specific_days/Data/Month_2014_01\n",
      "\n",
      "========================================\n",
      "🟦 Procesando mes 2014_02 (1 días)\n",
      "========================================\n",
      "1. Descargar datos GOES\n",
      "Buscando datos de: 2014-02-25 00:00:00\n",
      "Descargando datos de 2014-02-25 00:00:00...\n"
     ]
    },
    {
     "name": "stderr",
     "output_type": "stream",
     "text": [
      "Files Downloaded:   0%|          | 0/4 [00:00<?, ?file/s]\n",
      "\n",
      "\n",
      "\u001b[A\u001b[A\u001b[A\n",
      "\n",
      "\u001b[A\u001b[A\n",
      "\u001b[A\n",
      "\n",
      "\n",
      "\u001b[A\u001b[A\u001b[A\n",
      "\n",
      "\u001b[A\u001b[A\n",
      "\n",
      "\n",
      "\u001b[A\u001b[A\u001b[A\n",
      "Files Downloaded:  25%|██▌       | 1/4 [00:01<00:03,  1.25s/file]\n",
      "\n",
      "\u001b[A\u001b[A\n",
      "Files Downloaded: 100%|██████████| 4/4 [00:01<00:00,  3.13file/s]\n"
     ]
    },
    {
     "name": "stdout",
     "output_type": "stream",
     "text": [
      "Resolution = 1 minute\n",
      "Gráfica guardada en 2025-10-24_Download_for_specific_days/Data/Month_2014_02/data_graphs/GOES_2014-02-25_00-00-00.png\n",
      "Observatorio encontrado: GOES-13\n",
      "Se encontraron datos  GOES para 2014-02-25 00:00:00 - 2014-02-26 00:00:00. Día saltado.\n",
      "\n",
      "Número de registros: 1440\n",
      "Columnas disponibles: ['xrsa', 'xrsb', 'xrsa_quality', 'xrsb_quality']\n",
      "2. Restar Background\n",
      "Plot saved at: 2025-10-24_Download_for_specific_days/Data/Month_2014_02/data_graphs/GOES_diff_linear_2014-02-25_00-00-00.png\n",
      "Plot saved at: 2025-10-24_Download_for_specific_days/Data/Month_2014_02/data_graphs/GOES_diff_log_2014-02-25_00-00-00.png\n"
     ]
    },
    {
     "name": "stderr",
     "output_type": "stream",
     "text": [
      "/tmp/ipykernel_2397830/750897493.py:225: FutureWarning: Downcasting behavior in Series and DataFrame methods 'where', 'mask', and 'clip' is deprecated. In a future version this will not infer object dtypes or cast all-round floats to integers. Instead call result.infer_objects(copy=False) for object inference, or cast round floats explicitly. To opt-in to the future behavior, set `pd.set_option('future.no_silent_downcasting', True)`\n",
      "  df_o = df_o.clip(lower=1e-9)\n"
     ]
    },
    {
     "name": "stdout",
     "output_type": "stream",
     "text": [
      "Plot saved at: 2025-10-24_Download_for_specific_days/Data/Month_2014_02/data_graphs/GOES_diff_positive_2014-02-25_00-00-00.png\n",
      "3. USAR FUNCIÓN SUNPY calculate_t_em\n",
      "Ahora vamos a calcular la T y EM con el modelo de abundancias:coronal\n"
     ]
    },
    {
     "name": "stderr",
     "output_type": "stream",
     "text": [
      "Files Downloaded: 100%|██████████| 1/1 [00:00<00:00,  1.19file/s]\n",
      "/home/pjgonzalesp/miniforge3/envs/sunpy/lib/python3.13/site-packages/astropy/units/quantity.py:659: RuntimeWarning: invalid value encountered in divide\n",
      "  result = super().__array_ufunc__(function, method, *arrays, **kwargs)\n"
     ]
    },
    {
     "name": "stdout",
     "output_type": "stream",
     "text": [
      "se calculó T y EM con el modelo de abundancias:coronal\n",
      "Ahora vamos a calcular la T y EM con el modelo de abundancias:photospheric\n"
     ]
    },
    {
     "name": "stderr",
     "output_type": "stream",
     "text": [
      "Files Downloaded: 100%|██████████| 1/1 [00:00<00:00,  1.24file/s]\n",
      "2025-10-24 15:12:00 - root - INFO: Searching for GOES flares between 2014-02-25 00:00:00 and 2014-02-26 00:00:00...\n"
     ]
    },
    {
     "name": "stdout",
     "output_type": "stream",
     "text": [
      "se calculó T y EM con el modelo de abundancias:photospheric\n",
      "4. CONSTRUIR df_full\n",
      "5. añadiendo observatorio: GOES: GOES-13\n",
      "se añadió observatorio: GOES: GOES-13\n",
      "6. Descargando flares: 2014-02-25 00:00:00 - 2014-02-26 00:00:00\n"
     ]
    },
    {
     "name": "stderr",
     "output_type": "stream",
     "text": [
      "2025-10-24 15:12:02 - root - INFO: Found 5 GOES solar flares between 2014-02-25 00:00:00 and 2014-02-26 00:00:00.\n",
      "Día 63 de 185: 2014-03-29\n"
     ]
    },
    {
     "name": "stdout",
     "output_type": "stream",
     "text": [
      "Se descargaron flares para el intervalo 2014-02-25 00:00:00 - 2014-02-26 00:00:00.\n",
      "7. Se filtraron solo flares de GOES.\n",
      "💾 df_full_2014_02.csv actualizado (1440 filas)\n",
      "✅ Días descargados este mes: [datetime.date(2014, 2, 25)]\n",
      "💾 df_flare_data_2014_02.csv actualizado (5 filas)\n",
      "🏁 Mes 2014_02 terminado → 2025-10-24_Download_for_specific_days/Data/Month_2014_02\n",
      "\n",
      "========================================\n",
      "🟦 Procesando mes 2014_03 (1 días)\n",
      "========================================\n",
      "1. Descargar datos GOES\n",
      "Buscando datos de: 2014-03-29 00:00:00\n",
      "Descargando datos de 2014-03-29 00:00:00...\n"
     ]
    },
    {
     "name": "stderr",
     "output_type": "stream",
     "text": [
      "Files Downloaded:   0%|          | 0/4 [00:00<?, ?file/s]\n",
      "\n",
      "\u001b[A\u001b[A\n",
      "\n",
      "\n",
      "\u001b[A\u001b[A\u001b[A\n",
      "\u001b[A\n",
      "\n",
      "\n",
      "\u001b[A\u001b[A\u001b[A\n",
      "\u001b[A\n",
      "\n",
      "Files Downloaded:  25%|██▌       | 1/4 [00:01<00:03,  1.26s/file]\n",
      "\n",
      "\u001b[A\u001b[A\n",
      "\n",
      "\n",
      "\u001b[A\u001b[A\u001b[A\n",
      "Files Downloaded: 100%|██████████| 4/4 [00:01<00:00,  3.06file/s]\n"
     ]
    },
    {
     "name": "stdout",
     "output_type": "stream",
     "text": [
      "Resolution = 1 minute\n",
      "Gráfica guardada en 2025-10-24_Download_for_specific_days/Data/Month_2014_03/data_graphs/GOES_2014-03-29_00-00-00.png\n",
      "Observatorio encontrado: GOES-13\n",
      "Se encontraron datos  GOES para 2014-03-29 00:00:00 - 2014-03-30 00:00:00. Día saltado.\n",
      "\n",
      "Número de registros: 1440\n",
      "Columnas disponibles: ['xrsa', 'xrsb', 'xrsa_quality', 'xrsb_quality']\n",
      "2. Restar Background\n",
      "Plot saved at: 2025-10-24_Download_for_specific_days/Data/Month_2014_03/data_graphs/GOES_diff_linear_2014-03-29_00-00-00.png\n",
      "Plot saved at: 2025-10-24_Download_for_specific_days/Data/Month_2014_03/data_graphs/GOES_diff_log_2014-03-29_00-00-00.png\n"
     ]
    },
    {
     "name": "stderr",
     "output_type": "stream",
     "text": [
      "/tmp/ipykernel_2397830/750897493.py:225: FutureWarning: Downcasting behavior in Series and DataFrame methods 'where', 'mask', and 'clip' is deprecated. In a future version this will not infer object dtypes or cast all-round floats to integers. Instead call result.infer_objects(copy=False) for object inference, or cast round floats explicitly. To opt-in to the future behavior, set `pd.set_option('future.no_silent_downcasting', True)`\n",
      "  df_o = df_o.clip(lower=1e-9)\n"
     ]
    },
    {
     "name": "stdout",
     "output_type": "stream",
     "text": [
      "Plot saved at: 2025-10-24_Download_for_specific_days/Data/Month_2014_03/data_graphs/GOES_diff_positive_2014-03-29_00-00-00.png\n",
      "3. USAR FUNCIÓN SUNPY calculate_t_em\n",
      "Ahora vamos a calcular la T y EM con el modelo de abundancias:coronal\n"
     ]
    },
    {
     "name": "stderr",
     "output_type": "stream",
     "text": [
      "Files Downloaded: 100%|██████████| 1/1 [00:01<00:00,  1.20s/file]\n",
      "/home/pjgonzalesp/miniforge3/envs/sunpy/lib/python3.13/site-packages/astropy/units/quantity.py:659: RuntimeWarning: divide by zero encountered in divide\n",
      "  result = super().__array_ufunc__(function, method, *arrays, **kwargs)\n",
      "/home/pjgonzalesp/miniforge3/envs/sunpy/lib/python3.13/site-packages/astropy/units/quantity.py:659: RuntimeWarning: invalid value encountered in divide\n",
      "  result = super().__array_ufunc__(function, method, *arrays, **kwargs)\n"
     ]
    },
    {
     "name": "stdout",
     "output_type": "stream",
     "text": [
      "se calculó T y EM con el modelo de abundancias:coronal\n",
      "Ahora vamos a calcular la T y EM con el modelo de abundancias:photospheric\n"
     ]
    },
    {
     "name": "stderr",
     "output_type": "stream",
     "text": [
      "Files Downloaded:   0%|          | 0/1 [00:00<?, ?file/s]Exception ignored in: <function BaseEventLoop.__del__ at 0x7f20fad47420>\n",
      "Traceback (most recent call last):\n",
      "  File \"/home/pjgonzalesp/miniforge3/envs/sunpy/lib/python3.13/asyncio/base_events.py\", line 766, in __del__\n",
      "    self.close()\n",
      "  File \"/home/pjgonzalesp/miniforge3/envs/sunpy/lib/python3.13/asyncio/unix_events.py\", line 73, in close\n",
      "    self.remove_signal_handler(sig)\n",
      "  File \"/home/pjgonzalesp/miniforge3/envs/sunpy/lib/python3.13/asyncio/unix_events.py\", line 162, in remove_signal_handler\n",
      "    signal.signal(sig, handler)\n",
      "  File \"/home/pjgonzalesp/miniforge3/envs/sunpy/lib/python3.13/signal.py\", line 58, in signal\n",
      "    handler = _signal.signal(_enum_to_int(signalnum), _enum_to_int(handler))\n",
      "ValueError: signal only works in main thread of the main interpreter\n",
      "Files Downloaded: 100%|██████████| 1/1 [00:00<00:00,  1.11file/s]\n",
      "2025-10-24 15:12:18 - root - INFO: Searching for GOES flares between 2014-03-29 00:00:00 and 2014-03-30 00:00:00...\n"
     ]
    },
    {
     "name": "stdout",
     "output_type": "stream",
     "text": [
      "se calculó T y EM con el modelo de abundancias:photospheric\n",
      "4. CONSTRUIR df_full\n",
      "5. añadiendo observatorio: GOES: GOES-13\n",
      "se añadió observatorio: GOES: GOES-13\n",
      "6. Descargando flares: 2014-03-29 00:00:00 - 2014-03-30 00:00:00\n"
     ]
    },
    {
     "name": "stderr",
     "output_type": "stream",
     "text": [
      "2025-10-24 15:12:21 - root - INFO: Found 15 GOES solar flares between 2014-03-29 00:00:00 and 2014-03-30 00:00:00.\n",
      "Día 64 de 185: 2014-04-25\n"
     ]
    },
    {
     "name": "stdout",
     "output_type": "stream",
     "text": [
      "Se descargaron flares para el intervalo 2014-03-29 00:00:00 - 2014-03-30 00:00:00.\n",
      "7. Se filtraron solo flares de GOES.\n",
      "💾 df_full_2014_03.csv actualizado (1440 filas)\n",
      "✅ Días descargados este mes: [datetime.date(2014, 3, 29)]\n",
      "💾 df_flare_data_2014_03.csv actualizado (15 filas)\n",
      "🏁 Mes 2014_03 terminado → 2025-10-24_Download_for_specific_days/Data/Month_2014_03\n",
      "\n",
      "========================================\n",
      "🟦 Procesando mes 2014_04 (1 días)\n",
      "========================================\n",
      "1. Descargar datos GOES\n",
      "Buscando datos de: 2014-04-25 00:00:00\n",
      "Descargando datos de 2014-04-25 00:00:00...\n"
     ]
    },
    {
     "name": "stderr",
     "output_type": "stream",
     "text": [
      "Files Downloaded:   0%|          | 0/4 [00:00<?, ?file/s]\n",
      "\n",
      "\n",
      "\u001b[A\u001b[A\u001b[A\n",
      "\n",
      "\u001b[A\u001b[A\n",
      "\u001b[A\n",
      "\n",
      "\n",
      "\u001b[A\u001b[A\u001b[A\n",
      "\n",
      "\u001b[A\u001b[A\n",
      "\n",
      "\n",
      "Files Downloaded:  25%|██▌       | 1/4 [00:01<00:03,  1.23s/file]\n",
      "\u001b[A\n",
      "\n",
      "\u001b[A\u001b[A\n",
      "Files Downloaded: 100%|██████████| 4/4 [00:01<00:00,  3.13file/s]\n"
     ]
    },
    {
     "name": "stdout",
     "output_type": "stream",
     "text": [
      "Resolution = 1 minute\n",
      "Gráfica guardada en 2025-10-24_Download_for_specific_days/Data/Month_2014_04/data_graphs/GOES_2014-04-25_00-00-00.png\n",
      "Observatorio encontrado: GOES-13\n",
      "Se encontraron datos  GOES para 2014-04-25 00:00:00 - 2014-04-26 00:00:00. Día saltado.\n",
      "\n",
      "Número de registros: 1440\n",
      "Columnas disponibles: ['xrsa', 'xrsb', 'xrsa_quality', 'xrsb_quality']\n",
      "2. Restar Background\n",
      "Plot saved at: 2025-10-24_Download_for_specific_days/Data/Month_2014_04/data_graphs/GOES_diff_linear_2014-04-25_00-00-00.png\n",
      "Plot saved at: 2025-10-24_Download_for_specific_days/Data/Month_2014_04/data_graphs/GOES_diff_log_2014-04-25_00-00-00.png\n"
     ]
    },
    {
     "name": "stderr",
     "output_type": "stream",
     "text": [
      "/tmp/ipykernel_2397830/750897493.py:225: FutureWarning: Downcasting behavior in Series and DataFrame methods 'where', 'mask', and 'clip' is deprecated. In a future version this will not infer object dtypes or cast all-round floats to integers. Instead call result.infer_objects(copy=False) for object inference, or cast round floats explicitly. To opt-in to the future behavior, set `pd.set_option('future.no_silent_downcasting', True)`\n",
      "  df_o = df_o.clip(lower=1e-9)\n"
     ]
    },
    {
     "name": "stdout",
     "output_type": "stream",
     "text": [
      "Plot saved at: 2025-10-24_Download_for_specific_days/Data/Month_2014_04/data_graphs/GOES_diff_positive_2014-04-25_00-00-00.png\n",
      "3. USAR FUNCIÓN SUNPY calculate_t_em\n",
      "Ahora vamos a calcular la T y EM con el modelo de abundancias:coronal\n"
     ]
    },
    {
     "name": "stderr",
     "output_type": "stream",
     "text": [
      "Files Downloaded: 100%|██████████| 1/1 [00:00<00:00,  1.24file/s]\n",
      "/home/pjgonzalesp/miniforge3/envs/sunpy/lib/python3.13/site-packages/astropy/units/quantity.py:659: RuntimeWarning: divide by zero encountered in divide\n",
      "  result = super().__array_ufunc__(function, method, *arrays, **kwargs)\n",
      "/home/pjgonzalesp/miniforge3/envs/sunpy/lib/python3.13/site-packages/astropy/units/quantity.py:659: RuntimeWarning: invalid value encountered in divide\n",
      "  result = super().__array_ufunc__(function, method, *arrays, **kwargs)\n"
     ]
    },
    {
     "name": "stdout",
     "output_type": "stream",
     "text": [
      "se calculó T y EM con el modelo de abundancias:coronal\n",
      "Ahora vamos a calcular la T y EM con el modelo de abundancias:photospheric\n"
     ]
    },
    {
     "name": "stderr",
     "output_type": "stream",
     "text": [
      "Files Downloaded: 100%|██████████| 1/1 [00:01<00:00,  1.02s/file]\n",
      "2025-10-24 15:12:36 - root - INFO: Searching for GOES flares between 2014-04-25 00:00:00 and 2014-04-26 00:00:00...\n"
     ]
    },
    {
     "name": "stdout",
     "output_type": "stream",
     "text": [
      "se calculó T y EM con el modelo de abundancias:photospheric\n",
      "4. CONSTRUIR df_full\n",
      "5. añadiendo observatorio: GOES: GOES-13\n",
      "se añadió observatorio: GOES: GOES-13\n",
      "6. Descargando flares: 2014-04-25 00:00:00 - 2014-04-26 00:00:00\n"
     ]
    },
    {
     "name": "stderr",
     "output_type": "stream",
     "text": [
      "2025-10-24 15:12:38 - root - INFO: Found 5 GOES solar flares between 2014-04-25 00:00:00 and 2014-04-26 00:00:00.\n",
      "Día 65 de 185: 2014-06-10\n"
     ]
    },
    {
     "name": "stdout",
     "output_type": "stream",
     "text": [
      "Se descargaron flares para el intervalo 2014-04-25 00:00:00 - 2014-04-26 00:00:00.\n",
      "7. Se filtraron solo flares de GOES.\n",
      "💾 df_full_2014_04.csv actualizado (1440 filas)\n",
      "✅ Días descargados este mes: [datetime.date(2014, 4, 25)]\n",
      "💾 df_flare_data_2014_04.csv actualizado (5 filas)\n",
      "🏁 Mes 2014_04 terminado → 2025-10-24_Download_for_specific_days/Data/Month_2014_04\n",
      "\n",
      "========================================\n",
      "🟦 Procesando mes 2014_06 (2 días)\n",
      "========================================\n",
      "1. Descargar datos GOES\n",
      "Buscando datos de: 2014-06-10 00:00:00\n",
      "Descargando datos de 2014-06-10 00:00:00...\n"
     ]
    },
    {
     "name": "stderr",
     "output_type": "stream",
     "text": [
      "Files Downloaded: 100%|██████████| 2/2 [00:01<00:00,  1.59file/s]\n"
     ]
    },
    {
     "name": "stdout",
     "output_type": "stream",
     "text": [
      "Resolution = 1 minute\n",
      "Gráfica guardada en 2025-10-24_Download_for_specific_days/Data/Month_2014_06/data_graphs/GOES_2014-06-10_00-00-00.png\n",
      "Observatorio encontrado: GOES-15\n",
      "Se encontraron datos  GOES para 2014-06-10 00:00:00 - 2014-06-11 00:00:00. Día saltado.\n",
      "\n",
      "Número de registros: 1440\n",
      "Columnas disponibles: ['xrsa', 'xrsb', 'xrsa_quality', 'xrsb_quality']\n",
      "2. Restar Background\n",
      "Plot saved at: 2025-10-24_Download_for_specific_days/Data/Month_2014_06/data_graphs/GOES_diff_linear_2014-06-10_00-00-00.png\n",
      "Plot saved at: 2025-10-24_Download_for_specific_days/Data/Month_2014_06/data_graphs/GOES_diff_log_2014-06-10_00-00-00.png\n"
     ]
    },
    {
     "name": "stderr",
     "output_type": "stream",
     "text": [
      "/tmp/ipykernel_2397830/750897493.py:225: FutureWarning: Downcasting behavior in Series and DataFrame methods 'where', 'mask', and 'clip' is deprecated. In a future version this will not infer object dtypes or cast all-round floats to integers. Instead call result.infer_objects(copy=False) for object inference, or cast round floats explicitly. To opt-in to the future behavior, set `pd.set_option('future.no_silent_downcasting', True)`\n",
      "  df_o = df_o.clip(lower=1e-9)\n"
     ]
    },
    {
     "name": "stdout",
     "output_type": "stream",
     "text": [
      "Plot saved at: 2025-10-24_Download_for_specific_days/Data/Month_2014_06/data_graphs/GOES_diff_positive_2014-06-10_00-00-00.png\n",
      "3. USAR FUNCIÓN SUNPY calculate_t_em\n",
      "Ahora vamos a calcular la T y EM con el modelo de abundancias:coronal\n"
     ]
    },
    {
     "name": "stderr",
     "output_type": "stream",
     "text": [
      "Files Downloaded: 100%|██████████| 1/1 [00:00<00:00,  1.18file/s]\n",
      "/home/pjgonzalesp/miniforge3/envs/sunpy/lib/python3.13/site-packages/astropy/units/quantity.py:659: RuntimeWarning: invalid value encountered in divide\n",
      "  result = super().__array_ufunc__(function, method, *arrays, **kwargs)\n"
     ]
    },
    {
     "name": "stdout",
     "output_type": "stream",
     "text": [
      "se calculó T y EM con el modelo de abundancias:coronal\n",
      "Ahora vamos a calcular la T y EM con el modelo de abundancias:photospheric\n"
     ]
    },
    {
     "name": "stderr",
     "output_type": "stream",
     "text": [
      "Files Downloaded: 100%|██████████| 1/1 [00:01<00:00,  1.58s/file]\n",
      "2025-10-24 15:12:56 - root - INFO: Searching for GOES flares between 2014-06-10 00:00:00 and 2014-06-11 00:00:00...\n"
     ]
    },
    {
     "name": "stdout",
     "output_type": "stream",
     "text": [
      "se calculó T y EM con el modelo de abundancias:photospheric\n",
      "4. CONSTRUIR df_full\n",
      "5. añadiendo observatorio: GOES: GOES-15\n",
      "se añadió observatorio: GOES: GOES-15\n",
      "6. Descargando flares: 2014-06-10 00:00:00 - 2014-06-11 00:00:00\n"
     ]
    },
    {
     "name": "stderr",
     "output_type": "stream",
     "text": [
      "2025-10-24 15:12:58 - root - INFO: Found 8 GOES solar flares between 2014-06-10 00:00:00 and 2014-06-11 00:00:00.\n",
      "Día 66 de 185: 2014-06-11\n"
     ]
    },
    {
     "name": "stdout",
     "output_type": "stream",
     "text": [
      "Se descargaron flares para el intervalo 2014-06-10 00:00:00 - 2014-06-11 00:00:00.\n",
      "7. Se filtraron solo flares de GOES.\n",
      "1. Descargar datos GOES\n",
      "Buscando datos de: 2014-06-11 00:00:00\n",
      "Descargando datos de 2014-06-11 00:00:00...\n"
     ]
    },
    {
     "name": "stderr",
     "output_type": "stream",
     "text": [
      "Files Downloaded:  50%|█████     | 1/2 [00:00<00:00,  1.73file/s]\n",
      "\u001b[A\n",
      "\u001b[A\n",
      "Files Downloaded: 100%|██████████| 2/2 [00:01<00:00,  1.58file/s]\n"
     ]
    },
    {
     "name": "stdout",
     "output_type": "stream",
     "text": [
      "Resolution = 1 minute\n",
      "Gráfica guardada en 2025-10-24_Download_for_specific_days/Data/Month_2014_06/data_graphs/GOES_2014-06-11_00-00-00.png\n",
      "Observatorio encontrado: GOES-15\n",
      "Se encontraron datos  GOES para 2014-06-11 00:00:00 - 2014-06-12 00:00:00. Día saltado.\n",
      "\n",
      "Número de registros: 1440\n",
      "Columnas disponibles: ['xrsa', 'xrsb', 'xrsa_quality', 'xrsb_quality']\n",
      "2. Restar Background\n",
      "Plot saved at: 2025-10-24_Download_for_specific_days/Data/Month_2014_06/data_graphs/GOES_diff_linear_2014-06-11_00-00-00.png\n",
      "Plot saved at: 2025-10-24_Download_for_specific_days/Data/Month_2014_06/data_graphs/GOES_diff_log_2014-06-11_00-00-00.png\n"
     ]
    },
    {
     "name": "stderr",
     "output_type": "stream",
     "text": [
      "/tmp/ipykernel_2397830/750897493.py:225: FutureWarning: Downcasting behavior in Series and DataFrame methods 'where', 'mask', and 'clip' is deprecated. In a future version this will not infer object dtypes or cast all-round floats to integers. Instead call result.infer_objects(copy=False) for object inference, or cast round floats explicitly. To opt-in to the future behavior, set `pd.set_option('future.no_silent_downcasting', True)`\n",
      "  df_o = df_o.clip(lower=1e-9)\n"
     ]
    },
    {
     "name": "stdout",
     "output_type": "stream",
     "text": [
      "Plot saved at: 2025-10-24_Download_for_specific_days/Data/Month_2014_06/data_graphs/GOES_diff_positive_2014-06-11_00-00-00.png\n",
      "3. USAR FUNCIÓN SUNPY calculate_t_em\n",
      "Ahora vamos a calcular la T y EM con el modelo de abundancias:coronal\n"
     ]
    },
    {
     "name": "stderr",
     "output_type": "stream",
     "text": [
      "Files Downloaded: 100%|██████████| 1/1 [00:00<00:00,  1.22file/s]\n",
      "/home/pjgonzalesp/miniforge3/envs/sunpy/lib/python3.13/site-packages/astropy/units/quantity.py:659: RuntimeWarning: invalid value encountered in divide\n",
      "  result = super().__array_ufunc__(function, method, *arrays, **kwargs)\n"
     ]
    },
    {
     "name": "stdout",
     "output_type": "stream",
     "text": [
      "se calculó T y EM con el modelo de abundancias:coronal\n",
      "Ahora vamos a calcular la T y EM con el modelo de abundancias:photospheric\n"
     ]
    },
    {
     "name": "stderr",
     "output_type": "stream",
     "text": [
      "Files Downloaded:   0%|          | 0/1 [00:00<?, ?file/s]Exception ignored in: <function BaseEventLoop.__del__ at 0x7f20fad47420>\n",
      "Traceback (most recent call last):\n",
      "  File \"/home/pjgonzalesp/miniforge3/envs/sunpy/lib/python3.13/asyncio/base_events.py\", line 766, in __del__\n",
      "    self.close()\n",
      "  File \"/home/pjgonzalesp/miniforge3/envs/sunpy/lib/python3.13/asyncio/unix_events.py\", line 73, in close\n",
      "    self.remove_signal_handler(sig)\n",
      "  File \"/home/pjgonzalesp/miniforge3/envs/sunpy/lib/python3.13/asyncio/unix_events.py\", line 162, in remove_signal_handler\n",
      "    signal.signal(sig, handler)\n",
      "  File \"/home/pjgonzalesp/miniforge3/envs/sunpy/lib/python3.13/signal.py\", line 58, in signal\n",
      "    handler = _signal.signal(_enum_to_int(signalnum), _enum_to_int(handler))\n",
      "ValueError: signal only works in main thread of the main interpreter\n",
      "Files Downloaded: 100%|██████████| 1/1 [00:00<00:00,  1.10file/s]\n",
      "2025-10-24 15:13:13 - root - INFO: Searching for GOES flares between 2014-06-11 00:00:00 and 2014-06-12 00:00:00...\n"
     ]
    },
    {
     "name": "stdout",
     "output_type": "stream",
     "text": [
      "se calculó T y EM con el modelo de abundancias:photospheric\n",
      "4. CONSTRUIR df_full\n",
      "5. añadiendo observatorio: GOES: GOES-15\n",
      "se añadió observatorio: GOES: GOES-15\n",
      "6. Descargando flares: 2014-06-11 00:00:00 - 2014-06-12 00:00:00\n"
     ]
    },
    {
     "name": "stderr",
     "output_type": "stream",
     "text": [
      "2025-10-24 15:13:16 - root - INFO: Found 15 GOES solar flares between 2014-06-11 00:00:00 and 2014-06-12 00:00:00.\n",
      "Día 67 de 185: 2014-09-10\n"
     ]
    },
    {
     "name": "stdout",
     "output_type": "stream",
     "text": [
      "Se descargaron flares para el intervalo 2014-06-11 00:00:00 - 2014-06-12 00:00:00.\n",
      "7. Se filtraron solo flares de GOES.\n",
      "💾 df_full_2014_06.csv actualizado (2880 filas)\n",
      "✅ Días descargados este mes: [datetime.date(2014, 6, 10), datetime.date(2014, 6, 11)]\n",
      "💾 df_flare_data_2014_06.csv actualizado (23 filas)\n",
      "🏁 Mes 2014_06 terminado → 2025-10-24_Download_for_specific_days/Data/Month_2014_06\n",
      "\n",
      "========================================\n",
      "🟦 Procesando mes 2014_09 (1 días)\n",
      "========================================\n",
      "1. Descargar datos GOES\n",
      "Buscando datos de: 2014-09-10 00:00:00\n",
      "Descargando datos de 2014-09-10 00:00:00...\n"
     ]
    },
    {
     "name": "stderr",
     "output_type": "stream",
     "text": [
      "Files Downloaded:   0%|          | 0/4 [00:00<?, ?file/s]\n",
      "\n",
      "\n",
      "\u001b[A\u001b[A\u001b[A\n",
      "\n",
      "\u001b[A\u001b[A\n",
      "\u001b[A\n",
      "\n",
      "\n",
      "\u001b[A\u001b[A\u001b[A\n",
      "\u001b[A\n",
      "\n",
      "\u001b[A\u001b[A\n",
      "\n",
      "\n",
      "\u001b[A\u001b[A\u001b[A\n",
      "\n",
      "\u001b[A\u001b[A\n",
      "\n",
      "Files Downloaded:  25%|██▌       | 1/4 [00:01<00:04,  1.43s/file]\n",
      "\u001b[A\n",
      "\u001b[A\n",
      "\n",
      "\n",
      "Files Downloaded: 100%|██████████| 4/4 [00:01<00:00,  2.61file/s]\n"
     ]
    },
    {
     "name": "stdout",
     "output_type": "stream",
     "text": [
      "Resolution = 1 minute\n",
      "Gráfica guardada en 2025-10-24_Download_for_specific_days/Data/Month_2014_09/data_graphs/GOES_2014-09-10_00-00-00.png\n",
      "Observatorio encontrado: GOES-13\n",
      "Se encontraron datos  GOES para 2014-09-10 00:00:00 - 2014-09-11 00:00:00. Día saltado.\n",
      "\n",
      "Número de registros: 1440\n",
      "Columnas disponibles: ['xrsa', 'xrsb', 'xrsa_quality', 'xrsb_quality']\n",
      "2. Restar Background\n",
      "Plot saved at: 2025-10-24_Download_for_specific_days/Data/Month_2014_09/data_graphs/GOES_diff_linear_2014-09-10_00-00-00.png\n",
      "Plot saved at: 2025-10-24_Download_for_specific_days/Data/Month_2014_09/data_graphs/GOES_diff_log_2014-09-10_00-00-00.png\n"
     ]
    },
    {
     "name": "stderr",
     "output_type": "stream",
     "text": [
      "/tmp/ipykernel_2397830/750897493.py:225: FutureWarning: Downcasting behavior in Series and DataFrame methods 'where', 'mask', and 'clip' is deprecated. In a future version this will not infer object dtypes or cast all-round floats to integers. Instead call result.infer_objects(copy=False) for object inference, or cast round floats explicitly. To opt-in to the future behavior, set `pd.set_option('future.no_silent_downcasting', True)`\n",
      "  df_o = df_o.clip(lower=1e-9)\n"
     ]
    },
    {
     "name": "stdout",
     "output_type": "stream",
     "text": [
      "Plot saved at: 2025-10-24_Download_for_specific_days/Data/Month_2014_09/data_graphs/GOES_diff_positive_2014-09-10_00-00-00.png\n",
      "3. USAR FUNCIÓN SUNPY calculate_t_em\n",
      "Ahora vamos a calcular la T y EM con el modelo de abundancias:coronal\n"
     ]
    },
    {
     "name": "stderr",
     "output_type": "stream",
     "text": [
      "Files Downloaded: 100%|██████████| 1/1 [00:00<00:00,  1.17file/s]\n",
      "/home/pjgonzalesp/miniforge3/envs/sunpy/lib/python3.13/site-packages/astropy/units/quantity.py:659: RuntimeWarning: divide by zero encountered in divide\n",
      "  result = super().__array_ufunc__(function, method, *arrays, **kwargs)\n",
      "/home/pjgonzalesp/miniforge3/envs/sunpy/lib/python3.13/site-packages/astropy/units/quantity.py:659: RuntimeWarning: invalid value encountered in divide\n",
      "  result = super().__array_ufunc__(function, method, *arrays, **kwargs)\n"
     ]
    },
    {
     "name": "stdout",
     "output_type": "stream",
     "text": [
      "se calculó T y EM con el modelo de abundancias:coronal\n",
      "Ahora vamos a calcular la T y EM con el modelo de abundancias:photospheric\n"
     ]
    },
    {
     "name": "stderr",
     "output_type": "stream",
     "text": [
      "Files Downloaded: 100%|██████████| 1/1 [00:02<00:00,  2.41s/file]\n",
      "2025-10-24 15:13:34 - root - INFO: Searching for GOES flares between 2014-09-10 00:00:00 and 2014-09-11 00:00:00...\n"
     ]
    },
    {
     "name": "stdout",
     "output_type": "stream",
     "text": [
      "se calculó T y EM con el modelo de abundancias:photospheric\n",
      "4. CONSTRUIR df_full\n",
      "5. añadiendo observatorio: GOES: GOES-13\n",
      "se añadió observatorio: GOES: GOES-13\n",
      "6. Descargando flares: 2014-09-10 00:00:00 - 2014-09-11 00:00:00\n"
     ]
    },
    {
     "name": "stderr",
     "output_type": "stream",
     "text": [
      "2025-10-24 15:13:36 - root - INFO: Found 2 GOES solar flares between 2014-09-10 00:00:00 and 2014-09-11 00:00:00.\n",
      "Día 68 de 185: 2014-10-19\n"
     ]
    },
    {
     "name": "stdout",
     "output_type": "stream",
     "text": [
      "Se descargaron flares para el intervalo 2014-09-10 00:00:00 - 2014-09-11 00:00:00.\n",
      "7. Se filtraron solo flares de GOES.\n",
      "💾 df_full_2014_09.csv actualizado (1440 filas)\n",
      "✅ Días descargados este mes: [datetime.date(2014, 9, 10)]\n",
      "💾 df_flare_data_2014_09.csv actualizado (2 filas)\n",
      "🏁 Mes 2014_09 terminado → 2025-10-24_Download_for_specific_days/Data/Month_2014_09\n",
      "\n",
      "========================================\n",
      "🟦 Procesando mes 2014_10 (6 días)\n",
      "========================================\n",
      "1. Descargar datos GOES\n",
      "Buscando datos de: 2014-10-19 00:00:00\n",
      "Descargando datos de 2014-10-19 00:00:00...\n"
     ]
    },
    {
     "name": "stderr",
     "output_type": "stream",
     "text": [
      "Files Downloaded:   0%|          | 0/4 [00:00<?, ?file/s]\n",
      "\n",
      "\u001b[A\u001b[A\n",
      "\u001b[A\n",
      "\n",
      "\n",
      "\u001b[A\u001b[A\u001b[A\n",
      "\n",
      "\u001b[A\u001b[A\n",
      "\n",
      "\n",
      "\u001b[A\u001b[A\u001b[A\n",
      "\n",
      "Files Downloaded:  25%|██▌       | 1/4 [00:01<00:03,  1.24s/file]\n",
      "\u001b[A\n",
      "\u001b[A\n",
      "\n",
      "\n",
      "Files Downloaded:  75%|███████▌  | 3/4 [00:01<00:00,  2.63file/s]\n",
      "\n",
      "\n",
      "Files Downloaded: 100%|██████████| 4/4 [00:01<00:00,  2.80file/s]\n"
     ]
    },
    {
     "name": "stdout",
     "output_type": "stream",
     "text": [
      "Resolution = 1 minute\n",
      "Gráfica guardada en 2025-10-24_Download_for_specific_days/Data/Month_2014_10/data_graphs/GOES_2014-10-19_00-00-00.png\n",
      "Observatorio encontrado: GOES-13\n",
      "Se encontraron datos  GOES para 2014-10-19 00:00:00 - 2014-10-20 00:00:00. Día saltado.\n",
      "\n",
      "Número de registros: 1440\n",
      "Columnas disponibles: ['xrsa', 'xrsb', 'xrsa_quality', 'xrsb_quality']\n",
      "2. Restar Background\n",
      "Plot saved at: 2025-10-24_Download_for_specific_days/Data/Month_2014_10/data_graphs/GOES_diff_linear_2014-10-19_00-00-00.png\n",
      "Plot saved at: 2025-10-24_Download_for_specific_days/Data/Month_2014_10/data_graphs/GOES_diff_log_2014-10-19_00-00-00.png\n"
     ]
    },
    {
     "name": "stderr",
     "output_type": "stream",
     "text": [
      "/tmp/ipykernel_2397830/750897493.py:225: FutureWarning: Downcasting behavior in Series and DataFrame methods 'where', 'mask', and 'clip' is deprecated. In a future version this will not infer object dtypes or cast all-round floats to integers. Instead call result.infer_objects(copy=False) for object inference, or cast round floats explicitly. To opt-in to the future behavior, set `pd.set_option('future.no_silent_downcasting', True)`\n",
      "  df_o = df_o.clip(lower=1e-9)\n"
     ]
    },
    {
     "name": "stdout",
     "output_type": "stream",
     "text": [
      "Plot saved at: 2025-10-24_Download_for_specific_days/Data/Month_2014_10/data_graphs/GOES_diff_positive_2014-10-19_00-00-00.png\n",
      "3. USAR FUNCIÓN SUNPY calculate_t_em\n",
      "Ahora vamos a calcular la T y EM con el modelo de abundancias:coronal\n"
     ]
    },
    {
     "name": "stderr",
     "output_type": "stream",
     "text": [
      "Files Downloaded: 100%|██████████| 1/1 [00:02<00:00,  2.15s/file]\n",
      "/home/pjgonzalesp/miniforge3/envs/sunpy/lib/python3.13/site-packages/astropy/units/quantity.py:659: RuntimeWarning: invalid value encountered in divide\n",
      "  result = super().__array_ufunc__(function, method, *arrays, **kwargs)\n"
     ]
    },
    {
     "name": "stdout",
     "output_type": "stream",
     "text": [
      "se calculó T y EM con el modelo de abundancias:coronal\n",
      "Ahora vamos a calcular la T y EM con el modelo de abundancias:photospheric\n"
     ]
    },
    {
     "name": "stderr",
     "output_type": "stream",
     "text": [
      "Files Downloaded: 100%|██████████| 1/1 [00:00<00:00,  1.24file/s]\n",
      "2025-10-24 15:13:53 - root - INFO: Searching for GOES flares between 2014-10-19 00:00:00 and 2014-10-20 00:00:00...\n"
     ]
    },
    {
     "name": "stdout",
     "output_type": "stream",
     "text": [
      "se calculó T y EM con el modelo de abundancias:photospheric\n",
      "4. CONSTRUIR df_full\n",
      "5. añadiendo observatorio: GOES: GOES-13\n",
      "se añadió observatorio: GOES: GOES-13\n",
      "6. Descargando flares: 2014-10-19 00:00:00 - 2014-10-20 00:00:00\n"
     ]
    },
    {
     "name": "stderr",
     "output_type": "stream",
     "text": [
      "2025-10-24 15:13:55 - root - INFO: Found 8 GOES solar flares between 2014-10-19 00:00:00 and 2014-10-20 00:00:00.\n",
      "Día 69 de 185: 2014-10-22\n"
     ]
    },
    {
     "name": "stdout",
     "output_type": "stream",
     "text": [
      "Se descargaron flares para el intervalo 2014-10-19 00:00:00 - 2014-10-20 00:00:00.\n",
      "7. Se filtraron solo flares de GOES.\n",
      "1. Descargar datos GOES\n",
      "Buscando datos de: 2014-10-22 00:00:00\n",
      "Descargando datos de 2014-10-22 00:00:00...\n"
     ]
    },
    {
     "name": "stderr",
     "output_type": "stream",
     "text": [
      "Files Downloaded:   0%|          | 0/4 [00:00<?, ?file/s]\n",
      "\n",
      "\u001b[A\u001b[A\n",
      "\u001b[A\n",
      "\n",
      "\n",
      "\u001b[A\u001b[A\u001b[A\n",
      "\u001b[A\n",
      "\n",
      "\u001b[A\u001b[A\n",
      "\n",
      "\n",
      "\u001b[A\u001b[A\u001b[A\n",
      "\n",
      "Files Downloaded:  25%|██▌       | 1/4 [00:01<00:03,  1.25s/file]\n",
      "\n",
      "\n",
      "Files Downloaded:  75%|███████▌  | 3/4 [00:01<00:00,  2.32file/s]\n",
      "\u001b[A\n",
      "Files Downloaded: 100%|██████████| 4/4 [00:01<00:00,  2.58file/s]\n"
     ]
    },
    {
     "name": "stdout",
     "output_type": "stream",
     "text": [
      "Resolution = 1 minute\n",
      "Gráfica guardada en 2025-10-24_Download_for_specific_days/Data/Month_2014_10/data_graphs/GOES_2014-10-22_00-00-00.png\n",
      "Observatorio encontrado: GOES-13\n",
      "Se encontraron datos  GOES para 2014-10-22 00:00:00 - 2014-10-23 00:00:00. Día saltado.\n",
      "\n",
      "Número de registros: 1440\n",
      "Columnas disponibles: ['xrsa', 'xrsb', 'xrsa_quality', 'xrsb_quality']\n",
      "2. Restar Background\n",
      "Plot saved at: 2025-10-24_Download_for_specific_days/Data/Month_2014_10/data_graphs/GOES_diff_linear_2014-10-22_00-00-00.png\n",
      "Plot saved at: 2025-10-24_Download_for_specific_days/Data/Month_2014_10/data_graphs/GOES_diff_log_2014-10-22_00-00-00.png\n"
     ]
    },
    {
     "name": "stderr",
     "output_type": "stream",
     "text": [
      "/tmp/ipykernel_2397830/750897493.py:225: FutureWarning: Downcasting behavior in Series and DataFrame methods 'where', 'mask', and 'clip' is deprecated. In a future version this will not infer object dtypes or cast all-round floats to integers. Instead call result.infer_objects(copy=False) for object inference, or cast round floats explicitly. To opt-in to the future behavior, set `pd.set_option('future.no_silent_downcasting', True)`\n",
      "  df_o = df_o.clip(lower=1e-9)\n"
     ]
    },
    {
     "name": "stdout",
     "output_type": "stream",
     "text": [
      "Plot saved at: 2025-10-24_Download_for_specific_days/Data/Month_2014_10/data_graphs/GOES_diff_positive_2014-10-22_00-00-00.png\n",
      "3. USAR FUNCIÓN SUNPY calculate_t_em\n",
      "Ahora vamos a calcular la T y EM con el modelo de abundancias:coronal\n"
     ]
    },
    {
     "name": "stderr",
     "output_type": "stream",
     "text": [
      "Files Downloaded: 100%|██████████| 1/1 [00:00<00:00,  1.23file/s]\n",
      "/home/pjgonzalesp/miniforge3/envs/sunpy/lib/python3.13/site-packages/astropy/units/quantity.py:659: RuntimeWarning: invalid value encountered in divide\n",
      "  result = super().__array_ufunc__(function, method, *arrays, **kwargs)\n"
     ]
    },
    {
     "name": "stdout",
     "output_type": "stream",
     "text": [
      "se calculó T y EM con el modelo de abundancias:coronal\n",
      "Ahora vamos a calcular la T y EM con el modelo de abundancias:photospheric\n"
     ]
    },
    {
     "name": "stderr",
     "output_type": "stream",
     "text": [
      "Files Downloaded: 100%|██████████| 1/1 [00:00<00:00,  1.23file/s]\n",
      "2025-10-24 15:14:10 - root - INFO: Searching for GOES flares between 2014-10-22 00:00:00 and 2014-10-23 00:00:00...\n"
     ]
    },
    {
     "name": "stdout",
     "output_type": "stream",
     "text": [
      "se calculó T y EM con el modelo de abundancias:photospheric\n",
      "4. CONSTRUIR df_full\n",
      "5. añadiendo observatorio: GOES: GOES-13\n",
      "se añadió observatorio: GOES: GOES-13\n",
      "6. Descargando flares: 2014-10-22 00:00:00 - 2014-10-23 00:00:00\n"
     ]
    },
    {
     "name": "stderr",
     "output_type": "stream",
     "text": [
      "2025-10-24 15:14:12 - root - INFO: Found 8 GOES solar flares between 2014-10-22 00:00:00 and 2014-10-23 00:00:00.\n",
      "Día 70 de 185: 2014-10-24\n"
     ]
    },
    {
     "name": "stdout",
     "output_type": "stream",
     "text": [
      "Se descargaron flares para el intervalo 2014-10-22 00:00:00 - 2014-10-23 00:00:00.\n",
      "7. Se filtraron solo flares de GOES.\n",
      "1. Descargar datos GOES\n",
      "Buscando datos de: 2014-10-24 00:00:00\n",
      "Descargando datos de 2014-10-24 00:00:00...\n"
     ]
    },
    {
     "name": "stderr",
     "output_type": "stream",
     "text": [
      "Files Downloaded:   0%|          | 0/4 [00:00<?, ?file/s]\n",
      "\n",
      "\u001b[A\u001b[A\n",
      "\u001b[A\n",
      "\n",
      "\n",
      "\u001b[A\u001b[A\u001b[A\n",
      "\n",
      "\u001b[A\u001b[A\n",
      "\u001b[A\n",
      "\n",
      "\n",
      "\u001b[A\u001b[A\u001b[A\n",
      "\n",
      "Files Downloaded:  25%|██▌       | 1/4 [00:01<00:03,  1.25s/file]\n",
      "\u001b[A\n",
      "Files Downloaded:  50%|█████     | 2/4 [00:01<00:01,  1.52file/s]\n",
      "\n",
      "\n",
      "Files Downloaded:  75%|███████▌  | 3/4 [00:01<00:00,  2.29file/s]\n",
      "\n",
      "\n",
      "\u001b[A\u001b[A\u001b[A\n",
      "\n",
      "\n",
      "\u001b[A\u001b[A\u001b[A\n",
      "\n",
      "\n",
      "Files Downloaded: 100%|██████████| 4/4 [00:02<00:00,  1.77file/s]\n"
     ]
    },
    {
     "name": "stdout",
     "output_type": "stream",
     "text": [
      "Resolution = 1 minute\n",
      "Gráfica guardada en 2025-10-24_Download_for_specific_days/Data/Month_2014_10/data_graphs/GOES_2014-10-24_00-00-00.png\n",
      "Observatorio encontrado: GOES-13\n",
      "Se encontraron datos  GOES para 2014-10-24 00:00:00 - 2014-10-25 00:00:00. Día saltado.\n",
      "\n",
      "Número de registros: 1440\n",
      "Columnas disponibles: ['xrsa', 'xrsb', 'xrsa_quality', 'xrsb_quality']\n",
      "2. Restar Background\n",
      "Plot saved at: 2025-10-24_Download_for_specific_days/Data/Month_2014_10/data_graphs/GOES_diff_linear_2014-10-24_00-00-00.png\n",
      "Plot saved at: 2025-10-24_Download_for_specific_days/Data/Month_2014_10/data_graphs/GOES_diff_log_2014-10-24_00-00-00.png\n"
     ]
    },
    {
     "name": "stderr",
     "output_type": "stream",
     "text": [
      "/tmp/ipykernel_2397830/750897493.py:225: FutureWarning: Downcasting behavior in Series and DataFrame methods 'where', 'mask', and 'clip' is deprecated. In a future version this will not infer object dtypes or cast all-round floats to integers. Instead call result.infer_objects(copy=False) for object inference, or cast round floats explicitly. To opt-in to the future behavior, set `pd.set_option('future.no_silent_downcasting', True)`\n",
      "  df_o = df_o.clip(lower=1e-9)\n"
     ]
    },
    {
     "name": "stdout",
     "output_type": "stream",
     "text": [
      "Plot saved at: 2025-10-24_Download_for_specific_days/Data/Month_2014_10/data_graphs/GOES_diff_positive_2014-10-24_00-00-00.png\n",
      "3. USAR FUNCIÓN SUNPY calculate_t_em\n",
      "Ahora vamos a calcular la T y EM con el modelo de abundancias:coronal\n"
     ]
    },
    {
     "name": "stderr",
     "output_type": "stream",
     "text": [
      "Files Downloaded: 100%|██████████| 1/1 [00:00<00:00,  1.20file/s]\n",
      "/home/pjgonzalesp/miniforge3/envs/sunpy/lib/python3.13/site-packages/astropy/units/quantity.py:659: RuntimeWarning: invalid value encountered in divide\n",
      "  result = super().__array_ufunc__(function, method, *arrays, **kwargs)\n"
     ]
    },
    {
     "name": "stdout",
     "output_type": "stream",
     "text": [
      "se calculó T y EM con el modelo de abundancias:coronal\n",
      "Ahora vamos a calcular la T y EM con el modelo de abundancias:photospheric\n"
     ]
    },
    {
     "name": "stderr",
     "output_type": "stream",
     "text": [
      "Files Downloaded: 100%|██████████| 1/1 [00:01<00:00,  1.04s/file]\n",
      "2025-10-24 15:14:29 - root - INFO: Searching for GOES flares between 2014-10-24 00:00:00 and 2014-10-25 00:00:00...\n"
     ]
    },
    {
     "name": "stdout",
     "output_type": "stream",
     "text": [
      "se calculó T y EM con el modelo de abundancias:photospheric\n",
      "4. CONSTRUIR df_full\n",
      "5. añadiendo observatorio: GOES: GOES-13\n",
      "se añadió observatorio: GOES: GOES-13\n",
      "6. Descargando flares: 2014-10-24 00:00:00 - 2014-10-25 00:00:00\n"
     ]
    },
    {
     "name": "stderr",
     "output_type": "stream",
     "text": [
      "2025-10-24 15:14:31 - root - INFO: Found 7 GOES solar flares between 2014-10-24 00:00:00 and 2014-10-25 00:00:00.\n",
      "Día 71 de 185: 2014-10-25\n"
     ]
    },
    {
     "name": "stdout",
     "output_type": "stream",
     "text": [
      "Se descargaron flares para el intervalo 2014-10-24 00:00:00 - 2014-10-25 00:00:00.\n",
      "7. Se filtraron solo flares de GOES.\n",
      "1. Descargar datos GOES\n",
      "Buscando datos de: 2014-10-25 00:00:00\n",
      "Descargando datos de 2014-10-25 00:00:00...\n"
     ]
    },
    {
     "name": "stderr",
     "output_type": "stream",
     "text": [
      "Files Downloaded:  25%|██▌       | 1/4 [00:00<00:01,  1.72file/s]\n",
      "\n",
      "\n",
      "\u001b[A\u001b[A\u001b[A\n",
      "\u001b[A\n",
      "\n",
      "\n",
      "\u001b[A\u001b[A\u001b[A\n",
      "\u001b[A\n",
      "\n",
      "\n",
      "Files Downloaded:  75%|███████▌  | 3/4 [00:01<00:00,  2.48file/s]\n",
      "\u001b[A\n",
      "Files Downloaded: 100%|██████████| 4/4 [00:01<00:00,  3.06file/s]\n"
     ]
    },
    {
     "name": "stdout",
     "output_type": "stream",
     "text": [
      "Resolution = 1 minute\n",
      "Gráfica guardada en 2025-10-24_Download_for_specific_days/Data/Month_2014_10/data_graphs/GOES_2014-10-25_00-00-00.png\n",
      "Observatorio encontrado: GOES-13\n",
      "Se encontraron datos  GOES para 2014-10-25 00:00:00 - 2014-10-26 00:00:00. Día saltado.\n",
      "\n",
      "Número de registros: 1440\n",
      "Columnas disponibles: ['xrsa', 'xrsb', 'xrsa_quality', 'xrsb_quality']\n",
      "2. Restar Background\n",
      "Plot saved at: 2025-10-24_Download_for_specific_days/Data/Month_2014_10/data_graphs/GOES_diff_linear_2014-10-25_00-00-00.png\n",
      "Plot saved at: 2025-10-24_Download_for_specific_days/Data/Month_2014_10/data_graphs/GOES_diff_log_2014-10-25_00-00-00.png\n"
     ]
    },
    {
     "name": "stderr",
     "output_type": "stream",
     "text": [
      "/tmp/ipykernel_2397830/750897493.py:225: FutureWarning: Downcasting behavior in Series and DataFrame methods 'where', 'mask', and 'clip' is deprecated. In a future version this will not infer object dtypes or cast all-round floats to integers. Instead call result.infer_objects(copy=False) for object inference, or cast round floats explicitly. To opt-in to the future behavior, set `pd.set_option('future.no_silent_downcasting', True)`\n",
      "  df_o = df_o.clip(lower=1e-9)\n"
     ]
    },
    {
     "name": "stdout",
     "output_type": "stream",
     "text": [
      "Plot saved at: 2025-10-24_Download_for_specific_days/Data/Month_2014_10/data_graphs/GOES_diff_positive_2014-10-25_00-00-00.png\n",
      "3. USAR FUNCIÓN SUNPY calculate_t_em\n",
      "Ahora vamos a calcular la T y EM con el modelo de abundancias:coronal\n"
     ]
    },
    {
     "name": "stderr",
     "output_type": "stream",
     "text": [
      "Files Downloaded: 100%|██████████| 1/1 [00:00<00:00,  1.24file/s]\n",
      "/home/pjgonzalesp/miniforge3/envs/sunpy/lib/python3.13/site-packages/astropy/units/quantity.py:659: RuntimeWarning: invalid value encountered in divide\n",
      "  result = super().__array_ufunc__(function, method, *arrays, **kwargs)\n"
     ]
    },
    {
     "name": "stdout",
     "output_type": "stream",
     "text": [
      "se calculó T y EM con el modelo de abundancias:coronal\n",
      "Ahora vamos a calcular la T y EM con el modelo de abundancias:photospheric\n"
     ]
    },
    {
     "name": "stderr",
     "output_type": "stream",
     "text": [
      "Files Downloaded: 100%|██████████| 1/1 [00:01<00:00,  1.84s/file]\n",
      "2025-10-24 15:14:48 - root - INFO: Searching for GOES flares between 2014-10-25 00:00:00 and 2014-10-26 00:00:00...\n"
     ]
    },
    {
     "name": "stdout",
     "output_type": "stream",
     "text": [
      "se calculó T y EM con el modelo de abundancias:photospheric\n",
      "4. CONSTRUIR df_full\n",
      "5. añadiendo observatorio: GOES: GOES-13\n",
      "se añadió observatorio: GOES: GOES-13\n",
      "6. Descargando flares: 2014-10-25 00:00:00 - 2014-10-26 00:00:00\n"
     ]
    },
    {
     "name": "stderr",
     "output_type": "stream",
     "text": [
      "2025-10-24 15:14:50 - root - INFO: Found 8 GOES solar flares between 2014-10-25 00:00:00 and 2014-10-26 00:00:00.\n",
      "Día 72 de 185: 2014-10-26\n"
     ]
    },
    {
     "name": "stdout",
     "output_type": "stream",
     "text": [
      "Se descargaron flares para el intervalo 2014-10-25 00:00:00 - 2014-10-26 00:00:00.\n",
      "7. Se filtraron solo flares de GOES.\n",
      "1. Descargar datos GOES\n",
      "Buscando datos de: 2014-10-26 00:00:00\n",
      "Descargando datos de 2014-10-26 00:00:00...\n"
     ]
    },
    {
     "name": "stderr",
     "output_type": "stream",
     "text": [
      "Files Downloaded:   0%|          | 0/4 [00:00<?, ?file/s]\n",
      "\n",
      "\n",
      "Files Downloaded:  25%|██▌       | 1/4 [00:00<00:01,  1.70file/s]\n",
      "\u001b[A\n",
      "\u001b[A\n",
      "\n",
      "\n",
      "\u001b[A\u001b[A\u001b[A\n",
      "\n",
      "\n",
      "Files Downloaded:  75%|███████▌  | 3/4 [00:01<00:00,  2.51file/s]\n",
      "Files Downloaded: 100%|██████████| 4/4 [00:01<00:00,  3.17file/s]\n"
     ]
    },
    {
     "name": "stdout",
     "output_type": "stream",
     "text": [
      "Resolution = 1 minute\n",
      "Gráfica guardada en 2025-10-24_Download_for_specific_days/Data/Month_2014_10/data_graphs/GOES_2014-10-26_00-00-00.png\n",
      "Observatorio encontrado: GOES-13\n",
      "Se encontraron datos  GOES para 2014-10-26 00:00:00 - 2014-10-27 00:00:00. Día saltado.\n",
      "\n",
      "Número de registros: 1440\n",
      "Columnas disponibles: ['xrsa', 'xrsb', 'xrsa_quality', 'xrsb_quality']\n",
      "2. Restar Background\n",
      "Plot saved at: 2025-10-24_Download_for_specific_days/Data/Month_2014_10/data_graphs/GOES_diff_linear_2014-10-26_00-00-00.png\n",
      "Plot saved at: 2025-10-24_Download_for_specific_days/Data/Month_2014_10/data_graphs/GOES_diff_log_2014-10-26_00-00-00.png\n"
     ]
    },
    {
     "name": "stderr",
     "output_type": "stream",
     "text": [
      "/tmp/ipykernel_2397830/750897493.py:225: FutureWarning: Downcasting behavior in Series and DataFrame methods 'where', 'mask', and 'clip' is deprecated. In a future version this will not infer object dtypes or cast all-round floats to integers. Instead call result.infer_objects(copy=False) for object inference, or cast round floats explicitly. To opt-in to the future behavior, set `pd.set_option('future.no_silent_downcasting', True)`\n",
      "  df_o = df_o.clip(lower=1e-9)\n"
     ]
    },
    {
     "name": "stdout",
     "output_type": "stream",
     "text": [
      "Plot saved at: 2025-10-24_Download_for_specific_days/Data/Month_2014_10/data_graphs/GOES_diff_positive_2014-10-26_00-00-00.png\n",
      "3. USAR FUNCIÓN SUNPY calculate_t_em\n",
      "Ahora vamos a calcular la T y EM con el modelo de abundancias:coronal\n"
     ]
    },
    {
     "name": "stderr",
     "output_type": "stream",
     "text": [
      "Files Downloaded: 100%|██████████| 1/1 [00:00<00:00,  1.23file/s]\n",
      "/home/pjgonzalesp/miniforge3/envs/sunpy/lib/python3.13/site-packages/astropy/units/quantity.py:659: RuntimeWarning: invalid value encountered in divide\n",
      "  result = super().__array_ufunc__(function, method, *arrays, **kwargs)\n"
     ]
    },
    {
     "name": "stdout",
     "output_type": "stream",
     "text": [
      "se calculó T y EM con el modelo de abundancias:coronal\n",
      "Ahora vamos a calcular la T y EM con el modelo de abundancias:photospheric\n"
     ]
    },
    {
     "name": "stderr",
     "output_type": "stream",
     "text": [
      "Files Downloaded: 100%|██████████| 1/1 [00:00<00:00,  1.22file/s]\n",
      "2025-10-24 15:15:06 - root - INFO: Searching for GOES flares between 2014-10-26 00:00:00 and 2014-10-27 00:00:00...\n"
     ]
    },
    {
     "name": "stdout",
     "output_type": "stream",
     "text": [
      "se calculó T y EM con el modelo de abundancias:photospheric\n",
      "4. CONSTRUIR df_full\n",
      "5. añadiendo observatorio: GOES: GOES-13\n",
      "se añadió observatorio: GOES: GOES-13\n",
      "6. Descargando flares: 2014-10-26 00:00:00 - 2014-10-27 00:00:00\n"
     ]
    },
    {
     "name": "stderr",
     "output_type": "stream",
     "text": [
      "2025-10-24 15:15:08 - root - INFO: Found 15 GOES solar flares between 2014-10-26 00:00:00 and 2014-10-27 00:00:00.\n",
      "Día 73 de 185: 2014-10-27\n"
     ]
    },
    {
     "name": "stdout",
     "output_type": "stream",
     "text": [
      "Se descargaron flares para el intervalo 2014-10-26 00:00:00 - 2014-10-27 00:00:00.\n",
      "7. Se filtraron solo flares de GOES.\n",
      "1. Descargar datos GOES\n",
      "Buscando datos de: 2014-10-27 00:00:00\n",
      "Descargando datos de 2014-10-27 00:00:00...\n"
     ]
    },
    {
     "name": "stderr",
     "output_type": "stream",
     "text": [
      "Files Downloaded:  25%|██▌       | 1/4 [00:00<00:01,  1.71file/s]\n",
      "\n",
      "\n",
      "\u001b[A\u001b[A\u001b[A\n",
      "\u001b[A\n",
      "\u001b[A\n",
      "\n",
      "\n",
      "\u001b[A\u001b[A\u001b[A\n",
      "\u001b[A\n",
      "\n",
      "\n",
      "\u001b[A\u001b[A\u001b[A\n",
      "\n",
      "\n",
      "\u001b[A\u001b[A\u001b[A\n",
      "\n",
      "\n",
      "Files Downloaded:  75%|███████▌  | 3/4 [00:01<00:00,  1.77file/s]\n",
      "Files Downloaded: 100%|██████████| 4/4 [00:02<00:00,  1.74file/s]\n"
     ]
    },
    {
     "name": "stdout",
     "output_type": "stream",
     "text": [
      "Resolution = 1 minute\n",
      "Gráfica guardada en 2025-10-24_Download_for_specific_days/Data/Month_2014_10/data_graphs/GOES_2014-10-27_00-00-00.png\n",
      "Observatorio encontrado: GOES-13\n",
      "Se encontraron datos  GOES para 2014-10-27 00:00:00 - 2014-10-28 00:00:00. Día saltado.\n",
      "\n",
      "Número de registros: 1440\n",
      "Columnas disponibles: ['xrsa', 'xrsb', 'xrsa_quality', 'xrsb_quality']\n",
      "2. Restar Background\n",
      "Plot saved at: 2025-10-24_Download_for_specific_days/Data/Month_2014_10/data_graphs/GOES_diff_linear_2014-10-27_00-00-00.png\n",
      "Plot saved at: 2025-10-24_Download_for_specific_days/Data/Month_2014_10/data_graphs/GOES_diff_log_2014-10-27_00-00-00.png\n"
     ]
    },
    {
     "name": "stderr",
     "output_type": "stream",
     "text": [
      "/tmp/ipykernel_2397830/750897493.py:225: FutureWarning: Downcasting behavior in Series and DataFrame methods 'where', 'mask', and 'clip' is deprecated. In a future version this will not infer object dtypes or cast all-round floats to integers. Instead call result.infer_objects(copy=False) for object inference, or cast round floats explicitly. To opt-in to the future behavior, set `pd.set_option('future.no_silent_downcasting', True)`\n",
      "  df_o = df_o.clip(lower=1e-9)\n"
     ]
    },
    {
     "name": "stdout",
     "output_type": "stream",
     "text": [
      "Plot saved at: 2025-10-24_Download_for_specific_days/Data/Month_2014_10/data_graphs/GOES_diff_positive_2014-10-27_00-00-00.png\n",
      "3. USAR FUNCIÓN SUNPY calculate_t_em\n",
      "Ahora vamos a calcular la T y EM con el modelo de abundancias:coronal\n"
     ]
    },
    {
     "name": "stderr",
     "output_type": "stream",
     "text": [
      "Files Downloaded: 100%|██████████| 1/1 [00:01<00:00,  1.04s/file]\n",
      "/home/pjgonzalesp/miniforge3/envs/sunpy/lib/python3.13/site-packages/astropy/units/quantity.py:659: RuntimeWarning: invalid value encountered in divide\n",
      "  result = super().__array_ufunc__(function, method, *arrays, **kwargs)\n"
     ]
    },
    {
     "name": "stdout",
     "output_type": "stream",
     "text": [
      "se calculó T y EM con el modelo de abundancias:coronal\n",
      "Ahora vamos a calcular la T y EM con el modelo de abundancias:photospheric\n"
     ]
    },
    {
     "name": "stderr",
     "output_type": "stream",
     "text": [
      "Files Downloaded:   0%|          | 0/1 [00:00<?, ?file/s]Exception ignored in: <function BaseEventLoop.__del__ at 0x7f20fad47420>\n",
      "Traceback (most recent call last):\n",
      "  File \"/home/pjgonzalesp/miniforge3/envs/sunpy/lib/python3.13/asyncio/base_events.py\", line 766, in __del__\n",
      "    self.close()\n",
      "  File \"/home/pjgonzalesp/miniforge3/envs/sunpy/lib/python3.13/asyncio/unix_events.py\", line 73, in close\n",
      "    self.remove_signal_handler(sig)\n",
      "  File \"/home/pjgonzalesp/miniforge3/envs/sunpy/lib/python3.13/asyncio/unix_events.py\", line 162, in remove_signal_handler\n",
      "    signal.signal(sig, handler)\n",
      "  File \"/home/pjgonzalesp/miniforge3/envs/sunpy/lib/python3.13/signal.py\", line 58, in signal\n",
      "    handler = _signal.signal(_enum_to_int(signalnum), _enum_to_int(handler))\n",
      "ValueError: signal only works in main thread of the main interpreter\n",
      "Files Downloaded: 100%|██████████| 1/1 [00:01<00:00,  1.14s/file]\n",
      "2025-10-24 15:15:25 - root - INFO: Searching for GOES flares between 2014-10-27 00:00:00 and 2014-10-28 00:00:00...\n"
     ]
    },
    {
     "name": "stdout",
     "output_type": "stream",
     "text": [
      "se calculó T y EM con el modelo de abundancias:photospheric\n",
      "4. CONSTRUIR df_full\n",
      "5. añadiendo observatorio: GOES: GOES-13\n",
      "se añadió observatorio: GOES: GOES-13\n",
      "6. Descargando flares: 2014-10-27 00:00:00 - 2014-10-28 00:00:00\n"
     ]
    },
    {
     "name": "stderr",
     "output_type": "stream",
     "text": [
      "2025-10-24 15:15:28 - root - INFO: Found 12 GOES solar flares between 2014-10-27 00:00:00 and 2014-10-28 00:00:00.\n",
      "Día 74 de 185: 2014-11-07\n"
     ]
    },
    {
     "name": "stdout",
     "output_type": "stream",
     "text": [
      "Se descargaron flares para el intervalo 2014-10-27 00:00:00 - 2014-10-28 00:00:00.\n",
      "7. Se filtraron solo flares de GOES.\n",
      "💾 df_full_2014_10.csv actualizado (8640 filas)\n",
      "✅ Días descargados este mes: [datetime.date(2014, 10, 19), datetime.date(2014, 10, 22), datetime.date(2014, 10, 24), datetime.date(2014, 10, 25), datetime.date(2014, 10, 26), datetime.date(2014, 10, 27)]\n",
      "💾 df_flare_data_2014_10.csv actualizado (58 filas)\n",
      "🏁 Mes 2014_10 terminado → 2025-10-24_Download_for_specific_days/Data/Month_2014_10\n",
      "\n",
      "========================================\n",
      "🟦 Procesando mes 2014_11 (1 días)\n",
      "========================================\n",
      "1. Descargar datos GOES\n",
      "Buscando datos de: 2014-11-07 00:00:00\n",
      "Descargando datos de 2014-11-07 00:00:00...\n"
     ]
    },
    {
     "name": "stderr",
     "output_type": "stream",
     "text": [
      "Files Downloaded:   0%|          | 0/2 [00:00<?, ?file/s]\n",
      "\u001b[A\n",
      "Files Downloaded:  50%|█████     | 1/2 [00:01<00:01,  1.22s/file]\n",
      "Files Downloaded: 100%|██████████| 2/2 [00:01<00:00,  1.61file/s]\n"
     ]
    },
    {
     "name": "stdout",
     "output_type": "stream",
     "text": [
      "Resolution = 1 minute\n",
      "Gráfica guardada en 2025-10-24_Download_for_specific_days/Data/Month_2014_11/data_graphs/GOES_2014-11-07_00-00-00.png\n",
      "Observatorio encontrado: GOES-15\n",
      "Se encontraron datos  GOES para 2014-11-07 00:00:00 - 2014-11-08 00:00:00. Día saltado.\n",
      "\n",
      "Número de registros: 1440\n",
      "Columnas disponibles: ['xrsa', 'xrsb', 'xrsa_quality', 'xrsb_quality']\n",
      "2. Restar Background\n",
      "Plot saved at: 2025-10-24_Download_for_specific_days/Data/Month_2014_11/data_graphs/GOES_diff_linear_2014-11-07_00-00-00.png\n",
      "Plot saved at: 2025-10-24_Download_for_specific_days/Data/Month_2014_11/data_graphs/GOES_diff_log_2014-11-07_00-00-00.png\n"
     ]
    },
    {
     "name": "stderr",
     "output_type": "stream",
     "text": [
      "/tmp/ipykernel_2397830/750897493.py:225: FutureWarning: Downcasting behavior in Series and DataFrame methods 'where', 'mask', and 'clip' is deprecated. In a future version this will not infer object dtypes or cast all-round floats to integers. Instead call result.infer_objects(copy=False) for object inference, or cast round floats explicitly. To opt-in to the future behavior, set `pd.set_option('future.no_silent_downcasting', True)`\n",
      "  df_o = df_o.clip(lower=1e-9)\n"
     ]
    },
    {
     "name": "stdout",
     "output_type": "stream",
     "text": [
      "Plot saved at: 2025-10-24_Download_for_specific_days/Data/Month_2014_11/data_graphs/GOES_diff_positive_2014-11-07_00-00-00.png\n",
      "3. USAR FUNCIÓN SUNPY calculate_t_em\n",
      "Ahora vamos a calcular la T y EM con el modelo de abundancias:coronal\n"
     ]
    },
    {
     "name": "stderr",
     "output_type": "stream",
     "text": [
      "Files Downloaded: 100%|██████████| 1/1 [00:00<00:00,  1.20file/s]\n",
      "/home/pjgonzalesp/miniforge3/envs/sunpy/lib/python3.13/site-packages/astropy/units/quantity.py:659: RuntimeWarning: invalid value encountered in divide\n",
      "  result = super().__array_ufunc__(function, method, *arrays, **kwargs)\n"
     ]
    },
    {
     "name": "stdout",
     "output_type": "stream",
     "text": [
      "se calculó T y EM con el modelo de abundancias:coronal\n",
      "Ahora vamos a calcular la T y EM con el modelo de abundancias:photospheric\n"
     ]
    },
    {
     "name": "stderr",
     "output_type": "stream",
     "text": [
      "Files Downloaded:   0%|          | 0/1 [00:00<?, ?file/s]Exception ignored in: <function BaseEventLoop.__del__ at 0x7f20fad47420>\n",
      "Traceback (most recent call last):\n",
      "  File \"/home/pjgonzalesp/miniforge3/envs/sunpy/lib/python3.13/asyncio/base_events.py\", line 766, in __del__\n",
      "    self.close()\n",
      "  File \"/home/pjgonzalesp/miniforge3/envs/sunpy/lib/python3.13/asyncio/unix_events.py\", line 73, in close\n",
      "    self.remove_signal_handler(sig)\n",
      "  File \"/home/pjgonzalesp/miniforge3/envs/sunpy/lib/python3.13/asyncio/unix_events.py\", line 162, in remove_signal_handler\n",
      "    signal.signal(sig, handler)\n",
      "  File \"/home/pjgonzalesp/miniforge3/envs/sunpy/lib/python3.13/signal.py\", line 58, in signal\n",
      "    handler = _signal.signal(_enum_to_int(signalnum), _enum_to_int(handler))\n",
      "ValueError: signal only works in main thread of the main interpreter\n",
      "Files Downloaded: 100%|██████████| 1/1 [00:00<00:00,  1.23file/s]\n",
      "2025-10-24 15:15:43 - root - INFO: Searching for GOES flares between 2014-11-07 00:00:00 and 2014-11-08 00:00:00...\n"
     ]
    },
    {
     "name": "stdout",
     "output_type": "stream",
     "text": [
      "se calculó T y EM con el modelo de abundancias:photospheric\n",
      "4. CONSTRUIR df_full\n",
      "5. añadiendo observatorio: GOES: GOES-15\n",
      "se añadió observatorio: GOES: GOES-15\n",
      "6. Descargando flares: 2014-11-07 00:00:00 - 2014-11-08 00:00:00\n"
     ]
    },
    {
     "name": "stderr",
     "output_type": "stream",
     "text": [
      "2025-10-24 15:15:47 - root - INFO: Found 10 GOES solar flares between 2014-11-07 00:00:00 and 2014-11-08 00:00:00.\n",
      "Día 75 de 185: 2014-12-20\n"
     ]
    },
    {
     "name": "stdout",
     "output_type": "stream",
     "text": [
      "Se descargaron flares para el intervalo 2014-11-07 00:00:00 - 2014-11-08 00:00:00.\n",
      "7. Se filtraron solo flares de GOES.\n",
      "💾 df_full_2014_11.csv actualizado (1440 filas)\n",
      "✅ Días descargados este mes: [datetime.date(2014, 11, 7)]\n",
      "💾 df_flare_data_2014_11.csv actualizado (10 filas)\n",
      "🏁 Mes 2014_11 terminado → 2025-10-24_Download_for_specific_days/Data/Month_2014_11\n",
      "\n",
      "========================================\n",
      "🟦 Procesando mes 2014_12 (1 días)\n",
      "========================================\n",
      "1. Descargar datos GOES\n",
      "Buscando datos de: 2014-12-20 00:00:00\n",
      "Descargando datos de 2014-12-20 00:00:00...\n"
     ]
    },
    {
     "name": "stderr",
     "output_type": "stream",
     "text": [
      "Files Downloaded:   0%|          | 0/4 [00:00<?, ?file/s]\n",
      "Files Downloaded:  25%|██▌       | 1/4 [00:00<00:01,  1.69file/s]\n",
      "\n",
      "\n",
      "\u001b[A\u001b[A\u001b[A\n",
      "\n",
      "\n",
      "\u001b[A\u001b[A\u001b[A\n",
      "\u001b[A\n",
      "Files Downloaded:  75%|███████▌  | 3/4 [00:01<00:00,  2.55file/s]\n",
      "\n",
      "\n",
      "Files Downloaded: 100%|██████████| 4/4 [00:01<00:00,  3.21file/s]\n"
     ]
    },
    {
     "name": "stdout",
     "output_type": "stream",
     "text": [
      "Resolution = 1 minute\n",
      "Gráfica guardada en 2025-10-24_Download_for_specific_days/Data/Month_2014_12/data_graphs/GOES_2014-12-20_00-00-00.png\n",
      "Observatorio encontrado: GOES-13\n",
      "Se encontraron datos  GOES para 2014-12-20 00:00:00 - 2014-12-21 00:00:00. Día saltado.\n",
      "\n",
      "Número de registros: 1440\n",
      "Columnas disponibles: ['xrsa', 'xrsb', 'xrsa_quality', 'xrsb_quality']\n",
      "2. Restar Background\n",
      "Plot saved at: 2025-10-24_Download_for_specific_days/Data/Month_2014_12/data_graphs/GOES_diff_linear_2014-12-20_00-00-00.png\n",
      "Plot saved at: 2025-10-24_Download_for_specific_days/Data/Month_2014_12/data_graphs/GOES_diff_log_2014-12-20_00-00-00.png\n"
     ]
    },
    {
     "name": "stderr",
     "output_type": "stream",
     "text": [
      "/tmp/ipykernel_2397830/750897493.py:225: FutureWarning: Downcasting behavior in Series and DataFrame methods 'where', 'mask', and 'clip' is deprecated. In a future version this will not infer object dtypes or cast all-round floats to integers. Instead call result.infer_objects(copy=False) for object inference, or cast round floats explicitly. To opt-in to the future behavior, set `pd.set_option('future.no_silent_downcasting', True)`\n",
      "  df_o = df_o.clip(lower=1e-9)\n"
     ]
    },
    {
     "name": "stdout",
     "output_type": "stream",
     "text": [
      "Plot saved at: 2025-10-24_Download_for_specific_days/Data/Month_2014_12/data_graphs/GOES_diff_positive_2014-12-20_00-00-00.png\n",
      "3. USAR FUNCIÓN SUNPY calculate_t_em\n",
      "Ahora vamos a calcular la T y EM con el modelo de abundancias:coronal\n"
     ]
    },
    {
     "name": "stderr",
     "output_type": "stream",
     "text": [
      "Files Downloaded: 100%|██████████| 1/1 [00:00<00:00,  1.24file/s]\n",
      "/home/pjgonzalesp/miniforge3/envs/sunpy/lib/python3.13/site-packages/astropy/units/quantity.py:659: RuntimeWarning: divide by zero encountered in divide\n",
      "  result = super().__array_ufunc__(function, method, *arrays, **kwargs)\n",
      "/home/pjgonzalesp/miniforge3/envs/sunpy/lib/python3.13/site-packages/astropy/units/quantity.py:659: RuntimeWarning: invalid value encountered in divide\n",
      "  result = super().__array_ufunc__(function, method, *arrays, **kwargs)\n"
     ]
    },
    {
     "name": "stdout",
     "output_type": "stream",
     "text": [
      "se calculó T y EM con el modelo de abundancias:coronal\n",
      "Ahora vamos a calcular la T y EM con el modelo de abundancias:photospheric\n"
     ]
    },
    {
     "name": "stderr",
     "output_type": "stream",
     "text": [
      "Files Downloaded:   0%|          | 0/1 [00:00<?, ?file/s]Exception ignored in: <function BaseEventLoop.__del__ at 0x7f20fad47420>\n",
      "Traceback (most recent call last):\n",
      "  File \"/home/pjgonzalesp/miniforge3/envs/sunpy/lib/python3.13/asyncio/base_events.py\", line 766, in __del__\n",
      "    self.close()\n",
      "  File \"/home/pjgonzalesp/miniforge3/envs/sunpy/lib/python3.13/asyncio/unix_events.py\", line 73, in close\n",
      "    self.remove_signal_handler(sig)\n",
      "  File \"/home/pjgonzalesp/miniforge3/envs/sunpy/lib/python3.13/asyncio/unix_events.py\", line 162, in remove_signal_handler\n",
      "    signal.signal(sig, handler)\n",
      "  File \"/home/pjgonzalesp/miniforge3/envs/sunpy/lib/python3.13/signal.py\", line 58, in signal\n",
      "    handler = _signal.signal(_enum_to_int(signalnum), _enum_to_int(handler))\n",
      "ValueError: signal only works in main thread of the main interpreter\n",
      "Files Downloaded: 100%|██████████| 1/1 [00:00<00:00,  1.13file/s]\n",
      "2025-10-24 15:16:03 - root - INFO: Searching for GOES flares between 2014-12-20 00:00:00 and 2014-12-21 00:00:00...\n"
     ]
    },
    {
     "name": "stdout",
     "output_type": "stream",
     "text": [
      "se calculó T y EM con el modelo de abundancias:photospheric\n",
      "4. CONSTRUIR df_full\n",
      "5. añadiendo observatorio: GOES: GOES-13\n",
      "se añadió observatorio: GOES: GOES-13\n",
      "6. Descargando flares: 2014-12-20 00:00:00 - 2014-12-21 00:00:00\n"
     ]
    },
    {
     "name": "stderr",
     "output_type": "stream",
     "text": [
      "2025-10-24 15:16:04 - root - INFO: Found 6 GOES solar flares between 2014-12-20 00:00:00 and 2014-12-21 00:00:00.\n",
      "Día 76 de 185: 2015-03-11\n"
     ]
    },
    {
     "name": "stdout",
     "output_type": "stream",
     "text": [
      "Se descargaron flares para el intervalo 2014-12-20 00:00:00 - 2014-12-21 00:00:00.\n",
      "7. Se filtraron solo flares de GOES.\n",
      "💾 df_full_2014_12.csv actualizado (1440 filas)\n",
      "✅ Días descargados este mes: [datetime.date(2014, 12, 20)]\n",
      "💾 df_flare_data_2014_12.csv actualizado (6 filas)\n",
      "🏁 Mes 2014_12 terminado → 2025-10-24_Download_for_specific_days/Data/Month_2014_12\n",
      "\n",
      "========================================\n",
      "🟦 Procesando mes 2015_03 (1 días)\n",
      "========================================\n",
      "1. Descargar datos GOES\n",
      "Buscando datos de: 2015-03-11 00:00:00\n",
      "Descargando datos de 2015-03-11 00:00:00...\n"
     ]
    },
    {
     "name": "stderr",
     "output_type": "stream",
     "text": [
      "Files Downloaded:   0%|          | 0/4 [00:00<?, ?file/s]\n",
      "\n",
      "\n",
      "\u001b[A\u001b[A\u001b[A\n",
      "\n",
      "\u001b[A\u001b[A\n",
      "\u001b[A\n",
      "\n",
      "\n",
      "\u001b[A\u001b[A\u001b[A\n",
      "\n",
      "\u001b[A\u001b[A\n",
      "\u001b[A\n",
      "\n",
      "\n",
      "Files Downloaded:  25%|██▌       | 1/4 [00:01<00:03,  1.23s/file]\n",
      "\u001b[A\n",
      "\n",
      "\u001b[A\u001b[A\n",
      "\n",
      "Files Downloaded: 100%|██████████| 4/4 [00:01<00:00,  2.63file/s]\n"
     ]
    },
    {
     "name": "stdout",
     "output_type": "stream",
     "text": [
      "Resolution = 1 minute\n",
      "Gráfica guardada en 2025-10-24_Download_for_specific_days/Data/Month_2015_03/data_graphs/GOES_2015-03-11_00-00-00.png\n",
      "Observatorio encontrado: GOES-13\n",
      "Se encontraron datos  GOES para 2015-03-11 00:00:00 - 2015-03-12 00:00:00. Día saltado.\n",
      "\n",
      "Número de registros: 1440\n",
      "Columnas disponibles: ['xrsa', 'xrsb', 'xrsa_quality', 'xrsb_quality']\n",
      "2. Restar Background\n",
      "Plot saved at: 2025-10-24_Download_for_specific_days/Data/Month_2015_03/data_graphs/GOES_diff_linear_2015-03-11_00-00-00.png\n",
      "Plot saved at: 2025-10-24_Download_for_specific_days/Data/Month_2015_03/data_graphs/GOES_diff_log_2015-03-11_00-00-00.png\n"
     ]
    },
    {
     "name": "stderr",
     "output_type": "stream",
     "text": [
      "/tmp/ipykernel_2397830/750897493.py:225: FutureWarning: Downcasting behavior in Series and DataFrame methods 'where', 'mask', and 'clip' is deprecated. In a future version this will not infer object dtypes or cast all-round floats to integers. Instead call result.infer_objects(copy=False) for object inference, or cast round floats explicitly. To opt-in to the future behavior, set `pd.set_option('future.no_silent_downcasting', True)`\n",
      "  df_o = df_o.clip(lower=1e-9)\n"
     ]
    },
    {
     "name": "stdout",
     "output_type": "stream",
     "text": [
      "Plot saved at: 2025-10-24_Download_for_specific_days/Data/Month_2015_03/data_graphs/GOES_diff_positive_2015-03-11_00-00-00.png\n",
      "3. USAR FUNCIÓN SUNPY calculate_t_em\n",
      "Ahora vamos a calcular la T y EM con el modelo de abundancias:coronal\n"
     ]
    },
    {
     "name": "stderr",
     "output_type": "stream",
     "text": [
      "Files Downloaded: 100%|██████████| 1/1 [00:00<00:00,  1.23file/s]\n",
      "/home/pjgonzalesp/miniforge3/envs/sunpy/lib/python3.13/site-packages/astropy/units/quantity.py:659: RuntimeWarning: divide by zero encountered in divide\n",
      "  result = super().__array_ufunc__(function, method, *arrays, **kwargs)\n",
      "/home/pjgonzalesp/miniforge3/envs/sunpy/lib/python3.13/site-packages/astropy/units/quantity.py:659: RuntimeWarning: invalid value encountered in divide\n",
      "  result = super().__array_ufunc__(function, method, *arrays, **kwargs)\n"
     ]
    },
    {
     "name": "stdout",
     "output_type": "stream",
     "text": [
      "se calculó T y EM con el modelo de abundancias:coronal\n",
      "Ahora vamos a calcular la T y EM con el modelo de abundancias:photospheric\n"
     ]
    },
    {
     "name": "stderr",
     "output_type": "stream",
     "text": [
      "Files Downloaded: 100%|██████████| 1/1 [00:00<00:00,  1.20file/s]\n",
      "2025-10-24 15:16:20 - root - INFO: Searching for GOES flares between 2015-03-11 00:00:00 and 2015-03-12 00:00:00...\n"
     ]
    },
    {
     "name": "stdout",
     "output_type": "stream",
     "text": [
      "se calculó T y EM con el modelo de abundancias:photospheric\n",
      "4. CONSTRUIR df_full\n",
      "5. añadiendo observatorio: GOES: GOES-13\n",
      "se añadió observatorio: GOES: GOES-13\n",
      "6. Descargando flares: 2015-03-11 00:00:00 - 2015-03-12 00:00:00\n"
     ]
    },
    {
     "name": "stderr",
     "output_type": "stream",
     "text": [
      "2025-10-24 15:16:23 - root - INFO: Found 19 GOES solar flares between 2015-03-11 00:00:00 and 2015-03-12 00:00:00.\n",
      "Día 77 de 185: 2015-05-05\n"
     ]
    },
    {
     "name": "stdout",
     "output_type": "stream",
     "text": [
      "Se descargaron flares para el intervalo 2015-03-11 00:00:00 - 2015-03-12 00:00:00.\n",
      "7. Se filtraron solo flares de GOES.\n",
      "💾 df_full_2015_03.csv actualizado (1440 filas)\n",
      "✅ Días descargados este mes: [datetime.date(2015, 3, 11)]\n",
      "💾 df_flare_data_2015_03.csv actualizado (19 filas)\n",
      "🏁 Mes 2015_03 terminado → 2025-10-24_Download_for_specific_days/Data/Month_2015_03\n",
      "\n",
      "========================================\n",
      "🟦 Procesando mes 2015_05 (1 días)\n",
      "========================================\n",
      "1. Descargar datos GOES\n",
      "Buscando datos de: 2015-05-05 00:00:00\n",
      "Descargando datos de 2015-05-05 00:00:00...\n"
     ]
    },
    {
     "name": "stderr",
     "output_type": "stream",
     "text": [
      "Files Downloaded:   0%|          | 0/4 [00:00<?, ?file/s]\n",
      "\n",
      "\u001b[A\u001b[A\n",
      "\n",
      "\n",
      "\u001b[A\u001b[A\u001b[A\n",
      "\u001b[A\n",
      "\n",
      "\u001b[A\u001b[A\n",
      "\n",
      "\n",
      "\u001b[A\u001b[A\u001b[A\n",
      "Files Downloaded:  25%|██▌       | 1/4 [00:01<00:03,  1.28s/file]\n",
      "\n",
      "\u001b[A\u001b[A\n",
      "\n",
      "\u001b[A\u001b[A\n",
      "\u001b[A\n",
      "\n",
      "\n",
      "\u001b[A\u001b[A\u001b[A\n",
      "\n",
      "\u001b[A\u001b[A\n",
      "\n",
      "Files Downloaded:  50%|█████     | 2/4 [00:01<00:01,  1.31file/s]\n",
      "\u001b[A\n",
      "\u001b[A\n",
      "\n",
      "\n",
      "\u001b[A\u001b[A\u001b[A\n",
      "\n",
      "\n",
      "\u001b[A\u001b[A\u001b[A\n",
      "\n",
      "\n",
      "\u001b[A\u001b[A\u001b[A\n",
      "\n",
      "\n",
      "Files Downloaded: 100%|██████████| 4/4 [00:02<00:00,  1.53file/s]\n"
     ]
    },
    {
     "name": "stdout",
     "output_type": "stream",
     "text": [
      "Resolution = 1 minute\n",
      "Gráfica guardada en 2025-10-24_Download_for_specific_days/Data/Month_2015_05/data_graphs/GOES_2015-05-05_00-00-00.png\n",
      "Observatorio encontrado: GOES-13\n",
      "Se encontraron datos  GOES para 2015-05-05 00:00:00 - 2015-05-06 00:00:00. Día saltado.\n",
      "\n",
      "Número de registros: 1440\n",
      "Columnas disponibles: ['xrsa', 'xrsb', 'xrsa_quality', 'xrsb_quality']\n",
      "2. Restar Background\n",
      "Plot saved at: 2025-10-24_Download_for_specific_days/Data/Month_2015_05/data_graphs/GOES_diff_linear_2015-05-05_00-00-00.png\n",
      "Plot saved at: 2025-10-24_Download_for_specific_days/Data/Month_2015_05/data_graphs/GOES_diff_log_2015-05-05_00-00-00.png\n"
     ]
    },
    {
     "name": "stderr",
     "output_type": "stream",
     "text": [
      "/tmp/ipykernel_2397830/750897493.py:225: FutureWarning: Downcasting behavior in Series and DataFrame methods 'where', 'mask', and 'clip' is deprecated. In a future version this will not infer object dtypes or cast all-round floats to integers. Instead call result.infer_objects(copy=False) for object inference, or cast round floats explicitly. To opt-in to the future behavior, set `pd.set_option('future.no_silent_downcasting', True)`\n",
      "  df_o = df_o.clip(lower=1e-9)\n"
     ]
    },
    {
     "name": "stdout",
     "output_type": "stream",
     "text": [
      "Plot saved at: 2025-10-24_Download_for_specific_days/Data/Month_2015_05/data_graphs/GOES_diff_positive_2015-05-05_00-00-00.png\n",
      "3. USAR FUNCIÓN SUNPY calculate_t_em\n",
      "Ahora vamos a calcular la T y EM con el modelo de abundancias:coronal\n"
     ]
    },
    {
     "name": "stderr",
     "output_type": "stream",
     "text": [
      "Files Downloaded: 100%|██████████| 1/1 [00:00<00:00,  1.17file/s]\n",
      "/home/pjgonzalesp/miniforge3/envs/sunpy/lib/python3.13/site-packages/astropy/units/quantity.py:659: RuntimeWarning: divide by zero encountered in divide\n",
      "  result = super().__array_ufunc__(function, method, *arrays, **kwargs)\n",
      "/home/pjgonzalesp/miniforge3/envs/sunpy/lib/python3.13/site-packages/astropy/units/quantity.py:659: RuntimeWarning: invalid value encountered in divide\n",
      "  result = super().__array_ufunc__(function, method, *arrays, **kwargs)\n"
     ]
    },
    {
     "name": "stdout",
     "output_type": "stream",
     "text": [
      "se calculó T y EM con el modelo de abundancias:coronal\n",
      "Ahora vamos a calcular la T y EM con el modelo de abundancias:photospheric\n"
     ]
    },
    {
     "name": "stderr",
     "output_type": "stream",
     "text": [
      "Files Downloaded: 100%|██████████| 1/1 [00:00<00:00,  1.13file/s]\n",
      "2025-10-24 15:16:41 - root - INFO: Searching for GOES flares between 2015-05-05 00:00:00 and 2015-05-06 00:00:00...\n"
     ]
    },
    {
     "name": "stdout",
     "output_type": "stream",
     "text": [
      "se calculó T y EM con el modelo de abundancias:photospheric\n",
      "4. CONSTRUIR df_full\n",
      "5. añadiendo observatorio: GOES: GOES-13\n",
      "se añadió observatorio: GOES: GOES-13\n",
      "6. Descargando flares: 2015-05-05 00:00:00 - 2015-05-06 00:00:00\n"
     ]
    },
    {
     "name": "stderr",
     "output_type": "stream",
     "text": [
      "2025-10-24 15:16:44 - root - INFO: Found 23 GOES solar flares between 2015-05-05 00:00:00 and 2015-05-06 00:00:00.\n",
      "Día 78 de 185: 2017-09-06\n"
     ]
    },
    {
     "name": "stdout",
     "output_type": "stream",
     "text": [
      "Se descargaron flares para el intervalo 2015-05-05 00:00:00 - 2015-05-06 00:00:00.\n",
      "7. Se filtraron solo flares de GOES.\n",
      "💾 df_full_2015_05.csv actualizado (1440 filas)\n",
      "✅ Días descargados este mes: [datetime.date(2015, 5, 5)]\n",
      "💾 df_flare_data_2015_05.csv actualizado (23 filas)\n",
      "🏁 Mes 2015_05 terminado → 2025-10-24_Download_for_specific_days/Data/Month_2015_05\n",
      "\n",
      "========================================\n",
      "🟦 Procesando mes 2017_09 (3 días)\n",
      "========================================\n",
      "1. Descargar datos GOES\n",
      "Buscando datos de: 2017-09-06 00:00:00\n",
      "Descargando datos de 2017-09-06 00:00:00...\n"
     ]
    },
    {
     "name": "stderr",
     "output_type": "stream",
     "text": [
      "Files Downloaded: 100%|██████████| 6/6 [00:01<00:00,  5.61file/s]\n"
     ]
    },
    {
     "name": "stdout",
     "output_type": "stream",
     "text": [
      "Resolution = 1 minute\n",
      "Gráfica guardada en 2025-10-24_Download_for_specific_days/Data/Month_2017_09/data_graphs/GOES_2017-09-06_00-00-00.png\n",
      "Observatorio encontrado: GOES-16\n",
      "Se encontraron datos  GOES para 2017-09-06 00:00:00 - 2017-09-07 00:00:00. Día saltado.\n",
      "\n",
      "Número de registros: 1440\n",
      "Columnas disponibles: ['xrsa', 'xrsb', 'xrsa_quality', 'xrsb_quality']\n",
      "2. Restar Background\n",
      "Plot saved at: 2025-10-24_Download_for_specific_days/Data/Month_2017_09/data_graphs/GOES_diff_linear_2017-09-06_00-00-00.png\n",
      "Plot saved at: 2025-10-24_Download_for_specific_days/Data/Month_2017_09/data_graphs/GOES_diff_log_2017-09-06_00-00-00.png\n"
     ]
    },
    {
     "name": "stderr",
     "output_type": "stream",
     "text": [
      "/tmp/ipykernel_2397830/750897493.py:225: FutureWarning: Downcasting behavior in Series and DataFrame methods 'where', 'mask', and 'clip' is deprecated. In a future version this will not infer object dtypes or cast all-round floats to integers. Instead call result.infer_objects(copy=False) for object inference, or cast round floats explicitly. To opt-in to the future behavior, set `pd.set_option('future.no_silent_downcasting', True)`\n",
      "  df_o = df_o.clip(lower=1e-9)\n",
      "WARNING: SunpyUserWarning: No information about primary/secondary detectors in XRSTimeSeries, assuming primary for all [sunkit_instruments.goes_xrs.goes_chianti_tem]\n",
      "2025-10-24 15:16:59 - sunpy - WARNING: SunpyUserWarning: No information about primary/secondary detectors in XRSTimeSeries, assuming primary for all\n"
     ]
    },
    {
     "name": "stdout",
     "output_type": "stream",
     "text": [
      "Plot saved at: 2025-10-24_Download_for_specific_days/Data/Month_2017_09/data_graphs/GOES_diff_positive_2017-09-06_00-00-00.png\n",
      "3. USAR FUNCIÓN SUNPY calculate_t_em\n",
      "Ahora vamos a calcular la T y EM con el modelo de abundancias:coronal\n"
     ]
    },
    {
     "name": "stderr",
     "output_type": "stream",
     "text": [
      "Files Downloaded: 100%|██████████| 1/1 [00:00<00:00,  1.22file/s]\n",
      "/home/pjgonzalesp/miniforge3/envs/sunpy/lib/python3.13/site-packages/astropy/units/quantity.py:659: RuntimeWarning: invalid value encountered in divide\n",
      "  result = super().__array_ufunc__(function, method, *arrays, **kwargs)\n"
     ]
    },
    {
     "name": "stdout",
     "output_type": "stream",
     "text": [
      "se calculó T y EM con el modelo de abundancias:coronal\n",
      "Ahora vamos a calcular la T y EM con el modelo de abundancias:photospheric\n"
     ]
    },
    {
     "name": "stderr",
     "output_type": "stream",
     "text": [
      "Files Downloaded: 100%|██████████| 1/1 [00:00<00:00,  1.16file/s]\n",
      "2025-10-24 15:17:01 - root - INFO: Searching for GOES flares between 2017-09-06 00:00:00 and 2017-09-07 00:00:00...\n"
     ]
    },
    {
     "name": "stdout",
     "output_type": "stream",
     "text": [
      "se calculó T y EM con el modelo de abundancias:photospheric\n",
      "4. CONSTRUIR df_full\n",
      "5. añadiendo observatorio: GOES: GOES-16\n",
      "se añadió observatorio: GOES: GOES-16\n",
      "6. Descargando flares: 2017-09-06 00:00:00 - 2017-09-07 00:00:00\n"
     ]
    },
    {
     "name": "stderr",
     "output_type": "stream",
     "text": [
      "2025-10-24 15:17:03 - root - INFO: Found 7 GOES solar flares between 2017-09-06 00:00:00 and 2017-09-07 00:00:00.\n",
      "Día 79 de 185: 2017-09-07\n"
     ]
    },
    {
     "name": "stdout",
     "output_type": "stream",
     "text": [
      "Se descargaron flares para el intervalo 2017-09-06 00:00:00 - 2017-09-07 00:00:00.\n",
      "7. Se filtraron solo flares de GOES.\n",
      "1. Descargar datos GOES\n",
      "Buscando datos de: 2017-09-07 00:00:00\n",
      "Descargando datos de 2017-09-07 00:00:00...\n"
     ]
    },
    {
     "name": "stderr",
     "output_type": "stream",
     "text": [
      "Files Downloaded:   0%|          | 0/6 [00:00<?, ?file/s]\n",
      "Files Downloaded:  17%|█▋        | 1/6 [00:00<00:02,  2.05file/s]\n",
      "\n",
      "\n",
      "Files Downloaded:  50%|█████     | 3/6 [00:00<00:00,  5.90file/s]\n",
      "\u001b[A\n",
      "\u001b[A\n",
      "\n",
      "\n",
      "\u001b[A\u001b[A\u001b[A\n",
      "\n",
      "\n",
      "\u001b[A\u001b[A\u001b[A\n",
      "\u001b[A\n",
      "\u001b[A\n",
      "Files Downloaded:  83%|████████▎ | 5/6 [00:01<00:00,  2.73file/s]\n",
      "\u001b[A\n",
      "\u001b[A\n",
      "\u001b[A\n",
      "\u001b[A\n",
      "\u001b[A\n",
      "\u001b[A\n",
      "\u001b[A\n",
      "\u001b[A\n",
      "\u001b[A\n",
      "\u001b[A\n",
      "\u001b[A\n",
      "\u001b[A\n",
      "\u001b[A\n",
      "\u001b[A\n",
      "\u001b[A\n",
      "\u001b[A\n",
      "\u001b[A\n",
      "\u001b[A\n",
      "\u001b[A\n",
      "\u001b[A\n",
      "\u001b[A\n",
      "\u001b[A\n",
      "\u001b[A\n",
      "\u001b[A\n",
      "Files Downloaded: 100%|██████████| 6/6 [00:05<00:00,  1.17file/s]\n"
     ]
    },
    {
     "name": "stdout",
     "output_type": "stream",
     "text": [
      "Resolution = 1 minute\n",
      "Gráfica guardada en 2025-10-24_Download_for_specific_days/Data/Month_2017_09/data_graphs/GOES_2017-09-07_00-00-00.png\n",
      "Observatorio encontrado: GOES-16\n",
      "Se encontraron datos  GOES para 2017-09-07 00:00:00 - 2017-09-08 00:00:00. Día saltado.\n",
      "\n",
      "Número de registros: 1440\n",
      "Columnas disponibles: ['xrsa', 'xrsb', 'xrsa_quality', 'xrsb_quality']\n",
      "2. Restar Background\n",
      "Plot saved at: 2025-10-24_Download_for_specific_days/Data/Month_2017_09/data_graphs/GOES_diff_linear_2017-09-07_00-00-00.png\n",
      "Plot saved at: 2025-10-24_Download_for_specific_days/Data/Month_2017_09/data_graphs/GOES_diff_log_2017-09-07_00-00-00.png\n"
     ]
    },
    {
     "name": "stderr",
     "output_type": "stream",
     "text": [
      "/tmp/ipykernel_2397830/750897493.py:225: FutureWarning: Downcasting behavior in Series and DataFrame methods 'where', 'mask', and 'clip' is deprecated. In a future version this will not infer object dtypes or cast all-round floats to integers. Instead call result.infer_objects(copy=False) for object inference, or cast round floats explicitly. To opt-in to the future behavior, set `pd.set_option('future.no_silent_downcasting', True)`\n",
      "  df_o = df_o.clip(lower=1e-9)\n",
      "WARNING: SunpyUserWarning: No information about primary/secondary detectors in XRSTimeSeries, assuming primary for all [sunkit_instruments.goes_xrs.goes_chianti_tem]\n",
      "2025-10-24 15:17:22 - sunpy - WARNING: SunpyUserWarning: No information about primary/secondary detectors in XRSTimeSeries, assuming primary for all\n"
     ]
    },
    {
     "name": "stdout",
     "output_type": "stream",
     "text": [
      "Plot saved at: 2025-10-24_Download_for_specific_days/Data/Month_2017_09/data_graphs/GOES_diff_positive_2017-09-07_00-00-00.png\n",
      "3. USAR FUNCIÓN SUNPY calculate_t_em\n",
      "Ahora vamos a calcular la T y EM con el modelo de abundancias:coronal\n"
     ]
    },
    {
     "name": "stderr",
     "output_type": "stream",
     "text": [
      "Files Downloaded: 100%|██████████| 1/1 [00:00<00:00,  1.19file/s]\n",
      "/home/pjgonzalesp/miniforge3/envs/sunpy/lib/python3.13/site-packages/astropy/units/quantity.py:659: RuntimeWarning: invalid value encountered in divide\n",
      "  result = super().__array_ufunc__(function, method, *arrays, **kwargs)\n"
     ]
    },
    {
     "name": "stdout",
     "output_type": "stream",
     "text": [
      "se calculó T y EM con el modelo de abundancias:coronal\n",
      "Ahora vamos a calcular la T y EM con el modelo de abundancias:photospheric\n"
     ]
    },
    {
     "name": "stderr",
     "output_type": "stream",
     "text": [
      "Files Downloaded: 100%|██████████| 1/1 [00:01<00:00,  1.34s/file]\n",
      "2025-10-24 15:17:25 - root - INFO: Searching for GOES flares between 2017-09-07 00:00:00 and 2017-09-08 00:00:00...\n"
     ]
    },
    {
     "name": "stdout",
     "output_type": "stream",
     "text": [
      "se calculó T y EM con el modelo de abundancias:photospheric\n",
      "4. CONSTRUIR df_full\n",
      "5. añadiendo observatorio: GOES: GOES-16\n",
      "se añadió observatorio: GOES: GOES-16\n",
      "6. Descargando flares: 2017-09-07 00:00:00 - 2017-09-08 00:00:00\n"
     ]
    },
    {
     "name": "stderr",
     "output_type": "stream",
     "text": [
      "2025-10-24 15:17:27 - root - INFO: Found 13 GOES solar flares between 2017-09-07 00:00:00 and 2017-09-08 00:00:00.\n",
      "Día 80 de 185: 2017-09-10\n"
     ]
    },
    {
     "name": "stdout",
     "output_type": "stream",
     "text": [
      "Se descargaron flares para el intervalo 2017-09-07 00:00:00 - 2017-09-08 00:00:00.\n",
      "7. Se filtraron solo flares de GOES.\n",
      "1. Descargar datos GOES\n",
      "Buscando datos de: 2017-09-10 00:00:00\n",
      "Descargando datos de 2017-09-10 00:00:00...\n"
     ]
    },
    {
     "name": "stderr",
     "output_type": "stream",
     "text": [
      "Files Downloaded: 100%|██████████| 6/6 [00:01<00:00,  5.68file/s]\n"
     ]
    },
    {
     "name": "stdout",
     "output_type": "stream",
     "text": [
      "Resolution = 1 minute\n",
      "Gráfica guardada en 2025-10-24_Download_for_specific_days/Data/Month_2017_09/data_graphs/GOES_2017-09-10_00-00-00.png\n",
      "Observatorio encontrado: GOES-16\n",
      "Se encontraron datos  GOES para 2017-09-10 00:00:00 - 2017-09-11 00:00:00. Día saltado.\n",
      "\n",
      "Número de registros: 1440\n",
      "Columnas disponibles: ['xrsa', 'xrsb', 'xrsa_quality', 'xrsb_quality']\n",
      "2. Restar Background\n",
      "Plot saved at: 2025-10-24_Download_for_specific_days/Data/Month_2017_09/data_graphs/GOES_diff_linear_2017-09-10_00-00-00.png\n",
      "Plot saved at: 2025-10-24_Download_for_specific_days/Data/Month_2017_09/data_graphs/GOES_diff_log_2017-09-10_00-00-00.png\n"
     ]
    },
    {
     "name": "stderr",
     "output_type": "stream",
     "text": [
      "/tmp/ipykernel_2397830/750897493.py:225: FutureWarning: Downcasting behavior in Series and DataFrame methods 'where', 'mask', and 'clip' is deprecated. In a future version this will not infer object dtypes or cast all-round floats to integers. Instead call result.infer_objects(copy=False) for object inference, or cast round floats explicitly. To opt-in to the future behavior, set `pd.set_option('future.no_silent_downcasting', True)`\n",
      "  df_o = df_o.clip(lower=1e-9)\n",
      "WARNING: SunpyUserWarning: No information about primary/secondary detectors in XRSTimeSeries, assuming primary for all [sunkit_instruments.goes_xrs.goes_chianti_tem]\n",
      "2025-10-24 15:17:42 - sunpy - WARNING: SunpyUserWarning: No information about primary/secondary detectors in XRSTimeSeries, assuming primary for all\n"
     ]
    },
    {
     "name": "stdout",
     "output_type": "stream",
     "text": [
      "Plot saved at: 2025-10-24_Download_for_specific_days/Data/Month_2017_09/data_graphs/GOES_diff_positive_2017-09-10_00-00-00.png\n",
      "3. USAR FUNCIÓN SUNPY calculate_t_em\n",
      "Ahora vamos a calcular la T y EM con el modelo de abundancias:coronal\n"
     ]
    },
    {
     "name": "stderr",
     "output_type": "stream",
     "text": [
      "Files Downloaded: 100%|██████████| 1/1 [00:00<00:00,  1.24file/s]\n",
      "/home/pjgonzalesp/miniforge3/envs/sunpy/lib/python3.13/site-packages/astropy/units/quantity.py:659: RuntimeWarning: invalid value encountered in divide\n",
      "  result = super().__array_ufunc__(function, method, *arrays, **kwargs)\n"
     ]
    },
    {
     "name": "stdout",
     "output_type": "stream",
     "text": [
      "se calculó T y EM con el modelo de abundancias:coronal\n",
      "Ahora vamos a calcular la T y EM con el modelo de abundancias:photospheric\n"
     ]
    },
    {
     "name": "stderr",
     "output_type": "stream",
     "text": [
      "Files Downloaded: 100%|██████████| 1/1 [00:00<00:00,  1.10file/s]\n",
      "2025-10-24 15:17:44 - root - INFO: Searching for GOES flares between 2017-09-10 00:00:00 and 2017-09-11 00:00:00...\n"
     ]
    },
    {
     "name": "stdout",
     "output_type": "stream",
     "text": [
      "se calculó T y EM con el modelo de abundancias:photospheric\n",
      "4. CONSTRUIR df_full\n",
      "5. añadiendo observatorio: GOES: GOES-16\n",
      "se añadió observatorio: GOES: GOES-16\n",
      "6. Descargando flares: 2017-09-10 00:00:00 - 2017-09-11 00:00:00\n"
     ]
    },
    {
     "name": "stderr",
     "output_type": "stream",
     "text": [
      "2025-10-24 15:17:46 - root - INFO: Found 6 GOES solar flares between 2017-09-10 00:00:00 and 2017-09-11 00:00:00.\n",
      "Día 81 de 185: 2021-07-03\n"
     ]
    },
    {
     "name": "stdout",
     "output_type": "stream",
     "text": [
      "Se descargaron flares para el intervalo 2017-09-10 00:00:00 - 2017-09-11 00:00:00.\n",
      "7. Se filtraron solo flares de GOES.\n",
      "💾 df_full_2017_09.csv actualizado (4320 filas)\n",
      "✅ Días descargados este mes: [datetime.date(2017, 9, 6), datetime.date(2017, 9, 7), datetime.date(2017, 9, 10)]\n",
      "💾 df_flare_data_2017_09.csv actualizado (26 filas)\n",
      "🏁 Mes 2017_09 terminado → 2025-10-24_Download_for_specific_days/Data/Month_2017_09\n",
      "\n",
      "========================================\n",
      "🟦 Procesando mes 2021_07 (1 días)\n",
      "========================================\n",
      "1. Descargar datos GOES\n",
      "Buscando datos de: 2021-07-03 00:00:00\n",
      "Descargando datos de 2021-07-03 00:00:00...\n"
     ]
    },
    {
     "name": "stderr",
     "output_type": "stream",
     "text": [
      "Files Downloaded:   0%|          | 0/4 [00:00<?, ?file/s]\n",
      "\n",
      "\n",
      "\u001b[A\u001b[A\u001b[A\n",
      "\u001b[A\n",
      "\n",
      "\u001b[A\u001b[A\n",
      "\n",
      "\n",
      "\u001b[A\u001b[A\u001b[A\n",
      "\u001b[A\n",
      "\n",
      "\n",
      "\u001b[A\u001b[A\u001b[A\n",
      "\n",
      "\u001b[A\u001b[A\n",
      "\u001b[A\n",
      "\n",
      "\n",
      "\u001b[A\u001b[A\u001b[A\n",
      "\n",
      "\u001b[A\u001b[A\n",
      "\u001b[A\n",
      "\n",
      "\n",
      "\u001b[A\u001b[A\u001b[A\n",
      "\u001b[A\n",
      "\n",
      "\u001b[A\u001b[A\n",
      "\n",
      "\n",
      "\u001b[A\u001b[A\u001b[A\n",
      "\u001b[A\n",
      "\n",
      "\u001b[A\u001b[A\n",
      "\n",
      "\n",
      "\u001b[A\u001b[A\u001b[A\n",
      "\u001b[A\n",
      "\n",
      "\n",
      "\u001b[A\u001b[A\u001b[A\n",
      "\n",
      "\u001b[A\u001b[A\n",
      "\u001b[A\n",
      "\n",
      "\n",
      "\u001b[A\u001b[A\u001b[A\n",
      "\n",
      "\u001b[A\u001b[A\n",
      "\u001b[A\n",
      "\n",
      "\n",
      "\u001b[A\u001b[A\u001b[A\n",
      "\u001b[A\n",
      "\n",
      "\u001b[A\u001b[A\n",
      "\n",
      "\n",
      "\u001b[A\u001b[A\u001b[A\n",
      "\u001b[A\n",
      "\n",
      "\u001b[A\u001b[A\n",
      "\n",
      "\n",
      "\u001b[A\u001b[A\u001b[A\n",
      "\n",
      "\u001b[A\u001b[A\n",
      "\u001b[A\n",
      "\n",
      "\n",
      "\u001b[A\u001b[A\u001b[A\n",
      "\n",
      "\u001b[A\u001b[A\n",
      "\u001b[A\n",
      "\n",
      "\n",
      "\u001b[A\u001b[A\u001b[A\n",
      "\n",
      "\u001b[A\u001b[A\n",
      "\u001b[A\n",
      "\n",
      "\n",
      "\u001b[A\u001b[A\u001b[A\n",
      "\n",
      "\u001b[A\u001b[A\n",
      "\u001b[A\n",
      "\n",
      "\n",
      "\u001b[A\u001b[A\u001b[A\n",
      "\n",
      "\u001b[A\u001b[A\n",
      "\n",
      "\n",
      "\u001b[A\u001b[A\u001b[A\n",
      "\u001b[A\n",
      "\n",
      "\n",
      "\u001b[A\u001b[A\u001b[A\n",
      "\n",
      "\u001b[A\u001b[A\n",
      "\u001b[A\n",
      "\n",
      "\n",
      "\u001b[A\u001b[A\u001b[A\n",
      "\u001b[A\n",
      "\n",
      "\u001b[A\u001b[A\n",
      "\n",
      "\n",
      "\u001b[A\u001b[A\u001b[A\n",
      "\u001b[A\n",
      "\n",
      "\u001b[A\u001b[A\n",
      "\n",
      "\n",
      "\u001b[A\u001b[A\u001b[A\n",
      "\u001b[A\n",
      "\n",
      "\n",
      "\u001b[A\u001b[A\u001b[A\n",
      "\n",
      "\u001b[A\u001b[A\n",
      "\u001b[A\n",
      "\n",
      "\n",
      "\u001b[A\u001b[A\u001b[A\n",
      "\n",
      "\u001b[A\u001b[A\n",
      "\u001b[A\n",
      "\n",
      "\n",
      "\u001b[A\u001b[A\u001b[A\n",
      "\u001b[A\n",
      "\n",
      "\u001b[A\u001b[A\n",
      "\n",
      "\n",
      "\u001b[A\u001b[A\u001b[A\n",
      "\u001b[A\n",
      "\n",
      "\n",
      "\u001b[A\u001b[A\u001b[A\n",
      "\n",
      "\u001b[A\u001b[A\n",
      "\n",
      "\u001b[A\u001b[A\n",
      "\u001b[A\n",
      "\n",
      "\n",
      "\u001b[A\u001b[A\u001b[A\n",
      "\n",
      "\n",
      "\u001b[A\u001b[A\u001b[A\n",
      "\n",
      "\u001b[A\u001b[A\n",
      "\u001b[A\n",
      "\n",
      "\n",
      "\u001b[A\u001b[A\u001b[A\n",
      "\n",
      "\u001b[A\u001b[A\n",
      "\n",
      "\u001b[A\u001b[A\n",
      "\u001b[A\n",
      "\n",
      "\n",
      "\u001b[A\u001b[A\u001b[A\n",
      "\n",
      "\u001b[A\u001b[A\n",
      "\n",
      "\n",
      "\u001b[A\u001b[A\u001b[A\n",
      "\u001b[A\n",
      "\n",
      "\u001b[A\u001b[A\n",
      "\n",
      "\u001b[A\u001b[A\n",
      "\u001b[A\n",
      "\n",
      "\u001b[A\u001b[A\n",
      "\u001b[A\n",
      "\n",
      "\n",
      "\u001b[A\u001b[A\u001b[A\n",
      "\n",
      "\u001b[A\u001b[A\n",
      "\u001b[A\n",
      "\n",
      "\u001b[A\u001b[A\n",
      "\n",
      "\n",
      "\u001b[A\u001b[A\u001b[A\n",
      "\u001b[A\n",
      "\n",
      "\u001b[A\u001b[A\n",
      "\u001b[A\n",
      "\n",
      "\n",
      "Files Downloaded:  25%|██▌       | 1/4 [00:05<00:16,  5.43s/file]\n",
      "\u001b[A\n",
      "\u001b[A\n",
      "\n",
      "\u001b[A\u001b[A\n",
      "Files Downloaded:  50%|█████     | 2/4 [00:05<00:04,  2.46s/file]\n",
      "\u001b[A\n",
      "\n",
      "Files Downloaded:  75%|███████▌  | 3/4 [00:05<00:01,  1.40s/file]\n",
      "\u001b[A\n",
      "\u001b[A\n",
      "\u001b[A\n",
      "\u001b[A\n",
      "\u001b[A\n",
      "\u001b[A\n",
      "\u001b[A\n",
      "Files Downloaded: 100%|██████████| 4/4 [00:07<00:00,  1.79s/file]\n"
     ]
    },
    {
     "name": "stdout",
     "output_type": "stream",
     "text": [
      "Resolution = 1 minute\n",
      "Gráfica guardada en 2025-10-24_Download_for_specific_days/Data/Month_2021_07/data_graphs/GOES_2021-07-03_00-00-00.png\n",
      "Observatorio encontrado: GOES-16\n",
      "Se encontraron datos  GOES para 2021-07-03 00:00:00 - 2021-07-04 00:00:00. Día saltado.\n",
      "\n",
      "Número de registros: 1440\n",
      "Columnas disponibles: ['xrsa', 'xrsb', 'xrsa_quality', 'xrsb_quality']\n",
      "2. Restar Background\n",
      "Plot saved at: 2025-10-24_Download_for_specific_days/Data/Month_2021_07/data_graphs/GOES_diff_linear_2021-07-03_00-00-00.png\n",
      "Plot saved at: 2025-10-24_Download_for_specific_days/Data/Month_2021_07/data_graphs/GOES_diff_log_2021-07-03_00-00-00.png\n"
     ]
    },
    {
     "name": "stderr",
     "output_type": "stream",
     "text": [
      "/tmp/ipykernel_2397830/750897493.py:225: FutureWarning: Downcasting behavior in Series and DataFrame methods 'where', 'mask', and 'clip' is deprecated. In a future version this will not infer object dtypes or cast all-round floats to integers. Instead call result.infer_objects(copy=False) for object inference, or cast round floats explicitly. To opt-in to the future behavior, set `pd.set_option('future.no_silent_downcasting', True)`\n",
      "  df_o = df_o.clip(lower=1e-9)\n",
      "WARNING: SunpyUserWarning: No information about primary/secondary detectors in XRSTimeSeries, assuming primary for all [sunkit_instruments.goes_xrs.goes_chianti_tem]\n",
      "2025-10-24 15:18:02 - sunpy - WARNING: SunpyUserWarning: No information about primary/secondary detectors in XRSTimeSeries, assuming primary for all\n"
     ]
    },
    {
     "name": "stdout",
     "output_type": "stream",
     "text": [
      "Plot saved at: 2025-10-24_Download_for_specific_days/Data/Month_2021_07/data_graphs/GOES_diff_positive_2021-07-03_00-00-00.png\n",
      "3. USAR FUNCIÓN SUNPY calculate_t_em\n",
      "Ahora vamos a calcular la T y EM con el modelo de abundancias:coronal\n"
     ]
    },
    {
     "name": "stderr",
     "output_type": "stream",
     "text": [
      "Files Downloaded: 100%|██████████| 1/1 [00:00<00:00,  1.22file/s]\n",
      "/home/pjgonzalesp/miniforge3/envs/sunpy/lib/python3.13/site-packages/astropy/units/quantity.py:659: RuntimeWarning: invalid value encountered in divide\n",
      "  result = super().__array_ufunc__(function, method, *arrays, **kwargs)\n"
     ]
    },
    {
     "name": "stdout",
     "output_type": "stream",
     "text": [
      "se calculó T y EM con el modelo de abundancias:coronal\n",
      "Ahora vamos a calcular la T y EM con el modelo de abundancias:photospheric\n"
     ]
    },
    {
     "name": "stderr",
     "output_type": "stream",
     "text": [
      "Files Downloaded: 100%|██████████| 1/1 [00:00<00:00,  1.17file/s]\n",
      "2025-10-24 15:18:05 - root - INFO: Searching for GOES flares between 2021-07-03 00:00:00 and 2021-07-04 00:00:00...\n"
     ]
    },
    {
     "name": "stdout",
     "output_type": "stream",
     "text": [
      "se calculó T y EM con el modelo de abundancias:photospheric\n",
      "4. CONSTRUIR df_full\n",
      "5. añadiendo observatorio: GOES: GOES-16\n",
      "se añadió observatorio: GOES: GOES-16\n",
      "6. Descargando flares: 2021-07-03 00:00:00 - 2021-07-04 00:00:00\n"
     ]
    },
    {
     "name": "stderr",
     "output_type": "stream",
     "text": [
      "2025-10-24 15:18:08 - root - INFO: Found 15 GOES solar flares between 2021-07-03 00:00:00 and 2021-07-04 00:00:00.\n",
      "Día 82 de 185: 2021-10-28\n"
     ]
    },
    {
     "name": "stdout",
     "output_type": "stream",
     "text": [
      "Se descargaron flares para el intervalo 2021-07-03 00:00:00 - 2021-07-04 00:00:00.\n",
      "7. Se filtraron solo flares de GOES.\n",
      "💾 df_full_2021_07.csv actualizado (1440 filas)\n",
      "✅ Días descargados este mes: [datetime.date(2021, 7, 3)]\n",
      "💾 df_flare_data_2021_07.csv actualizado (15 filas)\n",
      "🏁 Mes 2021_07 terminado → 2025-10-24_Download_for_specific_days/Data/Month_2021_07\n",
      "\n",
      "========================================\n",
      "🟦 Procesando mes 2021_10 (1 días)\n",
      "========================================\n",
      "1. Descargar datos GOES\n",
      "Buscando datos de: 2021-10-28 00:00:00\n",
      "Descargando datos de 2021-10-28 00:00:00...\n"
     ]
    },
    {
     "name": "stderr",
     "output_type": "stream",
     "text": [
      "Files Downloaded:   0%|          | 0/4 [00:00<?, ?file/s]\n",
      "\n",
      "\n",
      "\u001b[A\u001b[A\u001b[A\n",
      "Files Downloaded:  25%|██▌       | 1/4 [00:00<00:01,  1.99file/s]\n",
      "\n",
      "\n",
      "\u001b[A\u001b[A\u001b[A\n",
      "\u001b[A\n",
      "\u001b[A\n",
      "\n",
      "\n",
      "\u001b[A\u001b[A\u001b[A\n",
      "\u001b[A\n",
      "\n",
      "\n",
      "\u001b[A\u001b[A\u001b[A\n",
      "\u001b[A\n",
      "\n",
      "\n",
      "\u001b[A\u001b[A\u001b[A\n",
      "\n",
      "\n",
      "\u001b[A\u001b[A\u001b[A\n",
      "\u001b[A\n",
      "\n",
      "\n",
      "\u001b[A\u001b[A\u001b[A\n",
      "\u001b[A\n",
      "\n",
      "\n",
      "\u001b[A\u001b[A\u001b[A\n",
      "\u001b[A\n",
      "\n",
      "\n",
      "\u001b[A\u001b[A\u001b[A\n",
      "\u001b[A\n",
      "\n",
      "\n",
      "\u001b[A\u001b[A\u001b[A\n",
      "\u001b[A\n",
      "\n",
      "\n",
      "\u001b[A\u001b[A\u001b[A\n",
      "\u001b[A\n",
      "\n",
      "\n",
      "\u001b[A\u001b[A\u001b[A\n",
      "\u001b[A\n",
      "\n",
      "\n",
      "\u001b[A\u001b[A\u001b[A\n",
      "\u001b[A\n",
      "\n",
      "\n",
      "\u001b[A\u001b[A\u001b[A\n",
      "\n",
      "\n",
      "\u001b[A\u001b[A\u001b[A\n",
      "\u001b[A\n",
      "\u001b[A\n",
      "\n",
      "\n",
      "\u001b[A\u001b[A\u001b[A\n",
      "\n",
      "\n",
      "\u001b[A\u001b[A\u001b[A\n",
      "\u001b[A\n",
      "\n",
      "\n",
      "\u001b[A\u001b[A\u001b[A\n",
      "\u001b[A\n",
      "\n",
      "\n",
      "\u001b[A\u001b[A\u001b[A\n",
      "\u001b[A\n",
      "\n",
      "\n",
      "\u001b[A\u001b[A\u001b[A\n",
      "\u001b[A\n",
      "\n",
      "\n",
      "\u001b[A\u001b[A\u001b[A\n",
      "\u001b[A\n",
      "\n",
      "\n",
      "\u001b[A\u001b[A\u001b[A\n",
      "\u001b[A\n",
      "\u001b[A\n",
      "\u001b[A\n",
      "\n",
      "\n",
      "\u001b[A\u001b[A\u001b[A\n",
      "\u001b[A\n",
      "\n",
      "\n",
      "\u001b[A\u001b[A\u001b[A\n",
      "\u001b[A\n",
      "\u001b[A\n",
      "\n",
      "\n",
      "\u001b[A\u001b[A\u001b[A\n",
      "\n",
      "\n",
      "Files Downloaded:  75%|███████▌  | 3/4 [00:04<00:01,  1.55s/file]\n",
      "\u001b[A\n",
      "Files Downloaded: 100%|██████████| 4/4 [00:04<00:00,  1.18s/file]\n"
     ]
    },
    {
     "name": "stdout",
     "output_type": "stream",
     "text": [
      "Resolution = 1 minute\n",
      "Gráfica guardada en 2025-10-24_Download_for_specific_days/Data/Month_2021_10/data_graphs/GOES_2021-10-28_00-00-00.png\n",
      "Observatorio encontrado: GOES-16\n",
      "Se encontraron datos  GOES para 2021-10-28 00:00:00 - 2021-10-29 00:00:00. Día saltado.\n",
      "\n",
      "Número de registros: 1440\n",
      "Columnas disponibles: ['xrsa', 'xrsb', 'xrsa_quality', 'xrsb_quality']\n",
      "2. Restar Background\n",
      "Plot saved at: 2025-10-24_Download_for_specific_days/Data/Month_2021_10/data_graphs/GOES_diff_linear_2021-10-28_00-00-00.png\n",
      "Plot saved at: 2025-10-24_Download_for_specific_days/Data/Month_2021_10/data_graphs/GOES_diff_log_2021-10-28_00-00-00.png\n"
     ]
    },
    {
     "name": "stderr",
     "output_type": "stream",
     "text": [
      "/tmp/ipykernel_2397830/750897493.py:225: FutureWarning: Downcasting behavior in Series and DataFrame methods 'where', 'mask', and 'clip' is deprecated. In a future version this will not infer object dtypes or cast all-round floats to integers. Instead call result.infer_objects(copy=False) for object inference, or cast round floats explicitly. To opt-in to the future behavior, set `pd.set_option('future.no_silent_downcasting', True)`\n",
      "  df_o = df_o.clip(lower=1e-9)\n",
      "WARNING: SunpyUserWarning: No information about primary/secondary detectors in XRSTimeSeries, assuming primary for all [sunkit_instruments.goes_xrs.goes_chianti_tem]\n",
      "2025-10-24 15:18:21 - sunpy - WARNING: SunpyUserWarning: No information about primary/secondary detectors in XRSTimeSeries, assuming primary for all\n"
     ]
    },
    {
     "name": "stdout",
     "output_type": "stream",
     "text": [
      "Plot saved at: 2025-10-24_Download_for_specific_days/Data/Month_2021_10/data_graphs/GOES_diff_positive_2021-10-28_00-00-00.png\n",
      "3. USAR FUNCIÓN SUNPY calculate_t_em\n",
      "Ahora vamos a calcular la T y EM con el modelo de abundancias:coronal\n"
     ]
    },
    {
     "name": "stderr",
     "output_type": "stream",
     "text": [
      "Files Downloaded: 100%|██████████| 1/1 [00:00<00:00,  1.22file/s]\n",
      "/home/pjgonzalesp/miniforge3/envs/sunpy/lib/python3.13/site-packages/astropy/units/quantity.py:659: RuntimeWarning: invalid value encountered in divide\n",
      "  result = super().__array_ufunc__(function, method, *arrays, **kwargs)\n"
     ]
    },
    {
     "name": "stdout",
     "output_type": "stream",
     "text": [
      "se calculó T y EM con el modelo de abundancias:coronal\n",
      "Ahora vamos a calcular la T y EM con el modelo de abundancias:photospheric\n"
     ]
    },
    {
     "name": "stderr",
     "output_type": "stream",
     "text": [
      "Files Downloaded: 100%|██████████| 1/1 [00:00<00:00,  1.16file/s]\n",
      "2025-10-24 15:18:24 - root - INFO: Searching for GOES flares between 2021-10-28 00:00:00 and 2021-10-29 00:00:00...\n"
     ]
    },
    {
     "name": "stdout",
     "output_type": "stream",
     "text": [
      "se calculó T y EM con el modelo de abundancias:photospheric\n",
      "4. CONSTRUIR df_full\n",
      "5. añadiendo observatorio: GOES: GOES-16\n",
      "se añadió observatorio: GOES: GOES-16\n",
      "6. Descargando flares: 2021-10-28 00:00:00 - 2021-10-29 00:00:00\n"
     ]
    },
    {
     "name": "stderr",
     "output_type": "stream",
     "text": [
      "2025-10-24 15:18:26 - root - INFO: Found 12 GOES solar flares between 2021-10-28 00:00:00 and 2021-10-29 00:00:00.\n",
      "Día 83 de 185: 2022-03-30\n"
     ]
    },
    {
     "name": "stdout",
     "output_type": "stream",
     "text": [
      "Se descargaron flares para el intervalo 2021-10-28 00:00:00 - 2021-10-29 00:00:00.\n",
      "7. Se filtraron solo flares de GOES.\n",
      "💾 df_full_2021_10.csv actualizado (1440 filas)\n",
      "✅ Días descargados este mes: [datetime.date(2021, 10, 28)]\n",
      "💾 df_flare_data_2021_10.csv actualizado (12 filas)\n",
      "🏁 Mes 2021_10 terminado → 2025-10-24_Download_for_specific_days/Data/Month_2021_10\n",
      "\n",
      "========================================\n",
      "🟦 Procesando mes 2022_03 (1 días)\n",
      "========================================\n",
      "1. Descargar datos GOES\n",
      "Buscando datos de: 2022-03-30 00:00:00\n",
      "Descargando datos de 2022-03-30 00:00:00...\n"
     ]
    },
    {
     "name": "stderr",
     "output_type": "stream",
     "text": [
      "Files Downloaded: 100%|██████████| 4/4 [00:00<00:00,  8.16file/s]\n"
     ]
    },
    {
     "name": "stdout",
     "output_type": "stream",
     "text": [
      "Resolution = 1 minute\n",
      "Gráfica guardada en 2025-10-24_Download_for_specific_days/Data/Month_2022_03/data_graphs/GOES_2022-03-30_00-00-00.png\n",
      "Observatorio encontrado: GOES-16\n",
      "Se encontraron datos  GOES para 2022-03-30 00:00:00 - 2022-03-31 00:00:00. Día saltado.\n",
      "\n",
      "Número de registros: 1440\n",
      "Columnas disponibles: ['xrsa', 'xrsb', 'xrsa_quality', 'xrsb_quality']\n",
      "2. Restar Background\n",
      "Plot saved at: 2025-10-24_Download_for_specific_days/Data/Month_2022_03/data_graphs/GOES_diff_linear_2022-03-30_00-00-00.png\n",
      "Plot saved at: 2025-10-24_Download_for_specific_days/Data/Month_2022_03/data_graphs/GOES_diff_log_2022-03-30_00-00-00.png\n"
     ]
    },
    {
     "name": "stderr",
     "output_type": "stream",
     "text": [
      "/tmp/ipykernel_2397830/750897493.py:225: FutureWarning: Downcasting behavior in Series and DataFrame methods 'where', 'mask', and 'clip' is deprecated. In a future version this will not infer object dtypes or cast all-round floats to integers. Instead call result.infer_objects(copy=False) for object inference, or cast round floats explicitly. To opt-in to the future behavior, set `pd.set_option('future.no_silent_downcasting', True)`\n",
      "  df_o = df_o.clip(lower=1e-9)\n",
      "WARNING: SunpyUserWarning: No information about primary/secondary detectors in XRSTimeSeries, assuming primary for all [sunkit_instruments.goes_xrs.goes_chianti_tem]\n",
      "2025-10-24 15:18:35 - sunpy - WARNING: SunpyUserWarning: No information about primary/secondary detectors in XRSTimeSeries, assuming primary for all\n"
     ]
    },
    {
     "name": "stdout",
     "output_type": "stream",
     "text": [
      "Plot saved at: 2025-10-24_Download_for_specific_days/Data/Month_2022_03/data_graphs/GOES_diff_positive_2022-03-30_00-00-00.png\n",
      "3. USAR FUNCIÓN SUNPY calculate_t_em\n",
      "Ahora vamos a calcular la T y EM con el modelo de abundancias:coronal\n"
     ]
    },
    {
     "name": "stderr",
     "output_type": "stream",
     "text": [
      "Files Downloaded: 100%|██████████| 1/1 [00:00<00:00,  1.23file/s]\n",
      "/home/pjgonzalesp/miniforge3/envs/sunpy/lib/python3.13/site-packages/astropy/units/quantity.py:659: RuntimeWarning: invalid value encountered in divide\n",
      "  result = super().__array_ufunc__(function, method, *arrays, **kwargs)\n"
     ]
    },
    {
     "name": "stdout",
     "output_type": "stream",
     "text": [
      "se calculó T y EM con el modelo de abundancias:coronal\n",
      "Ahora vamos a calcular la T y EM con el modelo de abundancias:photospheric\n"
     ]
    },
    {
     "name": "stderr",
     "output_type": "stream",
     "text": [
      "Files Downloaded: 100%|██████████| 1/1 [00:00<00:00,  1.17file/s]\n",
      "2025-10-24 15:18:38 - root - INFO: Searching for GOES flares between 2022-03-30 00:00:00 and 2022-03-31 00:00:00...\n"
     ]
    },
    {
     "name": "stdout",
     "output_type": "stream",
     "text": [
      "se calculó T y EM con el modelo de abundancias:photospheric\n",
      "4. CONSTRUIR df_full\n",
      "5. añadiendo observatorio: GOES: GOES-16\n",
      "se añadió observatorio: GOES: GOES-16\n",
      "6. Descargando flares: 2022-03-30 00:00:00 - 2022-03-31 00:00:00\n"
     ]
    },
    {
     "name": "stderr",
     "output_type": "stream",
     "text": [
      "2025-10-24 15:18:40 - root - INFO: Found 12 GOES solar flares between 2022-03-30 00:00:00 and 2022-03-31 00:00:00.\n",
      "Día 84 de 185: 2022-04-17\n"
     ]
    },
    {
     "name": "stdout",
     "output_type": "stream",
     "text": [
      "Se descargaron flares para el intervalo 2022-03-30 00:00:00 - 2022-03-31 00:00:00.\n",
      "7. Se filtraron solo flares de GOES.\n",
      "💾 df_full_2022_03.csv actualizado (1440 filas)\n",
      "✅ Días descargados este mes: [datetime.date(2022, 3, 30)]\n",
      "💾 df_flare_data_2022_03.csv actualizado (12 filas)\n",
      "🏁 Mes 2022_03 terminado → 2025-10-24_Download_for_specific_days/Data/Month_2022_03\n",
      "\n",
      "========================================\n",
      "🟦 Procesando mes 2022_04 (3 días)\n",
      "========================================\n",
      "1. Descargar datos GOES\n",
      "Buscando datos de: 2022-04-17 00:00:00\n",
      "Descargando datos de 2022-04-17 00:00:00...\n"
     ]
    },
    {
     "name": "stderr",
     "output_type": "stream",
     "text": [
      "Files Downloaded: 100%|██████████| 4/4 [00:00<00:00,  8.20file/s]\n"
     ]
    },
    {
     "name": "stdout",
     "output_type": "stream",
     "text": [
      "Resolution = 1 minute\n",
      "Gráfica guardada en 2025-10-24_Download_for_specific_days/Data/Month_2022_04/data_graphs/GOES_2022-04-17_00-00-00.png\n",
      "Observatorio encontrado: GOES-16\n",
      "Se encontraron datos  GOES para 2022-04-17 00:00:00 - 2022-04-18 00:00:00. Día saltado.\n",
      "\n",
      "Número de registros: 1440\n",
      "Columnas disponibles: ['xrsa', 'xrsb', 'xrsa_quality', 'xrsb_quality']\n",
      "2. Restar Background\n",
      "Plot saved at: 2025-10-24_Download_for_specific_days/Data/Month_2022_04/data_graphs/GOES_diff_linear_2022-04-17_00-00-00.png\n",
      "Plot saved at: 2025-10-24_Download_for_specific_days/Data/Month_2022_04/data_graphs/GOES_diff_log_2022-04-17_00-00-00.png\n"
     ]
    },
    {
     "name": "stderr",
     "output_type": "stream",
     "text": [
      "/tmp/ipykernel_2397830/750897493.py:225: FutureWarning: Downcasting behavior in Series and DataFrame methods 'where', 'mask', and 'clip' is deprecated. In a future version this will not infer object dtypes or cast all-round floats to integers. Instead call result.infer_objects(copy=False) for object inference, or cast round floats explicitly. To opt-in to the future behavior, set `pd.set_option('future.no_silent_downcasting', True)`\n",
      "  df_o = df_o.clip(lower=1e-9)\n",
      "WARNING: SunpyUserWarning: No information about primary/secondary detectors in XRSTimeSeries, assuming primary for all [sunkit_instruments.goes_xrs.goes_chianti_tem]\n",
      "2025-10-24 15:18:50 - sunpy - WARNING: SunpyUserWarning: No information about primary/secondary detectors in XRSTimeSeries, assuming primary for all\n"
     ]
    },
    {
     "name": "stdout",
     "output_type": "stream",
     "text": [
      "Plot saved at: 2025-10-24_Download_for_specific_days/Data/Month_2022_04/data_graphs/GOES_diff_positive_2022-04-17_00-00-00.png\n",
      "3. USAR FUNCIÓN SUNPY calculate_t_em\n",
      "Ahora vamos a calcular la T y EM con el modelo de abundancias:coronal\n"
     ]
    },
    {
     "name": "stderr",
     "output_type": "stream",
     "text": [
      "Files Downloaded: 100%|██████████| 1/1 [00:01<00:00,  1.42s/file]\n",
      "/home/pjgonzalesp/miniforge3/envs/sunpy/lib/python3.13/site-packages/astropy/units/quantity.py:659: RuntimeWarning: invalid value encountered in divide\n",
      "  result = super().__array_ufunc__(function, method, *arrays, **kwargs)\n"
     ]
    },
    {
     "name": "stdout",
     "output_type": "stream",
     "text": [
      "se calculó T y EM con el modelo de abundancias:coronal\n",
      "Ahora vamos a calcular la T y EM con el modelo de abundancias:photospheric\n"
     ]
    },
    {
     "name": "stderr",
     "output_type": "stream",
     "text": [
      "Files Downloaded: 100%|██████████| 1/1 [00:01<00:00,  1.09s/file]\n",
      "2025-10-24 15:18:53 - root - INFO: Searching for GOES flares between 2022-04-17 00:00:00 and 2022-04-18 00:00:00...\n"
     ]
    },
    {
     "name": "stdout",
     "output_type": "stream",
     "text": [
      "se calculó T y EM con el modelo de abundancias:photospheric\n",
      "4. CONSTRUIR df_full\n",
      "5. añadiendo observatorio: GOES: GOES-16\n",
      "se añadió observatorio: GOES: GOES-16\n",
      "6. Descargando flares: 2022-04-17 00:00:00 - 2022-04-18 00:00:00\n"
     ]
    },
    {
     "name": "stderr",
     "output_type": "stream",
     "text": [
      "2025-10-24 15:18:58 - root - INFO: Found 13 GOES solar flares between 2022-04-17 00:00:00 and 2022-04-18 00:00:00.\n",
      "Día 85 de 185: 2022-04-20\n"
     ]
    },
    {
     "name": "stdout",
     "output_type": "stream",
     "text": [
      "Se descargaron flares para el intervalo 2022-04-17 00:00:00 - 2022-04-18 00:00:00.\n",
      "7. Se filtraron solo flares de GOES.\n",
      "1. Descargar datos GOES\n",
      "Buscando datos de: 2022-04-20 00:00:00\n",
      "Descargando datos de 2022-04-20 00:00:00...\n"
     ]
    },
    {
     "name": "stderr",
     "output_type": "stream",
     "text": [
      "Files Downloaded: 100%|██████████| 4/4 [00:00<00:00,  7.97file/s]\n"
     ]
    },
    {
     "name": "stdout",
     "output_type": "stream",
     "text": [
      "Resolution = 1 minute\n",
      "Gráfica guardada en 2025-10-24_Download_for_specific_days/Data/Month_2022_04/data_graphs/GOES_2022-04-20_00-00-00.png\n",
      "Observatorio encontrado: GOES-16\n",
      "Se encontraron datos  GOES para 2022-04-20 00:00:00 - 2022-04-21 00:00:00. Día saltado.\n",
      "\n",
      "Número de registros: 1440\n",
      "Columnas disponibles: ['xrsa', 'xrsb', 'xrsa_quality', 'xrsb_quality']\n",
      "2. Restar Background\n",
      "Plot saved at: 2025-10-24_Download_for_specific_days/Data/Month_2022_04/data_graphs/GOES_diff_linear_2022-04-20_00-00-00.png\n",
      "Plot saved at: 2025-10-24_Download_for_specific_days/Data/Month_2022_04/data_graphs/GOES_diff_log_2022-04-20_00-00-00.png\n"
     ]
    },
    {
     "name": "stderr",
     "output_type": "stream",
     "text": [
      "/tmp/ipykernel_2397830/750897493.py:225: FutureWarning: Downcasting behavior in Series and DataFrame methods 'where', 'mask', and 'clip' is deprecated. In a future version this will not infer object dtypes or cast all-round floats to integers. Instead call result.infer_objects(copy=False) for object inference, or cast round floats explicitly. To opt-in to the future behavior, set `pd.set_option('future.no_silent_downcasting', True)`\n",
      "  df_o = df_o.clip(lower=1e-9)\n",
      "WARNING: SunpyUserWarning: No information about primary/secondary detectors in XRSTimeSeries, assuming primary for all [sunkit_instruments.goes_xrs.goes_chianti_tem]\n",
      "2025-10-24 15:19:07 - sunpy - WARNING: SunpyUserWarning: No information about primary/secondary detectors in XRSTimeSeries, assuming primary for all\n"
     ]
    },
    {
     "name": "stdout",
     "output_type": "stream",
     "text": [
      "Plot saved at: 2025-10-24_Download_for_specific_days/Data/Month_2022_04/data_graphs/GOES_diff_positive_2022-04-20_00-00-00.png\n",
      "3. USAR FUNCIÓN SUNPY calculate_t_em\n",
      "Ahora vamos a calcular la T y EM con el modelo de abundancias:coronal\n"
     ]
    },
    {
     "name": "stderr",
     "output_type": "stream",
     "text": [
      "Files Downloaded: 100%|██████████| 1/1 [00:00<00:00,  1.16file/s]\n",
      "/home/pjgonzalesp/miniforge3/envs/sunpy/lib/python3.13/site-packages/astropy/units/quantity.py:659: RuntimeWarning: invalid value encountered in divide\n",
      "  result = super().__array_ufunc__(function, method, *arrays, **kwargs)\n"
     ]
    },
    {
     "name": "stdout",
     "output_type": "stream",
     "text": [
      "se calculó T y EM con el modelo de abundancias:coronal\n",
      "Ahora vamos a calcular la T y EM con el modelo de abundancias:photospheric\n"
     ]
    },
    {
     "name": "stderr",
     "output_type": "stream",
     "text": [
      "Files Downloaded: 100%|██████████| 1/1 [00:00<00:00,  1.17file/s]\n",
      "2025-10-24 15:19:09 - root - INFO: Searching for GOES flares between 2022-04-20 00:00:00 and 2022-04-21 00:00:00...\n"
     ]
    },
    {
     "name": "stdout",
     "output_type": "stream",
     "text": [
      "se calculó T y EM con el modelo de abundancias:photospheric\n",
      "4. CONSTRUIR df_full\n",
      "5. añadiendo observatorio: GOES: GOES-16\n",
      "se añadió observatorio: GOES: GOES-16\n",
      "6. Descargando flares: 2022-04-20 00:00:00 - 2022-04-21 00:00:00\n"
     ]
    },
    {
     "name": "stderr",
     "output_type": "stream",
     "text": [
      "2025-10-24 15:19:12 - root - INFO: Found 17 GOES solar flares between 2022-04-20 00:00:00 and 2022-04-21 00:00:00.\n",
      "Día 86 de 185: 2022-04-30\n"
     ]
    },
    {
     "name": "stdout",
     "output_type": "stream",
     "text": [
      "Se descargaron flares para el intervalo 2022-04-20 00:00:00 - 2022-04-21 00:00:00.\n",
      "7. Se filtraron solo flares de GOES.\n",
      "1. Descargar datos GOES\n",
      "Buscando datos de: 2022-04-30 00:00:00\n",
      "Descargando datos de 2022-04-30 00:00:00...\n"
     ]
    },
    {
     "name": "stderr",
     "output_type": "stream",
     "text": [
      "Files Downloaded: 100%|██████████| 4/4 [00:00<00:00,  8.19file/s]\n"
     ]
    },
    {
     "name": "stdout",
     "output_type": "stream",
     "text": [
      "Resolution = 1 minute\n",
      "Gráfica guardada en 2025-10-24_Download_for_specific_days/Data/Month_2022_04/data_graphs/GOES_2022-04-30_00-00-00.png\n",
      "Observatorio encontrado: GOES-16\n",
      "Se encontraron datos  GOES para 2022-04-30 00:00:00 - 2022-05-01 00:00:00. Día saltado.\n",
      "\n",
      "Número de registros: 1440\n",
      "Columnas disponibles: ['xrsa', 'xrsb', 'xrsa_quality', 'xrsb_quality']\n",
      "2. Restar Background\n",
      "Plot saved at: 2025-10-24_Download_for_specific_days/Data/Month_2022_04/data_graphs/GOES_diff_linear_2022-04-30_00-00-00.png\n",
      "Plot saved at: 2025-10-24_Download_for_specific_days/Data/Month_2022_04/data_graphs/GOES_diff_log_2022-04-30_00-00-00.png\n"
     ]
    },
    {
     "name": "stderr",
     "output_type": "stream",
     "text": [
      "/tmp/ipykernel_2397830/750897493.py:225: FutureWarning: Downcasting behavior in Series and DataFrame methods 'where', 'mask', and 'clip' is deprecated. In a future version this will not infer object dtypes or cast all-round floats to integers. Instead call result.infer_objects(copy=False) for object inference, or cast round floats explicitly. To opt-in to the future behavior, set `pd.set_option('future.no_silent_downcasting', True)`\n",
      "  df_o = df_o.clip(lower=1e-9)\n",
      "WARNING: SunpyUserWarning: No information about primary/secondary detectors in XRSTimeSeries, assuming primary for all [sunkit_instruments.goes_xrs.goes_chianti_tem]\n",
      "2025-10-24 15:19:23 - sunpy - WARNING: SunpyUserWarning: No information about primary/secondary detectors in XRSTimeSeries, assuming primary for all\n"
     ]
    },
    {
     "name": "stdout",
     "output_type": "stream",
     "text": [
      "Plot saved at: 2025-10-24_Download_for_specific_days/Data/Month_2022_04/data_graphs/GOES_diff_positive_2022-04-30_00-00-00.png\n",
      "3. USAR FUNCIÓN SUNPY calculate_t_em\n",
      "Ahora vamos a calcular la T y EM con el modelo de abundancias:coronal\n"
     ]
    },
    {
     "name": "stderr",
     "output_type": "stream",
     "text": [
      "Files Downloaded: 100%|██████████| 1/1 [00:00<00:00,  1.10file/s]\n",
      "/home/pjgonzalesp/miniforge3/envs/sunpy/lib/python3.13/site-packages/astropy/units/quantity.py:659: RuntimeWarning: invalid value encountered in divide\n",
      "  result = super().__array_ufunc__(function, method, *arrays, **kwargs)\n"
     ]
    },
    {
     "name": "stdout",
     "output_type": "stream",
     "text": [
      "se calculó T y EM con el modelo de abundancias:coronal\n",
      "Ahora vamos a calcular la T y EM con el modelo de abundancias:photospheric\n"
     ]
    },
    {
     "name": "stderr",
     "output_type": "stream",
     "text": [
      "Files Downloaded: 100%|██████████| 1/1 [00:00<00:00,  1.21file/s]\n",
      "2025-10-24 15:19:25 - root - INFO: Searching for GOES flares between 2022-04-30 00:00:00 and 2022-05-01 00:00:00...\n"
     ]
    },
    {
     "name": "stdout",
     "output_type": "stream",
     "text": [
      "se calculó T y EM con el modelo de abundancias:photospheric\n",
      "4. CONSTRUIR df_full\n",
      "5. añadiendo observatorio: GOES: GOES-16\n",
      "se añadió observatorio: GOES: GOES-16\n",
      "6. Descargando flares: 2022-04-30 00:00:00 - 2022-05-01 00:00:00\n"
     ]
    },
    {
     "name": "stderr",
     "output_type": "stream",
     "text": [
      "2025-10-24 15:19:28 - root - INFO: Found 20 GOES solar flares between 2022-04-30 00:00:00 and 2022-05-01 00:00:00.\n",
      "Día 87 de 185: 2022-05-03\n"
     ]
    },
    {
     "name": "stdout",
     "output_type": "stream",
     "text": [
      "Se descargaron flares para el intervalo 2022-04-30 00:00:00 - 2022-05-01 00:00:00.\n",
      "7. Se filtraron solo flares de GOES.\n",
      "💾 df_full_2022_04.csv actualizado (4320 filas)\n",
      "✅ Días descargados este mes: [datetime.date(2022, 4, 17), datetime.date(2022, 4, 20), datetime.date(2022, 4, 30)]\n",
      "💾 df_flare_data_2022_04.csv actualizado (50 filas)\n",
      "🏁 Mes 2022_04 terminado → 2025-10-24_Download_for_specific_days/Data/Month_2022_04\n",
      "\n",
      "========================================\n",
      "🟦 Procesando mes 2022_05 (2 días)\n",
      "========================================\n",
      "1. Descargar datos GOES\n",
      "Buscando datos de: 2022-05-03 00:00:00\n",
      "Descargando datos de 2022-05-03 00:00:00...\n"
     ]
    },
    {
     "name": "stderr",
     "output_type": "stream",
     "text": [
      "Files Downloaded: 100%|██████████| 4/4 [00:00<00:00,  7.80file/s]\n"
     ]
    },
    {
     "name": "stdout",
     "output_type": "stream",
     "text": [
      "Resolution = 1 minute\n",
      "Gráfica guardada en 2025-10-24_Download_for_specific_days/Data/Month_2022_05/data_graphs/GOES_2022-05-03_00-00-00.png\n",
      "Observatorio encontrado: GOES-16\n",
      "Se encontraron datos  GOES para 2022-05-03 00:00:00 - 2022-05-04 00:00:00. Día saltado.\n",
      "\n",
      "Número de registros: 1440\n",
      "Columnas disponibles: ['xrsa', 'xrsb', 'xrsa_quality', 'xrsb_quality']\n",
      "2. Restar Background\n",
      "Plot saved at: 2025-10-24_Download_for_specific_days/Data/Month_2022_05/data_graphs/GOES_diff_linear_2022-05-03_00-00-00.png\n",
      "Plot saved at: 2025-10-24_Download_for_specific_days/Data/Month_2022_05/data_graphs/GOES_diff_log_2022-05-03_00-00-00.png\n"
     ]
    },
    {
     "name": "stderr",
     "output_type": "stream",
     "text": [
      "/tmp/ipykernel_2397830/750897493.py:225: FutureWarning: Downcasting behavior in Series and DataFrame methods 'where', 'mask', and 'clip' is deprecated. In a future version this will not infer object dtypes or cast all-round floats to integers. Instead call result.infer_objects(copy=False) for object inference, or cast round floats explicitly. To opt-in to the future behavior, set `pd.set_option('future.no_silent_downcasting', True)`\n",
      "  df_o = df_o.clip(lower=1e-9)\n",
      "WARNING: SunpyUserWarning: No information about primary/secondary detectors in XRSTimeSeries, assuming primary for all [sunkit_instruments.goes_xrs.goes_chianti_tem]\n",
      "2025-10-24 15:19:37 - sunpy - WARNING: SunpyUserWarning: No information about primary/secondary detectors in XRSTimeSeries, assuming primary for all\n"
     ]
    },
    {
     "name": "stdout",
     "output_type": "stream",
     "text": [
      "Plot saved at: 2025-10-24_Download_for_specific_days/Data/Month_2022_05/data_graphs/GOES_diff_positive_2022-05-03_00-00-00.png\n",
      "3. USAR FUNCIÓN SUNPY calculate_t_em\n",
      "Ahora vamos a calcular la T y EM con el modelo de abundancias:coronal\n"
     ]
    },
    {
     "name": "stderr",
     "output_type": "stream",
     "text": [
      "Files Downloaded: 100%|██████████| 1/1 [00:00<00:00,  1.17file/s]\n",
      "/home/pjgonzalesp/miniforge3/envs/sunpy/lib/python3.13/site-packages/astropy/units/quantity.py:659: RuntimeWarning: invalid value encountered in divide\n",
      "  result = super().__array_ufunc__(function, method, *arrays, **kwargs)\n"
     ]
    },
    {
     "name": "stdout",
     "output_type": "stream",
     "text": [
      "se calculó T y EM con el modelo de abundancias:coronal\n",
      "Ahora vamos a calcular la T y EM con el modelo de abundancias:photospheric\n"
     ]
    },
    {
     "name": "stderr",
     "output_type": "stream",
     "text": [
      "Files Downloaded: 100%|██████████| 1/1 [00:00<00:00,  1.18file/s]\n",
      "2025-10-24 15:19:40 - root - INFO: Searching for GOES flares between 2022-05-03 00:00:00 and 2022-05-04 00:00:00...\n"
     ]
    },
    {
     "name": "stdout",
     "output_type": "stream",
     "text": [
      "se calculó T y EM con el modelo de abundancias:photospheric\n",
      "4. CONSTRUIR df_full\n",
      "5. añadiendo observatorio: GOES: GOES-16\n",
      "se añadió observatorio: GOES: GOES-16\n",
      "6. Descargando flares: 2022-05-03 00:00:00 - 2022-05-04 00:00:00\n"
     ]
    },
    {
     "name": "stderr",
     "output_type": "stream",
     "text": [
      "2025-10-24 15:19:43 - root - INFO: Found 13 GOES solar flares between 2022-05-03 00:00:00 and 2022-05-04 00:00:00.\n",
      "Día 88 de 185: 2022-05-10\n"
     ]
    },
    {
     "name": "stdout",
     "output_type": "stream",
     "text": [
      "Se descargaron flares para el intervalo 2022-05-03 00:00:00 - 2022-05-04 00:00:00.\n",
      "7. Se filtraron solo flares de GOES.\n",
      "1. Descargar datos GOES\n",
      "Buscando datos de: 2022-05-10 00:00:00\n",
      "Descargando datos de 2022-05-10 00:00:00...\n"
     ]
    },
    {
     "name": "stderr",
     "output_type": "stream",
     "text": [
      "Files Downloaded: 100%|██████████| 4/4 [00:00<00:00,  7.43file/s]\n"
     ]
    },
    {
     "name": "stdout",
     "output_type": "stream",
     "text": [
      "Resolution = 1 minute\n",
      "Gráfica guardada en 2025-10-24_Download_for_specific_days/Data/Month_2022_05/data_graphs/GOES_2022-05-10_00-00-00.png\n",
      "Observatorio encontrado: GOES-16\n",
      "Se encontraron datos  GOES para 2022-05-10 00:00:00 - 2022-05-11 00:00:00. Día saltado.\n",
      "\n",
      "Número de registros: 1440\n",
      "Columnas disponibles: ['xrsa', 'xrsb', 'xrsa_quality', 'xrsb_quality']\n",
      "2. Restar Background\n",
      "Plot saved at: 2025-10-24_Download_for_specific_days/Data/Month_2022_05/data_graphs/GOES_diff_linear_2022-05-10_00-00-00.png\n",
      "Plot saved at: 2025-10-24_Download_for_specific_days/Data/Month_2022_05/data_graphs/GOES_diff_log_2022-05-10_00-00-00.png\n"
     ]
    },
    {
     "name": "stderr",
     "output_type": "stream",
     "text": [
      "/tmp/ipykernel_2397830/750897493.py:225: FutureWarning: Downcasting behavior in Series and DataFrame methods 'where', 'mask', and 'clip' is deprecated. In a future version this will not infer object dtypes or cast all-round floats to integers. Instead call result.infer_objects(copy=False) for object inference, or cast round floats explicitly. To opt-in to the future behavior, set `pd.set_option('future.no_silent_downcasting', True)`\n",
      "  df_o = df_o.clip(lower=1e-9)\n",
      "WARNING: SunpyUserWarning: No information about primary/secondary detectors in XRSTimeSeries, assuming primary for all [sunkit_instruments.goes_xrs.goes_chianti_tem]\n",
      "2025-10-24 15:19:52 - sunpy - WARNING: SunpyUserWarning: No information about primary/secondary detectors in XRSTimeSeries, assuming primary for all\n"
     ]
    },
    {
     "name": "stdout",
     "output_type": "stream",
     "text": [
      "Plot saved at: 2025-10-24_Download_for_specific_days/Data/Month_2022_05/data_graphs/GOES_diff_positive_2022-05-10_00-00-00.png\n",
      "3. USAR FUNCIÓN SUNPY calculate_t_em\n",
      "Ahora vamos a calcular la T y EM con el modelo de abundancias:coronal\n"
     ]
    },
    {
     "name": "stderr",
     "output_type": "stream",
     "text": [
      "Files Downloaded: 100%|██████████| 1/1 [00:00<00:00,  1.21file/s]\n",
      "/home/pjgonzalesp/miniforge3/envs/sunpy/lib/python3.13/site-packages/astropy/units/quantity.py:659: RuntimeWarning: invalid value encountered in divide\n",
      "  result = super().__array_ufunc__(function, method, *arrays, **kwargs)\n"
     ]
    },
    {
     "name": "stdout",
     "output_type": "stream",
     "text": [
      "se calculó T y EM con el modelo de abundancias:coronal\n",
      "Ahora vamos a calcular la T y EM con el modelo de abundancias:photospheric\n"
     ]
    },
    {
     "name": "stderr",
     "output_type": "stream",
     "text": [
      "Files Downloaded: 100%|██████████| 1/1 [00:00<00:00,  1.23file/s]\n",
      "2025-10-24 15:19:54 - root - INFO: Searching for GOES flares between 2022-05-10 00:00:00 and 2022-05-11 00:00:00...\n"
     ]
    },
    {
     "name": "stdout",
     "output_type": "stream",
     "text": [
      "se calculó T y EM con el modelo de abundancias:photospheric\n",
      "4. CONSTRUIR df_full\n",
      "5. añadiendo observatorio: GOES: GOES-16\n",
      "se añadió observatorio: GOES: GOES-16\n",
      "6. Descargando flares: 2022-05-10 00:00:00 - 2022-05-11 00:00:00\n"
     ]
    },
    {
     "name": "stderr",
     "output_type": "stream",
     "text": [
      "2025-10-24 15:19:56 - root - INFO: Found 12 GOES solar flares between 2022-05-10 00:00:00 and 2022-05-11 00:00:00.\n",
      "Día 89 de 185: 2022-10-02\n"
     ]
    },
    {
     "name": "stdout",
     "output_type": "stream",
     "text": [
      "Se descargaron flares para el intervalo 2022-05-10 00:00:00 - 2022-05-11 00:00:00.\n",
      "7. Se filtraron solo flares de GOES.\n",
      "💾 df_full_2022_05.csv actualizado (2880 filas)\n",
      "✅ Días descargados este mes: [datetime.date(2022, 5, 3), datetime.date(2022, 5, 10)]\n",
      "💾 df_flare_data_2022_05.csv actualizado (25 filas)\n",
      "🏁 Mes 2022_05 terminado → 2025-10-24_Download_for_specific_days/Data/Month_2022_05\n",
      "\n",
      "========================================\n",
      "🟦 Procesando mes 2022_10 (1 días)\n",
      "========================================\n",
      "1. Descargar datos GOES\n",
      "Buscando datos de: 2022-10-02 00:00:00\n",
      "Descargando datos de 2022-10-02 00:00:00...\n"
     ]
    },
    {
     "name": "stderr",
     "output_type": "stream",
     "text": [
      "Files Downloaded: 100%|██████████| 6/6 [00:00<00:00,  6.21file/s]\n"
     ]
    },
    {
     "name": "stdout",
     "output_type": "stream",
     "text": [
      "Resolution = 1 minute\n",
      "Gráfica guardada en 2025-10-24_Download_for_specific_days/Data/Month_2022_10/data_graphs/GOES_2022-10-02_00-00-00.png\n",
      "Observatorio encontrado: GOES-16\n",
      "Se encontraron datos  GOES para 2022-10-02 00:00:00 - 2022-10-03 00:00:00. Día saltado.\n",
      "\n",
      "Número de registros: 1440\n",
      "Columnas disponibles: ['xrsa', 'xrsb', 'xrsa_quality', 'xrsb_quality']\n",
      "2. Restar Background\n",
      "Plot saved at: 2025-10-24_Download_for_specific_days/Data/Month_2022_10/data_graphs/GOES_diff_linear_2022-10-02_00-00-00.png\n",
      "Plot saved at: 2025-10-24_Download_for_specific_days/Data/Month_2022_10/data_graphs/GOES_diff_log_2022-10-02_00-00-00.png\n"
     ]
    },
    {
     "name": "stderr",
     "output_type": "stream",
     "text": [
      "/tmp/ipykernel_2397830/750897493.py:225: FutureWarning: Downcasting behavior in Series and DataFrame methods 'where', 'mask', and 'clip' is deprecated. In a future version this will not infer object dtypes or cast all-round floats to integers. Instead call result.infer_objects(copy=False) for object inference, or cast round floats explicitly. To opt-in to the future behavior, set `pd.set_option('future.no_silent_downcasting', True)`\n",
      "  df_o = df_o.clip(lower=1e-9)\n",
      "WARNING: SunpyUserWarning: No information about primary/secondary detectors in XRSTimeSeries, assuming primary for all [sunkit_instruments.goes_xrs.goes_chianti_tem]\n",
      "2025-10-24 15:20:06 - sunpy - WARNING: SunpyUserWarning: No information about primary/secondary detectors in XRSTimeSeries, assuming primary for all\n"
     ]
    },
    {
     "name": "stdout",
     "output_type": "stream",
     "text": [
      "Plot saved at: 2025-10-24_Download_for_specific_days/Data/Month_2022_10/data_graphs/GOES_diff_positive_2022-10-02_00-00-00.png\n",
      "3. USAR FUNCIÓN SUNPY calculate_t_em\n",
      "Ahora vamos a calcular la T y EM con el modelo de abundancias:coronal\n"
     ]
    },
    {
     "name": "stderr",
     "output_type": "stream",
     "text": [
      "Files Downloaded: 100%|██████████| 1/1 [00:02<00:00,  2.15s/file]\n",
      "/home/pjgonzalesp/miniforge3/envs/sunpy/lib/python3.13/site-packages/astropy/units/quantity.py:659: RuntimeWarning: invalid value encountered in divide\n",
      "  result = super().__array_ufunc__(function, method, *arrays, **kwargs)\n"
     ]
    },
    {
     "name": "stdout",
     "output_type": "stream",
     "text": [
      "se calculó T y EM con el modelo de abundancias:coronal\n",
      "Ahora vamos a calcular la T y EM con el modelo de abundancias:photospheric\n"
     ]
    },
    {
     "name": "stderr",
     "output_type": "stream",
     "text": [
      "Files Downloaded: 100%|██████████| 1/1 [00:00<00:00,  1.22file/s]\n",
      "2025-10-24 15:20:10 - root - INFO: Searching for GOES flares between 2022-10-02 00:00:00 and 2022-10-03 00:00:00...\n"
     ]
    },
    {
     "name": "stdout",
     "output_type": "stream",
     "text": [
      "se calculó T y EM con el modelo de abundancias:photospheric\n",
      "4. CONSTRUIR df_full\n",
      "5. añadiendo observatorio: GOES: GOES-16\n",
      "se añadió observatorio: GOES: GOES-16\n",
      "6. Descargando flares: 2022-10-02 00:00:00 - 2022-10-03 00:00:00\n"
     ]
    },
    {
     "name": "stderr",
     "output_type": "stream",
     "text": [
      "2025-10-24 15:20:12 - root - INFO: Found 14 GOES solar flares between 2022-10-02 00:00:00 and 2022-10-03 00:00:00.\n",
      "Día 90 de 185: 2023-01-06\n"
     ]
    },
    {
     "name": "stdout",
     "output_type": "stream",
     "text": [
      "Se descargaron flares para el intervalo 2022-10-02 00:00:00 - 2022-10-03 00:00:00.\n",
      "7. Se filtraron solo flares de GOES.\n",
      "💾 df_full_2022_10.csv actualizado (1440 filas)\n",
      "✅ Días descargados este mes: [datetime.date(2022, 10, 2)]\n",
      "💾 df_flare_data_2022_10.csv actualizado (14 filas)\n",
      "🏁 Mes 2022_10 terminado → 2025-10-24_Download_for_specific_days/Data/Month_2022_10\n",
      "\n",
      "========================================\n",
      "🟦 Procesando mes 2023_01 (3 días)\n",
      "========================================\n",
      "1. Descargar datos GOES\n",
      "Buscando datos de: 2023-01-06 00:00:00\n",
      "Descargando datos de 2023-01-06 00:00:00...\n"
     ]
    },
    {
     "name": "stderr",
     "output_type": "stream",
     "text": [
      "Files Downloaded: 100%|██████████| 6/6 [00:00<00:00,  6.15file/s]\n"
     ]
    },
    {
     "name": "stdout",
     "output_type": "stream",
     "text": [
      "Resolution = 1 minute\n",
      "Gráfica guardada en 2025-10-24_Download_for_specific_days/Data/Month_2023_01/data_graphs/GOES_2023-01-06_00-00-00.png\n",
      "Observatorio encontrado: GOES-16\n",
      "Se encontraron datos  GOES para 2023-01-06 00:00:00 - 2023-01-07 00:00:00. Día saltado.\n",
      "\n",
      "Número de registros: 1440\n",
      "Columnas disponibles: ['xrsa', 'xrsb', 'xrsa_quality', 'xrsb_quality']\n",
      "2. Restar Background\n",
      "Plot saved at: 2025-10-24_Download_for_specific_days/Data/Month_2023_01/data_graphs/GOES_diff_linear_2023-01-06_00-00-00.png\n",
      "Plot saved at: 2025-10-24_Download_for_specific_days/Data/Month_2023_01/data_graphs/GOES_diff_log_2023-01-06_00-00-00.png\n"
     ]
    },
    {
     "name": "stderr",
     "output_type": "stream",
     "text": [
      "/tmp/ipykernel_2397830/750897493.py:225: FutureWarning: Downcasting behavior in Series and DataFrame methods 'where', 'mask', and 'clip' is deprecated. In a future version this will not infer object dtypes or cast all-round floats to integers. Instead call result.infer_objects(copy=False) for object inference, or cast round floats explicitly. To opt-in to the future behavior, set `pd.set_option('future.no_silent_downcasting', True)`\n",
      "  df_o = df_o.clip(lower=1e-9)\n",
      "WARNING: SunpyUserWarning: No information about primary/secondary detectors in XRSTimeSeries, assuming primary for all [sunkit_instruments.goes_xrs.goes_chianti_tem]\n",
      "2025-10-24 15:20:22 - sunpy - WARNING: SunpyUserWarning: No information about primary/secondary detectors in XRSTimeSeries, assuming primary for all\n"
     ]
    },
    {
     "name": "stdout",
     "output_type": "stream",
     "text": [
      "Plot saved at: 2025-10-24_Download_for_specific_days/Data/Month_2023_01/data_graphs/GOES_diff_positive_2023-01-06_00-00-00.png\n",
      "3. USAR FUNCIÓN SUNPY calculate_t_em\n",
      "Ahora vamos a calcular la T y EM con el modelo de abundancias:coronal\n"
     ]
    },
    {
     "name": "stderr",
     "output_type": "stream",
     "text": [
      "Files Downloaded: 100%|██████████| 1/1 [00:00<00:00,  1.17file/s]\n",
      "/home/pjgonzalesp/miniforge3/envs/sunpy/lib/python3.13/site-packages/astropy/units/quantity.py:659: RuntimeWarning: invalid value encountered in divide\n",
      "  result = super().__array_ufunc__(function, method, *arrays, **kwargs)\n"
     ]
    },
    {
     "name": "stdout",
     "output_type": "stream",
     "text": [
      "se calculó T y EM con el modelo de abundancias:coronal\n",
      "Ahora vamos a calcular la T y EM con el modelo de abundancias:photospheric\n"
     ]
    },
    {
     "name": "stderr",
     "output_type": "stream",
     "text": [
      "Files Downloaded: 100%|██████████| 1/1 [00:00<00:00,  1.10file/s]\n",
      "2025-10-24 15:20:25 - root - INFO: Searching for GOES flares between 2023-01-06 00:00:00 and 2023-01-07 00:00:00...\n"
     ]
    },
    {
     "name": "stdout",
     "output_type": "stream",
     "text": [
      "se calculó T y EM con el modelo de abundancias:photospheric\n",
      "4. CONSTRUIR df_full\n",
      "5. añadiendo observatorio: GOES: GOES-16\n",
      "se añadió observatorio: GOES: GOES-16\n",
      "6. Descargando flares: 2023-01-06 00:00:00 - 2023-01-07 00:00:00\n"
     ]
    },
    {
     "name": "stderr",
     "output_type": "stream",
     "text": [
      "2025-10-24 15:20:27 - root - INFO: Found 10 GOES solar flares between 2023-01-06 00:00:00 and 2023-01-07 00:00:00.\n",
      "Día 91 de 185: 2023-01-09\n"
     ]
    },
    {
     "name": "stdout",
     "output_type": "stream",
     "text": [
      "Se descargaron flares para el intervalo 2023-01-06 00:00:00 - 2023-01-07 00:00:00.\n",
      "7. Se filtraron solo flares de GOES.\n",
      "1. Descargar datos GOES\n",
      "Buscando datos de: 2023-01-09 00:00:00\n",
      "Descargando datos de 2023-01-09 00:00:00...\n"
     ]
    },
    {
     "name": "stderr",
     "output_type": "stream",
     "text": [
      "Files Downloaded: 100%|██████████| 6/6 [00:00<00:00,  6.18file/s]\n"
     ]
    },
    {
     "name": "stdout",
     "output_type": "stream",
     "text": [
      "Resolution = 1 minute\n",
      "Gráfica guardada en 2025-10-24_Download_for_specific_days/Data/Month_2023_01/data_graphs/GOES_2023-01-09_00-00-00.png\n",
      "Observatorio encontrado: GOES-16\n",
      "Se encontraron datos  GOES para 2023-01-09 00:00:00 - 2023-01-10 00:00:00. Día saltado.\n",
      "\n",
      "Número de registros: 1440\n",
      "Columnas disponibles: ['xrsa', 'xrsb', 'xrsa_quality', 'xrsb_quality']\n",
      "2. Restar Background\n",
      "Plot saved at: 2025-10-24_Download_for_specific_days/Data/Month_2023_01/data_graphs/GOES_diff_linear_2023-01-09_00-00-00.png\n",
      "Plot saved at: 2025-10-24_Download_for_specific_days/Data/Month_2023_01/data_graphs/GOES_diff_log_2023-01-09_00-00-00.png\n"
     ]
    },
    {
     "name": "stderr",
     "output_type": "stream",
     "text": [
      "/tmp/ipykernel_2397830/750897493.py:225: FutureWarning: Downcasting behavior in Series and DataFrame methods 'where', 'mask', and 'clip' is deprecated. In a future version this will not infer object dtypes or cast all-round floats to integers. Instead call result.infer_objects(copy=False) for object inference, or cast round floats explicitly. To opt-in to the future behavior, set `pd.set_option('future.no_silent_downcasting', True)`\n",
      "  df_o = df_o.clip(lower=1e-9)\n",
      "WARNING: SunpyUserWarning: No information about primary/secondary detectors in XRSTimeSeries, assuming primary for all [sunkit_instruments.goes_xrs.goes_chianti_tem]\n",
      "2025-10-24 15:20:36 - sunpy - WARNING: SunpyUserWarning: No information about primary/secondary detectors in XRSTimeSeries, assuming primary for all\n"
     ]
    },
    {
     "name": "stdout",
     "output_type": "stream",
     "text": [
      "Plot saved at: 2025-10-24_Download_for_specific_days/Data/Month_2023_01/data_graphs/GOES_diff_positive_2023-01-09_00-00-00.png\n",
      "3. USAR FUNCIÓN SUNPY calculate_t_em\n",
      "Ahora vamos a calcular la T y EM con el modelo de abundancias:coronal\n"
     ]
    },
    {
     "name": "stderr",
     "output_type": "stream",
     "text": [
      "Files Downloaded: 100%|██████████| 1/1 [00:00<00:00,  1.24file/s]\n",
      "/home/pjgonzalesp/miniforge3/envs/sunpy/lib/python3.13/site-packages/astropy/units/quantity.py:659: RuntimeWarning: invalid value encountered in divide\n",
      "  result = super().__array_ufunc__(function, method, *arrays, **kwargs)\n"
     ]
    },
    {
     "name": "stdout",
     "output_type": "stream",
     "text": [
      "se calculó T y EM con el modelo de abundancias:coronal\n",
      "Ahora vamos a calcular la T y EM con el modelo de abundancias:photospheric\n"
     ]
    },
    {
     "name": "stderr",
     "output_type": "stream",
     "text": [
      "Files Downloaded: 100%|██████████| 1/1 [00:00<00:00,  1.25file/s]\n",
      "2025-10-24 15:20:39 - root - INFO: Searching for GOES flares between 2023-01-09 00:00:00 and 2023-01-10 00:00:00...\n"
     ]
    },
    {
     "name": "stdout",
     "output_type": "stream",
     "text": [
      "se calculó T y EM con el modelo de abundancias:photospheric\n",
      "4. CONSTRUIR df_full\n",
      "5. añadiendo observatorio: GOES: GOES-16\n",
      "se añadió observatorio: GOES: GOES-16\n",
      "6. Descargando flares: 2023-01-09 00:00:00 - 2023-01-10 00:00:00\n"
     ]
    },
    {
     "name": "stderr",
     "output_type": "stream",
     "text": [
      "2025-10-24 15:20:41 - root - INFO: Found 17 GOES solar flares between 2023-01-09 00:00:00 and 2023-01-10 00:00:00.\n",
      "Día 92 de 185: 2023-01-10\n"
     ]
    },
    {
     "name": "stdout",
     "output_type": "stream",
     "text": [
      "Se descargaron flares para el intervalo 2023-01-09 00:00:00 - 2023-01-10 00:00:00.\n",
      "7. Se filtraron solo flares de GOES.\n",
      "1. Descargar datos GOES\n",
      "Buscando datos de: 2023-01-10 00:00:00\n",
      "Descargando datos de 2023-01-10 00:00:00...\n"
     ]
    },
    {
     "name": "stderr",
     "output_type": "stream",
     "text": [
      "Files Downloaded: 100%|██████████| 5/5 [00:00<00:00, 10.22file/s]\n"
     ]
    },
    {
     "name": "stdout",
     "output_type": "stream",
     "text": [
      "Resolution = 1 minute\n",
      "Gráfica guardada en 2025-10-24_Download_for_specific_days/Data/Month_2023_01/data_graphs/GOES_2023-01-10_00-00-00.png\n",
      "Observatorio encontrado: GOES-16\n",
      "Se encontraron datos  GOES para 2023-01-10 00:00:00 - 2023-01-11 00:00:00. Día saltado.\n",
      "\n",
      "Número de registros: 1440\n",
      "Columnas disponibles: ['xrsa', 'xrsb', 'xrsa_quality', 'xrsb_quality']\n",
      "2. Restar Background\n",
      "Plot saved at: 2025-10-24_Download_for_specific_days/Data/Month_2023_01/data_graphs/GOES_diff_linear_2023-01-10_00-00-00.png\n",
      "Plot saved at: 2025-10-24_Download_for_specific_days/Data/Month_2023_01/data_graphs/GOES_diff_log_2023-01-10_00-00-00.png\n"
     ]
    },
    {
     "name": "stderr",
     "output_type": "stream",
     "text": [
      "/tmp/ipykernel_2397830/750897493.py:225: FutureWarning: Downcasting behavior in Series and DataFrame methods 'where', 'mask', and 'clip' is deprecated. In a future version this will not infer object dtypes or cast all-round floats to integers. Instead call result.infer_objects(copy=False) for object inference, or cast round floats explicitly. To opt-in to the future behavior, set `pd.set_option('future.no_silent_downcasting', True)`\n",
      "  df_o = df_o.clip(lower=1e-9)\n",
      "WARNING: SunpyUserWarning: No information about primary/secondary detectors in XRSTimeSeries, assuming primary for all [sunkit_instruments.goes_xrs.goes_chianti_tem]\n",
      "2025-10-24 15:20:51 - sunpy - WARNING: SunpyUserWarning: No information about primary/secondary detectors in XRSTimeSeries, assuming primary for all\n"
     ]
    },
    {
     "name": "stdout",
     "output_type": "stream",
     "text": [
      "Plot saved at: 2025-10-24_Download_for_specific_days/Data/Month_2023_01/data_graphs/GOES_diff_positive_2023-01-10_00-00-00.png\n",
      "3. USAR FUNCIÓN SUNPY calculate_t_em\n",
      "Ahora vamos a calcular la T y EM con el modelo de abundancias:coronal\n"
     ]
    },
    {
     "name": "stderr",
     "output_type": "stream",
     "text": [
      "Files Downloaded: 100%|██████████| 1/1 [00:00<00:00,  1.23file/s]\n",
      "/home/pjgonzalesp/miniforge3/envs/sunpy/lib/python3.13/site-packages/astropy/units/quantity.py:659: RuntimeWarning: invalid value encountered in divide\n",
      "  result = super().__array_ufunc__(function, method, *arrays, **kwargs)\n"
     ]
    },
    {
     "name": "stdout",
     "output_type": "stream",
     "text": [
      "se calculó T y EM con el modelo de abundancias:coronal\n",
      "Ahora vamos a calcular la T y EM con el modelo de abundancias:photospheric\n"
     ]
    },
    {
     "name": "stderr",
     "output_type": "stream",
     "text": [
      "Files Downloaded: 100%|██████████| 1/1 [00:00<00:00,  1.24file/s]\n",
      "2025-10-24 15:20:53 - root - INFO: Searching for GOES flares between 2023-01-10 00:00:00 and 2023-01-11 00:00:00...\n"
     ]
    },
    {
     "name": "stdout",
     "output_type": "stream",
     "text": [
      "se calculó T y EM con el modelo de abundancias:photospheric\n",
      "4. CONSTRUIR df_full\n",
      "5. añadiendo observatorio: GOES: GOES-16\n",
      "se añadió observatorio: GOES: GOES-16\n",
      "6. Descargando flares: 2023-01-10 00:00:00 - 2023-01-11 00:00:00\n"
     ]
    },
    {
     "name": "stderr",
     "output_type": "stream",
     "text": [
      "2025-10-24 15:20:56 - root - INFO: Found 23 GOES solar flares between 2023-01-10 00:00:00 and 2023-01-11 00:00:00.\n",
      "Día 93 de 185: 2023-02-11\n"
     ]
    },
    {
     "name": "stdout",
     "output_type": "stream",
     "text": [
      "Se descargaron flares para el intervalo 2023-01-10 00:00:00 - 2023-01-11 00:00:00.\n",
      "7. Se filtraron solo flares de GOES.\n",
      "💾 df_full_2023_01.csv actualizado (4320 filas)\n",
      "✅ Días descargados este mes: [datetime.date(2023, 1, 6), datetime.date(2023, 1, 9), datetime.date(2023, 1, 10)]\n",
      "💾 df_flare_data_2023_01.csv actualizado (50 filas)\n",
      "🏁 Mes 2023_01 terminado → 2025-10-24_Download_for_specific_days/Data/Month_2023_01\n",
      "\n",
      "========================================\n",
      "🟦 Procesando mes 2023_02 (2 días)\n",
      "========================================\n",
      "1. Descargar datos GOES\n",
      "Buscando datos de: 2023-02-11 00:00:00\n",
      "Descargando datos de 2023-02-11 00:00:00...\n"
     ]
    },
    {
     "name": "stderr",
     "output_type": "stream",
     "text": [
      "Files Downloaded: 100%|██████████| 4/4 [00:00<00:00,  7.72file/s]\n"
     ]
    },
    {
     "name": "stdout",
     "output_type": "stream",
     "text": [
      "Resolution = 1 minute\n",
      "Gráfica guardada en 2025-10-24_Download_for_specific_days/Data/Month_2023_02/data_graphs/GOES_2023-02-11_00-00-00.png\n",
      "Observatorio encontrado: GOES-16\n",
      "Se encontraron datos  GOES para 2023-02-11 00:00:00 - 2023-02-12 00:00:00. Día saltado.\n",
      "\n",
      "Número de registros: 1440\n",
      "Columnas disponibles: ['xrsa', 'xrsb', 'xrsa_quality', 'xrsb_quality']\n",
      "2. Restar Background\n",
      "Plot saved at: 2025-10-24_Download_for_specific_days/Data/Month_2023_02/data_graphs/GOES_diff_linear_2023-02-11_00-00-00.png\n",
      "Plot saved at: 2025-10-24_Download_for_specific_days/Data/Month_2023_02/data_graphs/GOES_diff_log_2023-02-11_00-00-00.png\n"
     ]
    },
    {
     "name": "stderr",
     "output_type": "stream",
     "text": [
      "/tmp/ipykernel_2397830/750897493.py:225: FutureWarning: Downcasting behavior in Series and DataFrame methods 'where', 'mask', and 'clip' is deprecated. In a future version this will not infer object dtypes or cast all-round floats to integers. Instead call result.infer_objects(copy=False) for object inference, or cast round floats explicitly. To opt-in to the future behavior, set `pd.set_option('future.no_silent_downcasting', True)`\n",
      "  df_o = df_o.clip(lower=1e-9)\n",
      "WARNING: SunpyUserWarning: No information about primary/secondary detectors in XRSTimeSeries, assuming primary for all [sunkit_instruments.goes_xrs.goes_chianti_tem]\n",
      "2025-10-24 15:21:07 - sunpy - WARNING: SunpyUserWarning: No information about primary/secondary detectors in XRSTimeSeries, assuming primary for all\n"
     ]
    },
    {
     "name": "stdout",
     "output_type": "stream",
     "text": [
      "Plot saved at: 2025-10-24_Download_for_specific_days/Data/Month_2023_02/data_graphs/GOES_diff_positive_2023-02-11_00-00-00.png\n",
      "3. USAR FUNCIÓN SUNPY calculate_t_em\n",
      "Ahora vamos a calcular la T y EM con el modelo de abundancias:coronal\n"
     ]
    },
    {
     "name": "stderr",
     "output_type": "stream",
     "text": [
      "Files Downloaded: 100%|██████████| 1/1 [00:00<00:00,  1.18file/s]\n",
      "/home/pjgonzalesp/miniforge3/envs/sunpy/lib/python3.13/site-packages/astropy/units/quantity.py:659: RuntimeWarning: invalid value encountered in divide\n",
      "  result = super().__array_ufunc__(function, method, *arrays, **kwargs)\n"
     ]
    },
    {
     "name": "stdout",
     "output_type": "stream",
     "text": [
      "se calculó T y EM con el modelo de abundancias:coronal\n",
      "Ahora vamos a calcular la T y EM con el modelo de abundancias:photospheric\n"
     ]
    },
    {
     "name": "stderr",
     "output_type": "stream",
     "text": [
      "Files Downloaded: 100%|██████████| 1/1 [00:00<00:00,  1.18file/s]\n",
      "2025-10-24 15:21:09 - root - INFO: Searching for GOES flares between 2023-02-11 00:00:00 and 2023-02-12 00:00:00...\n"
     ]
    },
    {
     "name": "stdout",
     "output_type": "stream",
     "text": [
      "se calculó T y EM con el modelo de abundancias:photospheric\n",
      "4. CONSTRUIR df_full\n",
      "5. añadiendo observatorio: GOES: GOES-16\n",
      "se añadió observatorio: GOES: GOES-16\n",
      "6. Descargando flares: 2023-02-11 00:00:00 - 2023-02-12 00:00:00\n"
     ]
    },
    {
     "name": "stderr",
     "output_type": "stream",
     "text": [
      "2025-10-24 15:21:12 - root - INFO: Found 15 GOES solar flares between 2023-02-11 00:00:00 and 2023-02-12 00:00:00.\n",
      "Día 94 de 185: 2023-02-17\n"
     ]
    },
    {
     "name": "stdout",
     "output_type": "stream",
     "text": [
      "Se descargaron flares para el intervalo 2023-02-11 00:00:00 - 2023-02-12 00:00:00.\n",
      "7. Se filtraron solo flares de GOES.\n",
      "1. Descargar datos GOES\n",
      "Buscando datos de: 2023-02-17 00:00:00\n",
      "Descargando datos de 2023-02-17 00:00:00...\n"
     ]
    },
    {
     "name": "stderr",
     "output_type": "stream",
     "text": [
      "Files Downloaded: 100%|██████████| 4/4 [00:00<00:00,  7.33file/s]\n"
     ]
    },
    {
     "name": "stdout",
     "output_type": "stream",
     "text": [
      "Resolution = 1 minute\n",
      "Gráfica guardada en 2025-10-24_Download_for_specific_days/Data/Month_2023_02/data_graphs/GOES_2023-02-17_00-00-00.png\n",
      "Observatorio encontrado: GOES-16\n",
      "Se encontraron datos  GOES para 2023-02-17 00:00:00 - 2023-02-18 00:00:00. Día saltado.\n",
      "\n",
      "Número de registros: 1440\n",
      "Columnas disponibles: ['xrsa', 'xrsb', 'xrsa_quality', 'xrsb_quality']\n",
      "2. Restar Background\n",
      "Plot saved at: 2025-10-24_Download_for_specific_days/Data/Month_2023_02/data_graphs/GOES_diff_linear_2023-02-17_00-00-00.png\n",
      "Plot saved at: 2025-10-24_Download_for_specific_days/Data/Month_2023_02/data_graphs/GOES_diff_log_2023-02-17_00-00-00.png\n"
     ]
    },
    {
     "name": "stderr",
     "output_type": "stream",
     "text": [
      "/tmp/ipykernel_2397830/750897493.py:225: FutureWarning: Downcasting behavior in Series and DataFrame methods 'where', 'mask', and 'clip' is deprecated. In a future version this will not infer object dtypes or cast all-round floats to integers. Instead call result.infer_objects(copy=False) for object inference, or cast round floats explicitly. To opt-in to the future behavior, set `pd.set_option('future.no_silent_downcasting', True)`\n",
      "  df_o = df_o.clip(lower=1e-9)\n",
      "WARNING: SunpyUserWarning: No information about primary/secondary detectors in XRSTimeSeries, assuming primary for all [sunkit_instruments.goes_xrs.goes_chianti_tem]\n",
      "2025-10-24 15:21:21 - sunpy - WARNING: SunpyUserWarning: No information about primary/secondary detectors in XRSTimeSeries, assuming primary for all\n"
     ]
    },
    {
     "name": "stdout",
     "output_type": "stream",
     "text": [
      "Plot saved at: 2025-10-24_Download_for_specific_days/Data/Month_2023_02/data_graphs/GOES_diff_positive_2023-02-17_00-00-00.png\n",
      "3. USAR FUNCIÓN SUNPY calculate_t_em\n",
      "Ahora vamos a calcular la T y EM con el modelo de abundancias:coronal\n"
     ]
    },
    {
     "name": "stderr",
     "output_type": "stream",
     "text": [
      "Files Downloaded: 100%|██████████| 1/1 [00:00<00:00,  1.24file/s]\n",
      "/home/pjgonzalesp/miniforge3/envs/sunpy/lib/python3.13/site-packages/astropy/units/quantity.py:659: RuntimeWarning: invalid value encountered in divide\n",
      "  result = super().__array_ufunc__(function, method, *arrays, **kwargs)\n"
     ]
    },
    {
     "name": "stdout",
     "output_type": "stream",
     "text": [
      "se calculó T y EM con el modelo de abundancias:coronal\n",
      "Ahora vamos a calcular la T y EM con el modelo de abundancias:photospheric\n"
     ]
    },
    {
     "name": "stderr",
     "output_type": "stream",
     "text": [
      "Files Downloaded: 100%|██████████| 1/1 [00:00<00:00,  1.20file/s]\n",
      "2025-10-24 15:21:23 - root - INFO: Searching for GOES flares between 2023-02-17 00:00:00 and 2023-02-18 00:00:00...\n"
     ]
    },
    {
     "name": "stdout",
     "output_type": "stream",
     "text": [
      "se calculó T y EM con el modelo de abundancias:photospheric\n",
      "4. CONSTRUIR df_full\n",
      "5. añadiendo observatorio: GOES: GOES-16\n",
      "se añadió observatorio: GOES: GOES-16\n",
      "6. Descargando flares: 2023-02-17 00:00:00 - 2023-02-18 00:00:00\n"
     ]
    },
    {
     "name": "stderr",
     "output_type": "stream",
     "text": [
      "2025-10-24 15:21:25 - root - INFO: Found 8 GOES solar flares between 2023-02-17 00:00:00 and 2023-02-18 00:00:00.\n",
      "Día 95 de 185: 2023-03-03\n"
     ]
    },
    {
     "name": "stdout",
     "output_type": "stream",
     "text": [
      "Se descargaron flares para el intervalo 2023-02-17 00:00:00 - 2023-02-18 00:00:00.\n",
      "7. Se filtraron solo flares de GOES.\n",
      "💾 df_full_2023_02.csv actualizado (2880 filas)\n",
      "✅ Días descargados este mes: [datetime.date(2023, 2, 11), datetime.date(2023, 2, 17)]\n",
      "💾 df_flare_data_2023_02.csv actualizado (23 filas)\n",
      "🏁 Mes 2023_02 terminado → 2025-10-24_Download_for_specific_days/Data/Month_2023_02\n",
      "\n",
      "========================================\n",
      "🟦 Procesando mes 2023_03 (2 días)\n",
      "========================================\n",
      "1. Descargar datos GOES\n",
      "Buscando datos de: 2023-03-03 00:00:00\n",
      "Descargando datos de 2023-03-03 00:00:00...\n"
     ]
    },
    {
     "name": "stderr",
     "output_type": "stream",
     "text": [
      "Files Downloaded: 100%|██████████| 4/4 [00:00<00:00,  8.19file/s]\n"
     ]
    },
    {
     "name": "stdout",
     "output_type": "stream",
     "text": [
      "Resolution = 1 minute\n",
      "Gráfica guardada en 2025-10-24_Download_for_specific_days/Data/Month_2023_03/data_graphs/GOES_2023-03-03_00-00-00.png\n",
      "Observatorio encontrado: GOES-16\n",
      "Se encontraron datos  GOES para 2023-03-03 00:00:00 - 2023-03-04 00:00:00. Día saltado.\n",
      "\n",
      "Número de registros: 1440\n",
      "Columnas disponibles: ['xrsa', 'xrsb', 'xrsa_quality', 'xrsb_quality']\n",
      "2. Restar Background\n",
      "Plot saved at: 2025-10-24_Download_for_specific_days/Data/Month_2023_03/data_graphs/GOES_diff_linear_2023-03-03_00-00-00.png\n",
      "Plot saved at: 2025-10-24_Download_for_specific_days/Data/Month_2023_03/data_graphs/GOES_diff_log_2023-03-03_00-00-00.png\n"
     ]
    },
    {
     "name": "stderr",
     "output_type": "stream",
     "text": [
      "/tmp/ipykernel_2397830/750897493.py:225: FutureWarning: Downcasting behavior in Series and DataFrame methods 'where', 'mask', and 'clip' is deprecated. In a future version this will not infer object dtypes or cast all-round floats to integers. Instead call result.infer_objects(copy=False) for object inference, or cast round floats explicitly. To opt-in to the future behavior, set `pd.set_option('future.no_silent_downcasting', True)`\n",
      "  df_o = df_o.clip(lower=1e-9)\n",
      "WARNING: SunpyUserWarning: No information about primary/secondary detectors in XRSTimeSeries, assuming primary for all [sunkit_instruments.goes_xrs.goes_chianti_tem]\n",
      "2025-10-24 15:21:34 - sunpy - WARNING: SunpyUserWarning: No information about primary/secondary detectors in XRSTimeSeries, assuming primary for all\n"
     ]
    },
    {
     "name": "stdout",
     "output_type": "stream",
     "text": [
      "Plot saved at: 2025-10-24_Download_for_specific_days/Data/Month_2023_03/data_graphs/GOES_diff_positive_2023-03-03_00-00-00.png\n",
      "3. USAR FUNCIÓN SUNPY calculate_t_em\n",
      "Ahora vamos a calcular la T y EM con el modelo de abundancias:coronal\n"
     ]
    },
    {
     "name": "stderr",
     "output_type": "stream",
     "text": [
      "Files Downloaded: 100%|██████████| 1/1 [00:01<00:00,  1.16s/file]\n",
      "/home/pjgonzalesp/miniforge3/envs/sunpy/lib/python3.13/site-packages/astropy/units/quantity.py:659: RuntimeWarning: invalid value encountered in divide\n",
      "  result = super().__array_ufunc__(function, method, *arrays, **kwargs)\n"
     ]
    },
    {
     "name": "stdout",
     "output_type": "stream",
     "text": [
      "se calculó T y EM con el modelo de abundancias:coronal\n",
      "Ahora vamos a calcular la T y EM con el modelo de abundancias:photospheric\n"
     ]
    },
    {
     "name": "stderr",
     "output_type": "stream",
     "text": [
      "Files Downloaded: 100%|██████████| 1/1 [00:00<00:00,  1.21file/s]\n",
      "2025-10-24 15:21:37 - root - INFO: Searching for GOES flares between 2023-03-03 00:00:00 and 2023-03-04 00:00:00...\n"
     ]
    },
    {
     "name": "stdout",
     "output_type": "stream",
     "text": [
      "se calculó T y EM con el modelo de abundancias:photospheric\n",
      "4. CONSTRUIR df_full\n",
      "5. añadiendo observatorio: GOES: GOES-16\n",
      "se añadió observatorio: GOES: GOES-16\n",
      "6. Descargando flares: 2023-03-03 00:00:00 - 2023-03-04 00:00:00\n"
     ]
    },
    {
     "name": "stderr",
     "output_type": "stream",
     "text": [
      "2025-10-24 15:21:41 - root - INFO: Found 10 GOES solar flares between 2023-03-03 00:00:00 and 2023-03-04 00:00:00.\n",
      "Día 96 de 185: 2023-03-29\n"
     ]
    },
    {
     "name": "stdout",
     "output_type": "stream",
     "text": [
      "Se descargaron flares para el intervalo 2023-03-03 00:00:00 - 2023-03-04 00:00:00.\n",
      "7. Se filtraron solo flares de GOES.\n",
      "1. Descargar datos GOES\n",
      "Buscando datos de: 2023-03-29 00:00:00\n",
      "Descargando datos de 2023-03-29 00:00:00...\n"
     ]
    },
    {
     "name": "stderr",
     "output_type": "stream",
     "text": [
      "Files Downloaded: 100%|██████████| 4/4 [00:00<00:00,  8.21file/s]\n"
     ]
    },
    {
     "name": "stdout",
     "output_type": "stream",
     "text": [
      "Resolution = 1 minute\n",
      "Gráfica guardada en 2025-10-24_Download_for_specific_days/Data/Month_2023_03/data_graphs/GOES_2023-03-29_00-00-00.png\n",
      "Observatorio encontrado: GOES-16\n",
      "Se encontraron datos  GOES para 2023-03-29 00:00:00 - 2023-03-30 00:00:00. Día saltado.\n",
      "\n",
      "Número de registros: 1440\n",
      "Columnas disponibles: ['xrsa', 'xrsb', 'xrsa_quality', 'xrsb_quality']\n",
      "2. Restar Background\n",
      "Plot saved at: 2025-10-24_Download_for_specific_days/Data/Month_2023_03/data_graphs/GOES_diff_linear_2023-03-29_00-00-00.png\n",
      "Plot saved at: 2025-10-24_Download_for_specific_days/Data/Month_2023_03/data_graphs/GOES_diff_log_2023-03-29_00-00-00.png\n"
     ]
    },
    {
     "name": "stderr",
     "output_type": "stream",
     "text": [
      "/tmp/ipykernel_2397830/750897493.py:225: FutureWarning: Downcasting behavior in Series and DataFrame methods 'where', 'mask', and 'clip' is deprecated. In a future version this will not infer object dtypes or cast all-round floats to integers. Instead call result.infer_objects(copy=False) for object inference, or cast round floats explicitly. To opt-in to the future behavior, set `pd.set_option('future.no_silent_downcasting', True)`\n",
      "  df_o = df_o.clip(lower=1e-9)\n",
      "WARNING: SunpyUserWarning: No information about primary/secondary detectors in XRSTimeSeries, assuming primary for all [sunkit_instruments.goes_xrs.goes_chianti_tem]\n",
      "2025-10-24 15:21:50 - sunpy - WARNING: SunpyUserWarning: No information about primary/secondary detectors in XRSTimeSeries, assuming primary for all\n"
     ]
    },
    {
     "name": "stdout",
     "output_type": "stream",
     "text": [
      "Plot saved at: 2025-10-24_Download_for_specific_days/Data/Month_2023_03/data_graphs/GOES_diff_positive_2023-03-29_00-00-00.png\n",
      "3. USAR FUNCIÓN SUNPY calculate_t_em\n",
      "Ahora vamos a calcular la T y EM con el modelo de abundancias:coronal\n"
     ]
    },
    {
     "name": "stderr",
     "output_type": "stream",
     "text": [
      "Files Downloaded: 100%|██████████| 1/1 [00:00<00:00,  1.22file/s]\n",
      "/home/pjgonzalesp/miniforge3/envs/sunpy/lib/python3.13/site-packages/astropy/units/quantity.py:659: RuntimeWarning: invalid value encountered in divide\n",
      "  result = super().__array_ufunc__(function, method, *arrays, **kwargs)\n"
     ]
    },
    {
     "name": "stdout",
     "output_type": "stream",
     "text": [
      "se calculó T y EM con el modelo de abundancias:coronal\n",
      "Ahora vamos a calcular la T y EM con el modelo de abundancias:photospheric\n"
     ]
    },
    {
     "name": "stderr",
     "output_type": "stream",
     "text": [
      "Files Downloaded: 100%|██████████| 1/1 [00:00<00:00,  1.09file/s]\n",
      "2025-10-24 15:21:53 - root - INFO: Searching for GOES flares between 2023-03-29 00:00:00 and 2023-03-30 00:00:00...\n"
     ]
    },
    {
     "name": "stdout",
     "output_type": "stream",
     "text": [
      "se calculó T y EM con el modelo de abundancias:photospheric\n",
      "4. CONSTRUIR df_full\n",
      "5. añadiendo observatorio: GOES: GOES-16\n",
      "se añadió observatorio: GOES: GOES-16\n",
      "6. Descargando flares: 2023-03-29 00:00:00 - 2023-03-30 00:00:00\n"
     ]
    },
    {
     "name": "stderr",
     "output_type": "stream",
     "text": [
      "2025-10-24 15:21:55 - root - INFO: Found 6 GOES solar flares between 2023-03-29 00:00:00 and 2023-03-30 00:00:00.\n",
      "Día 97 de 185: 2023-06-20\n"
     ]
    },
    {
     "name": "stdout",
     "output_type": "stream",
     "text": [
      "Se descargaron flares para el intervalo 2023-03-29 00:00:00 - 2023-03-30 00:00:00.\n",
      "7. Se filtraron solo flares de GOES.\n",
      "💾 df_full_2023_03.csv actualizado (2880 filas)\n",
      "✅ Días descargados este mes: [datetime.date(2023, 3, 3), datetime.date(2023, 3, 29)]\n",
      "💾 df_flare_data_2023_03.csv actualizado (16 filas)\n",
      "🏁 Mes 2023_03 terminado → 2025-10-24_Download_for_specific_days/Data/Month_2023_03\n",
      "\n",
      "========================================\n",
      "🟦 Procesando mes 2023_06 (1 días)\n",
      "========================================\n",
      "1. Descargar datos GOES\n",
      "Buscando datos de: 2023-06-20 00:00:00\n",
      "Descargando datos de 2023-06-20 00:00:00...\n"
     ]
    },
    {
     "name": "stderr",
     "output_type": "stream",
     "text": [
      "Files Downloaded: 100%|██████████| 4/4 [00:00<00:00,  8.07file/s]\n"
     ]
    },
    {
     "name": "stdout",
     "output_type": "stream",
     "text": [
      "Resolution = 1 minute\n",
      "Gráfica guardada en 2025-10-24_Download_for_specific_days/Data/Month_2023_06/data_graphs/GOES_2023-06-20_00-00-00.png\n",
      "Observatorio encontrado: GOES-16\n",
      "Se encontraron datos  GOES para 2023-06-20 00:00:00 - 2023-06-21 00:00:00. Día saltado.\n",
      "\n",
      "Número de registros: 1440\n",
      "Columnas disponibles: ['xrsa', 'xrsb', 'xrsa_quality', 'xrsb_quality']\n",
      "2. Restar Background\n",
      "Plot saved at: 2025-10-24_Download_for_specific_days/Data/Month_2023_06/data_graphs/GOES_diff_linear_2023-06-20_00-00-00.png\n",
      "Plot saved at: 2025-10-24_Download_for_specific_days/Data/Month_2023_06/data_graphs/GOES_diff_log_2023-06-20_00-00-00.png\n"
     ]
    },
    {
     "name": "stderr",
     "output_type": "stream",
     "text": [
      "/tmp/ipykernel_2397830/750897493.py:225: FutureWarning: Downcasting behavior in Series and DataFrame methods 'where', 'mask', and 'clip' is deprecated. In a future version this will not infer object dtypes or cast all-round floats to integers. Instead call result.infer_objects(copy=False) for object inference, or cast round floats explicitly. To opt-in to the future behavior, set `pd.set_option('future.no_silent_downcasting', True)`\n",
      "  df_o = df_o.clip(lower=1e-9)\n",
      "WARNING: SunpyUserWarning: No information about primary/secondary detectors in XRSTimeSeries, assuming primary for all [sunkit_instruments.goes_xrs.goes_chianti_tem]\n",
      "2025-10-24 15:22:04 - sunpy - WARNING: SunpyUserWarning: No information about primary/secondary detectors in XRSTimeSeries, assuming primary for all\n"
     ]
    },
    {
     "name": "stdout",
     "output_type": "stream",
     "text": [
      "Plot saved at: 2025-10-24_Download_for_specific_days/Data/Month_2023_06/data_graphs/GOES_diff_positive_2023-06-20_00-00-00.png\n",
      "3. USAR FUNCIÓN SUNPY calculate_t_em\n",
      "Ahora vamos a calcular la T y EM con el modelo de abundancias:coronal\n"
     ]
    },
    {
     "name": "stderr",
     "output_type": "stream",
     "text": [
      "Files Downloaded: 100%|██████████| 1/1 [00:00<00:00,  1.25file/s]\n",
      "/home/pjgonzalesp/miniforge3/envs/sunpy/lib/python3.13/site-packages/astropy/units/quantity.py:659: RuntimeWarning: invalid value encountered in divide\n",
      "  result = super().__array_ufunc__(function, method, *arrays, **kwargs)\n"
     ]
    },
    {
     "name": "stdout",
     "output_type": "stream",
     "text": [
      "se calculó T y EM con el modelo de abundancias:coronal\n",
      "Ahora vamos a calcular la T y EM con el modelo de abundancias:photospheric\n"
     ]
    },
    {
     "name": "stderr",
     "output_type": "stream",
     "text": [
      "Files Downloaded: 100%|██████████| 1/1 [00:00<00:00,  1.23file/s]\n",
      "2025-10-24 15:22:06 - root - INFO: Searching for GOES flares between 2023-06-20 00:00:00 and 2023-06-21 00:00:00...\n"
     ]
    },
    {
     "name": "stdout",
     "output_type": "stream",
     "text": [
      "se calculó T y EM con el modelo de abundancias:photospheric\n",
      "4. CONSTRUIR df_full\n",
      "5. añadiendo observatorio: GOES: GOES-16\n",
      "se añadió observatorio: GOES: GOES-16\n",
      "6. Descargando flares: 2023-06-20 00:00:00 - 2023-06-21 00:00:00\n"
     ]
    },
    {
     "name": "stderr",
     "output_type": "stream",
     "text": [
      "2025-10-24 15:22:09 - root - INFO: Found 15 GOES solar flares between 2023-06-20 00:00:00 and 2023-06-21 00:00:00.\n",
      "Día 98 de 185: 2023-07-02\n"
     ]
    },
    {
     "name": "stdout",
     "output_type": "stream",
     "text": [
      "Se descargaron flares para el intervalo 2023-06-20 00:00:00 - 2023-06-21 00:00:00.\n",
      "7. Se filtraron solo flares de GOES.\n",
      "💾 df_full_2023_06.csv actualizado (1440 filas)\n",
      "✅ Días descargados este mes: [datetime.date(2023, 6, 20)]\n",
      "💾 df_flare_data_2023_06.csv actualizado (15 filas)\n",
      "🏁 Mes 2023_06 terminado → 2025-10-24_Download_for_specific_days/Data/Month_2023_06\n",
      "\n",
      "========================================\n",
      "🟦 Procesando mes 2023_07 (1 días)\n",
      "========================================\n",
      "1. Descargar datos GOES\n",
      "Buscando datos de: 2023-07-02 00:00:00\n",
      "Descargando datos de 2023-07-02 00:00:00...\n"
     ]
    },
    {
     "name": "stderr",
     "output_type": "stream",
     "text": [
      "Files Downloaded: 100%|██████████| 4/4 [00:00<00:00,  8.07file/s]\n"
     ]
    },
    {
     "name": "stdout",
     "output_type": "stream",
     "text": [
      "Resolution = 1 minute\n",
      "Gráfica guardada en 2025-10-24_Download_for_specific_days/Data/Month_2023_07/data_graphs/GOES_2023-07-02_00-00-00.png\n",
      "Observatorio encontrado: GOES-16\n",
      "Se encontraron datos  GOES para 2023-07-02 00:00:00 - 2023-07-03 00:00:00. Día saltado.\n",
      "\n",
      "Número de registros: 1440\n",
      "Columnas disponibles: ['xrsa', 'xrsb', 'xrsa_quality', 'xrsb_quality']\n",
      "2. Restar Background\n",
      "Plot saved at: 2025-10-24_Download_for_specific_days/Data/Month_2023_07/data_graphs/GOES_diff_linear_2023-07-02_00-00-00.png\n",
      "Plot saved at: 2025-10-24_Download_for_specific_days/Data/Month_2023_07/data_graphs/GOES_diff_log_2023-07-02_00-00-00.png\n"
     ]
    },
    {
     "name": "stderr",
     "output_type": "stream",
     "text": [
      "/tmp/ipykernel_2397830/750897493.py:225: FutureWarning: Downcasting behavior in Series and DataFrame methods 'where', 'mask', and 'clip' is deprecated. In a future version this will not infer object dtypes or cast all-round floats to integers. Instead call result.infer_objects(copy=False) for object inference, or cast round floats explicitly. To opt-in to the future behavior, set `pd.set_option('future.no_silent_downcasting', True)`\n",
      "  df_o = df_o.clip(lower=1e-9)\n",
      "WARNING: SunpyUserWarning: No information about primary/secondary detectors in XRSTimeSeries, assuming primary for all [sunkit_instruments.goes_xrs.goes_chianti_tem]\n",
      "2025-10-24 15:22:18 - sunpy - WARNING: SunpyUserWarning: No information about primary/secondary detectors in XRSTimeSeries, assuming primary for all\n"
     ]
    },
    {
     "name": "stdout",
     "output_type": "stream",
     "text": [
      "Plot saved at: 2025-10-24_Download_for_specific_days/Data/Month_2023_07/data_graphs/GOES_diff_positive_2023-07-02_00-00-00.png\n",
      "3. USAR FUNCIÓN SUNPY calculate_t_em\n",
      "Ahora vamos a calcular la T y EM con el modelo de abundancias:coronal\n"
     ]
    },
    {
     "name": "stderr",
     "output_type": "stream",
     "text": [
      "Files Downloaded: 100%|██████████| 1/1 [00:00<00:00,  1.09file/s]\n",
      "/home/pjgonzalesp/miniforge3/envs/sunpy/lib/python3.13/site-packages/astropy/units/quantity.py:659: RuntimeWarning: invalid value encountered in divide\n",
      "  result = super().__array_ufunc__(function, method, *arrays, **kwargs)\n"
     ]
    },
    {
     "name": "stdout",
     "output_type": "stream",
     "text": [
      "se calculó T y EM con el modelo de abundancias:coronal\n",
      "Ahora vamos a calcular la T y EM con el modelo de abundancias:photospheric\n"
     ]
    },
    {
     "name": "stderr",
     "output_type": "stream",
     "text": [
      "Files Downloaded: 100%|██████████| 1/1 [00:00<00:00,  1.15file/s]\n",
      "2025-10-24 15:22:21 - root - INFO: Searching for GOES flares between 2023-07-02 00:00:00 and 2023-07-03 00:00:00...\n"
     ]
    },
    {
     "name": "stdout",
     "output_type": "stream",
     "text": [
      "se calculó T y EM con el modelo de abundancias:photospheric\n",
      "4. CONSTRUIR df_full\n",
      "5. añadiendo observatorio: GOES: GOES-16\n",
      "se añadió observatorio: GOES: GOES-16\n",
      "6. Descargando flares: 2023-07-02 00:00:00 - 2023-07-03 00:00:00\n"
     ]
    },
    {
     "name": "stderr",
     "output_type": "stream",
     "text": [
      "2025-10-24 15:22:23 - root - INFO: Found 8 GOES solar flares between 2023-07-02 00:00:00 and 2023-07-03 00:00:00.\n",
      "Día 99 de 185: 2023-08-05\n"
     ]
    },
    {
     "name": "stdout",
     "output_type": "stream",
     "text": [
      "Se descargaron flares para el intervalo 2023-07-02 00:00:00 - 2023-07-03 00:00:00.\n",
      "7. Se filtraron solo flares de GOES.\n",
      "💾 df_full_2023_07.csv actualizado (1440 filas)\n",
      "✅ Días descargados este mes: [datetime.date(2023, 7, 2)]\n",
      "💾 df_flare_data_2023_07.csv actualizado (8 filas)\n",
      "🏁 Mes 2023_07 terminado → 2025-10-24_Download_for_specific_days/Data/Month_2023_07\n",
      "\n",
      "========================================\n",
      "🟦 Procesando mes 2023_08 (2 días)\n",
      "========================================\n",
      "1. Descargar datos GOES\n",
      "Buscando datos de: 2023-08-05 00:00:00\n",
      "Descargando datos de 2023-08-05 00:00:00...\n"
     ]
    },
    {
     "name": "stderr",
     "output_type": "stream",
     "text": [
      "Files Downloaded: 100%|██████████| 4/4 [00:00<00:00,  7.51file/s]\n"
     ]
    },
    {
     "name": "stdout",
     "output_type": "stream",
     "text": [
      "Resolution = 1 minute\n",
      "Gráfica guardada en 2025-10-24_Download_for_specific_days/Data/Month_2023_08/data_graphs/GOES_2023-08-05_00-00-00.png\n",
      "Observatorio encontrado: GOES-16\n",
      "Se encontraron datos  GOES para 2023-08-05 00:00:00 - 2023-08-06 00:00:00. Día saltado.\n",
      "\n",
      "Número de registros: 1440\n",
      "Columnas disponibles: ['xrsa', 'xrsb', 'xrsa_quality', 'xrsb_quality']\n",
      "2. Restar Background\n",
      "Plot saved at: 2025-10-24_Download_for_specific_days/Data/Month_2023_08/data_graphs/GOES_diff_linear_2023-08-05_00-00-00.png\n",
      "Plot saved at: 2025-10-24_Download_for_specific_days/Data/Month_2023_08/data_graphs/GOES_diff_log_2023-08-05_00-00-00.png\n"
     ]
    },
    {
     "name": "stderr",
     "output_type": "stream",
     "text": [
      "/tmp/ipykernel_2397830/750897493.py:225: FutureWarning: Downcasting behavior in Series and DataFrame methods 'where', 'mask', and 'clip' is deprecated. In a future version this will not infer object dtypes or cast all-round floats to integers. Instead call result.infer_objects(copy=False) for object inference, or cast round floats explicitly. To opt-in to the future behavior, set `pd.set_option('future.no_silent_downcasting', True)`\n",
      "  df_o = df_o.clip(lower=1e-9)\n",
      "WARNING: SunpyUserWarning: No information about primary/secondary detectors in XRSTimeSeries, assuming primary for all [sunkit_instruments.goes_xrs.goes_chianti_tem]\n",
      "2025-10-24 15:22:32 - sunpy - WARNING: SunpyUserWarning: No information about primary/secondary detectors in XRSTimeSeries, assuming primary for all\n"
     ]
    },
    {
     "name": "stdout",
     "output_type": "stream",
     "text": [
      "Plot saved at: 2025-10-24_Download_for_specific_days/Data/Month_2023_08/data_graphs/GOES_diff_positive_2023-08-05_00-00-00.png\n",
      "3. USAR FUNCIÓN SUNPY calculate_t_em\n",
      "Ahora vamos a calcular la T y EM con el modelo de abundancias:coronal\n"
     ]
    },
    {
     "name": "stderr",
     "output_type": "stream",
     "text": [
      "Files Downloaded: 100%|██████████| 1/1 [00:00<00:00,  1.24file/s]\n",
      "/home/pjgonzalesp/miniforge3/envs/sunpy/lib/python3.13/site-packages/astropy/units/quantity.py:659: RuntimeWarning: invalid value encountered in divide\n",
      "  result = super().__array_ufunc__(function, method, *arrays, **kwargs)\n"
     ]
    },
    {
     "name": "stdout",
     "output_type": "stream",
     "text": [
      "se calculó T y EM con el modelo de abundancias:coronal\n",
      "Ahora vamos a calcular la T y EM con el modelo de abundancias:photospheric\n"
     ]
    },
    {
     "name": "stderr",
     "output_type": "stream",
     "text": [
      "Files Downloaded: 100%|██████████| 1/1 [00:01<00:00,  1.01s/file]\n",
      "2025-10-24 15:22:35 - root - INFO: Searching for GOES flares between 2023-08-05 00:00:00 and 2023-08-06 00:00:00...\n"
     ]
    },
    {
     "name": "stdout",
     "output_type": "stream",
     "text": [
      "se calculó T y EM con el modelo de abundancias:photospheric\n",
      "4. CONSTRUIR df_full\n",
      "5. añadiendo observatorio: GOES: GOES-16\n",
      "se añadió observatorio: GOES: GOES-16\n",
      "6. Descargando flares: 2023-08-05 00:00:00 - 2023-08-06 00:00:00\n"
     ]
    },
    {
     "name": "stderr",
     "output_type": "stream",
     "text": [
      "2025-10-24 15:22:38 - root - INFO: Found 12 GOES solar flares between 2023-08-05 00:00:00 and 2023-08-06 00:00:00.\n",
      "Día 100 de 185: 2023-08-07\n"
     ]
    },
    {
     "name": "stdout",
     "output_type": "stream",
     "text": [
      "Se descargaron flares para el intervalo 2023-08-05 00:00:00 - 2023-08-06 00:00:00.\n",
      "7. Se filtraron solo flares de GOES.\n",
      "1. Descargar datos GOES\n",
      "Buscando datos de: 2023-08-07 00:00:00\n",
      "Descargando datos de 2023-08-07 00:00:00...\n"
     ]
    },
    {
     "name": "stderr",
     "output_type": "stream",
     "text": [
      "Files Downloaded: 100%|██████████| 4/4 [00:00<00:00,  8.19file/s]\n"
     ]
    },
    {
     "name": "stdout",
     "output_type": "stream",
     "text": [
      "Resolution = 1 minute\n",
      "Gráfica guardada en 2025-10-24_Download_for_specific_days/Data/Month_2023_08/data_graphs/GOES_2023-08-07_00-00-00.png\n",
      "Observatorio encontrado: GOES-16\n",
      "Se encontraron datos  GOES para 2023-08-07 00:00:00 - 2023-08-08 00:00:00. Día saltado.\n",
      "\n",
      "Número de registros: 1440\n",
      "Columnas disponibles: ['xrsa', 'xrsb', 'xrsa_quality', 'xrsb_quality']\n",
      "2. Restar Background\n",
      "Plot saved at: 2025-10-24_Download_for_specific_days/Data/Month_2023_08/data_graphs/GOES_diff_linear_2023-08-07_00-00-00.png\n",
      "Plot saved at: 2025-10-24_Download_for_specific_days/Data/Month_2023_08/data_graphs/GOES_diff_log_2023-08-07_00-00-00.png\n"
     ]
    },
    {
     "name": "stderr",
     "output_type": "stream",
     "text": [
      "/tmp/ipykernel_2397830/750897493.py:225: FutureWarning: Downcasting behavior in Series and DataFrame methods 'where', 'mask', and 'clip' is deprecated. In a future version this will not infer object dtypes or cast all-round floats to integers. Instead call result.infer_objects(copy=False) for object inference, or cast round floats explicitly. To opt-in to the future behavior, set `pd.set_option('future.no_silent_downcasting', True)`\n",
      "  df_o = df_o.clip(lower=1e-9)\n",
      "WARNING: SunpyUserWarning: No information about primary/secondary detectors in XRSTimeSeries, assuming primary for all [sunkit_instruments.goes_xrs.goes_chianti_tem]\n",
      "2025-10-24 15:22:47 - sunpy - WARNING: SunpyUserWarning: No information about primary/secondary detectors in XRSTimeSeries, assuming primary for all\n"
     ]
    },
    {
     "name": "stdout",
     "output_type": "stream",
     "text": [
      "Plot saved at: 2025-10-24_Download_for_specific_days/Data/Month_2023_08/data_graphs/GOES_diff_positive_2023-08-07_00-00-00.png\n",
      "3. USAR FUNCIÓN SUNPY calculate_t_em\n",
      "Ahora vamos a calcular la T y EM con el modelo de abundancias:coronal\n"
     ]
    },
    {
     "name": "stderr",
     "output_type": "stream",
     "text": [
      "Files Downloaded: 100%|██████████| 1/1 [00:00<00:00,  1.24file/s]\n",
      "/home/pjgonzalesp/miniforge3/envs/sunpy/lib/python3.13/site-packages/astropy/units/quantity.py:659: RuntimeWarning: invalid value encountered in divide\n",
      "  result = super().__array_ufunc__(function, method, *arrays, **kwargs)\n"
     ]
    },
    {
     "name": "stdout",
     "output_type": "stream",
     "text": [
      "se calculó T y EM con el modelo de abundancias:coronal\n",
      "Ahora vamos a calcular la T y EM con el modelo de abundancias:photospheric\n"
     ]
    },
    {
     "name": "stderr",
     "output_type": "stream",
     "text": [
      "Files Downloaded: 100%|██████████| 1/1 [00:00<00:00,  1.23file/s]\n",
      "2025-10-24 15:22:49 - root - INFO: Searching for GOES flares between 2023-08-07 00:00:00 and 2023-08-08 00:00:00...\n"
     ]
    },
    {
     "name": "stdout",
     "output_type": "stream",
     "text": [
      "se calculó T y EM con el modelo de abundancias:photospheric\n",
      "4. CONSTRUIR df_full\n",
      "5. añadiendo observatorio: GOES: GOES-16\n",
      "se añadió observatorio: GOES: GOES-16\n",
      "6. Descargando flares: 2023-08-07 00:00:00 - 2023-08-08 00:00:00\n"
     ]
    },
    {
     "name": "stderr",
     "output_type": "stream",
     "text": [
      "2025-10-24 15:22:51 - root - INFO: Found 10 GOES solar flares between 2023-08-07 00:00:00 and 2023-08-08 00:00:00.\n",
      "Día 101 de 185: 2023-12-14\n"
     ]
    },
    {
     "name": "stdout",
     "output_type": "stream",
     "text": [
      "Se descargaron flares para el intervalo 2023-08-07 00:00:00 - 2023-08-08 00:00:00.\n",
      "7. Se filtraron solo flares de GOES.\n",
      "💾 df_full_2023_08.csv actualizado (2880 filas)\n",
      "✅ Días descargados este mes: [datetime.date(2023, 8, 5), datetime.date(2023, 8, 7)]\n",
      "💾 df_flare_data_2023_08.csv actualizado (22 filas)\n",
      "🏁 Mes 2023_08 terminado → 2025-10-24_Download_for_specific_days/Data/Month_2023_08\n",
      "\n",
      "========================================\n",
      "🟦 Procesando mes 2023_12 (2 días)\n",
      "========================================\n",
      "1. Descargar datos GOES\n",
      "Buscando datos de: 2023-12-14 00:00:00\n",
      "Descargando datos de 2023-12-14 00:00:00...\n"
     ]
    },
    {
     "name": "stderr",
     "output_type": "stream",
     "text": [
      "Files Downloaded: 100%|██████████| 4/4 [00:00<00:00,  7.63file/s]\n"
     ]
    },
    {
     "name": "stdout",
     "output_type": "stream",
     "text": [
      "Resolution = 1 minute\n",
      "Gráfica guardada en 2025-10-24_Download_for_specific_days/Data/Month_2023_12/data_graphs/GOES_2023-12-14_00-00-00.png\n",
      "Observatorio encontrado: GOES-16\n",
      "Se encontraron datos  GOES para 2023-12-14 00:00:00 - 2023-12-15 00:00:00. Día saltado.\n",
      "\n",
      "Número de registros: 1440\n",
      "Columnas disponibles: ['xrsa', 'xrsb', 'xrsa_quality', 'xrsb_quality']\n",
      "2. Restar Background\n",
      "Plot saved at: 2025-10-24_Download_for_specific_days/Data/Month_2023_12/data_graphs/GOES_diff_linear_2023-12-14_00-00-00.png\n",
      "Plot saved at: 2025-10-24_Download_for_specific_days/Data/Month_2023_12/data_graphs/GOES_diff_log_2023-12-14_00-00-00.png\n"
     ]
    },
    {
     "name": "stderr",
     "output_type": "stream",
     "text": [
      "/tmp/ipykernel_2397830/750897493.py:225: FutureWarning: Downcasting behavior in Series and DataFrame methods 'where', 'mask', and 'clip' is deprecated. In a future version this will not infer object dtypes or cast all-round floats to integers. Instead call result.infer_objects(copy=False) for object inference, or cast round floats explicitly. To opt-in to the future behavior, set `pd.set_option('future.no_silent_downcasting', True)`\n",
      "  df_o = df_o.clip(lower=1e-9)\n",
      "WARNING: SunpyUserWarning: No information about primary/secondary detectors in XRSTimeSeries, assuming primary for all [sunkit_instruments.goes_xrs.goes_chianti_tem]\n",
      "2025-10-24 15:23:00 - sunpy - WARNING: SunpyUserWarning: No information about primary/secondary detectors in XRSTimeSeries, assuming primary for all\n"
     ]
    },
    {
     "name": "stdout",
     "output_type": "stream",
     "text": [
      "Plot saved at: 2025-10-24_Download_for_specific_days/Data/Month_2023_12/data_graphs/GOES_diff_positive_2023-12-14_00-00-00.png\n",
      "3. USAR FUNCIÓN SUNPY calculate_t_em\n",
      "Ahora vamos a calcular la T y EM con el modelo de abundancias:coronal\n"
     ]
    },
    {
     "name": "stderr",
     "output_type": "stream",
     "text": [
      "Files Downloaded: 100%|██████████| 1/1 [00:00<00:00,  1.20file/s]\n",
      "/home/pjgonzalesp/miniforge3/envs/sunpy/lib/python3.13/site-packages/astropy/units/quantity.py:659: RuntimeWarning: invalid value encountered in divide\n",
      "  result = super().__array_ufunc__(function, method, *arrays, **kwargs)\n"
     ]
    },
    {
     "name": "stdout",
     "output_type": "stream",
     "text": [
      "se calculó T y EM con el modelo de abundancias:coronal\n",
      "Ahora vamos a calcular la T y EM con el modelo de abundancias:photospheric\n"
     ]
    },
    {
     "name": "stderr",
     "output_type": "stream",
     "text": [
      "Files Downloaded: 100%|██████████| 1/1 [00:00<00:00,  1.11file/s]\n",
      "2025-10-24 15:23:03 - root - INFO: Searching for GOES flares between 2023-12-14 00:00:00 and 2023-12-15 00:00:00...\n"
     ]
    },
    {
     "name": "stdout",
     "output_type": "stream",
     "text": [
      "se calculó T y EM con el modelo de abundancias:photospheric\n",
      "4. CONSTRUIR df_full\n",
      "5. añadiendo observatorio: GOES: GOES-16\n",
      "se añadió observatorio: GOES: GOES-16\n",
      "6. Descargando flares: 2023-12-14 00:00:00 - 2023-12-15 00:00:00\n"
     ]
    },
    {
     "name": "stderr",
     "output_type": "stream",
     "text": [
      "2025-10-24 15:23:05 - root - INFO: Found 9 GOES solar flares between 2023-12-14 00:00:00 and 2023-12-15 00:00:00.\n",
      "Día 102 de 185: 2023-12-31\n"
     ]
    },
    {
     "name": "stdout",
     "output_type": "stream",
     "text": [
      "Se descargaron flares para el intervalo 2023-12-14 00:00:00 - 2023-12-15 00:00:00.\n",
      "7. Se filtraron solo flares de GOES.\n",
      "1. Descargar datos GOES\n",
      "Buscando datos de: 2023-12-31 00:00:00\n",
      "Descargando datos de 2023-12-31 00:00:00...\n"
     ]
    },
    {
     "name": "stderr",
     "output_type": "stream",
     "text": [
      "Files Downloaded: 100%|██████████| 4/4 [00:00<00:00,  7.46file/s]\n"
     ]
    },
    {
     "name": "stdout",
     "output_type": "stream",
     "text": [
      "Resolution = 1 minute\n",
      "Gráfica guardada en 2025-10-24_Download_for_specific_days/Data/Month_2023_12/data_graphs/GOES_2023-12-31_00-00-00.png\n",
      "Observatorio encontrado: GOES-16\n",
      "Se encontraron datos  GOES para 2023-12-31 00:00:00 - 2024-01-01 00:00:00. Día saltado.\n",
      "\n",
      "Número de registros: 1440\n",
      "Columnas disponibles: ['xrsa', 'xrsb', 'xrsa_quality', 'xrsb_quality']\n",
      "2. Restar Background\n",
      "Plot saved at: 2025-10-24_Download_for_specific_days/Data/Month_2023_12/data_graphs/GOES_diff_linear_2023-12-31_00-00-00.png\n",
      "Plot saved at: 2025-10-24_Download_for_specific_days/Data/Month_2023_12/data_graphs/GOES_diff_log_2023-12-31_00-00-00.png\n"
     ]
    },
    {
     "name": "stderr",
     "output_type": "stream",
     "text": [
      "/tmp/ipykernel_2397830/750897493.py:225: FutureWarning: Downcasting behavior in Series and DataFrame methods 'where', 'mask', and 'clip' is deprecated. In a future version this will not infer object dtypes or cast all-round floats to integers. Instead call result.infer_objects(copy=False) for object inference, or cast round floats explicitly. To opt-in to the future behavior, set `pd.set_option('future.no_silent_downcasting', True)`\n",
      "  df_o = df_o.clip(lower=1e-9)\n",
      "WARNING: SunpyUserWarning: No information about primary/secondary detectors in XRSTimeSeries, assuming primary for all [sunkit_instruments.goes_xrs.goes_chianti_tem]\n",
      "2025-10-24 15:23:16 - sunpy - WARNING: SunpyUserWarning: No information about primary/secondary detectors in XRSTimeSeries, assuming primary for all\n"
     ]
    },
    {
     "name": "stdout",
     "output_type": "stream",
     "text": [
      "Plot saved at: 2025-10-24_Download_for_specific_days/Data/Month_2023_12/data_graphs/GOES_diff_positive_2023-12-31_00-00-00.png\n",
      "3. USAR FUNCIÓN SUNPY calculate_t_em\n",
      "Ahora vamos a calcular la T y EM con el modelo de abundancias:coronal\n"
     ]
    },
    {
     "name": "stderr",
     "output_type": "stream",
     "text": [
      "Files Downloaded: 100%|██████████| 1/1 [00:00<00:00,  1.21file/s]\n",
      "/home/pjgonzalesp/miniforge3/envs/sunpy/lib/python3.13/site-packages/astropy/units/quantity.py:659: RuntimeWarning: invalid value encountered in divide\n",
      "  result = super().__array_ufunc__(function, method, *arrays, **kwargs)\n"
     ]
    },
    {
     "name": "stdout",
     "output_type": "stream",
     "text": [
      "se calculó T y EM con el modelo de abundancias:coronal\n",
      "Ahora vamos a calcular la T y EM con el modelo de abundancias:photospheric\n"
     ]
    },
    {
     "name": "stderr",
     "output_type": "stream",
     "text": [
      "Files Downloaded: 100%|██████████| 1/1 [00:00<00:00,  1.24file/s]\n",
      "2025-10-24 15:23:18 - root - INFO: Searching for GOES flares between 2023-12-31 00:00:00 and 2024-01-01 00:00:00...\n"
     ]
    },
    {
     "name": "stdout",
     "output_type": "stream",
     "text": [
      "se calculó T y EM con el modelo de abundancias:photospheric\n",
      "4. CONSTRUIR df_full\n",
      "5. añadiendo observatorio: GOES: GOES-16\n",
      "se añadió observatorio: GOES: GOES-16\n",
      "6. Descargando flares: 2023-12-31 00:00:00 - 2024-01-01 00:00:00\n"
     ]
    },
    {
     "name": "stderr",
     "output_type": "stream",
     "text": [
      "2025-10-24 15:23:21 - root - INFO: Found 12 GOES solar flares between 2023-12-31 00:00:00 and 2024-01-01 00:00:00.\n",
      "Día 103 de 185: 2024-02-09\n"
     ]
    },
    {
     "name": "stdout",
     "output_type": "stream",
     "text": [
      "Se descargaron flares para el intervalo 2023-12-31 00:00:00 - 2024-01-01 00:00:00.\n",
      "7. Se filtraron solo flares de GOES.\n",
      "💾 df_full_2023_12.csv actualizado (2880 filas)\n",
      "✅ Días descargados este mes: [datetime.date(2023, 12, 14), datetime.date(2023, 12, 31)]\n",
      "💾 df_flare_data_2023_12.csv actualizado (21 filas)\n",
      "🏁 Mes 2023_12 terminado → 2025-10-24_Download_for_specific_days/Data/Month_2023_12\n",
      "\n",
      "========================================\n",
      "🟦 Procesando mes 2024_02 (4 días)\n",
      "========================================\n",
      "1. Descargar datos GOES\n",
      "Buscando datos de: 2024-02-09 00:00:00\n",
      "Descargando datos de 2024-02-09 00:00:00...\n"
     ]
    },
    {
     "name": "stderr",
     "output_type": "stream",
     "text": [
      "Files Downloaded: 100%|██████████| 4/4 [00:00<00:00,  8.20file/s]\n"
     ]
    },
    {
     "name": "stdout",
     "output_type": "stream",
     "text": [
      "Resolution = 1 minute\n",
      "Gráfica guardada en 2025-10-24_Download_for_specific_days/Data/Month_2024_02/data_graphs/GOES_2024-02-09_00-00-00.png\n",
      "Observatorio encontrado: GOES-16\n",
      "Se encontraron datos  GOES para 2024-02-09 00:00:00 - 2024-02-10 00:00:00. Día saltado.\n",
      "\n",
      "Número de registros: 1440\n",
      "Columnas disponibles: ['xrsa', 'xrsb', 'xrsa_quality', 'xrsb_quality']\n",
      "2. Restar Background\n",
      "Plot saved at: 2025-10-24_Download_for_specific_days/Data/Month_2024_02/data_graphs/GOES_diff_linear_2024-02-09_00-00-00.png\n",
      "Plot saved at: 2025-10-24_Download_for_specific_days/Data/Month_2024_02/data_graphs/GOES_diff_log_2024-02-09_00-00-00.png\n"
     ]
    },
    {
     "name": "stderr",
     "output_type": "stream",
     "text": [
      "/tmp/ipykernel_2397830/750897493.py:225: FutureWarning: Downcasting behavior in Series and DataFrame methods 'where', 'mask', and 'clip' is deprecated. In a future version this will not infer object dtypes or cast all-round floats to integers. Instead call result.infer_objects(copy=False) for object inference, or cast round floats explicitly. To opt-in to the future behavior, set `pd.set_option('future.no_silent_downcasting', True)`\n",
      "  df_o = df_o.clip(lower=1e-9)\n",
      "WARNING: SunpyUserWarning: No information about primary/secondary detectors in XRSTimeSeries, assuming primary for all [sunkit_instruments.goes_xrs.goes_chianti_tem]\n",
      "2025-10-24 15:23:30 - sunpy - WARNING: SunpyUserWarning: No information about primary/secondary detectors in XRSTimeSeries, assuming primary for all\n"
     ]
    },
    {
     "name": "stdout",
     "output_type": "stream",
     "text": [
      "Plot saved at: 2025-10-24_Download_for_specific_days/Data/Month_2024_02/data_graphs/GOES_diff_positive_2024-02-09_00-00-00.png\n",
      "3. USAR FUNCIÓN SUNPY calculate_t_em\n",
      "Ahora vamos a calcular la T y EM con el modelo de abundancias:coronal\n"
     ]
    },
    {
     "name": "stderr",
     "output_type": "stream",
     "text": [
      "Files Downloaded: 100%|██████████| 1/1 [00:00<00:00,  1.24file/s]\n",
      "/home/pjgonzalesp/miniforge3/envs/sunpy/lib/python3.13/site-packages/astropy/units/quantity.py:659: RuntimeWarning: invalid value encountered in divide\n",
      "  result = super().__array_ufunc__(function, method, *arrays, **kwargs)\n"
     ]
    },
    {
     "name": "stdout",
     "output_type": "stream",
     "text": [
      "se calculó T y EM con el modelo de abundancias:coronal\n",
      "Ahora vamos a calcular la T y EM con el modelo de abundancias:photospheric\n"
     ]
    },
    {
     "name": "stderr",
     "output_type": "stream",
     "text": [
      "Files Downloaded: 100%|██████████| 1/1 [00:00<00:00,  1.20file/s]\n",
      "2025-10-24 15:23:32 - root - INFO: Searching for GOES flares between 2024-02-09 00:00:00 and 2024-02-10 00:00:00...\n"
     ]
    },
    {
     "name": "stdout",
     "output_type": "stream",
     "text": [
      "se calculó T y EM con el modelo de abundancias:photospheric\n",
      "4. CONSTRUIR df_full\n",
      "5. añadiendo observatorio: GOES: GOES-16\n",
      "se añadió observatorio: GOES: GOES-16\n",
      "6. Descargando flares: 2024-02-09 00:00:00 - 2024-02-10 00:00:00\n"
     ]
    },
    {
     "name": "stderr",
     "output_type": "stream",
     "text": [
      "2025-10-24 15:23:35 - root - INFO: Found 12 GOES solar flares between 2024-02-09 00:00:00 and 2024-02-10 00:00:00.\n",
      "Día 104 de 185: 2024-02-16\n"
     ]
    },
    {
     "name": "stdout",
     "output_type": "stream",
     "text": [
      "Se descargaron flares para el intervalo 2024-02-09 00:00:00 - 2024-02-10 00:00:00.\n",
      "7. Se filtraron solo flares de GOES.\n",
      "1. Descargar datos GOES\n",
      "Buscando datos de: 2024-02-16 00:00:00\n",
      "Descargando datos de 2024-02-16 00:00:00...\n"
     ]
    },
    {
     "name": "stderr",
     "output_type": "stream",
     "text": [
      "Files Downloaded: 100%|██████████| 4/4 [00:00<00:00,  7.88file/s]\n"
     ]
    },
    {
     "name": "stdout",
     "output_type": "stream",
     "text": [
      "Resolution = 1 minute\n",
      "Gráfica guardada en 2025-10-24_Download_for_specific_days/Data/Month_2024_02/data_graphs/GOES_2024-02-16_00-00-00.png\n",
      "Observatorio encontrado: GOES-16\n",
      "Se encontraron datos  GOES para 2024-02-16 00:00:00 - 2024-02-17 00:00:00. Día saltado.\n",
      "\n",
      "Número de registros: 1440\n",
      "Columnas disponibles: ['xrsa', 'xrsb', 'xrsa_quality', 'xrsb_quality']\n",
      "2. Restar Background\n",
      "Plot saved at: 2025-10-24_Download_for_specific_days/Data/Month_2024_02/data_graphs/GOES_diff_linear_2024-02-16_00-00-00.png\n",
      "Plot saved at: 2025-10-24_Download_for_specific_days/Data/Month_2024_02/data_graphs/GOES_diff_log_2024-02-16_00-00-00.png\n"
     ]
    },
    {
     "name": "stderr",
     "output_type": "stream",
     "text": [
      "/tmp/ipykernel_2397830/750897493.py:225: FutureWarning: Downcasting behavior in Series and DataFrame methods 'where', 'mask', and 'clip' is deprecated. In a future version this will not infer object dtypes or cast all-round floats to integers. Instead call result.infer_objects(copy=False) for object inference, or cast round floats explicitly. To opt-in to the future behavior, set `pd.set_option('future.no_silent_downcasting', True)`\n",
      "  df_o = df_o.clip(lower=1e-9)\n",
      "WARNING: SunpyUserWarning: No information about primary/secondary detectors in XRSTimeSeries, assuming primary for all [sunkit_instruments.goes_xrs.goes_chianti_tem]\n",
      "2025-10-24 15:23:44 - sunpy - WARNING: SunpyUserWarning: No information about primary/secondary detectors in XRSTimeSeries, assuming primary for all\n"
     ]
    },
    {
     "name": "stdout",
     "output_type": "stream",
     "text": [
      "Plot saved at: 2025-10-24_Download_for_specific_days/Data/Month_2024_02/data_graphs/GOES_diff_positive_2024-02-16_00-00-00.png\n",
      "3. USAR FUNCIÓN SUNPY calculate_t_em\n",
      "Ahora vamos a calcular la T y EM con el modelo de abundancias:coronal\n"
     ]
    },
    {
     "name": "stderr",
     "output_type": "stream",
     "text": [
      "Files Downloaded: 100%|██████████| 1/1 [00:01<00:00,  1.19s/file]\n",
      "/home/pjgonzalesp/miniforge3/envs/sunpy/lib/python3.13/site-packages/astropy/units/quantity.py:659: RuntimeWarning: invalid value encountered in divide\n",
      "  result = super().__array_ufunc__(function, method, *arrays, **kwargs)\n"
     ]
    },
    {
     "name": "stdout",
     "output_type": "stream",
     "text": [
      "se calculó T y EM con el modelo de abundancias:coronal\n",
      "Ahora vamos a calcular la T y EM con el modelo de abundancias:photospheric\n"
     ]
    },
    {
     "name": "stderr",
     "output_type": "stream",
     "text": [
      "Files Downloaded: 100%|██████████| 1/1 [00:00<00:00,  1.21file/s]\n",
      "2025-10-24 15:23:47 - root - INFO: Searching for GOES flares between 2024-02-16 00:00:00 and 2024-02-17 00:00:00...\n"
     ]
    },
    {
     "name": "stdout",
     "output_type": "stream",
     "text": [
      "se calculó T y EM con el modelo de abundancias:photospheric\n",
      "4. CONSTRUIR df_full\n",
      "5. añadiendo observatorio: GOES: GOES-16\n",
      "se añadió observatorio: GOES: GOES-16\n",
      "6. Descargando flares: 2024-02-16 00:00:00 - 2024-02-17 00:00:00\n"
     ]
    },
    {
     "name": "stderr",
     "output_type": "stream",
     "text": [
      "2025-10-24 15:23:49 - root - INFO: Found 10 GOES solar flares between 2024-02-16 00:00:00 and 2024-02-17 00:00:00.\n",
      "Día 105 de 185: 2024-02-21\n"
     ]
    },
    {
     "name": "stdout",
     "output_type": "stream",
     "text": [
      "Se descargaron flares para el intervalo 2024-02-16 00:00:00 - 2024-02-17 00:00:00.\n",
      "7. Se filtraron solo flares de GOES.\n",
      "1. Descargar datos GOES\n",
      "Buscando datos de: 2024-02-21 00:00:00\n",
      "Descargando datos de 2024-02-21 00:00:00...\n"
     ]
    },
    {
     "name": "stderr",
     "output_type": "stream",
     "text": [
      "Files Downloaded: 100%|██████████| 4/4 [00:00<00:00,  7.64file/s]\n"
     ]
    },
    {
     "name": "stdout",
     "output_type": "stream",
     "text": [
      "Resolution = 1 minute\n",
      "Gráfica guardada en 2025-10-24_Download_for_specific_days/Data/Month_2024_02/data_graphs/GOES_2024-02-21_00-00-00.png\n",
      "Observatorio encontrado: GOES-16\n",
      "Se encontraron datos  GOES para 2024-02-21 00:00:00 - 2024-02-22 00:00:00. Día saltado.\n",
      "\n",
      "Número de registros: 1440\n",
      "Columnas disponibles: ['xrsa', 'xrsb', 'xrsa_quality', 'xrsb_quality']\n",
      "2. Restar Background\n",
      "Plot saved at: 2025-10-24_Download_for_specific_days/Data/Month_2024_02/data_graphs/GOES_diff_linear_2024-02-21_00-00-00.png\n",
      "Plot saved at: 2025-10-24_Download_for_specific_days/Data/Month_2024_02/data_graphs/GOES_diff_log_2024-02-21_00-00-00.png\n"
     ]
    },
    {
     "name": "stderr",
     "output_type": "stream",
     "text": [
      "/tmp/ipykernel_2397830/750897493.py:225: FutureWarning: Downcasting behavior in Series and DataFrame methods 'where', 'mask', and 'clip' is deprecated. In a future version this will not infer object dtypes or cast all-round floats to integers. Instead call result.infer_objects(copy=False) for object inference, or cast round floats explicitly. To opt-in to the future behavior, set `pd.set_option('future.no_silent_downcasting', True)`\n",
      "  df_o = df_o.clip(lower=1e-9)\n",
      "WARNING: SunpyUserWarning: No information about primary/secondary detectors in XRSTimeSeries, assuming primary for all [sunkit_instruments.goes_xrs.goes_chianti_tem]\n",
      "2025-10-24 15:23:58 - sunpy - WARNING: SunpyUserWarning: No information about primary/secondary detectors in XRSTimeSeries, assuming primary for all\n"
     ]
    },
    {
     "name": "stdout",
     "output_type": "stream",
     "text": [
      "Plot saved at: 2025-10-24_Download_for_specific_days/Data/Month_2024_02/data_graphs/GOES_diff_positive_2024-02-21_00-00-00.png\n",
      "3. USAR FUNCIÓN SUNPY calculate_t_em\n",
      "Ahora vamos a calcular la T y EM con el modelo de abundancias:coronal\n"
     ]
    },
    {
     "name": "stderr",
     "output_type": "stream",
     "text": [
      "Files Downloaded: 100%|██████████| 1/1 [00:01<00:00,  1.81s/file]\n",
      "/home/pjgonzalesp/miniforge3/envs/sunpy/lib/python3.13/site-packages/astropy/units/quantity.py:659: RuntimeWarning: invalid value encountered in divide\n",
      "  result = super().__array_ufunc__(function, method, *arrays, **kwargs)\n"
     ]
    },
    {
     "name": "stdout",
     "output_type": "stream",
     "text": [
      "se calculó T y EM con el modelo de abundancias:coronal\n",
      "Ahora vamos a calcular la T y EM con el modelo de abundancias:photospheric\n"
     ]
    },
    {
     "name": "stderr",
     "output_type": "stream",
     "text": [
      "Files Downloaded: 100%|██████████| 1/1 [00:01<00:00,  1.22s/file]\n",
      "2025-10-24 15:24:02 - root - INFO: Searching for GOES flares between 2024-02-21 00:00:00 and 2024-02-22 00:00:00...\n"
     ]
    },
    {
     "name": "stdout",
     "output_type": "stream",
     "text": [
      "se calculó T y EM con el modelo de abundancias:photospheric\n",
      "4. CONSTRUIR df_full\n",
      "5. añadiendo observatorio: GOES: GOES-16\n",
      "se añadió observatorio: GOES: GOES-16\n",
      "6. Descargando flares: 2024-02-21 00:00:00 - 2024-02-22 00:00:00\n"
     ]
    },
    {
     "name": "stderr",
     "output_type": "stream",
     "text": [
      "2025-10-24 15:24:05 - root - INFO: Found 17 GOES solar flares between 2024-02-21 00:00:00 and 2024-02-22 00:00:00.\n",
      "Día 106 de 185: 2024-02-22\n"
     ]
    },
    {
     "name": "stdout",
     "output_type": "stream",
     "text": [
      "Se descargaron flares para el intervalo 2024-02-21 00:00:00 - 2024-02-22 00:00:00.\n",
      "7. Se filtraron solo flares de GOES.\n",
      "1. Descargar datos GOES\n",
      "Buscando datos de: 2024-02-22 00:00:00\n",
      "Descargando datos de 2024-02-22 00:00:00...\n"
     ]
    },
    {
     "name": "stderr",
     "output_type": "stream",
     "text": [
      "Files Downloaded: 100%|██████████| 4/4 [00:00<00:00,  8.11file/s]\n"
     ]
    },
    {
     "name": "stdout",
     "output_type": "stream",
     "text": [
      "Resolution = 1 minute\n",
      "Gráfica guardada en 2025-10-24_Download_for_specific_days/Data/Month_2024_02/data_graphs/GOES_2024-02-22_00-00-00.png\n",
      "Observatorio encontrado: GOES-16\n",
      "Se encontraron datos  GOES para 2024-02-22 00:00:00 - 2024-02-23 00:00:00. Día saltado.\n",
      "\n",
      "Número de registros: 1440\n",
      "Columnas disponibles: ['xrsa', 'xrsb', 'xrsa_quality', 'xrsb_quality']\n",
      "2. Restar Background\n",
      "Plot saved at: 2025-10-24_Download_for_specific_days/Data/Month_2024_02/data_graphs/GOES_diff_linear_2024-02-22_00-00-00.png\n",
      "Plot saved at: 2025-10-24_Download_for_specific_days/Data/Month_2024_02/data_graphs/GOES_diff_log_2024-02-22_00-00-00.png\n"
     ]
    },
    {
     "name": "stderr",
     "output_type": "stream",
     "text": [
      "/tmp/ipykernel_2397830/750897493.py:225: FutureWarning: Downcasting behavior in Series and DataFrame methods 'where', 'mask', and 'clip' is deprecated. In a future version this will not infer object dtypes or cast all-round floats to integers. Instead call result.infer_objects(copy=False) for object inference, or cast round floats explicitly. To opt-in to the future behavior, set `pd.set_option('future.no_silent_downcasting', True)`\n",
      "  df_o = df_o.clip(lower=1e-9)\n",
      "WARNING: SunpyUserWarning: No information about primary/secondary detectors in XRSTimeSeries, assuming primary for all [sunkit_instruments.goes_xrs.goes_chianti_tem]\n",
      "2025-10-24 15:24:14 - sunpy - WARNING: SunpyUserWarning: No information about primary/secondary detectors in XRSTimeSeries, assuming primary for all\n"
     ]
    },
    {
     "name": "stdout",
     "output_type": "stream",
     "text": [
      "Plot saved at: 2025-10-24_Download_for_specific_days/Data/Month_2024_02/data_graphs/GOES_diff_positive_2024-02-22_00-00-00.png\n",
      "3. USAR FUNCIÓN SUNPY calculate_t_em\n",
      "Ahora vamos a calcular la T y EM con el modelo de abundancias:coronal\n"
     ]
    },
    {
     "name": "stderr",
     "output_type": "stream",
     "text": [
      "Files Downloaded: 100%|██████████| 1/1 [00:00<00:00,  1.24file/s]\n",
      "/home/pjgonzalesp/miniforge3/envs/sunpy/lib/python3.13/site-packages/astropy/units/quantity.py:659: RuntimeWarning: invalid value encountered in divide\n",
      "  result = super().__array_ufunc__(function, method, *arrays, **kwargs)\n"
     ]
    },
    {
     "name": "stdout",
     "output_type": "stream",
     "text": [
      "se calculó T y EM con el modelo de abundancias:coronal\n",
      "Ahora vamos a calcular la T y EM con el modelo de abundancias:photospheric\n"
     ]
    },
    {
     "name": "stderr",
     "output_type": "stream",
     "text": [
      "Files Downloaded: 100%|██████████| 1/1 [00:00<00:00,  1.24file/s]\n",
      "2025-10-24 15:24:16 - root - INFO: Searching for GOES flares between 2024-02-22 00:00:00 and 2024-02-23 00:00:00...\n"
     ]
    },
    {
     "name": "stdout",
     "output_type": "stream",
     "text": [
      "se calculó T y EM con el modelo de abundancias:photospheric\n",
      "4. CONSTRUIR df_full\n",
      "5. añadiendo observatorio: GOES: GOES-16\n",
      "se añadió observatorio: GOES: GOES-16\n",
      "6. Descargando flares: 2024-02-22 00:00:00 - 2024-02-23 00:00:00\n"
     ]
    },
    {
     "name": "stderr",
     "output_type": "stream",
     "text": [
      "2025-10-24 15:24:18 - root - INFO: Found 10 GOES solar flares between 2024-02-22 00:00:00 and 2024-02-23 00:00:00.\n",
      "Día 107 de 185: 2024-03-23\n"
     ]
    },
    {
     "name": "stdout",
     "output_type": "stream",
     "text": [
      "Se descargaron flares para el intervalo 2024-02-22 00:00:00 - 2024-02-23 00:00:00.\n",
      "7. Se filtraron solo flares de GOES.\n",
      "💾 df_full_2024_02.csv actualizado (5760 filas)\n",
      "✅ Días descargados este mes: [datetime.date(2024, 2, 9), datetime.date(2024, 2, 16), datetime.date(2024, 2, 21), datetime.date(2024, 2, 22)]\n",
      "💾 df_flare_data_2024_02.csv actualizado (49 filas)\n",
      "🏁 Mes 2024_02 terminado → 2025-10-24_Download_for_specific_days/Data/Month_2024_02\n",
      "\n",
      "========================================\n",
      "🟦 Procesando mes 2024_03 (2 días)\n",
      "========================================\n",
      "1. Descargar datos GOES\n",
      "Buscando datos de: 2024-03-23 00:00:00\n",
      "Descargando datos de 2024-03-23 00:00:00...\n"
     ]
    },
    {
     "name": "stderr",
     "output_type": "stream",
     "text": [
      "Files Downloaded: 100%|██████████| 4/4 [00:00<00:00,  7.79file/s]\n"
     ]
    },
    {
     "name": "stdout",
     "output_type": "stream",
     "text": [
      "Resolution = 1 minute\n",
      "Gráfica guardada en 2025-10-24_Download_for_specific_days/Data/Month_2024_03/data_graphs/GOES_2024-03-23_00-00-00.png\n",
      "Observatorio encontrado: GOES-16\n",
      "Se encontraron datos  GOES para 2024-03-23 00:00:00 - 2024-03-24 00:00:00. Día saltado.\n",
      "\n",
      "Número de registros: 1440\n",
      "Columnas disponibles: ['xrsa', 'xrsb', 'xrsa_quality', 'xrsb_quality']\n",
      "2. Restar Background\n",
      "Plot saved at: 2025-10-24_Download_for_specific_days/Data/Month_2024_03/data_graphs/GOES_diff_linear_2024-03-23_00-00-00.png\n",
      "Plot saved at: 2025-10-24_Download_for_specific_days/Data/Month_2024_03/data_graphs/GOES_diff_log_2024-03-23_00-00-00.png\n"
     ]
    },
    {
     "name": "stderr",
     "output_type": "stream",
     "text": [
      "/tmp/ipykernel_2397830/750897493.py:225: FutureWarning: Downcasting behavior in Series and DataFrame methods 'where', 'mask', and 'clip' is deprecated. In a future version this will not infer object dtypes or cast all-round floats to integers. Instead call result.infer_objects(copy=False) for object inference, or cast round floats explicitly. To opt-in to the future behavior, set `pd.set_option('future.no_silent_downcasting', True)`\n",
      "  df_o = df_o.clip(lower=1e-9)\n",
      "WARNING: SunpyUserWarning: No information about primary/secondary detectors in XRSTimeSeries, assuming primary for all [sunkit_instruments.goes_xrs.goes_chianti_tem]\n",
      "2025-10-24 15:24:28 - sunpy - WARNING: SunpyUserWarning: No information about primary/secondary detectors in XRSTimeSeries, assuming primary for all\n"
     ]
    },
    {
     "name": "stdout",
     "output_type": "stream",
     "text": [
      "Plot saved at: 2025-10-24_Download_for_specific_days/Data/Month_2024_03/data_graphs/GOES_diff_positive_2024-03-23_00-00-00.png\n",
      "3. USAR FUNCIÓN SUNPY calculate_t_em\n",
      "Ahora vamos a calcular la T y EM con el modelo de abundancias:coronal\n"
     ]
    },
    {
     "name": "stderr",
     "output_type": "stream",
     "text": [
      "Files Downloaded: 100%|██████████| 1/1 [00:00<00:00,  1.19file/s]\n",
      "/home/pjgonzalesp/miniforge3/envs/sunpy/lib/python3.13/site-packages/astropy/units/quantity.py:659: RuntimeWarning: invalid value encountered in divide\n",
      "  result = super().__array_ufunc__(function, method, *arrays, **kwargs)\n"
     ]
    },
    {
     "name": "stdout",
     "output_type": "stream",
     "text": [
      "se calculó T y EM con el modelo de abundancias:coronal\n",
      "Ahora vamos a calcular la T y EM con el modelo de abundancias:photospheric\n"
     ]
    },
    {
     "name": "stderr",
     "output_type": "stream",
     "text": [
      "Files Downloaded: 100%|██████████| 1/1 [00:00<00:00,  1.09file/s]\n",
      "2025-10-24 15:24:30 - root - INFO: Searching for GOES flares between 2024-03-23 00:00:00 and 2024-03-24 00:00:00...\n"
     ]
    },
    {
     "name": "stdout",
     "output_type": "stream",
     "text": [
      "se calculó T y EM con el modelo de abundancias:photospheric\n",
      "4. CONSTRUIR df_full\n",
      "5. añadiendo observatorio: GOES: GOES-16\n",
      "se añadió observatorio: GOES: GOES-16\n",
      "6. Descargando flares: 2024-03-23 00:00:00 - 2024-03-24 00:00:00\n"
     ]
    },
    {
     "name": "stderr",
     "output_type": "stream",
     "text": [
      "2025-10-24 15:24:33 - root - INFO: Found 19 GOES solar flares between 2024-03-23 00:00:00 and 2024-03-24 00:00:00.\n",
      "Día 108 de 185: 2024-03-28\n"
     ]
    },
    {
     "name": "stdout",
     "output_type": "stream",
     "text": [
      "Se descargaron flares para el intervalo 2024-03-23 00:00:00 - 2024-03-24 00:00:00.\n",
      "7. Se filtraron solo flares de GOES.\n",
      "1. Descargar datos GOES\n",
      "Buscando datos de: 2024-03-28 00:00:00\n",
      "Descargando datos de 2024-03-28 00:00:00...\n"
     ]
    },
    {
     "name": "stderr",
     "output_type": "stream",
     "text": [
      "Files Downloaded: 100%|██████████| 4/4 [00:00<00:00,  7.64file/s]\n"
     ]
    },
    {
     "name": "stdout",
     "output_type": "stream",
     "text": [
      "Resolution = 1 minute\n",
      "Gráfica guardada en 2025-10-24_Download_for_specific_days/Data/Month_2024_03/data_graphs/GOES_2024-03-28_00-00-00.png\n",
      "Observatorio encontrado: GOES-16\n",
      "Se encontraron datos  GOES para 2024-03-28 00:00:00 - 2024-03-29 00:00:00. Día saltado.\n",
      "\n",
      "Número de registros: 1440\n",
      "Columnas disponibles: ['xrsa', 'xrsb', 'xrsa_quality', 'xrsb_quality']\n",
      "2. Restar Background\n",
      "Plot saved at: 2025-10-24_Download_for_specific_days/Data/Month_2024_03/data_graphs/GOES_diff_linear_2024-03-28_00-00-00.png\n",
      "Plot saved at: 2025-10-24_Download_for_specific_days/Data/Month_2024_03/data_graphs/GOES_diff_log_2024-03-28_00-00-00.png\n"
     ]
    },
    {
     "name": "stderr",
     "output_type": "stream",
     "text": [
      "/tmp/ipykernel_2397830/750897493.py:225: FutureWarning: Downcasting behavior in Series and DataFrame methods 'where', 'mask', and 'clip' is deprecated. In a future version this will not infer object dtypes or cast all-round floats to integers. Instead call result.infer_objects(copy=False) for object inference, or cast round floats explicitly. To opt-in to the future behavior, set `pd.set_option('future.no_silent_downcasting', True)`\n",
      "  df_o = df_o.clip(lower=1e-9)\n",
      "WARNING: SunpyUserWarning: No information about primary/secondary detectors in XRSTimeSeries, assuming primary for all [sunkit_instruments.goes_xrs.goes_chianti_tem]\n",
      "2025-10-24 15:24:42 - sunpy - WARNING: SunpyUserWarning: No information about primary/secondary detectors in XRSTimeSeries, assuming primary for all\n"
     ]
    },
    {
     "name": "stdout",
     "output_type": "stream",
     "text": [
      "Plot saved at: 2025-10-24_Download_for_specific_days/Data/Month_2024_03/data_graphs/GOES_diff_positive_2024-03-28_00-00-00.png\n",
      "3. USAR FUNCIÓN SUNPY calculate_t_em\n",
      "Ahora vamos a calcular la T y EM con el modelo de abundancias:coronal\n"
     ]
    },
    {
     "name": "stderr",
     "output_type": "stream",
     "text": [
      "Files Downloaded: 100%|██████████| 1/1 [00:00<00:00,  1.17file/s]\n",
      "/home/pjgonzalesp/miniforge3/envs/sunpy/lib/python3.13/site-packages/astropy/units/quantity.py:659: RuntimeWarning: invalid value encountered in divide\n",
      "  result = super().__array_ufunc__(function, method, *arrays, **kwargs)\n"
     ]
    },
    {
     "name": "stdout",
     "output_type": "stream",
     "text": [
      "se calculó T y EM con el modelo de abundancias:coronal\n",
      "Ahora vamos a calcular la T y EM con el modelo de abundancias:photospheric\n"
     ]
    },
    {
     "name": "stderr",
     "output_type": "stream",
     "text": [
      "Files Downloaded: 100%|██████████| 1/1 [00:01<00:00,  1.25s/file]\n",
      "2025-10-24 15:24:45 - root - INFO: Searching for GOES flares between 2024-03-28 00:00:00 and 2024-03-29 00:00:00...\n"
     ]
    },
    {
     "name": "stdout",
     "output_type": "stream",
     "text": [
      "se calculó T y EM con el modelo de abundancias:photospheric\n",
      "4. CONSTRUIR df_full\n",
      "5. añadiendo observatorio: GOES: GOES-16\n",
      "se añadió observatorio: GOES: GOES-16\n",
      "6. Descargando flares: 2024-03-28 00:00:00 - 2024-03-29 00:00:00\n"
     ]
    },
    {
     "name": "stderr",
     "output_type": "stream",
     "text": [
      "2025-10-24 15:24:48 - root - INFO: Found 12 GOES solar flares between 2024-03-28 00:00:00 and 2024-03-29 00:00:00.\n",
      "Día 109 de 185: 2024-05-03\n"
     ]
    },
    {
     "name": "stdout",
     "output_type": "stream",
     "text": [
      "Se descargaron flares para el intervalo 2024-03-28 00:00:00 - 2024-03-29 00:00:00.\n",
      "7. Se filtraron solo flares de GOES.\n",
      "💾 df_full_2024_03.csv actualizado (2880 filas)\n",
      "✅ Días descargados este mes: [datetime.date(2024, 3, 23), datetime.date(2024, 3, 28)]\n",
      "💾 df_flare_data_2024_03.csv actualizado (31 filas)\n",
      "🏁 Mes 2024_03 terminado → 2025-10-24_Download_for_specific_days/Data/Month_2024_03\n",
      "\n",
      "========================================\n",
      "🟦 Procesando mes 2024_05 (13 días)\n",
      "========================================\n",
      "1. Descargar datos GOES\n",
      "Buscando datos de: 2024-05-03 00:00:00\n",
      "Descargando datos de 2024-05-03 00:00:00...\n"
     ]
    },
    {
     "name": "stderr",
     "output_type": "stream",
     "text": [
      "Files Downloaded: 100%|██████████| 4/4 [00:00<00:00,  8.03file/s]\n"
     ]
    },
    {
     "name": "stdout",
     "output_type": "stream",
     "text": [
      "Resolution = 1 minute\n",
      "Gráfica guardada en 2025-10-24_Download_for_specific_days/Data/Month_2024_05/data_graphs/GOES_2024-05-03_00-00-00.png\n",
      "Observatorio encontrado: GOES-16\n",
      "Se encontraron datos  GOES para 2024-05-03 00:00:00 - 2024-05-04 00:00:00. Día saltado.\n",
      "\n",
      "Número de registros: 1440\n",
      "Columnas disponibles: ['xrsa', 'xrsb', 'xrsa_quality', 'xrsb_quality']\n",
      "2. Restar Background\n",
      "Plot saved at: 2025-10-24_Download_for_specific_days/Data/Month_2024_05/data_graphs/GOES_diff_linear_2024-05-03_00-00-00.png\n",
      "Plot saved at: 2025-10-24_Download_for_specific_days/Data/Month_2024_05/data_graphs/GOES_diff_log_2024-05-03_00-00-00.png\n"
     ]
    },
    {
     "name": "stderr",
     "output_type": "stream",
     "text": [
      "/tmp/ipykernel_2397830/750897493.py:225: FutureWarning: Downcasting behavior in Series and DataFrame methods 'where', 'mask', and 'clip' is deprecated. In a future version this will not infer object dtypes or cast all-round floats to integers. Instead call result.infer_objects(copy=False) for object inference, or cast round floats explicitly. To opt-in to the future behavior, set `pd.set_option('future.no_silent_downcasting', True)`\n",
      "  df_o = df_o.clip(lower=1e-9)\n",
      "WARNING: SunpyUserWarning: No information about primary/secondary detectors in XRSTimeSeries, assuming primary for all [sunkit_instruments.goes_xrs.goes_chianti_tem]\n",
      "2025-10-24 15:24:59 - sunpy - WARNING: SunpyUserWarning: No information about primary/secondary detectors in XRSTimeSeries, assuming primary for all\n"
     ]
    },
    {
     "name": "stdout",
     "output_type": "stream",
     "text": [
      "Plot saved at: 2025-10-24_Download_for_specific_days/Data/Month_2024_05/data_graphs/GOES_diff_positive_2024-05-03_00-00-00.png\n",
      "3. USAR FUNCIÓN SUNPY calculate_t_em\n",
      "Ahora vamos a calcular la T y EM con el modelo de abundancias:coronal\n"
     ]
    },
    {
     "name": "stderr",
     "output_type": "stream",
     "text": [
      "Files Downloaded: 100%|██████████| 1/1 [00:00<00:00,  1.17file/s]\n",
      "/home/pjgonzalesp/miniforge3/envs/sunpy/lib/python3.13/site-packages/astropy/units/quantity.py:659: RuntimeWarning: invalid value encountered in divide\n",
      "  result = super().__array_ufunc__(function, method, *arrays, **kwargs)\n"
     ]
    },
    {
     "name": "stdout",
     "output_type": "stream",
     "text": [
      "se calculó T y EM con el modelo de abundancias:coronal\n",
      "Ahora vamos a calcular la T y EM con el modelo de abundancias:photospheric\n"
     ]
    },
    {
     "name": "stderr",
     "output_type": "stream",
     "text": [
      "Files Downloaded: 100%|██████████| 1/1 [00:00<00:00,  1.21file/s]\n",
      "2025-10-24 15:25:02 - root - INFO: Searching for GOES flares between 2024-05-03 00:00:00 and 2024-05-04 00:00:00...\n"
     ]
    },
    {
     "name": "stdout",
     "output_type": "stream",
     "text": [
      "se calculó T y EM con el modelo de abundancias:photospheric\n",
      "4. CONSTRUIR df_full\n",
      "5. añadiendo observatorio: GOES: GOES-16\n",
      "se añadió observatorio: GOES: GOES-16\n",
      "6. Descargando flares: 2024-05-03 00:00:00 - 2024-05-04 00:00:00\n"
     ]
    },
    {
     "name": "stderr",
     "output_type": "stream",
     "text": [
      "2025-10-24 15:25:05 - root - INFO: Found 16 GOES solar flares between 2024-05-03 00:00:00 and 2024-05-04 00:00:00.\n",
      "Día 110 de 185: 2024-05-05\n"
     ]
    },
    {
     "name": "stdout",
     "output_type": "stream",
     "text": [
      "Se descargaron flares para el intervalo 2024-05-03 00:00:00 - 2024-05-04 00:00:00.\n",
      "7. Se filtraron solo flares de GOES.\n",
      "1. Descargar datos GOES\n",
      "Buscando datos de: 2024-05-05 00:00:00\n",
      "Descargando datos de 2024-05-05 00:00:00...\n"
     ]
    },
    {
     "name": "stderr",
     "output_type": "stream",
     "text": [
      "Files Downloaded: 100%|██████████| 4/4 [00:00<00:00,  8.19file/s]\n"
     ]
    },
    {
     "name": "stdout",
     "output_type": "stream",
     "text": [
      "Resolution = 1 minute\n",
      "Gráfica guardada en 2025-10-24_Download_for_specific_days/Data/Month_2024_05/data_graphs/GOES_2024-05-05_00-00-00.png\n",
      "Observatorio encontrado: GOES-16\n",
      "Se encontraron datos  GOES para 2024-05-05 00:00:00 - 2024-05-06 00:00:00. Día saltado.\n",
      "\n",
      "Número de registros: 1440\n",
      "Columnas disponibles: ['xrsa', 'xrsb', 'xrsa_quality', 'xrsb_quality']\n",
      "2. Restar Background\n",
      "Plot saved at: 2025-10-24_Download_for_specific_days/Data/Month_2024_05/data_graphs/GOES_diff_linear_2024-05-05_00-00-00.png\n",
      "Plot saved at: 2025-10-24_Download_for_specific_days/Data/Month_2024_05/data_graphs/GOES_diff_log_2024-05-05_00-00-00.png\n"
     ]
    },
    {
     "name": "stderr",
     "output_type": "stream",
     "text": [
      "/tmp/ipykernel_2397830/750897493.py:225: FutureWarning: Downcasting behavior in Series and DataFrame methods 'where', 'mask', and 'clip' is deprecated. In a future version this will not infer object dtypes or cast all-round floats to integers. Instead call result.infer_objects(copy=False) for object inference, or cast round floats explicitly. To opt-in to the future behavior, set `pd.set_option('future.no_silent_downcasting', True)`\n",
      "  df_o = df_o.clip(lower=1e-9)\n",
      "WARNING: SunpyUserWarning: No information about primary/secondary detectors in XRSTimeSeries, assuming primary for all [sunkit_instruments.goes_xrs.goes_chianti_tem]\n",
      "2025-10-24 15:25:14 - sunpy - WARNING: SunpyUserWarning: No information about primary/secondary detectors in XRSTimeSeries, assuming primary for all\n"
     ]
    },
    {
     "name": "stdout",
     "output_type": "stream",
     "text": [
      "Plot saved at: 2025-10-24_Download_for_specific_days/Data/Month_2024_05/data_graphs/GOES_diff_positive_2024-05-05_00-00-00.png\n",
      "3. USAR FUNCIÓN SUNPY calculate_t_em\n",
      "Ahora vamos a calcular la T y EM con el modelo de abundancias:coronal\n"
     ]
    },
    {
     "name": "stderr",
     "output_type": "stream",
     "text": [
      "Files Downloaded: 100%|██████████| 1/1 [00:00<00:00,  1.24file/s]\n",
      "/home/pjgonzalesp/miniforge3/envs/sunpy/lib/python3.13/site-packages/astropy/units/quantity.py:659: RuntimeWarning: invalid value encountered in divide\n",
      "  result = super().__array_ufunc__(function, method, *arrays, **kwargs)\n"
     ]
    },
    {
     "name": "stdout",
     "output_type": "stream",
     "text": [
      "se calculó T y EM con el modelo de abundancias:coronal\n",
      "Ahora vamos a calcular la T y EM con el modelo de abundancias:photospheric\n"
     ]
    },
    {
     "name": "stderr",
     "output_type": "stream",
     "text": [
      "Files Downloaded: 100%|██████████| 1/1 [00:00<00:00,  1.20file/s]\n",
      "2025-10-24 15:25:16 - root - INFO: Searching for GOES flares between 2024-05-05 00:00:00 and 2024-05-06 00:00:00...\n"
     ]
    },
    {
     "name": "stdout",
     "output_type": "stream",
     "text": [
      "se calculó T y EM con el modelo de abundancias:photospheric\n",
      "4. CONSTRUIR df_full\n",
      "5. añadiendo observatorio: GOES: GOES-16\n",
      "se añadió observatorio: GOES: GOES-16\n",
      "6. Descargando flares: 2024-05-05 00:00:00 - 2024-05-06 00:00:00\n"
     ]
    },
    {
     "name": "stderr",
     "output_type": "stream",
     "text": [
      "2025-10-24 15:25:20 - root - INFO: Found 21 GOES solar flares between 2024-05-05 00:00:00 and 2024-05-06 00:00:00.\n",
      "Día 111 de 185: 2024-05-06\n"
     ]
    },
    {
     "name": "stdout",
     "output_type": "stream",
     "text": [
      "Se descargaron flares para el intervalo 2024-05-05 00:00:00 - 2024-05-06 00:00:00.\n",
      "7. Se filtraron solo flares de GOES.\n",
      "1. Descargar datos GOES\n",
      "Buscando datos de: 2024-05-06 00:00:00\n",
      "Descargando datos de 2024-05-06 00:00:00...\n"
     ]
    },
    {
     "name": "stderr",
     "output_type": "stream",
     "text": [
      "Files Downloaded: 100%|██████████| 4/4 [00:00<00:00,  8.15file/s]\n"
     ]
    },
    {
     "name": "stdout",
     "output_type": "stream",
     "text": [
      "Resolution = 1 minute\n",
      "Gráfica guardada en 2025-10-24_Download_for_specific_days/Data/Month_2024_05/data_graphs/GOES_2024-05-06_00-00-00.png\n",
      "Observatorio encontrado: GOES-16\n",
      "Se encontraron datos  GOES para 2024-05-06 00:00:00 - 2024-05-07 00:00:00. Día saltado.\n",
      "\n",
      "Número de registros: 1440\n",
      "Columnas disponibles: ['xrsa', 'xrsb', 'xrsa_quality', 'xrsb_quality']\n",
      "2. Restar Background\n",
      "Plot saved at: 2025-10-24_Download_for_specific_days/Data/Month_2024_05/data_graphs/GOES_diff_linear_2024-05-06_00-00-00.png\n",
      "Plot saved at: 2025-10-24_Download_for_specific_days/Data/Month_2024_05/data_graphs/GOES_diff_log_2024-05-06_00-00-00.png\n"
     ]
    },
    {
     "name": "stderr",
     "output_type": "stream",
     "text": [
      "/tmp/ipykernel_2397830/750897493.py:225: FutureWarning: Downcasting behavior in Series and DataFrame methods 'where', 'mask', and 'clip' is deprecated. In a future version this will not infer object dtypes or cast all-round floats to integers. Instead call result.infer_objects(copy=False) for object inference, or cast round floats explicitly. To opt-in to the future behavior, set `pd.set_option('future.no_silent_downcasting', True)`\n",
      "  df_o = df_o.clip(lower=1e-9)\n",
      "WARNING: SunpyUserWarning: No information about primary/secondary detectors in XRSTimeSeries, assuming primary for all [sunkit_instruments.goes_xrs.goes_chianti_tem]\n",
      "2025-10-24 15:25:29 - sunpy - WARNING: SunpyUserWarning: No information about primary/secondary detectors in XRSTimeSeries, assuming primary for all\n"
     ]
    },
    {
     "name": "stdout",
     "output_type": "stream",
     "text": [
      "Plot saved at: 2025-10-24_Download_for_specific_days/Data/Month_2024_05/data_graphs/GOES_diff_positive_2024-05-06_00-00-00.png\n",
      "3. USAR FUNCIÓN SUNPY calculate_t_em\n",
      "Ahora vamos a calcular la T y EM con el modelo de abundancias:coronal\n"
     ]
    },
    {
     "name": "stderr",
     "output_type": "stream",
     "text": [
      "Files Downloaded: 100%|██████████| 1/1 [00:00<00:00,  1.23file/s]\n",
      "/home/pjgonzalesp/miniforge3/envs/sunpy/lib/python3.13/site-packages/astropy/units/quantity.py:659: RuntimeWarning: invalid value encountered in divide\n",
      "  result = super().__array_ufunc__(function, method, *arrays, **kwargs)\n"
     ]
    },
    {
     "name": "stdout",
     "output_type": "stream",
     "text": [
      "se calculó T y EM con el modelo de abundancias:coronal\n",
      "Ahora vamos a calcular la T y EM con el modelo de abundancias:photospheric\n"
     ]
    },
    {
     "name": "stderr",
     "output_type": "stream",
     "text": [
      "Files Downloaded: 100%|██████████| 1/1 [00:00<00:00,  1.24file/s]\n",
      "2025-10-24 15:25:31 - root - INFO: Searching for GOES flares between 2024-05-06 00:00:00 and 2024-05-07 00:00:00...\n"
     ]
    },
    {
     "name": "stdout",
     "output_type": "stream",
     "text": [
      "se calculó T y EM con el modelo de abundancias:photospheric\n",
      "4. CONSTRUIR df_full\n",
      "5. añadiendo observatorio: GOES: GOES-16\n",
      "se añadió observatorio: GOES: GOES-16\n",
      "6. Descargando flares: 2024-05-06 00:00:00 - 2024-05-07 00:00:00\n"
     ]
    },
    {
     "name": "stderr",
     "output_type": "stream",
     "text": [
      "2025-10-24 15:25:35 - root - INFO: Found 21 GOES solar flares between 2024-05-06 00:00:00 and 2024-05-07 00:00:00.\n",
      "Día 112 de 185: 2024-05-08\n"
     ]
    },
    {
     "name": "stdout",
     "output_type": "stream",
     "text": [
      "Se descargaron flares para el intervalo 2024-05-06 00:00:00 - 2024-05-07 00:00:00.\n",
      "7. Se filtraron solo flares de GOES.\n",
      "1. Descargar datos GOES\n",
      "Buscando datos de: 2024-05-08 00:00:00\n",
      "Descargando datos de 2024-05-08 00:00:00...\n"
     ]
    },
    {
     "name": "stderr",
     "output_type": "stream",
     "text": [
      "Files Downloaded: 100%|██████████| 4/4 [00:00<00:00,  8.17file/s]\n"
     ]
    },
    {
     "name": "stdout",
     "output_type": "stream",
     "text": [
      "Resolution = 1 minute\n",
      "Gráfica guardada en 2025-10-24_Download_for_specific_days/Data/Month_2024_05/data_graphs/GOES_2024-05-08_00-00-00.png\n",
      "Observatorio encontrado: GOES-16\n",
      "Se encontraron datos  GOES para 2024-05-08 00:00:00 - 2024-05-09 00:00:00. Día saltado.\n",
      "\n",
      "Número de registros: 1440\n",
      "Columnas disponibles: ['xrsa', 'xrsb', 'xrsa_quality', 'xrsb_quality']\n",
      "2. Restar Background\n",
      "Plot saved at: 2025-10-24_Download_for_specific_days/Data/Month_2024_05/data_graphs/GOES_diff_linear_2024-05-08_00-00-00.png\n",
      "Plot saved at: 2025-10-24_Download_for_specific_days/Data/Month_2024_05/data_graphs/GOES_diff_log_2024-05-08_00-00-00.png\n"
     ]
    },
    {
     "name": "stderr",
     "output_type": "stream",
     "text": [
      "/tmp/ipykernel_2397830/750897493.py:225: FutureWarning: Downcasting behavior in Series and DataFrame methods 'where', 'mask', and 'clip' is deprecated. In a future version this will not infer object dtypes or cast all-round floats to integers. Instead call result.infer_objects(copy=False) for object inference, or cast round floats explicitly. To opt-in to the future behavior, set `pd.set_option('future.no_silent_downcasting', True)`\n",
      "  df_o = df_o.clip(lower=1e-9)\n",
      "WARNING: SunpyUserWarning: No information about primary/secondary detectors in XRSTimeSeries, assuming primary for all [sunkit_instruments.goes_xrs.goes_chianti_tem]\n",
      "2025-10-24 15:25:44 - sunpy - WARNING: SunpyUserWarning: No information about primary/secondary detectors in XRSTimeSeries, assuming primary for all\n"
     ]
    },
    {
     "name": "stdout",
     "output_type": "stream",
     "text": [
      "Plot saved at: 2025-10-24_Download_for_specific_days/Data/Month_2024_05/data_graphs/GOES_diff_positive_2024-05-08_00-00-00.png\n",
      "3. USAR FUNCIÓN SUNPY calculate_t_em\n",
      "Ahora vamos a calcular la T y EM con el modelo de abundancias:coronal\n"
     ]
    },
    {
     "name": "stderr",
     "output_type": "stream",
     "text": [
      "Files Downloaded: 100%|██████████| 1/1 [00:00<00:00,  1.24file/s]\n",
      "/home/pjgonzalesp/miniforge3/envs/sunpy/lib/python3.13/site-packages/astropy/units/quantity.py:659: RuntimeWarning: invalid value encountered in divide\n",
      "  result = super().__array_ufunc__(function, method, *arrays, **kwargs)\n"
     ]
    },
    {
     "name": "stdout",
     "output_type": "stream",
     "text": [
      "se calculó T y EM con el modelo de abundancias:coronal\n",
      "Ahora vamos a calcular la T y EM con el modelo de abundancias:photospheric\n"
     ]
    },
    {
     "name": "stderr",
     "output_type": "stream",
     "text": [
      "Files Downloaded: 100%|██████████| 1/1 [00:00<00:00,  1.24file/s]\n",
      "2025-10-24 15:25:46 - root - INFO: Searching for GOES flares between 2024-05-08 00:00:00 and 2024-05-09 00:00:00...\n"
     ]
    },
    {
     "name": "stdout",
     "output_type": "stream",
     "text": [
      "se calculó T y EM con el modelo de abundancias:photospheric\n",
      "4. CONSTRUIR df_full\n",
      "5. añadiendo observatorio: GOES: GOES-16\n",
      "se añadió observatorio: GOES: GOES-16\n",
      "6. Descargando flares: 2024-05-08 00:00:00 - 2024-05-09 00:00:00\n"
     ]
    },
    {
     "name": "stderr",
     "output_type": "stream",
     "text": [
      "2025-10-24 15:25:49 - root - INFO: Found 21 GOES solar flares between 2024-05-08 00:00:00 and 2024-05-09 00:00:00.\n",
      "Día 113 de 185: 2024-05-09\n"
     ]
    },
    {
     "name": "stdout",
     "output_type": "stream",
     "text": [
      "Se descargaron flares para el intervalo 2024-05-08 00:00:00 - 2024-05-09 00:00:00.\n",
      "7. Se filtraron solo flares de GOES.\n",
      "1. Descargar datos GOES\n",
      "Buscando datos de: 2024-05-09 00:00:00\n",
      "Descargando datos de 2024-05-09 00:00:00...\n"
     ]
    },
    {
     "name": "stderr",
     "output_type": "stream",
     "text": [
      "Files Downloaded: 100%|██████████| 4/4 [00:00<00:00,  8.15file/s]\n"
     ]
    },
    {
     "name": "stdout",
     "output_type": "stream",
     "text": [
      "Resolution = 1 minute\n",
      "Gráfica guardada en 2025-10-24_Download_for_specific_days/Data/Month_2024_05/data_graphs/GOES_2024-05-09_00-00-00.png\n",
      "Observatorio encontrado: GOES-16\n",
      "Se encontraron datos  GOES para 2024-05-09 00:00:00 - 2024-05-10 00:00:00. Día saltado.\n",
      "\n",
      "Número de registros: 1440\n",
      "Columnas disponibles: ['xrsa', 'xrsb', 'xrsa_quality', 'xrsb_quality']\n",
      "2. Restar Background\n",
      "Plot saved at: 2025-10-24_Download_for_specific_days/Data/Month_2024_05/data_graphs/GOES_diff_linear_2024-05-09_00-00-00.png\n",
      "Plot saved at: 2025-10-24_Download_for_specific_days/Data/Month_2024_05/data_graphs/GOES_diff_log_2024-05-09_00-00-00.png\n"
     ]
    },
    {
     "name": "stderr",
     "output_type": "stream",
     "text": [
      "/tmp/ipykernel_2397830/750897493.py:225: FutureWarning: Downcasting behavior in Series and DataFrame methods 'where', 'mask', and 'clip' is deprecated. In a future version this will not infer object dtypes or cast all-round floats to integers. Instead call result.infer_objects(copy=False) for object inference, or cast round floats explicitly. To opt-in to the future behavior, set `pd.set_option('future.no_silent_downcasting', True)`\n",
      "  df_o = df_o.clip(lower=1e-9)\n",
      "WARNING: SunpyUserWarning: No information about primary/secondary detectors in XRSTimeSeries, assuming primary for all [sunkit_instruments.goes_xrs.goes_chianti_tem]\n",
      "2025-10-24 15:25:58 - sunpy - WARNING: SunpyUserWarning: No information about primary/secondary detectors in XRSTimeSeries, assuming primary for all\n"
     ]
    },
    {
     "name": "stdout",
     "output_type": "stream",
     "text": [
      "Plot saved at: 2025-10-24_Download_for_specific_days/Data/Month_2024_05/data_graphs/GOES_diff_positive_2024-05-09_00-00-00.png\n",
      "3. USAR FUNCIÓN SUNPY calculate_t_em\n",
      "Ahora vamos a calcular la T y EM con el modelo de abundancias:coronal\n"
     ]
    },
    {
     "name": "stderr",
     "output_type": "stream",
     "text": [
      "Files Downloaded: 100%|██████████| 1/1 [00:00<00:00,  1.22file/s]\n",
      "/home/pjgonzalesp/miniforge3/envs/sunpy/lib/python3.13/site-packages/astropy/units/quantity.py:659: RuntimeWarning: invalid value encountered in divide\n",
      "  result = super().__array_ufunc__(function, method, *arrays, **kwargs)\n"
     ]
    },
    {
     "name": "stdout",
     "output_type": "stream",
     "text": [
      "se calculó T y EM con el modelo de abundancias:coronal\n",
      "Ahora vamos a calcular la T y EM con el modelo de abundancias:photospheric\n"
     ]
    },
    {
     "name": "stderr",
     "output_type": "stream",
     "text": [
      "Files Downloaded: 100%|██████████| 1/1 [00:01<00:00,  1.18s/file]\n",
      "2025-10-24 15:26:01 - root - INFO: Searching for GOES flares between 2024-05-09 00:00:00 and 2024-05-10 00:00:00...\n"
     ]
    },
    {
     "name": "stdout",
     "output_type": "stream",
     "text": [
      "se calculó T y EM con el modelo de abundancias:photospheric\n",
      "4. CONSTRUIR df_full\n",
      "5. añadiendo observatorio: GOES: GOES-16\n",
      "se añadió observatorio: GOES: GOES-16\n",
      "6. Descargando flares: 2024-05-09 00:00:00 - 2024-05-10 00:00:00\n"
     ]
    },
    {
     "name": "stderr",
     "output_type": "stream",
     "text": [
      "2025-10-24 15:26:04 - root - INFO: Found 15 GOES solar flares between 2024-05-09 00:00:00 and 2024-05-10 00:00:00.\n",
      "Día 114 de 185: 2024-05-10\n"
     ]
    },
    {
     "name": "stdout",
     "output_type": "stream",
     "text": [
      "Se descargaron flares para el intervalo 2024-05-09 00:00:00 - 2024-05-10 00:00:00.\n",
      "7. Se filtraron solo flares de GOES.\n",
      "1. Descargar datos GOES\n",
      "Buscando datos de: 2024-05-10 00:00:00\n",
      "Descargando datos de 2024-05-10 00:00:00...\n"
     ]
    },
    {
     "name": "stderr",
     "output_type": "stream",
     "text": [
      "Files Downloaded: 100%|██████████| 4/4 [00:01<00:00,  3.63file/s]\n"
     ]
    },
    {
     "name": "stdout",
     "output_type": "stream",
     "text": [
      "Resolution = 1 minute\n",
      "Gráfica guardada en 2025-10-24_Download_for_specific_days/Data/Month_2024_05/data_graphs/GOES_2024-05-10_00-00-00.png\n",
      "Observatorio encontrado: GOES-16\n",
      "Se encontraron datos  GOES para 2024-05-10 00:00:00 - 2024-05-11 00:00:00. Día saltado.\n",
      "\n",
      "Número de registros: 1440\n",
      "Columnas disponibles: ['xrsa', 'xrsb', 'xrsa_quality', 'xrsb_quality']\n",
      "2. Restar Background\n",
      "Plot saved at: 2025-10-24_Download_for_specific_days/Data/Month_2024_05/data_graphs/GOES_diff_linear_2024-05-10_00-00-00.png\n",
      "Plot saved at: 2025-10-24_Download_for_specific_days/Data/Month_2024_05/data_graphs/GOES_diff_log_2024-05-10_00-00-00.png\n"
     ]
    },
    {
     "name": "stderr",
     "output_type": "stream",
     "text": [
      "/tmp/ipykernel_2397830/750897493.py:225: FutureWarning: Downcasting behavior in Series and DataFrame methods 'where', 'mask', and 'clip' is deprecated. In a future version this will not infer object dtypes or cast all-round floats to integers. Instead call result.infer_objects(copy=False) for object inference, or cast round floats explicitly. To opt-in to the future behavior, set `pd.set_option('future.no_silent_downcasting', True)`\n",
      "  df_o = df_o.clip(lower=1e-9)\n",
      "WARNING: SunpyUserWarning: No information about primary/secondary detectors in XRSTimeSeries, assuming primary for all [sunkit_instruments.goes_xrs.goes_chianti_tem]\n",
      "2025-10-24 15:26:14 - sunpy - WARNING: SunpyUserWarning: No information about primary/secondary detectors in XRSTimeSeries, assuming primary for all\n"
     ]
    },
    {
     "name": "stdout",
     "output_type": "stream",
     "text": [
      "Plot saved at: 2025-10-24_Download_for_specific_days/Data/Month_2024_05/data_graphs/GOES_diff_positive_2024-05-10_00-00-00.png\n",
      "3. USAR FUNCIÓN SUNPY calculate_t_em\n",
      "Ahora vamos a calcular la T y EM con el modelo de abundancias:coronal\n"
     ]
    },
    {
     "name": "stderr",
     "output_type": "stream",
     "text": [
      "Files Downloaded: 100%|██████████| 1/1 [00:00<00:00,  1.24file/s]\n",
      "/home/pjgonzalesp/miniforge3/envs/sunpy/lib/python3.13/site-packages/astropy/units/quantity.py:659: RuntimeWarning: invalid value encountered in divide\n",
      "  result = super().__array_ufunc__(function, method, *arrays, **kwargs)\n"
     ]
    },
    {
     "name": "stdout",
     "output_type": "stream",
     "text": [
      "se calculó T y EM con el modelo de abundancias:coronal\n",
      "Ahora vamos a calcular la T y EM con el modelo de abundancias:photospheric\n"
     ]
    },
    {
     "name": "stderr",
     "output_type": "stream",
     "text": [
      "Files Downloaded: 100%|██████████| 1/1 [00:00<00:00,  1.24file/s]\n",
      "2025-10-24 15:26:16 - root - INFO: Searching for GOES flares between 2024-05-10 00:00:00 and 2024-05-11 00:00:00...\n"
     ]
    },
    {
     "name": "stdout",
     "output_type": "stream",
     "text": [
      "se calculó T y EM con el modelo de abundancias:photospheric\n",
      "4. CONSTRUIR df_full\n",
      "5. añadiendo observatorio: GOES: GOES-16\n",
      "se añadió observatorio: GOES: GOES-16\n",
      "6. Descargando flares: 2024-05-10 00:00:00 - 2024-05-11 00:00:00\n"
     ]
    },
    {
     "name": "stderr",
     "output_type": "stream",
     "text": [
      "2025-10-24 15:26:19 - root - INFO: Found 16 GOES solar flares between 2024-05-10 00:00:00 and 2024-05-11 00:00:00.\n",
      "Día 115 de 185: 2024-05-11\n"
     ]
    },
    {
     "name": "stdout",
     "output_type": "stream",
     "text": [
      "Se descargaron flares para el intervalo 2024-05-10 00:00:00 - 2024-05-11 00:00:00.\n",
      "7. Se filtraron solo flares de GOES.\n",
      "1. Descargar datos GOES\n",
      "Buscando datos de: 2024-05-11 00:00:00\n",
      "Descargando datos de 2024-05-11 00:00:00...\n"
     ]
    },
    {
     "name": "stderr",
     "output_type": "stream",
     "text": [
      "Files Downloaded: 100%|██████████| 4/4 [00:00<00:00,  8.20file/s]\n"
     ]
    },
    {
     "name": "stdout",
     "output_type": "stream",
     "text": [
      "Resolution = 1 minute\n",
      "Gráfica guardada en 2025-10-24_Download_for_specific_days/Data/Month_2024_05/data_graphs/GOES_2024-05-11_00-00-00.png\n",
      "Observatorio encontrado: GOES-16\n",
      "Se encontraron datos  GOES para 2024-05-11 00:00:00 - 2024-05-12 00:00:00. Día saltado.\n",
      "\n",
      "Número de registros: 1440\n",
      "Columnas disponibles: ['xrsa', 'xrsb', 'xrsa_quality', 'xrsb_quality']\n",
      "2. Restar Background\n",
      "Plot saved at: 2025-10-24_Download_for_specific_days/Data/Month_2024_05/data_graphs/GOES_diff_linear_2024-05-11_00-00-00.png\n",
      "Plot saved at: 2025-10-24_Download_for_specific_days/Data/Month_2024_05/data_graphs/GOES_diff_log_2024-05-11_00-00-00.png\n"
     ]
    },
    {
     "name": "stderr",
     "output_type": "stream",
     "text": [
      "/tmp/ipykernel_2397830/750897493.py:225: FutureWarning: Downcasting behavior in Series and DataFrame methods 'where', 'mask', and 'clip' is deprecated. In a future version this will not infer object dtypes or cast all-round floats to integers. Instead call result.infer_objects(copy=False) for object inference, or cast round floats explicitly. To opt-in to the future behavior, set `pd.set_option('future.no_silent_downcasting', True)`\n",
      "  df_o = df_o.clip(lower=1e-9)\n",
      "WARNING: SunpyUserWarning: No information about primary/secondary detectors in XRSTimeSeries, assuming primary for all [sunkit_instruments.goes_xrs.goes_chianti_tem]\n",
      "2025-10-24 15:26:28 - sunpy - WARNING: SunpyUserWarning: No information about primary/secondary detectors in XRSTimeSeries, assuming primary for all\n"
     ]
    },
    {
     "name": "stdout",
     "output_type": "stream",
     "text": [
      "Plot saved at: 2025-10-24_Download_for_specific_days/Data/Month_2024_05/data_graphs/GOES_diff_positive_2024-05-11_00-00-00.png\n",
      "3. USAR FUNCIÓN SUNPY calculate_t_em\n",
      "Ahora vamos a calcular la T y EM con el modelo de abundancias:coronal\n"
     ]
    },
    {
     "name": "stderr",
     "output_type": "stream",
     "text": [
      "Files Downloaded: 100%|██████████| 1/1 [00:00<00:00,  1.24file/s]\n",
      "/home/pjgonzalesp/miniforge3/envs/sunpy/lib/python3.13/site-packages/astropy/units/quantity.py:659: RuntimeWarning: invalid value encountered in divide\n",
      "  result = super().__array_ufunc__(function, method, *arrays, **kwargs)\n"
     ]
    },
    {
     "name": "stdout",
     "output_type": "stream",
     "text": [
      "se calculó T y EM con el modelo de abundancias:coronal\n",
      "Ahora vamos a calcular la T y EM con el modelo de abundancias:photospheric\n"
     ]
    },
    {
     "name": "stderr",
     "output_type": "stream",
     "text": [
      "Files Downloaded: 100%|██████████| 1/1 [00:00<00:00,  1.24file/s]\n",
      "2025-10-24 15:26:31 - root - INFO: Searching for GOES flares between 2024-05-11 00:00:00 and 2024-05-12 00:00:00...\n"
     ]
    },
    {
     "name": "stdout",
     "output_type": "stream",
     "text": [
      "se calculó T y EM con el modelo de abundancias:photospheric\n",
      "4. CONSTRUIR df_full\n",
      "5. añadiendo observatorio: GOES: GOES-16\n",
      "se añadió observatorio: GOES: GOES-16\n",
      "6. Descargando flares: 2024-05-11 00:00:00 - 2024-05-12 00:00:00\n"
     ]
    },
    {
     "name": "stderr",
     "output_type": "stream",
     "text": [
      "2025-10-24 15:26:33 - root - INFO: Found 11 GOES solar flares between 2024-05-11 00:00:00 and 2024-05-12 00:00:00.\n",
      "Día 116 de 185: 2024-05-12\n"
     ]
    },
    {
     "name": "stdout",
     "output_type": "stream",
     "text": [
      "Se descargaron flares para el intervalo 2024-05-11 00:00:00 - 2024-05-12 00:00:00.\n",
      "7. Se filtraron solo flares de GOES.\n",
      "1. Descargar datos GOES\n",
      "Buscando datos de: 2024-05-12 00:00:00\n",
      "Descargando datos de 2024-05-12 00:00:00...\n"
     ]
    },
    {
     "name": "stderr",
     "output_type": "stream",
     "text": [
      "Files Downloaded: 100%|██████████| 4/4 [00:00<00:00,  8.20file/s]\n"
     ]
    },
    {
     "name": "stdout",
     "output_type": "stream",
     "text": [
      "Resolution = 1 minute\n",
      "Gráfica guardada en 2025-10-24_Download_for_specific_days/Data/Month_2024_05/data_graphs/GOES_2024-05-12_00-00-00.png\n",
      "Observatorio encontrado: GOES-16\n",
      "Se encontraron datos  GOES para 2024-05-12 00:00:00 - 2024-05-13 00:00:00. Día saltado.\n",
      "\n",
      "Número de registros: 1440\n",
      "Columnas disponibles: ['xrsa', 'xrsb', 'xrsa_quality', 'xrsb_quality']\n",
      "2. Restar Background\n",
      "Plot saved at: 2025-10-24_Download_for_specific_days/Data/Month_2024_05/data_graphs/GOES_diff_linear_2024-05-12_00-00-00.png\n",
      "Plot saved at: 2025-10-24_Download_for_specific_days/Data/Month_2024_05/data_graphs/GOES_diff_log_2024-05-12_00-00-00.png\n"
     ]
    },
    {
     "name": "stderr",
     "output_type": "stream",
     "text": [
      "/tmp/ipykernel_2397830/750897493.py:225: FutureWarning: Downcasting behavior in Series and DataFrame methods 'where', 'mask', and 'clip' is deprecated. In a future version this will not infer object dtypes or cast all-round floats to integers. Instead call result.infer_objects(copy=False) for object inference, or cast round floats explicitly. To opt-in to the future behavior, set `pd.set_option('future.no_silent_downcasting', True)`\n",
      "  df_o = df_o.clip(lower=1e-9)\n",
      "WARNING: SunpyUserWarning: No information about primary/secondary detectors in XRSTimeSeries, assuming primary for all [sunkit_instruments.goes_xrs.goes_chianti_tem]\n",
      "2025-10-24 15:26:42 - sunpy - WARNING: SunpyUserWarning: No information about primary/secondary detectors in XRSTimeSeries, assuming primary for all\n"
     ]
    },
    {
     "name": "stdout",
     "output_type": "stream",
     "text": [
      "Plot saved at: 2025-10-24_Download_for_specific_days/Data/Month_2024_05/data_graphs/GOES_diff_positive_2024-05-12_00-00-00.png\n",
      "3. USAR FUNCIÓN SUNPY calculate_t_em\n",
      "Ahora vamos a calcular la T y EM con el modelo de abundancias:coronal\n"
     ]
    },
    {
     "name": "stderr",
     "output_type": "stream",
     "text": [
      "Files Downloaded: 100%|██████████| 1/1 [00:01<00:00,  1.28s/file]\n",
      "/home/pjgonzalesp/miniforge3/envs/sunpy/lib/python3.13/site-packages/astropy/units/quantity.py:659: RuntimeWarning: invalid value encountered in divide\n",
      "  result = super().__array_ufunc__(function, method, *arrays, **kwargs)\n"
     ]
    },
    {
     "name": "stdout",
     "output_type": "stream",
     "text": [
      "se calculó T y EM con el modelo de abundancias:coronal\n",
      "Ahora vamos a calcular la T y EM con el modelo de abundancias:photospheric\n"
     ]
    },
    {
     "name": "stderr",
     "output_type": "stream",
     "text": [
      "Files Downloaded: 100%|██████████| 1/1 [00:00<00:00,  1.22file/s]\n",
      "2025-10-24 15:26:45 - root - INFO: Searching for GOES flares between 2024-05-12 00:00:00 and 2024-05-13 00:00:00...\n"
     ]
    },
    {
     "name": "stdout",
     "output_type": "stream",
     "text": [
      "se calculó T y EM con el modelo de abundancias:photospheric\n",
      "4. CONSTRUIR df_full\n",
      "5. añadiendo observatorio: GOES: GOES-16\n",
      "se añadió observatorio: GOES: GOES-16\n",
      "6. Descargando flares: 2024-05-12 00:00:00 - 2024-05-13 00:00:00\n"
     ]
    },
    {
     "name": "stderr",
     "output_type": "stream",
     "text": [
      "2025-10-24 15:26:48 - root - INFO: Found 15 GOES solar flares between 2024-05-12 00:00:00 and 2024-05-13 00:00:00.\n",
      "Día 117 de 185: 2024-05-14\n"
     ]
    },
    {
     "name": "stdout",
     "output_type": "stream",
     "text": [
      "Se descargaron flares para el intervalo 2024-05-12 00:00:00 - 2024-05-13 00:00:00.\n",
      "7. Se filtraron solo flares de GOES.\n",
      "1. Descargar datos GOES\n",
      "Buscando datos de: 2024-05-14 00:00:00\n",
      "Descargando datos de 2024-05-14 00:00:00...\n"
     ]
    },
    {
     "name": "stderr",
     "output_type": "stream",
     "text": [
      "Files Downloaded: 100%|██████████| 4/4 [00:00<00:00,  8.17file/s]\n"
     ]
    },
    {
     "name": "stdout",
     "output_type": "stream",
     "text": [
      "Resolution = 1 minute\n",
      "Gráfica guardada en 2025-10-24_Download_for_specific_days/Data/Month_2024_05/data_graphs/GOES_2024-05-14_00-00-00.png\n",
      "Observatorio encontrado: GOES-16\n",
      "Se encontraron datos  GOES para 2024-05-14 00:00:00 - 2024-05-15 00:00:00. Día saltado.\n",
      "\n",
      "Número de registros: 1440\n",
      "Columnas disponibles: ['xrsa', 'xrsb', 'xrsa_quality', 'xrsb_quality']\n",
      "2. Restar Background\n",
      "Plot saved at: 2025-10-24_Download_for_specific_days/Data/Month_2024_05/data_graphs/GOES_diff_linear_2024-05-14_00-00-00.png\n",
      "Plot saved at: 2025-10-24_Download_for_specific_days/Data/Month_2024_05/data_graphs/GOES_diff_log_2024-05-14_00-00-00.png\n"
     ]
    },
    {
     "name": "stderr",
     "output_type": "stream",
     "text": [
      "/tmp/ipykernel_2397830/750897493.py:225: FutureWarning: Downcasting behavior in Series and DataFrame methods 'where', 'mask', and 'clip' is deprecated. In a future version this will not infer object dtypes or cast all-round floats to integers. Instead call result.infer_objects(copy=False) for object inference, or cast round floats explicitly. To opt-in to the future behavior, set `pd.set_option('future.no_silent_downcasting', True)`\n",
      "  df_o = df_o.clip(lower=1e-9)\n",
      "WARNING: SunpyUserWarning: No information about primary/secondary detectors in XRSTimeSeries, assuming primary for all [sunkit_instruments.goes_xrs.goes_chianti_tem]\n",
      "2025-10-24 15:26:57 - sunpy - WARNING: SunpyUserWarning: No information about primary/secondary detectors in XRSTimeSeries, assuming primary for all\n"
     ]
    },
    {
     "name": "stdout",
     "output_type": "stream",
     "text": [
      "Plot saved at: 2025-10-24_Download_for_specific_days/Data/Month_2024_05/data_graphs/GOES_diff_positive_2024-05-14_00-00-00.png\n",
      "3. USAR FUNCIÓN SUNPY calculate_t_em\n",
      "Ahora vamos a calcular la T y EM con el modelo de abundancias:coronal\n"
     ]
    },
    {
     "name": "stderr",
     "output_type": "stream",
     "text": [
      "Files Downloaded: 100%|██████████| 1/1 [00:01<00:00,  1.01s/file]\n",
      "/home/pjgonzalesp/miniforge3/envs/sunpy/lib/python3.13/site-packages/astropy/units/quantity.py:659: RuntimeWarning: invalid value encountered in divide\n",
      "  result = super().__array_ufunc__(function, method, *arrays, **kwargs)\n"
     ]
    },
    {
     "name": "stdout",
     "output_type": "stream",
     "text": [
      "se calculó T y EM con el modelo de abundancias:coronal\n",
      "Ahora vamos a calcular la T y EM con el modelo de abundancias:photospheric\n"
     ]
    },
    {
     "name": "stderr",
     "output_type": "stream",
     "text": [
      "Files Downloaded: 100%|██████████| 1/1 [00:01<00:00,  1.01s/file]\n",
      "2025-10-24 15:27:00 - root - INFO: Searching for GOES flares between 2024-05-14 00:00:00 and 2024-05-15 00:00:00...\n"
     ]
    },
    {
     "name": "stdout",
     "output_type": "stream",
     "text": [
      "se calculó T y EM con el modelo de abundancias:photospheric\n",
      "4. CONSTRUIR df_full\n",
      "5. añadiendo observatorio: GOES: GOES-16\n",
      "se añadió observatorio: GOES: GOES-16\n",
      "6. Descargando flares: 2024-05-14 00:00:00 - 2024-05-15 00:00:00\n"
     ]
    },
    {
     "name": "stderr",
     "output_type": "stream",
     "text": [
      "2025-10-24 15:27:02 - root - INFO: Found 6 GOES solar flares between 2024-05-14 00:00:00 and 2024-05-15 00:00:00.\n",
      "Día 118 de 185: 2024-05-15\n"
     ]
    },
    {
     "name": "stdout",
     "output_type": "stream",
     "text": [
      "Se descargaron flares para el intervalo 2024-05-14 00:00:00 - 2024-05-15 00:00:00.\n",
      "7. Se filtraron solo flares de GOES.\n",
      "1. Descargar datos GOES\n",
      "Buscando datos de: 2024-05-15 00:00:00\n",
      "Descargando datos de 2024-05-15 00:00:00...\n"
     ]
    },
    {
     "name": "stderr",
     "output_type": "stream",
     "text": [
      "Files Downloaded: 100%|██████████| 4/4 [00:00<00:00,  7.88file/s]\n"
     ]
    },
    {
     "name": "stdout",
     "output_type": "stream",
     "text": [
      "Resolution = 1 minute\n",
      "Gráfica guardada en 2025-10-24_Download_for_specific_days/Data/Month_2024_05/data_graphs/GOES_2024-05-15_00-00-00.png\n",
      "Observatorio encontrado: GOES-16\n",
      "Se encontraron datos  GOES para 2024-05-15 00:00:00 - 2024-05-16 00:00:00. Día saltado.\n",
      "\n",
      "Número de registros: 1440\n",
      "Columnas disponibles: ['xrsa', 'xrsb', 'xrsa_quality', 'xrsb_quality']\n",
      "2. Restar Background\n",
      "Plot saved at: 2025-10-24_Download_for_specific_days/Data/Month_2024_05/data_graphs/GOES_diff_linear_2024-05-15_00-00-00.png\n",
      "Plot saved at: 2025-10-24_Download_for_specific_days/Data/Month_2024_05/data_graphs/GOES_diff_log_2024-05-15_00-00-00.png\n"
     ]
    },
    {
     "name": "stderr",
     "output_type": "stream",
     "text": [
      "/tmp/ipykernel_2397830/750897493.py:225: FutureWarning: Downcasting behavior in Series and DataFrame methods 'where', 'mask', and 'clip' is deprecated. In a future version this will not infer object dtypes or cast all-round floats to integers. Instead call result.infer_objects(copy=False) for object inference, or cast round floats explicitly. To opt-in to the future behavior, set `pd.set_option('future.no_silent_downcasting', True)`\n",
      "  df_o = df_o.clip(lower=1e-9)\n",
      "WARNING: SunpyUserWarning: No information about primary/secondary detectors in XRSTimeSeries, assuming primary for all [sunkit_instruments.goes_xrs.goes_chianti_tem]\n",
      "2025-10-24 15:27:11 - sunpy - WARNING: SunpyUserWarning: No information about primary/secondary detectors in XRSTimeSeries, assuming primary for all\n"
     ]
    },
    {
     "name": "stdout",
     "output_type": "stream",
     "text": [
      "Plot saved at: 2025-10-24_Download_for_specific_days/Data/Month_2024_05/data_graphs/GOES_diff_positive_2024-05-15_00-00-00.png\n",
      "3. USAR FUNCIÓN SUNPY calculate_t_em\n",
      "Ahora vamos a calcular la T y EM con el modelo de abundancias:coronal\n"
     ]
    },
    {
     "name": "stderr",
     "output_type": "stream",
     "text": [
      "Files Downloaded: 100%|██████████| 1/1 [00:00<00:00,  1.17file/s]\n",
      "/home/pjgonzalesp/miniforge3/envs/sunpy/lib/python3.13/site-packages/astropy/units/quantity.py:659: RuntimeWarning: invalid value encountered in divide\n",
      "  result = super().__array_ufunc__(function, method, *arrays, **kwargs)\n"
     ]
    },
    {
     "name": "stdout",
     "output_type": "stream",
     "text": [
      "se calculó T y EM con el modelo de abundancias:coronal\n",
      "Ahora vamos a calcular la T y EM con el modelo de abundancias:photospheric\n"
     ]
    },
    {
     "name": "stderr",
     "output_type": "stream",
     "text": [
      "Files Downloaded: 100%|██████████| 1/1 [00:00<00:00,  1.21file/s]\n",
      "2025-10-24 15:27:14 - root - INFO: Searching for GOES flares between 2024-05-15 00:00:00 and 2024-05-16 00:00:00...\n"
     ]
    },
    {
     "name": "stdout",
     "output_type": "stream",
     "text": [
      "se calculó T y EM con el modelo de abundancias:photospheric\n",
      "4. CONSTRUIR df_full\n",
      "5. añadiendo observatorio: GOES: GOES-16\n",
      "se añadió observatorio: GOES: GOES-16\n",
      "6. Descargando flares: 2024-05-15 00:00:00 - 2024-05-16 00:00:00\n"
     ]
    },
    {
     "name": "stderr",
     "output_type": "stream",
     "text": [
      "2025-10-24 15:27:16 - root - INFO: Found 9 GOES solar flares between 2024-05-15 00:00:00 and 2024-05-16 00:00:00.\n",
      "Día 119 de 185: 2024-05-27\n"
     ]
    },
    {
     "name": "stdout",
     "output_type": "stream",
     "text": [
      "Se descargaron flares para el intervalo 2024-05-15 00:00:00 - 2024-05-16 00:00:00.\n",
      "7. Se filtraron solo flares de GOES.\n",
      "1. Descargar datos GOES\n",
      "Buscando datos de: 2024-05-27 00:00:00\n",
      "Descargando datos de 2024-05-27 00:00:00...\n"
     ]
    },
    {
     "name": "stderr",
     "output_type": "stream",
     "text": [
      "Files Downloaded: 100%|██████████| 4/4 [00:00<00:00,  7.58file/s]\n"
     ]
    },
    {
     "name": "stdout",
     "output_type": "stream",
     "text": [
      "Resolution = 1 minute\n",
      "Gráfica guardada en 2025-10-24_Download_for_specific_days/Data/Month_2024_05/data_graphs/GOES_2024-05-27_00-00-00.png\n",
      "Observatorio encontrado: GOES-16\n",
      "Se encontraron datos  GOES para 2024-05-27 00:00:00 - 2024-05-28 00:00:00. Día saltado.\n",
      "\n",
      "Número de registros: 1440\n",
      "Columnas disponibles: ['xrsa', 'xrsb', 'xrsa_quality', 'xrsb_quality']\n",
      "2. Restar Background\n",
      "Plot saved at: 2025-10-24_Download_for_specific_days/Data/Month_2024_05/data_graphs/GOES_diff_linear_2024-05-27_00-00-00.png\n",
      "Plot saved at: 2025-10-24_Download_for_specific_days/Data/Month_2024_05/data_graphs/GOES_diff_log_2024-05-27_00-00-00.png\n"
     ]
    },
    {
     "name": "stderr",
     "output_type": "stream",
     "text": [
      "/tmp/ipykernel_2397830/750897493.py:225: FutureWarning: Downcasting behavior in Series and DataFrame methods 'where', 'mask', and 'clip' is deprecated. In a future version this will not infer object dtypes or cast all-round floats to integers. Instead call result.infer_objects(copy=False) for object inference, or cast round floats explicitly. To opt-in to the future behavior, set `pd.set_option('future.no_silent_downcasting', True)`\n",
      "  df_o = df_o.clip(lower=1e-9)\n",
      "WARNING: SunpyUserWarning: No information about primary/secondary detectors in XRSTimeSeries, assuming primary for all [sunkit_instruments.goes_xrs.goes_chianti_tem]\n",
      "2025-10-24 15:27:25 - sunpy - WARNING: SunpyUserWarning: No information about primary/secondary detectors in XRSTimeSeries, assuming primary for all\n"
     ]
    },
    {
     "name": "stdout",
     "output_type": "stream",
     "text": [
      "Plot saved at: 2025-10-24_Download_for_specific_days/Data/Month_2024_05/data_graphs/GOES_diff_positive_2024-05-27_00-00-00.png\n",
      "3. USAR FUNCIÓN SUNPY calculate_t_em\n",
      "Ahora vamos a calcular la T y EM con el modelo de abundancias:coronal\n"
     ]
    },
    {
     "name": "stderr",
     "output_type": "stream",
     "text": [
      "Files Downloaded: 100%|██████████| 1/1 [00:00<00:00,  1.19file/s]\n",
      "/home/pjgonzalesp/miniforge3/envs/sunpy/lib/python3.13/site-packages/astropy/units/quantity.py:659: RuntimeWarning: invalid value encountered in divide\n",
      "  result = super().__array_ufunc__(function, method, *arrays, **kwargs)\n"
     ]
    },
    {
     "name": "stdout",
     "output_type": "stream",
     "text": [
      "se calculó T y EM con el modelo de abundancias:coronal\n",
      "Ahora vamos a calcular la T y EM con el modelo de abundancias:photospheric\n"
     ]
    },
    {
     "name": "stderr",
     "output_type": "stream",
     "text": [
      "Files Downloaded: 100%|██████████| 1/1 [00:01<00:00,  1.11s/file]\n",
      "2025-10-24 15:27:27 - root - INFO: Searching for GOES flares between 2024-05-27 00:00:00 and 2024-05-28 00:00:00...\n"
     ]
    },
    {
     "name": "stdout",
     "output_type": "stream",
     "text": [
      "se calculó T y EM con el modelo de abundancias:photospheric\n",
      "4. CONSTRUIR df_full\n",
      "5. añadiendo observatorio: GOES: GOES-16\n",
      "se añadió observatorio: GOES: GOES-16\n",
      "6. Descargando flares: 2024-05-27 00:00:00 - 2024-05-28 00:00:00\n"
     ]
    },
    {
     "name": "stderr",
     "output_type": "stream",
     "text": [
      "2025-10-24 15:27:29 - root - INFO: Found 9 GOES solar flares between 2024-05-27 00:00:00 and 2024-05-28 00:00:00.\n",
      "Día 120 de 185: 2024-05-29\n"
     ]
    },
    {
     "name": "stdout",
     "output_type": "stream",
     "text": [
      "Se descargaron flares para el intervalo 2024-05-27 00:00:00 - 2024-05-28 00:00:00.\n",
      "7. Se filtraron solo flares de GOES.\n",
      "1. Descargar datos GOES\n",
      "Buscando datos de: 2024-05-29 00:00:00\n",
      "Descargando datos de 2024-05-29 00:00:00...\n"
     ]
    },
    {
     "name": "stderr",
     "output_type": "stream",
     "text": [
      "Files Downloaded: 100%|██████████| 4/4 [00:00<00:00,  8.18file/s]\n"
     ]
    },
    {
     "name": "stdout",
     "output_type": "stream",
     "text": [
      "Resolution = 1 minute\n",
      "Gráfica guardada en 2025-10-24_Download_for_specific_days/Data/Month_2024_05/data_graphs/GOES_2024-05-29_00-00-00.png\n",
      "Observatorio encontrado: GOES-16\n",
      "Se encontraron datos  GOES para 2024-05-29 00:00:00 - 2024-05-30 00:00:00. Día saltado.\n",
      "\n",
      "Número de registros: 1440\n",
      "Columnas disponibles: ['xrsa', 'xrsb', 'xrsa_quality', 'xrsb_quality']\n",
      "2. Restar Background\n",
      "Plot saved at: 2025-10-24_Download_for_specific_days/Data/Month_2024_05/data_graphs/GOES_diff_linear_2024-05-29_00-00-00.png\n",
      "Plot saved at: 2025-10-24_Download_for_specific_days/Data/Month_2024_05/data_graphs/GOES_diff_log_2024-05-29_00-00-00.png\n"
     ]
    },
    {
     "name": "stderr",
     "output_type": "stream",
     "text": [
      "/tmp/ipykernel_2397830/750897493.py:225: FutureWarning: Downcasting behavior in Series and DataFrame methods 'where', 'mask', and 'clip' is deprecated. In a future version this will not infer object dtypes or cast all-round floats to integers. Instead call result.infer_objects(copy=False) for object inference, or cast round floats explicitly. To opt-in to the future behavior, set `pd.set_option('future.no_silent_downcasting', True)`\n",
      "  df_o = df_o.clip(lower=1e-9)\n",
      "WARNING: SunpyUserWarning: No information about primary/secondary detectors in XRSTimeSeries, assuming primary for all [sunkit_instruments.goes_xrs.goes_chianti_tem]\n",
      "2025-10-24 15:27:39 - sunpy - WARNING: SunpyUserWarning: No information about primary/secondary detectors in XRSTimeSeries, assuming primary for all\n"
     ]
    },
    {
     "name": "stdout",
     "output_type": "stream",
     "text": [
      "Plot saved at: 2025-10-24_Download_for_specific_days/Data/Month_2024_05/data_graphs/GOES_diff_positive_2024-05-29_00-00-00.png\n",
      "3. USAR FUNCIÓN SUNPY calculate_t_em\n",
      "Ahora vamos a calcular la T y EM con el modelo de abundancias:coronal\n"
     ]
    },
    {
     "name": "stderr",
     "output_type": "stream",
     "text": [
      "Files Downloaded: 100%|██████████| 1/1 [00:00<00:00,  1.24file/s]\n",
      "/home/pjgonzalesp/miniforge3/envs/sunpy/lib/python3.13/site-packages/astropy/units/quantity.py:659: RuntimeWarning: invalid value encountered in divide\n",
      "  result = super().__array_ufunc__(function, method, *arrays, **kwargs)\n"
     ]
    },
    {
     "name": "stdout",
     "output_type": "stream",
     "text": [
      "se calculó T y EM con el modelo de abundancias:coronal\n",
      "Ahora vamos a calcular la T y EM con el modelo de abundancias:photospheric\n"
     ]
    },
    {
     "name": "stderr",
     "output_type": "stream",
     "text": [
      "Files Downloaded: 100%|██████████| 1/1 [00:00<00:00,  1.23file/s]\n",
      "2025-10-24 15:27:41 - root - INFO: Searching for GOES flares between 2024-05-29 00:00:00 and 2024-05-30 00:00:00...\n"
     ]
    },
    {
     "name": "stdout",
     "output_type": "stream",
     "text": [
      "se calculó T y EM con el modelo de abundancias:photospheric\n",
      "4. CONSTRUIR df_full\n",
      "5. añadiendo observatorio: GOES: GOES-16\n",
      "se añadió observatorio: GOES: GOES-16\n",
      "6. Descargando flares: 2024-05-29 00:00:00 - 2024-05-30 00:00:00\n"
     ]
    },
    {
     "name": "stderr",
     "output_type": "stream",
     "text": [
      "2025-10-24 15:27:43 - root - INFO: Found 10 GOES solar flares between 2024-05-29 00:00:00 and 2024-05-30 00:00:00.\n",
      "Día 121 de 185: 2024-05-31\n"
     ]
    },
    {
     "name": "stdout",
     "output_type": "stream",
     "text": [
      "Se descargaron flares para el intervalo 2024-05-29 00:00:00 - 2024-05-30 00:00:00.\n",
      "7. Se filtraron solo flares de GOES.\n",
      "1. Descargar datos GOES\n",
      "Buscando datos de: 2024-05-31 00:00:00\n",
      "Descargando datos de 2024-05-31 00:00:00...\n"
     ]
    },
    {
     "name": "stderr",
     "output_type": "stream",
     "text": [
      "Files Downloaded: 100%|██████████| 4/4 [00:00<00:00,  8.17file/s]\n"
     ]
    },
    {
     "name": "stdout",
     "output_type": "stream",
     "text": [
      "Resolution = 1 minute\n",
      "Gráfica guardada en 2025-10-24_Download_for_specific_days/Data/Month_2024_05/data_graphs/GOES_2024-05-31_00-00-00.png\n",
      "Observatorio encontrado: GOES-16\n",
      "Se encontraron datos  GOES para 2024-05-31 00:00:00 - 2024-06-01 00:00:00. Día saltado.\n",
      "\n",
      "Número de registros: 1440\n",
      "Columnas disponibles: ['xrsa', 'xrsb', 'xrsa_quality', 'xrsb_quality']\n",
      "2. Restar Background\n",
      "Plot saved at: 2025-10-24_Download_for_specific_days/Data/Month_2024_05/data_graphs/GOES_diff_linear_2024-05-31_00-00-00.png\n",
      "Plot saved at: 2025-10-24_Download_for_specific_days/Data/Month_2024_05/data_graphs/GOES_diff_log_2024-05-31_00-00-00.png\n"
     ]
    },
    {
     "name": "stderr",
     "output_type": "stream",
     "text": [
      "/tmp/ipykernel_2397830/750897493.py:225: FutureWarning: Downcasting behavior in Series and DataFrame methods 'where', 'mask', and 'clip' is deprecated. In a future version this will not infer object dtypes or cast all-round floats to integers. Instead call result.infer_objects(copy=False) for object inference, or cast round floats explicitly. To opt-in to the future behavior, set `pd.set_option('future.no_silent_downcasting', True)`\n",
      "  df_o = df_o.clip(lower=1e-9)\n",
      "WARNING: SunpyUserWarning: No information about primary/secondary detectors in XRSTimeSeries, assuming primary for all [sunkit_instruments.goes_xrs.goes_chianti_tem]\n",
      "2025-10-24 15:27:54 - sunpy - WARNING: SunpyUserWarning: No information about primary/secondary detectors in XRSTimeSeries, assuming primary for all\n"
     ]
    },
    {
     "name": "stdout",
     "output_type": "stream",
     "text": [
      "Plot saved at: 2025-10-24_Download_for_specific_days/Data/Month_2024_05/data_graphs/GOES_diff_positive_2024-05-31_00-00-00.png\n",
      "3. USAR FUNCIÓN SUNPY calculate_t_em\n",
      "Ahora vamos a calcular la T y EM con el modelo de abundancias:coronal\n"
     ]
    },
    {
     "name": "stderr",
     "output_type": "stream",
     "text": [
      "Files Downloaded: 100%|██████████| 1/1 [00:00<00:00,  1.00file/s]\n",
      "/home/pjgonzalesp/miniforge3/envs/sunpy/lib/python3.13/site-packages/astropy/units/quantity.py:659: RuntimeWarning: invalid value encountered in divide\n",
      "  result = super().__array_ufunc__(function, method, *arrays, **kwargs)\n"
     ]
    },
    {
     "name": "stdout",
     "output_type": "stream",
     "text": [
      "se calculó T y EM con el modelo de abundancias:coronal\n",
      "Ahora vamos a calcular la T y EM con el modelo de abundancias:photospheric\n"
     ]
    },
    {
     "name": "stderr",
     "output_type": "stream",
     "text": [
      "Files Downloaded: 100%|██████████| 1/1 [00:01<00:00,  1.04s/file]\n",
      "2025-10-24 15:27:57 - root - INFO: Searching for GOES flares between 2024-05-31 00:00:00 and 2024-06-01 00:00:00...\n"
     ]
    },
    {
     "name": "stdout",
     "output_type": "stream",
     "text": [
      "se calculó T y EM con el modelo de abundancias:photospheric\n",
      "4. CONSTRUIR df_full\n",
      "5. añadiendo observatorio: GOES: GOES-16\n",
      "se añadió observatorio: GOES: GOES-16\n",
      "6. Descargando flares: 2024-05-31 00:00:00 - 2024-06-01 00:00:00\n"
     ]
    },
    {
     "name": "stderr",
     "output_type": "stream",
     "text": [
      "2025-10-24 15:28:00 - root - INFO: Found 17 GOES solar flares between 2024-05-31 00:00:00 and 2024-06-01 00:00:00.\n"
     ]
    },
    {
     "name": "stdout",
     "output_type": "stream",
     "text": [
      "Se descargaron flares para el intervalo 2024-05-31 00:00:00 - 2024-06-01 00:00:00.\n",
      "7. Se filtraron solo flares de GOES.\n",
      "💾 df_full_2024_05.csv actualizado (18720 filas)\n",
      "✅ Días descargados este mes: [datetime.date(2024, 5, 3), datetime.date(2024, 5, 5), datetime.date(2024, 5, 6), datetime.date(2024, 5, 8), datetime.date(2024, 5, 9), datetime.date(2024, 5, 10), datetime.date(2024, 5, 11), datetime.date(2024, 5, 12), datetime.date(2024, 5, 14), datetime.date(2024, 5, 15), datetime.date(2024, 5, 27), datetime.date(2024, 5, 29), datetime.date(2024, 5, 31)]\n",
      "💾 df_flare_data_2024_05.csv actualizado (187 filas)\n",
      "🏁 Mes 2024_05 terminado → 2025-10-24_Download_for_specific_days/Data/Month_2024_05\n",
      "\n",
      "========================================\n",
      "🟦 Procesando mes 2024_06 (2 días)\n",
      "========================================\n",
      "1. Descargar datos GOES\n",
      "Buscando datos de: 2024-06-01 00:00:00\n"
     ]
    },
    {
     "name": "stderr",
     "output_type": "stream",
     "text": [
      "Día 122 de 185: 2024-06-01\n"
     ]
    },
    {
     "name": "stdout",
     "output_type": "stream",
     "text": [
      "Descargando datos de 2024-06-01 00:00:00...\n"
     ]
    },
    {
     "name": "stderr",
     "output_type": "stream",
     "text": [
      "Files Downloaded: 100%|██████████| 4/4 [00:00<00:00,  7.21file/s]\n"
     ]
    },
    {
     "name": "stdout",
     "output_type": "stream",
     "text": [
      "Resolution = 1 minute\n",
      "Gráfica guardada en 2025-10-24_Download_for_specific_days/Data/Month_2024_06/data_graphs/GOES_2024-06-01_00-00-00.png\n",
      "Observatorio encontrado: GOES-16\n",
      "Se encontraron datos  GOES para 2024-06-01 00:00:00 - 2024-06-02 00:00:00. Día saltado.\n",
      "\n",
      "Número de registros: 1440\n",
      "Columnas disponibles: ['xrsa', 'xrsb', 'xrsa_quality', 'xrsb_quality']\n",
      "2. Restar Background\n",
      "Plot saved at: 2025-10-24_Download_for_specific_days/Data/Month_2024_06/data_graphs/GOES_diff_linear_2024-06-01_00-00-00.png\n",
      "Plot saved at: 2025-10-24_Download_for_specific_days/Data/Month_2024_06/data_graphs/GOES_diff_log_2024-06-01_00-00-00.png\n"
     ]
    },
    {
     "name": "stderr",
     "output_type": "stream",
     "text": [
      "/tmp/ipykernel_2397830/750897493.py:225: FutureWarning: Downcasting behavior in Series and DataFrame methods 'where', 'mask', and 'clip' is deprecated. In a future version this will not infer object dtypes or cast all-round floats to integers. Instead call result.infer_objects(copy=False) for object inference, or cast round floats explicitly. To opt-in to the future behavior, set `pd.set_option('future.no_silent_downcasting', True)`\n",
      "  df_o = df_o.clip(lower=1e-9)\n",
      "WARNING: SunpyUserWarning: No information about primary/secondary detectors in XRSTimeSeries, assuming primary for all [sunkit_instruments.goes_xrs.goes_chianti_tem]\n",
      "2025-10-24 15:28:10 - sunpy - WARNING: SunpyUserWarning: No information about primary/secondary detectors in XRSTimeSeries, assuming primary for all\n"
     ]
    },
    {
     "name": "stdout",
     "output_type": "stream",
     "text": [
      "Plot saved at: 2025-10-24_Download_for_specific_days/Data/Month_2024_06/data_graphs/GOES_diff_positive_2024-06-01_00-00-00.png\n",
      "3. USAR FUNCIÓN SUNPY calculate_t_em\n",
      "Ahora vamos a calcular la T y EM con el modelo de abundancias:coronal\n"
     ]
    },
    {
     "name": "stderr",
     "output_type": "stream",
     "text": [
      "Files Downloaded: 100%|██████████| 1/1 [00:00<00:00,  1.24file/s]\n",
      "/home/pjgonzalesp/miniforge3/envs/sunpy/lib/python3.13/site-packages/astropy/units/quantity.py:659: RuntimeWarning: invalid value encountered in divide\n",
      "  result = super().__array_ufunc__(function, method, *arrays, **kwargs)\n"
     ]
    },
    {
     "name": "stdout",
     "output_type": "stream",
     "text": [
      "se calculó T y EM con el modelo de abundancias:coronal\n",
      "Ahora vamos a calcular la T y EM con el modelo de abundancias:photospheric\n"
     ]
    },
    {
     "name": "stderr",
     "output_type": "stream",
     "text": [
      "Files Downloaded: 100%|██████████| 1/1 [00:00<00:00,  1.21file/s]\n",
      "2025-10-24 15:28:12 - root - INFO: Searching for GOES flares between 2024-06-01 00:00:00 and 2024-06-02 00:00:00...\n"
     ]
    },
    {
     "name": "stdout",
     "output_type": "stream",
     "text": [
      "se calculó T y EM con el modelo de abundancias:photospheric\n",
      "4. CONSTRUIR df_full\n",
      "5. añadiendo observatorio: GOES: GOES-16\n",
      "se añadió observatorio: GOES: GOES-16\n",
      "6. Descargando flares: 2024-06-01 00:00:00 - 2024-06-02 00:00:00\n"
     ]
    },
    {
     "name": "stderr",
     "output_type": "stream",
     "text": [
      "2025-10-24 15:28:15 - root - INFO: Found 15 GOES solar flares between 2024-06-01 00:00:00 and 2024-06-02 00:00:00.\n",
      "Día 123 de 185: 2024-06-10\n"
     ]
    },
    {
     "name": "stdout",
     "output_type": "stream",
     "text": [
      "Se descargaron flares para el intervalo 2024-06-01 00:00:00 - 2024-06-02 00:00:00.\n",
      "7. Se filtraron solo flares de GOES.\n",
      "1. Descargar datos GOES\n",
      "Buscando datos de: 2024-06-10 00:00:00\n",
      "Descargando datos de 2024-06-10 00:00:00...\n"
     ]
    },
    {
     "name": "stderr",
     "output_type": "stream",
     "text": [
      "Files Downloaded: 100%|██████████| 4/4 [00:00<00:00,  8.17file/s]\n"
     ]
    },
    {
     "name": "stdout",
     "output_type": "stream",
     "text": [
      "Resolution = 1 minute\n",
      "Gráfica guardada en 2025-10-24_Download_for_specific_days/Data/Month_2024_06/data_graphs/GOES_2024-06-10_00-00-00.png\n",
      "Observatorio encontrado: GOES-16\n",
      "Se encontraron datos  GOES para 2024-06-10 00:00:00 - 2024-06-11 00:00:00. Día saltado.\n",
      "\n",
      "Número de registros: 1440\n",
      "Columnas disponibles: ['xrsa', 'xrsb', 'xrsa_quality', 'xrsb_quality']\n",
      "2. Restar Background\n",
      "Plot saved at: 2025-10-24_Download_for_specific_days/Data/Month_2024_06/data_graphs/GOES_diff_linear_2024-06-10_00-00-00.png\n",
      "Plot saved at: 2025-10-24_Download_for_specific_days/Data/Month_2024_06/data_graphs/GOES_diff_log_2024-06-10_00-00-00.png\n"
     ]
    },
    {
     "name": "stderr",
     "output_type": "stream",
     "text": [
      "/tmp/ipykernel_2397830/750897493.py:225: FutureWarning: Downcasting behavior in Series and DataFrame methods 'where', 'mask', and 'clip' is deprecated. In a future version this will not infer object dtypes or cast all-round floats to integers. Instead call result.infer_objects(copy=False) for object inference, or cast round floats explicitly. To opt-in to the future behavior, set `pd.set_option('future.no_silent_downcasting', True)`\n",
      "  df_o = df_o.clip(lower=1e-9)\n",
      "WARNING: SunpyUserWarning: No information about primary/secondary detectors in XRSTimeSeries, assuming primary for all [sunkit_instruments.goes_xrs.goes_chianti_tem]\n",
      "2025-10-24 15:28:28 - sunpy - WARNING: SunpyUserWarning: No information about primary/secondary detectors in XRSTimeSeries, assuming primary for all\n"
     ]
    },
    {
     "name": "stdout",
     "output_type": "stream",
     "text": [
      "Plot saved at: 2025-10-24_Download_for_specific_days/Data/Month_2024_06/data_graphs/GOES_diff_positive_2024-06-10_00-00-00.png\n",
      "3. USAR FUNCIÓN SUNPY calculate_t_em\n",
      "Ahora vamos a calcular la T y EM con el modelo de abundancias:coronal\n"
     ]
    },
    {
     "name": "stderr",
     "output_type": "stream",
     "text": [
      "Files Downloaded: 100%|██████████| 1/1 [00:01<00:00,  1.07s/file]\n",
      "/home/pjgonzalesp/miniforge3/envs/sunpy/lib/python3.13/site-packages/astropy/units/quantity.py:659: RuntimeWarning: invalid value encountered in divide\n",
      "  result = super().__array_ufunc__(function, method, *arrays, **kwargs)\n"
     ]
    },
    {
     "name": "stdout",
     "output_type": "stream",
     "text": [
      "se calculó T y EM con el modelo de abundancias:coronal\n",
      "Ahora vamos a calcular la T y EM con el modelo de abundancias:photospheric\n"
     ]
    },
    {
     "name": "stderr",
     "output_type": "stream",
     "text": [
      "Files Downloaded: 100%|██████████| 1/1 [00:00<00:00,  1.22file/s]\n",
      "2025-10-24 15:28:31 - root - INFO: Searching for GOES flares between 2024-06-10 00:00:00 and 2024-06-11 00:00:00...\n"
     ]
    },
    {
     "name": "stdout",
     "output_type": "stream",
     "text": [
      "se calculó T y EM con el modelo de abundancias:photospheric\n",
      "4. CONSTRUIR df_full\n",
      "5. añadiendo observatorio: GOES: GOES-16\n",
      "se añadió observatorio: GOES: GOES-16\n",
      "6. Descargando flares: 2024-06-10 00:00:00 - 2024-06-11 00:00:00\n"
     ]
    },
    {
     "name": "stderr",
     "output_type": "stream",
     "text": [
      "2025-10-24 15:28:33 - root - INFO: Found 9 GOES solar flares between 2024-06-10 00:00:00 and 2024-06-11 00:00:00.\n",
      "Día 124 de 185: 2024-07-14\n"
     ]
    },
    {
     "name": "stdout",
     "output_type": "stream",
     "text": [
      "Se descargaron flares para el intervalo 2024-06-10 00:00:00 - 2024-06-11 00:00:00.\n",
      "7. Se filtraron solo flares de GOES.\n",
      "💾 df_full_2024_06.csv actualizado (2880 filas)\n",
      "✅ Días descargados este mes: [datetime.date(2024, 6, 1), datetime.date(2024, 6, 10)]\n",
      "💾 df_flare_data_2024_06.csv actualizado (24 filas)\n",
      "🏁 Mes 2024_06 terminado → 2025-10-24_Download_for_specific_days/Data/Month_2024_06\n",
      "\n",
      "========================================\n",
      "🟦 Procesando mes 2024_07 (3 días)\n",
      "========================================\n",
      "1. Descargar datos GOES\n",
      "Buscando datos de: 2024-07-14 00:00:00\n",
      "Descargando datos de 2024-07-14 00:00:00...\n"
     ]
    },
    {
     "name": "stderr",
     "output_type": "stream",
     "text": [
      "Files Downloaded: 100%|██████████| 4/4 [00:00<00:00,  7.78file/s]\n"
     ]
    },
    {
     "name": "stdout",
     "output_type": "stream",
     "text": [
      "Resolution = 1 minute\n",
      "Gráfica guardada en 2025-10-24_Download_for_specific_days/Data/Month_2024_07/data_graphs/GOES_2024-07-14_00-00-00.png\n",
      "Observatorio encontrado: GOES-16\n",
      "Se encontraron datos  GOES para 2024-07-14 00:00:00 - 2024-07-15 00:00:00. Día saltado.\n",
      "\n",
      "Número de registros: 1440\n",
      "Columnas disponibles: ['xrsa', 'xrsb', 'xrsa_quality', 'xrsb_quality']\n",
      "2. Restar Background\n",
      "Plot saved at: 2025-10-24_Download_for_specific_days/Data/Month_2024_07/data_graphs/GOES_diff_linear_2024-07-14_00-00-00.png\n",
      "Plot saved at: 2025-10-24_Download_for_specific_days/Data/Month_2024_07/data_graphs/GOES_diff_log_2024-07-14_00-00-00.png\n"
     ]
    },
    {
     "name": "stderr",
     "output_type": "stream",
     "text": [
      "/tmp/ipykernel_2397830/750897493.py:225: FutureWarning: Downcasting behavior in Series and DataFrame methods 'where', 'mask', and 'clip' is deprecated. In a future version this will not infer object dtypes or cast all-round floats to integers. Instead call result.infer_objects(copy=False) for object inference, or cast round floats explicitly. To opt-in to the future behavior, set `pd.set_option('future.no_silent_downcasting', True)`\n",
      "  df_o = df_o.clip(lower=1e-9)\n",
      "WARNING: SunpyUserWarning: No information about primary/secondary detectors in XRSTimeSeries, assuming primary for all [sunkit_instruments.goes_xrs.goes_chianti_tem]\n",
      "2025-10-24 15:28:42 - sunpy - WARNING: SunpyUserWarning: No information about primary/secondary detectors in XRSTimeSeries, assuming primary for all\n"
     ]
    },
    {
     "name": "stdout",
     "output_type": "stream",
     "text": [
      "Plot saved at: 2025-10-24_Download_for_specific_days/Data/Month_2024_07/data_graphs/GOES_diff_positive_2024-07-14_00-00-00.png\n",
      "3. USAR FUNCIÓN SUNPY calculate_t_em\n",
      "Ahora vamos a calcular la T y EM con el modelo de abundancias:coronal\n"
     ]
    },
    {
     "name": "stderr",
     "output_type": "stream",
     "text": [
      "Files Downloaded: 100%|██████████| 1/1 [00:00<00:00,  1.16file/s]\n",
      "/home/pjgonzalesp/miniforge3/envs/sunpy/lib/python3.13/site-packages/astropy/units/quantity.py:659: RuntimeWarning: invalid value encountered in divide\n",
      "  result = super().__array_ufunc__(function, method, *arrays, **kwargs)\n"
     ]
    },
    {
     "name": "stdout",
     "output_type": "stream",
     "text": [
      "se calculó T y EM con el modelo de abundancias:coronal\n",
      "Ahora vamos a calcular la T y EM con el modelo de abundancias:photospheric\n"
     ]
    },
    {
     "name": "stderr",
     "output_type": "stream",
     "text": [
      "Files Downloaded: 100%|██████████| 1/1 [00:00<00:00,  1.21file/s]\n",
      "2025-10-24 15:28:45 - root - INFO: Searching for GOES flares between 2024-07-14 00:00:00 and 2024-07-15 00:00:00...\n"
     ]
    },
    {
     "name": "stdout",
     "output_type": "stream",
     "text": [
      "se calculó T y EM con el modelo de abundancias:photospheric\n",
      "4. CONSTRUIR df_full\n",
      "5. añadiendo observatorio: GOES: GOES-16\n",
      "se añadió observatorio: GOES: GOES-16\n",
      "6. Descargando flares: 2024-07-14 00:00:00 - 2024-07-15 00:00:00\n"
     ]
    },
    {
     "name": "stderr",
     "output_type": "stream",
     "text": [
      "2025-10-24 15:28:48 - root - INFO: Found 17 GOES solar flares between 2024-07-14 00:00:00 and 2024-07-15 00:00:00.\n",
      "Día 125 de 185: 2024-07-16\n"
     ]
    },
    {
     "name": "stdout",
     "output_type": "stream",
     "text": [
      "Se descargaron flares para el intervalo 2024-07-14 00:00:00 - 2024-07-15 00:00:00.\n",
      "7. Se filtraron solo flares de GOES.\n",
      "1. Descargar datos GOES\n",
      "Buscando datos de: 2024-07-16 00:00:00\n",
      "Descargando datos de 2024-07-16 00:00:00...\n"
     ]
    },
    {
     "name": "stderr",
     "output_type": "stream",
     "text": [
      "Files Downloaded: 100%|██████████| 4/4 [00:00<00:00,  8.20file/s]\n"
     ]
    },
    {
     "name": "stdout",
     "output_type": "stream",
     "text": [
      "Resolution = 1 minute\n",
      "Gráfica guardada en 2025-10-24_Download_for_specific_days/Data/Month_2024_07/data_graphs/GOES_2024-07-16_00-00-00.png\n",
      "Observatorio encontrado: GOES-16\n",
      "Se encontraron datos  GOES para 2024-07-16 00:00:00 - 2024-07-17 00:00:00. Día saltado.\n",
      "\n",
      "Número de registros: 1440\n",
      "Columnas disponibles: ['xrsa', 'xrsb', 'xrsa_quality', 'xrsb_quality']\n",
      "2. Restar Background\n",
      "Plot saved at: 2025-10-24_Download_for_specific_days/Data/Month_2024_07/data_graphs/GOES_diff_linear_2024-07-16_00-00-00.png\n",
      "Plot saved at: 2025-10-24_Download_for_specific_days/Data/Month_2024_07/data_graphs/GOES_diff_log_2024-07-16_00-00-00.png\n"
     ]
    },
    {
     "name": "stderr",
     "output_type": "stream",
     "text": [
      "/tmp/ipykernel_2397830/750897493.py:225: FutureWarning: Downcasting behavior in Series and DataFrame methods 'where', 'mask', and 'clip' is deprecated. In a future version this will not infer object dtypes or cast all-round floats to integers. Instead call result.infer_objects(copy=False) for object inference, or cast round floats explicitly. To opt-in to the future behavior, set `pd.set_option('future.no_silent_downcasting', True)`\n",
      "  df_o = df_o.clip(lower=1e-9)\n",
      "WARNING: SunpyUserWarning: No information about primary/secondary detectors in XRSTimeSeries, assuming primary for all [sunkit_instruments.goes_xrs.goes_chianti_tem]\n",
      "2025-10-24 15:28:57 - sunpy - WARNING: SunpyUserWarning: No information about primary/secondary detectors in XRSTimeSeries, assuming primary for all\n"
     ]
    },
    {
     "name": "stdout",
     "output_type": "stream",
     "text": [
      "Plot saved at: 2025-10-24_Download_for_specific_days/Data/Month_2024_07/data_graphs/GOES_diff_positive_2024-07-16_00-00-00.png\n",
      "3. USAR FUNCIÓN SUNPY calculate_t_em\n",
      "Ahora vamos a calcular la T y EM con el modelo de abundancias:coronal\n"
     ]
    },
    {
     "name": "stderr",
     "output_type": "stream",
     "text": [
      "Files Downloaded: 100%|██████████| 1/1 [00:00<00:00,  1.23file/s]\n",
      "/home/pjgonzalesp/miniforge3/envs/sunpy/lib/python3.13/site-packages/astropy/units/quantity.py:659: RuntimeWarning: invalid value encountered in divide\n",
      "  result = super().__array_ufunc__(function, method, *arrays, **kwargs)\n"
     ]
    },
    {
     "name": "stdout",
     "output_type": "stream",
     "text": [
      "se calculó T y EM con el modelo de abundancias:coronal\n",
      "Ahora vamos a calcular la T y EM con el modelo de abundancias:photospheric\n"
     ]
    },
    {
     "name": "stderr",
     "output_type": "stream",
     "text": [
      "Files Downloaded: 100%|██████████| 1/1 [00:00<00:00,  1.25file/s]\n",
      "2025-10-24 15:28:59 - root - INFO: Searching for GOES flares between 2024-07-16 00:00:00 and 2024-07-17 00:00:00...\n"
     ]
    },
    {
     "name": "stdout",
     "output_type": "stream",
     "text": [
      "se calculó T y EM con el modelo de abundancias:photospheric\n",
      "4. CONSTRUIR df_full\n",
      "5. añadiendo observatorio: GOES: GOES-16\n",
      "se añadió observatorio: GOES: GOES-16\n",
      "6. Descargando flares: 2024-07-16 00:00:00 - 2024-07-17 00:00:00\n"
     ]
    },
    {
     "name": "stderr",
     "output_type": "stream",
     "text": [
      "2025-10-24 15:29:01 - root - INFO: Found 8 GOES solar flares between 2024-07-16 00:00:00 and 2024-07-17 00:00:00.\n",
      "Día 126 de 185: 2024-07-29\n"
     ]
    },
    {
     "name": "stdout",
     "output_type": "stream",
     "text": [
      "Se descargaron flares para el intervalo 2024-07-16 00:00:00 - 2024-07-17 00:00:00.\n",
      "7. Se filtraron solo flares de GOES.\n",
      "1. Descargar datos GOES\n",
      "Buscando datos de: 2024-07-29 00:00:00\n",
      "Descargando datos de 2024-07-29 00:00:00...\n"
     ]
    },
    {
     "name": "stderr",
     "output_type": "stream",
     "text": [
      "Files Downloaded: 100%|██████████| 4/4 [00:00<00:00,  7.99file/s]\n"
     ]
    },
    {
     "name": "stdout",
     "output_type": "stream",
     "text": [
      "Resolution = 1 minute\n",
      "Gráfica guardada en 2025-10-24_Download_for_specific_days/Data/Month_2024_07/data_graphs/GOES_2024-07-29_00-00-00.png\n",
      "Observatorio encontrado: GOES-16\n",
      "Se encontraron datos  GOES para 2024-07-29 00:00:00 - 2024-07-30 00:00:00. Día saltado.\n",
      "\n",
      "Número de registros: 1440\n",
      "Columnas disponibles: ['xrsa', 'xrsb', 'xrsa_quality', 'xrsb_quality']\n",
      "2. Restar Background\n",
      "Plot saved at: 2025-10-24_Download_for_specific_days/Data/Month_2024_07/data_graphs/GOES_diff_linear_2024-07-29_00-00-00.png\n",
      "Plot saved at: 2025-10-24_Download_for_specific_days/Data/Month_2024_07/data_graphs/GOES_diff_log_2024-07-29_00-00-00.png\n"
     ]
    },
    {
     "name": "stderr",
     "output_type": "stream",
     "text": [
      "/tmp/ipykernel_2397830/750897493.py:225: FutureWarning: Downcasting behavior in Series and DataFrame methods 'where', 'mask', and 'clip' is deprecated. In a future version this will not infer object dtypes or cast all-round floats to integers. Instead call result.infer_objects(copy=False) for object inference, or cast round floats explicitly. To opt-in to the future behavior, set `pd.set_option('future.no_silent_downcasting', True)`\n",
      "  df_o = df_o.clip(lower=1e-9)\n",
      "WARNING: SunpyUserWarning: No information about primary/secondary detectors in XRSTimeSeries, assuming primary for all [sunkit_instruments.goes_xrs.goes_chianti_tem]\n",
      "2025-10-24 15:29:10 - sunpy - WARNING: SunpyUserWarning: No information about primary/secondary detectors in XRSTimeSeries, assuming primary for all\n"
     ]
    },
    {
     "name": "stdout",
     "output_type": "stream",
     "text": [
      "Plot saved at: 2025-10-24_Download_for_specific_days/Data/Month_2024_07/data_graphs/GOES_diff_positive_2024-07-29_00-00-00.png\n",
      "3. USAR FUNCIÓN SUNPY calculate_t_em\n",
      "Ahora vamos a calcular la T y EM con el modelo de abundancias:coronal\n"
     ]
    },
    {
     "name": "stderr",
     "output_type": "stream",
     "text": [
      "Files Downloaded: 100%|██████████| 1/1 [00:00<00:00,  1.24file/s]\n",
      "/home/pjgonzalesp/miniforge3/envs/sunpy/lib/python3.13/site-packages/astropy/units/quantity.py:659: RuntimeWarning: invalid value encountered in divide\n",
      "  result = super().__array_ufunc__(function, method, *arrays, **kwargs)\n"
     ]
    },
    {
     "name": "stdout",
     "output_type": "stream",
     "text": [
      "se calculó T y EM con el modelo de abundancias:coronal\n",
      "Ahora vamos a calcular la T y EM con el modelo de abundancias:photospheric\n"
     ]
    },
    {
     "name": "stderr",
     "output_type": "stream",
     "text": [
      "Files Downloaded: 100%|██████████| 1/1 [00:00<00:00,  1.19file/s]\n",
      "2025-10-24 15:29:12 - root - INFO: Searching for GOES flares between 2024-07-29 00:00:00 and 2024-07-30 00:00:00...\n"
     ]
    },
    {
     "name": "stdout",
     "output_type": "stream",
     "text": [
      "se calculó T y EM con el modelo de abundancias:photospheric\n",
      "4. CONSTRUIR df_full\n",
      "5. añadiendo observatorio: GOES: GOES-16\n",
      "se añadió observatorio: GOES: GOES-16\n",
      "6. Descargando flares: 2024-07-29 00:00:00 - 2024-07-30 00:00:00\n"
     ]
    },
    {
     "name": "stderr",
     "output_type": "stream",
     "text": [
      "2025-10-24 15:29:16 - root - INFO: Found 21 GOES solar flares between 2024-07-29 00:00:00 and 2024-07-30 00:00:00.\n",
      "Día 127 de 185: 2024-08-05\n"
     ]
    },
    {
     "name": "stdout",
     "output_type": "stream",
     "text": [
      "Se descargaron flares para el intervalo 2024-07-29 00:00:00 - 2024-07-30 00:00:00.\n",
      "7. Se filtraron solo flares de GOES.\n",
      "💾 df_full_2024_07.csv actualizado (4320 filas)\n",
      "✅ Días descargados este mes: [datetime.date(2024, 7, 14), datetime.date(2024, 7, 16), datetime.date(2024, 7, 29)]\n",
      "💾 df_flare_data_2024_07.csv actualizado (46 filas)\n",
      "🏁 Mes 2024_07 terminado → 2025-10-24_Download_for_specific_days/Data/Month_2024_07\n",
      "\n",
      "========================================\n",
      "🟦 Procesando mes 2024_08 (3 días)\n",
      "========================================\n",
      "1. Descargar datos GOES\n",
      "Buscando datos de: 2024-08-05 00:00:00\n",
      "Descargando datos de 2024-08-05 00:00:00...\n"
     ]
    },
    {
     "name": "stderr",
     "output_type": "stream",
     "text": [
      "Files Downloaded: 100%|██████████| 6/6 [00:00<00:00,  6.18file/s]\n"
     ]
    },
    {
     "name": "stdout",
     "output_type": "stream",
     "text": [
      "Resolution = 1 minute\n",
      "Gráfica guardada en 2025-10-24_Download_for_specific_days/Data/Month_2024_08/data_graphs/GOES_2024-08-05_00-00-00.png\n",
      "Observatorio encontrado: GOES-16\n",
      "Se encontraron datos  GOES para 2024-08-05 00:00:00 - 2024-08-06 00:00:00. Día saltado.\n",
      "\n",
      "Número de registros: 1440\n",
      "Columnas disponibles: ['xrsa', 'xrsb', 'xrsa_quality', 'xrsb_quality']\n",
      "2. Restar Background\n",
      "Plot saved at: 2025-10-24_Download_for_specific_days/Data/Month_2024_08/data_graphs/GOES_diff_linear_2024-08-05_00-00-00.png\n",
      "Plot saved at: 2025-10-24_Download_for_specific_days/Data/Month_2024_08/data_graphs/GOES_diff_log_2024-08-05_00-00-00.png\n"
     ]
    },
    {
     "name": "stderr",
     "output_type": "stream",
     "text": [
      "/tmp/ipykernel_2397830/750897493.py:225: FutureWarning: Downcasting behavior in Series and DataFrame methods 'where', 'mask', and 'clip' is deprecated. In a future version this will not infer object dtypes or cast all-round floats to integers. Instead call result.infer_objects(copy=False) for object inference, or cast round floats explicitly. To opt-in to the future behavior, set `pd.set_option('future.no_silent_downcasting', True)`\n",
      "  df_o = df_o.clip(lower=1e-9)\n",
      "WARNING: SunpyUserWarning: No information about primary/secondary detectors in XRSTimeSeries, assuming primary for all [sunkit_instruments.goes_xrs.goes_chianti_tem]\n",
      "2025-10-24 15:29:26 - sunpy - WARNING: SunpyUserWarning: No information about primary/secondary detectors in XRSTimeSeries, assuming primary for all\n"
     ]
    },
    {
     "name": "stdout",
     "output_type": "stream",
     "text": [
      "Plot saved at: 2025-10-24_Download_for_specific_days/Data/Month_2024_08/data_graphs/GOES_diff_positive_2024-08-05_00-00-00.png\n",
      "3. USAR FUNCIÓN SUNPY calculate_t_em\n",
      "Ahora vamos a calcular la T y EM con el modelo de abundancias:coronal\n"
     ]
    },
    {
     "name": "stderr",
     "output_type": "stream",
     "text": [
      "Files Downloaded: 100%|██████████| 1/1 [00:00<00:00,  1.25file/s]\n",
      "/home/pjgonzalesp/miniforge3/envs/sunpy/lib/python3.13/site-packages/astropy/units/quantity.py:659: RuntimeWarning: invalid value encountered in divide\n",
      "  result = super().__array_ufunc__(function, method, *arrays, **kwargs)\n"
     ]
    },
    {
     "name": "stdout",
     "output_type": "stream",
     "text": [
      "se calculó T y EM con el modelo de abundancias:coronal\n",
      "Ahora vamos a calcular la T y EM con el modelo de abundancias:photospheric\n"
     ]
    },
    {
     "name": "stderr",
     "output_type": "stream",
     "text": [
      "Files Downloaded: 100%|██████████| 1/1 [00:00<00:00,  1.20file/s]\n",
      "2025-10-24 15:29:28 - root - INFO: Searching for GOES flares between 2024-08-05 00:00:00 and 2024-08-06 00:00:00...\n"
     ]
    },
    {
     "name": "stdout",
     "output_type": "stream",
     "text": [
      "se calculó T y EM con el modelo de abundancias:photospheric\n",
      "4. CONSTRUIR df_full\n",
      "5. añadiendo observatorio: GOES: GOES-16\n",
      "se añadió observatorio: GOES: GOES-16\n",
      "6. Descargando flares: 2024-08-05 00:00:00 - 2024-08-06 00:00:00\n"
     ]
    },
    {
     "name": "stderr",
     "output_type": "stream",
     "text": [
      "2025-10-24 15:29:30 - root - INFO: Found 9 GOES solar flares between 2024-08-05 00:00:00 and 2024-08-06 00:00:00.\n",
      "Día 128 de 185: 2024-08-08\n"
     ]
    },
    {
     "name": "stdout",
     "output_type": "stream",
     "text": [
      "Se descargaron flares para el intervalo 2024-08-05 00:00:00 - 2024-08-06 00:00:00.\n",
      "7. Se filtraron solo flares de GOES.\n",
      "1. Descargar datos GOES\n",
      "Buscando datos de: 2024-08-08 00:00:00\n",
      "Descargando datos de 2024-08-08 00:00:00...\n"
     ]
    },
    {
     "name": "stderr",
     "output_type": "stream",
     "text": [
      "Files Downloaded: 100%|██████████| 6/6 [00:00<00:00,  6.24file/s]\n"
     ]
    },
    {
     "name": "stdout",
     "output_type": "stream",
     "text": [
      "Resolution = 1 minute\n",
      "Gráfica guardada en 2025-10-24_Download_for_specific_days/Data/Month_2024_08/data_graphs/GOES_2024-08-08_00-00-00.png\n",
      "Observatorio encontrado: GOES-16\n",
      "Se encontraron datos  GOES para 2024-08-08 00:00:00 - 2024-08-09 00:00:00. Día saltado.\n",
      "\n",
      "Número de registros: 1440\n",
      "Columnas disponibles: ['xrsa', 'xrsb', 'xrsa_quality', 'xrsb_quality']\n",
      "2. Restar Background\n",
      "Plot saved at: 2025-10-24_Download_for_specific_days/Data/Month_2024_08/data_graphs/GOES_diff_linear_2024-08-08_00-00-00.png\n",
      "Plot saved at: 2025-10-24_Download_for_specific_days/Data/Month_2024_08/data_graphs/GOES_diff_log_2024-08-08_00-00-00.png\n"
     ]
    },
    {
     "name": "stderr",
     "output_type": "stream",
     "text": [
      "/tmp/ipykernel_2397830/750897493.py:225: FutureWarning: Downcasting behavior in Series and DataFrame methods 'where', 'mask', and 'clip' is deprecated. In a future version this will not infer object dtypes or cast all-round floats to integers. Instead call result.infer_objects(copy=False) for object inference, or cast round floats explicitly. To opt-in to the future behavior, set `pd.set_option('future.no_silent_downcasting', True)`\n",
      "  df_o = df_o.clip(lower=1e-9)\n",
      "WARNING: SunpyUserWarning: No information about primary/secondary detectors in XRSTimeSeries, assuming primary for all [sunkit_instruments.goes_xrs.goes_chianti_tem]\n",
      "2025-10-24 15:29:40 - sunpy - WARNING: SunpyUserWarning: No information about primary/secondary detectors in XRSTimeSeries, assuming primary for all\n"
     ]
    },
    {
     "name": "stdout",
     "output_type": "stream",
     "text": [
      "Plot saved at: 2025-10-24_Download_for_specific_days/Data/Month_2024_08/data_graphs/GOES_diff_positive_2024-08-08_00-00-00.png\n",
      "3. USAR FUNCIÓN SUNPY calculate_t_em\n",
      "Ahora vamos a calcular la T y EM con el modelo de abundancias:coronal\n"
     ]
    },
    {
     "name": "stderr",
     "output_type": "stream",
     "text": [
      "Files Downloaded: 100%|██████████| 1/1 [00:00<00:00,  1.25file/s]\n",
      "/home/pjgonzalesp/miniforge3/envs/sunpy/lib/python3.13/site-packages/astropy/units/quantity.py:659: RuntimeWarning: invalid value encountered in divide\n",
      "  result = super().__array_ufunc__(function, method, *arrays, **kwargs)\n"
     ]
    },
    {
     "name": "stdout",
     "output_type": "stream",
     "text": [
      "se calculó T y EM con el modelo de abundancias:coronal\n",
      "Ahora vamos a calcular la T y EM con el modelo de abundancias:photospheric\n"
     ]
    },
    {
     "name": "stderr",
     "output_type": "stream",
     "text": [
      "Files Downloaded: 100%|██████████| 1/1 [00:00<00:00,  1.22file/s]\n",
      "2025-10-24 15:29:42 - root - INFO: Searching for GOES flares between 2024-08-08 00:00:00 and 2024-08-09 00:00:00...\n"
     ]
    },
    {
     "name": "stdout",
     "output_type": "stream",
     "text": [
      "se calculó T y EM con el modelo de abundancias:photospheric\n",
      "4. CONSTRUIR df_full\n",
      "5. añadiendo observatorio: GOES: GOES-16\n",
      "se añadió observatorio: GOES: GOES-16\n",
      "6. Descargando flares: 2024-08-08 00:00:00 - 2024-08-09 00:00:00\n"
     ]
    },
    {
     "name": "stderr",
     "output_type": "stream",
     "text": [
      "2025-10-24 15:29:45 - root - INFO: Found 15 GOES solar flares between 2024-08-08 00:00:00 and 2024-08-09 00:00:00.\n",
      "Día 129 de 185: 2024-08-14\n"
     ]
    },
    {
     "name": "stdout",
     "output_type": "stream",
     "text": [
      "Se descargaron flares para el intervalo 2024-08-08 00:00:00 - 2024-08-09 00:00:00.\n",
      "7. Se filtraron solo flares de GOES.\n",
      "1. Descargar datos GOES\n",
      "Buscando datos de: 2024-08-14 00:00:00\n",
      "Descargando datos de 2024-08-14 00:00:00...\n"
     ]
    },
    {
     "name": "stderr",
     "output_type": "stream",
     "text": [
      "Files Downloaded: 100%|██████████| 4/4 [00:00<00:00,  8.18file/s]\n"
     ]
    },
    {
     "name": "stdout",
     "output_type": "stream",
     "text": [
      "Resolution = 1 minute\n",
      "Gráfica guardada en 2025-10-24_Download_for_specific_days/Data/Month_2024_08/data_graphs/GOES_2024-08-14_00-00-00.png\n",
      "Observatorio encontrado: GOES-16\n",
      "Se encontraron datos  GOES para 2024-08-14 00:00:00 - 2024-08-15 00:00:00. Día saltado.\n",
      "\n",
      "Número de registros: 1440\n",
      "Columnas disponibles: ['xrsa', 'xrsb', 'xrsa_quality', 'xrsb_quality']\n",
      "2. Restar Background\n",
      "Plot saved at: 2025-10-24_Download_for_specific_days/Data/Month_2024_08/data_graphs/GOES_diff_linear_2024-08-14_00-00-00.png\n",
      "Plot saved at: 2025-10-24_Download_for_specific_days/Data/Month_2024_08/data_graphs/GOES_diff_log_2024-08-14_00-00-00.png\n"
     ]
    },
    {
     "name": "stderr",
     "output_type": "stream",
     "text": [
      "/tmp/ipykernel_2397830/750897493.py:225: FutureWarning: Downcasting behavior in Series and DataFrame methods 'where', 'mask', and 'clip' is deprecated. In a future version this will not infer object dtypes or cast all-round floats to integers. Instead call result.infer_objects(copy=False) for object inference, or cast round floats explicitly. To opt-in to the future behavior, set `pd.set_option('future.no_silent_downcasting', True)`\n",
      "  df_o = df_o.clip(lower=1e-9)\n",
      "WARNING: SunpyUserWarning: No information about primary/secondary detectors in XRSTimeSeries, assuming primary for all [sunkit_instruments.goes_xrs.goes_chianti_tem]\n",
      "2025-10-24 15:29:54 - sunpy - WARNING: SunpyUserWarning: No information about primary/secondary detectors in XRSTimeSeries, assuming primary for all\n"
     ]
    },
    {
     "name": "stdout",
     "output_type": "stream",
     "text": [
      "Plot saved at: 2025-10-24_Download_for_specific_days/Data/Month_2024_08/data_graphs/GOES_diff_positive_2024-08-14_00-00-00.png\n",
      "3. USAR FUNCIÓN SUNPY calculate_t_em\n",
      "Ahora vamos a calcular la T y EM con el modelo de abundancias:coronal\n"
     ]
    },
    {
     "name": "stderr",
     "output_type": "stream",
     "text": [
      "Files Downloaded: 100%|██████████| 1/1 [00:01<00:00,  1.21s/file]\n",
      "/home/pjgonzalesp/miniforge3/envs/sunpy/lib/python3.13/site-packages/astropy/units/quantity.py:659: RuntimeWarning: invalid value encountered in divide\n",
      "  result = super().__array_ufunc__(function, method, *arrays, **kwargs)\n"
     ]
    },
    {
     "name": "stdout",
     "output_type": "stream",
     "text": [
      "se calculó T y EM con el modelo de abundancias:coronal\n",
      "Ahora vamos a calcular la T y EM con el modelo de abundancias:photospheric\n"
     ]
    },
    {
     "name": "stderr",
     "output_type": "stream",
     "text": [
      "Files Downloaded: 100%|██████████| 1/1 [00:00<00:00,  1.24file/s]\n",
      "2025-10-24 15:29:57 - root - INFO: Searching for GOES flares between 2024-08-14 00:00:00 and 2024-08-15 00:00:00...\n"
     ]
    },
    {
     "name": "stdout",
     "output_type": "stream",
     "text": [
      "se calculó T y EM con el modelo de abundancias:photospheric\n",
      "4. CONSTRUIR df_full\n",
      "5. añadiendo observatorio: GOES: GOES-16\n",
      "se añadió observatorio: GOES: GOES-16\n",
      "6. Descargando flares: 2024-08-14 00:00:00 - 2024-08-15 00:00:00\n"
     ]
    },
    {
     "name": "stderr",
     "output_type": "stream",
     "text": [
      "2025-10-24 15:29:59 - root - INFO: Found 8 GOES solar flares between 2024-08-14 00:00:00 and 2024-08-15 00:00:00.\n",
      "Día 130 de 185: 2024-09-12\n"
     ]
    },
    {
     "name": "stdout",
     "output_type": "stream",
     "text": [
      "Se descargaron flares para el intervalo 2024-08-14 00:00:00 - 2024-08-15 00:00:00.\n",
      "7. Se filtraron solo flares de GOES.\n",
      "💾 df_full_2024_08.csv actualizado (4320 filas)\n",
      "✅ Días descargados este mes: [datetime.date(2024, 8, 5), datetime.date(2024, 8, 8), datetime.date(2024, 8, 14)]\n",
      "💾 df_flare_data_2024_08.csv actualizado (32 filas)\n",
      "🏁 Mes 2024_08 terminado → 2025-10-24_Download_for_specific_days/Data/Month_2024_08\n",
      "\n",
      "========================================\n",
      "🟦 Procesando mes 2024_09 (2 días)\n",
      "========================================\n",
      "1. Descargar datos GOES\n",
      "Buscando datos de: 2024-09-12 00:00:00\n",
      "Descargando datos de 2024-09-12 00:00:00...\n"
     ]
    },
    {
     "name": "stderr",
     "output_type": "stream",
     "text": [
      "Files Downloaded: 100%|██████████| 4/4 [00:00<00:00,  8.04file/s]\n"
     ]
    },
    {
     "name": "stdout",
     "output_type": "stream",
     "text": [
      "Resolution = 1 minute\n",
      "Gráfica guardada en 2025-10-24_Download_for_specific_days/Data/Month_2024_09/data_graphs/GOES_2024-09-12_00-00-00.png\n",
      "Observatorio encontrado: GOES-16\n",
      "Se encontraron datos  GOES para 2024-09-12 00:00:00 - 2024-09-13 00:00:00. Día saltado.\n",
      "\n",
      "Número de registros: 1440\n",
      "Columnas disponibles: ['xrsa', 'xrsb', 'xrsa_quality', 'xrsb_quality']\n",
      "2. Restar Background\n",
      "Plot saved at: 2025-10-24_Download_for_specific_days/Data/Month_2024_09/data_graphs/GOES_diff_linear_2024-09-12_00-00-00.png\n",
      "Plot saved at: 2025-10-24_Download_for_specific_days/Data/Month_2024_09/data_graphs/GOES_diff_log_2024-09-12_00-00-00.png\n"
     ]
    },
    {
     "name": "stderr",
     "output_type": "stream",
     "text": [
      "/tmp/ipykernel_2397830/750897493.py:225: FutureWarning: Downcasting behavior in Series and DataFrame methods 'where', 'mask', and 'clip' is deprecated. In a future version this will not infer object dtypes or cast all-round floats to integers. Instead call result.infer_objects(copy=False) for object inference, or cast round floats explicitly. To opt-in to the future behavior, set `pd.set_option('future.no_silent_downcasting', True)`\n",
      "  df_o = df_o.clip(lower=1e-9)\n",
      "WARNING: SunpyUserWarning: No information about primary/secondary detectors in XRSTimeSeries, assuming primary for all [sunkit_instruments.goes_xrs.goes_chianti_tem]\n",
      "2025-10-24 15:30:09 - sunpy - WARNING: SunpyUserWarning: No information about primary/secondary detectors in XRSTimeSeries, assuming primary for all\n"
     ]
    },
    {
     "name": "stdout",
     "output_type": "stream",
     "text": [
      "Plot saved at: 2025-10-24_Download_for_specific_days/Data/Month_2024_09/data_graphs/GOES_diff_positive_2024-09-12_00-00-00.png\n",
      "3. USAR FUNCIÓN SUNPY calculate_t_em\n",
      "Ahora vamos a calcular la T y EM con el modelo de abundancias:coronal\n"
     ]
    },
    {
     "name": "stderr",
     "output_type": "stream",
     "text": [
      "Files Downloaded: 100%|██████████| 1/1 [00:00<00:00,  1.24file/s]\n",
      "/home/pjgonzalesp/miniforge3/envs/sunpy/lib/python3.13/site-packages/astropy/units/quantity.py:659: RuntimeWarning: invalid value encountered in divide\n",
      "  result = super().__array_ufunc__(function, method, *arrays, **kwargs)\n"
     ]
    },
    {
     "name": "stdout",
     "output_type": "stream",
     "text": [
      "se calculó T y EM con el modelo de abundancias:coronal\n",
      "Ahora vamos a calcular la T y EM con el modelo de abundancias:photospheric\n"
     ]
    },
    {
     "name": "stderr",
     "output_type": "stream",
     "text": [
      "Files Downloaded: 100%|██████████| 1/1 [00:00<00:00,  1.20file/s]\n",
      "2025-10-24 15:30:11 - root - INFO: Searching for GOES flares between 2024-09-12 00:00:00 and 2024-09-13 00:00:00...\n"
     ]
    },
    {
     "name": "stdout",
     "output_type": "stream",
     "text": [
      "se calculó T y EM con el modelo de abundancias:photospheric\n",
      "4. CONSTRUIR df_full\n",
      "5. añadiendo observatorio: GOES: GOES-16\n",
      "se añadió observatorio: GOES: GOES-16\n",
      "6. Descargando flares: 2024-09-12 00:00:00 - 2024-09-13 00:00:00\n"
     ]
    },
    {
     "name": "stderr",
     "output_type": "stream",
     "text": [
      "2025-10-24 15:30:14 - root - INFO: Found 16 GOES solar flares between 2024-09-12 00:00:00 and 2024-09-13 00:00:00.\n",
      "Día 131 de 185: 2024-09-14\n"
     ]
    },
    {
     "name": "stdout",
     "output_type": "stream",
     "text": [
      "Se descargaron flares para el intervalo 2024-09-12 00:00:00 - 2024-09-13 00:00:00.\n",
      "7. Se filtraron solo flares de GOES.\n",
      "1. Descargar datos GOES\n",
      "Buscando datos de: 2024-09-14 00:00:00\n",
      "Descargando datos de 2024-09-14 00:00:00...\n"
     ]
    },
    {
     "name": "stderr",
     "output_type": "stream",
     "text": [
      "Files Downloaded: 100%|██████████| 4/4 [00:00<00:00,  7.31file/s]\n"
     ]
    },
    {
     "name": "stdout",
     "output_type": "stream",
     "text": [
      "Resolution = 1 minute\n",
      "Gráfica guardada en 2025-10-24_Download_for_specific_days/Data/Month_2024_09/data_graphs/GOES_2024-09-14_00-00-00.png\n",
      "Observatorio encontrado: GOES-16\n",
      "Se encontraron datos  GOES para 2024-09-14 00:00:00 - 2024-09-15 00:00:00. Día saltado.\n",
      "\n",
      "Número de registros: 1440\n",
      "Columnas disponibles: ['xrsa', 'xrsb', 'xrsa_quality', 'xrsb_quality']\n",
      "2. Restar Background\n",
      "Plot saved at: 2025-10-24_Download_for_specific_days/Data/Month_2024_09/data_graphs/GOES_diff_linear_2024-09-14_00-00-00.png\n",
      "Plot saved at: 2025-10-24_Download_for_specific_days/Data/Month_2024_09/data_graphs/GOES_diff_log_2024-09-14_00-00-00.png\n"
     ]
    },
    {
     "name": "stderr",
     "output_type": "stream",
     "text": [
      "/tmp/ipykernel_2397830/750897493.py:225: FutureWarning: Downcasting behavior in Series and DataFrame methods 'where', 'mask', and 'clip' is deprecated. In a future version this will not infer object dtypes or cast all-round floats to integers. Instead call result.infer_objects(copy=False) for object inference, or cast round floats explicitly. To opt-in to the future behavior, set `pd.set_option('future.no_silent_downcasting', True)`\n",
      "  df_o = df_o.clip(lower=1e-9)\n",
      "WARNING: SunpyUserWarning: No information about primary/secondary detectors in XRSTimeSeries, assuming primary for all [sunkit_instruments.goes_xrs.goes_chianti_tem]\n",
      "2025-10-24 15:30:23 - sunpy - WARNING: SunpyUserWarning: No information about primary/secondary detectors in XRSTimeSeries, assuming primary for all\n"
     ]
    },
    {
     "name": "stdout",
     "output_type": "stream",
     "text": [
      "Plot saved at: 2025-10-24_Download_for_specific_days/Data/Month_2024_09/data_graphs/GOES_diff_positive_2024-09-14_00-00-00.png\n",
      "3. USAR FUNCIÓN SUNPY calculate_t_em\n",
      "Ahora vamos a calcular la T y EM con el modelo de abundancias:coronal\n"
     ]
    },
    {
     "name": "stderr",
     "output_type": "stream",
     "text": [
      "Files Downloaded: 100%|██████████| 1/1 [00:00<00:00,  1.15file/s]\n",
      "/home/pjgonzalesp/miniforge3/envs/sunpy/lib/python3.13/site-packages/astropy/units/quantity.py:659: RuntimeWarning: invalid value encountered in divide\n",
      "  result = super().__array_ufunc__(function, method, *arrays, **kwargs)\n"
     ]
    },
    {
     "name": "stdout",
     "output_type": "stream",
     "text": [
      "se calculó T y EM con el modelo de abundancias:coronal\n",
      "Ahora vamos a calcular la T y EM con el modelo de abundancias:photospheric\n"
     ]
    },
    {
     "name": "stderr",
     "output_type": "stream",
     "text": [
      "Files Downloaded: 100%|██████████| 1/1 [00:00<00:00,  1.14file/s]\n",
      "2025-10-24 15:30:26 - root - INFO: Searching for GOES flares between 2024-09-14 00:00:00 and 2024-09-15 00:00:00...\n"
     ]
    },
    {
     "name": "stdout",
     "output_type": "stream",
     "text": [
      "se calculó T y EM con el modelo de abundancias:photospheric\n",
      "4. CONSTRUIR df_full\n",
      "5. añadiendo observatorio: GOES: GOES-16\n",
      "se añadió observatorio: GOES: GOES-16\n",
      "6. Descargando flares: 2024-09-14 00:00:00 - 2024-09-15 00:00:00\n"
     ]
    },
    {
     "name": "stderr",
     "output_type": "stream",
     "text": [
      "2025-10-24 15:30:27 - root - INFO: Found 6 GOES solar flares between 2024-09-14 00:00:00 and 2024-09-15 00:00:00.\n",
      "Día 132 de 185: 2024-10-01\n"
     ]
    },
    {
     "name": "stdout",
     "output_type": "stream",
     "text": [
      "Se descargaron flares para el intervalo 2024-09-14 00:00:00 - 2024-09-15 00:00:00.\n",
      "7. Se filtraron solo flares de GOES.\n",
      "💾 df_full_2024_09.csv actualizado (2880 filas)\n",
      "✅ Días descargados este mes: [datetime.date(2024, 9, 12), datetime.date(2024, 9, 14)]\n",
      "💾 df_flare_data_2024_09.csv actualizado (22 filas)\n",
      "🏁 Mes 2024_09 terminado → 2025-10-24_Download_for_specific_days/Data/Month_2024_09\n",
      "\n",
      "========================================\n",
      "🟦 Procesando mes 2024_10 (7 días)\n",
      "========================================\n",
      "1. Descargar datos GOES\n",
      "Buscando datos de: 2024-10-01 00:00:00\n",
      "Descargando datos de 2024-10-01 00:00:00...\n"
     ]
    },
    {
     "name": "stderr",
     "output_type": "stream",
     "text": [
      "Files Downloaded: 100%|██████████| 4/4 [00:00<00:00,  8.24file/s]\n"
     ]
    },
    {
     "name": "stdout",
     "output_type": "stream",
     "text": [
      "Resolution = 1 minute\n",
      "Gráfica guardada en 2025-10-24_Download_for_specific_days/Data/Month_2024_10/data_graphs/GOES_2024-10-01_00-00-00.png\n",
      "Observatorio encontrado: GOES-16\n",
      "Se encontraron datos  GOES para 2024-10-01 00:00:00 - 2024-10-02 00:00:00. Día saltado.\n",
      "\n",
      "Número de registros: 1440\n",
      "Columnas disponibles: ['xrsa', 'xrsb', 'xrsa_quality', 'xrsb_quality']\n",
      "2. Restar Background\n",
      "Plot saved at: 2025-10-24_Download_for_specific_days/Data/Month_2024_10/data_graphs/GOES_diff_linear_2024-10-01_00-00-00.png\n",
      "Plot saved at: 2025-10-24_Download_for_specific_days/Data/Month_2024_10/data_graphs/GOES_diff_log_2024-10-01_00-00-00.png\n"
     ]
    },
    {
     "name": "stderr",
     "output_type": "stream",
     "text": [
      "/tmp/ipykernel_2397830/750897493.py:225: FutureWarning: Downcasting behavior in Series and DataFrame methods 'where', 'mask', and 'clip' is deprecated. In a future version this will not infer object dtypes or cast all-round floats to integers. Instead call result.infer_objects(copy=False) for object inference, or cast round floats explicitly. To opt-in to the future behavior, set `pd.set_option('future.no_silent_downcasting', True)`\n",
      "  df_o = df_o.clip(lower=1e-9)\n",
      "WARNING: SunpyUserWarning: No information about primary/secondary detectors in XRSTimeSeries, assuming primary for all [sunkit_instruments.goes_xrs.goes_chianti_tem]\n",
      "2025-10-24 15:30:37 - sunpy - WARNING: SunpyUserWarning: No information about primary/secondary detectors in XRSTimeSeries, assuming primary for all\n"
     ]
    },
    {
     "name": "stdout",
     "output_type": "stream",
     "text": [
      "Plot saved at: 2025-10-24_Download_for_specific_days/Data/Month_2024_10/data_graphs/GOES_diff_positive_2024-10-01_00-00-00.png\n",
      "3. USAR FUNCIÓN SUNPY calculate_t_em\n",
      "Ahora vamos a calcular la T y EM con el modelo de abundancias:coronal\n"
     ]
    },
    {
     "name": "stderr",
     "output_type": "stream",
     "text": [
      "Files Downloaded: 100%|██████████| 1/1 [00:01<00:00,  1.31s/file]\n",
      "/home/pjgonzalesp/miniforge3/envs/sunpy/lib/python3.13/site-packages/astropy/units/quantity.py:659: RuntimeWarning: invalid value encountered in divide\n",
      "  result = super().__array_ufunc__(function, method, *arrays, **kwargs)\n"
     ]
    },
    {
     "name": "stdout",
     "output_type": "stream",
     "text": [
      "se calculó T y EM con el modelo de abundancias:coronal\n",
      "Ahora vamos a calcular la T y EM con el modelo de abundancias:photospheric\n"
     ]
    },
    {
     "name": "stderr",
     "output_type": "stream",
     "text": [
      "Files Downloaded: 100%|██████████| 1/1 [00:00<00:00,  1.25file/s]\n",
      "2025-10-24 15:30:40 - root - INFO: Searching for GOES flares between 2024-10-01 00:00:00 and 2024-10-02 00:00:00...\n"
     ]
    },
    {
     "name": "stdout",
     "output_type": "stream",
     "text": [
      "se calculó T y EM con el modelo de abundancias:photospheric\n",
      "4. CONSTRUIR df_full\n",
      "5. añadiendo observatorio: GOES: GOES-16\n",
      "se añadió observatorio: GOES: GOES-16\n",
      "6. Descargando flares: 2024-10-01 00:00:00 - 2024-10-02 00:00:00\n"
     ]
    },
    {
     "name": "stderr",
     "output_type": "stream",
     "text": [
      "2025-10-24 15:30:42 - root - INFO: Found 12 GOES solar flares between 2024-10-01 00:00:00 and 2024-10-02 00:00:00.\n",
      "Día 133 de 185: 2024-10-03\n"
     ]
    },
    {
     "name": "stdout",
     "output_type": "stream",
     "text": [
      "Se descargaron flares para el intervalo 2024-10-01 00:00:00 - 2024-10-02 00:00:00.\n",
      "7. Se filtraron solo flares de GOES.\n",
      "1. Descargar datos GOES\n",
      "Buscando datos de: 2024-10-03 00:00:00\n",
      "Descargando datos de 2024-10-03 00:00:00...\n"
     ]
    },
    {
     "name": "stderr",
     "output_type": "stream",
     "text": [
      "Files Downloaded: 100%|██████████| 4/4 [00:00<00:00,  7.48file/s]\n"
     ]
    },
    {
     "name": "stdout",
     "output_type": "stream",
     "text": [
      "Resolution = 1 minute\n",
      "Gráfica guardada en 2025-10-24_Download_for_specific_days/Data/Month_2024_10/data_graphs/GOES_2024-10-03_00-00-00.png\n",
      "Observatorio encontrado: GOES-16\n",
      "Se encontraron datos  GOES para 2024-10-03 00:00:00 - 2024-10-04 00:00:00. Día saltado.\n",
      "\n",
      "Número de registros: 1440\n",
      "Columnas disponibles: ['xrsa', 'xrsb', 'xrsa_quality', 'xrsb_quality']\n",
      "2. Restar Background\n",
      "Plot saved at: 2025-10-24_Download_for_specific_days/Data/Month_2024_10/data_graphs/GOES_diff_linear_2024-10-03_00-00-00.png\n",
      "Plot saved at: 2025-10-24_Download_for_specific_days/Data/Month_2024_10/data_graphs/GOES_diff_log_2024-10-03_00-00-00.png\n"
     ]
    },
    {
     "name": "stderr",
     "output_type": "stream",
     "text": [
      "/tmp/ipykernel_2397830/750897493.py:225: FutureWarning: Downcasting behavior in Series and DataFrame methods 'where', 'mask', and 'clip' is deprecated. In a future version this will not infer object dtypes or cast all-round floats to integers. Instead call result.infer_objects(copy=False) for object inference, or cast round floats explicitly. To opt-in to the future behavior, set `pd.set_option('future.no_silent_downcasting', True)`\n",
      "  df_o = df_o.clip(lower=1e-9)\n",
      "WARNING: SunpyUserWarning: No information about primary/secondary detectors in XRSTimeSeries, assuming primary for all [sunkit_instruments.goes_xrs.goes_chianti_tem]\n",
      "2025-10-24 15:30:51 - sunpy - WARNING: SunpyUserWarning: No information about primary/secondary detectors in XRSTimeSeries, assuming primary for all\n"
     ]
    },
    {
     "name": "stdout",
     "output_type": "stream",
     "text": [
      "Plot saved at: 2025-10-24_Download_for_specific_days/Data/Month_2024_10/data_graphs/GOES_diff_positive_2024-10-03_00-00-00.png\n",
      "3. USAR FUNCIÓN SUNPY calculate_t_em\n",
      "Ahora vamos a calcular la T y EM con el modelo de abundancias:coronal\n"
     ]
    },
    {
     "name": "stderr",
     "output_type": "stream",
     "text": [
      "Files Downloaded: 100%|██████████| 1/1 [00:00<00:00,  1.05file/s]\n",
      "/home/pjgonzalesp/miniforge3/envs/sunpy/lib/python3.13/site-packages/astropy/units/quantity.py:659: RuntimeWarning: invalid value encountered in divide\n",
      "  result = super().__array_ufunc__(function, method, *arrays, **kwargs)\n"
     ]
    },
    {
     "name": "stdout",
     "output_type": "stream",
     "text": [
      "se calculó T y EM con el modelo de abundancias:coronal\n",
      "Ahora vamos a calcular la T y EM con el modelo de abundancias:photospheric\n"
     ]
    },
    {
     "name": "stderr",
     "output_type": "stream",
     "text": [
      "Files Downloaded: 100%|██████████| 1/1 [00:00<00:00,  1.02file/s]\n",
      "2025-10-24 15:30:55 - root - INFO: Searching for GOES flares between 2024-10-03 00:00:00 and 2024-10-04 00:00:00...\n"
     ]
    },
    {
     "name": "stdout",
     "output_type": "stream",
     "text": [
      "se calculó T y EM con el modelo de abundancias:photospheric\n",
      "4. CONSTRUIR df_full\n",
      "5. añadiendo observatorio: GOES: GOES-16\n",
      "se añadió observatorio: GOES: GOES-16\n",
      "6. Descargando flares: 2024-10-03 00:00:00 - 2024-10-04 00:00:00\n"
     ]
    },
    {
     "name": "stderr",
     "output_type": "stream",
     "text": [
      "2025-10-24 15:30:57 - root - INFO: Found 11 GOES solar flares between 2024-10-03 00:00:00 and 2024-10-04 00:00:00.\n",
      "Día 134 de 185: 2024-10-07\n"
     ]
    },
    {
     "name": "stdout",
     "output_type": "stream",
     "text": [
      "Se descargaron flares para el intervalo 2024-10-03 00:00:00 - 2024-10-04 00:00:00.\n",
      "7. Se filtraron solo flares de GOES.\n",
      "1. Descargar datos GOES\n",
      "Buscando datos de: 2024-10-07 00:00:00\n",
      "Descargando datos de 2024-10-07 00:00:00...\n"
     ]
    },
    {
     "name": "stderr",
     "output_type": "stream",
     "text": [
      "Files Downloaded: 100%|██████████| 4/4 [00:00<00:00,  8.20file/s]\n"
     ]
    },
    {
     "name": "stdout",
     "output_type": "stream",
     "text": [
      "Resolution = 1 minute\n",
      "Gráfica guardada en 2025-10-24_Download_for_specific_days/Data/Month_2024_10/data_graphs/GOES_2024-10-07_00-00-00.png\n",
      "Observatorio encontrado: GOES-16\n",
      "Se encontraron datos  GOES para 2024-10-07 00:00:00 - 2024-10-08 00:00:00. Día saltado.\n",
      "\n",
      "Número de registros: 1440\n",
      "Columnas disponibles: ['xrsa', 'xrsb', 'xrsa_quality', 'xrsb_quality']\n",
      "2. Restar Background\n",
      "Plot saved at: 2025-10-24_Download_for_specific_days/Data/Month_2024_10/data_graphs/GOES_diff_linear_2024-10-07_00-00-00.png\n",
      "Plot saved at: 2025-10-24_Download_for_specific_days/Data/Month_2024_10/data_graphs/GOES_diff_log_2024-10-07_00-00-00.png\n"
     ]
    },
    {
     "name": "stderr",
     "output_type": "stream",
     "text": [
      "/tmp/ipykernel_2397830/750897493.py:225: FutureWarning: Downcasting behavior in Series and DataFrame methods 'where', 'mask', and 'clip' is deprecated. In a future version this will not infer object dtypes or cast all-round floats to integers. Instead call result.infer_objects(copy=False) for object inference, or cast round floats explicitly. To opt-in to the future behavior, set `pd.set_option('future.no_silent_downcasting', True)`\n",
      "  df_o = df_o.clip(lower=1e-9)\n",
      "WARNING: SunpyUserWarning: No information about primary/secondary detectors in XRSTimeSeries, assuming primary for all [sunkit_instruments.goes_xrs.goes_chianti_tem]\n",
      "2025-10-24 15:31:06 - sunpy - WARNING: SunpyUserWarning: No information about primary/secondary detectors in XRSTimeSeries, assuming primary for all\n"
     ]
    },
    {
     "name": "stdout",
     "output_type": "stream",
     "text": [
      "Plot saved at: 2025-10-24_Download_for_specific_days/Data/Month_2024_10/data_graphs/GOES_diff_positive_2024-10-07_00-00-00.png\n",
      "3. USAR FUNCIÓN SUNPY calculate_t_em\n",
      "Ahora vamos a calcular la T y EM con el modelo de abundancias:coronal\n"
     ]
    },
    {
     "name": "stderr",
     "output_type": "stream",
     "text": [
      "Files Downloaded: 100%|██████████| 1/1 [00:00<00:00,  1.24file/s]\n",
      "/home/pjgonzalesp/miniforge3/envs/sunpy/lib/python3.13/site-packages/astropy/units/quantity.py:659: RuntimeWarning: invalid value encountered in divide\n",
      "  result = super().__array_ufunc__(function, method, *arrays, **kwargs)\n"
     ]
    },
    {
     "name": "stdout",
     "output_type": "stream",
     "text": [
      "se calculó T y EM con el modelo de abundancias:coronal\n",
      "Ahora vamos a calcular la T y EM con el modelo de abundancias:photospheric\n"
     ]
    },
    {
     "name": "stderr",
     "output_type": "stream",
     "text": [
      "Files Downloaded: 100%|██████████| 1/1 [00:00<00:00,  1.25file/s]\n",
      "2025-10-24 15:31:09 - root - INFO: Searching for GOES flares between 2024-10-07 00:00:00 and 2024-10-08 00:00:00...\n"
     ]
    },
    {
     "name": "stdout",
     "output_type": "stream",
     "text": [
      "se calculó T y EM con el modelo de abundancias:photospheric\n",
      "4. CONSTRUIR df_full\n",
      "5. añadiendo observatorio: GOES: GOES-16\n",
      "se añadió observatorio: GOES: GOES-16\n",
      "6. Descargando flares: 2024-10-07 00:00:00 - 2024-10-08 00:00:00\n"
     ]
    },
    {
     "name": "stderr",
     "output_type": "stream",
     "text": [
      "2025-10-24 15:31:10 - root - INFO: Found 5 GOES solar flares between 2024-10-07 00:00:00 and 2024-10-08 00:00:00.\n",
      "Día 135 de 185: 2024-10-09\n"
     ]
    },
    {
     "name": "stdout",
     "output_type": "stream",
     "text": [
      "Se descargaron flares para el intervalo 2024-10-07 00:00:00 - 2024-10-08 00:00:00.\n",
      "7. Se filtraron solo flares de GOES.\n",
      "1. Descargar datos GOES\n",
      "Buscando datos de: 2024-10-09 00:00:00\n",
      "Descargando datos de 2024-10-09 00:00:00...\n"
     ]
    },
    {
     "name": "stderr",
     "output_type": "stream",
     "text": [
      "Files Downloaded: 100%|██████████| 4/4 [00:00<00:00,  8.19file/s]\n"
     ]
    },
    {
     "name": "stdout",
     "output_type": "stream",
     "text": [
      "Resolution = 1 minute\n",
      "Gráfica guardada en 2025-10-24_Download_for_specific_days/Data/Month_2024_10/data_graphs/GOES_2024-10-09_00-00-00.png\n",
      "Observatorio encontrado: GOES-16\n",
      "Se encontraron datos  GOES para 2024-10-09 00:00:00 - 2024-10-10 00:00:00. Día saltado.\n",
      "\n",
      "Número de registros: 1440\n",
      "Columnas disponibles: ['xrsa', 'xrsb', 'xrsa_quality', 'xrsb_quality']\n",
      "2. Restar Background\n",
      "Plot saved at: 2025-10-24_Download_for_specific_days/Data/Month_2024_10/data_graphs/GOES_diff_linear_2024-10-09_00-00-00.png\n",
      "Plot saved at: 2025-10-24_Download_for_specific_days/Data/Month_2024_10/data_graphs/GOES_diff_log_2024-10-09_00-00-00.png\n"
     ]
    },
    {
     "name": "stderr",
     "output_type": "stream",
     "text": [
      "/tmp/ipykernel_2397830/750897493.py:225: FutureWarning: Downcasting behavior in Series and DataFrame methods 'where', 'mask', and 'clip' is deprecated. In a future version this will not infer object dtypes or cast all-round floats to integers. Instead call result.infer_objects(copy=False) for object inference, or cast round floats explicitly. To opt-in to the future behavior, set `pd.set_option('future.no_silent_downcasting', True)`\n",
      "  df_o = df_o.clip(lower=1e-9)\n",
      "WARNING: SunpyUserWarning: No information about primary/secondary detectors in XRSTimeSeries, assuming primary for all [sunkit_instruments.goes_xrs.goes_chianti_tem]\n",
      "2025-10-24 15:31:20 - sunpy - WARNING: SunpyUserWarning: No information about primary/secondary detectors in XRSTimeSeries, assuming primary for all\n"
     ]
    },
    {
     "name": "stdout",
     "output_type": "stream",
     "text": [
      "Plot saved at: 2025-10-24_Download_for_specific_days/Data/Month_2024_10/data_graphs/GOES_diff_positive_2024-10-09_00-00-00.png\n",
      "3. USAR FUNCIÓN SUNPY calculate_t_em\n",
      "Ahora vamos a calcular la T y EM con el modelo de abundancias:coronal\n"
     ]
    },
    {
     "name": "stderr",
     "output_type": "stream",
     "text": [
      "Files Downloaded: 100%|██████████| 1/1 [00:00<00:00,  1.22file/s]\n",
      "/home/pjgonzalesp/miniforge3/envs/sunpy/lib/python3.13/site-packages/astropy/units/quantity.py:659: RuntimeWarning: invalid value encountered in divide\n",
      "  result = super().__array_ufunc__(function, method, *arrays, **kwargs)\n"
     ]
    },
    {
     "name": "stdout",
     "output_type": "stream",
     "text": [
      "se calculó T y EM con el modelo de abundancias:coronal\n",
      "Ahora vamos a calcular la T y EM con el modelo de abundancias:photospheric\n"
     ]
    },
    {
     "name": "stderr",
     "output_type": "stream",
     "text": [
      "Files Downloaded: 100%|██████████| 1/1 [00:01<00:00,  1.24s/file]\n",
      "2025-10-24 15:31:23 - root - INFO: Searching for GOES flares between 2024-10-09 00:00:00 and 2024-10-10 00:00:00...\n"
     ]
    },
    {
     "name": "stdout",
     "output_type": "stream",
     "text": [
      "se calculó T y EM con el modelo de abundancias:photospheric\n",
      "4. CONSTRUIR df_full\n",
      "5. añadiendo observatorio: GOES: GOES-16\n",
      "se añadió observatorio: GOES: GOES-16\n",
      "6. Descargando flares: 2024-10-09 00:00:00 - 2024-10-10 00:00:00\n"
     ]
    },
    {
     "name": "stderr",
     "output_type": "stream",
     "text": [
      "2025-10-24 15:31:25 - root - INFO: Found 7 GOES solar flares between 2024-10-09 00:00:00 and 2024-10-10 00:00:00.\n",
      "Día 136 de 185: 2024-10-24\n"
     ]
    },
    {
     "name": "stdout",
     "output_type": "stream",
     "text": [
      "Se descargaron flares para el intervalo 2024-10-09 00:00:00 - 2024-10-10 00:00:00.\n",
      "7. Se filtraron solo flares de GOES.\n",
      "1. Descargar datos GOES\n",
      "Buscando datos de: 2024-10-24 00:00:00\n",
      "Descargando datos de 2024-10-24 00:00:00...\n"
     ]
    },
    {
     "name": "stderr",
     "output_type": "stream",
     "text": [
      "Files Downloaded: 100%|██████████| 4/4 [00:00<00:00,  7.75file/s]\n"
     ]
    },
    {
     "name": "stdout",
     "output_type": "stream",
     "text": [
      "Resolution = 1 minute\n",
      "Gráfica guardada en 2025-10-24_Download_for_specific_days/Data/Month_2024_10/data_graphs/GOES_2024-10-24_00-00-00.png\n",
      "Observatorio encontrado: GOES-16\n",
      "Se encontraron datos  GOES para 2024-10-24 00:00:00 - 2024-10-25 00:00:00. Día saltado.\n",
      "\n",
      "Número de registros: 1440\n",
      "Columnas disponibles: ['xrsa', 'xrsb', 'xrsa_quality', 'xrsb_quality']\n",
      "2. Restar Background\n",
      "Plot saved at: 2025-10-24_Download_for_specific_days/Data/Month_2024_10/data_graphs/GOES_diff_linear_2024-10-24_00-00-00.png\n",
      "Plot saved at: 2025-10-24_Download_for_specific_days/Data/Month_2024_10/data_graphs/GOES_diff_log_2024-10-24_00-00-00.png\n"
     ]
    },
    {
     "name": "stderr",
     "output_type": "stream",
     "text": [
      "/tmp/ipykernel_2397830/750897493.py:225: FutureWarning: Downcasting behavior in Series and DataFrame methods 'where', 'mask', and 'clip' is deprecated. In a future version this will not infer object dtypes or cast all-round floats to integers. Instead call result.infer_objects(copy=False) for object inference, or cast round floats explicitly. To opt-in to the future behavior, set `pd.set_option('future.no_silent_downcasting', True)`\n",
      "  df_o = df_o.clip(lower=1e-9)\n",
      "WARNING: SunpyUserWarning: No information about primary/secondary detectors in XRSTimeSeries, assuming primary for all [sunkit_instruments.goes_xrs.goes_chianti_tem]\n",
      "2025-10-24 15:31:34 - sunpy - WARNING: SunpyUserWarning: No information about primary/secondary detectors in XRSTimeSeries, assuming primary for all\n"
     ]
    },
    {
     "name": "stdout",
     "output_type": "stream",
     "text": [
      "Plot saved at: 2025-10-24_Download_for_specific_days/Data/Month_2024_10/data_graphs/GOES_diff_positive_2024-10-24_00-00-00.png\n",
      "3. USAR FUNCIÓN SUNPY calculate_t_em\n",
      "Ahora vamos a calcular la T y EM con el modelo de abundancias:coronal\n"
     ]
    },
    {
     "name": "stderr",
     "output_type": "stream",
     "text": [
      "Files Downloaded: 100%|██████████| 1/1 [00:01<00:00,  1.31s/file]\n",
      "/home/pjgonzalesp/miniforge3/envs/sunpy/lib/python3.13/site-packages/astropy/units/quantity.py:659: RuntimeWarning: invalid value encountered in divide\n",
      "  result = super().__array_ufunc__(function, method, *arrays, **kwargs)\n"
     ]
    },
    {
     "name": "stdout",
     "output_type": "stream",
     "text": [
      "se calculó T y EM con el modelo de abundancias:coronal\n",
      "Ahora vamos a calcular la T y EM con el modelo de abundancias:photospheric\n"
     ]
    },
    {
     "name": "stderr",
     "output_type": "stream",
     "text": [
      "Files Downloaded: 100%|██████████| 1/1 [00:01<00:00,  1.32s/file]\n",
      "2025-10-24 15:31:37 - root - INFO: Searching for GOES flares between 2024-10-24 00:00:00 and 2024-10-25 00:00:00...\n"
     ]
    },
    {
     "name": "stdout",
     "output_type": "stream",
     "text": [
      "se calculó T y EM con el modelo de abundancias:photospheric\n",
      "4. CONSTRUIR df_full\n",
      "5. añadiendo observatorio: GOES: GOES-16\n",
      "se añadió observatorio: GOES: GOES-16\n",
      "6. Descargando flares: 2024-10-24 00:00:00 - 2024-10-25 00:00:00\n"
     ]
    },
    {
     "name": "stderr",
     "output_type": "stream",
     "text": [
      "2025-10-24 15:31:38 - root - INFO: Found 3 GOES solar flares between 2024-10-24 00:00:00 and 2024-10-25 00:00:00.\n",
      "Día 137 de 185: 2024-10-26\n"
     ]
    },
    {
     "name": "stdout",
     "output_type": "stream",
     "text": [
      "Se descargaron flares para el intervalo 2024-10-24 00:00:00 - 2024-10-25 00:00:00.\n",
      "7. Se filtraron solo flares de GOES.\n",
      "1. Descargar datos GOES\n",
      "Buscando datos de: 2024-10-26 00:00:00\n",
      "Descargando datos de 2024-10-26 00:00:00...\n"
     ]
    },
    {
     "name": "stderr",
     "output_type": "stream",
     "text": [
      "Files Downloaded: 100%|██████████| 4/4 [00:00<00:00,  7.91file/s]\n"
     ]
    },
    {
     "name": "stdout",
     "output_type": "stream",
     "text": [
      "Resolution = 1 minute\n",
      "Gráfica guardada en 2025-10-24_Download_for_specific_days/Data/Month_2024_10/data_graphs/GOES_2024-10-26_00-00-00.png\n",
      "Observatorio encontrado: GOES-16\n",
      "Se encontraron datos  GOES para 2024-10-26 00:00:00 - 2024-10-27 00:00:00. Día saltado.\n",
      "\n",
      "Número de registros: 1440\n",
      "Columnas disponibles: ['xrsa', 'xrsb', 'xrsa_quality', 'xrsb_quality']\n",
      "2. Restar Background\n",
      "Plot saved at: 2025-10-24_Download_for_specific_days/Data/Month_2024_10/data_graphs/GOES_diff_linear_2024-10-26_00-00-00.png\n",
      "Plot saved at: 2025-10-24_Download_for_specific_days/Data/Month_2024_10/data_graphs/GOES_diff_log_2024-10-26_00-00-00.png\n"
     ]
    },
    {
     "name": "stderr",
     "output_type": "stream",
     "text": [
      "/tmp/ipykernel_2397830/750897493.py:225: FutureWarning: Downcasting behavior in Series and DataFrame methods 'where', 'mask', and 'clip' is deprecated. In a future version this will not infer object dtypes or cast all-round floats to integers. Instead call result.infer_objects(copy=False) for object inference, or cast round floats explicitly. To opt-in to the future behavior, set `pd.set_option('future.no_silent_downcasting', True)`\n",
      "  df_o = df_o.clip(lower=1e-9)\n",
      "WARNING: SunpyUserWarning: No information about primary/secondary detectors in XRSTimeSeries, assuming primary for all [sunkit_instruments.goes_xrs.goes_chianti_tem]\n",
      "2025-10-24 15:31:47 - sunpy - WARNING: SunpyUserWarning: No information about primary/secondary detectors in XRSTimeSeries, assuming primary for all\n"
     ]
    },
    {
     "name": "stdout",
     "output_type": "stream",
     "text": [
      "Plot saved at: 2025-10-24_Download_for_specific_days/Data/Month_2024_10/data_graphs/GOES_diff_positive_2024-10-26_00-00-00.png\n",
      "3. USAR FUNCIÓN SUNPY calculate_t_em\n",
      "Ahora vamos a calcular la T y EM con el modelo de abundancias:coronal\n"
     ]
    },
    {
     "name": "stderr",
     "output_type": "stream",
     "text": [
      "Files Downloaded: 100%|██████████| 1/1 [00:01<00:00,  1.13s/file]\n",
      "/home/pjgonzalesp/miniforge3/envs/sunpy/lib/python3.13/site-packages/astropy/units/quantity.py:659: RuntimeWarning: invalid value encountered in divide\n",
      "  result = super().__array_ufunc__(function, method, *arrays, **kwargs)\n"
     ]
    },
    {
     "name": "stdout",
     "output_type": "stream",
     "text": [
      "se calculó T y EM con el modelo de abundancias:coronal\n",
      "Ahora vamos a calcular la T y EM con el modelo de abundancias:photospheric\n"
     ]
    },
    {
     "name": "stderr",
     "output_type": "stream",
     "text": [
      "Files Downloaded: 100%|██████████| 1/1 [00:00<00:00,  1.19file/s]\n",
      "2025-10-24 15:31:50 - root - INFO: Searching for GOES flares between 2024-10-26 00:00:00 and 2024-10-27 00:00:00...\n"
     ]
    },
    {
     "name": "stdout",
     "output_type": "stream",
     "text": [
      "se calculó T y EM con el modelo de abundancias:photospheric\n",
      "4. CONSTRUIR df_full\n",
      "5. añadiendo observatorio: GOES: GOES-16\n",
      "se añadió observatorio: GOES: GOES-16\n",
      "6. Descargando flares: 2024-10-26 00:00:00 - 2024-10-27 00:00:00\n"
     ]
    },
    {
     "name": "stderr",
     "output_type": "stream",
     "text": [
      "2025-10-24 15:31:52 - root - INFO: Found 9 GOES solar flares between 2024-10-26 00:00:00 and 2024-10-27 00:00:00.\n",
      "Día 138 de 185: 2024-10-31\n"
     ]
    },
    {
     "name": "stdout",
     "output_type": "stream",
     "text": [
      "Se descargaron flares para el intervalo 2024-10-26 00:00:00 - 2024-10-27 00:00:00.\n",
      "7. Se filtraron solo flares de GOES.\n",
      "1. Descargar datos GOES\n",
      "Buscando datos de: 2024-10-31 00:00:00\n",
      "Descargando datos de 2024-10-31 00:00:00...\n"
     ]
    },
    {
     "name": "stderr",
     "output_type": "stream",
     "text": [
      "Files Downloaded: 100%|██████████| 4/4 [00:00<00:00,  8.11file/s]\n"
     ]
    },
    {
     "name": "stdout",
     "output_type": "stream",
     "text": [
      "Resolution = 1 minute\n",
      "Gráfica guardada en 2025-10-24_Download_for_specific_days/Data/Month_2024_10/data_graphs/GOES_2024-10-31_00-00-00.png\n",
      "Observatorio encontrado: GOES-16\n",
      "Se encontraron datos  GOES para 2024-10-31 00:00:00 - 2024-11-01 00:00:00. Día saltado.\n",
      "\n",
      "Número de registros: 1440\n",
      "Columnas disponibles: ['xrsa', 'xrsb', 'xrsa_quality', 'xrsb_quality']\n",
      "2. Restar Background\n",
      "Plot saved at: 2025-10-24_Download_for_specific_days/Data/Month_2024_10/data_graphs/GOES_diff_linear_2024-10-31_00-00-00.png\n",
      "Plot saved at: 2025-10-24_Download_for_specific_days/Data/Month_2024_10/data_graphs/GOES_diff_log_2024-10-31_00-00-00.png\n"
     ]
    },
    {
     "name": "stderr",
     "output_type": "stream",
     "text": [
      "/tmp/ipykernel_2397830/750897493.py:225: FutureWarning: Downcasting behavior in Series and DataFrame methods 'where', 'mask', and 'clip' is deprecated. In a future version this will not infer object dtypes or cast all-round floats to integers. Instead call result.infer_objects(copy=False) for object inference, or cast round floats explicitly. To opt-in to the future behavior, set `pd.set_option('future.no_silent_downcasting', True)`\n",
      "  df_o = df_o.clip(lower=1e-9)\n",
      "WARNING: SunpyUserWarning: No information about primary/secondary detectors in XRSTimeSeries, assuming primary for all [sunkit_instruments.goes_xrs.goes_chianti_tem]\n",
      "2025-10-24 15:32:03 - sunpy - WARNING: SunpyUserWarning: No information about primary/secondary detectors in XRSTimeSeries, assuming primary for all\n"
     ]
    },
    {
     "name": "stdout",
     "output_type": "stream",
     "text": [
      "Plot saved at: 2025-10-24_Download_for_specific_days/Data/Month_2024_10/data_graphs/GOES_diff_positive_2024-10-31_00-00-00.png\n",
      "3. USAR FUNCIÓN SUNPY calculate_t_em\n",
      "Ahora vamos a calcular la T y EM con el modelo de abundancias:coronal\n"
     ]
    },
    {
     "name": "stderr",
     "output_type": "stream",
     "text": [
      "Files Downloaded: 100%|██████████| 1/1 [00:00<00:00,  1.24file/s]\n",
      "/home/pjgonzalesp/miniforge3/envs/sunpy/lib/python3.13/site-packages/astropy/units/quantity.py:659: RuntimeWarning: invalid value encountered in divide\n",
      "  result = super().__array_ufunc__(function, method, *arrays, **kwargs)\n"
     ]
    },
    {
     "name": "stdout",
     "output_type": "stream",
     "text": [
      "se calculó T y EM con el modelo de abundancias:coronal\n",
      "Ahora vamos a calcular la T y EM con el modelo de abundancias:photospheric\n"
     ]
    },
    {
     "name": "stderr",
     "output_type": "stream",
     "text": [
      "Files Downloaded: 100%|██████████| 1/1 [00:00<00:00,  1.23file/s]\n",
      "2025-10-24 15:32:05 - root - INFO: Searching for GOES flares between 2024-10-31 00:00:00 and 2024-11-01 00:00:00...\n"
     ]
    },
    {
     "name": "stdout",
     "output_type": "stream",
     "text": [
      "se calculó T y EM con el modelo de abundancias:photospheric\n",
      "4. CONSTRUIR df_full\n",
      "5. añadiendo observatorio: GOES: GOES-16\n",
      "se añadió observatorio: GOES: GOES-16\n",
      "6. Descargando flares: 2024-10-31 00:00:00 - 2024-11-01 00:00:00\n"
     ]
    },
    {
     "name": "stderr",
     "output_type": "stream",
     "text": [
      "2025-10-24 15:32:08 - root - INFO: Found 17 GOES solar flares between 2024-10-31 00:00:00 and 2024-11-01 00:00:00.\n",
      "Día 139 de 185: 2024-11-06\n"
     ]
    },
    {
     "name": "stdout",
     "output_type": "stream",
     "text": [
      "Se descargaron flares para el intervalo 2024-10-31 00:00:00 - 2024-11-01 00:00:00.\n",
      "7. Se filtraron solo flares de GOES.\n",
      "💾 df_full_2024_10.csv actualizado (10080 filas)\n",
      "✅ Días descargados este mes: [datetime.date(2024, 10, 1), datetime.date(2024, 10, 3), datetime.date(2024, 10, 7), datetime.date(2024, 10, 9), datetime.date(2024, 10, 24), datetime.date(2024, 10, 26), datetime.date(2024, 10, 31)]\n",
      "💾 df_flare_data_2024_10.csv actualizado (64 filas)\n",
      "🏁 Mes 2024_10 terminado → 2025-10-24_Download_for_specific_days/Data/Month_2024_10\n",
      "\n",
      "========================================\n",
      "🟦 Procesando mes 2024_11 (1 días)\n",
      "========================================\n",
      "1. Descargar datos GOES\n",
      "Buscando datos de: 2024-11-06 00:00:00\n",
      "Descargando datos de 2024-11-06 00:00:00...\n"
     ]
    },
    {
     "name": "stderr",
     "output_type": "stream",
     "text": [
      "Files Downloaded: 100%|██████████| 4/4 [00:00<00:00,  8.18file/s]\n"
     ]
    },
    {
     "name": "stdout",
     "output_type": "stream",
     "text": [
      "Resolution = 1 minute\n",
      "Gráfica guardada en 2025-10-24_Download_for_specific_days/Data/Month_2024_11/data_graphs/GOES_2024-11-06_00-00-00.png\n",
      "Observatorio encontrado: GOES-16\n",
      "Se encontraron datos  GOES para 2024-11-06 00:00:00 - 2024-11-07 00:00:00. Día saltado.\n",
      "\n",
      "Número de registros: 1440\n",
      "Columnas disponibles: ['xrsa', 'xrsb', 'xrsa_quality', 'xrsb_quality']\n",
      "2. Restar Background\n",
      "Plot saved at: 2025-10-24_Download_for_specific_days/Data/Month_2024_11/data_graphs/GOES_diff_linear_2024-11-06_00-00-00.png\n",
      "Plot saved at: 2025-10-24_Download_for_specific_days/Data/Month_2024_11/data_graphs/GOES_diff_log_2024-11-06_00-00-00.png\n"
     ]
    },
    {
     "name": "stderr",
     "output_type": "stream",
     "text": [
      "/tmp/ipykernel_2397830/750897493.py:225: FutureWarning: Downcasting behavior in Series and DataFrame methods 'where', 'mask', and 'clip' is deprecated. In a future version this will not infer object dtypes or cast all-round floats to integers. Instead call result.infer_objects(copy=False) for object inference, or cast round floats explicitly. To opt-in to the future behavior, set `pd.set_option('future.no_silent_downcasting', True)`\n",
      "  df_o = df_o.clip(lower=1e-9)\n",
      "WARNING: SunpyUserWarning: No information about primary/secondary detectors in XRSTimeSeries, assuming primary for all [sunkit_instruments.goes_xrs.goes_chianti_tem]\n",
      "2025-10-24 15:32:17 - sunpy - WARNING: SunpyUserWarning: No information about primary/secondary detectors in XRSTimeSeries, assuming primary for all\n"
     ]
    },
    {
     "name": "stdout",
     "output_type": "stream",
     "text": [
      "Plot saved at: 2025-10-24_Download_for_specific_days/Data/Month_2024_11/data_graphs/GOES_diff_positive_2024-11-06_00-00-00.png\n",
      "3. USAR FUNCIÓN SUNPY calculate_t_em\n",
      "Ahora vamos a calcular la T y EM con el modelo de abundancias:coronal\n"
     ]
    },
    {
     "name": "stderr",
     "output_type": "stream",
     "text": [
      "Files Downloaded: 100%|██████████| 1/1 [00:00<00:00,  1.21file/s]\n",
      "/home/pjgonzalesp/miniforge3/envs/sunpy/lib/python3.13/site-packages/astropy/units/quantity.py:659: RuntimeWarning: invalid value encountered in divide\n",
      "  result = super().__array_ufunc__(function, method, *arrays, **kwargs)\n"
     ]
    },
    {
     "name": "stdout",
     "output_type": "stream",
     "text": [
      "se calculó T y EM con el modelo de abundancias:coronal\n",
      "Ahora vamos a calcular la T y EM con el modelo de abundancias:photospheric\n"
     ]
    },
    {
     "name": "stderr",
     "output_type": "stream",
     "text": [
      "Files Downloaded: 100%|██████████| 1/1 [00:00<00:00,  1.09file/s]\n",
      "2025-10-24 15:32:20 - root - INFO: Searching for GOES flares between 2024-11-06 00:00:00 and 2024-11-07 00:00:00...\n"
     ]
    },
    {
     "name": "stdout",
     "output_type": "stream",
     "text": [
      "se calculó T y EM con el modelo de abundancias:photospheric\n",
      "4. CONSTRUIR df_full\n",
      "5. añadiendo observatorio: GOES: GOES-16\n",
      "se añadió observatorio: GOES: GOES-16\n",
      "6. Descargando flares: 2024-11-06 00:00:00 - 2024-11-07 00:00:00\n"
     ]
    },
    {
     "name": "stderr",
     "output_type": "stream",
     "text": [
      "2025-10-24 15:32:23 - root - INFO: Found 21 GOES solar flares between 2024-11-06 00:00:00 and 2024-11-07 00:00:00.\n",
      "Día 140 de 185: 2024-12-08\n"
     ]
    },
    {
     "name": "stdout",
     "output_type": "stream",
     "text": [
      "Se descargaron flares para el intervalo 2024-11-06 00:00:00 - 2024-11-07 00:00:00.\n",
      "7. Se filtraron solo flares de GOES.\n",
      "💾 df_full_2024_11.csv actualizado (1440 filas)\n",
      "✅ Días descargados este mes: [datetime.date(2024, 11, 6)]\n",
      "💾 df_flare_data_2024_11.csv actualizado (21 filas)\n",
      "🏁 Mes 2024_11 terminado → 2025-10-24_Download_for_specific_days/Data/Month_2024_11\n",
      "\n",
      "========================================\n",
      "🟦 Procesando mes 2024_12 (3 días)\n",
      "========================================\n",
      "1. Descargar datos GOES\n",
      "Buscando datos de: 2024-12-08 00:00:00\n",
      "Descargando datos de 2024-12-08 00:00:00...\n"
     ]
    },
    {
     "name": "stderr",
     "output_type": "stream",
     "text": [
      "Files Downloaded: 100%|██████████| 4/4 [00:00<00:00,  7.47file/s]\n"
     ]
    },
    {
     "name": "stdout",
     "output_type": "stream",
     "text": [
      "Resolution = 1 minute\n",
      "Gráfica guardada en 2025-10-24_Download_for_specific_days/Data/Month_2024_12/data_graphs/GOES_2024-12-08_00-00-00.png\n",
      "Observatorio encontrado: GOES-16\n",
      "Se encontraron datos  GOES para 2024-12-08 00:00:00 - 2024-12-09 00:00:00. Día saltado.\n",
      "\n",
      "Número de registros: 1440\n",
      "Columnas disponibles: ['xrsa', 'xrsb', 'xrsa_quality', 'xrsb_quality']\n",
      "2. Restar Background\n",
      "Plot saved at: 2025-10-24_Download_for_specific_days/Data/Month_2024_12/data_graphs/GOES_diff_linear_2024-12-08_00-00-00.png\n",
      "Plot saved at: 2025-10-24_Download_for_specific_days/Data/Month_2024_12/data_graphs/GOES_diff_log_2024-12-08_00-00-00.png\n"
     ]
    },
    {
     "name": "stderr",
     "output_type": "stream",
     "text": [
      "/tmp/ipykernel_2397830/750897493.py:225: FutureWarning: Downcasting behavior in Series and DataFrame methods 'where', 'mask', and 'clip' is deprecated. In a future version this will not infer object dtypes or cast all-round floats to integers. Instead call result.infer_objects(copy=False) for object inference, or cast round floats explicitly. To opt-in to the future behavior, set `pd.set_option('future.no_silent_downcasting', True)`\n",
      "  df_o = df_o.clip(lower=1e-9)\n",
      "WARNING: SunpyUserWarning: No information about primary/secondary detectors in XRSTimeSeries, assuming primary for all [sunkit_instruments.goes_xrs.goes_chianti_tem]\n",
      "2025-10-24 15:32:37 - sunpy - WARNING: SunpyUserWarning: No information about primary/secondary detectors in XRSTimeSeries, assuming primary for all\n"
     ]
    },
    {
     "name": "stdout",
     "output_type": "stream",
     "text": [
      "Plot saved at: 2025-10-24_Download_for_specific_days/Data/Month_2024_12/data_graphs/GOES_diff_positive_2024-12-08_00-00-00.png\n",
      "3. USAR FUNCIÓN SUNPY calculate_t_em\n",
      "Ahora vamos a calcular la T y EM con el modelo de abundancias:coronal\n"
     ]
    },
    {
     "name": "stderr",
     "output_type": "stream",
     "text": [
      "Files Downloaded: 100%|██████████| 1/1 [00:00<00:00,  1.22file/s]\n",
      "/home/pjgonzalesp/miniforge3/envs/sunpy/lib/python3.13/site-packages/astropy/units/quantity.py:659: RuntimeWarning: invalid value encountered in divide\n",
      "  result = super().__array_ufunc__(function, method, *arrays, **kwargs)\n"
     ]
    },
    {
     "name": "stdout",
     "output_type": "stream",
     "text": [
      "se calculó T y EM con el modelo de abundancias:coronal\n",
      "Ahora vamos a calcular la T y EM con el modelo de abundancias:photospheric\n"
     ]
    },
    {
     "name": "stderr",
     "output_type": "stream",
     "text": [
      "Files Downloaded: 100%|██████████| 1/1 [00:00<00:00,  1.24file/s]\n",
      "2025-10-24 15:32:39 - root - INFO: Searching for GOES flares between 2024-12-08 00:00:00 and 2024-12-09 00:00:00...\n"
     ]
    },
    {
     "name": "stdout",
     "output_type": "stream",
     "text": [
      "se calculó T y EM con el modelo de abundancias:photospheric\n",
      "4. CONSTRUIR df_full\n",
      "5. añadiendo observatorio: GOES: GOES-16\n",
      "se añadió observatorio: GOES: GOES-16\n",
      "6. Descargando flares: 2024-12-08 00:00:00 - 2024-12-09 00:00:00\n"
     ]
    },
    {
     "name": "stderr",
     "output_type": "stream",
     "text": [
      "2025-10-24 15:32:42 - root - INFO: Found 14 GOES solar flares between 2024-12-08 00:00:00 and 2024-12-09 00:00:00.\n",
      "Día 141 de 185: 2024-12-29\n"
     ]
    },
    {
     "name": "stdout",
     "output_type": "stream",
     "text": [
      "Se descargaron flares para el intervalo 2024-12-08 00:00:00 - 2024-12-09 00:00:00.\n",
      "7. Se filtraron solo flares de GOES.\n",
      "1. Descargar datos GOES\n",
      "Buscando datos de: 2024-12-29 00:00:00\n",
      "Descargando datos de 2024-12-29 00:00:00...\n"
     ]
    },
    {
     "name": "stderr",
     "output_type": "stream",
     "text": [
      "Files Downloaded: 100%|██████████| 4/4 [00:00<00:00,  7.99file/s]\n"
     ]
    },
    {
     "name": "stdout",
     "output_type": "stream",
     "text": [
      "Resolution = 1 minute\n",
      "Gráfica guardada en 2025-10-24_Download_for_specific_days/Data/Month_2024_12/data_graphs/GOES_2024-12-29_00-00-00.png\n",
      "Observatorio encontrado: GOES-16\n",
      "Se encontraron datos  GOES para 2024-12-29 00:00:00 - 2024-12-30 00:00:00. Día saltado.\n",
      "\n",
      "Número de registros: 1440\n",
      "Columnas disponibles: ['xrsa', 'xrsb', 'xrsa_quality', 'xrsb_quality']\n",
      "2. Restar Background\n",
      "Plot saved at: 2025-10-24_Download_for_specific_days/Data/Month_2024_12/data_graphs/GOES_diff_linear_2024-12-29_00-00-00.png\n",
      "Plot saved at: 2025-10-24_Download_for_specific_days/Data/Month_2024_12/data_graphs/GOES_diff_log_2024-12-29_00-00-00.png\n"
     ]
    },
    {
     "name": "stderr",
     "output_type": "stream",
     "text": [
      "/tmp/ipykernel_2397830/750897493.py:225: FutureWarning: Downcasting behavior in Series and DataFrame methods 'where', 'mask', and 'clip' is deprecated. In a future version this will not infer object dtypes or cast all-round floats to integers. Instead call result.infer_objects(copy=False) for object inference, or cast round floats explicitly. To opt-in to the future behavior, set `pd.set_option('future.no_silent_downcasting', True)`\n",
      "  df_o = df_o.clip(lower=1e-9)\n",
      "WARNING: SunpyUserWarning: No information about primary/secondary detectors in XRSTimeSeries, assuming primary for all [sunkit_instruments.goes_xrs.goes_chianti_tem]\n",
      "2025-10-24 15:32:51 - sunpy - WARNING: SunpyUserWarning: No information about primary/secondary detectors in XRSTimeSeries, assuming primary for all\n"
     ]
    },
    {
     "name": "stdout",
     "output_type": "stream",
     "text": [
      "Plot saved at: 2025-10-24_Download_for_specific_days/Data/Month_2024_12/data_graphs/GOES_diff_positive_2024-12-29_00-00-00.png\n",
      "3. USAR FUNCIÓN SUNPY calculate_t_em\n",
      "Ahora vamos a calcular la T y EM con el modelo de abundancias:coronal\n"
     ]
    },
    {
     "name": "stderr",
     "output_type": "stream",
     "text": [
      "Files Downloaded: 100%|██████████| 1/1 [00:00<00:00,  1.20file/s]\n",
      "/home/pjgonzalesp/miniforge3/envs/sunpy/lib/python3.13/site-packages/astropy/units/quantity.py:659: RuntimeWarning: invalid value encountered in divide\n",
      "  result = super().__array_ufunc__(function, method, *arrays, **kwargs)\n"
     ]
    },
    {
     "name": "stdout",
     "output_type": "stream",
     "text": [
      "se calculó T y EM con el modelo de abundancias:coronal\n",
      "Ahora vamos a calcular la T y EM con el modelo de abundancias:photospheric\n"
     ]
    },
    {
     "name": "stderr",
     "output_type": "stream",
     "text": [
      "Files Downloaded: 100%|██████████| 1/1 [00:00<00:00,  1.09file/s]\n",
      "2025-10-24 15:32:54 - root - INFO: Searching for GOES flares between 2024-12-29 00:00:00 and 2024-12-30 00:00:00...\n"
     ]
    },
    {
     "name": "stdout",
     "output_type": "stream",
     "text": [
      "se calculó T y EM con el modelo de abundancias:photospheric\n",
      "4. CONSTRUIR df_full\n",
      "5. añadiendo observatorio: GOES: GOES-16\n",
      "se añadió observatorio: GOES: GOES-16\n",
      "6. Descargando flares: 2024-12-29 00:00:00 - 2024-12-30 00:00:00\n"
     ]
    },
    {
     "name": "stderr",
     "output_type": "stream",
     "text": [
      "2025-10-24 15:32:57 - root - INFO: Found 24 GOES solar flares between 2024-12-29 00:00:00 and 2024-12-30 00:00:00.\n",
      "Día 142 de 185: 2024-12-30\n"
     ]
    },
    {
     "name": "stdout",
     "output_type": "stream",
     "text": [
      "Se descargaron flares para el intervalo 2024-12-29 00:00:00 - 2024-12-30 00:00:00.\n",
      "7. Se filtraron solo flares de GOES.\n",
      "1. Descargar datos GOES\n",
      "Buscando datos de: 2024-12-30 00:00:00\n",
      "Descargando datos de 2024-12-30 00:00:00...\n"
     ]
    },
    {
     "name": "stderr",
     "output_type": "stream",
     "text": [
      "Files Downloaded: 100%|██████████| 4/4 [00:00<00:00,  8.20file/s]\n"
     ]
    },
    {
     "name": "stdout",
     "output_type": "stream",
     "text": [
      "Resolution = 1 minute\n",
      "Gráfica guardada en 2025-10-24_Download_for_specific_days/Data/Month_2024_12/data_graphs/GOES_2024-12-30_00-00-00.png\n",
      "Observatorio encontrado: GOES-16\n",
      "Se encontraron datos  GOES para 2024-12-30 00:00:00 - 2024-12-31 00:00:00. Día saltado.\n",
      "\n",
      "Número de registros: 1440\n",
      "Columnas disponibles: ['xrsa', 'xrsb', 'xrsa_quality', 'xrsb_quality']\n",
      "2. Restar Background\n",
      "Plot saved at: 2025-10-24_Download_for_specific_days/Data/Month_2024_12/data_graphs/GOES_diff_linear_2024-12-30_00-00-00.png\n",
      "Plot saved at: 2025-10-24_Download_for_specific_days/Data/Month_2024_12/data_graphs/GOES_diff_log_2024-12-30_00-00-00.png\n"
     ]
    },
    {
     "name": "stderr",
     "output_type": "stream",
     "text": [
      "/tmp/ipykernel_2397830/750897493.py:225: FutureWarning: Downcasting behavior in Series and DataFrame methods 'where', 'mask', and 'clip' is deprecated. In a future version this will not infer object dtypes or cast all-round floats to integers. Instead call result.infer_objects(copy=False) for object inference, or cast round floats explicitly. To opt-in to the future behavior, set `pd.set_option('future.no_silent_downcasting', True)`\n",
      "  df_o = df_o.clip(lower=1e-9)\n",
      "WARNING: SunpyUserWarning: No information about primary/secondary detectors in XRSTimeSeries, assuming primary for all [sunkit_instruments.goes_xrs.goes_chianti_tem]\n",
      "2025-10-24 15:33:06 - sunpy - WARNING: SunpyUserWarning: No information about primary/secondary detectors in XRSTimeSeries, assuming primary for all\n"
     ]
    },
    {
     "name": "stdout",
     "output_type": "stream",
     "text": [
      "Plot saved at: 2025-10-24_Download_for_specific_days/Data/Month_2024_12/data_graphs/GOES_diff_positive_2024-12-30_00-00-00.png\n",
      "3. USAR FUNCIÓN SUNPY calculate_t_em\n",
      "Ahora vamos a calcular la T y EM con el modelo de abundancias:coronal\n"
     ]
    },
    {
     "name": "stderr",
     "output_type": "stream",
     "text": [
      "Files Downloaded: 100%|██████████| 1/1 [00:00<00:00,  1.17file/s]\n",
      "/home/pjgonzalesp/miniforge3/envs/sunpy/lib/python3.13/site-packages/astropy/units/quantity.py:659: RuntimeWarning: invalid value encountered in divide\n",
      "  result = super().__array_ufunc__(function, method, *arrays, **kwargs)\n"
     ]
    },
    {
     "name": "stdout",
     "output_type": "stream",
     "text": [
      "se calculó T y EM con el modelo de abundancias:coronal\n",
      "Ahora vamos a calcular la T y EM con el modelo de abundancias:photospheric\n"
     ]
    },
    {
     "name": "stderr",
     "output_type": "stream",
     "text": [
      "Files Downloaded: 100%|██████████| 1/1 [00:00<00:00,  1.24file/s]\n",
      "2025-10-24 15:33:09 - root - INFO: Searching for GOES flares between 2024-12-30 00:00:00 and 2024-12-31 00:00:00...\n"
     ]
    },
    {
     "name": "stdout",
     "output_type": "stream",
     "text": [
      "se calculó T y EM con el modelo de abundancias:photospheric\n",
      "4. CONSTRUIR df_full\n",
      "5. añadiendo observatorio: GOES: GOES-16\n",
      "se añadió observatorio: GOES: GOES-16\n",
      "6. Descargando flares: 2024-12-30 00:00:00 - 2024-12-31 00:00:00\n"
     ]
    },
    {
     "name": "stderr",
     "output_type": "stream",
     "text": [
      "2025-10-24 15:33:12 - root - INFO: Found 22 GOES solar flares between 2024-12-30 00:00:00 and 2024-12-31 00:00:00.\n",
      "Día 143 de 185: 2025-01-03\n"
     ]
    },
    {
     "name": "stdout",
     "output_type": "stream",
     "text": [
      "Se descargaron flares para el intervalo 2024-12-30 00:00:00 - 2024-12-31 00:00:00.\n",
      "7. Se filtraron solo flares de GOES.\n",
      "💾 df_full_2024_12.csv actualizado (4320 filas)\n",
      "✅ Días descargados este mes: [datetime.date(2024, 12, 8), datetime.date(2024, 12, 29), datetime.date(2024, 12, 30)]\n",
      "💾 df_flare_data_2024_12.csv actualizado (60 filas)\n",
      "🏁 Mes 2024_12 terminado → 2025-10-24_Download_for_specific_days/Data/Month_2024_12\n",
      "\n",
      "========================================\n",
      "🟦 Procesando mes 2025_01 (2 días)\n",
      "========================================\n",
      "1. Descargar datos GOES\n",
      "Buscando datos de: 2025-01-03 00:00:00\n",
      "Descargando datos de 2025-01-03 00:00:00...\n"
     ]
    },
    {
     "name": "stderr",
     "output_type": "stream",
     "text": [
      "Files Downloaded: 100%|██████████| 4/4 [00:00<00:00,  8.22file/s]\n"
     ]
    },
    {
     "name": "stdout",
     "output_type": "stream",
     "text": [
      "Resolution = 1 minute\n",
      "Gráfica guardada en 2025-10-24_Download_for_specific_days/Data/Month_2025_01/data_graphs/GOES_2025-01-03_00-00-00.png\n",
      "Observatorio encontrado: GOES-16\n",
      "Se encontraron datos  GOES para 2025-01-03 00:00:00 - 2025-01-04 00:00:00. Día saltado.\n",
      "\n",
      "Número de registros: 1440\n",
      "Columnas disponibles: ['xrsa', 'xrsb', 'xrsa_quality', 'xrsb_quality']\n",
      "2. Restar Background\n",
      "Plot saved at: 2025-10-24_Download_for_specific_days/Data/Month_2025_01/data_graphs/GOES_diff_linear_2025-01-03_00-00-00.png\n",
      "Plot saved at: 2025-10-24_Download_for_specific_days/Data/Month_2025_01/data_graphs/GOES_diff_log_2025-01-03_00-00-00.png\n"
     ]
    },
    {
     "name": "stderr",
     "output_type": "stream",
     "text": [
      "/tmp/ipykernel_2397830/750897493.py:225: FutureWarning: Downcasting behavior in Series and DataFrame methods 'where', 'mask', and 'clip' is deprecated. In a future version this will not infer object dtypes or cast all-round floats to integers. Instead call result.infer_objects(copy=False) for object inference, or cast round floats explicitly. To opt-in to the future behavior, set `pd.set_option('future.no_silent_downcasting', True)`\n",
      "  df_o = df_o.clip(lower=1e-9)\n",
      "WARNING: SunpyUserWarning: No information about primary/secondary detectors in XRSTimeSeries, assuming primary for all [sunkit_instruments.goes_xrs.goes_chianti_tem]\n",
      "2025-10-24 15:33:21 - sunpy - WARNING: SunpyUserWarning: No information about primary/secondary detectors in XRSTimeSeries, assuming primary for all\n"
     ]
    },
    {
     "name": "stdout",
     "output_type": "stream",
     "text": [
      "Plot saved at: 2025-10-24_Download_for_specific_days/Data/Month_2025_01/data_graphs/GOES_diff_positive_2025-01-03_00-00-00.png\n",
      "3. USAR FUNCIÓN SUNPY calculate_t_em\n",
      "Ahora vamos a calcular la T y EM con el modelo de abundancias:coronal\n"
     ]
    },
    {
     "name": "stderr",
     "output_type": "stream",
     "text": [
      "Files Downloaded: 100%|██████████| 1/1 [00:00<00:00,  1.24file/s]\n",
      "/home/pjgonzalesp/miniforge3/envs/sunpy/lib/python3.13/site-packages/astropy/units/quantity.py:659: RuntimeWarning: invalid value encountered in divide\n",
      "  result = super().__array_ufunc__(function, method, *arrays, **kwargs)\n"
     ]
    },
    {
     "name": "stdout",
     "output_type": "stream",
     "text": [
      "se calculó T y EM con el modelo de abundancias:coronal\n",
      "Ahora vamos a calcular la T y EM con el modelo de abundancias:photospheric\n"
     ]
    },
    {
     "name": "stderr",
     "output_type": "stream",
     "text": [
      "Files Downloaded: 100%|██████████| 1/1 [00:00<00:00,  1.10file/s]\n",
      "2025-10-24 15:33:24 - root - INFO: Searching for GOES flares between 2025-01-03 00:00:00 and 2025-01-04 00:00:00...\n"
     ]
    },
    {
     "name": "stdout",
     "output_type": "stream",
     "text": [
      "se calculó T y EM con el modelo de abundancias:photospheric\n",
      "4. CONSTRUIR df_full\n",
      "5. añadiendo observatorio: GOES: GOES-16\n",
      "se añadió observatorio: GOES: GOES-16\n",
      "6. Descargando flares: 2025-01-03 00:00:00 - 2025-01-04 00:00:00\n"
     ]
    },
    {
     "name": "stderr",
     "output_type": "stream",
     "text": [
      "2025-10-24 15:33:26 - root - INFO: Found 11 GOES solar flares between 2025-01-03 00:00:00 and 2025-01-04 00:00:00.\n",
      "Día 144 de 185: 2025-01-04\n"
     ]
    },
    {
     "name": "stdout",
     "output_type": "stream",
     "text": [
      "Se descargaron flares para el intervalo 2025-01-03 00:00:00 - 2025-01-04 00:00:00.\n",
      "7. Se filtraron solo flares de GOES.\n",
      "1. Descargar datos GOES\n",
      "Buscando datos de: 2025-01-04 00:00:00\n",
      "Descargando datos de 2025-01-04 00:00:00...\n"
     ]
    },
    {
     "name": "stderr",
     "output_type": "stream",
     "text": [
      "Files Downloaded: 100%|██████████| 4/4 [00:00<00:00,  8.05file/s]\n"
     ]
    },
    {
     "name": "stdout",
     "output_type": "stream",
     "text": [
      "Resolution = 1 minute\n",
      "Gráfica guardada en 2025-10-24_Download_for_specific_days/Data/Month_2025_01/data_graphs/GOES_2025-01-04_00-00-00.png\n",
      "Observatorio encontrado: GOES-16\n",
      "Se encontraron datos  GOES para 2025-01-04 00:00:00 - 2025-01-05 00:00:00. Día saltado.\n",
      "\n",
      "Número de registros: 1440\n",
      "Columnas disponibles: ['xrsa', 'xrsb', 'xrsa_quality', 'xrsb_quality']\n",
      "2. Restar Background\n",
      "Plot saved at: 2025-10-24_Download_for_specific_days/Data/Month_2025_01/data_graphs/GOES_diff_linear_2025-01-04_00-00-00.png\n",
      "Plot saved at: 2025-10-24_Download_for_specific_days/Data/Month_2025_01/data_graphs/GOES_diff_log_2025-01-04_00-00-00.png\n"
     ]
    },
    {
     "name": "stderr",
     "output_type": "stream",
     "text": [
      "/tmp/ipykernel_2397830/750897493.py:225: FutureWarning: Downcasting behavior in Series and DataFrame methods 'where', 'mask', and 'clip' is deprecated. In a future version this will not infer object dtypes or cast all-round floats to integers. Instead call result.infer_objects(copy=False) for object inference, or cast round floats explicitly. To opt-in to the future behavior, set `pd.set_option('future.no_silent_downcasting', True)`\n",
      "  df_o = df_o.clip(lower=1e-9)\n",
      "WARNING: SunpyUserWarning: No information about primary/secondary detectors in XRSTimeSeries, assuming primary for all [sunkit_instruments.goes_xrs.goes_chianti_tem]\n",
      "2025-10-24 15:33:35 - sunpy - WARNING: SunpyUserWarning: No information about primary/secondary detectors in XRSTimeSeries, assuming primary for all\n"
     ]
    },
    {
     "name": "stdout",
     "output_type": "stream",
     "text": [
      "Plot saved at: 2025-10-24_Download_for_specific_days/Data/Month_2025_01/data_graphs/GOES_diff_positive_2025-01-04_00-00-00.png\n",
      "3. USAR FUNCIÓN SUNPY calculate_t_em\n",
      "Ahora vamos a calcular la T y EM con el modelo de abundancias:coronal\n"
     ]
    },
    {
     "name": "stderr",
     "output_type": "stream",
     "text": [
      "Files Downloaded: 100%|██████████| 1/1 [00:01<00:00,  1.16s/file]\n",
      "/home/pjgonzalesp/miniforge3/envs/sunpy/lib/python3.13/site-packages/astropy/units/quantity.py:659: RuntimeWarning: invalid value encountered in divide\n",
      "  result = super().__array_ufunc__(function, method, *arrays, **kwargs)\n"
     ]
    },
    {
     "name": "stdout",
     "output_type": "stream",
     "text": [
      "se calculó T y EM con el modelo de abundancias:coronal\n",
      "Ahora vamos a calcular la T y EM con el modelo de abundancias:photospheric\n"
     ]
    },
    {
     "name": "stderr",
     "output_type": "stream",
     "text": [
      "Files Downloaded: 100%|██████████| 1/1 [00:00<00:00,  1.22file/s]\n",
      "2025-10-24 15:33:38 - root - INFO: Searching for GOES flares between 2025-01-04 00:00:00 and 2025-01-05 00:00:00...\n"
     ]
    },
    {
     "name": "stdout",
     "output_type": "stream",
     "text": [
      "se calculó T y EM con el modelo de abundancias:photospheric\n",
      "4. CONSTRUIR df_full\n",
      "5. añadiendo observatorio: GOES: GOES-16\n",
      "se añadió observatorio: GOES: GOES-16\n",
      "6. Descargando flares: 2025-01-04 00:00:00 - 2025-01-05 00:00:00\n"
     ]
    },
    {
     "name": "stderr",
     "output_type": "stream",
     "text": [
      "2025-10-24 15:33:41 - root - INFO: Found 14 GOES solar flares between 2025-01-04 00:00:00 and 2025-01-05 00:00:00.\n",
      "Día 145 de 185: 2025-02-23\n"
     ]
    },
    {
     "name": "stdout",
     "output_type": "stream",
     "text": [
      "Se descargaron flares para el intervalo 2025-01-04 00:00:00 - 2025-01-05 00:00:00.\n",
      "7. Se filtraron solo flares de GOES.\n",
      "💾 df_full_2025_01.csv actualizado (2880 filas)\n",
      "✅ Días descargados este mes: [datetime.date(2025, 1, 3), datetime.date(2025, 1, 4)]\n",
      "💾 df_flare_data_2025_01.csv actualizado (25 filas)\n",
      "🏁 Mes 2025_01 terminado → 2025-10-24_Download_for_specific_days/Data/Month_2025_01\n",
      "\n",
      "========================================\n",
      "🟦 Procesando mes 2025_02 (1 días)\n",
      "========================================\n",
      "1. Descargar datos GOES\n",
      "Buscando datos de: 2025-02-23 00:00:00\n",
      "Descargando datos de 2025-02-23 00:00:00...\n"
     ]
    },
    {
     "name": "stderr",
     "output_type": "stream",
     "text": [
      "Files Downloaded: 100%|██████████| 4/4 [00:00<00:00,  8.21file/s]\n"
     ]
    },
    {
     "name": "stdout",
     "output_type": "stream",
     "text": [
      "Resolution = 1 minute\n",
      "Gráfica guardada en 2025-10-24_Download_for_specific_days/Data/Month_2025_02/data_graphs/GOES_2025-02-23_00-00-00.png\n",
      "Observatorio encontrado: GOES-16\n",
      "Se encontraron datos  GOES para 2025-02-23 00:00:00 - 2025-02-24 00:00:00. Día saltado.\n",
      "\n",
      "Número de registros: 1440\n",
      "Columnas disponibles: ['xrsa', 'xrsb', 'xrsa_quality', 'xrsb_quality']\n",
      "2. Restar Background\n",
      "Plot saved at: 2025-10-24_Download_for_specific_days/Data/Month_2025_02/data_graphs/GOES_diff_linear_2025-02-23_00-00-00.png\n",
      "Plot saved at: 2025-10-24_Download_for_specific_days/Data/Month_2025_02/data_graphs/GOES_diff_log_2025-02-23_00-00-00.png\n"
     ]
    },
    {
     "name": "stderr",
     "output_type": "stream",
     "text": [
      "/tmp/ipykernel_2397830/750897493.py:225: FutureWarning: Downcasting behavior in Series and DataFrame methods 'where', 'mask', and 'clip' is deprecated. In a future version this will not infer object dtypes or cast all-round floats to integers. Instead call result.infer_objects(copy=False) for object inference, or cast round floats explicitly. To opt-in to the future behavior, set `pd.set_option('future.no_silent_downcasting', True)`\n",
      "  df_o = df_o.clip(lower=1e-9)\n",
      "WARNING: SunpyUserWarning: No information about primary/secondary detectors in XRSTimeSeries, assuming primary for all [sunkit_instruments.goes_xrs.goes_chianti_tem]\n",
      "2025-10-24 15:33:50 - sunpy - WARNING: SunpyUserWarning: No information about primary/secondary detectors in XRSTimeSeries, assuming primary for all\n"
     ]
    },
    {
     "name": "stdout",
     "output_type": "stream",
     "text": [
      "Plot saved at: 2025-10-24_Download_for_specific_days/Data/Month_2025_02/data_graphs/GOES_diff_positive_2025-02-23_00-00-00.png\n",
      "3. USAR FUNCIÓN SUNPY calculate_t_em\n",
      "Ahora vamos a calcular la T y EM con el modelo de abundancias:coronal\n"
     ]
    },
    {
     "name": "stderr",
     "output_type": "stream",
     "text": [
      "Files Downloaded: 100%|██████████| 1/1 [00:00<00:00,  1.18file/s]\n",
      "/home/pjgonzalesp/miniforge3/envs/sunpy/lib/python3.13/site-packages/astropy/units/quantity.py:659: RuntimeWarning: invalid value encountered in divide\n",
      "  result = super().__array_ufunc__(function, method, *arrays, **kwargs)\n"
     ]
    },
    {
     "name": "stdout",
     "output_type": "stream",
     "text": [
      "se calculó T y EM con el modelo de abundancias:coronal\n",
      "Ahora vamos a calcular la T y EM con el modelo de abundancias:photospheric\n"
     ]
    },
    {
     "name": "stderr",
     "output_type": "stream",
     "text": [
      "Files Downloaded: 100%|██████████| 1/1 [00:00<00:00,  1.17file/s]\n",
      "2025-10-24 15:33:52 - root - INFO: Searching for GOES flares between 2025-02-23 00:00:00 and 2025-02-24 00:00:00...\n"
     ]
    },
    {
     "name": "stdout",
     "output_type": "stream",
     "text": [
      "se calculó T y EM con el modelo de abundancias:photospheric\n",
      "4. CONSTRUIR df_full\n",
      "5. añadiendo observatorio: GOES: GOES-16\n",
      "se añadió observatorio: GOES: GOES-16\n",
      "6. Descargando flares: 2025-02-23 00:00:00 - 2025-02-24 00:00:00\n"
     ]
    },
    {
     "name": "stderr",
     "output_type": "stream",
     "text": [
      "2025-10-24 15:33:55 - root - INFO: Found 12 GOES solar flares between 2025-02-23 00:00:00 and 2025-02-24 00:00:00.\n",
      "Día 146 de 185: 2025-03-28\n"
     ]
    },
    {
     "name": "stdout",
     "output_type": "stream",
     "text": [
      "Se descargaron flares para el intervalo 2025-02-23 00:00:00 - 2025-02-24 00:00:00.\n",
      "7. Se filtraron solo flares de GOES.\n",
      "💾 df_full_2025_02.csv actualizado (1440 filas)\n",
      "✅ Días descargados este mes: [datetime.date(2025, 2, 23)]\n",
      "💾 df_flare_data_2025_02.csv actualizado (12 filas)\n",
      "🏁 Mes 2025_02 terminado → 2025-10-24_Download_for_specific_days/Data/Month_2025_02\n",
      "\n",
      "========================================\n",
      "🟦 Procesando mes 2025_03 (1 días)\n",
      "========================================\n",
      "1. Descargar datos GOES\n",
      "Buscando datos de: 2025-03-28 00:00:00\n",
      "Descargando datos de 2025-03-28 00:00:00...\n"
     ]
    },
    {
     "name": "stderr",
     "output_type": "stream",
     "text": [
      "Files Downloaded: 100%|██████████| 4/4 [00:00<00:00,  8.18file/s]\n"
     ]
    },
    {
     "name": "stdout",
     "output_type": "stream",
     "text": [
      "Resolution = 1 minute\n",
      "Gráfica guardada en 2025-10-24_Download_for_specific_days/Data/Month_2025_03/data_graphs/GOES_2025-03-28_00-00-00.png\n",
      "Observatorio encontrado: GOES-16\n",
      "Se encontraron datos  GOES para 2025-03-28 00:00:00 - 2025-03-29 00:00:00. Día saltado.\n",
      "\n",
      "Número de registros: 1440\n",
      "Columnas disponibles: ['xrsa', 'xrsb', 'xrsa_quality', 'xrsb_quality']\n",
      "2. Restar Background\n",
      "Plot saved at: 2025-10-24_Download_for_specific_days/Data/Month_2025_03/data_graphs/GOES_diff_linear_2025-03-28_00-00-00.png\n",
      "Plot saved at: 2025-10-24_Download_for_specific_days/Data/Month_2025_03/data_graphs/GOES_diff_log_2025-03-28_00-00-00.png\n"
     ]
    },
    {
     "name": "stderr",
     "output_type": "stream",
     "text": [
      "/tmp/ipykernel_2397830/750897493.py:225: FutureWarning: Downcasting behavior in Series and DataFrame methods 'where', 'mask', and 'clip' is deprecated. In a future version this will not infer object dtypes or cast all-round floats to integers. Instead call result.infer_objects(copy=False) for object inference, or cast round floats explicitly. To opt-in to the future behavior, set `pd.set_option('future.no_silent_downcasting', True)`\n",
      "  df_o = df_o.clip(lower=1e-9)\n",
      "WARNING: SunpyUserWarning: No information about primary/secondary detectors in XRSTimeSeries, assuming primary for all [sunkit_instruments.goes_xrs.goes_chianti_tem]\n",
      "2025-10-24 15:34:04 - sunpy - WARNING: SunpyUserWarning: No information about primary/secondary detectors in XRSTimeSeries, assuming primary for all\n"
     ]
    },
    {
     "name": "stdout",
     "output_type": "stream",
     "text": [
      "Plot saved at: 2025-10-24_Download_for_specific_days/Data/Month_2025_03/data_graphs/GOES_diff_positive_2025-03-28_00-00-00.png\n",
      "3. USAR FUNCIÓN SUNPY calculate_t_em\n",
      "Ahora vamos a calcular la T y EM con el modelo de abundancias:coronal\n"
     ]
    },
    {
     "name": "stderr",
     "output_type": "stream",
     "text": [
      "Files Downloaded: 100%|██████████| 1/1 [00:00<00:00,  1.24file/s]\n",
      "/home/pjgonzalesp/miniforge3/envs/sunpy/lib/python3.13/site-packages/astropy/units/quantity.py:659: RuntimeWarning: invalid value encountered in divide\n",
      "  result = super().__array_ufunc__(function, method, *arrays, **kwargs)\n"
     ]
    },
    {
     "name": "stdout",
     "output_type": "stream",
     "text": [
      "se calculó T y EM con el modelo de abundancias:coronal\n",
      "Ahora vamos a calcular la T y EM con el modelo de abundancias:photospheric\n"
     ]
    },
    {
     "name": "stderr",
     "output_type": "stream",
     "text": [
      "Files Downloaded: 100%|██████████| 1/1 [00:00<00:00,  1.24file/s]\n",
      "2025-10-24 15:34:07 - root - INFO: Searching for GOES flares between 2025-03-28 00:00:00 and 2025-03-29 00:00:00...\n"
     ]
    },
    {
     "name": "stdout",
     "output_type": "stream",
     "text": [
      "se calculó T y EM con el modelo de abundancias:photospheric\n",
      "4. CONSTRUIR df_full\n",
      "5. añadiendo observatorio: GOES: GOES-16\n",
      "se añadió observatorio: GOES: GOES-16\n",
      "6. Descargando flares: 2025-03-28 00:00:00 - 2025-03-29 00:00:00\n"
     ]
    },
    {
     "name": "stderr",
     "output_type": "stream",
     "text": [
      "2025-10-24 15:34:08 - root - INFO: Found 7 GOES solar flares between 2025-03-28 00:00:00 and 2025-03-29 00:00:00.\n",
      "Día 147 de 185: 2025-05-13\n"
     ]
    },
    {
     "name": "stdout",
     "output_type": "stream",
     "text": [
      "Se descargaron flares para el intervalo 2025-03-28 00:00:00 - 2025-03-29 00:00:00.\n",
      "7. Se filtraron solo flares de GOES.\n",
      "💾 df_full_2025_03.csv actualizado (1440 filas)\n",
      "✅ Días descargados este mes: [datetime.date(2025, 3, 28)]\n",
      "💾 df_flare_data_2025_03.csv actualizado (7 filas)\n",
      "🏁 Mes 2025_03 terminado → 2025-10-24_Download_for_specific_days/Data/Month_2025_03\n",
      "\n",
      "========================================\n",
      "🟦 Procesando mes 2025_05 (3 días)\n",
      "========================================\n",
      "1. Descargar datos GOES\n",
      "Buscando datos de: 2025-05-13 00:00:00\n",
      "Descargando datos de 2025-05-13 00:00:00...\n"
     ]
    },
    {
     "name": "stderr",
     "output_type": "stream",
     "text": [
      "Files Downloaded: 100%|██████████| 2/2 [00:00<00:00,  4.11file/s]\n"
     ]
    },
    {
     "name": "stdout",
     "output_type": "stream",
     "text": [
      "Resolution = 1 minute\n",
      "Gráfica guardada en 2025-10-24_Download_for_specific_days/Data/Month_2025_05/data_graphs/GOES_2025-05-13_00-00-00.png\n",
      "Observatorio encontrado: GOES-18\n",
      "Se encontraron datos  GOES para 2025-05-13 00:00:00 - 2025-05-14 00:00:00. Día saltado.\n",
      "\n",
      "Número de registros: 1440\n",
      "Columnas disponibles: ['xrsa', 'xrsb', 'xrsa_quality', 'xrsb_quality']\n",
      "2. Restar Background\n",
      "Plot saved at: 2025-10-24_Download_for_specific_days/Data/Month_2025_05/data_graphs/GOES_diff_linear_2025-05-13_00-00-00.png\n",
      "Plot saved at: 2025-10-24_Download_for_specific_days/Data/Month_2025_05/data_graphs/GOES_diff_log_2025-05-13_00-00-00.png\n"
     ]
    },
    {
     "name": "stderr",
     "output_type": "stream",
     "text": [
      "/tmp/ipykernel_2397830/750897493.py:225: FutureWarning: Downcasting behavior in Series and DataFrame methods 'where', 'mask', and 'clip' is deprecated. In a future version this will not infer object dtypes or cast all-round floats to integers. Instead call result.infer_objects(copy=False) for object inference, or cast round floats explicitly. To opt-in to the future behavior, set `pd.set_option('future.no_silent_downcasting', True)`\n",
      "  df_o = df_o.clip(lower=1e-9)\n",
      "WARNING: SunpyUserWarning: No information about primary/secondary detectors in XRSTimeSeries, assuming primary for all [sunkit_instruments.goes_xrs.goes_chianti_tem]\n",
      "2025-10-24 15:34:17 - sunpy - WARNING: SunpyUserWarning: No information about primary/secondary detectors in XRSTimeSeries, assuming primary for all\n"
     ]
    },
    {
     "name": "stdout",
     "output_type": "stream",
     "text": [
      "Plot saved at: 2025-10-24_Download_for_specific_days/Data/Month_2025_05/data_graphs/GOES_diff_positive_2025-05-13_00-00-00.png\n",
      "3. USAR FUNCIÓN SUNPY calculate_t_em\n",
      "Ahora vamos a calcular la T y EM con el modelo de abundancias:coronal\n"
     ]
    },
    {
     "name": "stderr",
     "output_type": "stream",
     "text": [
      "Files Downloaded: 100%|██████████| 1/1 [00:01<00:00,  1.84s/file]\n",
      "/home/pjgonzalesp/miniforge3/envs/sunpy/lib/python3.13/site-packages/astropy/units/quantity.py:659: RuntimeWarning: invalid value encountered in divide\n",
      "  result = super().__array_ufunc__(function, method, *arrays, **kwargs)\n"
     ]
    },
    {
     "name": "stdout",
     "output_type": "stream",
     "text": [
      "se calculó T y EM con el modelo de abundancias:coronal\n",
      "Ahora vamos a calcular la T y EM con el modelo de abundancias:photospheric\n"
     ]
    },
    {
     "name": "stderr",
     "output_type": "stream",
     "text": [
      "Files Downloaded: 100%|██████████| 1/1 [00:01<00:00,  1.03s/file]\n",
      "2025-10-24 15:34:21 - root - INFO: Searching for GOES flares between 2025-05-13 00:00:00 and 2025-05-14 00:00:00...\n"
     ]
    },
    {
     "name": "stdout",
     "output_type": "stream",
     "text": [
      "se calculó T y EM con el modelo de abundancias:photospheric\n",
      "4. CONSTRUIR df_full\n",
      "5. añadiendo observatorio: GOES: GOES-18\n",
      "se añadió observatorio: GOES: GOES-18\n",
      "6. Descargando flares: 2025-05-13 00:00:00 - 2025-05-14 00:00:00\n"
     ]
    },
    {
     "name": "stderr",
     "output_type": "stream",
     "text": [
      "2025-10-24 15:34:23 - root - INFO: Found 4 GOES solar flares between 2025-05-13 00:00:00 and 2025-05-14 00:00:00.\n",
      "Día 148 de 185: 2025-05-14\n"
     ]
    },
    {
     "name": "stdout",
     "output_type": "stream",
     "text": [
      "Se descargaron flares para el intervalo 2025-05-13 00:00:00 - 2025-05-14 00:00:00.\n",
      "7. Se filtraron solo flares de GOES.\n",
      "1. Descargar datos GOES\n",
      "Buscando datos de: 2025-05-14 00:00:00\n",
      "Descargando datos de 2025-05-14 00:00:00...\n"
     ]
    },
    {
     "name": "stderr",
     "output_type": "stream",
     "text": [
      "Files Downloaded: 100%|██████████| 2/2 [00:00<00:00,  4.13file/s]\n"
     ]
    },
    {
     "name": "stdout",
     "output_type": "stream",
     "text": [
      "Resolution = 1 minute\n",
      "Gráfica guardada en 2025-10-24_Download_for_specific_days/Data/Month_2025_05/data_graphs/GOES_2025-05-14_00-00-00.png\n",
      "Observatorio encontrado: GOES-18\n",
      "Se encontraron datos  GOES para 2025-05-14 00:00:00 - 2025-05-15 00:00:00. Día saltado.\n",
      "\n",
      "Número de registros: 1440\n",
      "Columnas disponibles: ['xrsa', 'xrsb', 'xrsa_quality', 'xrsb_quality']\n",
      "2. Restar Background\n",
      "Plot saved at: 2025-10-24_Download_for_specific_days/Data/Month_2025_05/data_graphs/GOES_diff_linear_2025-05-14_00-00-00.png\n",
      "Plot saved at: 2025-10-24_Download_for_specific_days/Data/Month_2025_05/data_graphs/GOES_diff_log_2025-05-14_00-00-00.png\n"
     ]
    },
    {
     "name": "stderr",
     "output_type": "stream",
     "text": [
      "/tmp/ipykernel_2397830/750897493.py:225: FutureWarning: Downcasting behavior in Series and DataFrame methods 'where', 'mask', and 'clip' is deprecated. In a future version this will not infer object dtypes or cast all-round floats to integers. Instead call result.infer_objects(copy=False) for object inference, or cast round floats explicitly. To opt-in to the future behavior, set `pd.set_option('future.no_silent_downcasting', True)`\n",
      "  df_o = df_o.clip(lower=1e-9)\n",
      "WARNING: SunpyUserWarning: No information about primary/secondary detectors in XRSTimeSeries, assuming primary for all [sunkit_instruments.goes_xrs.goes_chianti_tem]\n",
      "2025-10-24 15:34:32 - sunpy - WARNING: SunpyUserWarning: No information about primary/secondary detectors in XRSTimeSeries, assuming primary for all\n"
     ]
    },
    {
     "name": "stdout",
     "output_type": "stream",
     "text": [
      "Plot saved at: 2025-10-24_Download_for_specific_days/Data/Month_2025_05/data_graphs/GOES_diff_positive_2025-05-14_00-00-00.png\n",
      "3. USAR FUNCIÓN SUNPY calculate_t_em\n",
      "Ahora vamos a calcular la T y EM con el modelo de abundancias:coronal\n"
     ]
    },
    {
     "name": "stderr",
     "output_type": "stream",
     "text": [
      "Files Downloaded: 100%|██████████| 1/1 [00:00<00:00,  1.24file/s]\n",
      "/home/pjgonzalesp/miniforge3/envs/sunpy/lib/python3.13/site-packages/astropy/units/quantity.py:659: RuntimeWarning: invalid value encountered in divide\n",
      "  result = super().__array_ufunc__(function, method, *arrays, **kwargs)\n"
     ]
    },
    {
     "name": "stdout",
     "output_type": "stream",
     "text": [
      "se calculó T y EM con el modelo de abundancias:coronal\n",
      "Ahora vamos a calcular la T y EM con el modelo de abundancias:photospheric\n"
     ]
    },
    {
     "name": "stderr",
     "output_type": "stream",
     "text": [
      "Files Downloaded: 100%|██████████| 1/1 [00:00<00:00,  1.24file/s]\n",
      "2025-10-24 15:34:34 - root - INFO: Searching for GOES flares between 2025-05-14 00:00:00 and 2025-05-15 00:00:00...\n"
     ]
    },
    {
     "name": "stdout",
     "output_type": "stream",
     "text": [
      "se calculó T y EM con el modelo de abundancias:photospheric\n",
      "4. CONSTRUIR df_full\n",
      "5. añadiendo observatorio: GOES: GOES-18\n",
      "se añadió observatorio: GOES: GOES-18\n",
      "6. Descargando flares: 2025-05-14 00:00:00 - 2025-05-15 00:00:00\n"
     ]
    },
    {
     "name": "stderr",
     "output_type": "stream",
     "text": [
      "2025-10-24 15:34:36 - root - INFO: Found 12 GOES solar flares between 2025-05-14 00:00:00 and 2025-05-15 00:00:00.\n",
      "Día 149 de 185: 2025-05-25\n"
     ]
    },
    {
     "name": "stdout",
     "output_type": "stream",
     "text": [
      "Se descargaron flares para el intervalo 2025-05-14 00:00:00 - 2025-05-15 00:00:00.\n",
      "7. Se filtraron solo flares de GOES.\n",
      "1. Descargar datos GOES\n",
      "Buscando datos de: 2025-05-25 00:00:00\n",
      "Descargando datos de 2025-05-25 00:00:00...\n"
     ]
    },
    {
     "name": "stderr",
     "output_type": "stream",
     "text": [
      "Files Downloaded: 100%|██████████| 2/2 [00:00<00:00,  4.13file/s]\n"
     ]
    },
    {
     "name": "stdout",
     "output_type": "stream",
     "text": [
      "Resolution = 1 minute\n",
      "Gráfica guardada en 2025-10-24_Download_for_specific_days/Data/Month_2025_05/data_graphs/GOES_2025-05-25_00-00-00.png\n",
      "Observatorio encontrado: GOES-18\n",
      "Se encontraron datos  GOES para 2025-05-25 00:00:00 - 2025-05-26 00:00:00. Día saltado.\n",
      "\n",
      "Número de registros: 1440\n",
      "Columnas disponibles: ['xrsa', 'xrsb', 'xrsa_quality', 'xrsb_quality']\n",
      "2. Restar Background\n",
      "Plot saved at: 2025-10-24_Download_for_specific_days/Data/Month_2025_05/data_graphs/GOES_diff_linear_2025-05-25_00-00-00.png\n",
      "Plot saved at: 2025-10-24_Download_for_specific_days/Data/Month_2025_05/data_graphs/GOES_diff_log_2025-05-25_00-00-00.png\n"
     ]
    },
    {
     "name": "stderr",
     "output_type": "stream",
     "text": [
      "/tmp/ipykernel_2397830/750897493.py:225: FutureWarning: Downcasting behavior in Series and DataFrame methods 'where', 'mask', and 'clip' is deprecated. In a future version this will not infer object dtypes or cast all-round floats to integers. Instead call result.infer_objects(copy=False) for object inference, or cast round floats explicitly. To opt-in to the future behavior, set `pd.set_option('future.no_silent_downcasting', True)`\n",
      "  df_o = df_o.clip(lower=1e-9)\n",
      "WARNING: SunpyUserWarning: No information about primary/secondary detectors in XRSTimeSeries, assuming primary for all [sunkit_instruments.goes_xrs.goes_chianti_tem]\n",
      "2025-10-24 15:34:45 - sunpy - WARNING: SunpyUserWarning: No information about primary/secondary detectors in XRSTimeSeries, assuming primary for all\n"
     ]
    },
    {
     "name": "stdout",
     "output_type": "stream",
     "text": [
      "Plot saved at: 2025-10-24_Download_for_specific_days/Data/Month_2025_05/data_graphs/GOES_diff_positive_2025-05-25_00-00-00.png\n",
      "3. USAR FUNCIÓN SUNPY calculate_t_em\n",
      "Ahora vamos a calcular la T y EM con el modelo de abundancias:coronal\n"
     ]
    },
    {
     "name": "stderr",
     "output_type": "stream",
     "text": [
      "Files Downloaded: 100%|██████████| 1/1 [00:00<00:00,  1.22file/s]\n",
      "/home/pjgonzalesp/miniforge3/envs/sunpy/lib/python3.13/site-packages/astropy/units/quantity.py:659: RuntimeWarning: invalid value encountered in divide\n",
      "  result = super().__array_ufunc__(function, method, *arrays, **kwargs)\n"
     ]
    },
    {
     "name": "stdout",
     "output_type": "stream",
     "text": [
      "se calculó T y EM con el modelo de abundancias:coronal\n",
      "Ahora vamos a calcular la T y EM con el modelo de abundancias:photospheric\n"
     ]
    },
    {
     "name": "stderr",
     "output_type": "stream",
     "text": [
      "Files Downloaded: 100%|██████████| 1/1 [00:01<00:00,  1.34s/file]\n",
      "2025-10-24 15:34:48 - root - INFO: Searching for GOES flares between 2025-05-25 00:00:00 and 2025-05-26 00:00:00...\n"
     ]
    },
    {
     "name": "stdout",
     "output_type": "stream",
     "text": [
      "se calculó T y EM con el modelo de abundancias:photospheric\n",
      "4. CONSTRUIR df_full\n",
      "5. añadiendo observatorio: GOES: GOES-18\n",
      "se añadió observatorio: GOES: GOES-18\n",
      "6. Descargando flares: 2025-05-25 00:00:00 - 2025-05-26 00:00:00\n"
     ]
    },
    {
     "name": "stderr",
     "output_type": "stream",
     "text": [
      "2025-10-24 15:34:50 - root - INFO: Found 10 GOES solar flares between 2025-05-25 00:00:00 and 2025-05-26 00:00:00.\n",
      "Día 150 de 185: 2025-06-17\n"
     ]
    },
    {
     "name": "stdout",
     "output_type": "stream",
     "text": [
      "Se descargaron flares para el intervalo 2025-05-25 00:00:00 - 2025-05-26 00:00:00.\n",
      "7. Se filtraron solo flares de GOES.\n",
      "💾 df_full_2025_05.csv actualizado (4320 filas)\n",
      "✅ Días descargados este mes: [datetime.date(2025, 5, 13), datetime.date(2025, 5, 14), datetime.date(2025, 5, 25)]\n",
      "💾 df_flare_data_2025_05.csv actualizado (26 filas)\n",
      "🏁 Mes 2025_05 terminado → 2025-10-24_Download_for_specific_days/Data/Month_2025_05\n",
      "\n",
      "========================================\n",
      "🟦 Procesando mes 2025_06 (2 días)\n",
      "========================================\n",
      "1. Descargar datos GOES\n",
      "Buscando datos de: 2025-06-17 00:00:00\n",
      "Descargando datos de 2025-06-17 00:00:00...\n"
     ]
    },
    {
     "name": "stderr",
     "output_type": "stream",
     "text": [
      "Files Downloaded: 100%|██████████| 2/2 [00:00<00:00,  4.05file/s]\n"
     ]
    },
    {
     "name": "stdout",
     "output_type": "stream",
     "text": [
      "Resolution = 1 minute\n",
      "Gráfica guardada en 2025-10-24_Download_for_specific_days/Data/Month_2025_06/data_graphs/GOES_2025-06-17_00-00-00.png\n",
      "Observatorio encontrado: GOES-18\n",
      "Se encontraron datos  GOES para 2025-06-17 00:00:00 - 2025-06-18 00:00:00. Día saltado.\n",
      "\n",
      "Número de registros: 1440\n",
      "Columnas disponibles: ['xrsa', 'xrsb', 'xrsa_quality', 'xrsb_quality']\n",
      "2. Restar Background\n",
      "Plot saved at: 2025-10-24_Download_for_specific_days/Data/Month_2025_06/data_graphs/GOES_diff_linear_2025-06-17_00-00-00.png\n",
      "Plot saved at: 2025-10-24_Download_for_specific_days/Data/Month_2025_06/data_graphs/GOES_diff_log_2025-06-17_00-00-00.png\n"
     ]
    },
    {
     "name": "stderr",
     "output_type": "stream",
     "text": [
      "/tmp/ipykernel_2397830/750897493.py:225: FutureWarning: Downcasting behavior in Series and DataFrame methods 'where', 'mask', and 'clip' is deprecated. In a future version this will not infer object dtypes or cast all-round floats to integers. Instead call result.infer_objects(copy=False) for object inference, or cast round floats explicitly. To opt-in to the future behavior, set `pd.set_option('future.no_silent_downcasting', True)`\n",
      "  df_o = df_o.clip(lower=1e-9)\n",
      "WARNING: SunpyUserWarning: No information about primary/secondary detectors in XRSTimeSeries, assuming primary for all [sunkit_instruments.goes_xrs.goes_chianti_tem]\n",
      "2025-10-24 15:35:00 - sunpy - WARNING: SunpyUserWarning: No information about primary/secondary detectors in XRSTimeSeries, assuming primary for all\n"
     ]
    },
    {
     "name": "stdout",
     "output_type": "stream",
     "text": [
      "Plot saved at: 2025-10-24_Download_for_specific_days/Data/Month_2025_06/data_graphs/GOES_diff_positive_2025-06-17_00-00-00.png\n",
      "3. USAR FUNCIÓN SUNPY calculate_t_em\n",
      "Ahora vamos a calcular la T y EM con el modelo de abundancias:coronal\n"
     ]
    },
    {
     "name": "stderr",
     "output_type": "stream",
     "text": [
      "Files Downloaded: 100%|██████████| 1/1 [00:00<00:00,  1.24file/s]\n",
      "/home/pjgonzalesp/miniforge3/envs/sunpy/lib/python3.13/site-packages/astropy/units/quantity.py:659: RuntimeWarning: invalid value encountered in divide\n",
      "  result = super().__array_ufunc__(function, method, *arrays, **kwargs)\n"
     ]
    },
    {
     "name": "stdout",
     "output_type": "stream",
     "text": [
      "se calculó T y EM con el modelo de abundancias:coronal\n",
      "Ahora vamos a calcular la T y EM con el modelo de abundancias:photospheric\n"
     ]
    },
    {
     "name": "stderr",
     "output_type": "stream",
     "text": [
      "Files Downloaded: 100%|██████████| 1/1 [00:00<00:00,  1.24file/s]\n",
      "2025-10-24 15:35:02 - root - INFO: Searching for GOES flares between 2025-06-17 00:00:00 and 2025-06-18 00:00:00...\n"
     ]
    },
    {
     "name": "stdout",
     "output_type": "stream",
     "text": [
      "se calculó T y EM con el modelo de abundancias:photospheric\n",
      "4. CONSTRUIR df_full\n",
      "5. añadiendo observatorio: GOES: GOES-18\n",
      "se añadió observatorio: GOES: GOES-18\n",
      "6. Descargando flares: 2025-06-17 00:00:00 - 2025-06-18 00:00:00\n"
     ]
    },
    {
     "name": "stderr",
     "output_type": "stream",
     "text": [
      "2025-10-24 15:35:04 - root - INFO: Found 8 GOES solar flares between 2025-06-17 00:00:00 and 2025-06-18 00:00:00.\n",
      "Día 151 de 185: 2025-06-19\n"
     ]
    },
    {
     "name": "stdout",
     "output_type": "stream",
     "text": [
      "Se descargaron flares para el intervalo 2025-06-17 00:00:00 - 2025-06-18 00:00:00.\n",
      "7. Se filtraron solo flares de GOES.\n",
      "1. Descargar datos GOES\n",
      "Buscando datos de: 2025-06-19 00:00:00\n",
      "Descargando datos de 2025-06-19 00:00:00...\n"
     ]
    },
    {
     "name": "stderr",
     "output_type": "stream",
     "text": [
      "Files Downloaded: 100%|██████████| 2/2 [00:00<00:00,  4.13file/s]\n"
     ]
    },
    {
     "name": "stdout",
     "output_type": "stream",
     "text": [
      "Resolution = 1 minute\n",
      "Gráfica guardada en 2025-10-24_Download_for_specific_days/Data/Month_2025_06/data_graphs/GOES_2025-06-19_00-00-00.png\n",
      "Observatorio encontrado: GOES-18\n",
      "Se encontraron datos  GOES para 2025-06-19 00:00:00 - 2025-06-20 00:00:00. Día saltado.\n",
      "\n",
      "Número de registros: 1440\n",
      "Columnas disponibles: ['xrsa', 'xrsb', 'xrsa_quality', 'xrsb_quality']\n",
      "2. Restar Background\n",
      "Plot saved at: 2025-10-24_Download_for_specific_days/Data/Month_2025_06/data_graphs/GOES_diff_linear_2025-06-19_00-00-00.png\n",
      "Plot saved at: 2025-10-24_Download_for_specific_days/Data/Month_2025_06/data_graphs/GOES_diff_log_2025-06-19_00-00-00.png\n"
     ]
    },
    {
     "name": "stderr",
     "output_type": "stream",
     "text": [
      "/tmp/ipykernel_2397830/750897493.py:225: FutureWarning: Downcasting behavior in Series and DataFrame methods 'where', 'mask', and 'clip' is deprecated. In a future version this will not infer object dtypes or cast all-round floats to integers. Instead call result.infer_objects(copy=False) for object inference, or cast round floats explicitly. To opt-in to the future behavior, set `pd.set_option('future.no_silent_downcasting', True)`\n",
      "  df_o = df_o.clip(lower=1e-9)\n",
      "WARNING: SunpyUserWarning: No information about primary/secondary detectors in XRSTimeSeries, assuming primary for all [sunkit_instruments.goes_xrs.goes_chianti_tem]\n",
      "2025-10-24 15:35:13 - sunpy - WARNING: SunpyUserWarning: No information about primary/secondary detectors in XRSTimeSeries, assuming primary for all\n"
     ]
    },
    {
     "name": "stdout",
     "output_type": "stream",
     "text": [
      "Plot saved at: 2025-10-24_Download_for_specific_days/Data/Month_2025_06/data_graphs/GOES_diff_positive_2025-06-19_00-00-00.png\n",
      "3. USAR FUNCIÓN SUNPY calculate_t_em\n",
      "Ahora vamos a calcular la T y EM con el modelo de abundancias:coronal\n"
     ]
    },
    {
     "name": "stderr",
     "output_type": "stream",
     "text": [
      "Files Downloaded: 100%|██████████| 1/1 [00:00<00:00,  1.24file/s]\n",
      "/home/pjgonzalesp/miniforge3/envs/sunpy/lib/python3.13/site-packages/astropy/units/quantity.py:659: RuntimeWarning: invalid value encountered in divide\n",
      "  result = super().__array_ufunc__(function, method, *arrays, **kwargs)\n"
     ]
    },
    {
     "name": "stdout",
     "output_type": "stream",
     "text": [
      "se calculó T y EM con el modelo de abundancias:coronal\n",
      "Ahora vamos a calcular la T y EM con el modelo de abundancias:photospheric\n"
     ]
    },
    {
     "name": "stderr",
     "output_type": "stream",
     "text": [
      "Files Downloaded: 100%|██████████| 1/1 [00:00<00:00,  1.24file/s]\n",
      "2025-10-24 15:35:15 - root - INFO: Searching for GOES flares between 2025-06-19 00:00:00 and 2025-06-20 00:00:00...\n"
     ]
    },
    {
     "name": "stdout",
     "output_type": "stream",
     "text": [
      "se calculó T y EM con el modelo de abundancias:photospheric\n",
      "4. CONSTRUIR df_full\n",
      "5. añadiendo observatorio: GOES: GOES-18\n",
      "se añadió observatorio: GOES: GOES-18\n",
      "6. Descargando flares: 2025-06-19 00:00:00 - 2025-06-20 00:00:00\n"
     ]
    },
    {
     "name": "stderr",
     "output_type": "stream",
     "text": [
      "2025-10-24 15:35:17 - root - INFO: Found 8 GOES solar flares between 2025-06-19 00:00:00 and 2025-06-20 00:00:00.\n"
     ]
    },
    {
     "name": "stdout",
     "output_type": "stream",
     "text": [
      "Se descargaron flares para el intervalo 2025-06-19 00:00:00 - 2025-06-20 00:00:00.\n",
      "7. Se filtraron solo flares de GOES.\n",
      "💾 df_full_2025_06.csv actualizado (2880 filas)\n",
      "✅ Días descargados este mes: [datetime.date(2025, 6, 17), datetime.date(2025, 6, 19)]\n",
      "💾 df_flare_data_2025_06.csv actualizado (16 filas)\n",
      "🏁 Mes 2025_06 terminado → 2025-10-24_Download_for_specific_days/Data/Month_2025_06\n"
     ]
    }
   ],
   "source": [
    "process_goes_by_month_specific_days(df_fechas, subfolder)"
   ]
  },
  {
   "cell_type": "markdown",
   "id": "50186e0a",
   "metadata": {},
   "source": [
    "# combinar"
   ]
  },
  {
   "cell_type": "code",
   "execution_count": 8,
   "id": "86f0859b",
   "metadata": {},
   "outputs": [
    {
     "name": "stdout",
     "output_type": "stream",
     "text": [
      "⚠️ Hay diferencias en la resolución temporal (no todos los pasos son 1 min).\n",
      "✅ all_df_full.csv creado con 266400 filas (desde 80 archivos).\n",
      "⚠️ Hay diferencias en la resolución temporal (no todos los pasos son 1 min).\n",
      "✅ all_df_flare_data.csv creado con 2022 filas (desde 80 archivos).\n"
     ]
    }
   ],
   "source": [
    "combined = combine_blocks(subfolder, f\"df_full\", f\"all_df_full.csv\", time_column=None)\n",
    "combined_flares = combine_blocks(subfolder, f\"df_flare_data\", f\"all_df_flare_data.csv\", time_column=\"StartTime\")\n",
    "\n"
   ]
  },
  {
   "cell_type": "code",
   "execution_count": 9,
   "id": "355bf332",
   "metadata": {},
   "outputs": [
    {
     "name": "stdout",
     "output_type": "stream",
     "text": [
      "             date            delta\n",
      "0      2000-06-06              NaT\n",
      "1440   2000-06-08  1 days 00:01:00\n",
      "4320   2000-06-18  9 days 00:01:00\n",
      "5760   2000-07-11 22 days 00:01:00\n",
      "8640   2000-07-14  1 days 00:01:00\n",
      "...           ...              ...\n",
      "259200 2025-03-28 32 days 00:01:00\n",
      "260640 2025-05-13 45 days 00:01:00\n",
      "263520 2025-05-25 10 days 00:01:00\n",
      "264960 2025-06-17 22 days 00:01:00\n",
      "266400 2025-06-19  1 days 00:01:00\n",
      "\n",
      "[148 rows x 2 columns]\n",
      "delta\n",
      "0 days 00:01:00      266252\n",
      "1 days 00:01:00          22\n",
      "2 days 00:01:00          17\n",
      "3 days 00:01:00           7\n",
      "6 days 00:01:00           5\n",
      "                      ...  \n",
      "128 days 00:01:00         1\n",
      "35 days 00:01:00          1\n",
      "12 days 00:01:00          1\n",
      "49 days 00:01:00          1\n",
      "32 days 00:01:00          1\n",
      "Name: count, Length: 68, dtype: int64\n",
      "0        2000-06-06\n",
      "1440     2000-06-08\n",
      "4320     2000-06-18\n",
      "5760     2000-07-11\n",
      "8640     2000-07-14\n",
      "            ...    \n",
      "259200   2025-03-28\n",
      "260640   2025-05-13\n",
      "263520   2025-05-25\n",
      "264960   2025-06-17\n",
      "266400   2025-06-19\n",
      "Name: date, Length: 148, dtype: datetime64[ns]\n"
     ]
    }
   ],
   "source": [
    "# Asegúrate de que 'delta' esté calculado\n",
    "combined['delta'] = combined['date'].diff()\n",
    "\n",
    "# Filas donde el salto no es 1 minuto\n",
    "saltos = combined[combined['delta'] != pd.Timedelta(minutes=1)]\n",
    "\n",
    "print(saltos[['date', 'delta']])\n",
    "\n",
    "\n",
    "# %%\n",
    "print(combined['delta'].value_counts())\n",
    "\n",
    "\n",
    "# %%\n",
    "saltos = combined[combined['delta'] != pd.Timedelta(minutes=1)]\n",
    "# Muestra la fecha de la fila con el salto\n",
    "print(saltos['date'])\n"
   ]
  }
 ],
 "metadata": {
  "kernelspec": {
   "display_name": "sunpy",
   "language": "python",
   "name": "python3"
  },
  "language_info": {
   "codemirror_mode": {
    "name": "ipython",
    "version": 3
   },
   "file_extension": ".py",
   "mimetype": "text/x-python",
   "name": "python",
   "nbconvert_exporter": "python",
   "pygments_lexer": "ipython3",
   "version": "3.13.5"
  }
 },
 "nbformat": 4,
 "nbformat_minor": 5
}
