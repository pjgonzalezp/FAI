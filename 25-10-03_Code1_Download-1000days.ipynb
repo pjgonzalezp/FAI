{
 "cells": [
  {
   "cell_type": "markdown",
   "id": "cb9334c4",
   "metadata": {},
   "source": [
    "Descarga datos de rayos X blandos de GOES para n días seleccionados de forma semi-aleatoria y espaciados uniformemente.\n",
    "\n",
    "Organiza los días en carpetas por bloques de hasta chunk_size días.\n",
    "\n",
    "Descarga en las mismas carpetas los catálogos de flares correspondientes a esas fechas.\n",
    "\n",
    "Sustrae el background aplicando el método de diferencias móviles.\n",
    "\n",
    "Calcula temperatura y medida de emisión.\n",
    "\n",
    "Normaliza la medida de emisión.\n",
    "\n",
    "Consolida todos los bloques en un único archivo con los resultados completos."
   ]
  },
  {
   "cell_type": "markdown",
   "id": "0db5607e",
   "metadata": {},
   "source": [
    "# Función completa "
   ]
  },
  {
   "cell_type": "markdown",
   "id": "fadcf813",
   "metadata": {},
   "source": [
    "Calcula hasta tiempos de anticipación del peak cambiando solo fecha y grafica los tiempos que se quieran "
   ]
  },
  {
   "cell_type": "markdown",
   "id": "e80bbdd2",
   "metadata": {},
   "source": [
    "## Paquetes"
   ]
  },
  {
   "cell_type": "code",
   "execution_count": 21,
   "id": "28b65b42",
   "metadata": {},
   "outputs": [],
   "source": [
    "from sunpy.net import Fido, attrs as a\n",
    "from sunpy.timeseries import TimeSeries\n",
    "from sunpy.timeseries.sources.goes import XRSTimeSeries\n",
    "import astropy.units as u\n",
    "from sunkit_instruments.goes_xrs import calculate_temperature_em\n",
    "import matplotlib.pyplot as plt\n",
    "import numpy as np\n",
    "from sunpy.data import manager\n",
    "import netCDF4 as nc\n",
    "import os\n",
    "import pandas as pd\n",
    "from datetime import datetime, timedelta\n",
    "import copy\n",
    "from matplotlib import colormaps\n",
    "list(colormaps)\n",
    "#from colorspacious import cspace_converter\n",
    "import matplotlib as mpl\n",
    "from matplotlib.colors import LinearSegmentedColormap\n",
    "from matplotlib import cm\n",
    "from matplotlib.colors import ListedColormap\n",
    "import matplotlib.dates as mdates\n",
    "from matplotlib.ticker import LogFormatter\n",
    "from matplotlib.ticker import LogFormatterMathtext\n",
    "from IPython.display import HTML, display\n",
    "import matplotlib.pyplot as plt\n",
    "import seaborn as sns\n",
    "import pandas as pd \n",
    "import re\n",
    "import glob\n",
    "import logging"
   ]
  },
  {
   "cell_type": "markdown",
   "id": "80a2125b",
   "metadata": {},
   "source": [
    "## Functions"
   ]
  },
  {
   "cell_type": "code",
   "execution_count": 22,
   "id": "c60f2b10",
   "metadata": {},
   "outputs": [],
   "source": [
    "##############################\n",
    "##    1. Download GOES data   #\n",
    "##############################\n",
    "\n",
    "## 1.0. Ensure 1 min resolution (C1)\n",
    "def ensure_1min_resolution(ts):\n",
    "    \"\"\"\n",
    "    Revisa si el TimeSeries está en resolución de 1 minuto.\n",
    "    Si no, lo re-muestrea a 1 min con la media.\n",
    "\n",
    "    Check if the TimeSeries has a resolution of 1 minute.\n",
    "    If no, it will be shown again in 1 minute with the media\n",
    "    \"\"\"\n",
    "    # Pasar a DataFrame\n",
    "    df = ts.to_dataframe()\n",
    "    \n",
    "    # Calcular la resolución actual (diferencia entre los 2 primeros tiempos)\n",
    "    current_res = (df.index[1] - df.index[0]).total_seconds()\n",
    "    \n",
    "    if abs(current_res - 60) < 1:  # ya es 1 min (tolerancia de 1s)\n",
    "        print(\"Resolution = 1 minute\")\n",
    "        return ts\n",
    "    else:\n",
    "        print(f\"Resolution detected: {current_res:.2f} s → resampling at 1 min\")\n",
    "        df_resampled = df.resample(\"1min\").mean()\n",
    "        return TimeSeries(df_resampled, ts.meta)\n",
    "\n",
    "## 1.1. Download data (C1)\n",
    "def Download_Data(start_time, end_time, resolution=\"avg1m\", log_file=\"errores_goes.log\"):\n",
    "    \n",
    "    \"\"\"\n",
    "    Descarga datos GOES entre start_time y end_time, asegura resolución 1min,\n",
    "    guarda gráficas en block_dir/data_graphs y log de errores en block_dir.\n",
    "\n",
    "    Entrada / Input:\n",
    "        start_time (str): Tiempo inicial del intervalo de búsqueda, en formato compatible con SunPy.\n",
    "        end_time (str): Tiempo final del intervalo de búsqueda, en formato compatible con SunPy.\n",
    "        resolution (str, opcional / optional): Resolución temporal de los datos GOES. \n",
    "            Opciones válidas: \"flx1s\", \"avg1m\". Por defecto es 'avg1m'.\n",
    "\n",
    "    Salida / Output:\n",
    "        TimeSeries: Objeto de SunPy que contiene los datos XRS del satélite GOES \n",
    "                    dentro del intervalo de tiempo especificado.\n",
    "                    con la resolución especificada.\n",
    "\n",
    "    Descripción / Description:\n",
    "        Esta función busca, descarga y carga datos del instrumento GOES (X-Ray Sensor, XRS)\n",
    "        en el intervalo de tiempo especificado y con la resolución deseada. Utiliza Fido para la búsqueda\n",
    "        y retorna un objeto TimeSeries con los datos.\n",
    "\n",
    "        This function searches for, downloads, and loads data from the GOES (X-Ray Sensor, XRS)\n",
    "        within the specified time interval and chosen resolution. It uses Fido for querying and \n",
    "        returns a TimeSeries object with the data.\n",
    "    \"\"\"\n",
    "    try:\n",
    "        # ===== Directorios =====\n",
    "        if block_dir is not None:\n",
    "            os.makedirs(block_dir, exist_ok=True)\n",
    "            graph_dir = os.path.join(block_dir, \"data_graphs\")\n",
    "            os.makedirs(graph_dir, exist_ok=True)\n",
    "            log_file = os.path.join(block_dir, \"errores_goes.log\")\n",
    "        else:\n",
    "            graph_dir = \"data_graphs\"\n",
    "            os.makedirs(graph_dir, exist_ok=True)\n",
    "            log_file = \"errores_goes.log\"\n",
    "\n",
    "        # ===== Validar resolución =====\n",
    "        valid_resolutions = [\"flx1s\", \"avg1m\"]\n",
    "        if resolution not in valid_resolutions:\n",
    "            raise ValueError(f\"Resolución no válida. Usa una de: {valid_resolutions}\")\n",
    "\n",
    "        # ===== Buscar y descargar datos =====\n",
    "        print(f\"Buscando datos de: {start_time}\")\n",
    "        result = Fido.search(a.Time(start_time, end_time), a.Instrument.goes, a.Resolution(resolution))\n",
    "\n",
    "        if len(result[0]) == 0:\n",
    "            msg = f\"No hay datos GOES para {start_time} - {end_time}. Día saltado.\"\n",
    "            print(msg)\n",
    "            with open(log_file, \"a\") as f:\n",
    "                f.write(msg + \"\\n\")\n",
    "            return None, None  \n",
    "\n",
    "        print(f\"Descargando datos de {start_time}...\")\n",
    "        files = Fido.fetch(result)\n",
    "\n",
    "        if len(files) == 0:\n",
    "            msg = f\"No se descargaron archivos GOES para {start_time}. Día saltado.\"\n",
    "            print(msg)\n",
    "            with open(log_file, \"a\") as f:\n",
    "                f.write(msg + \"\\n\")\n",
    "            return None, None\n",
    "\n",
    "        # ===== Cargar datos en TimeSeries =====\n",
    "        try:\n",
    "            ts = TimeSeries(files[0], source=\"XRS\")\n",
    "        except Exception as e:\n",
    "            msg = f\"Error al abrir archivo GOES de {start_time}: {e}\"\n",
    "            print(msg)\n",
    "            with open(log_file, \"a\") as f:\n",
    "                f.write(msg + \"\\n\")\n",
    "            return None, None\n",
    "\n",
    "        # ===== Asegurar resolución 1 min =====\n",
    "        goes_ts = ensure_1min_resolution(ts)\n",
    "\n",
    "        # ===== Guardar gráfica =====\n",
    "        fig, ax = plt.subplots(figsize=(12,6))\n",
    "        goes_ts.plot(axes=ax)\n",
    "        safe_time = start_time.replace(':','-').replace(' ','_')\n",
    "        output_file = os.path.join(graph_dir, f\"GOES_{safe_time}.png\")\n",
    "        fig.savefig(output_file, dpi=150, bbox_inches=\"tight\")\n",
    "        plt.close(fig)\n",
    "        print(f\"Gráfica guardada en {output_file}\")\n",
    "\n",
    "        # ===== Extraer observatorio =====\n",
    "        try:\n",
    "            meta0 = goes_ts.meta.metas[0]\n",
    "            platform = meta0.get(\"platform\", \"g16\")\n",
    "            numero = int(\"\".join(filter(str.isdigit, platform)))\n",
    "            observatory = f\"GOES-{numero}\"\n",
    "        except Exception:\n",
    "            observatory = None\n",
    "        print(f\"Observatorio encontrado: {observatory}\")\n",
    "\n",
    "        return goes_ts, observatory\n",
    "\n",
    "    except Exception as e:\n",
    "        msg = f\"Error inesperado al descargar datos GOES de {start_time}: {e}\"\n",
    "        print(msg)\n",
    "        if block_dir is not None:\n",
    "            with open(log_file, \"a\") as f:\n",
    "                f.write(msg + \"\\n\")\n",
    "        return None, None  #  siempre devuelve una tupla\n",
    "\n",
    "\n",
    "\n",
    "## 1.2. Truncar datos\n",
    "def Truncate_Data(goes_ts, flare_start_time, flare_end_time):\n",
    "    \n",
    "    \"\"\"\n",
    "    Entrada / Input:\n",
    "        goes_ts (TimeSeries): Objeto TimeSeries con los datos GOES completos.\n",
    "        flare_start_time (str): Tiempo de inicio de la fulguración (en formato compatible con SunPy).\n",
    "        flare_end_time (str): Tiempo de fin de la fulguración (en formato compatible con SunPy).\n",
    "\n",
    "    Salida / Output:\n",
    "        TimeSeries: Objeto TimeSeries con los datos recortados al intervalo de la fulguración.\n",
    "\n",
    "    Descripción / Description:\n",
    "        Esta función recorta un conjunto de datos GOES a un intervalo de tiempo específico\n",
    "        correspondiente al inicio y fin de una fulguración solar. Si el intervalo no contiene datos,\n",
    "        se lanza una excepción.\n",
    "\n",
    "        This function trims a GOES TimeSeries dataset to a specific time interval\n",
    "        corresponding to the start and end of a solar flare. If the interval contains no data,\n",
    "        an exception is raised.\n",
    "    \"\"\"\n",
    "\n",
    "    # Seleccionar el rango de interés / Select the time range of interest\n",
    "    goes_flare = goes_ts.truncate(flare_start_time, flare_end_time)\n",
    "\n",
    "    # Verificar si hay datos disponibles  / Check if data is available\n",
    "    if len(goes_flare.to_dataframe()) == 0:\n",
    "        raise ValueError(\"El rango de datos seleccionado está vacío. Revisa las fechas.\")\n",
    "        # The selected time range is empty. Please check the input times.\n",
    "\n",
    "    # Visualizar los datos truncados / Plot the trimmed data\n",
    "    goes_flare.peek()\n",
    "\n",
    "    return goes_flare\n",
    "\n",
    "## 2. Background (1)\n",
    "def running_difference(goes_ts, Dif_time=5, plot=False, block_dir=None, start_time=None):\n",
    "    \"\"\"\n",
    "    Calcula las diferencias de flujo de rayos X GOES a un intervalo definido (default 5 min).\n",
    "    \n",
    "    Parámetros\n",
    "    ----------\n",
    "    goes_ts : XRSTimeSeries\n",
    "        Serie temporal original de GOES.\n",
    "    Dif_time : int, optional\n",
    "        Intervalo de diferencia en número de pasos para restar flux (default=5).\n",
    "    plot : bool, optional\n",
    "        Si True, guarda gráficas comparativas original vs corregido.\n",
    "    block_dir : str, optional\n",
    "        Carpeta base donde guardar gráficas.\n",
    "    start_time : str, optional\n",
    "        Tiempo inicial usado para nombrar archivos.\n",
    "        \n",
    "    Retorna\n",
    "    -------\n",
    "    goes_diff_ts : XRSTimeSeries\n",
    "        Serie temporal corregida con las diferencias.\n",
    "    \"\"\"\n",
    "\n",
    "    import matplotlib.dates as mdates\n",
    "    from matplotlib.ticker import LogFormatterMathtext\n",
    "\n",
    "    # --- 1. Extraer datos ---\n",
    "    df = goes_ts.to_dataframe()\n",
    "    flux_xrsa = df[\"xrsa\"]\n",
    "    flux_xrsb = df[\"xrsb\"]\n",
    "    npts = len(df)\n",
    "\n",
    "    # --- 2. Calcular diferencias ---\n",
    "    diffa = np.array(flux_xrsa[Dif_time:]) - np.array(flux_xrsa[:npts - Dif_time])\n",
    "    diffb = np.array(flux_xrsb[Dif_time:]) - np.array(flux_xrsb[:npts - Dif_time])\n",
    "\n",
    "    # --- 3. Llenar arreglos completos ---\n",
    "    diffa_full = np.zeros(npts)\n",
    "    diffb_full = np.zeros(npts)\n",
    "    diffa_full[Dif_time:] = diffa\n",
    "    diffb_full[Dif_time:] = diffb\n",
    "\n",
    "    # --- 4. Crear DataFrame corregido ---\n",
    "    df_diff = pd.DataFrame({'xrsa': diffa_full, 'xrsb': diffb_full}, index=df.index)\n",
    "\n",
    "    # --- 5. Crear TimeSeries corregida ---\n",
    "    units = {'xrsa': u.W / u.m**2, 'xrsb': u.W / u.m**2}\n",
    "    goes_diff_ts = XRSTimeSeries(df_diff, units=units, meta=goes_ts.meta)\n",
    "\n",
    "    # --- 6. Función auxiliar para graficar ---\n",
    "    def save_plot(df_orig, df_corr, output_file, title=\"\", logscale=False, positive_only=False):\n",
    "        df_o, df_c = df_orig.copy(), df_corr.copy()\n",
    "        if positive_only:\n",
    "            df_o = df_o.clip(lower=1e-9)\n",
    "            df_c = df_c.clip(lower=1e-9)\n",
    "\n",
    "        fig, ax = plt.subplots(figsize=(12,6))\n",
    "        ax.plot(df_o.index, df_o['xrsa'], label='XRSA (original)', color='blue')\n",
    "        ax.plot(df_c.index, df_c['xrsa'], label='XRSA (corrected)', color='blue', linestyle='--')\n",
    "        ax.plot(df_o.index, df_o['xrsb'], label='XRSB (original)', color='red')\n",
    "        ax.plot(df_c.index, df_c['xrsb'], label='XRSB (corrected)', color='red', linestyle='--')\n",
    "\n",
    "        date_only = df_orig.index[0].strftime(\"%Y-%m-%d\")\n",
    "        ax.set_xlabel(f\"Time (UTC) — {date_only}\")\n",
    "        ax.set_ylabel(\"Flux [W/m²]\")\n",
    "        ax.set_title(title)\n",
    "        ax.legend()\n",
    "        ax.grid(True, which='both', ls='--', alpha=0.6)\n",
    "        ax.xaxis.set_major_formatter(mdates.DateFormatter('%H:%M'))\n",
    "\n",
    "        if logscale:\n",
    "            ax.set_yscale('log', base=10)\n",
    "            ax.yaxis.set_major_formatter(LogFormatterMathtext())\n",
    "\n",
    "        plt.tight_layout()\n",
    "        fig.savefig(output_file, dpi=150, bbox_inches=\"tight\")\n",
    "        plt.close(fig)\n",
    "        print(f\"Plot saved at: {output_file}\")\n",
    "\n",
    "    # --- 7. Guardar gráficas si plot=True ---\n",
    "    if plot and block_dir is not None and start_time is not None:\n",
    "        graph_dir = os.path.join(block_dir, \"data_graphs\")\n",
    "        os.makedirs(graph_dir, exist_ok=True)\n",
    "\n",
    "        safe_time = start_time.replace(':','-').replace(' ','_')\n",
    "        df_corr = df_diff\n",
    "\n",
    "        # Linear\n",
    "        save_plot(df, df_corr, os.path.join(graph_dir, f\"GOES_diff_linear_{safe_time}.png\"),\n",
    "                  title=f\"GOES Data Comparison (Δt={Dif_time} steps)\")\n",
    "\n",
    "        # Logarithmic\n",
    "        save_plot(df, df_corr, os.path.join(graph_dir, f\"GOES_diff_log_{safe_time}.png\"),\n",
    "                  title=f\"GOES Data Comparison (Δt={Dif_time} steps) [Log Y]\",\n",
    "                  logscale=True)\n",
    "\n",
    "        # Positive only\n",
    "        save_plot(df, df_corr, os.path.join(graph_dir, f\"GOES_diff_positive_{safe_time}.png\"),\n",
    "                  title=f\"GOES Data Comparison [Positive only, Log Y]\",\n",
    "                  logscale=True,\n",
    "                  positive_only=True)\n",
    "\n",
    "    return goes_diff_ts\n",
    "\n",
    "\n",
    "#####################################\n",
    "# 5. Temperatura y Emission Measure #\n",
    "#####################################\n",
    "\n",
    "## 5.1. Calcular la Temperatura y Medida de emisión con los datos corregidos (C1)\n",
    "#Calculate_Tem_EM(goes_flare_corrected, abundance='photospheric')\n",
    "#Calculate_Tem_EM(goes_flare_corrected, abundance='coronal')\n",
    "def Calculate_Tem_EM(goes_flare_corrected, abundance='coronal'):\n",
    "    \n",
    "    \"\"\"\n",
    "    Entrada / Input:\n",
    "        goes_flare_corrected: Objeto TimeSeries corregido que contiene los datos del flare solar en los\n",
    "        canales XRSA y XRSB. Debe ser compatible con la función `calculate_temperature_em` de SunPy.\n",
    "        abundance (str): Tipo de abundancia elemental a usar en el cálculo (por defecto: 'coronal').\n",
    "                         Otras opciones posibles incluyen 'photospheric', dependiendo del modelo de SunPy.\n",
    "\n",
    "    Salida / Output:\n",
    "        temp_em: Objeto que contiene la temperatura (T) y medida de emisión (EM) derivadas a partir de los\n",
    "        datos GOES corregidos.\n",
    "\n",
    "    Descripción / Description:\n",
    "        Esta función utiliza los datos corregidos del satélite GOES para calcular la temperatura del plasma\n",
    "        y la medida de emisión (EM) durante un evento de fulguración solar. Permite especificar el modelo\n",
    "        de abundancia elemental a utilizar en el cálculo.\n",
    "\n",
    "        This function uses corrected GOES data to compute the plasma temperature and emission measure (EM)\n",
    "        during a solar flare. It allows specifying the elemental abundance model to be used in the calculation.\n",
    "\n",
    "    Notas / Notes:\n",
    "        - Usa la función `calculate_temperature_em` de SunPy.\n",
    "        - El parámetro `abundance` controla el modelo de abundancias (por ejemplo, 'coronal' o 'photospheric').\n",
    "        - Se desactiva temporalmente la verificación del hash de calibración del instrumento.\n",
    "        - Los datos deben estar previamente corregidos y limpios.\n",
    "    \"\"\"\n",
    "\n",
    "    print(f'Ahora vamos a calcular la T y EM con el modelo de abundancias:{abundance}')\n",
    "    #  Saltar la verificación del hash temporalmente\n",
    "    with manager.skip_hash_check():\n",
    "        #temp_em = calculate_temperature_em(goes_flare_corrected, abundance='coronal')\n",
    "        temp_em = calculate_temperature_em(goes_flare_corrected, abundance)\n",
    "    \n",
    "    print(f'se calculó T y EM con el modelo de abundancias:{abundance}')\n",
    "    #print(temp_em)\n",
    "    return temp_em\n",
    "\n",
    "\n",
    "# mostrar un rango de datos de un TimeSeries\n",
    "def show_range_ts(ts, start_idx, end_idx, height=300):\n",
    "    df = ts.to_dataframe()\n",
    "    subdf = df.iloc[start_idx:end_idx]\n",
    "    display(HTML(f\"\"\"\n",
    "    <div style=\"height:{height}px; overflow:auto; border:1px solid #ccc; padding:10px\">\n",
    "        {subdf.to_html()}\n",
    "    </div>\n",
    "    \"\"\"))\n",
    "\n",
    "# Uso:\n",
    "#show_range_ts(goes_ts01, 0, 10)\n",
    "\n",
    "#####################################\n",
    "#     6. Calcula tiempos de FAI     #\n",
    "#####################################\n",
    "\n",
    "def calcular_fai_times(df, \n",
    "                       T_min=7, T_max=14, \n",
    "                       EM_threshold=0.005, \n",
    "                       col_T=\"T_cor\", \n",
    "                       col_EM=\"EM_cor_norm\"):\n",
    "    \"\"\"\n",
    "    Calcula los tiempos en los que se cumplen los criterios del índice FAI.\n",
    "    \"\"\"\n",
    "\n",
    "    # Copiar para no modificar el original\n",
    "    df_fai = df.copy()\n",
    "\n",
    "    # Condiciones del criterio FAI\n",
    "    fai_condition = (\n",
    "        (df_fai[col_T] >= T_min) & \n",
    "        (df_fai[col_T] <= T_max) & \n",
    "        (df_fai[col_EM] > EM_threshold)\n",
    "    )\n",
    "\n",
    "    # Selección\n",
    "    df_fai_selected = df_fai[fai_condition]\n",
    "    fai_times = df_fai_selected.index\n",
    "\n",
    "    # Mostrar los resultados como en tu código original\n",
    "    print(f\"Se encontraron {len(df_fai_selected)} puntos que cumplen el criterio FAI.\\n\")\n",
    "    print(df_fai_selected[[col_T, col_EM]].head())\n",
    "\n",
    "    return fai_times, df_fai_selected\n",
    "\n",
    "########################\n",
    "# 7. Descargar Flares #\n",
    "#######################\n",
    "\n",
    "# Configurar logging básico\n",
    "logging.basicConfig(level=logging.INFO, format='%(levelname)s: %(message)s')\n",
    "\n",
    "## 7.1. Descarga de datos de flares\n",
    "def get_flares(start_time, end_time):\n",
    "    \"\"\"\n",
    "    Busca fulguraciones solares reportadas por GOES en el intervalo dado.\n",
    "    \n",
    "    Parameters\n",
    "    ----------\n",
    "    start_time : str\n",
    "        Tiempo inicial (YYYY-MM-DD o compatible con SunPy).\n",
    "    end_time : str\n",
    "        Tiempo final (YYYY-MM-DD o compatible con SunPy).\n",
    "    \n",
    "    Returns\n",
    "    -------\n",
    "    pd.DataFrame or None\n",
    "        DataFrame con columnas ['StartTime', 'EndTime', 'Class', 'Observatory', 'PeakTime'] \n",
    "        o None si no se encontraron flares.\n",
    "    \"\"\"\n",
    "    try:\n",
    "        logging.info(f\"Searching for GOES flares between {start_time} and {end_time}...\")\n",
    "        result = Fido.search(a.Time(start_time, end_time), a.hek.FL, a.hek.OBS.Observatory == \"GOES\")\n",
    "\n",
    "        if not result or len(result) == 0 or len(result[0]) == 0:\n",
    "            logging.info(f\"No solar flares found between {start_time} and {end_time}.\")\n",
    "            return None\n",
    "\n",
    "        # Filtrar columnas 1D\n",
    "        names = [name for name in result[0].colnames if len(result[0][name].shape) <= 1]\n",
    "        table = result[0][names].to_pandas()\n",
    "\n",
    "        # Seleccionar columnas de interés\n",
    "        flare_data = table[[\n",
    "            \"event_starttime\",\n",
    "            \"event_endtime\",\n",
    "            \"fl_goescls\",\n",
    "            \"obs_observatory\",\n",
    "            \"event_peaktime\"\n",
    "        ]]\n",
    "\n",
    "        # Renombrar columnas\n",
    "        flare_data.columns = [\"StartTime\", \"EndTime\", \"Class\", \"Observatory\", \"PeakTime\"]\n",
    "\n",
    "        logging.info(f\"Found {len(flare_data)} GOES solar flares between {start_time} and {end_time}.\")\n",
    "        return flare_data\n",
    "\n",
    "    except Exception as e:\n",
    "        logging.error(f\"Error retrieving flares between {start_time} and {end_time}: {e}\")\n",
    "        return None\n",
    "    \n",
    "\n",
    "def build_full_dataframe(goes_ts, goes_corrected, temp_em_cor, temp_em_phot,\n",
    "                         clip_negative=True, normalize_em=False):\n",
    "    \"\"\"\n",
    "    Combina datos originales, corregidos y parámetros de temperatura/EM\n",
    "    en un solo DataFrame.\n",
    "\n",
    "    Parámetros\n",
    "    ----------\n",
    "    goes_ts : sunpy.timeseries.TimeSeries\n",
    "        Serie temporal GOES remuestreada (contiene 'xrsa', 'xrsb').\n",
    "    goes_corrected : sunpy.timeseries.TimeSeries\n",
    "        Serie temporal con GOES corregido (xrsa, xrsb corregidos).\n",
    "    temp_em_cor : sunpy.timeseries.TimeSeries\n",
    "        Serie temporal con temperatura y EM coronal.\n",
    "    temp_em_phot : sunpy.timeseries.TimeSeries\n",
    "        Serie temporal con temperatura y EM fotosférica.\n",
    "    clip_negative : bool, opcional\n",
    "        Si True, reemplaza valores negativos con NaN (en lugar de 0).\n",
    "    normalize_em : bool, opcional\n",
    "        Si True, normaliza EM a unidades de 1e49 cm^-3.\n",
    "\n",
    "    Retorna\n",
    "    -------\n",
    "    pd.DataFrame\n",
    "        DataFrame combinado con todas las columnas.\n",
    "    \"\"\"\n",
    "\n",
    "    # Originales\n",
    "    df_original = goes_ts.to_dataframe()[['xrsa', 'xrsb']]\n",
    "\n",
    "    # Corregidos\n",
    "    df_corr = goes_corrected.to_dataframe().rename(\n",
    "        columns={'xrsa': 'xrsa_corr', 'xrsb': 'xrsb_corr'}\n",
    "    )\n",
    "\n",
    "    # Coronal\n",
    "    df_cor = temp_em_cor.to_dataframe()[['temperature', 'emission_measure']].rename(\n",
    "        columns={'temperature': 'T_cor', 'emission_measure': 'EM_cor'}\n",
    "    )\n",
    "\n",
    "    # Fotosférica\n",
    "    df_phot = temp_em_phot.to_dataframe()[['temperature', 'emission_measure']].rename(\n",
    "        columns={'temperature': 'T_phot', 'emission_measure': 'EM_phot'}\n",
    "    )\n",
    "\n",
    "    # Combinar todo\n",
    "    df_full = pd.concat([df_original, df_corr, df_cor, df_phot], axis=1)\n",
    "\n",
    "    # Opcional: reemplazar valores negativos\n",
    "    if clip_negative:\n",
    "        df_full = df_full.mask(df_full < 0, np.nan)   # ahora quedan NaN y no 0\n",
    "\n",
    "    # Opcional: normalizar EM\n",
    "    if normalize_em:\n",
    "        df_full['EM_cor_norm'] = df_full['EM_cor'] / 1e49\n",
    "        df_full['EM_phot_norm'] = df_full['EM_phot'] / 1e49\n",
    "\n",
    "    return df_full\n",
    "\n",
    "\n",
    "# agrupa por clases de flares en 2 grupos por clase\n",
    "def assign_flare_group(flare_class):\n",
    "    \"\"\"\n",
    "    Asigna un grupo a un flare según su clase y subnivel.\n",
    "    \n",
    "    Ejemplos:\n",
    "    - C3.0 → C1-4\n",
    "    - C7.5 → C5-9\n",
    "    - X2.0 → X1-4\n",
    "    - X7.0 → X5+\n",
    "    \"\"\"\n",
    "    group_ranges = {\n",
    "        \"A\": [(1, 4), (5, 9)],\n",
    "        \"B\": [(1, 4), (5, 9)],\n",
    "        \"C\": [(1, 4), (5, 9)],\n",
    "        \"M\": [(1, 4), (5, 9)],\n",
    "        \"X\": [(1, 4), (5, 1000)]  # 1000 actúa como \"infinito\"\n",
    "    }\n",
    "\n",
    "    try:\n",
    "        letter = flare_class[0]  # A, B, C, M, X\n",
    "        number = float(flare_class[1:])  # acepta decimales, ej: \"2.7\" → 2.7\n",
    "    except:\n",
    "        return flare_class  # si algo raro viene en el CSV\n",
    "\n",
    "    if letter not in group_ranges:\n",
    "        return flare_class\n",
    "\n",
    "    for (low, high) in group_ranges[letter]:\n",
    "        if low <= number <= high:\n",
    "            if high >= 1000:  # caso abierto (ej: X5+)\n",
    "                return f\"{letter}{low}+\"\n",
    "            return f\"{letter}{low}-{high}\"\n",
    "    \n",
    "    return flare_class\n",
    "\n",
    "\n",
    "#######################\n",
    "### cuenta los días ###\n",
    "#######################\n",
    "\n",
    "def count_days(start_date, end_date):\n",
    "    \"\"\"\n",
    "    Counts the number of days between two dates.\n",
    "\n",
    "    Parameters:\n",
    "    - start_date (str): Start date in 'YYYY-MM-DD' format\n",
    "    - end_date (str): End date in 'YYYY-MM-DD' format\n",
    "\n",
    "    Returns:\n",
    "    - int: Number of days between start_date and end_date\n",
    "    \"\"\"\n",
    "    # Convert the strings to datetime objects\n",
    "    start = datetime.strptime(start_date, \"%Y-%m-%d\")\n",
    "    end = datetime.strptime(end_date, \"%Y-%m-%d\")\n",
    "    \n",
    "    # Calculate the difference\n",
    "    difference = end - start\n",
    "    \n",
    "    return difference.days\n",
    "\n",
    "# Example usage\n",
    "#days = count_days(\"1980-01-05\", \"2025-08-20\")\n",
    "#print(f\"Days between the dates: {days}\")\n",
    "\n",
    "\n",
    "#############################################\n",
    "# elige los días cada cierto paso según     #\n",
    "# el número de días que quiera analizar (n) #\n",
    "#############################################\n",
    "\n",
    "def select_dates(start_date, end_date, n=10):\n",
    "    \"\"\"\n",
    "    Selects n dates evenly spaced between start_date and end_date.\n",
    "\n",
    "    Parameters:\n",
    "    - start_date (str): Start date in 'YYYY-MM-DD' format\n",
    "    - end_date (str): End date in 'YYYY-MM-DD' format\n",
    "    - n (int): Number of dates to select (default 10)\n",
    "\n",
    "    Returns:\n",
    "    - list of str: List of dates in 'YYYY-MM-DD' format\n",
    "    \"\"\"\n",
    "    # Convert strings to datetime objects\n",
    "    start = datetime.strptime(start_date, \"%Y-%m-%d\")\n",
    "    end = datetime.strptime(end_date, \"%Y-%m-%d\")\n",
    "    \n",
    "    # Calculate total number of days\n",
    "    total_days = (end - start).days\n",
    "    \n",
    "    # Calculate integer step\n",
    "    #step = total_days // (n - 1)  # n-1 intervals for n dates\n",
    "    \n",
    "    if n < 2:\n",
    "        return [start_date]\n",
    "\n",
    "    # step aproximado al entero más cercano\n",
    "    step = max(1, int(round(total_days / (n - 1))))\n",
    "    print(step)\n",
    "    # Generate the dates\n",
    "    dates = [start + timedelta(days=i*step) for i in range(n)]\n",
    "    print(len(dates))\n",
    "    # Convert to strings\n",
    "    return [d.strftime(\"%Y-%m-%d\") for d in dates]\n",
    "\n",
    "\n",
    "# guarda los datos seleccionados segun el paso en un df\n",
    "def dates_to_dataframe(dates_list):\n",
    "    \"\"\"\n",
    "    Converts a list of dates into a DataFrame with start_time and end_time.\n",
    "\n",
    "    Parameters:\n",
    "    - dates_list (list of str): List of dates in 'YYYY-MM-DD' format\n",
    "\n",
    "    Returns:\n",
    "    - pd.DataFrame: DataFrame with columns ['start_time', 'end_time']\n",
    "    \"\"\"\n",
    "    data = {\n",
    "        \"start_time\": [f\"{date} 00:00:00\" for date in dates_list],\n",
    "        \"end_time\":   [f\"{date} 23:59:00\" for date in dates_list]\n",
    "    }\n",
    "    return pd.DataFrame(data)\n",
    "\n",
    "\n",
    "# Divide un dateframen en lotes:\n",
    "def chunk_dataframe(df, chunk_size=20):\n",
    "    \"\"\"\n",
    "    Divide un DataFrame en bloques (chunks) de tamaño chunk_size.\n",
    "    Devuelve una lista de DataFrames.\n",
    "    \"\"\"\n",
    "    return [df.iloc[i:i + chunk_size] for i in range(0, len(df), chunk_size)]\n",
    "\n",
    "# unir todos los bloques al final\n",
    "def combine_blocks(output_dir, pattern, final_name, time_column=None):\n",
    "    \"\"\"\n",
    "    Une todos los CSV de bloques en un único archivo final.\n",
    "    Si los CSV tienen la primera columna como fecha sin nombre, se usa para ordenar.\n",
    "    \"\"\"\n",
    "    files = sorted(glob.glob(os.path.join(output_dir, \"**\", f\"*{pattern}*.csv\"), recursive=True))\n",
    "    df_list = []\n",
    "\n",
    "    for f in files:\n",
    "        # Leer CSV; si la primera columna no tiene nombre, le ponemos \"time\"\n",
    "        df = pd.read_csv(f)\n",
    "        if df.columns[0] == \"\":\n",
    "            df = pd.read_csv(f, names=[\"time\"] + list(df.columns[1:]), header=0)\n",
    "        df_list.append(df)\n",
    "\n",
    "    if df_list:\n",
    "        combined = pd.concat(df_list, ignore_index=True)\n",
    "\n",
    "        # Ordenar según columna de tiempo\n",
    "        if time_column is None:\n",
    "            # usar la primera columna como tiempo\n",
    "            combined.iloc[:, 0] = pd.to_datetime(combined.iloc[:, 0])\n",
    "            combined = combined.sort_values(by=combined.columns[0]).reset_index(drop=True)\n",
    "            print(f\"✅ Ordenado por la primera columna (usada como tiempo)\")\n",
    "        elif time_column in combined.columns:\n",
    "            combined[time_column] = pd.to_datetime(combined[time_column])\n",
    "            combined = combined.sort_values(by=time_column).reset_index(drop=True)\n",
    "            print(f\"✅ Ordenado por columna '{time_column}'\")\n",
    "        else:\n",
    "            print(f\"⚠️ Columna '{time_column}' no encontrada, no se ordenó\")\n",
    "\n",
    "        combined.to_csv(os.path.join(output_dir, final_name), index=False)\n",
    "        print(f\"{final_name} creado con {len(combined)} filas (desde {len(files)} archivos).\")\n",
    "    else:\n",
    "        print(f\"No se encontraron archivos con patrón {pattern}\")\n",
    "\n",
    "# Example usage\n",
    "#dates_list = select_dates(\"1980-01-05\", \"2025-08-20\", n=10)\n",
    "#df_intervals = dates_to_dataframe(dates_list)\n",
    "\n",
    "#print(df_intervals)\n",
    "\n"
   ]
  },
  {
   "cell_type": "markdown",
   "id": "a50ccfe7",
   "metadata": {},
   "source": [
    "## Prueba función completa"
   ]
  },
  {
   "cell_type": "code",
   "execution_count": 23,
   "id": "677e9ba6",
   "metadata": {},
   "outputs": [],
   "source": [
    "def download_goes_flare_data(start_time, end_time, \n",
    "                      resolution=\"avg1m\",  #resolución de descarga de los datos GOES (1min)\n",
    "                      Dif_time=5,            #Difference time Δt (for background)\n",
    "                      plot_diff=True):\n",
    "    \"\"\"\n",
    "    Pipeline completo para análisis de datos GOES y cálculo de FAI y anticipación.\n",
    "\n",
    "    Parámetros:\n",
    "    -----------\n",
    "    start_time : str\n",
    "        Tiempo inicial (ej: \"2017-09-06 12:00:00\")\n",
    "    end_time : str\n",
    "        Tiempo final (ej: \"2017-09-06 12:15:00\")\n",
    "    resolution : str, opcional\n",
    "        Resolución de datos GOES, default \"avg1m\". Opciones: [\"flx1s\", \"avg1m\"]\n",
    "    Dif_time : int, opcional\n",
    "        Ventana en pasos para calcular diferencias (default 5).\n",
    "    plot_diff : bool, opcional\n",
    "        Si True, grafica las diferencias calculadas.\n",
    "    \n",
    "    Retorna:\n",
    "    --------\n",
    "    dict con:\n",
    "        - df_full : DataFrame con todos los cálculos\n",
    "        - df_flare_data : DataFrame de flares GOES en el intervalo\n",
    "    \"\"\"\n",
    "\n",
    "    # 1. Descargar datos GOES\n",
    "    print(\"1. Descargar datos GOES\")\n",
    "    data = Download_Data(start_time, end_time, resolution)\n",
    "    # para días sin datos GOES\n",
    "    if data is None:\n",
    "        print(f\"No hay datos GOES para {start_time} - {end_time}. Día saltado.\\n\")\n",
    "        return None\n",
    "    else:\n",
    "        print(f\"Se encontraron datos  GOES para {start_time} - {end_time}. Día saltado.\\n\")\n",
    "        goes_ts, observatory = data\n",
    "        # Convertir TimeSeries a DataFrame para inspección\n",
    "        df_goes = goes_ts.to_dataframe()\n",
    "\n",
    "        # Número de registros\n",
    "        print(f\"Número de registros: {len(df_goes)}\")\n",
    "\n",
    "        # Columnas disponibles\n",
    "        print(f\"Columnas disponibles: {list(df_goes.columns)}\")\n",
    "        \n",
    "    print(\"2. Restar Background\")\n",
    "    # 2. Calcular diferencias\n",
    "    goes_ts_corrected_diff = running_difference(goes_ts, Dif_time=Dif_time, plot=plot_diff, block_dir=block_dir, start_time=start_time)\n",
    "                            \n",
    "\n",
    "    # 3. Calcular T y EM (coronal y fotosférico)\n",
    "    print(\"3. USAR FUNCIÓN SUNPY calculate_t_em\")\n",
    "    temp_em_cor = Calculate_Tem_EM(goes_ts_corrected_diff, abundance='coronal')\n",
    "    temp_em_phot = Calculate_Tem_EM(goes_ts_corrected_diff, abundance='photospheric')\n",
    "\n",
    "    print(\"4. CONSTRUIR df_full\")\n",
    "    # 4. Construir dataframe completo\n",
    "    df_full = build_full_dataframe(goes_ts, goes_ts_corrected_diff, temp_em_cor, temp_em_phot,\n",
    "                         clip_negative=True, normalize_em=True)\n",
    "\n",
    "    print(f\"5. añadiendo observatorio: GOES: {observatory}\")\n",
    "    # 5. Añadir columna del observatorio\n",
    "    df_full[\"observatory\"] = observatory\n",
    "    # Reemplazar NaN por \"Unknown\"\n",
    "    df_full[\"observatory\"] = df_full[\"observatory\"].fillna(\"Unknown\")\n",
    "    # Mover \"observatory\" al inicio\n",
    "    cols = [\"observatory\"] + [col for col in df_full.columns if col != \"observatory\"]\n",
    "    df_full = df_full[cols]\n",
    "    #print(df_full)\n",
    "    print(f\"se añadió observatorio: GOES: {observatory}\")\n",
    "\n",
    "    #print(f\"6. Normalizando EM\")\n",
    "    # 6. Normalizar EM\n",
    "    #df_full['EM_cor_norm'] = df_full['EM_cor'] / 1e49\n",
    "    #df_full['EM_phot_norm'] = df_full['EM_phot'] / 1e49\n",
    "    \n",
    "    print(f\"6. Descargando flares: {start_time} - {end_time}\")\n",
    "    # 6. Descargar flares\n",
    "    flare_data = get_flares(start_time, end_time)\n",
    "    \n",
    "    #verifica si encontró flares para el día\n",
    "    if flare_data is None:\n",
    "        print(f\"No se encontraron flares para el intervalo {start_time} - {end_time}. Saltando...\")\n",
    "        # Crear DataFrames vacíos para todos los resultados que dependen de flares\n",
    "        df_flare_data = pd.DataFrame()\n",
    "    \n",
    "        \n",
    "        # Retornar diccionario con flares vacíos\n",
    "        return {\n",
    "            \"df_full\": df_full,\n",
    "            \"df_flare_data\": df_flare_data,\n",
    "        }\n",
    "    \n",
    "\n",
    "    # Si flare_data no es None continúa\n",
    "    print(f\"Se descargaron flares para el intervalo {start_time} - {end_time}.\")\n",
    "    df_flare_data = flare_data[\n",
    "        flare_data['Class'].notna() & \n",
    "        (flare_data['Class'].str.strip() != \"\") &\n",
    "        (flare_data['Observatory'] == \"GOES\")\n",
    "    ]\n",
    "    print(f\"7. Se filtraron solo flares de GOES.\")\n",
    "      \n",
    "\n",
    "    # Retornar todo como dict\n",
    "    return {\n",
    "        \"df_full\": df_full,\n",
    "        \"df_flare_data\": df_flare_data,\n",
    "    }"
   ]
  },
  {
   "cell_type": "markdown",
   "id": "c4942f3d",
   "metadata": {},
   "source": []
  },
  {
   "cell_type": "markdown",
   "id": "f7f2085b",
   "metadata": {},
   "source": [
    "## Count days"
   ]
  },
  {
   "cell_type": "code",
   "execution_count": 24,
   "id": "47d0cd5a",
   "metadata": {},
   "outputs": [],
   "source": [
    "n=1045\n",
    "chunk_size=20 # días para cada bloque"
   ]
  },
  {
   "cell_type": "code",
   "execution_count": 25,
   "id": "83dc0155",
   "metadata": {},
   "outputs": [
    {
     "name": "stdout",
     "output_type": "stream",
     "text": [
      "Days between the dates: 16706\n"
     ]
    },
    {
     "data": {
      "text/plain": [
       "15.986602870813398"
      ]
     },
     "execution_count": 25,
     "metadata": {},
     "output_type": "execute_result"
    }
   ],
   "source": [
    "# contamos cuantos días hay desde la primera fecha 1980-01-05 hasta hoy\n",
    "\n",
    "days = count_days(\"1980-01-05\", \"2025-10-01\")\n",
    "print(f\"Days between the dates: {days}\")\n",
    "\n",
    "paso = days/n\n",
    "paso"
   ]
  },
  {
   "cell_type": "code",
   "execution_count": 26,
   "id": "8231f43d",
   "metadata": {},
   "outputs": [
    {
     "name": "stdout",
     "output_type": "stream",
     "text": [
      "16\n",
      "1045\n",
      "['1980-01-05', '1980-01-21', '1980-02-06', '1980-02-22', '1980-03-09', '1980-03-25', '1980-04-10', '1980-04-26', '1980-05-12', '1980-05-28', '1980-06-13', '1980-06-29', '1980-07-15', '1980-07-31', '1980-08-16', '1980-09-01', '1980-09-17', '1980-10-03', '1980-10-19', '1980-11-04', '1980-11-20', '1980-12-06', '1980-12-22', '1981-01-07', '1981-01-23', '1981-02-08', '1981-02-24', '1981-03-12', '1981-03-28', '1981-04-13', '1981-04-29', '1981-05-15', '1981-05-31', '1981-06-16', '1981-07-02', '1981-07-18', '1981-08-03', '1981-08-19', '1981-09-04', '1981-09-20', '1981-10-06', '1981-10-22', '1981-11-07', '1981-11-23', '1981-12-09', '1981-12-25', '1982-01-10', '1982-01-26', '1982-02-11', '1982-02-27', '1982-03-15', '1982-03-31', '1982-04-16', '1982-05-02', '1982-05-18', '1982-06-03', '1982-06-19', '1982-07-05', '1982-07-21', '1982-08-06', '1982-08-22', '1982-09-07', '1982-09-23', '1982-10-09', '1982-10-25', '1982-11-10', '1982-11-26', '1982-12-12', '1982-12-28', '1983-01-13', '1983-01-29', '1983-02-14', '1983-03-02', '1983-03-18', '1983-04-03', '1983-04-19', '1983-05-05', '1983-05-21', '1983-06-06', '1983-06-22', '1983-07-08', '1983-07-24', '1983-08-09', '1983-08-25', '1983-09-10', '1983-09-26', '1983-10-12', '1983-10-28', '1983-11-13', '1983-11-29', '1983-12-15', '1983-12-31', '1984-01-16', '1984-02-01', '1984-02-17', '1984-03-04', '1984-03-20', '1984-04-05', '1984-04-21', '1984-05-07', '1984-05-23', '1984-06-08', '1984-06-24', '1984-07-10', '1984-07-26', '1984-08-11', '1984-08-27', '1984-09-12', '1984-09-28', '1984-10-14', '1984-10-30', '1984-11-15', '1984-12-01', '1984-12-17', '1985-01-02', '1985-01-18', '1985-02-03', '1985-02-19', '1985-03-07', '1985-03-23', '1985-04-08', '1985-04-24', '1985-05-10', '1985-05-26', '1985-06-11', '1985-06-27', '1985-07-13', '1985-07-29', '1985-08-14', '1985-08-30', '1985-09-15', '1985-10-01', '1985-10-17', '1985-11-02', '1985-11-18', '1985-12-04', '1985-12-20', '1986-01-05', '1986-01-21', '1986-02-06', '1986-02-22', '1986-03-10', '1986-03-26', '1986-04-11', '1986-04-27', '1986-05-13', '1986-05-29', '1986-06-14', '1986-06-30', '1986-07-16', '1986-08-01', '1986-08-17', '1986-09-02', '1986-09-18', '1986-10-04', '1986-10-20', '1986-11-05', '1986-11-21', '1986-12-07', '1986-12-23', '1987-01-08', '1987-01-24', '1987-02-09', '1987-02-25', '1987-03-13', '1987-03-29', '1987-04-14', '1987-04-30', '1987-05-16', '1987-06-01', '1987-06-17', '1987-07-03', '1987-07-19', '1987-08-04', '1987-08-20', '1987-09-05', '1987-09-21', '1987-10-07', '1987-10-23', '1987-11-08', '1987-11-24', '1987-12-10', '1987-12-26', '1988-01-11', '1988-01-27', '1988-02-12', '1988-02-28', '1988-03-15', '1988-03-31', '1988-04-16', '1988-05-02', '1988-05-18', '1988-06-03', '1988-06-19', '1988-07-05', '1988-07-21', '1988-08-06', '1988-08-22', '1988-09-07', '1988-09-23', '1988-10-09', '1988-10-25', '1988-11-10', '1988-11-26', '1988-12-12', '1988-12-28', '1989-01-13', '1989-01-29', '1989-02-14', '1989-03-02', '1989-03-18', '1989-04-03', '1989-04-19', '1989-05-05', '1989-05-21', '1989-06-06', '1989-06-22', '1989-07-08', '1989-07-24', '1989-08-09', '1989-08-25', '1989-09-10', '1989-09-26', '1989-10-12', '1989-10-28', '1989-11-13', '1989-11-29', '1989-12-15', '1989-12-31', '1990-01-16', '1990-02-01', '1990-02-17', '1990-03-05', '1990-03-21', '1990-04-06', '1990-04-22', '1990-05-08', '1990-05-24', '1990-06-09', '1990-06-25', '1990-07-11', '1990-07-27', '1990-08-12', '1990-08-28', '1990-09-13', '1990-09-29', '1990-10-15', '1990-10-31', '1990-11-16', '1990-12-02', '1990-12-18', '1991-01-03', '1991-01-19', '1991-02-04', '1991-02-20', '1991-03-08', '1991-03-24', '1991-04-09', '1991-04-25', '1991-05-11', '1991-05-27', '1991-06-12', '1991-06-28', '1991-07-14', '1991-07-30', '1991-08-15', '1991-08-31', '1991-09-16', '1991-10-02', '1991-10-18', '1991-11-03', '1991-11-19', '1991-12-05', '1991-12-21', '1992-01-06', '1992-01-22', '1992-02-07', '1992-02-23', '1992-03-10', '1992-03-26', '1992-04-11', '1992-04-27', '1992-05-13', '1992-05-29', '1992-06-14', '1992-06-30', '1992-07-16', '1992-08-01', '1992-08-17', '1992-09-02', '1992-09-18', '1992-10-04', '1992-10-20', '1992-11-05', '1992-11-21', '1992-12-07', '1992-12-23', '1993-01-08', '1993-01-24', '1993-02-09', '1993-02-25', '1993-03-13', '1993-03-29', '1993-04-14', '1993-04-30', '1993-05-16', '1993-06-01', '1993-06-17', '1993-07-03', '1993-07-19', '1993-08-04', '1993-08-20', '1993-09-05', '1993-09-21', '1993-10-07', '1993-10-23', '1993-11-08', '1993-11-24', '1993-12-10', '1993-12-26', '1994-01-11', '1994-01-27', '1994-02-12', '1994-02-28', '1994-03-16', '1994-04-01', '1994-04-17', '1994-05-03', '1994-05-19', '1994-06-04', '1994-06-20', '1994-07-06', '1994-07-22', '1994-08-07', '1994-08-23', '1994-09-08', '1994-09-24', '1994-10-10', '1994-10-26', '1994-11-11', '1994-11-27', '1994-12-13', '1994-12-29', '1995-01-14', '1995-01-30', '1995-02-15', '1995-03-03', '1995-03-19', '1995-04-04', '1995-04-20', '1995-05-06', '1995-05-22', '1995-06-07', '1995-06-23', '1995-07-09', '1995-07-25', '1995-08-10', '1995-08-26', '1995-09-11', '1995-09-27', '1995-10-13', '1995-10-29', '1995-11-14', '1995-11-30', '1995-12-16', '1996-01-01', '1996-01-17', '1996-02-02', '1996-02-18', '1996-03-05', '1996-03-21', '1996-04-06', '1996-04-22', '1996-05-08', '1996-05-24', '1996-06-09', '1996-06-25', '1996-07-11', '1996-07-27', '1996-08-12', '1996-08-28', '1996-09-13', '1996-09-29', '1996-10-15', '1996-10-31', '1996-11-16', '1996-12-02', '1996-12-18', '1997-01-03', '1997-01-19', '1997-02-04', '1997-02-20', '1997-03-08', '1997-03-24', '1997-04-09', '1997-04-25', '1997-05-11', '1997-05-27', '1997-06-12', '1997-06-28', '1997-07-14', '1997-07-30', '1997-08-15', '1997-08-31', '1997-09-16', '1997-10-02', '1997-10-18', '1997-11-03', '1997-11-19', '1997-12-05', '1997-12-21', '1998-01-06', '1998-01-22', '1998-02-07', '1998-02-23', '1998-03-11', '1998-03-27', '1998-04-12', '1998-04-28', '1998-05-14', '1998-05-30', '1998-06-15', '1998-07-01', '1998-07-17', '1998-08-02', '1998-08-18', '1998-09-03', '1998-09-19', '1998-10-05', '1998-10-21', '1998-11-06', '1998-11-22', '1998-12-08', '1998-12-24', '1999-01-09', '1999-01-25', '1999-02-10', '1999-02-26', '1999-03-14', '1999-03-30', '1999-04-15', '1999-05-01', '1999-05-17', '1999-06-02', '1999-06-18', '1999-07-04', '1999-07-20', '1999-08-05', '1999-08-21', '1999-09-06', '1999-09-22', '1999-10-08', '1999-10-24', '1999-11-09', '1999-11-25', '1999-12-11', '1999-12-27', '2000-01-12', '2000-01-28', '2000-02-13', '2000-02-29', '2000-03-16', '2000-04-01', '2000-04-17', '2000-05-03', '2000-05-19', '2000-06-04', '2000-06-20', '2000-07-06', '2000-07-22', '2000-08-07', '2000-08-23', '2000-09-08', '2000-09-24', '2000-10-10', '2000-10-26', '2000-11-11', '2000-11-27', '2000-12-13', '2000-12-29', '2001-01-14', '2001-01-30', '2001-02-15', '2001-03-03', '2001-03-19', '2001-04-04', '2001-04-20', '2001-05-06', '2001-05-22', '2001-06-07', '2001-06-23', '2001-07-09', '2001-07-25', '2001-08-10', '2001-08-26', '2001-09-11', '2001-09-27', '2001-10-13', '2001-10-29', '2001-11-14', '2001-11-30', '2001-12-16', '2002-01-01', '2002-01-17', '2002-02-02', '2002-02-18', '2002-03-06', '2002-03-22', '2002-04-07', '2002-04-23', '2002-05-09', '2002-05-25', '2002-06-10', '2002-06-26', '2002-07-12', '2002-07-28', '2002-08-13', '2002-08-29', '2002-09-14', '2002-09-30', '2002-10-16', '2002-11-01', '2002-11-17', '2002-12-03', '2002-12-19', '2003-01-04', '2003-01-20', '2003-02-05', '2003-02-21', '2003-03-09', '2003-03-25', '2003-04-10', '2003-04-26', '2003-05-12', '2003-05-28', '2003-06-13', '2003-06-29', '2003-07-15', '2003-07-31', '2003-08-16', '2003-09-01', '2003-09-17', '2003-10-03', '2003-10-19', '2003-11-04', '2003-11-20', '2003-12-06', '2003-12-22', '2004-01-07', '2004-01-23', '2004-02-08', '2004-02-24', '2004-03-11', '2004-03-27', '2004-04-12', '2004-04-28', '2004-05-14', '2004-05-30', '2004-06-15', '2004-07-01', '2004-07-17', '2004-08-02', '2004-08-18', '2004-09-03', '2004-09-19', '2004-10-05', '2004-10-21', '2004-11-06', '2004-11-22', '2004-12-08', '2004-12-24', '2005-01-09', '2005-01-25', '2005-02-10', '2005-02-26', '2005-03-14', '2005-03-30', '2005-04-15', '2005-05-01', '2005-05-17', '2005-06-02', '2005-06-18', '2005-07-04', '2005-07-20', '2005-08-05', '2005-08-21', '2005-09-06', '2005-09-22', '2005-10-08', '2005-10-24', '2005-11-09', '2005-11-25', '2005-12-11', '2005-12-27', '2006-01-12', '2006-01-28', '2006-02-13', '2006-03-01', '2006-03-17', '2006-04-02', '2006-04-18', '2006-05-04', '2006-05-20', '2006-06-05', '2006-06-21', '2006-07-07', '2006-07-23', '2006-08-08', '2006-08-24', '2006-09-09', '2006-09-25', '2006-10-11', '2006-10-27', '2006-11-12', '2006-11-28', '2006-12-14', '2006-12-30', '2007-01-15', '2007-01-31', '2007-02-16', '2007-03-04', '2007-03-20', '2007-04-05', '2007-04-21', '2007-05-07', '2007-05-23', '2007-06-08', '2007-06-24', '2007-07-10', '2007-07-26', '2007-08-11', '2007-08-27', '2007-09-12', '2007-09-28', '2007-10-14', '2007-10-30', '2007-11-15', '2007-12-01', '2007-12-17', '2008-01-02', '2008-01-18', '2008-02-03', '2008-02-19', '2008-03-06', '2008-03-22', '2008-04-07', '2008-04-23', '2008-05-09', '2008-05-25', '2008-06-10', '2008-06-26', '2008-07-12', '2008-07-28', '2008-08-13', '2008-08-29', '2008-09-14', '2008-09-30', '2008-10-16', '2008-11-01', '2008-11-17', '2008-12-03', '2008-12-19', '2009-01-04', '2009-01-20', '2009-02-05', '2009-02-21', '2009-03-09', '2009-03-25', '2009-04-10', '2009-04-26', '2009-05-12', '2009-05-28', '2009-06-13', '2009-06-29', '2009-07-15', '2009-07-31', '2009-08-16', '2009-09-01', '2009-09-17', '2009-10-03', '2009-10-19', '2009-11-04', '2009-11-20', '2009-12-06', '2009-12-22', '2010-01-07', '2010-01-23', '2010-02-08', '2010-02-24', '2010-03-12', '2010-03-28', '2010-04-13', '2010-04-29', '2010-05-15', '2010-05-31', '2010-06-16', '2010-07-02', '2010-07-18', '2010-08-03', '2010-08-19', '2010-09-04', '2010-09-20', '2010-10-06', '2010-10-22', '2010-11-07', '2010-11-23', '2010-12-09', '2010-12-25', '2011-01-10', '2011-01-26', '2011-02-11', '2011-02-27', '2011-03-15', '2011-03-31', '2011-04-16', '2011-05-02', '2011-05-18', '2011-06-03', '2011-06-19', '2011-07-05', '2011-07-21', '2011-08-06', '2011-08-22', '2011-09-07', '2011-09-23', '2011-10-09', '2011-10-25', '2011-11-10', '2011-11-26', '2011-12-12', '2011-12-28', '2012-01-13', '2012-01-29', '2012-02-14', '2012-03-01', '2012-03-17', '2012-04-02', '2012-04-18', '2012-05-04', '2012-05-20', '2012-06-05', '2012-06-21', '2012-07-07', '2012-07-23', '2012-08-08', '2012-08-24', '2012-09-09', '2012-09-25', '2012-10-11', '2012-10-27', '2012-11-12', '2012-11-28', '2012-12-14', '2012-12-30', '2013-01-15', '2013-01-31', '2013-02-16', '2013-03-04', '2013-03-20', '2013-04-05', '2013-04-21', '2013-05-07', '2013-05-23', '2013-06-08', '2013-06-24', '2013-07-10', '2013-07-26', '2013-08-11', '2013-08-27', '2013-09-12', '2013-09-28', '2013-10-14', '2013-10-30', '2013-11-15', '2013-12-01', '2013-12-17', '2014-01-02', '2014-01-18', '2014-02-03', '2014-02-19', '2014-03-07', '2014-03-23', '2014-04-08', '2014-04-24', '2014-05-10', '2014-05-26', '2014-06-11', '2014-06-27', '2014-07-13', '2014-07-29', '2014-08-14', '2014-08-30', '2014-09-15', '2014-10-01', '2014-10-17', '2014-11-02', '2014-11-18', '2014-12-04', '2014-12-20', '2015-01-05', '2015-01-21', '2015-02-06', '2015-02-22', '2015-03-10', '2015-03-26', '2015-04-11', '2015-04-27', '2015-05-13', '2015-05-29', '2015-06-14', '2015-06-30', '2015-07-16', '2015-08-01', '2015-08-17', '2015-09-02', '2015-09-18', '2015-10-04', '2015-10-20', '2015-11-05', '2015-11-21', '2015-12-07', '2015-12-23', '2016-01-08', '2016-01-24', '2016-02-09', '2016-02-25', '2016-03-12', '2016-03-28', '2016-04-13', '2016-04-29', '2016-05-15', '2016-05-31', '2016-06-16', '2016-07-02', '2016-07-18', '2016-08-03', '2016-08-19', '2016-09-04', '2016-09-20', '2016-10-06', '2016-10-22', '2016-11-07', '2016-11-23', '2016-12-09', '2016-12-25', '2017-01-10', '2017-01-26', '2017-02-11', '2017-02-27', '2017-03-15', '2017-03-31', '2017-04-16', '2017-05-02', '2017-05-18', '2017-06-03', '2017-06-19', '2017-07-05', '2017-07-21', '2017-08-06', '2017-08-22', '2017-09-07', '2017-09-23', '2017-10-09', '2017-10-25', '2017-11-10', '2017-11-26', '2017-12-12', '2017-12-28', '2018-01-13', '2018-01-29', '2018-02-14', '2018-03-02', '2018-03-18', '2018-04-03', '2018-04-19', '2018-05-05', '2018-05-21', '2018-06-06', '2018-06-22', '2018-07-08', '2018-07-24', '2018-08-09', '2018-08-25', '2018-09-10', '2018-09-26', '2018-10-12', '2018-10-28', '2018-11-13', '2018-11-29', '2018-12-15', '2018-12-31', '2019-01-16', '2019-02-01', '2019-02-17', '2019-03-05', '2019-03-21', '2019-04-06', '2019-04-22', '2019-05-08', '2019-05-24', '2019-06-09', '2019-06-25', '2019-07-11', '2019-07-27', '2019-08-12', '2019-08-28', '2019-09-13', '2019-09-29', '2019-10-15', '2019-10-31', '2019-11-16', '2019-12-02', '2019-12-18', '2020-01-03', '2020-01-19', '2020-02-04', '2020-02-20', '2020-03-07', '2020-03-23', '2020-04-08', '2020-04-24', '2020-05-10', '2020-05-26', '2020-06-11', '2020-06-27', '2020-07-13', '2020-07-29', '2020-08-14', '2020-08-30', '2020-09-15', '2020-10-01', '2020-10-17', '2020-11-02', '2020-11-18', '2020-12-04', '2020-12-20', '2021-01-05', '2021-01-21', '2021-02-06', '2021-02-22', '2021-03-10', '2021-03-26', '2021-04-11', '2021-04-27', '2021-05-13', '2021-05-29', '2021-06-14', '2021-06-30', '2021-07-16', '2021-08-01', '2021-08-17', '2021-09-02', '2021-09-18', '2021-10-04', '2021-10-20', '2021-11-05', '2021-11-21', '2021-12-07', '2021-12-23', '2022-01-08', '2022-01-24', '2022-02-09', '2022-02-25', '2022-03-13', '2022-03-29', '2022-04-14', '2022-04-30', '2022-05-16', '2022-06-01', '2022-06-17', '2022-07-03', '2022-07-19', '2022-08-04', '2022-08-20', '2022-09-05', '2022-09-21', '2022-10-07', '2022-10-23', '2022-11-08', '2022-11-24', '2022-12-10', '2022-12-26', '2023-01-11', '2023-01-27', '2023-02-12', '2023-02-28', '2023-03-16', '2023-04-01', '2023-04-17', '2023-05-03', '2023-05-19', '2023-06-04', '2023-06-20', '2023-07-06', '2023-07-22', '2023-08-07', '2023-08-23', '2023-09-08', '2023-09-24', '2023-10-10', '2023-10-26', '2023-11-11', '2023-11-27', '2023-12-13', '2023-12-29', '2024-01-14', '2024-01-30', '2024-02-15', '2024-03-02', '2024-03-18', '2024-04-03', '2024-04-19', '2024-05-05', '2024-05-21', '2024-06-06', '2024-06-22', '2024-07-08', '2024-07-24', '2024-08-09', '2024-08-25', '2024-09-10', '2024-09-26', '2024-10-12', '2024-10-28', '2024-11-13', '2024-11-29', '2024-12-15', '2024-12-31', '2025-01-16', '2025-02-01', '2025-02-17', '2025-03-05', '2025-03-21', '2025-04-06', '2025-04-22', '2025-05-08', '2025-05-24', '2025-06-09', '2025-06-25', '2025-07-11', '2025-07-27', '2025-08-12', '2025-08-28', '2025-09-13', '2025-09-29']\n"
     ]
    }
   ],
   "source": [
    "\n",
    "dates_list = select_dates(\"1980-01-05\", \"2025-08-19\", n=n)\n",
    "print(dates_list)"
   ]
  },
  {
   "cell_type": "markdown",
   "id": "5dffea5e",
   "metadata": {},
   "source": [
    "## New folder for data"
   ]
  },
  {
   "cell_type": "code",
   "execution_count": 27,
   "id": "7e7295b0",
   "metadata": {},
   "outputs": [
    {
     "name": "stdout",
     "output_type": "stream",
     "text": [
      "Carpeta creada: 2025-10-07_Analysis_for_1000_days\n"
     ]
    }
   ],
   "source": [
    "# Obtener fecha actual en formato YYYY-MM-DD\n",
    "#fecha_actual = datetime.now().strftime(\"%Y-%m-%d\")\n",
    "fecha_actual =\"2025-10-07\"\n",
    "# Crear nombre dinámico de la carpeta\n",
    "#output_dir = f\"{fecha_actual}_Analysis_for_{n}_days\"\n",
    "output_dir = f\"2025-10-07_Analysis_for_1000_days\"\n",
    "# Crear carpeta (si no existe)\n",
    "os.makedirs(output_dir, exist_ok=True)\n",
    "\n",
    "print(f\"Carpeta creada: {output_dir}\")"
   ]
  },
  {
   "cell_type": "code",
   "execution_count": 28,
   "id": "bd7c8b14",
   "metadata": {},
   "outputs": [
    {
     "name": "stdout",
     "output_type": "stream",
     "text": [
      "               start_time             end_time\n",
      "0     1980-01-05 00:00:00  1980-01-05 23:59:00\n",
      "1     1980-01-21 00:00:00  1980-01-21 23:59:00\n",
      "2     1980-02-06 00:00:00  1980-02-06 23:59:00\n",
      "3     1980-02-22 00:00:00  1980-02-22 23:59:00\n",
      "4     1980-03-09 00:00:00  1980-03-09 23:59:00\n",
      "...                   ...                  ...\n",
      "1040  2025-07-27 00:00:00  2025-07-27 23:59:00\n",
      "1041  2025-08-12 00:00:00  2025-08-12 23:59:00\n",
      "1042  2025-08-28 00:00:00  2025-08-28 23:59:00\n",
      "1043  2025-09-13 00:00:00  2025-09-13 23:59:00\n",
      "1044  2025-09-29 00:00:00  2025-09-29 23:59:00\n",
      "\n",
      "[1045 rows x 2 columns]\n"
     ]
    }
   ],
   "source": [
    "# guarda lista de fechas en la carpeta\n",
    "\n",
    "df_intervals = dates_to_dataframe(dates_list)\n",
    "df_intervals.to_csv(os.path.join(output_dir, f\"Dates_of_{n}_days.csv\"))\n",
    "print(df_intervals)"
   ]
  },
  {
   "cell_type": "code",
   "execution_count": 29,
   "id": "9e5fe621",
   "metadata": {},
   "outputs": [
    {
     "name": "stdout",
     "output_type": "stream",
     "text": [
      "Procesando bloque 1/53 con 20 días...\n",
      "⚠️ Bloque 1 ya procesado, saltando...\n",
      "Procesando bloque 2/53 con 20 días...\n",
      "⚠️ Bloque 2 ya procesado, saltando...\n",
      "Procesando bloque 3/53 con 20 días...\n",
      "⚠️ Bloque 3 ya procesado, saltando...\n",
      "Procesando bloque 4/53 con 20 días...\n",
      "⚠️ Bloque 4 ya procesado, saltando...\n",
      "Procesando bloque 5/53 con 20 días...\n",
      "⚠️ Bloque 5 ya procesado, saltando...\n",
      "Procesando bloque 6/53 con 20 días...\n",
      "⚠️ Bloque 6 ya procesado, saltando...\n",
      "Procesando bloque 7/53 con 20 días...\n",
      "⚠️ Bloque 7 ya procesado, saltando...\n",
      "Procesando bloque 8/53 con 20 días...\n",
      "⚠️ Bloque 8 ya procesado, saltando...\n",
      "Procesando bloque 9/53 con 20 días...\n",
      "⚠️ Bloque 9 ya procesado, saltando...\n",
      "Procesando bloque 10/53 con 20 días...\n",
      "⚠️ Bloque 10 ya procesado, saltando...\n",
      "Procesando bloque 11/53 con 20 días...\n",
      "⚠️ Bloque 11 ya procesado, saltando...\n",
      "Procesando bloque 12/53 con 20 días...\n",
      "⚠️ Bloque 12 ya procesado, saltando...\n",
      "Procesando bloque 13/53 con 20 días...\n",
      "⚠️ Bloque 13 ya procesado, saltando...\n",
      "Procesando bloque 14/53 con 20 días...\n",
      "⚠️ Bloque 14 ya procesado, saltando...\n",
      "Procesando bloque 15/53 con 20 días...\n",
      "⚠️ Bloque 15 ya procesado, saltando...\n",
      "Procesando bloque 16/53 con 20 días...\n",
      "⚠️ Bloque 16 ya procesado, saltando...\n",
      "Procesando bloque 17/53 con 20 días...\n",
      "⚠️ Bloque 17 ya procesado, saltando...\n",
      "Procesando bloque 18/53 con 20 días...\n",
      "⚠️ Bloque 18 ya procesado, saltando...\n",
      "Procesando bloque 19/53 con 20 días...\n",
      "⚠️ Bloque 19 ya procesado, saltando...\n",
      "Procesando bloque 20/53 con 20 días...\n",
      "⚠️ Bloque 20 ya procesado, saltando...\n",
      "Procesando bloque 21/53 con 20 días...\n",
      "⚠️ Bloque 21 ya procesado, saltando...\n",
      "Procesando bloque 22/53 con 20 días...\n",
      "⚠️ Bloque 22 ya procesado, saltando...\n",
      "Procesando bloque 23/53 con 20 días...\n",
      "⚠️ Bloque 23 ya procesado, saltando...\n",
      "Procesando bloque 24/53 con 20 días...\n",
      "⚠️ Bloque 24 ya procesado, saltando...\n",
      "Procesando bloque 25/53 con 20 días...\n",
      "⚠️ Bloque 25 ya procesado, saltando...\n",
      "Procesando bloque 26/53 con 20 días...\n",
      "⚠️ Bloque 26 ya procesado, saltando...\n",
      "Procesando bloque 27/53 con 20 días...\n",
      "⚠️ Bloque 27 ya procesado, saltando...\n",
      "Procesando bloque 28/53 con 20 días...\n",
      "⚠️ Bloque 28 ya procesado, saltando...\n",
      "Procesando bloque 29/53 con 20 días...\n",
      "⚠️ Bloque 29 ya procesado, saltando...\n",
      "Procesando bloque 30/53 con 20 días...\n",
      "⚠️ Bloque 30 ya procesado, saltando...\n",
      "Procesando bloque 31/53 con 20 días...\n",
      "⚠️ Bloque 31 ya procesado, saltando...\n",
      "Procesando bloque 32/53 con 20 días...\n",
      "⚠️ Bloque 32 ya procesado, saltando...\n",
      "Procesando bloque 33/53 con 20 días...\n",
      "1. Descargar datos GOES\n",
      "Buscando datos de: 2008-01-18 00:00:00\n"
     ]
    },
    {
     "name": "stdout",
     "output_type": "stream",
     "text": [
      "No hay datos GOES para 2008-01-18 00:00:00 - 2008-01-18 23:59:00. Día saltado.\n",
      "Se encontraron datos  GOES para 2008-01-18 00:00:00 - 2008-01-18 23:59:00. Día saltado.\n",
      "\n",
      " Error en intervalo 2008-01-18 00:00:00 - 2008-01-18 23:59:00: 'NoneType' object has no attribute 'to_dataframe'\n",
      "1. Descargar datos GOES\n",
      "Buscando datos de: 2008-02-03 00:00:00\n",
      "Descargando datos de 2008-02-03 00:00:00...\n"
     ]
    },
    {
     "name": "stderr",
     "output_type": "stream",
     "text": [
      "Files Downloaded: 100%|██████████| 1/1 [00:00<00:00,  1.65file/s]\n"
     ]
    },
    {
     "name": "stdout",
     "output_type": "stream",
     "text": [
      "Resolution = 1 minute\n",
      "Gráfica guardada en 2025-10-07_Analysis_for_1000_days/Block_33/data_graphs/GOES_2008-02-03_00-00-00.png\n",
      "Observatorio encontrado: GOES-11\n",
      "Se encontraron datos  GOES para 2008-02-03 00:00:00 - 2008-02-03 23:59:00. Día saltado.\n",
      "\n",
      "Número de registros: 1440\n",
      "Columnas disponibles: ['xrsa', 'xrsb', 'xrsa_quality', 'xrsb_quality']\n",
      "2. Restar Background\n",
      "Plot saved at: 2025-10-07_Analysis_for_1000_days/Block_33/data_graphs/GOES_diff_linear_2008-02-03_00-00-00.png\n",
      "Plot saved at: 2025-10-07_Analysis_for_1000_days/Block_33/data_graphs/GOES_diff_log_2008-02-03_00-00-00.png\n"
     ]
    },
    {
     "name": "stderr",
     "output_type": "stream",
     "text": [
      "/tmp/ipykernel_1683080/4009928038.py:226: FutureWarning: Downcasting behavior in Series and DataFrame methods 'where', 'mask', and 'clip' is deprecated. In a future version this will not infer object dtypes or cast all-round floats to integers. Instead call result.infer_objects(copy=False) for object inference, or cast round floats explicitly. To opt-in to the future behavior, set `pd.set_option('future.no_silent_downcasting', True)`\n",
      "  df_o = df_o.clip(lower=1e-9)\n"
     ]
    },
    {
     "name": "stdout",
     "output_type": "stream",
     "text": [
      "Plot saved at: 2025-10-07_Analysis_for_1000_days/Block_33/data_graphs/GOES_diff_positive_2008-02-03_00-00-00.png\n",
      "3. USAR FUNCIÓN SUNPY calculate_t_em\n",
      "Ahora vamos a calcular la T y EM con el modelo de abundancias:coronal\n"
     ]
    },
    {
     "name": "stderr",
     "output_type": "stream",
     "text": [
      "Files Downloaded: 100%|██████████| 1/1 [00:01<00:00,  1.15s/file]\n",
      "/home/pjgonzalesp/miniforge3/envs/sunpy/lib/python3.13/site-packages/astropy/units/quantity.py:659: RuntimeWarning: divide by zero encountered in divide\n",
      "  result = super().__array_ufunc__(function, method, *arrays, **kwargs)\n",
      "/home/pjgonzalesp/miniforge3/envs/sunpy/lib/python3.13/site-packages/astropy/units/quantity.py:659: RuntimeWarning: invalid value encountered in divide\n",
      "  result = super().__array_ufunc__(function, method, *arrays, **kwargs)\n"
     ]
    },
    {
     "name": "stdout",
     "output_type": "stream",
     "text": [
      "se calculó T y EM con el modelo de abundancias:coronal\n",
      "Ahora vamos a calcular la T y EM con el modelo de abundancias:photospheric\n"
     ]
    },
    {
     "name": "stderr",
     "output_type": "stream",
     "text": [
      "Files Downloaded: 100%|██████████| 1/1 [00:00<00:00,  1.29file/s]\n",
      "2025-10-08 13:14:37 - root - INFO: Searching for GOES flares between 2008-02-03 00:00:00 and 2008-02-03 23:59:00...\n"
     ]
    },
    {
     "name": "stdout",
     "output_type": "stream",
     "text": [
      "se calculó T y EM con el modelo de abundancias:photospheric\n",
      "4. CONSTRUIR df_full\n",
      "5. añadiendo observatorio: GOES: GOES-11\n",
      "se añadió observatorio: GOES: GOES-11\n",
      "6. Descargando flares: 2008-02-03 00:00:00 - 2008-02-03 23:59:00\n"
     ]
    },
    {
     "name": "stderr",
     "output_type": "stream",
     "text": [
      "2025-10-08 13:14:38 - root - INFO: No solar flares found between 2008-02-03 00:00:00 and 2008-02-03 23:59:00.\n"
     ]
    },
    {
     "name": "stdout",
     "output_type": "stream",
     "text": [
      "No se encontraron flares para el intervalo 2008-02-03 00:00:00 - 2008-02-03 23:59:00. Saltando...\n",
      "Saltando intervalo 2008-02-03 00:00:00 - 2008-02-03 23:59:00 (sin datos/flares).\n",
      "1. Descargar datos GOES\n",
      "Buscando datos de: 2008-02-19 00:00:00\n",
      "Descargando datos de 2008-02-19 00:00:00...\n"
     ]
    },
    {
     "name": "stderr",
     "output_type": "stream",
     "text": [
      "Files Downloaded: 100%|██████████| 1/1 [00:00<00:00,  1.78file/s]\n"
     ]
    },
    {
     "name": "stdout",
     "output_type": "stream",
     "text": [
      "Resolution = 1 minute\n",
      "Gráfica guardada en 2025-10-07_Analysis_for_1000_days/Block_33/data_graphs/GOES_2008-02-19_00-00-00.png\n",
      "Observatorio encontrado: GOES-10\n",
      "Se encontraron datos  GOES para 2008-02-19 00:00:00 - 2008-02-19 23:59:00. Día saltado.\n",
      "\n",
      "Número de registros: 1440\n",
      "Columnas disponibles: ['xrsa', 'xrsb', 'xrsa_quality', 'xrsb_quality']\n",
      "2. Restar Background\n",
      "Plot saved at: 2025-10-07_Analysis_for_1000_days/Block_33/data_graphs/GOES_diff_linear_2008-02-19_00-00-00.png\n",
      "Plot saved at: 2025-10-07_Analysis_for_1000_days/Block_33/data_graphs/GOES_diff_log_2008-02-19_00-00-00.png\n"
     ]
    },
    {
     "name": "stderr",
     "output_type": "stream",
     "text": [
      "/tmp/ipykernel_1683080/4009928038.py:226: FutureWarning: Downcasting behavior in Series and DataFrame methods 'where', 'mask', and 'clip' is deprecated. In a future version this will not infer object dtypes or cast all-round floats to integers. Instead call result.infer_objects(copy=False) for object inference, or cast round floats explicitly. To opt-in to the future behavior, set `pd.set_option('future.no_silent_downcasting', True)`\n",
      "  df_o = df_o.clip(lower=1e-9)\n"
     ]
    },
    {
     "name": "stdout",
     "output_type": "stream",
     "text": [
      "Plot saved at: 2025-10-07_Analysis_for_1000_days/Block_33/data_graphs/GOES_diff_positive_2008-02-19_00-00-00.png\n",
      "3. USAR FUNCIÓN SUNPY calculate_t_em\n",
      "Ahora vamos a calcular la T y EM con el modelo de abundancias:coronal\n"
     ]
    },
    {
     "name": "stderr",
     "output_type": "stream",
     "text": [
      "Files Downloaded: 100%|██████████| 1/1 [00:00<00:00,  1.33file/s]\n",
      "/home/pjgonzalesp/miniforge3/envs/sunpy/lib/python3.13/site-packages/astropy/units/quantity.py:659: RuntimeWarning: divide by zero encountered in divide\n",
      "  result = super().__array_ufunc__(function, method, *arrays, **kwargs)\n",
      "/home/pjgonzalesp/miniforge3/envs/sunpy/lib/python3.13/site-packages/astropy/units/quantity.py:659: RuntimeWarning: invalid value encountered in divide\n",
      "  result = super().__array_ufunc__(function, method, *arrays, **kwargs)\n"
     ]
    },
    {
     "name": "stdout",
     "output_type": "stream",
     "text": [
      "se calculó T y EM con el modelo de abundancias:coronal\n",
      "Ahora vamos a calcular la T y EM con el modelo de abundancias:photospheric\n"
     ]
    },
    {
     "name": "stderr",
     "output_type": "stream",
     "text": [
      "Files Downloaded: 100%|██████████| 1/1 [00:00<00:00,  1.34file/s]\n",
      "2025-10-08 13:14:51 - root - INFO: Searching for GOES flares between 2008-02-19 00:00:00 and 2008-02-19 23:59:00...\n"
     ]
    },
    {
     "name": "stdout",
     "output_type": "stream",
     "text": [
      "se calculó T y EM con el modelo de abundancias:photospheric\n",
      "4. CONSTRUIR df_full\n",
      "5. añadiendo observatorio: GOES: GOES-10\n",
      "se añadió observatorio: GOES: GOES-10\n",
      "6. Descargando flares: 2008-02-19 00:00:00 - 2008-02-19 23:59:00\n"
     ]
    },
    {
     "name": "stderr",
     "output_type": "stream",
     "text": [
      "2025-10-08 13:14:52 - root - INFO: No solar flares found between 2008-02-19 00:00:00 and 2008-02-19 23:59:00.\n"
     ]
    },
    {
     "name": "stdout",
     "output_type": "stream",
     "text": [
      "No se encontraron flares para el intervalo 2008-02-19 00:00:00 - 2008-02-19 23:59:00. Saltando...\n",
      "Saltando intervalo 2008-02-19 00:00:00 - 2008-02-19 23:59:00 (sin datos/flares).\n",
      "1. Descargar datos GOES\n",
      "Buscando datos de: 2008-03-06 00:00:00\n",
      "No hay datos GOES para 2008-03-06 00:00:00 - 2008-03-06 23:59:00. Día saltado.\n",
      "Se encontraron datos  GOES para 2008-03-06 00:00:00 - 2008-03-06 23:59:00. Día saltado.\n",
      "\n",
      " Error en intervalo 2008-03-06 00:00:00 - 2008-03-06 23:59:00: 'NoneType' object has no attribute 'to_dataframe'\n",
      "1. Descargar datos GOES\n",
      "Buscando datos de: 2008-03-22 00:00:00\n",
      "Descargando datos de 2008-03-22 00:00:00...\n"
     ]
    },
    {
     "name": "stderr",
     "output_type": "stream",
     "text": [
      "Files Downloaded: 100%|██████████| 1/1 [00:00<00:00,  1.74file/s]\n"
     ]
    },
    {
     "name": "stdout",
     "output_type": "stream",
     "text": [
      "Resolution = 1 minute\n",
      "Gráfica guardada en 2025-10-07_Analysis_for_1000_days/Block_33/data_graphs/GOES_2008-03-22_00-00-00.png\n",
      "Observatorio encontrado: GOES-10\n",
      "Se encontraron datos  GOES para 2008-03-22 00:00:00 - 2008-03-22 23:59:00. Día saltado.\n",
      "\n",
      "Número de registros: 1440\n",
      "Columnas disponibles: ['xrsa', 'xrsb', 'xrsa_quality', 'xrsb_quality']\n",
      "2. Restar Background\n",
      "Plot saved at: 2025-10-07_Analysis_for_1000_days/Block_33/data_graphs/GOES_diff_linear_2008-03-22_00-00-00.png\n",
      "Plot saved at: 2025-10-07_Analysis_for_1000_days/Block_33/data_graphs/GOES_diff_log_2008-03-22_00-00-00.png\n"
     ]
    },
    {
     "name": "stderr",
     "output_type": "stream",
     "text": [
      "/tmp/ipykernel_1683080/4009928038.py:226: FutureWarning: Downcasting behavior in Series and DataFrame methods 'where', 'mask', and 'clip' is deprecated. In a future version this will not infer object dtypes or cast all-round floats to integers. Instead call result.infer_objects(copy=False) for object inference, or cast round floats explicitly. To opt-in to the future behavior, set `pd.set_option('future.no_silent_downcasting', True)`\n",
      "  df_o = df_o.clip(lower=1e-9)\n"
     ]
    },
    {
     "name": "stdout",
     "output_type": "stream",
     "text": [
      "Plot saved at: 2025-10-07_Analysis_for_1000_days/Block_33/data_graphs/GOES_diff_positive_2008-03-22_00-00-00.png\n",
      "3. USAR FUNCIÓN SUNPY calculate_t_em\n",
      "Ahora vamos a calcular la T y EM con el modelo de abundancias:coronal\n"
     ]
    },
    {
     "name": "stderr",
     "output_type": "stream",
     "text": [
      "Files Downloaded: 100%|██████████| 1/1 [00:00<00:00,  1.33file/s]\n",
      "/home/pjgonzalesp/miniforge3/envs/sunpy/lib/python3.13/site-packages/astropy/units/quantity.py:659: RuntimeWarning: divide by zero encountered in divide\n",
      "  result = super().__array_ufunc__(function, method, *arrays, **kwargs)\n",
      "/home/pjgonzalesp/miniforge3/envs/sunpy/lib/python3.13/site-packages/astropy/units/quantity.py:659: RuntimeWarning: invalid value encountered in divide\n",
      "  result = super().__array_ufunc__(function, method, *arrays, **kwargs)\n"
     ]
    },
    {
     "name": "stdout",
     "output_type": "stream",
     "text": [
      "se calculó T y EM con el modelo de abundancias:coronal\n",
      "Ahora vamos a calcular la T y EM con el modelo de abundancias:photospheric\n"
     ]
    },
    {
     "name": "stderr",
     "output_type": "stream",
     "text": [
      "Files Downloaded: 100%|██████████| 1/1 [00:00<00:00,  1.17file/s]\n",
      "2025-10-08 13:15:15 - root - INFO: Searching for GOES flares between 2008-03-22 00:00:00 and 2008-03-22 23:59:00...\n"
     ]
    },
    {
     "name": "stdout",
     "output_type": "stream",
     "text": [
      "se calculó T y EM con el modelo de abundancias:photospheric\n",
      "4. CONSTRUIR df_full\n",
      "5. añadiendo observatorio: GOES: GOES-10\n",
      "se añadió observatorio: GOES: GOES-10\n",
      "6. Descargando flares: 2008-03-22 00:00:00 - 2008-03-22 23:59:00\n"
     ]
    },
    {
     "name": "stderr",
     "output_type": "stream",
     "text": [
      "2025-10-08 13:15:15 - root - INFO: No solar flares found between 2008-03-22 00:00:00 and 2008-03-22 23:59:00.\n"
     ]
    },
    {
     "name": "stdout",
     "output_type": "stream",
     "text": [
      "No se encontraron flares para el intervalo 2008-03-22 00:00:00 - 2008-03-22 23:59:00. Saltando...\n",
      "Saltando intervalo 2008-03-22 00:00:00 - 2008-03-22 23:59:00 (sin datos/flares).\n",
      "1. Descargar datos GOES\n",
      "Buscando datos de: 2008-04-07 00:00:00\n",
      "Descargando datos de 2008-04-07 00:00:00...\n"
     ]
    },
    {
     "name": "stderr",
     "output_type": "stream",
     "text": [
      "Files Downloaded: 100%|██████████| 1/1 [00:00<00:00,  1.74file/s]\n"
     ]
    },
    {
     "name": "stdout",
     "output_type": "stream",
     "text": [
      "Resolution = 1 minute\n",
      "Gráfica guardada en 2025-10-07_Analysis_for_1000_days/Block_33/data_graphs/GOES_2008-04-07_00-00-00.png\n",
      "Observatorio encontrado: GOES-10\n",
      "Se encontraron datos  GOES para 2008-04-07 00:00:00 - 2008-04-07 23:59:00. Día saltado.\n",
      "\n",
      "Número de registros: 1440\n",
      "Columnas disponibles: ['xrsa', 'xrsb', 'xrsa_quality', 'xrsb_quality']\n",
      "2. Restar Background\n",
      "Plot saved at: 2025-10-07_Analysis_for_1000_days/Block_33/data_graphs/GOES_diff_linear_2008-04-07_00-00-00.png\n",
      "Plot saved at: 2025-10-07_Analysis_for_1000_days/Block_33/data_graphs/GOES_diff_log_2008-04-07_00-00-00.png\n"
     ]
    },
    {
     "name": "stderr",
     "output_type": "stream",
     "text": [
      "/tmp/ipykernel_1683080/4009928038.py:226: FutureWarning: Downcasting behavior in Series and DataFrame methods 'where', 'mask', and 'clip' is deprecated. In a future version this will not infer object dtypes or cast all-round floats to integers. Instead call result.infer_objects(copy=False) for object inference, or cast round floats explicitly. To opt-in to the future behavior, set `pd.set_option('future.no_silent_downcasting', True)`\n",
      "  df_o = df_o.clip(lower=1e-9)\n"
     ]
    },
    {
     "name": "stdout",
     "output_type": "stream",
     "text": [
      "Plot saved at: 2025-10-07_Analysis_for_1000_days/Block_33/data_graphs/GOES_diff_positive_2008-04-07_00-00-00.png\n",
      "3. USAR FUNCIÓN SUNPY calculate_t_em\n",
      "Ahora vamos a calcular la T y EM con el modelo de abundancias:coronal\n"
     ]
    },
    {
     "name": "stderr",
     "output_type": "stream",
     "text": [
      "Files Downloaded: 100%|██████████| 1/1 [00:00<00:00,  1.32file/s]\n",
      "/home/pjgonzalesp/miniforge3/envs/sunpy/lib/python3.13/site-packages/astropy/units/quantity.py:659: RuntimeWarning: divide by zero encountered in divide\n",
      "  result = super().__array_ufunc__(function, method, *arrays, **kwargs)\n",
      "/home/pjgonzalesp/miniforge3/envs/sunpy/lib/python3.13/site-packages/astropy/units/quantity.py:659: RuntimeWarning: invalid value encountered in divide\n",
      "  result = super().__array_ufunc__(function, method, *arrays, **kwargs)\n"
     ]
    },
    {
     "name": "stdout",
     "output_type": "stream",
     "text": [
      "se calculó T y EM con el modelo de abundancias:coronal\n",
      "Ahora vamos a calcular la T y EM con el modelo de abundancias:photospheric\n"
     ]
    },
    {
     "name": "stderr",
     "output_type": "stream",
     "text": [
      "Files Downloaded: 100%|██████████| 1/1 [00:00<00:00,  1.26file/s]\n",
      "2025-10-08 13:15:29 - root - INFO: Searching for GOES flares between 2008-04-07 00:00:00 and 2008-04-07 23:59:00...\n"
     ]
    },
    {
     "name": "stdout",
     "output_type": "stream",
     "text": [
      "se calculó T y EM con el modelo de abundancias:photospheric\n",
      "4. CONSTRUIR df_full\n",
      "5. añadiendo observatorio: GOES: GOES-10\n",
      "se añadió observatorio: GOES: GOES-10\n",
      "6. Descargando flares: 2008-04-07 00:00:00 - 2008-04-07 23:59:00\n"
     ]
    },
    {
     "name": "stderr",
     "output_type": "stream",
     "text": [
      "2025-10-08 13:15:30 - root - INFO: No solar flares found between 2008-04-07 00:00:00 and 2008-04-07 23:59:00.\n"
     ]
    },
    {
     "name": "stdout",
     "output_type": "stream",
     "text": [
      "No se encontraron flares para el intervalo 2008-04-07 00:00:00 - 2008-04-07 23:59:00. Saltando...\n",
      "Saltando intervalo 2008-04-07 00:00:00 - 2008-04-07 23:59:00 (sin datos/flares).\n",
      "1. Descargar datos GOES\n",
      "Buscando datos de: 2008-04-23 00:00:00\n",
      "Descargando datos de 2008-04-23 00:00:00...\n"
     ]
    },
    {
     "name": "stderr",
     "output_type": "stream",
     "text": [
      "Files Downloaded: 100%|██████████| 1/1 [00:00<00:00,  1.83file/s]\n"
     ]
    },
    {
     "name": "stdout",
     "output_type": "stream",
     "text": [
      "Resolution = 1 minute\n",
      "Gráfica guardada en 2025-10-07_Analysis_for_1000_days/Block_33/data_graphs/GOES_2008-04-23_00-00-00.png\n",
      "Observatorio encontrado: GOES-10\n",
      "Se encontraron datos  GOES para 2008-04-23 00:00:00 - 2008-04-23 23:59:00. Día saltado.\n",
      "\n",
      "Número de registros: 1440\n",
      "Columnas disponibles: ['xrsa', 'xrsb', 'xrsa_quality', 'xrsb_quality']\n",
      "2. Restar Background\n",
      "Plot saved at: 2025-10-07_Analysis_for_1000_days/Block_33/data_graphs/GOES_diff_linear_2008-04-23_00-00-00.png\n",
      "Plot saved at: 2025-10-07_Analysis_for_1000_days/Block_33/data_graphs/GOES_diff_log_2008-04-23_00-00-00.png\n"
     ]
    },
    {
     "name": "stderr",
     "output_type": "stream",
     "text": [
      "/tmp/ipykernel_1683080/4009928038.py:226: FutureWarning: Downcasting behavior in Series and DataFrame methods 'where', 'mask', and 'clip' is deprecated. In a future version this will not infer object dtypes or cast all-round floats to integers. Instead call result.infer_objects(copy=False) for object inference, or cast round floats explicitly. To opt-in to the future behavior, set `pd.set_option('future.no_silent_downcasting', True)`\n",
      "  df_o = df_o.clip(lower=1e-9)\n"
     ]
    },
    {
     "name": "stdout",
     "output_type": "stream",
     "text": [
      "Plot saved at: 2025-10-07_Analysis_for_1000_days/Block_33/data_graphs/GOES_diff_positive_2008-04-23_00-00-00.png\n",
      "3. USAR FUNCIÓN SUNPY calculate_t_em\n",
      "Ahora vamos a calcular la T y EM con el modelo de abundancias:coronal\n"
     ]
    },
    {
     "name": "stderr",
     "output_type": "stream",
     "text": [
      "Files Downloaded: 100%|██████████| 1/1 [00:00<00:00,  1.34file/s]\n",
      "/home/pjgonzalesp/miniforge3/envs/sunpy/lib/python3.13/site-packages/astropy/units/quantity.py:659: RuntimeWarning: divide by zero encountered in divide\n",
      "  result = super().__array_ufunc__(function, method, *arrays, **kwargs)\n",
      "/home/pjgonzalesp/miniforge3/envs/sunpy/lib/python3.13/site-packages/astropy/units/quantity.py:659: RuntimeWarning: invalid value encountered in divide\n",
      "  result = super().__array_ufunc__(function, method, *arrays, **kwargs)\n"
     ]
    },
    {
     "name": "stdout",
     "output_type": "stream",
     "text": [
      "se calculó T y EM con el modelo de abundancias:coronal\n",
      "Ahora vamos a calcular la T y EM con el modelo de abundancias:photospheric\n"
     ]
    },
    {
     "name": "stderr",
     "output_type": "stream",
     "text": [
      "Files Downloaded: 100%|██████████| 1/1 [00:00<00:00,  1.33file/s]\n",
      "2025-10-08 13:15:44 - root - INFO: Searching for GOES flares between 2008-04-23 00:00:00 and 2008-04-23 23:59:00...\n"
     ]
    },
    {
     "name": "stdout",
     "output_type": "stream",
     "text": [
      "se calculó T y EM con el modelo de abundancias:photospheric\n",
      "4. CONSTRUIR df_full\n",
      "5. añadiendo observatorio: GOES: GOES-10\n",
      "se añadió observatorio: GOES: GOES-10\n",
      "6. Descargando flares: 2008-04-23 00:00:00 - 2008-04-23 23:59:00\n"
     ]
    },
    {
     "name": "stderr",
     "output_type": "stream",
     "text": [
      "2025-10-08 13:15:45 - root - INFO: No solar flares found between 2008-04-23 00:00:00 and 2008-04-23 23:59:00.\n"
     ]
    },
    {
     "name": "stdout",
     "output_type": "stream",
     "text": [
      "No se encontraron flares para el intervalo 2008-04-23 00:00:00 - 2008-04-23 23:59:00. Saltando...\n",
      "Saltando intervalo 2008-04-23 00:00:00 - 2008-04-23 23:59:00 (sin datos/flares).\n",
      "1. Descargar datos GOES\n",
      "Buscando datos de: 2008-05-09 00:00:00\n",
      "Descargando datos de 2008-05-09 00:00:00...\n"
     ]
    },
    {
     "name": "stderr",
     "output_type": "stream",
     "text": [
      "Files Downloaded: 100%|██████████| 1/1 [00:00<00:00,  1.83file/s]\n"
     ]
    },
    {
     "name": "stdout",
     "output_type": "stream",
     "text": [
      "Resolution = 1 minute\n",
      "Gráfica guardada en 2025-10-07_Analysis_for_1000_days/Block_33/data_graphs/GOES_2008-05-09_00-00-00.png\n",
      "Observatorio encontrado: GOES-10\n",
      "Se encontraron datos  GOES para 2008-05-09 00:00:00 - 2008-05-09 23:59:00. Día saltado.\n",
      "\n",
      "Número de registros: 1440\n",
      "Columnas disponibles: ['xrsa', 'xrsb', 'xrsa_quality', 'xrsb_quality']\n",
      "2. Restar Background\n",
      "Plot saved at: 2025-10-07_Analysis_for_1000_days/Block_33/data_graphs/GOES_diff_linear_2008-05-09_00-00-00.png\n",
      "Plot saved at: 2025-10-07_Analysis_for_1000_days/Block_33/data_graphs/GOES_diff_log_2008-05-09_00-00-00.png\n"
     ]
    },
    {
     "name": "stderr",
     "output_type": "stream",
     "text": [
      "/tmp/ipykernel_1683080/4009928038.py:226: FutureWarning: Downcasting behavior in Series and DataFrame methods 'where', 'mask', and 'clip' is deprecated. In a future version this will not infer object dtypes or cast all-round floats to integers. Instead call result.infer_objects(copy=False) for object inference, or cast round floats explicitly. To opt-in to the future behavior, set `pd.set_option('future.no_silent_downcasting', True)`\n",
      "  df_o = df_o.clip(lower=1e-9)\n"
     ]
    },
    {
     "name": "stdout",
     "output_type": "stream",
     "text": [
      "Plot saved at: 2025-10-07_Analysis_for_1000_days/Block_33/data_graphs/GOES_diff_positive_2008-05-09_00-00-00.png\n",
      "3. USAR FUNCIÓN SUNPY calculate_t_em\n",
      "Ahora vamos a calcular la T y EM con el modelo de abundancias:coronal\n"
     ]
    },
    {
     "name": "stderr",
     "output_type": "stream",
     "text": [
      "Files Downloaded: 100%|██████████| 1/1 [00:01<00:00,  1.38s/file]\n",
      "/home/pjgonzalesp/miniforge3/envs/sunpy/lib/python3.13/site-packages/astropy/units/quantity.py:659: RuntimeWarning: divide by zero encountered in divide\n",
      "  result = super().__array_ufunc__(function, method, *arrays, **kwargs)\n",
      "/home/pjgonzalesp/miniforge3/envs/sunpy/lib/python3.13/site-packages/astropy/units/quantity.py:659: RuntimeWarning: invalid value encountered in divide\n",
      "  result = super().__array_ufunc__(function, method, *arrays, **kwargs)\n"
     ]
    },
    {
     "name": "stdout",
     "output_type": "stream",
     "text": [
      "se calculó T y EM con el modelo de abundancias:coronal\n",
      "Ahora vamos a calcular la T y EM con el modelo de abundancias:photospheric\n"
     ]
    },
    {
     "name": "stderr",
     "output_type": "stream",
     "text": [
      "Files Downloaded: 100%|██████████| 1/1 [00:00<00:00,  1.33file/s]\n",
      "2025-10-08 13:16:00 - root - INFO: Searching for GOES flares between 2008-05-09 00:00:00 and 2008-05-09 23:59:00...\n"
     ]
    },
    {
     "name": "stdout",
     "output_type": "stream",
     "text": [
      "se calculó T y EM con el modelo de abundancias:photospheric\n",
      "4. CONSTRUIR df_full\n",
      "5. añadiendo observatorio: GOES: GOES-10\n",
      "se añadió observatorio: GOES: GOES-10\n",
      "6. Descargando flares: 2008-05-09 00:00:00 - 2008-05-09 23:59:00\n"
     ]
    },
    {
     "name": "stderr",
     "output_type": "stream",
     "text": [
      "2025-10-08 13:16:01 - root - INFO: No solar flares found between 2008-05-09 00:00:00 and 2008-05-09 23:59:00.\n"
     ]
    },
    {
     "name": "stdout",
     "output_type": "stream",
     "text": [
      "No se encontraron flares para el intervalo 2008-05-09 00:00:00 - 2008-05-09 23:59:00. Saltando...\n",
      "Saltando intervalo 2008-05-09 00:00:00 - 2008-05-09 23:59:00 (sin datos/flares).\n",
      "1. Descargar datos GOES\n",
      "Buscando datos de: 2008-05-25 00:00:00\n",
      "Descargando datos de 2008-05-25 00:00:00...\n"
     ]
    },
    {
     "name": "stderr",
     "output_type": "stream",
     "text": [
      "Files Downloaded: 100%|██████████| 1/1 [00:00<00:00,  1.83file/s]\n"
     ]
    },
    {
     "name": "stdout",
     "output_type": "stream",
     "text": [
      "Resolution = 1 minute\n",
      "Gráfica guardada en 2025-10-07_Analysis_for_1000_days/Block_33/data_graphs/GOES_2008-05-25_00-00-00.png\n",
      "Observatorio encontrado: GOES-10\n",
      "Se encontraron datos  GOES para 2008-05-25 00:00:00 - 2008-05-25 23:59:00. Día saltado.\n",
      "\n",
      "Número de registros: 1440\n",
      "Columnas disponibles: ['xrsa', 'xrsb', 'xrsa_quality', 'xrsb_quality']\n",
      "2. Restar Background\n",
      "Plot saved at: 2025-10-07_Analysis_for_1000_days/Block_33/data_graphs/GOES_diff_linear_2008-05-25_00-00-00.png\n",
      "Plot saved at: 2025-10-07_Analysis_for_1000_days/Block_33/data_graphs/GOES_diff_log_2008-05-25_00-00-00.png\n"
     ]
    },
    {
     "name": "stderr",
     "output_type": "stream",
     "text": [
      "/tmp/ipykernel_1683080/4009928038.py:226: FutureWarning: Downcasting behavior in Series and DataFrame methods 'where', 'mask', and 'clip' is deprecated. In a future version this will not infer object dtypes or cast all-round floats to integers. Instead call result.infer_objects(copy=False) for object inference, or cast round floats explicitly. To opt-in to the future behavior, set `pd.set_option('future.no_silent_downcasting', True)`\n",
      "  df_o = df_o.clip(lower=1e-9)\n"
     ]
    },
    {
     "name": "stdout",
     "output_type": "stream",
     "text": [
      "Plot saved at: 2025-10-07_Analysis_for_1000_days/Block_33/data_graphs/GOES_diff_positive_2008-05-25_00-00-00.png\n",
      "3. USAR FUNCIÓN SUNPY calculate_t_em\n",
      "Ahora vamos a calcular la T y EM con el modelo de abundancias:coronal\n"
     ]
    },
    {
     "name": "stderr",
     "output_type": "stream",
     "text": [
      "Files Downloaded: 100%|██████████| 1/1 [00:00<00:00,  1.32file/s]\n",
      "/home/pjgonzalesp/miniforge3/envs/sunpy/lib/python3.13/site-packages/astropy/units/quantity.py:659: RuntimeWarning: divide by zero encountered in divide\n",
      "  result = super().__array_ufunc__(function, method, *arrays, **kwargs)\n",
      "/home/pjgonzalesp/miniforge3/envs/sunpy/lib/python3.13/site-packages/astropy/units/quantity.py:659: RuntimeWarning: invalid value encountered in divide\n",
      "  result = super().__array_ufunc__(function, method, *arrays, **kwargs)\n"
     ]
    },
    {
     "name": "stdout",
     "output_type": "stream",
     "text": [
      "se calculó T y EM con el modelo de abundancias:coronal\n",
      "Ahora vamos a calcular la T y EM con el modelo de abundancias:photospheric\n"
     ]
    },
    {
     "name": "stderr",
     "output_type": "stream",
     "text": [
      "Files Downloaded: 100%|██████████| 1/1 [00:00<00:00,  1.31file/s]\n",
      "2025-10-08 13:16:15 - root - INFO: Searching for GOES flares between 2008-05-25 00:00:00 and 2008-05-25 23:59:00...\n"
     ]
    },
    {
     "name": "stdout",
     "output_type": "stream",
     "text": [
      "se calculó T y EM con el modelo de abundancias:photospheric\n",
      "4. CONSTRUIR df_full\n",
      "5. añadiendo observatorio: GOES: GOES-10\n",
      "se añadió observatorio: GOES: GOES-10\n",
      "6. Descargando flares: 2008-05-25 00:00:00 - 2008-05-25 23:59:00\n"
     ]
    },
    {
     "name": "stderr",
     "output_type": "stream",
     "text": [
      "2025-10-08 13:16:16 - root - INFO: No solar flares found between 2008-05-25 00:00:00 and 2008-05-25 23:59:00.\n"
     ]
    },
    {
     "name": "stdout",
     "output_type": "stream",
     "text": [
      "No se encontraron flares para el intervalo 2008-05-25 00:00:00 - 2008-05-25 23:59:00. Saltando...\n",
      "Saltando intervalo 2008-05-25 00:00:00 - 2008-05-25 23:59:00 (sin datos/flares).\n",
      "1. Descargar datos GOES\n",
      "Buscando datos de: 2008-06-10 00:00:00\n",
      "Descargando datos de 2008-06-10 00:00:00...\n"
     ]
    },
    {
     "name": "stderr",
     "output_type": "stream",
     "text": [
      "Files Downloaded: 100%|██████████| 1/1 [00:00<00:00,  1.67file/s]\n"
     ]
    },
    {
     "name": "stdout",
     "output_type": "stream",
     "text": [
      "Resolution = 1 minute\n",
      "Gráfica guardada en 2025-10-07_Analysis_for_1000_days/Block_33/data_graphs/GOES_2008-06-10_00-00-00.png\n",
      "Observatorio encontrado: GOES-10\n",
      "Se encontraron datos  GOES para 2008-06-10 00:00:00 - 2008-06-10 23:59:00. Día saltado.\n",
      "\n",
      "Número de registros: 1440\n",
      "Columnas disponibles: ['xrsa', 'xrsb', 'xrsa_quality', 'xrsb_quality']\n",
      "2. Restar Background\n",
      "Plot saved at: 2025-10-07_Analysis_for_1000_days/Block_33/data_graphs/GOES_diff_linear_2008-06-10_00-00-00.png\n",
      "Plot saved at: 2025-10-07_Analysis_for_1000_days/Block_33/data_graphs/GOES_diff_log_2008-06-10_00-00-00.png\n"
     ]
    },
    {
     "name": "stderr",
     "output_type": "stream",
     "text": [
      "/tmp/ipykernel_1683080/4009928038.py:226: FutureWarning: Downcasting behavior in Series and DataFrame methods 'where', 'mask', and 'clip' is deprecated. In a future version this will not infer object dtypes or cast all-round floats to integers. Instead call result.infer_objects(copy=False) for object inference, or cast round floats explicitly. To opt-in to the future behavior, set `pd.set_option('future.no_silent_downcasting', True)`\n",
      "  df_o = df_o.clip(lower=1e-9)\n"
     ]
    },
    {
     "name": "stdout",
     "output_type": "stream",
     "text": [
      "Plot saved at: 2025-10-07_Analysis_for_1000_days/Block_33/data_graphs/GOES_diff_positive_2008-06-10_00-00-00.png\n",
      "3. USAR FUNCIÓN SUNPY calculate_t_em\n",
      "Ahora vamos a calcular la T y EM con el modelo de abundancias:coronal\n"
     ]
    },
    {
     "name": "stderr",
     "output_type": "stream",
     "text": [
      "Files Downloaded: 100%|██████████| 1/1 [00:00<00:00,  1.27file/s]\n",
      "/home/pjgonzalesp/miniforge3/envs/sunpy/lib/python3.13/site-packages/astropy/units/quantity.py:659: RuntimeWarning: divide by zero encountered in divide\n",
      "  result = super().__array_ufunc__(function, method, *arrays, **kwargs)\n",
      "/home/pjgonzalesp/miniforge3/envs/sunpy/lib/python3.13/site-packages/astropy/units/quantity.py:659: RuntimeWarning: invalid value encountered in divide\n",
      "  result = super().__array_ufunc__(function, method, *arrays, **kwargs)\n"
     ]
    },
    {
     "name": "stdout",
     "output_type": "stream",
     "text": [
      "se calculó T y EM con el modelo de abundancias:coronal\n",
      "Ahora vamos a calcular la T y EM con el modelo de abundancias:photospheric\n"
     ]
    },
    {
     "name": "stderr",
     "output_type": "stream",
     "text": [
      "Files Downloaded: 100%|██████████| 1/1 [00:00<00:00,  1.14file/s]\n",
      "2025-10-08 13:16:29 - root - INFO: Searching for GOES flares between 2008-06-10 00:00:00 and 2008-06-10 23:59:00...\n"
     ]
    },
    {
     "name": "stdout",
     "output_type": "stream",
     "text": [
      "se calculó T y EM con el modelo de abundancias:photospheric\n",
      "4. CONSTRUIR df_full\n",
      "5. añadiendo observatorio: GOES: GOES-10\n",
      "se añadió observatorio: GOES: GOES-10\n",
      "6. Descargando flares: 2008-06-10 00:00:00 - 2008-06-10 23:59:00\n"
     ]
    },
    {
     "name": "stderr",
     "output_type": "stream",
     "text": [
      "2025-10-08 13:16:30 - root - INFO: No solar flares found between 2008-06-10 00:00:00 and 2008-06-10 23:59:00.\n"
     ]
    },
    {
     "name": "stdout",
     "output_type": "stream",
     "text": [
      "No se encontraron flares para el intervalo 2008-06-10 00:00:00 - 2008-06-10 23:59:00. Saltando...\n",
      "Saltando intervalo 2008-06-10 00:00:00 - 2008-06-10 23:59:00 (sin datos/flares).\n",
      "1. Descargar datos GOES\n",
      "Buscando datos de: 2008-06-26 00:00:00\n",
      "Descargando datos de 2008-06-26 00:00:00...\n"
     ]
    },
    {
     "name": "stderr",
     "output_type": "stream",
     "text": [
      "Files Downloaded: 100%|██████████| 1/1 [00:00<00:00,  1.83file/s]\n"
     ]
    },
    {
     "name": "stdout",
     "output_type": "stream",
     "text": [
      "Resolution = 1 minute\n",
      "Gráfica guardada en 2025-10-07_Analysis_for_1000_days/Block_33/data_graphs/GOES_2008-06-26_00-00-00.png\n",
      "Observatorio encontrado: GOES-10\n",
      "Se encontraron datos  GOES para 2008-06-26 00:00:00 - 2008-06-26 23:59:00. Día saltado.\n",
      "\n",
      "Número de registros: 1440\n",
      "Columnas disponibles: ['xrsa', 'xrsb', 'xrsa_quality', 'xrsb_quality']\n",
      "2. Restar Background\n",
      "Plot saved at: 2025-10-07_Analysis_for_1000_days/Block_33/data_graphs/GOES_diff_linear_2008-06-26_00-00-00.png\n",
      "Plot saved at: 2025-10-07_Analysis_for_1000_days/Block_33/data_graphs/GOES_diff_log_2008-06-26_00-00-00.png\n"
     ]
    },
    {
     "name": "stderr",
     "output_type": "stream",
     "text": [
      "/tmp/ipykernel_1683080/4009928038.py:226: FutureWarning: Downcasting behavior in Series and DataFrame methods 'where', 'mask', and 'clip' is deprecated. In a future version this will not infer object dtypes or cast all-round floats to integers. Instead call result.infer_objects(copy=False) for object inference, or cast round floats explicitly. To opt-in to the future behavior, set `pd.set_option('future.no_silent_downcasting', True)`\n",
      "  df_o = df_o.clip(lower=1e-9)\n"
     ]
    },
    {
     "name": "stdout",
     "output_type": "stream",
     "text": [
      "Plot saved at: 2025-10-07_Analysis_for_1000_days/Block_33/data_graphs/GOES_diff_positive_2008-06-26_00-00-00.png\n",
      "3. USAR FUNCIÓN SUNPY calculate_t_em\n",
      "Ahora vamos a calcular la T y EM con el modelo de abundancias:coronal\n"
     ]
    },
    {
     "name": "stderr",
     "output_type": "stream",
     "text": [
      "Files Downloaded: 100%|██████████| 1/1 [00:00<00:00,  1.17file/s]\n",
      "/home/pjgonzalesp/miniforge3/envs/sunpy/lib/python3.13/site-packages/astropy/units/quantity.py:659: RuntimeWarning: divide by zero encountered in divide\n",
      "  result = super().__array_ufunc__(function, method, *arrays, **kwargs)\n",
      "/home/pjgonzalesp/miniforge3/envs/sunpy/lib/python3.13/site-packages/astropy/units/quantity.py:659: RuntimeWarning: invalid value encountered in divide\n",
      "  result = super().__array_ufunc__(function, method, *arrays, **kwargs)\n"
     ]
    },
    {
     "name": "stdout",
     "output_type": "stream",
     "text": [
      "se calculó T y EM con el modelo de abundancias:coronal\n",
      "Ahora vamos a calcular la T y EM con el modelo de abundancias:photospheric\n"
     ]
    },
    {
     "name": "stderr",
     "output_type": "stream",
     "text": [
      "Files Downloaded: 100%|██████████| 1/1 [00:00<00:00,  1.34file/s]\n",
      "2025-10-08 13:16:44 - root - INFO: Searching for GOES flares between 2008-06-26 00:00:00 and 2008-06-26 23:59:00...\n"
     ]
    },
    {
     "name": "stdout",
     "output_type": "stream",
     "text": [
      "se calculó T y EM con el modelo de abundancias:photospheric\n",
      "4. CONSTRUIR df_full\n",
      "5. añadiendo observatorio: GOES: GOES-10\n",
      "se añadió observatorio: GOES: GOES-10\n",
      "6. Descargando flares: 2008-06-26 00:00:00 - 2008-06-26 23:59:00\n"
     ]
    },
    {
     "name": "stderr",
     "output_type": "stream",
     "text": [
      "2025-10-08 13:16:45 - root - INFO: No solar flares found between 2008-06-26 00:00:00 and 2008-06-26 23:59:00.\n"
     ]
    },
    {
     "name": "stdout",
     "output_type": "stream",
     "text": [
      "No se encontraron flares para el intervalo 2008-06-26 00:00:00 - 2008-06-26 23:59:00. Saltando...\n",
      "Saltando intervalo 2008-06-26 00:00:00 - 2008-06-26 23:59:00 (sin datos/flares).\n",
      "1. Descargar datos GOES\n",
      "Buscando datos de: 2008-07-12 00:00:00\n",
      "Descargando datos de 2008-07-12 00:00:00...\n"
     ]
    },
    {
     "name": "stderr",
     "output_type": "stream",
     "text": [
      "Files Downloaded: 100%|██████████| 1/1 [00:00<00:00,  1.83file/s]\n"
     ]
    },
    {
     "name": "stdout",
     "output_type": "stream",
     "text": [
      "Resolution = 1 minute\n",
      "Gráfica guardada en 2025-10-07_Analysis_for_1000_days/Block_33/data_graphs/GOES_2008-07-12_00-00-00.png\n",
      "Observatorio encontrado: GOES-10\n",
      "Se encontraron datos  GOES para 2008-07-12 00:00:00 - 2008-07-12 23:59:00. Día saltado.\n",
      "\n",
      "Número de registros: 1440\n",
      "Columnas disponibles: ['xrsa', 'xrsb', 'xrsa_quality', 'xrsb_quality']\n",
      "2. Restar Background\n",
      "Plot saved at: 2025-10-07_Analysis_for_1000_days/Block_33/data_graphs/GOES_diff_linear_2008-07-12_00-00-00.png\n",
      "Plot saved at: 2025-10-07_Analysis_for_1000_days/Block_33/data_graphs/GOES_diff_log_2008-07-12_00-00-00.png\n"
     ]
    },
    {
     "name": "stderr",
     "output_type": "stream",
     "text": [
      "/tmp/ipykernel_1683080/4009928038.py:226: FutureWarning: Downcasting behavior in Series and DataFrame methods 'where', 'mask', and 'clip' is deprecated. In a future version this will not infer object dtypes or cast all-round floats to integers. Instead call result.infer_objects(copy=False) for object inference, or cast round floats explicitly. To opt-in to the future behavior, set `pd.set_option('future.no_silent_downcasting', True)`\n",
      "  df_o = df_o.clip(lower=1e-9)\n"
     ]
    },
    {
     "name": "stdout",
     "output_type": "stream",
     "text": [
      "Plot saved at: 2025-10-07_Analysis_for_1000_days/Block_33/data_graphs/GOES_diff_positive_2008-07-12_00-00-00.png\n",
      "3. USAR FUNCIÓN SUNPY calculate_t_em\n",
      "Ahora vamos a calcular la T y EM con el modelo de abundancias:coronal\n"
     ]
    },
    {
     "name": "stderr",
     "output_type": "stream",
     "text": [
      "Files Downloaded: 100%|██████████| 1/1 [00:00<00:00,  1.33file/s]\n",
      "/home/pjgonzalesp/miniforge3/envs/sunpy/lib/python3.13/site-packages/astropy/units/quantity.py:659: RuntimeWarning: divide by zero encountered in divide\n",
      "  result = super().__array_ufunc__(function, method, *arrays, **kwargs)\n",
      "/home/pjgonzalesp/miniforge3/envs/sunpy/lib/python3.13/site-packages/astropy/units/quantity.py:659: RuntimeWarning: invalid value encountered in divide\n",
      "  result = super().__array_ufunc__(function, method, *arrays, **kwargs)\n"
     ]
    },
    {
     "name": "stdout",
     "output_type": "stream",
     "text": [
      "se calculó T y EM con el modelo de abundancias:coronal\n",
      "Ahora vamos a calcular la T y EM con el modelo de abundancias:photospheric\n"
     ]
    },
    {
     "name": "stderr",
     "output_type": "stream",
     "text": [
      "Files Downloaded: 100%|██████████| 1/1 [00:02<00:00,  2.01s/file]\n",
      "2025-10-08 13:17:00 - root - INFO: Searching for GOES flares between 2008-07-12 00:00:00 and 2008-07-12 23:59:00...\n"
     ]
    },
    {
     "name": "stdout",
     "output_type": "stream",
     "text": [
      "se calculó T y EM con el modelo de abundancias:photospheric\n",
      "4. CONSTRUIR df_full\n",
      "5. añadiendo observatorio: GOES: GOES-10\n",
      "se añadió observatorio: GOES: GOES-10\n",
      "6. Descargando flares: 2008-07-12 00:00:00 - 2008-07-12 23:59:00\n"
     ]
    },
    {
     "name": "stderr",
     "output_type": "stream",
     "text": [
      "2025-10-08 13:17:01 - root - INFO: No solar flares found between 2008-07-12 00:00:00 and 2008-07-12 23:59:00.\n"
     ]
    },
    {
     "name": "stdout",
     "output_type": "stream",
     "text": [
      "No se encontraron flares para el intervalo 2008-07-12 00:00:00 - 2008-07-12 23:59:00. Saltando...\n",
      "Saltando intervalo 2008-07-12 00:00:00 - 2008-07-12 23:59:00 (sin datos/flares).\n",
      "1. Descargar datos GOES\n",
      "Buscando datos de: 2008-07-28 00:00:00\n",
      "Descargando datos de 2008-07-28 00:00:00...\n"
     ]
    },
    {
     "name": "stderr",
     "output_type": "stream",
     "text": [
      "Files Downloaded: 100%|██████████| 1/1 [00:00<00:00,  1.83file/s]\n"
     ]
    },
    {
     "name": "stdout",
     "output_type": "stream",
     "text": [
      "Resolution = 1 minute\n",
      "Gráfica guardada en 2025-10-07_Analysis_for_1000_days/Block_33/data_graphs/GOES_2008-07-28_00-00-00.png\n",
      "Observatorio encontrado: GOES-10\n",
      "Se encontraron datos  GOES para 2008-07-28 00:00:00 - 2008-07-28 23:59:00. Día saltado.\n",
      "\n",
      "Número de registros: 1440\n",
      "Columnas disponibles: ['xrsa', 'xrsb', 'xrsa_quality', 'xrsb_quality']\n",
      "2. Restar Background\n",
      "Plot saved at: 2025-10-07_Analysis_for_1000_days/Block_33/data_graphs/GOES_diff_linear_2008-07-28_00-00-00.png\n",
      "Plot saved at: 2025-10-07_Analysis_for_1000_days/Block_33/data_graphs/GOES_diff_log_2008-07-28_00-00-00.png\n"
     ]
    },
    {
     "name": "stderr",
     "output_type": "stream",
     "text": [
      "/tmp/ipykernel_1683080/4009928038.py:226: FutureWarning: Downcasting behavior in Series and DataFrame methods 'where', 'mask', and 'clip' is deprecated. In a future version this will not infer object dtypes or cast all-round floats to integers. Instead call result.infer_objects(copy=False) for object inference, or cast round floats explicitly. To opt-in to the future behavior, set `pd.set_option('future.no_silent_downcasting', True)`\n",
      "  df_o = df_o.clip(lower=1e-9)\n"
     ]
    },
    {
     "name": "stdout",
     "output_type": "stream",
     "text": [
      "Plot saved at: 2025-10-07_Analysis_for_1000_days/Block_33/data_graphs/GOES_diff_positive_2008-07-28_00-00-00.png\n",
      "3. USAR FUNCIÓN SUNPY calculate_t_em\n",
      "Ahora vamos a calcular la T y EM con el modelo de abundancias:coronal\n"
     ]
    },
    {
     "name": "stderr",
     "output_type": "stream",
     "text": [
      "Files Downloaded: 100%|██████████| 1/1 [00:00<00:00,  1.32file/s]\n",
      "/home/pjgonzalesp/miniforge3/envs/sunpy/lib/python3.13/site-packages/astropy/units/quantity.py:659: RuntimeWarning: divide by zero encountered in divide\n",
      "  result = super().__array_ufunc__(function, method, *arrays, **kwargs)\n",
      "/home/pjgonzalesp/miniforge3/envs/sunpy/lib/python3.13/site-packages/astropy/units/quantity.py:659: RuntimeWarning: invalid value encountered in divide\n",
      "  result = super().__array_ufunc__(function, method, *arrays, **kwargs)\n"
     ]
    },
    {
     "name": "stdout",
     "output_type": "stream",
     "text": [
      "se calculó T y EM con el modelo de abundancias:coronal\n",
      "Ahora vamos a calcular la T y EM con el modelo de abundancias:photospheric\n"
     ]
    },
    {
     "name": "stderr",
     "output_type": "stream",
     "text": [
      "Files Downloaded: 100%|██████████| 1/1 [00:00<00:00,  1.34file/s]\n",
      "2025-10-08 13:17:14 - root - INFO: Searching for GOES flares between 2008-07-28 00:00:00 and 2008-07-28 23:59:00...\n"
     ]
    },
    {
     "name": "stdout",
     "output_type": "stream",
     "text": [
      "se calculó T y EM con el modelo de abundancias:photospheric\n",
      "4. CONSTRUIR df_full\n",
      "5. añadiendo observatorio: GOES: GOES-10\n",
      "se añadió observatorio: GOES: GOES-10\n",
      "6. Descargando flares: 2008-07-28 00:00:00 - 2008-07-28 23:59:00\n"
     ]
    },
    {
     "name": "stderr",
     "output_type": "stream",
     "text": [
      "2025-10-08 13:17:15 - root - INFO: No solar flares found between 2008-07-28 00:00:00 and 2008-07-28 23:59:00.\n"
     ]
    },
    {
     "name": "stdout",
     "output_type": "stream",
     "text": [
      "No se encontraron flares para el intervalo 2008-07-28 00:00:00 - 2008-07-28 23:59:00. Saltando...\n",
      "Saltando intervalo 2008-07-28 00:00:00 - 2008-07-28 23:59:00 (sin datos/flares).\n",
      "1. Descargar datos GOES\n",
      "Buscando datos de: 2008-08-13 00:00:00\n",
      "Descargando datos de 2008-08-13 00:00:00...\n"
     ]
    },
    {
     "name": "stderr",
     "output_type": "stream",
     "text": [
      "Files Downloaded: 100%|██████████| 1/1 [00:00<00:00,  1.81file/s]\n"
     ]
    },
    {
     "name": "stdout",
     "output_type": "stream",
     "text": [
      "Resolution = 1 minute\n",
      "Gráfica guardada en 2025-10-07_Analysis_for_1000_days/Block_33/data_graphs/GOES_2008-08-13_00-00-00.png\n",
      "Observatorio encontrado: GOES-10\n",
      "Se encontraron datos  GOES para 2008-08-13 00:00:00 - 2008-08-13 23:59:00. Día saltado.\n",
      "\n",
      "Número de registros: 1440\n",
      "Columnas disponibles: ['xrsa', 'xrsb', 'xrsa_quality', 'xrsb_quality']\n",
      "2. Restar Background\n",
      "Plot saved at: 2025-10-07_Analysis_for_1000_days/Block_33/data_graphs/GOES_diff_linear_2008-08-13_00-00-00.png\n",
      "Plot saved at: 2025-10-07_Analysis_for_1000_days/Block_33/data_graphs/GOES_diff_log_2008-08-13_00-00-00.png\n"
     ]
    },
    {
     "name": "stderr",
     "output_type": "stream",
     "text": [
      "/tmp/ipykernel_1683080/4009928038.py:226: FutureWarning: Downcasting behavior in Series and DataFrame methods 'where', 'mask', and 'clip' is deprecated. In a future version this will not infer object dtypes or cast all-round floats to integers. Instead call result.infer_objects(copy=False) for object inference, or cast round floats explicitly. To opt-in to the future behavior, set `pd.set_option('future.no_silent_downcasting', True)`\n",
      "  df_o = df_o.clip(lower=1e-9)\n"
     ]
    },
    {
     "name": "stdout",
     "output_type": "stream",
     "text": [
      "Plot saved at: 2025-10-07_Analysis_for_1000_days/Block_33/data_graphs/GOES_diff_positive_2008-08-13_00-00-00.png\n",
      "3. USAR FUNCIÓN SUNPY calculate_t_em\n",
      "Ahora vamos a calcular la T y EM con el modelo de abundancias:coronal\n"
     ]
    },
    {
     "name": "stderr",
     "output_type": "stream",
     "text": [
      "Files Downloaded: 100%|██████████| 1/1 [00:00<00:00,  1.33file/s]\n",
      "/home/pjgonzalesp/miniforge3/envs/sunpy/lib/python3.13/site-packages/astropy/units/quantity.py:659: RuntimeWarning: divide by zero encountered in divide\n",
      "  result = super().__array_ufunc__(function, method, *arrays, **kwargs)\n",
      "/home/pjgonzalesp/miniforge3/envs/sunpy/lib/python3.13/site-packages/astropy/units/quantity.py:659: RuntimeWarning: invalid value encountered in divide\n",
      "  result = super().__array_ufunc__(function, method, *arrays, **kwargs)\n"
     ]
    },
    {
     "name": "stdout",
     "output_type": "stream",
     "text": [
      "se calculó T y EM con el modelo de abundancias:coronal\n",
      "Ahora vamos a calcular la T y EM con el modelo de abundancias:photospheric\n"
     ]
    },
    {
     "name": "stderr",
     "output_type": "stream",
     "text": [
      "Files Downloaded: 100%|██████████| 1/1 [00:00<00:00,  1.30file/s]\n",
      "2025-10-08 13:17:28 - root - INFO: Searching for GOES flares between 2008-08-13 00:00:00 and 2008-08-13 23:59:00...\n"
     ]
    },
    {
     "name": "stdout",
     "output_type": "stream",
     "text": [
      "se calculó T y EM con el modelo de abundancias:photospheric\n",
      "4. CONSTRUIR df_full\n",
      "5. añadiendo observatorio: GOES: GOES-10\n",
      "se añadió observatorio: GOES: GOES-10\n",
      "6. Descargando flares: 2008-08-13 00:00:00 - 2008-08-13 23:59:00\n"
     ]
    },
    {
     "name": "stderr",
     "output_type": "stream",
     "text": [
      "2025-10-08 13:17:29 - root - INFO: No solar flares found between 2008-08-13 00:00:00 and 2008-08-13 23:59:00.\n"
     ]
    },
    {
     "name": "stdout",
     "output_type": "stream",
     "text": [
      "No se encontraron flares para el intervalo 2008-08-13 00:00:00 - 2008-08-13 23:59:00. Saltando...\n",
      "Saltando intervalo 2008-08-13 00:00:00 - 2008-08-13 23:59:00 (sin datos/flares).\n",
      "1. Descargar datos GOES\n",
      "Buscando datos de: 2008-08-29 00:00:00\n",
      "Descargando datos de 2008-08-29 00:00:00...\n"
     ]
    },
    {
     "name": "stderr",
     "output_type": "stream",
     "text": [
      "Files Downloaded: 100%|██████████| 1/1 [00:00<00:00,  1.83file/s]\n"
     ]
    },
    {
     "name": "stdout",
     "output_type": "stream",
     "text": [
      "Resolution = 1 minute\n",
      "Gráfica guardada en 2025-10-07_Analysis_for_1000_days/Block_33/data_graphs/GOES_2008-08-29_00-00-00.png\n",
      "Observatorio encontrado: GOES-10\n",
      "Se encontraron datos  GOES para 2008-08-29 00:00:00 - 2008-08-29 23:59:00. Día saltado.\n",
      "\n",
      "Número de registros: 1440\n",
      "Columnas disponibles: ['xrsa', 'xrsb', 'xrsa_quality', 'xrsb_quality']\n",
      "2. Restar Background\n",
      "Plot saved at: 2025-10-07_Analysis_for_1000_days/Block_33/data_graphs/GOES_diff_linear_2008-08-29_00-00-00.png\n",
      "Plot saved at: 2025-10-07_Analysis_for_1000_days/Block_33/data_graphs/GOES_diff_log_2008-08-29_00-00-00.png\n"
     ]
    },
    {
     "name": "stderr",
     "output_type": "stream",
     "text": [
      "/tmp/ipykernel_1683080/4009928038.py:226: FutureWarning: Downcasting behavior in Series and DataFrame methods 'where', 'mask', and 'clip' is deprecated. In a future version this will not infer object dtypes or cast all-round floats to integers. Instead call result.infer_objects(copy=False) for object inference, or cast round floats explicitly. To opt-in to the future behavior, set `pd.set_option('future.no_silent_downcasting', True)`\n",
      "  df_o = df_o.clip(lower=1e-9)\n"
     ]
    },
    {
     "name": "stdout",
     "output_type": "stream",
     "text": [
      "Plot saved at: 2025-10-07_Analysis_for_1000_days/Block_33/data_graphs/GOES_diff_positive_2008-08-29_00-00-00.png\n",
      "3. USAR FUNCIÓN SUNPY calculate_t_em\n",
      "Ahora vamos a calcular la T y EM con el modelo de abundancias:coronal\n"
     ]
    },
    {
     "name": "stderr",
     "output_type": "stream",
     "text": [
      "Files Downloaded: 100%|██████████| 1/1 [00:00<00:00,  1.28file/s]\n",
      "/home/pjgonzalesp/miniforge3/envs/sunpy/lib/python3.13/site-packages/astropy/units/quantity.py:659: RuntimeWarning: divide by zero encountered in divide\n",
      "  result = super().__array_ufunc__(function, method, *arrays, **kwargs)\n",
      "/home/pjgonzalesp/miniforge3/envs/sunpy/lib/python3.13/site-packages/astropy/units/quantity.py:659: RuntimeWarning: invalid value encountered in divide\n",
      "  result = super().__array_ufunc__(function, method, *arrays, **kwargs)\n"
     ]
    },
    {
     "name": "stdout",
     "output_type": "stream",
     "text": [
      "se calculó T y EM con el modelo de abundancias:coronal\n",
      "Ahora vamos a calcular la T y EM con el modelo de abundancias:photospheric\n"
     ]
    },
    {
     "name": "stderr",
     "output_type": "stream",
     "text": [
      "Files Downloaded: 100%|██████████| 1/1 [00:02<00:00,  2.50s/file]\n",
      "2025-10-08 13:17:44 - root - INFO: Searching for GOES flares between 2008-08-29 00:00:00 and 2008-08-29 23:59:00...\n"
     ]
    },
    {
     "name": "stdout",
     "output_type": "stream",
     "text": [
      "se calculó T y EM con el modelo de abundancias:photospheric\n",
      "4. CONSTRUIR df_full\n",
      "5. añadiendo observatorio: GOES: GOES-10\n",
      "se añadió observatorio: GOES: GOES-10\n",
      "6. Descargando flares: 2008-08-29 00:00:00 - 2008-08-29 23:59:00\n"
     ]
    },
    {
     "name": "stderr",
     "output_type": "stream",
     "text": [
      "2025-10-08 13:17:45 - root - INFO: No solar flares found between 2008-08-29 00:00:00 and 2008-08-29 23:59:00.\n"
     ]
    },
    {
     "name": "stdout",
     "output_type": "stream",
     "text": [
      "No se encontraron flares para el intervalo 2008-08-29 00:00:00 - 2008-08-29 23:59:00. Saltando...\n",
      "Saltando intervalo 2008-08-29 00:00:00 - 2008-08-29 23:59:00 (sin datos/flares).\n",
      "1. Descargar datos GOES\n",
      "Buscando datos de: 2008-09-14 00:00:00\n",
      "Descargando datos de 2008-09-14 00:00:00...\n"
     ]
    },
    {
     "name": "stderr",
     "output_type": "stream",
     "text": [
      "Files Downloaded: 100%|██████████| 1/1 [00:00<00:00,  1.72file/s]\n"
     ]
    },
    {
     "name": "stdout",
     "output_type": "stream",
     "text": [
      "Resolution = 1 minute\n",
      "Gráfica guardada en 2025-10-07_Analysis_for_1000_days/Block_33/data_graphs/GOES_2008-09-14_00-00-00.png\n",
      "Observatorio encontrado: GOES-10\n",
      "Se encontraron datos  GOES para 2008-09-14 00:00:00 - 2008-09-14 23:59:00. Día saltado.\n",
      "\n",
      "Número de registros: 1440\n",
      "Columnas disponibles: ['xrsa', 'xrsb', 'xrsa_quality', 'xrsb_quality']\n",
      "2. Restar Background\n",
      "Plot saved at: 2025-10-07_Analysis_for_1000_days/Block_33/data_graphs/GOES_diff_linear_2008-09-14_00-00-00.png\n",
      "Plot saved at: 2025-10-07_Analysis_for_1000_days/Block_33/data_graphs/GOES_diff_log_2008-09-14_00-00-00.png\n"
     ]
    },
    {
     "name": "stderr",
     "output_type": "stream",
     "text": [
      "/tmp/ipykernel_1683080/4009928038.py:226: FutureWarning: Downcasting behavior in Series and DataFrame methods 'where', 'mask', and 'clip' is deprecated. In a future version this will not infer object dtypes or cast all-round floats to integers. Instead call result.infer_objects(copy=False) for object inference, or cast round floats explicitly. To opt-in to the future behavior, set `pd.set_option('future.no_silent_downcasting', True)`\n",
      "  df_o = df_o.clip(lower=1e-9)\n"
     ]
    },
    {
     "name": "stdout",
     "output_type": "stream",
     "text": [
      "Plot saved at: 2025-10-07_Analysis_for_1000_days/Block_33/data_graphs/GOES_diff_positive_2008-09-14_00-00-00.png\n",
      "3. USAR FUNCIÓN SUNPY calculate_t_em\n",
      "Ahora vamos a calcular la T y EM con el modelo de abundancias:coronal\n"
     ]
    },
    {
     "name": "stderr",
     "output_type": "stream",
     "text": [
      "Files Downloaded: 100%|██████████| 1/1 [00:00<00:00,  1.27file/s]\n",
      "/home/pjgonzalesp/miniforge3/envs/sunpy/lib/python3.13/site-packages/astropy/units/quantity.py:659: RuntimeWarning: divide by zero encountered in divide\n",
      "  result = super().__array_ufunc__(function, method, *arrays, **kwargs)\n",
      "/home/pjgonzalesp/miniforge3/envs/sunpy/lib/python3.13/site-packages/astropy/units/quantity.py:659: RuntimeWarning: invalid value encountered in divide\n",
      "  result = super().__array_ufunc__(function, method, *arrays, **kwargs)\n"
     ]
    },
    {
     "name": "stdout",
     "output_type": "stream",
     "text": [
      "se calculó T y EM con el modelo de abundancias:coronal\n",
      "Ahora vamos a calcular la T y EM con el modelo de abundancias:photospheric\n"
     ]
    },
    {
     "name": "stderr",
     "output_type": "stream",
     "text": [
      "Files Downloaded: 100%|██████████| 1/1 [00:00<00:00,  1.16file/s]\n",
      "2025-10-08 13:17:59 - root - INFO: Searching for GOES flares between 2008-09-14 00:00:00 and 2008-09-14 23:59:00...\n"
     ]
    },
    {
     "name": "stdout",
     "output_type": "stream",
     "text": [
      "se calculó T y EM con el modelo de abundancias:photospheric\n",
      "4. CONSTRUIR df_full\n",
      "5. añadiendo observatorio: GOES: GOES-10\n",
      "se añadió observatorio: GOES: GOES-10\n",
      "6. Descargando flares: 2008-09-14 00:00:00 - 2008-09-14 23:59:00\n"
     ]
    },
    {
     "name": "stderr",
     "output_type": "stream",
     "text": [
      "2025-10-08 13:18:00 - root - INFO: No solar flares found between 2008-09-14 00:00:00 and 2008-09-14 23:59:00.\n"
     ]
    },
    {
     "name": "stdout",
     "output_type": "stream",
     "text": [
      "No se encontraron flares para el intervalo 2008-09-14 00:00:00 - 2008-09-14 23:59:00. Saltando...\n",
      "Saltando intervalo 2008-09-14 00:00:00 - 2008-09-14 23:59:00 (sin datos/flares).\n",
      "1. Descargar datos GOES\n",
      "Buscando datos de: 2008-09-30 00:00:00\n",
      "Descargando datos de 2008-09-30 00:00:00...\n"
     ]
    },
    {
     "name": "stderr",
     "output_type": "stream",
     "text": [
      "Files Downloaded: 100%|██████████| 1/1 [00:00<00:00,  1.83file/s]\n"
     ]
    },
    {
     "name": "stdout",
     "output_type": "stream",
     "text": [
      "Resolution = 1 minute\n",
      "Gráfica guardada en 2025-10-07_Analysis_for_1000_days/Block_33/data_graphs/GOES_2008-09-30_00-00-00.png\n",
      "Observatorio encontrado: GOES-10\n",
      "Se encontraron datos  GOES para 2008-09-30 00:00:00 - 2008-09-30 23:59:00. Día saltado.\n",
      "\n",
      "Número de registros: 1440\n",
      "Columnas disponibles: ['xrsa', 'xrsb', 'xrsa_quality', 'xrsb_quality']\n",
      "2. Restar Background\n",
      "Plot saved at: 2025-10-07_Analysis_for_1000_days/Block_33/data_graphs/GOES_diff_linear_2008-09-30_00-00-00.png\n",
      "Plot saved at: 2025-10-07_Analysis_for_1000_days/Block_33/data_graphs/GOES_diff_log_2008-09-30_00-00-00.png\n"
     ]
    },
    {
     "name": "stderr",
     "output_type": "stream",
     "text": [
      "/tmp/ipykernel_1683080/4009928038.py:226: FutureWarning: Downcasting behavior in Series and DataFrame methods 'where', 'mask', and 'clip' is deprecated. In a future version this will not infer object dtypes or cast all-round floats to integers. Instead call result.infer_objects(copy=False) for object inference, or cast round floats explicitly. To opt-in to the future behavior, set `pd.set_option('future.no_silent_downcasting', True)`\n",
      "  df_o = df_o.clip(lower=1e-9)\n"
     ]
    },
    {
     "name": "stdout",
     "output_type": "stream",
     "text": [
      "Plot saved at: 2025-10-07_Analysis_for_1000_days/Block_33/data_graphs/GOES_diff_positive_2008-09-30_00-00-00.png\n",
      "3. USAR FUNCIÓN SUNPY calculate_t_em\n",
      "Ahora vamos a calcular la T y EM con el modelo de abundancias:coronal\n"
     ]
    },
    {
     "name": "stderr",
     "output_type": "stream",
     "text": [
      "Files Downloaded: 100%|██████████| 1/1 [00:00<00:00,  1.33file/s]\n",
      "/home/pjgonzalesp/miniforge3/envs/sunpy/lib/python3.13/site-packages/astropy/units/quantity.py:659: RuntimeWarning: divide by zero encountered in divide\n",
      "  result = super().__array_ufunc__(function, method, *arrays, **kwargs)\n",
      "/home/pjgonzalesp/miniforge3/envs/sunpy/lib/python3.13/site-packages/astropy/units/quantity.py:659: RuntimeWarning: invalid value encountered in divide\n",
      "  result = super().__array_ufunc__(function, method, *arrays, **kwargs)\n"
     ]
    },
    {
     "name": "stdout",
     "output_type": "stream",
     "text": [
      "se calculó T y EM con el modelo de abundancias:coronal\n",
      "Ahora vamos a calcular la T y EM con el modelo de abundancias:photospheric\n"
     ]
    },
    {
     "name": "stderr",
     "output_type": "stream",
     "text": [
      "Files Downloaded: 100%|██████████| 1/1 [00:00<00:00,  1.33file/s]\n",
      "2025-10-08 13:18:13 - root - INFO: Searching for GOES flares between 2008-09-30 00:00:00 and 2008-09-30 23:59:00...\n"
     ]
    },
    {
     "name": "stdout",
     "output_type": "stream",
     "text": [
      "se calculó T y EM con el modelo de abundancias:photospheric\n",
      "4. CONSTRUIR df_full\n",
      "5. añadiendo observatorio: GOES: GOES-10\n",
      "se añadió observatorio: GOES: GOES-10\n",
      "6. Descargando flares: 2008-09-30 00:00:00 - 2008-09-30 23:59:00\n"
     ]
    },
    {
     "name": "stderr",
     "output_type": "stream",
     "text": [
      "2025-10-08 13:18:14 - root - INFO: No solar flares found between 2008-09-30 00:00:00 and 2008-09-30 23:59:00.\n"
     ]
    },
    {
     "name": "stdout",
     "output_type": "stream",
     "text": [
      "No se encontraron flares para el intervalo 2008-09-30 00:00:00 - 2008-09-30 23:59:00. Saltando...\n",
      "Saltando intervalo 2008-09-30 00:00:00 - 2008-09-30 23:59:00 (sin datos/flares).\n",
      "1. Descargar datos GOES\n",
      "Buscando datos de: 2008-10-16 00:00:00\n",
      "Descargando datos de 2008-10-16 00:00:00...\n"
     ]
    },
    {
     "name": "stderr",
     "output_type": "stream",
     "text": [
      "Files Downloaded: 100%|██████████| 1/1 [00:00<00:00,  1.83file/s]\n"
     ]
    },
    {
     "name": "stdout",
     "output_type": "stream",
     "text": [
      "Resolution = 1 minute\n",
      "Gráfica guardada en 2025-10-07_Analysis_for_1000_days/Block_33/data_graphs/GOES_2008-10-16_00-00-00.png\n",
      "Observatorio encontrado: GOES-10\n",
      "Se encontraron datos  GOES para 2008-10-16 00:00:00 - 2008-10-16 23:59:00. Día saltado.\n",
      "\n",
      "Número de registros: 1440\n",
      "Columnas disponibles: ['xrsa', 'xrsb', 'xrsa_quality', 'xrsb_quality']\n",
      "2. Restar Background\n",
      "Plot saved at: 2025-10-07_Analysis_for_1000_days/Block_33/data_graphs/GOES_diff_linear_2008-10-16_00-00-00.png\n",
      "Plot saved at: 2025-10-07_Analysis_for_1000_days/Block_33/data_graphs/GOES_diff_log_2008-10-16_00-00-00.png\n"
     ]
    },
    {
     "name": "stderr",
     "output_type": "stream",
     "text": [
      "/tmp/ipykernel_1683080/4009928038.py:226: FutureWarning: Downcasting behavior in Series and DataFrame methods 'where', 'mask', and 'clip' is deprecated. In a future version this will not infer object dtypes or cast all-round floats to integers. Instead call result.infer_objects(copy=False) for object inference, or cast round floats explicitly. To opt-in to the future behavior, set `pd.set_option('future.no_silent_downcasting', True)`\n",
      "  df_o = df_o.clip(lower=1e-9)\n"
     ]
    },
    {
     "name": "stdout",
     "output_type": "stream",
     "text": [
      "Plot saved at: 2025-10-07_Analysis_for_1000_days/Block_33/data_graphs/GOES_diff_positive_2008-10-16_00-00-00.png\n",
      "3. USAR FUNCIÓN SUNPY calculate_t_em\n",
      "Ahora vamos a calcular la T y EM con el modelo de abundancias:coronal\n"
     ]
    },
    {
     "name": "stderr",
     "output_type": "stream",
     "text": [
      "Files Downloaded: 100%|██████████| 1/1 [00:00<00:00,  1.34file/s]\n",
      "/home/pjgonzalesp/miniforge3/envs/sunpy/lib/python3.13/site-packages/astropy/units/quantity.py:659: RuntimeWarning: divide by zero encountered in divide\n",
      "  result = super().__array_ufunc__(function, method, *arrays, **kwargs)\n",
      "/home/pjgonzalesp/miniforge3/envs/sunpy/lib/python3.13/site-packages/astropy/units/quantity.py:659: RuntimeWarning: invalid value encountered in divide\n",
      "  result = super().__array_ufunc__(function, method, *arrays, **kwargs)\n"
     ]
    },
    {
     "name": "stdout",
     "output_type": "stream",
     "text": [
      "se calculó T y EM con el modelo de abundancias:coronal\n",
      "Ahora vamos a calcular la T y EM con el modelo de abundancias:photospheric\n"
     ]
    },
    {
     "name": "stderr",
     "output_type": "stream",
     "text": [
      "Files Downloaded: 100%|██████████| 1/1 [00:00<00:00,  1.31file/s]\n",
      "2025-10-08 13:18:28 - root - INFO: Searching for GOES flares between 2008-10-16 00:00:00 and 2008-10-16 23:59:00...\n"
     ]
    },
    {
     "name": "stdout",
     "output_type": "stream",
     "text": [
      "se calculó T y EM con el modelo de abundancias:photospheric\n",
      "4. CONSTRUIR df_full\n",
      "5. añadiendo observatorio: GOES: GOES-10\n",
      "se añadió observatorio: GOES: GOES-10\n",
      "6. Descargando flares: 2008-10-16 00:00:00 - 2008-10-16 23:59:00\n"
     ]
    },
    {
     "name": "stderr",
     "output_type": "stream",
     "text": [
      "2025-10-08 13:18:28 - root - INFO: No solar flares found between 2008-10-16 00:00:00 and 2008-10-16 23:59:00.\n"
     ]
    },
    {
     "name": "stdout",
     "output_type": "stream",
     "text": [
      "No se encontraron flares para el intervalo 2008-10-16 00:00:00 - 2008-10-16 23:59:00. Saltando...\n",
      "Saltando intervalo 2008-10-16 00:00:00 - 2008-10-16 23:59:00 (sin datos/flares).\n",
      "1. Descargar datos GOES\n",
      "Buscando datos de: 2008-11-01 00:00:00\n",
      "Descargando datos de 2008-11-01 00:00:00...\n"
     ]
    },
    {
     "name": "stderr",
     "output_type": "stream",
     "text": [
      "Files Downloaded: 100%|██████████| 1/1 [00:00<00:00,  1.83file/s]\n"
     ]
    },
    {
     "name": "stdout",
     "output_type": "stream",
     "text": [
      "Resolution = 1 minute\n",
      "Gráfica guardada en 2025-10-07_Analysis_for_1000_days/Block_33/data_graphs/GOES_2008-11-01_00-00-00.png\n",
      "Observatorio encontrado: GOES-10\n",
      "Se encontraron datos  GOES para 2008-11-01 00:00:00 - 2008-11-01 23:59:00. Día saltado.\n",
      "\n",
      "Número de registros: 1440\n",
      "Columnas disponibles: ['xrsa', 'xrsb', 'xrsa_quality', 'xrsb_quality']\n",
      "2. Restar Background\n",
      "Plot saved at: 2025-10-07_Analysis_for_1000_days/Block_33/data_graphs/GOES_diff_linear_2008-11-01_00-00-00.png\n",
      "Plot saved at: 2025-10-07_Analysis_for_1000_days/Block_33/data_graphs/GOES_diff_log_2008-11-01_00-00-00.png\n"
     ]
    },
    {
     "name": "stderr",
     "output_type": "stream",
     "text": [
      "/tmp/ipykernel_1683080/4009928038.py:226: FutureWarning: Downcasting behavior in Series and DataFrame methods 'where', 'mask', and 'clip' is deprecated. In a future version this will not infer object dtypes or cast all-round floats to integers. Instead call result.infer_objects(copy=False) for object inference, or cast round floats explicitly. To opt-in to the future behavior, set `pd.set_option('future.no_silent_downcasting', True)`\n",
      "  df_o = df_o.clip(lower=1e-9)\n"
     ]
    },
    {
     "name": "stdout",
     "output_type": "stream",
     "text": [
      "Plot saved at: 2025-10-07_Analysis_for_1000_days/Block_33/data_graphs/GOES_diff_positive_2008-11-01_00-00-00.png\n",
      "3. USAR FUNCIÓN SUNPY calculate_t_em\n",
      "Ahora vamos a calcular la T y EM con el modelo de abundancias:coronal\n"
     ]
    },
    {
     "name": "stderr",
     "output_type": "stream",
     "text": [
      "Files Downloaded: 100%|██████████| 1/1 [00:00<00:00,  1.17file/s]\n",
      "/home/pjgonzalesp/miniforge3/envs/sunpy/lib/python3.13/site-packages/astropy/units/quantity.py:659: RuntimeWarning: divide by zero encountered in divide\n",
      "  result = super().__array_ufunc__(function, method, *arrays, **kwargs)\n",
      "/home/pjgonzalesp/miniforge3/envs/sunpy/lib/python3.13/site-packages/astropy/units/quantity.py:659: RuntimeWarning: invalid value encountered in divide\n",
      "  result = super().__array_ufunc__(function, method, *arrays, **kwargs)\n"
     ]
    },
    {
     "name": "stdout",
     "output_type": "stream",
     "text": [
      "se calculó T y EM con el modelo de abundancias:coronal\n",
      "Ahora vamos a calcular la T y EM con el modelo de abundancias:photospheric\n"
     ]
    },
    {
     "name": "stderr",
     "output_type": "stream",
     "text": [
      "Files Downloaded: 100%|██████████| 1/1 [00:00<00:00,  1.34file/s]\n",
      "2025-10-08 13:18:42 - root - INFO: Searching for GOES flares between 2008-11-01 00:00:00 and 2008-11-01 23:59:00...\n"
     ]
    },
    {
     "name": "stdout",
     "output_type": "stream",
     "text": [
      "se calculó T y EM con el modelo de abundancias:photospheric\n",
      "4. CONSTRUIR df_full\n",
      "5. añadiendo observatorio: GOES: GOES-10\n",
      "se añadió observatorio: GOES: GOES-10\n",
      "6. Descargando flares: 2008-11-01 00:00:00 - 2008-11-01 23:59:00\n"
     ]
    },
    {
     "name": "stderr",
     "output_type": "stream",
     "text": [
      "2025-10-08 13:18:43 - root - INFO: No solar flares found between 2008-11-01 00:00:00 and 2008-11-01 23:59:00.\n"
     ]
    },
    {
     "name": "stdout",
     "output_type": "stream",
     "text": [
      "No se encontraron flares para el intervalo 2008-11-01 00:00:00 - 2008-11-01 23:59:00. Saltando...\n",
      "Saltando intervalo 2008-11-01 00:00:00 - 2008-11-01 23:59:00 (sin datos/flares).\n",
      "1. Descargar datos GOES\n",
      "Buscando datos de: 2008-11-17 00:00:00\n",
      "Descargando datos de 2008-11-17 00:00:00...\n"
     ]
    },
    {
     "name": "stderr",
     "output_type": "stream",
     "text": [
      "Files Downloaded: 100%|██████████| 1/1 [00:00<00:00,  1.83file/s]\n"
     ]
    },
    {
     "name": "stdout",
     "output_type": "stream",
     "text": [
      "Resolution = 1 minute\n",
      "Gráfica guardada en 2025-10-07_Analysis_for_1000_days/Block_33/data_graphs/GOES_2008-11-17_00-00-00.png\n",
      "Observatorio encontrado: GOES-10\n",
      "Se encontraron datos  GOES para 2008-11-17 00:00:00 - 2008-11-17 23:59:00. Día saltado.\n",
      "\n",
      "Número de registros: 1440\n",
      "Columnas disponibles: ['xrsa', 'xrsb', 'xrsa_quality', 'xrsb_quality']\n",
      "2. Restar Background\n",
      "Plot saved at: 2025-10-07_Analysis_for_1000_days/Block_33/data_graphs/GOES_diff_linear_2008-11-17_00-00-00.png\n",
      "Plot saved at: 2025-10-07_Analysis_for_1000_days/Block_33/data_graphs/GOES_diff_log_2008-11-17_00-00-00.png\n"
     ]
    },
    {
     "name": "stderr",
     "output_type": "stream",
     "text": [
      "/tmp/ipykernel_1683080/4009928038.py:226: FutureWarning: Downcasting behavior in Series and DataFrame methods 'where', 'mask', and 'clip' is deprecated. In a future version this will not infer object dtypes or cast all-round floats to integers. Instead call result.infer_objects(copy=False) for object inference, or cast round floats explicitly. To opt-in to the future behavior, set `pd.set_option('future.no_silent_downcasting', True)`\n",
      "  df_o = df_o.clip(lower=1e-9)\n"
     ]
    },
    {
     "name": "stdout",
     "output_type": "stream",
     "text": [
      "Plot saved at: 2025-10-07_Analysis_for_1000_days/Block_33/data_graphs/GOES_diff_positive_2008-11-17_00-00-00.png\n",
      "3. USAR FUNCIÓN SUNPY calculate_t_em\n",
      "Ahora vamos a calcular la T y EM con el modelo de abundancias:coronal\n"
     ]
    },
    {
     "name": "stderr",
     "output_type": "stream",
     "text": [
      "Files Downloaded: 100%|██████████| 1/1 [00:00<00:00,  1.17file/s]\n",
      "/home/pjgonzalesp/miniforge3/envs/sunpy/lib/python3.13/site-packages/astropy/units/quantity.py:659: RuntimeWarning: divide by zero encountered in divide\n",
      "  result = super().__array_ufunc__(function, method, *arrays, **kwargs)\n",
      "/home/pjgonzalesp/miniforge3/envs/sunpy/lib/python3.13/site-packages/astropy/units/quantity.py:659: RuntimeWarning: invalid value encountered in divide\n",
      "  result = super().__array_ufunc__(function, method, *arrays, **kwargs)\n"
     ]
    },
    {
     "name": "stdout",
     "output_type": "stream",
     "text": [
      "se calculó T y EM con el modelo de abundancias:coronal\n",
      "Ahora vamos a calcular la T y EM con el modelo de abundancias:photospheric\n"
     ]
    },
    {
     "name": "stderr",
     "output_type": "stream",
     "text": [
      "Files Downloaded: 100%|██████████| 1/1 [00:00<00:00,  1.17file/s]\n",
      "2025-10-08 13:18:57 - root - INFO: Searching for GOES flares between 2008-11-17 00:00:00 and 2008-11-17 23:59:00...\n"
     ]
    },
    {
     "name": "stdout",
     "output_type": "stream",
     "text": [
      "se calculó T y EM con el modelo de abundancias:photospheric\n",
      "4. CONSTRUIR df_full\n",
      "5. añadiendo observatorio: GOES: GOES-10\n",
      "se añadió observatorio: GOES: GOES-10\n",
      "6. Descargando flares: 2008-11-17 00:00:00 - 2008-11-17 23:59:00\n"
     ]
    },
    {
     "name": "stderr",
     "output_type": "stream",
     "text": [
      "2025-10-08 13:18:57 - root - INFO: No solar flares found between 2008-11-17 00:00:00 and 2008-11-17 23:59:00.\n"
     ]
    },
    {
     "name": "stdout",
     "output_type": "stream",
     "text": [
      "No se encontraron flares para el intervalo 2008-11-17 00:00:00 - 2008-11-17 23:59:00. Saltando...\n",
      "Saltando intervalo 2008-11-17 00:00:00 - 2008-11-17 23:59:00 (sin datos/flares).\n",
      " Bloque 33 terminado y guardado en 2025-10-07_Analysis_for_1000_days/Block_33\n",
      "Procesando bloque 34/53 con 20 días...\n",
      "1. Descargar datos GOES\n",
      "Buscando datos de: 2008-12-03 00:00:00\n",
      "Descargando datos de 2008-12-03 00:00:00...\n"
     ]
    },
    {
     "name": "stderr",
     "output_type": "stream",
     "text": [
      "Files Downloaded: 100%|██████████| 1/1 [00:00<00:00,  1.83file/s]\n"
     ]
    },
    {
     "name": "stdout",
     "output_type": "stream",
     "text": [
      "Resolution = 1 minute\n",
      "Gráfica guardada en 2025-10-07_Analysis_for_1000_days/Block_34/data_graphs/GOES_2008-12-03_00-00-00.png\n",
      "Observatorio encontrado: GOES-10\n",
      "Se encontraron datos  GOES para 2008-12-03 00:00:00 - 2008-12-03 23:59:00. Día saltado.\n",
      "\n",
      "Número de registros: 1440\n",
      "Columnas disponibles: ['xrsa', 'xrsb', 'xrsa_quality', 'xrsb_quality']\n",
      "2. Restar Background\n",
      "Plot saved at: 2025-10-07_Analysis_for_1000_days/Block_34/data_graphs/GOES_diff_linear_2008-12-03_00-00-00.png\n",
      "Plot saved at: 2025-10-07_Analysis_for_1000_days/Block_34/data_graphs/GOES_diff_log_2008-12-03_00-00-00.png\n"
     ]
    },
    {
     "name": "stderr",
     "output_type": "stream",
     "text": [
      "/tmp/ipykernel_1683080/4009928038.py:226: FutureWarning: Downcasting behavior in Series and DataFrame methods 'where', 'mask', and 'clip' is deprecated. In a future version this will not infer object dtypes or cast all-round floats to integers. Instead call result.infer_objects(copy=False) for object inference, or cast round floats explicitly. To opt-in to the future behavior, set `pd.set_option('future.no_silent_downcasting', True)`\n",
      "  df_o = df_o.clip(lower=1e-9)\n"
     ]
    },
    {
     "name": "stdout",
     "output_type": "stream",
     "text": [
      "Plot saved at: 2025-10-07_Analysis_for_1000_days/Block_34/data_graphs/GOES_diff_positive_2008-12-03_00-00-00.png\n",
      "3. USAR FUNCIÓN SUNPY calculate_t_em\n",
      "Ahora vamos a calcular la T y EM con el modelo de abundancias:coronal\n"
     ]
    },
    {
     "name": "stderr",
     "output_type": "stream",
     "text": [
      "Files Downloaded: 100%|██████████| 1/1 [00:00<00:00,  1.34file/s]\n",
      "/home/pjgonzalesp/miniforge3/envs/sunpy/lib/python3.13/site-packages/astropy/units/quantity.py:659: RuntimeWarning: divide by zero encountered in divide\n",
      "  result = super().__array_ufunc__(function, method, *arrays, **kwargs)\n",
      "/home/pjgonzalesp/miniforge3/envs/sunpy/lib/python3.13/site-packages/astropy/units/quantity.py:659: RuntimeWarning: invalid value encountered in divide\n",
      "  result = super().__array_ufunc__(function, method, *arrays, **kwargs)\n"
     ]
    },
    {
     "name": "stdout",
     "output_type": "stream",
     "text": [
      "se calculó T y EM con el modelo de abundancias:coronal\n",
      "Ahora vamos a calcular la T y EM con el modelo de abundancias:photospheric\n"
     ]
    },
    {
     "name": "stderr",
     "output_type": "stream",
     "text": [
      "Files Downloaded: 100%|██████████| 1/1 [00:00<00:00,  1.31file/s]\n",
      "2025-10-08 13:19:11 - root - INFO: Searching for GOES flares between 2008-12-03 00:00:00 and 2008-12-03 23:59:00...\n"
     ]
    },
    {
     "name": "stdout",
     "output_type": "stream",
     "text": [
      "se calculó T y EM con el modelo de abundancias:photospheric\n",
      "4. CONSTRUIR df_full\n",
      "5. añadiendo observatorio: GOES: GOES-10\n",
      "se añadió observatorio: GOES: GOES-10\n",
      "6. Descargando flares: 2008-12-03 00:00:00 - 2008-12-03 23:59:00\n"
     ]
    },
    {
     "name": "stderr",
     "output_type": "stream",
     "text": [
      "2025-10-08 13:19:12 - root - INFO: No solar flares found between 2008-12-03 00:00:00 and 2008-12-03 23:59:00.\n"
     ]
    },
    {
     "name": "stdout",
     "output_type": "stream",
     "text": [
      "No se encontraron flares para el intervalo 2008-12-03 00:00:00 - 2008-12-03 23:59:00. Saltando...\n",
      "Saltando intervalo 2008-12-03 00:00:00 - 2008-12-03 23:59:00 (sin datos/flares).\n",
      "1. Descargar datos GOES\n",
      "Buscando datos de: 2008-12-19 00:00:00\n",
      "Descargando datos de 2008-12-19 00:00:00...\n"
     ]
    },
    {
     "name": "stderr",
     "output_type": "stream",
     "text": [
      "Files Downloaded: 100%|██████████| 1/1 [00:00<00:00,  1.83file/s]\n"
     ]
    },
    {
     "name": "stdout",
     "output_type": "stream",
     "text": [
      "Resolution = 1 minute\n",
      "Gráfica guardada en 2025-10-07_Analysis_for_1000_days/Block_34/data_graphs/GOES_2008-12-19_00-00-00.png\n",
      "Observatorio encontrado: GOES-10\n",
      "Se encontraron datos  GOES para 2008-12-19 00:00:00 - 2008-12-19 23:59:00. Día saltado.\n",
      "\n",
      "Número de registros: 1440\n",
      "Columnas disponibles: ['xrsa', 'xrsb', 'xrsa_quality', 'xrsb_quality']\n",
      "2. Restar Background\n",
      "Plot saved at: 2025-10-07_Analysis_for_1000_days/Block_34/data_graphs/GOES_diff_linear_2008-12-19_00-00-00.png\n",
      "Plot saved at: 2025-10-07_Analysis_for_1000_days/Block_34/data_graphs/GOES_diff_log_2008-12-19_00-00-00.png\n"
     ]
    },
    {
     "name": "stderr",
     "output_type": "stream",
     "text": [
      "/tmp/ipykernel_1683080/4009928038.py:226: FutureWarning: Downcasting behavior in Series and DataFrame methods 'where', 'mask', and 'clip' is deprecated. In a future version this will not infer object dtypes or cast all-round floats to integers. Instead call result.infer_objects(copy=False) for object inference, or cast round floats explicitly. To opt-in to the future behavior, set `pd.set_option('future.no_silent_downcasting', True)`\n",
      "  df_o = df_o.clip(lower=1e-9)\n"
     ]
    },
    {
     "name": "stdout",
     "output_type": "stream",
     "text": [
      "Plot saved at: 2025-10-07_Analysis_for_1000_days/Block_34/data_graphs/GOES_diff_positive_2008-12-19_00-00-00.png\n",
      "3. USAR FUNCIÓN SUNPY calculate_t_em\n",
      "Ahora vamos a calcular la T y EM con el modelo de abundancias:coronal\n"
     ]
    },
    {
     "name": "stderr",
     "output_type": "stream",
     "text": [
      "Files Downloaded: 100%|██████████| 1/1 [00:00<00:00,  1.32file/s]\n",
      "/home/pjgonzalesp/miniforge3/envs/sunpy/lib/python3.13/site-packages/astropy/units/quantity.py:659: RuntimeWarning: divide by zero encountered in divide\n",
      "  result = super().__array_ufunc__(function, method, *arrays, **kwargs)\n",
      "/home/pjgonzalesp/miniforge3/envs/sunpy/lib/python3.13/site-packages/astropy/units/quantity.py:659: RuntimeWarning: invalid value encountered in divide\n",
      "  result = super().__array_ufunc__(function, method, *arrays, **kwargs)\n"
     ]
    },
    {
     "name": "stdout",
     "output_type": "stream",
     "text": [
      "se calculó T y EM con el modelo de abundancias:coronal\n",
      "Ahora vamos a calcular la T y EM con el modelo de abundancias:photospheric\n"
     ]
    },
    {
     "name": "stderr",
     "output_type": "stream",
     "text": [
      "Files Downloaded: 100%|██████████| 1/1 [00:00<00:00,  1.33file/s]\n",
      "2025-10-08 13:19:25 - root - INFO: Searching for GOES flares between 2008-12-19 00:00:00 and 2008-12-19 23:59:00...\n"
     ]
    },
    {
     "name": "stdout",
     "output_type": "stream",
     "text": [
      "se calculó T y EM con el modelo de abundancias:photospheric\n",
      "4. CONSTRUIR df_full\n",
      "5. añadiendo observatorio: GOES: GOES-10\n",
      "se añadió observatorio: GOES: GOES-10\n",
      "6. Descargando flares: 2008-12-19 00:00:00 - 2008-12-19 23:59:00\n"
     ]
    },
    {
     "name": "stderr",
     "output_type": "stream",
     "text": [
      "2025-10-08 13:19:26 - root - INFO: No solar flares found between 2008-12-19 00:00:00 and 2008-12-19 23:59:00.\n"
     ]
    },
    {
     "name": "stdout",
     "output_type": "stream",
     "text": [
      "No se encontraron flares para el intervalo 2008-12-19 00:00:00 - 2008-12-19 23:59:00. Saltando...\n",
      "Saltando intervalo 2008-12-19 00:00:00 - 2008-12-19 23:59:00 (sin datos/flares).\n",
      "1. Descargar datos GOES\n",
      "Buscando datos de: 2009-01-04 00:00:00\n",
      "Descargando datos de 2009-01-04 00:00:00...\n"
     ]
    },
    {
     "name": "stderr",
     "output_type": "stream",
     "text": [
      "Files Downloaded: 100%|██████████| 1/1 [00:00<00:00,  1.81file/s]\n"
     ]
    },
    {
     "name": "stdout",
     "output_type": "stream",
     "text": [
      "Resolution = 1 minute\n",
      "Gráfica guardada en 2025-10-07_Analysis_for_1000_days/Block_34/data_graphs/GOES_2009-01-04_00-00-00.png\n",
      "Observatorio encontrado: GOES-10\n",
      "Se encontraron datos  GOES para 2009-01-04 00:00:00 - 2009-01-04 23:59:00. Día saltado.\n",
      "\n",
      "Número de registros: 1440\n",
      "Columnas disponibles: ['xrsa', 'xrsb', 'xrsa_quality', 'xrsb_quality']\n",
      "2. Restar Background\n",
      "Plot saved at: 2025-10-07_Analysis_for_1000_days/Block_34/data_graphs/GOES_diff_linear_2009-01-04_00-00-00.png\n",
      "Plot saved at: 2025-10-07_Analysis_for_1000_days/Block_34/data_graphs/GOES_diff_log_2009-01-04_00-00-00.png\n"
     ]
    },
    {
     "name": "stderr",
     "output_type": "stream",
     "text": [
      "/tmp/ipykernel_1683080/4009928038.py:226: FutureWarning: Downcasting behavior in Series and DataFrame methods 'where', 'mask', and 'clip' is deprecated. In a future version this will not infer object dtypes or cast all-round floats to integers. Instead call result.infer_objects(copy=False) for object inference, or cast round floats explicitly. To opt-in to the future behavior, set `pd.set_option('future.no_silent_downcasting', True)`\n",
      "  df_o = df_o.clip(lower=1e-9)\n"
     ]
    },
    {
     "name": "stdout",
     "output_type": "stream",
     "text": [
      "Plot saved at: 2025-10-07_Analysis_for_1000_days/Block_34/data_graphs/GOES_diff_positive_2009-01-04_00-00-00.png\n",
      "3. USAR FUNCIÓN SUNPY calculate_t_em\n",
      "Ahora vamos a calcular la T y EM con el modelo de abundancias:coronal\n"
     ]
    },
    {
     "name": "stderr",
     "output_type": "stream",
     "text": [
      "Files Downloaded: 100%|██████████| 1/1 [00:00<00:00,  1.33file/s]\n",
      "/home/pjgonzalesp/miniforge3/envs/sunpy/lib/python3.13/site-packages/astropy/units/quantity.py:659: RuntimeWarning: divide by zero encountered in divide\n",
      "  result = super().__array_ufunc__(function, method, *arrays, **kwargs)\n",
      "/home/pjgonzalesp/miniforge3/envs/sunpy/lib/python3.13/site-packages/astropy/units/quantity.py:659: RuntimeWarning: invalid value encountered in divide\n",
      "  result = super().__array_ufunc__(function, method, *arrays, **kwargs)\n"
     ]
    },
    {
     "name": "stdout",
     "output_type": "stream",
     "text": [
      "se calculó T y EM con el modelo de abundancias:coronal\n",
      "Ahora vamos a calcular la T y EM con el modelo de abundancias:photospheric\n"
     ]
    },
    {
     "name": "stderr",
     "output_type": "stream",
     "text": [
      "Files Downloaded: 100%|██████████| 1/1 [00:00<00:00,  1.33file/s]\n",
      "2025-10-08 13:19:40 - root - INFO: Searching for GOES flares between 2009-01-04 00:00:00 and 2009-01-04 23:59:00...\n"
     ]
    },
    {
     "name": "stdout",
     "output_type": "stream",
     "text": [
      "se calculó T y EM con el modelo de abundancias:photospheric\n",
      "4. CONSTRUIR df_full\n",
      "5. añadiendo observatorio: GOES: GOES-10\n",
      "se añadió observatorio: GOES: GOES-10\n",
      "6. Descargando flares: 2009-01-04 00:00:00 - 2009-01-04 23:59:00\n"
     ]
    },
    {
     "name": "stderr",
     "output_type": "stream",
     "text": [
      "2025-10-08 13:19:40 - root - INFO: No solar flares found between 2009-01-04 00:00:00 and 2009-01-04 23:59:00.\n"
     ]
    },
    {
     "name": "stdout",
     "output_type": "stream",
     "text": [
      "No se encontraron flares para el intervalo 2009-01-04 00:00:00 - 2009-01-04 23:59:00. Saltando...\n",
      "Saltando intervalo 2009-01-04 00:00:00 - 2009-01-04 23:59:00 (sin datos/flares).\n",
      "1. Descargar datos GOES\n",
      "Buscando datos de: 2009-01-20 00:00:00\n",
      "Descargando datos de 2009-01-20 00:00:00...\n"
     ]
    },
    {
     "name": "stderr",
     "output_type": "stream",
     "text": [
      "Files Downloaded: 100%|██████████| 1/1 [00:00<00:00,  1.83file/s]\n"
     ]
    },
    {
     "name": "stdout",
     "output_type": "stream",
     "text": [
      "Resolution = 1 minute\n",
      "Gráfica guardada en 2025-10-07_Analysis_for_1000_days/Block_34/data_graphs/GOES_2009-01-20_00-00-00.png\n",
      "Observatorio encontrado: GOES-10\n",
      "Se encontraron datos  GOES para 2009-01-20 00:00:00 - 2009-01-20 23:59:00. Día saltado.\n",
      "\n",
      "Número de registros: 1440\n",
      "Columnas disponibles: ['xrsa', 'xrsb', 'xrsa_quality', 'xrsb_quality']\n",
      "2. Restar Background\n",
      "Plot saved at: 2025-10-07_Analysis_for_1000_days/Block_34/data_graphs/GOES_diff_linear_2009-01-20_00-00-00.png\n",
      "Plot saved at: 2025-10-07_Analysis_for_1000_days/Block_34/data_graphs/GOES_diff_log_2009-01-20_00-00-00.png\n"
     ]
    },
    {
     "name": "stderr",
     "output_type": "stream",
     "text": [
      "/tmp/ipykernel_1683080/4009928038.py:226: FutureWarning: Downcasting behavior in Series and DataFrame methods 'where', 'mask', and 'clip' is deprecated. In a future version this will not infer object dtypes or cast all-round floats to integers. Instead call result.infer_objects(copy=False) for object inference, or cast round floats explicitly. To opt-in to the future behavior, set `pd.set_option('future.no_silent_downcasting', True)`\n",
      "  df_o = df_o.clip(lower=1e-9)\n"
     ]
    },
    {
     "name": "stdout",
     "output_type": "stream",
     "text": [
      "Plot saved at: 2025-10-07_Analysis_for_1000_days/Block_34/data_graphs/GOES_diff_positive_2009-01-20_00-00-00.png\n",
      "3. USAR FUNCIÓN SUNPY calculate_t_em\n",
      "Ahora vamos a calcular la T y EM con el modelo de abundancias:coronal\n"
     ]
    },
    {
     "name": "stderr",
     "output_type": "stream",
     "text": [
      "Files Downloaded: 100%|██████████| 1/1 [00:00<00:00,  1.31file/s]\n",
      "/home/pjgonzalesp/miniforge3/envs/sunpy/lib/python3.13/site-packages/astropy/units/quantity.py:659: RuntimeWarning: divide by zero encountered in divide\n",
      "  result = super().__array_ufunc__(function, method, *arrays, **kwargs)\n",
      "/home/pjgonzalesp/miniforge3/envs/sunpy/lib/python3.13/site-packages/astropy/units/quantity.py:659: RuntimeWarning: invalid value encountered in divide\n",
      "  result = super().__array_ufunc__(function, method, *arrays, **kwargs)\n"
     ]
    },
    {
     "name": "stdout",
     "output_type": "stream",
     "text": [
      "se calculó T y EM con el modelo de abundancias:coronal\n",
      "Ahora vamos a calcular la T y EM con el modelo de abundancias:photospheric\n"
     ]
    },
    {
     "name": "stderr",
     "output_type": "stream",
     "text": [
      "Files Downloaded: 100%|██████████| 1/1 [00:00<00:00,  1.33file/s]\n",
      "2025-10-08 13:19:54 - root - INFO: Searching for GOES flares between 2009-01-20 00:00:00 and 2009-01-20 23:59:00...\n"
     ]
    },
    {
     "name": "stdout",
     "output_type": "stream",
     "text": [
      "se calculó T y EM con el modelo de abundancias:photospheric\n",
      "4. CONSTRUIR df_full\n",
      "5. añadiendo observatorio: GOES: GOES-10\n",
      "se añadió observatorio: GOES: GOES-10\n",
      "6. Descargando flares: 2009-01-20 00:00:00 - 2009-01-20 23:59:00\n"
     ]
    },
    {
     "name": "stderr",
     "output_type": "stream",
     "text": [
      "2025-10-08 13:19:55 - root - INFO: No solar flares found between 2009-01-20 00:00:00 and 2009-01-20 23:59:00.\n"
     ]
    },
    {
     "name": "stdout",
     "output_type": "stream",
     "text": [
      "No se encontraron flares para el intervalo 2009-01-20 00:00:00 - 2009-01-20 23:59:00. Saltando...\n",
      "Saltando intervalo 2009-01-20 00:00:00 - 2009-01-20 23:59:00 (sin datos/flares).\n",
      "1. Descargar datos GOES\n",
      "Buscando datos de: 2009-02-05 00:00:00\n",
      "Descargando datos de 2009-02-05 00:00:00...\n"
     ]
    },
    {
     "name": "stderr",
     "output_type": "stream",
     "text": [
      "Files Downloaded: 100%|██████████| 1/1 [00:00<00:00,  1.83file/s]\n"
     ]
    },
    {
     "name": "stdout",
     "output_type": "stream",
     "text": [
      "Resolution = 1 minute\n",
      "Gráfica guardada en 2025-10-07_Analysis_for_1000_days/Block_34/data_graphs/GOES_2009-02-05_00-00-00.png\n",
      "Observatorio encontrado: GOES-10\n",
      "Se encontraron datos  GOES para 2009-02-05 00:00:00 - 2009-02-05 23:59:00. Día saltado.\n",
      "\n",
      "Número de registros: 1440\n",
      "Columnas disponibles: ['xrsa', 'xrsb', 'xrsa_quality', 'xrsb_quality']\n",
      "2. Restar Background\n",
      "Plot saved at: 2025-10-07_Analysis_for_1000_days/Block_34/data_graphs/GOES_diff_linear_2009-02-05_00-00-00.png\n",
      "Plot saved at: 2025-10-07_Analysis_for_1000_days/Block_34/data_graphs/GOES_diff_log_2009-02-05_00-00-00.png\n"
     ]
    },
    {
     "name": "stderr",
     "output_type": "stream",
     "text": [
      "/tmp/ipykernel_1683080/4009928038.py:226: FutureWarning: Downcasting behavior in Series and DataFrame methods 'where', 'mask', and 'clip' is deprecated. In a future version this will not infer object dtypes or cast all-round floats to integers. Instead call result.infer_objects(copy=False) for object inference, or cast round floats explicitly. To opt-in to the future behavior, set `pd.set_option('future.no_silent_downcasting', True)`\n",
      "  df_o = df_o.clip(lower=1e-9)\n"
     ]
    },
    {
     "name": "stdout",
     "output_type": "stream",
     "text": [
      "Plot saved at: 2025-10-07_Analysis_for_1000_days/Block_34/data_graphs/GOES_diff_positive_2009-02-05_00-00-00.png\n",
      "3. USAR FUNCIÓN SUNPY calculate_t_em\n",
      "Ahora vamos a calcular la T y EM con el modelo de abundancias:coronal\n"
     ]
    },
    {
     "name": "stderr",
     "output_type": "stream",
     "text": [
      "Files Downloaded: 100%|██████████| 1/1 [00:00<00:00,  1.32file/s]\n",
      "/home/pjgonzalesp/miniforge3/envs/sunpy/lib/python3.13/site-packages/astropy/units/quantity.py:659: RuntimeWarning: divide by zero encountered in divide\n",
      "  result = super().__array_ufunc__(function, method, *arrays, **kwargs)\n",
      "/home/pjgonzalesp/miniforge3/envs/sunpy/lib/python3.13/site-packages/astropy/units/quantity.py:659: RuntimeWarning: invalid value encountered in divide\n",
      "  result = super().__array_ufunc__(function, method, *arrays, **kwargs)\n"
     ]
    },
    {
     "name": "stdout",
     "output_type": "stream",
     "text": [
      "se calculó T y EM con el modelo de abundancias:coronal\n",
      "Ahora vamos a calcular la T y EM con el modelo de abundancias:photospheric\n"
     ]
    },
    {
     "name": "stderr",
     "output_type": "stream",
     "text": [
      "Files Downloaded: 100%|██████████| 1/1 [00:00<00:00,  1.33file/s]\n",
      "2025-10-08 13:20:08 - root - INFO: Searching for GOES flares between 2009-02-05 00:00:00 and 2009-02-05 23:59:00...\n"
     ]
    },
    {
     "name": "stdout",
     "output_type": "stream",
     "text": [
      "se calculó T y EM con el modelo de abundancias:photospheric\n",
      "4. CONSTRUIR df_full\n",
      "5. añadiendo observatorio: GOES: GOES-10\n",
      "se añadió observatorio: GOES: GOES-10\n",
      "6. Descargando flares: 2009-02-05 00:00:00 - 2009-02-05 23:59:00\n"
     ]
    },
    {
     "name": "stderr",
     "output_type": "stream",
     "text": [
      "2025-10-08 13:20:09 - root - INFO: No solar flares found between 2009-02-05 00:00:00 and 2009-02-05 23:59:00.\n"
     ]
    },
    {
     "name": "stdout",
     "output_type": "stream",
     "text": [
      "No se encontraron flares para el intervalo 2009-02-05 00:00:00 - 2009-02-05 23:59:00. Saltando...\n",
      "Saltando intervalo 2009-02-05 00:00:00 - 2009-02-05 23:59:00 (sin datos/flares).\n",
      "1. Descargar datos GOES\n",
      "Buscando datos de: 2009-02-21 00:00:00\n",
      "Descargando datos de 2009-02-21 00:00:00...\n"
     ]
    },
    {
     "name": "stderr",
     "output_type": "stream",
     "text": [
      "Files Downloaded: 100%|██████████| 1/1 [00:00<00:00,  1.73file/s]\n"
     ]
    },
    {
     "name": "stdout",
     "output_type": "stream",
     "text": [
      "Resolution = 1 minute\n",
      "Gráfica guardada en 2025-10-07_Analysis_for_1000_days/Block_34/data_graphs/GOES_2009-02-21_00-00-00.png\n",
      "Observatorio encontrado: GOES-10\n",
      "Se encontraron datos  GOES para 2009-02-21 00:00:00 - 2009-02-21 23:59:00. Día saltado.\n",
      "\n",
      "Número de registros: 1440\n",
      "Columnas disponibles: ['xrsa', 'xrsb', 'xrsa_quality', 'xrsb_quality']\n",
      "2. Restar Background\n",
      "Plot saved at: 2025-10-07_Analysis_for_1000_days/Block_34/data_graphs/GOES_diff_linear_2009-02-21_00-00-00.png\n",
      "Plot saved at: 2025-10-07_Analysis_for_1000_days/Block_34/data_graphs/GOES_diff_log_2009-02-21_00-00-00.png\n"
     ]
    },
    {
     "name": "stderr",
     "output_type": "stream",
     "text": [
      "/tmp/ipykernel_1683080/4009928038.py:226: FutureWarning: Downcasting behavior in Series and DataFrame methods 'where', 'mask', and 'clip' is deprecated. In a future version this will not infer object dtypes or cast all-round floats to integers. Instead call result.infer_objects(copy=False) for object inference, or cast round floats explicitly. To opt-in to the future behavior, set `pd.set_option('future.no_silent_downcasting', True)`\n",
      "  df_o = df_o.clip(lower=1e-9)\n"
     ]
    },
    {
     "name": "stdout",
     "output_type": "stream",
     "text": [
      "Plot saved at: 2025-10-07_Analysis_for_1000_days/Block_34/data_graphs/GOES_diff_positive_2009-02-21_00-00-00.png\n",
      "3. USAR FUNCIÓN SUNPY calculate_t_em\n",
      "Ahora vamos a calcular la T y EM con el modelo de abundancias:coronal\n"
     ]
    },
    {
     "name": "stderr",
     "output_type": "stream",
     "text": [
      "Files Downloaded: 100%|██████████| 1/1 [00:00<00:00,  1.34file/s]\n",
      "/home/pjgonzalesp/miniforge3/envs/sunpy/lib/python3.13/site-packages/astropy/units/quantity.py:659: RuntimeWarning: divide by zero encountered in divide\n",
      "  result = super().__array_ufunc__(function, method, *arrays, **kwargs)\n",
      "/home/pjgonzalesp/miniforge3/envs/sunpy/lib/python3.13/site-packages/astropy/units/quantity.py:659: RuntimeWarning: invalid value encountered in divide\n",
      "  result = super().__array_ufunc__(function, method, *arrays, **kwargs)\n"
     ]
    },
    {
     "name": "stdout",
     "output_type": "stream",
     "text": [
      "se calculó T y EM con el modelo de abundancias:coronal\n",
      "Ahora vamos a calcular la T y EM con el modelo de abundancias:photospheric\n"
     ]
    },
    {
     "name": "stderr",
     "output_type": "stream",
     "text": [
      "Files Downloaded: 100%|██████████| 1/1 [00:00<00:00,  1.33file/s]\n",
      "2025-10-08 13:20:22 - root - INFO: Searching for GOES flares between 2009-02-21 00:00:00 and 2009-02-21 23:59:00...\n"
     ]
    },
    {
     "name": "stdout",
     "output_type": "stream",
     "text": [
      "se calculó T y EM con el modelo de abundancias:photospheric\n",
      "4. CONSTRUIR df_full\n",
      "5. añadiendo observatorio: GOES: GOES-10\n",
      "se añadió observatorio: GOES: GOES-10\n",
      "6. Descargando flares: 2009-02-21 00:00:00 - 2009-02-21 23:59:00\n"
     ]
    },
    {
     "name": "stderr",
     "output_type": "stream",
     "text": [
      "2025-10-08 13:20:23 - root - INFO: No solar flares found between 2009-02-21 00:00:00 and 2009-02-21 23:59:00.\n"
     ]
    },
    {
     "name": "stdout",
     "output_type": "stream",
     "text": [
      "No se encontraron flares para el intervalo 2009-02-21 00:00:00 - 2009-02-21 23:59:00. Saltando...\n",
      "Saltando intervalo 2009-02-21 00:00:00 - 2009-02-21 23:59:00 (sin datos/flares).\n",
      "1. Descargar datos GOES\n",
      "Buscando datos de: 2009-03-09 00:00:00\n",
      "Descargando datos de 2009-03-09 00:00:00...\n"
     ]
    },
    {
     "name": "stderr",
     "output_type": "stream",
     "text": [
      "Files Downloaded: 100%|██████████| 1/1 [00:00<00:00,  1.83file/s]\n"
     ]
    },
    {
     "name": "stdout",
     "output_type": "stream",
     "text": [
      "Resolution = 1 minute\n",
      "Gráfica guardada en 2025-10-07_Analysis_for_1000_days/Block_34/data_graphs/GOES_2009-03-09_00-00-00.png\n",
      "Observatorio encontrado: GOES-10\n",
      "Se encontraron datos  GOES para 2009-03-09 00:00:00 - 2009-03-09 23:59:00. Día saltado.\n",
      "\n",
      "Número de registros: 1440\n",
      "Columnas disponibles: ['xrsa', 'xrsb', 'xrsa_quality', 'xrsb_quality']\n",
      "2. Restar Background\n",
      "Plot saved at: 2025-10-07_Analysis_for_1000_days/Block_34/data_graphs/GOES_diff_linear_2009-03-09_00-00-00.png\n",
      "Plot saved at: 2025-10-07_Analysis_for_1000_days/Block_34/data_graphs/GOES_diff_log_2009-03-09_00-00-00.png\n"
     ]
    },
    {
     "name": "stderr",
     "output_type": "stream",
     "text": [
      "/tmp/ipykernel_1683080/4009928038.py:226: FutureWarning: Downcasting behavior in Series and DataFrame methods 'where', 'mask', and 'clip' is deprecated. In a future version this will not infer object dtypes or cast all-round floats to integers. Instead call result.infer_objects(copy=False) for object inference, or cast round floats explicitly. To opt-in to the future behavior, set `pd.set_option('future.no_silent_downcasting', True)`\n",
      "  df_o = df_o.clip(lower=1e-9)\n"
     ]
    },
    {
     "name": "stdout",
     "output_type": "stream",
     "text": [
      "Plot saved at: 2025-10-07_Analysis_for_1000_days/Block_34/data_graphs/GOES_diff_positive_2009-03-09_00-00-00.png\n",
      "3. USAR FUNCIÓN SUNPY calculate_t_em\n",
      "Ahora vamos a calcular la T y EM con el modelo de abundancias:coronal\n"
     ]
    },
    {
     "name": "stderr",
     "output_type": "stream",
     "text": [
      "Files Downloaded: 100%|██████████| 1/1 [00:00<00:00,  1.33file/s]\n",
      "/home/pjgonzalesp/miniforge3/envs/sunpy/lib/python3.13/site-packages/astropy/units/quantity.py:659: RuntimeWarning: divide by zero encountered in divide\n",
      "  result = super().__array_ufunc__(function, method, *arrays, **kwargs)\n",
      "/home/pjgonzalesp/miniforge3/envs/sunpy/lib/python3.13/site-packages/astropy/units/quantity.py:659: RuntimeWarning: invalid value encountered in divide\n",
      "  result = super().__array_ufunc__(function, method, *arrays, **kwargs)\n"
     ]
    },
    {
     "name": "stdout",
     "output_type": "stream",
     "text": [
      "se calculó T y EM con el modelo de abundancias:coronal\n",
      "Ahora vamos a calcular la T y EM con el modelo de abundancias:photospheric\n"
     ]
    },
    {
     "name": "stderr",
     "output_type": "stream",
     "text": [
      "Files Downloaded: 100%|██████████| 1/1 [00:00<00:00,  1.17file/s]\n",
      "2025-10-08 13:20:37 - root - INFO: Searching for GOES flares between 2009-03-09 00:00:00 and 2009-03-09 23:59:00...\n"
     ]
    },
    {
     "name": "stdout",
     "output_type": "stream",
     "text": [
      "se calculó T y EM con el modelo de abundancias:photospheric\n",
      "4. CONSTRUIR df_full\n",
      "5. añadiendo observatorio: GOES: GOES-10\n",
      "se añadió observatorio: GOES: GOES-10\n",
      "6. Descargando flares: 2009-03-09 00:00:00 - 2009-03-09 23:59:00\n"
     ]
    },
    {
     "name": "stderr",
     "output_type": "stream",
     "text": [
      "2025-10-08 13:20:38 - root - INFO: No solar flares found between 2009-03-09 00:00:00 and 2009-03-09 23:59:00.\n"
     ]
    },
    {
     "name": "stdout",
     "output_type": "stream",
     "text": [
      "No se encontraron flares para el intervalo 2009-03-09 00:00:00 - 2009-03-09 23:59:00. Saltando...\n",
      "Saltando intervalo 2009-03-09 00:00:00 - 2009-03-09 23:59:00 (sin datos/flares).\n",
      "1. Descargar datos GOES\n",
      "Buscando datos de: 2009-03-25 00:00:00\n",
      "Descargando datos de 2009-03-25 00:00:00...\n"
     ]
    },
    {
     "name": "stderr",
     "output_type": "stream",
     "text": [
      "Files Downloaded: 100%|██████████| 1/1 [00:00<00:00,  1.74file/s]\n"
     ]
    },
    {
     "name": "stdout",
     "output_type": "stream",
     "text": [
      "Resolution = 1 minute\n",
      "Gráfica guardada en 2025-10-07_Analysis_for_1000_days/Block_34/data_graphs/GOES_2009-03-25_00-00-00.png\n",
      "Observatorio encontrado: GOES-10\n",
      "Se encontraron datos  GOES para 2009-03-25 00:00:00 - 2009-03-25 23:59:00. Día saltado.\n",
      "\n",
      "Número de registros: 1440\n",
      "Columnas disponibles: ['xrsa', 'xrsb', 'xrsa_quality', 'xrsb_quality']\n",
      "2. Restar Background\n",
      "Plot saved at: 2025-10-07_Analysis_for_1000_days/Block_34/data_graphs/GOES_diff_linear_2009-03-25_00-00-00.png\n",
      "Plot saved at: 2025-10-07_Analysis_for_1000_days/Block_34/data_graphs/GOES_diff_log_2009-03-25_00-00-00.png\n"
     ]
    },
    {
     "name": "stderr",
     "output_type": "stream",
     "text": [
      "/tmp/ipykernel_1683080/4009928038.py:226: FutureWarning: Downcasting behavior in Series and DataFrame methods 'where', 'mask', and 'clip' is deprecated. In a future version this will not infer object dtypes or cast all-round floats to integers. Instead call result.infer_objects(copy=False) for object inference, or cast round floats explicitly. To opt-in to the future behavior, set `pd.set_option('future.no_silent_downcasting', True)`\n",
      "  df_o = df_o.clip(lower=1e-9)\n"
     ]
    },
    {
     "name": "stdout",
     "output_type": "stream",
     "text": [
      "Plot saved at: 2025-10-07_Analysis_for_1000_days/Block_34/data_graphs/GOES_diff_positive_2009-03-25_00-00-00.png\n",
      "3. USAR FUNCIÓN SUNPY calculate_t_em\n",
      "Ahora vamos a calcular la T y EM con el modelo de abundancias:coronal\n"
     ]
    },
    {
     "name": "stderr",
     "output_type": "stream",
     "text": [
      "Files Downloaded: 100%|██████████| 1/1 [00:00<00:00,  1.18file/s]\n",
      "/home/pjgonzalesp/miniforge3/envs/sunpy/lib/python3.13/site-packages/astropy/units/quantity.py:659: RuntimeWarning: divide by zero encountered in divide\n",
      "  result = super().__array_ufunc__(function, method, *arrays, **kwargs)\n",
      "/home/pjgonzalesp/miniforge3/envs/sunpy/lib/python3.13/site-packages/astropy/units/quantity.py:659: RuntimeWarning: invalid value encountered in divide\n",
      "  result = super().__array_ufunc__(function, method, *arrays, **kwargs)\n"
     ]
    },
    {
     "name": "stdout",
     "output_type": "stream",
     "text": [
      "se calculó T y EM con el modelo de abundancias:coronal\n",
      "Ahora vamos a calcular la T y EM con el modelo de abundancias:photospheric\n"
     ]
    },
    {
     "name": "stderr",
     "output_type": "stream",
     "text": [
      "Files Downloaded: 100%|██████████| 1/1 [00:00<00:00,  1.32file/s]\n",
      "2025-10-08 13:20:52 - root - INFO: Searching for GOES flares between 2009-03-25 00:00:00 and 2009-03-25 23:59:00...\n"
     ]
    },
    {
     "name": "stdout",
     "output_type": "stream",
     "text": [
      "se calculó T y EM con el modelo de abundancias:photospheric\n",
      "4. CONSTRUIR df_full\n",
      "5. añadiendo observatorio: GOES: GOES-10\n",
      "se añadió observatorio: GOES: GOES-10\n",
      "6. Descargando flares: 2009-03-25 00:00:00 - 2009-03-25 23:59:00\n"
     ]
    },
    {
     "name": "stderr",
     "output_type": "stream",
     "text": [
      "2025-10-08 13:20:52 - root - INFO: No solar flares found between 2009-03-25 00:00:00 and 2009-03-25 23:59:00.\n"
     ]
    },
    {
     "name": "stdout",
     "output_type": "stream",
     "text": [
      "No se encontraron flares para el intervalo 2009-03-25 00:00:00 - 2009-03-25 23:59:00. Saltando...\n",
      "Saltando intervalo 2009-03-25 00:00:00 - 2009-03-25 23:59:00 (sin datos/flares).\n",
      "1. Descargar datos GOES\n",
      "Buscando datos de: 2009-04-10 00:00:00\n",
      "Descargando datos de 2009-04-10 00:00:00...\n"
     ]
    },
    {
     "name": "stderr",
     "output_type": "stream",
     "text": [
      "Files Downloaded: 100%|██████████| 1/1 [00:00<00:00,  1.58file/s]\n"
     ]
    },
    {
     "name": "stdout",
     "output_type": "stream",
     "text": [
      "Resolution = 1 minute\n",
      "Gráfica guardada en 2025-10-07_Analysis_for_1000_days/Block_34/data_graphs/GOES_2009-04-10_00-00-00.png\n",
      "Observatorio encontrado: GOES-10\n",
      "Se encontraron datos  GOES para 2009-04-10 00:00:00 - 2009-04-10 23:59:00. Día saltado.\n",
      "\n",
      "Número de registros: 1440\n",
      "Columnas disponibles: ['xrsa', 'xrsb', 'xrsa_quality', 'xrsb_quality']\n",
      "2. Restar Background\n",
      "Plot saved at: 2025-10-07_Analysis_for_1000_days/Block_34/data_graphs/GOES_diff_linear_2009-04-10_00-00-00.png\n",
      "Plot saved at: 2025-10-07_Analysis_for_1000_days/Block_34/data_graphs/GOES_diff_log_2009-04-10_00-00-00.png\n"
     ]
    },
    {
     "name": "stderr",
     "output_type": "stream",
     "text": [
      "/tmp/ipykernel_1683080/4009928038.py:226: FutureWarning: Downcasting behavior in Series and DataFrame methods 'where', 'mask', and 'clip' is deprecated. In a future version this will not infer object dtypes or cast all-round floats to integers. Instead call result.infer_objects(copy=False) for object inference, or cast round floats explicitly. To opt-in to the future behavior, set `pd.set_option('future.no_silent_downcasting', True)`\n",
      "  df_o = df_o.clip(lower=1e-9)\n"
     ]
    },
    {
     "name": "stdout",
     "output_type": "stream",
     "text": [
      "Plot saved at: 2025-10-07_Analysis_for_1000_days/Block_34/data_graphs/GOES_diff_positive_2009-04-10_00-00-00.png\n",
      "3. USAR FUNCIÓN SUNPY calculate_t_em\n",
      "Ahora vamos a calcular la T y EM con el modelo de abundancias:coronal\n"
     ]
    },
    {
     "name": "stderr",
     "output_type": "stream",
     "text": [
      "Files Downloaded: 100%|██████████| 1/1 [00:00<00:00,  1.33file/s]\n",
      "/home/pjgonzalesp/miniforge3/envs/sunpy/lib/python3.13/site-packages/astropy/units/quantity.py:659: RuntimeWarning: divide by zero encountered in divide\n",
      "  result = super().__array_ufunc__(function, method, *arrays, **kwargs)\n",
      "/home/pjgonzalesp/miniforge3/envs/sunpy/lib/python3.13/site-packages/astropy/units/quantity.py:659: RuntimeWarning: invalid value encountered in divide\n",
      "  result = super().__array_ufunc__(function, method, *arrays, **kwargs)\n"
     ]
    },
    {
     "name": "stdout",
     "output_type": "stream",
     "text": [
      "se calculó T y EM con el modelo de abundancias:coronal\n",
      "Ahora vamos a calcular la T y EM con el modelo de abundancias:photospheric\n"
     ]
    },
    {
     "name": "stderr",
     "output_type": "stream",
     "text": [
      "Files Downloaded: 100%|██████████| 1/1 [00:00<00:00,  1.17file/s]\n",
      "2025-10-08 13:21:06 - root - INFO: Searching for GOES flares between 2009-04-10 00:00:00 and 2009-04-10 23:59:00...\n"
     ]
    },
    {
     "name": "stdout",
     "output_type": "stream",
     "text": [
      "se calculó T y EM con el modelo de abundancias:photospheric\n",
      "4. CONSTRUIR df_full\n",
      "5. añadiendo observatorio: GOES: GOES-10\n",
      "se añadió observatorio: GOES: GOES-10\n",
      "6. Descargando flares: 2009-04-10 00:00:00 - 2009-04-10 23:59:00\n"
     ]
    },
    {
     "name": "stderr",
     "output_type": "stream",
     "text": [
      "2025-10-08 13:21:07 - root - INFO: No solar flares found between 2009-04-10 00:00:00 and 2009-04-10 23:59:00.\n"
     ]
    },
    {
     "name": "stdout",
     "output_type": "stream",
     "text": [
      "No se encontraron flares para el intervalo 2009-04-10 00:00:00 - 2009-04-10 23:59:00. Saltando...\n",
      "Saltando intervalo 2009-04-10 00:00:00 - 2009-04-10 23:59:00 (sin datos/flares).\n",
      "1. Descargar datos GOES\n",
      "Buscando datos de: 2009-04-26 00:00:00\n",
      "Descargando datos de 2009-04-26 00:00:00...\n"
     ]
    },
    {
     "name": "stderr",
     "output_type": "stream",
     "text": [
      "Files Downloaded: 100%|██████████| 1/1 [00:00<00:00,  1.82file/s]\n"
     ]
    },
    {
     "name": "stdout",
     "output_type": "stream",
     "text": [
      "Resolution = 1 minute\n",
      "Gráfica guardada en 2025-10-07_Analysis_for_1000_days/Block_34/data_graphs/GOES_2009-04-26_00-00-00.png\n",
      "Observatorio encontrado: GOES-10\n",
      "Se encontraron datos  GOES para 2009-04-26 00:00:00 - 2009-04-26 23:59:00. Día saltado.\n",
      "\n",
      "Número de registros: 1440\n",
      "Columnas disponibles: ['xrsa', 'xrsb', 'xrsa_quality', 'xrsb_quality']\n",
      "2. Restar Background\n",
      "Plot saved at: 2025-10-07_Analysis_for_1000_days/Block_34/data_graphs/GOES_diff_linear_2009-04-26_00-00-00.png\n",
      "Plot saved at: 2025-10-07_Analysis_for_1000_days/Block_34/data_graphs/GOES_diff_log_2009-04-26_00-00-00.png\n"
     ]
    },
    {
     "name": "stderr",
     "output_type": "stream",
     "text": [
      "/tmp/ipykernel_1683080/4009928038.py:226: FutureWarning: Downcasting behavior in Series and DataFrame methods 'where', 'mask', and 'clip' is deprecated. In a future version this will not infer object dtypes or cast all-round floats to integers. Instead call result.infer_objects(copy=False) for object inference, or cast round floats explicitly. To opt-in to the future behavior, set `pd.set_option('future.no_silent_downcasting', True)`\n",
      "  df_o = df_o.clip(lower=1e-9)\n"
     ]
    },
    {
     "name": "stdout",
     "output_type": "stream",
     "text": [
      "Plot saved at: 2025-10-07_Analysis_for_1000_days/Block_34/data_graphs/GOES_diff_positive_2009-04-26_00-00-00.png\n",
      "3. USAR FUNCIÓN SUNPY calculate_t_em\n",
      "Ahora vamos a calcular la T y EM con el modelo de abundancias:coronal\n"
     ]
    },
    {
     "name": "stderr",
     "output_type": "stream",
     "text": [
      "Files Downloaded: 100%|██████████| 1/1 [00:00<00:00,  1.32file/s]\n",
      "/home/pjgonzalesp/miniforge3/envs/sunpy/lib/python3.13/site-packages/astropy/units/quantity.py:659: RuntimeWarning: divide by zero encountered in divide\n",
      "  result = super().__array_ufunc__(function, method, *arrays, **kwargs)\n",
      "/home/pjgonzalesp/miniforge3/envs/sunpy/lib/python3.13/site-packages/astropy/units/quantity.py:659: RuntimeWarning: invalid value encountered in divide\n",
      "  result = super().__array_ufunc__(function, method, *arrays, **kwargs)\n"
     ]
    },
    {
     "name": "stdout",
     "output_type": "stream",
     "text": [
      "se calculó T y EM con el modelo de abundancias:coronal\n",
      "Ahora vamos a calcular la T y EM con el modelo de abundancias:photospheric\n"
     ]
    },
    {
     "name": "stderr",
     "output_type": "stream",
     "text": [
      "Files Downloaded: 100%|██████████| 1/1 [00:00<00:00,  1.32file/s]\n",
      "2025-10-08 13:21:21 - root - INFO: Searching for GOES flares between 2009-04-26 00:00:00 and 2009-04-26 23:59:00...\n"
     ]
    },
    {
     "name": "stdout",
     "output_type": "stream",
     "text": [
      "se calculó T y EM con el modelo de abundancias:photospheric\n",
      "4. CONSTRUIR df_full\n",
      "5. añadiendo observatorio: GOES: GOES-10\n",
      "se añadió observatorio: GOES: GOES-10\n",
      "6. Descargando flares: 2009-04-26 00:00:00 - 2009-04-26 23:59:00\n"
     ]
    },
    {
     "name": "stderr",
     "output_type": "stream",
     "text": [
      "2025-10-08 13:21:21 - root - INFO: No solar flares found between 2009-04-26 00:00:00 and 2009-04-26 23:59:00.\n"
     ]
    },
    {
     "name": "stdout",
     "output_type": "stream",
     "text": [
      "No se encontraron flares para el intervalo 2009-04-26 00:00:00 - 2009-04-26 23:59:00. Saltando...\n",
      "Saltando intervalo 2009-04-26 00:00:00 - 2009-04-26 23:59:00 (sin datos/flares).\n",
      "1. Descargar datos GOES\n",
      "Buscando datos de: 2009-05-12 00:00:00\n",
      "Descargando datos de 2009-05-12 00:00:00...\n"
     ]
    },
    {
     "name": "stderr",
     "output_type": "stream",
     "text": [
      "Files Downloaded: 100%|██████████| 1/1 [00:00<00:00,  1.83file/s]\n"
     ]
    },
    {
     "name": "stdout",
     "output_type": "stream",
     "text": [
      "Resolution = 1 minute\n",
      "Gráfica guardada en 2025-10-07_Analysis_for_1000_days/Block_34/data_graphs/GOES_2009-05-12_00-00-00.png\n",
      "Observatorio encontrado: GOES-10\n",
      "Se encontraron datos  GOES para 2009-05-12 00:00:00 - 2009-05-12 23:59:00. Día saltado.\n",
      "\n",
      "Número de registros: 1440\n",
      "Columnas disponibles: ['xrsa', 'xrsb', 'xrsa_quality', 'xrsb_quality']\n",
      "2. Restar Background\n",
      "Plot saved at: 2025-10-07_Analysis_for_1000_days/Block_34/data_graphs/GOES_diff_linear_2009-05-12_00-00-00.png\n",
      "Plot saved at: 2025-10-07_Analysis_for_1000_days/Block_34/data_graphs/GOES_diff_log_2009-05-12_00-00-00.png\n"
     ]
    },
    {
     "name": "stderr",
     "output_type": "stream",
     "text": [
      "/tmp/ipykernel_1683080/4009928038.py:226: FutureWarning: Downcasting behavior in Series and DataFrame methods 'where', 'mask', and 'clip' is deprecated. In a future version this will not infer object dtypes or cast all-round floats to integers. Instead call result.infer_objects(copy=False) for object inference, or cast round floats explicitly. To opt-in to the future behavior, set `pd.set_option('future.no_silent_downcasting', True)`\n",
      "  df_o = df_o.clip(lower=1e-9)\n"
     ]
    },
    {
     "name": "stdout",
     "output_type": "stream",
     "text": [
      "Plot saved at: 2025-10-07_Analysis_for_1000_days/Block_34/data_graphs/GOES_diff_positive_2009-05-12_00-00-00.png\n",
      "3. USAR FUNCIÓN SUNPY calculate_t_em\n",
      "Ahora vamos a calcular la T y EM con el modelo de abundancias:coronal\n"
     ]
    },
    {
     "name": "stderr",
     "output_type": "stream",
     "text": [
      "Files Downloaded: 100%|██████████| 1/1 [00:00<00:00,  1.33file/s]\n",
      "/home/pjgonzalesp/miniforge3/envs/sunpy/lib/python3.13/site-packages/astropy/units/quantity.py:659: RuntimeWarning: divide by zero encountered in divide\n",
      "  result = super().__array_ufunc__(function, method, *arrays, **kwargs)\n",
      "/home/pjgonzalesp/miniforge3/envs/sunpy/lib/python3.13/site-packages/astropy/units/quantity.py:659: RuntimeWarning: invalid value encountered in divide\n",
      "  result = super().__array_ufunc__(function, method, *arrays, **kwargs)\n"
     ]
    },
    {
     "name": "stdout",
     "output_type": "stream",
     "text": [
      "se calculó T y EM con el modelo de abundancias:coronal\n",
      "Ahora vamos a calcular la T y EM con el modelo de abundancias:photospheric\n"
     ]
    },
    {
     "name": "stderr",
     "output_type": "stream",
     "text": [
      "Files Downloaded: 100%|██████████| 1/1 [00:01<00:00,  1.76s/file]\n",
      "2025-10-08 13:21:36 - root - INFO: Searching for GOES flares between 2009-05-12 00:00:00 and 2009-05-12 23:59:00...\n"
     ]
    },
    {
     "name": "stdout",
     "output_type": "stream",
     "text": [
      "se calculó T y EM con el modelo de abundancias:photospheric\n",
      "4. CONSTRUIR df_full\n",
      "5. añadiendo observatorio: GOES: GOES-10\n",
      "se añadió observatorio: GOES: GOES-10\n",
      "6. Descargando flares: 2009-05-12 00:00:00 - 2009-05-12 23:59:00\n"
     ]
    },
    {
     "name": "stderr",
     "output_type": "stream",
     "text": [
      "2025-10-08 13:21:36 - root - INFO: No solar flares found between 2009-05-12 00:00:00 and 2009-05-12 23:59:00.\n"
     ]
    },
    {
     "name": "stdout",
     "output_type": "stream",
     "text": [
      "No se encontraron flares para el intervalo 2009-05-12 00:00:00 - 2009-05-12 23:59:00. Saltando...\n",
      "Saltando intervalo 2009-05-12 00:00:00 - 2009-05-12 23:59:00 (sin datos/flares).\n",
      "1. Descargar datos GOES\n",
      "Buscando datos de: 2009-05-28 00:00:00\n",
      "Descargando datos de 2009-05-28 00:00:00...\n"
     ]
    },
    {
     "name": "stderr",
     "output_type": "stream",
     "text": [
      "Files Downloaded: 100%|██████████| 1/1 [00:00<00:00,  1.81file/s]\n"
     ]
    },
    {
     "name": "stdout",
     "output_type": "stream",
     "text": [
      "Resolution = 1 minute\n",
      "Gráfica guardada en 2025-10-07_Analysis_for_1000_days/Block_34/data_graphs/GOES_2009-05-28_00-00-00.png\n",
      "Observatorio encontrado: GOES-10\n",
      "Se encontraron datos  GOES para 2009-05-28 00:00:00 - 2009-05-28 23:59:00. Día saltado.\n",
      "\n",
      "Número de registros: 1440\n",
      "Columnas disponibles: ['xrsa', 'xrsb', 'xrsa_quality', 'xrsb_quality']\n",
      "2. Restar Background\n",
      "Plot saved at: 2025-10-07_Analysis_for_1000_days/Block_34/data_graphs/GOES_diff_linear_2009-05-28_00-00-00.png\n",
      "Plot saved at: 2025-10-07_Analysis_for_1000_days/Block_34/data_graphs/GOES_diff_log_2009-05-28_00-00-00.png\n"
     ]
    },
    {
     "name": "stderr",
     "output_type": "stream",
     "text": [
      "/tmp/ipykernel_1683080/4009928038.py:226: FutureWarning: Downcasting behavior in Series and DataFrame methods 'where', 'mask', and 'clip' is deprecated. In a future version this will not infer object dtypes or cast all-round floats to integers. Instead call result.infer_objects(copy=False) for object inference, or cast round floats explicitly. To opt-in to the future behavior, set `pd.set_option('future.no_silent_downcasting', True)`\n",
      "  df_o = df_o.clip(lower=1e-9)\n"
     ]
    },
    {
     "name": "stdout",
     "output_type": "stream",
     "text": [
      "Plot saved at: 2025-10-07_Analysis_for_1000_days/Block_34/data_graphs/GOES_diff_positive_2009-05-28_00-00-00.png\n",
      "3. USAR FUNCIÓN SUNPY calculate_t_em\n",
      "Ahora vamos a calcular la T y EM con el modelo de abundancias:coronal\n"
     ]
    },
    {
     "name": "stderr",
     "output_type": "stream",
     "text": [
      "Files Downloaded: 100%|██████████| 1/1 [00:00<00:00,  1.33file/s]\n",
      "/home/pjgonzalesp/miniforge3/envs/sunpy/lib/python3.13/site-packages/astropy/units/quantity.py:659: RuntimeWarning: divide by zero encountered in divide\n",
      "  result = super().__array_ufunc__(function, method, *arrays, **kwargs)\n",
      "/home/pjgonzalesp/miniforge3/envs/sunpy/lib/python3.13/site-packages/astropy/units/quantity.py:659: RuntimeWarning: invalid value encountered in divide\n",
      "  result = super().__array_ufunc__(function, method, *arrays, **kwargs)\n"
     ]
    },
    {
     "name": "stdout",
     "output_type": "stream",
     "text": [
      "se calculó T y EM con el modelo de abundancias:coronal\n",
      "Ahora vamos a calcular la T y EM con el modelo de abundancias:photospheric\n"
     ]
    },
    {
     "name": "stderr",
     "output_type": "stream",
     "text": [
      "Files Downloaded: 100%|██████████| 1/1 [00:00<00:00,  1.13file/s]\n",
      "2025-10-08 13:21:51 - root - INFO: Searching for GOES flares between 2009-05-28 00:00:00 and 2009-05-28 23:59:00...\n"
     ]
    },
    {
     "name": "stdout",
     "output_type": "stream",
     "text": [
      "se calculó T y EM con el modelo de abundancias:photospheric\n",
      "4. CONSTRUIR df_full\n",
      "5. añadiendo observatorio: GOES: GOES-10\n",
      "se añadió observatorio: GOES: GOES-10\n",
      "6. Descargando flares: 2009-05-28 00:00:00 - 2009-05-28 23:59:00\n"
     ]
    },
    {
     "name": "stderr",
     "output_type": "stream",
     "text": [
      "2025-10-08 13:21:52 - root - INFO: No solar flares found between 2009-05-28 00:00:00 and 2009-05-28 23:59:00.\n"
     ]
    },
    {
     "name": "stdout",
     "output_type": "stream",
     "text": [
      "No se encontraron flares para el intervalo 2009-05-28 00:00:00 - 2009-05-28 23:59:00. Saltando...\n",
      "Saltando intervalo 2009-05-28 00:00:00 - 2009-05-28 23:59:00 (sin datos/flares).\n",
      "1. Descargar datos GOES\n",
      "Buscando datos de: 2009-06-13 00:00:00\n",
      "Descargando datos de 2009-06-13 00:00:00...\n"
     ]
    },
    {
     "name": "stderr",
     "output_type": "stream",
     "text": [
      "Files Downloaded: 100%|██████████| 1/1 [00:00<00:00,  1.79file/s]\n"
     ]
    },
    {
     "name": "stdout",
     "output_type": "stream",
     "text": [
      "Resolution = 1 minute\n",
      "Gráfica guardada en 2025-10-07_Analysis_for_1000_days/Block_34/data_graphs/GOES_2009-06-13_00-00-00.png\n",
      "Observatorio encontrado: GOES-10\n",
      "Se encontraron datos  GOES para 2009-06-13 00:00:00 - 2009-06-13 23:59:00. Día saltado.\n",
      "\n",
      "Número de registros: 1440\n",
      "Columnas disponibles: ['xrsa', 'xrsb', 'xrsa_quality', 'xrsb_quality']\n",
      "2. Restar Background\n",
      "Plot saved at: 2025-10-07_Analysis_for_1000_days/Block_34/data_graphs/GOES_diff_linear_2009-06-13_00-00-00.png\n",
      "Plot saved at: 2025-10-07_Analysis_for_1000_days/Block_34/data_graphs/GOES_diff_log_2009-06-13_00-00-00.png\n"
     ]
    },
    {
     "name": "stderr",
     "output_type": "stream",
     "text": [
      "/tmp/ipykernel_1683080/4009928038.py:226: FutureWarning: Downcasting behavior in Series and DataFrame methods 'where', 'mask', and 'clip' is deprecated. In a future version this will not infer object dtypes or cast all-round floats to integers. Instead call result.infer_objects(copy=False) for object inference, or cast round floats explicitly. To opt-in to the future behavior, set `pd.set_option('future.no_silent_downcasting', True)`\n",
      "  df_o = df_o.clip(lower=1e-9)\n"
     ]
    },
    {
     "name": "stdout",
     "output_type": "stream",
     "text": [
      "Plot saved at: 2025-10-07_Analysis_for_1000_days/Block_34/data_graphs/GOES_diff_positive_2009-06-13_00-00-00.png\n",
      "3. USAR FUNCIÓN SUNPY calculate_t_em\n",
      "Ahora vamos a calcular la T y EM con el modelo de abundancias:coronal\n"
     ]
    },
    {
     "name": "stderr",
     "output_type": "stream",
     "text": [
      "Files Downloaded: 100%|██████████| 1/1 [00:00<00:00,  1.30file/s]\n",
      "/home/pjgonzalesp/miniforge3/envs/sunpy/lib/python3.13/site-packages/astropy/units/quantity.py:659: RuntimeWarning: divide by zero encountered in divide\n",
      "  result = super().__array_ufunc__(function, method, *arrays, **kwargs)\n",
      "/home/pjgonzalesp/miniforge3/envs/sunpy/lib/python3.13/site-packages/astropy/units/quantity.py:659: RuntimeWarning: invalid value encountered in divide\n",
      "  result = super().__array_ufunc__(function, method, *arrays, **kwargs)\n"
     ]
    },
    {
     "name": "stdout",
     "output_type": "stream",
     "text": [
      "se calculó T y EM con el modelo de abundancias:coronal\n",
      "Ahora vamos a calcular la T y EM con el modelo de abundancias:photospheric\n"
     ]
    },
    {
     "name": "stderr",
     "output_type": "stream",
     "text": [
      "Files Downloaded:   0%|          | 0/1 [00:00<?, ?file/s]Exception ignored in: <function BaseEventLoop.__del__ at 0x7f59d3f2b420>\n",
      "Traceback (most recent call last):\n",
      "  File \"/home/pjgonzalesp/miniforge3/envs/sunpy/lib/python3.13/asyncio/base_events.py\", line 766, in __del__\n",
      "    self.close()\n",
      "  File \"/home/pjgonzalesp/miniforge3/envs/sunpy/lib/python3.13/asyncio/unix_events.py\", line 73, in close\n",
      "    self.remove_signal_handler(sig)\n",
      "  File \"/home/pjgonzalesp/miniforge3/envs/sunpy/lib/python3.13/asyncio/unix_events.py\", line 162, in remove_signal_handler\n",
      "    signal.signal(sig, handler)\n",
      "  File \"/home/pjgonzalesp/miniforge3/envs/sunpy/lib/python3.13/signal.py\", line 58, in signal\n",
      "    handler = _signal.signal(_enum_to_int(signalnum), _enum_to_int(handler))\n",
      "ValueError: signal only works in main thread of the main interpreter\n",
      "Files Downloaded: 100%|██████████| 1/1 [00:00<00:00,  1.32file/s]\n",
      "2025-10-08 13:22:06 - root - INFO: Searching for GOES flares between 2009-06-13 00:00:00 and 2009-06-13 23:59:00...\n"
     ]
    },
    {
     "name": "stdout",
     "output_type": "stream",
     "text": [
      "se calculó T y EM con el modelo de abundancias:photospheric\n",
      "4. CONSTRUIR df_full\n",
      "5. añadiendo observatorio: GOES: GOES-10\n",
      "se añadió observatorio: GOES: GOES-10\n",
      "6. Descargando flares: 2009-06-13 00:00:00 - 2009-06-13 23:59:00\n"
     ]
    },
    {
     "name": "stderr",
     "output_type": "stream",
     "text": [
      "2025-10-08 13:22:06 - root - INFO: No solar flares found between 2009-06-13 00:00:00 and 2009-06-13 23:59:00.\n"
     ]
    },
    {
     "name": "stdout",
     "output_type": "stream",
     "text": [
      "No se encontraron flares para el intervalo 2009-06-13 00:00:00 - 2009-06-13 23:59:00. Saltando...\n",
      "Saltando intervalo 2009-06-13 00:00:00 - 2009-06-13 23:59:00 (sin datos/flares).\n",
      "1. Descargar datos GOES\n",
      "Buscando datos de: 2009-06-29 00:00:00\n",
      "Descargando datos de 2009-06-29 00:00:00...\n"
     ]
    },
    {
     "name": "stderr",
     "output_type": "stream",
     "text": [
      "Files Downloaded: 100%|██████████| 1/1 [00:00<00:00,  1.83file/s]\n"
     ]
    },
    {
     "name": "stdout",
     "output_type": "stream",
     "text": [
      "Resolution = 1 minute\n",
      "Gráfica guardada en 2025-10-07_Analysis_for_1000_days/Block_34/data_graphs/GOES_2009-06-29_00-00-00.png\n",
      "Observatorio encontrado: GOES-10\n",
      "Se encontraron datos  GOES para 2009-06-29 00:00:00 - 2009-06-29 23:59:00. Día saltado.\n",
      "\n",
      "Número de registros: 1440\n",
      "Columnas disponibles: ['xrsa', 'xrsb', 'xrsa_quality', 'xrsb_quality']\n",
      "2. Restar Background\n",
      "Plot saved at: 2025-10-07_Analysis_for_1000_days/Block_34/data_graphs/GOES_diff_linear_2009-06-29_00-00-00.png\n",
      "Plot saved at: 2025-10-07_Analysis_for_1000_days/Block_34/data_graphs/GOES_diff_log_2009-06-29_00-00-00.png\n"
     ]
    },
    {
     "name": "stderr",
     "output_type": "stream",
     "text": [
      "/tmp/ipykernel_1683080/4009928038.py:226: FutureWarning: Downcasting behavior in Series and DataFrame methods 'where', 'mask', and 'clip' is deprecated. In a future version this will not infer object dtypes or cast all-round floats to integers. Instead call result.infer_objects(copy=False) for object inference, or cast round floats explicitly. To opt-in to the future behavior, set `pd.set_option('future.no_silent_downcasting', True)`\n",
      "  df_o = df_o.clip(lower=1e-9)\n"
     ]
    },
    {
     "name": "stdout",
     "output_type": "stream",
     "text": [
      "Plot saved at: 2025-10-07_Analysis_for_1000_days/Block_34/data_graphs/GOES_diff_positive_2009-06-29_00-00-00.png\n",
      "3. USAR FUNCIÓN SUNPY calculate_t_em\n",
      "Ahora vamos a calcular la T y EM con el modelo de abundancias:coronal\n"
     ]
    },
    {
     "name": "stderr",
     "output_type": "stream",
     "text": [
      "Files Downloaded: 100%|██████████| 1/1 [00:00<00:00,  1.34file/s]\n",
      "/home/pjgonzalesp/miniforge3/envs/sunpy/lib/python3.13/site-packages/astropy/units/quantity.py:659: RuntimeWarning: divide by zero encountered in divide\n",
      "  result = super().__array_ufunc__(function, method, *arrays, **kwargs)\n",
      "/home/pjgonzalesp/miniforge3/envs/sunpy/lib/python3.13/site-packages/astropy/units/quantity.py:659: RuntimeWarning: invalid value encountered in divide\n",
      "  result = super().__array_ufunc__(function, method, *arrays, **kwargs)\n"
     ]
    },
    {
     "name": "stdout",
     "output_type": "stream",
     "text": [
      "se calculó T y EM con el modelo de abundancias:coronal\n",
      "Ahora vamos a calcular la T y EM con el modelo de abundancias:photospheric\n"
     ]
    },
    {
     "name": "stderr",
     "output_type": "stream",
     "text": [
      "Files Downloaded: 100%|██████████| 1/1 [00:00<00:00,  1.27file/s]\n",
      "2025-10-08 13:22:20 - root - INFO: Searching for GOES flares between 2009-06-29 00:00:00 and 2009-06-29 23:59:00...\n"
     ]
    },
    {
     "name": "stdout",
     "output_type": "stream",
     "text": [
      "se calculó T y EM con el modelo de abundancias:photospheric\n",
      "4. CONSTRUIR df_full\n",
      "5. añadiendo observatorio: GOES: GOES-10\n",
      "se añadió observatorio: GOES: GOES-10\n",
      "6. Descargando flares: 2009-06-29 00:00:00 - 2009-06-29 23:59:00\n"
     ]
    },
    {
     "name": "stderr",
     "output_type": "stream",
     "text": [
      "2025-10-08 13:22:21 - root - INFO: No solar flares found between 2009-06-29 00:00:00 and 2009-06-29 23:59:00.\n"
     ]
    },
    {
     "name": "stdout",
     "output_type": "stream",
     "text": [
      "No se encontraron flares para el intervalo 2009-06-29 00:00:00 - 2009-06-29 23:59:00. Saltando...\n",
      "Saltando intervalo 2009-06-29 00:00:00 - 2009-06-29 23:59:00 (sin datos/flares).\n",
      "1. Descargar datos GOES\n",
      "Buscando datos de: 2009-07-15 00:00:00\n",
      "Descargando datos de 2009-07-15 00:00:00...\n"
     ]
    },
    {
     "name": "stderr",
     "output_type": "stream",
     "text": [
      "Files Downloaded: 100%|██████████| 1/1 [00:00<00:00,  1.83file/s]\n"
     ]
    },
    {
     "name": "stdout",
     "output_type": "stream",
     "text": [
      "Resolution = 1 minute\n",
      "Gráfica guardada en 2025-10-07_Analysis_for_1000_days/Block_34/data_graphs/GOES_2009-07-15_00-00-00.png\n",
      "Observatorio encontrado: GOES-10\n",
      "Se encontraron datos  GOES para 2009-07-15 00:00:00 - 2009-07-15 23:59:00. Día saltado.\n",
      "\n",
      "Número de registros: 1440\n",
      "Columnas disponibles: ['xrsa', 'xrsb', 'xrsa_quality', 'xrsb_quality']\n",
      "2. Restar Background\n",
      "Plot saved at: 2025-10-07_Analysis_for_1000_days/Block_34/data_graphs/GOES_diff_linear_2009-07-15_00-00-00.png\n",
      "Plot saved at: 2025-10-07_Analysis_for_1000_days/Block_34/data_graphs/GOES_diff_log_2009-07-15_00-00-00.png\n"
     ]
    },
    {
     "name": "stderr",
     "output_type": "stream",
     "text": [
      "/tmp/ipykernel_1683080/4009928038.py:226: FutureWarning: Downcasting behavior in Series and DataFrame methods 'where', 'mask', and 'clip' is deprecated. In a future version this will not infer object dtypes or cast all-round floats to integers. Instead call result.infer_objects(copy=False) for object inference, or cast round floats explicitly. To opt-in to the future behavior, set `pd.set_option('future.no_silent_downcasting', True)`\n",
      "  df_o = df_o.clip(lower=1e-9)\n"
     ]
    },
    {
     "name": "stdout",
     "output_type": "stream",
     "text": [
      "Plot saved at: 2025-10-07_Analysis_for_1000_days/Block_34/data_graphs/GOES_diff_positive_2009-07-15_00-00-00.png\n",
      "3. USAR FUNCIÓN SUNPY calculate_t_em\n",
      "Ahora vamos a calcular la T y EM con el modelo de abundancias:coronal\n"
     ]
    },
    {
     "name": "stderr",
     "output_type": "stream",
     "text": [
      "Files Downloaded: 100%|██████████| 1/1 [00:00<00:00,  1.34file/s]\n",
      "/home/pjgonzalesp/miniforge3/envs/sunpy/lib/python3.13/site-packages/astropy/units/quantity.py:659: RuntimeWarning: divide by zero encountered in divide\n",
      "  result = super().__array_ufunc__(function, method, *arrays, **kwargs)\n",
      "/home/pjgonzalesp/miniforge3/envs/sunpy/lib/python3.13/site-packages/astropy/units/quantity.py:659: RuntimeWarning: invalid value encountered in divide\n",
      "  result = super().__array_ufunc__(function, method, *arrays, **kwargs)\n"
     ]
    },
    {
     "name": "stdout",
     "output_type": "stream",
     "text": [
      "se calculó T y EM con el modelo de abundancias:coronal\n",
      "Ahora vamos a calcular la T y EM con el modelo de abundancias:photospheric\n"
     ]
    },
    {
     "name": "stderr",
     "output_type": "stream",
     "text": [
      "Files Downloaded:   0%|          | 0/1 [00:00<?, ?file/s]\n",
      "Exception ignored in: <function BaseEventLoop.__del__ at 0x7f59d3f2b420>\n",
      "Traceback (most recent call last):\n",
      "  File \"/home/pjgonzalesp/miniforge3/envs/sunpy/lib/python3.13/asyncio/base_events.py\", line 766, in __del__\n",
      "    self.close()\n",
      "  File \"/home/pjgonzalesp/miniforge3/envs/sunpy/lib/python3.13/asyncio/unix_events.py\", line 73, in close\n",
      "    self.remove_signal_handler(sig)\n",
      "  File \"/home/pjgonzalesp/miniforge3/envs/sunpy/lib/python3.13/asyncio/unix_events.py\", line 162, in remove_signal_handler\n",
      "    signal.signal(sig, handler)\n",
      "  File \"/home/pjgonzalesp/miniforge3/envs/sunpy/lib/python3.13/signal.py\", line 58, in signal\n",
      "    handler = _signal.signal(_enum_to_int(signalnum), _enum_to_int(handler))\n",
      "Files Downloaded: 100%|██████████| 1/1 [00:00<00:00,  1.33file/s]ter\n",
      "2025-10-08 13:22:35 - root - INFO: Searching for GOES flares between 2009-07-15 00:00:00 and 2009-07-15 23:59:00...\n"
     ]
    },
    {
     "name": "stdout",
     "output_type": "stream",
     "text": [
      "se calculó T y EM con el modelo de abundancias:photospheric\n",
      "4. CONSTRUIR df_full\n",
      "5. añadiendo observatorio: GOES: GOES-10\n",
      "se añadió observatorio: GOES: GOES-10\n",
      "6. Descargando flares: 2009-07-15 00:00:00 - 2009-07-15 23:59:00\n"
     ]
    },
    {
     "name": "stderr",
     "output_type": "stream",
     "text": [
      "2025-10-08 13:22:36 - root - INFO: No solar flares found between 2009-07-15 00:00:00 and 2009-07-15 23:59:00.\n"
     ]
    },
    {
     "name": "stdout",
     "output_type": "stream",
     "text": [
      "No se encontraron flares para el intervalo 2009-07-15 00:00:00 - 2009-07-15 23:59:00. Saltando...\n",
      "Saltando intervalo 2009-07-15 00:00:00 - 2009-07-15 23:59:00 (sin datos/flares).\n",
      "1. Descargar datos GOES\n",
      "Buscando datos de: 2009-07-31 00:00:00\n",
      "Descargando datos de 2009-07-31 00:00:00...\n"
     ]
    },
    {
     "name": "stderr",
     "output_type": "stream",
     "text": [
      "Files Downloaded: 100%|██████████| 1/1 [00:00<00:00,  1.81file/s]\n"
     ]
    },
    {
     "name": "stdout",
     "output_type": "stream",
     "text": [
      "Resolution = 1 minute\n",
      "Gráfica guardada en 2025-10-07_Analysis_for_1000_days/Block_34/data_graphs/GOES_2009-07-31_00-00-00.png\n",
      "Observatorio encontrado: GOES-10\n",
      "Se encontraron datos  GOES para 2009-07-31 00:00:00 - 2009-07-31 23:59:00. Día saltado.\n",
      "\n",
      "Número de registros: 1440\n",
      "Columnas disponibles: ['xrsa', 'xrsb', 'xrsa_quality', 'xrsb_quality']\n",
      "2. Restar Background\n",
      "Plot saved at: 2025-10-07_Analysis_for_1000_days/Block_34/data_graphs/GOES_diff_linear_2009-07-31_00-00-00.png\n",
      "Plot saved at: 2025-10-07_Analysis_for_1000_days/Block_34/data_graphs/GOES_diff_log_2009-07-31_00-00-00.png\n"
     ]
    },
    {
     "name": "stderr",
     "output_type": "stream",
     "text": [
      "/tmp/ipykernel_1683080/4009928038.py:226: FutureWarning: Downcasting behavior in Series and DataFrame methods 'where', 'mask', and 'clip' is deprecated. In a future version this will not infer object dtypes or cast all-round floats to integers. Instead call result.infer_objects(copy=False) for object inference, or cast round floats explicitly. To opt-in to the future behavior, set `pd.set_option('future.no_silent_downcasting', True)`\n",
      "  df_o = df_o.clip(lower=1e-9)\n"
     ]
    },
    {
     "name": "stdout",
     "output_type": "stream",
     "text": [
      "Plot saved at: 2025-10-07_Analysis_for_1000_days/Block_34/data_graphs/GOES_diff_positive_2009-07-31_00-00-00.png\n",
      "3. USAR FUNCIÓN SUNPY calculate_t_em\n",
      "Ahora vamos a calcular la T y EM con el modelo de abundancias:coronal\n"
     ]
    },
    {
     "name": "stderr",
     "output_type": "stream",
     "text": [
      "Files Downloaded: 100%|██████████| 1/1 [00:00<00:00,  1.34file/s]\n",
      "/home/pjgonzalesp/miniforge3/envs/sunpy/lib/python3.13/site-packages/astropy/units/quantity.py:659: RuntimeWarning: divide by zero encountered in divide\n",
      "  result = super().__array_ufunc__(function, method, *arrays, **kwargs)\n",
      "/home/pjgonzalesp/miniforge3/envs/sunpy/lib/python3.13/site-packages/astropy/units/quantity.py:659: RuntimeWarning: invalid value encountered in divide\n",
      "  result = super().__array_ufunc__(function, method, *arrays, **kwargs)\n"
     ]
    },
    {
     "name": "stdout",
     "output_type": "stream",
     "text": [
      "se calculó T y EM con el modelo de abundancias:coronal\n",
      "Ahora vamos a calcular la T y EM con el modelo de abundancias:photospheric\n"
     ]
    },
    {
     "name": "stderr",
     "output_type": "stream",
     "text": [
      "Files Downloaded: 100%|██████████| 1/1 [00:00<00:00,  1.17file/s]\n",
      "2025-10-08 13:22:50 - root - INFO: Searching for GOES flares between 2009-07-31 00:00:00 and 2009-07-31 23:59:00...\n"
     ]
    },
    {
     "name": "stdout",
     "output_type": "stream",
     "text": [
      "se calculó T y EM con el modelo de abundancias:photospheric\n",
      "4. CONSTRUIR df_full\n",
      "5. añadiendo observatorio: GOES: GOES-10\n",
      "se añadió observatorio: GOES: GOES-10\n",
      "6. Descargando flares: 2009-07-31 00:00:00 - 2009-07-31 23:59:00\n"
     ]
    },
    {
     "name": "stderr",
     "output_type": "stream",
     "text": [
      "2025-10-08 13:22:50 - root - INFO: No solar flares found between 2009-07-31 00:00:00 and 2009-07-31 23:59:00.\n"
     ]
    },
    {
     "name": "stdout",
     "output_type": "stream",
     "text": [
      "No se encontraron flares para el intervalo 2009-07-31 00:00:00 - 2009-07-31 23:59:00. Saltando...\n",
      "Saltando intervalo 2009-07-31 00:00:00 - 2009-07-31 23:59:00 (sin datos/flares).\n",
      "1. Descargar datos GOES\n",
      "Buscando datos de: 2009-08-16 00:00:00\n",
      "Descargando datos de 2009-08-16 00:00:00...\n"
     ]
    },
    {
     "name": "stderr",
     "output_type": "stream",
     "text": [
      "Files Downloaded: 100%|██████████| 1/1 [00:00<00:00,  1.83file/s]\n"
     ]
    },
    {
     "name": "stdout",
     "output_type": "stream",
     "text": [
      "Resolution = 1 minute\n",
      "Gráfica guardada en 2025-10-07_Analysis_for_1000_days/Block_34/data_graphs/GOES_2009-08-16_00-00-00.png\n",
      "Observatorio encontrado: GOES-10\n",
      "Se encontraron datos  GOES para 2009-08-16 00:00:00 - 2009-08-16 23:59:00. Día saltado.\n",
      "\n",
      "Número de registros: 1440\n",
      "Columnas disponibles: ['xrsa', 'xrsb', 'xrsa_quality', 'xrsb_quality']\n",
      "2. Restar Background\n",
      "Plot saved at: 2025-10-07_Analysis_for_1000_days/Block_34/data_graphs/GOES_diff_linear_2009-08-16_00-00-00.png\n",
      "Plot saved at: 2025-10-07_Analysis_for_1000_days/Block_34/data_graphs/GOES_diff_log_2009-08-16_00-00-00.png\n"
     ]
    },
    {
     "name": "stderr",
     "output_type": "stream",
     "text": [
      "/tmp/ipykernel_1683080/4009928038.py:226: FutureWarning: Downcasting behavior in Series and DataFrame methods 'where', 'mask', and 'clip' is deprecated. In a future version this will not infer object dtypes or cast all-round floats to integers. Instead call result.infer_objects(copy=False) for object inference, or cast round floats explicitly. To opt-in to the future behavior, set `pd.set_option('future.no_silent_downcasting', True)`\n",
      "  df_o = df_o.clip(lower=1e-9)\n"
     ]
    },
    {
     "name": "stdout",
     "output_type": "stream",
     "text": [
      "Plot saved at: 2025-10-07_Analysis_for_1000_days/Block_34/data_graphs/GOES_diff_positive_2009-08-16_00-00-00.png\n",
      "3. USAR FUNCIÓN SUNPY calculate_t_em\n",
      "Ahora vamos a calcular la T y EM con el modelo de abundancias:coronal\n"
     ]
    },
    {
     "name": "stderr",
     "output_type": "stream",
     "text": [
      "Files Downloaded: 100%|██████████| 1/1 [00:00<00:00,  1.33file/s]\n",
      "/home/pjgonzalesp/miniforge3/envs/sunpy/lib/python3.13/site-packages/astropy/units/quantity.py:659: RuntimeWarning: divide by zero encountered in divide\n",
      "  result = super().__array_ufunc__(function, method, *arrays, **kwargs)\n",
      "/home/pjgonzalesp/miniforge3/envs/sunpy/lib/python3.13/site-packages/astropy/units/quantity.py:659: RuntimeWarning: invalid value encountered in divide\n",
      "  result = super().__array_ufunc__(function, method, *arrays, **kwargs)\n"
     ]
    },
    {
     "name": "stdout",
     "output_type": "stream",
     "text": [
      "se calculó T y EM con el modelo de abundancias:coronal\n",
      "Ahora vamos a calcular la T y EM con el modelo de abundancias:photospheric\n"
     ]
    },
    {
     "name": "stderr",
     "output_type": "stream",
     "text": [
      "Files Downloaded:   0%|          | 0/1 [00:00<?, ?file/s]Exception ignored in: <function BaseEventLoop.__del__ at 0x7f59d3f2b420>\n",
      "Traceback (most recent call last):\n",
      "  File \"/home/pjgonzalesp/miniforge3/envs/sunpy/lib/python3.13/asyncio/base_events.py\", line 766, in __del__\n",
      "    self.close()\n",
      "  File \"/home/pjgonzalesp/miniforge3/envs/sunpy/lib/python3.13/asyncio/unix_events.py\", line 73, in close\n",
      "    self.remove_signal_handler(sig)\n",
      "  File \"/home/pjgonzalesp/miniforge3/envs/sunpy/lib/python3.13/asyncio/unix_events.py\", line 162, in remove_signal_handler\n",
      "    signal.signal(sig, handler)\n",
      "  File \"/home/pjgonzalesp/miniforge3/envs/sunpy/lib/python3.13/signal.py\", line 58, in signal\n",
      "    handler = _signal.signal(_enum_to_int(signalnum), _enum_to_int(handler))\n",
      "ValueError: signal only works in main thread of the main interpreter\n",
      "Files Downloaded: 100%|██████████| 1/1 [00:00<00:00,  1.32file/s]\n",
      "2025-10-08 13:23:04 - root - INFO: Searching for GOES flares between 2009-08-16 00:00:00 and 2009-08-16 23:59:00...\n"
     ]
    },
    {
     "name": "stdout",
     "output_type": "stream",
     "text": [
      "se calculó T y EM con el modelo de abundancias:photospheric\n",
      "4. CONSTRUIR df_full\n",
      "5. añadiendo observatorio: GOES: GOES-10\n",
      "se añadió observatorio: GOES: GOES-10\n",
      "6. Descargando flares: 2009-08-16 00:00:00 - 2009-08-16 23:59:00\n"
     ]
    },
    {
     "name": "stderr",
     "output_type": "stream",
     "text": [
      "2025-10-08 13:23:05 - root - INFO: No solar flares found between 2009-08-16 00:00:00 and 2009-08-16 23:59:00.\n"
     ]
    },
    {
     "name": "stdout",
     "output_type": "stream",
     "text": [
      "No se encontraron flares para el intervalo 2009-08-16 00:00:00 - 2009-08-16 23:59:00. Saltando...\n",
      "Saltando intervalo 2009-08-16 00:00:00 - 2009-08-16 23:59:00 (sin datos/flares).\n",
      "1. Descargar datos GOES\n",
      "Buscando datos de: 2009-09-01 00:00:00\n",
      "Descargando datos de 2009-09-01 00:00:00...\n"
     ]
    },
    {
     "name": "stderr",
     "output_type": "stream",
     "text": [
      "Files Downloaded: 100%|██████████| 1/1 [00:00<00:00,  1.82file/s]\n"
     ]
    },
    {
     "name": "stdout",
     "output_type": "stream",
     "text": [
      "Resolution = 1 minute\n",
      "Gráfica guardada en 2025-10-07_Analysis_for_1000_days/Block_34/data_graphs/GOES_2009-09-01_00-00-00.png\n",
      "Observatorio encontrado: GOES-10\n",
      "Se encontraron datos  GOES para 2009-09-01 00:00:00 - 2009-09-01 23:59:00. Día saltado.\n",
      "\n",
      "Número de registros: 1440\n",
      "Columnas disponibles: ['xrsa', 'xrsb', 'xrsa_quality', 'xrsb_quality']\n",
      "2. Restar Background\n",
      "Plot saved at: 2025-10-07_Analysis_for_1000_days/Block_34/data_graphs/GOES_diff_linear_2009-09-01_00-00-00.png\n",
      "Plot saved at: 2025-10-07_Analysis_for_1000_days/Block_34/data_graphs/GOES_diff_log_2009-09-01_00-00-00.png\n"
     ]
    },
    {
     "name": "stderr",
     "output_type": "stream",
     "text": [
      "/tmp/ipykernel_1683080/4009928038.py:226: FutureWarning: Downcasting behavior in Series and DataFrame methods 'where', 'mask', and 'clip' is deprecated. In a future version this will not infer object dtypes or cast all-round floats to integers. Instead call result.infer_objects(copy=False) for object inference, or cast round floats explicitly. To opt-in to the future behavior, set `pd.set_option('future.no_silent_downcasting', True)`\n",
      "  df_o = df_o.clip(lower=1e-9)\n"
     ]
    },
    {
     "name": "stdout",
     "output_type": "stream",
     "text": [
      "Plot saved at: 2025-10-07_Analysis_for_1000_days/Block_34/data_graphs/GOES_diff_positive_2009-09-01_00-00-00.png\n",
      "3. USAR FUNCIÓN SUNPY calculate_t_em\n",
      "Ahora vamos a calcular la T y EM con el modelo de abundancias:coronal\n"
     ]
    },
    {
     "name": "stderr",
     "output_type": "stream",
     "text": [
      "Files Downloaded: 100%|██████████| 1/1 [00:00<00:00,  1.33file/s]\n",
      "/home/pjgonzalesp/miniforge3/envs/sunpy/lib/python3.13/site-packages/astropy/units/quantity.py:659: RuntimeWarning: divide by zero encountered in divide\n",
      "  result = super().__array_ufunc__(function, method, *arrays, **kwargs)\n",
      "/home/pjgonzalesp/miniforge3/envs/sunpy/lib/python3.13/site-packages/astropy/units/quantity.py:659: RuntimeWarning: invalid value encountered in divide\n",
      "  result = super().__array_ufunc__(function, method, *arrays, **kwargs)\n"
     ]
    },
    {
     "name": "stdout",
     "output_type": "stream",
     "text": [
      "se calculó T y EM con el modelo de abundancias:coronal\n",
      "Ahora vamos a calcular la T y EM con el modelo de abundancias:photospheric\n"
     ]
    },
    {
     "name": "stderr",
     "output_type": "stream",
     "text": [
      "Files Downloaded: 100%|██████████| 1/1 [00:00<00:00,  1.29file/s]\n",
      "2025-10-08 13:23:18 - root - INFO: Searching for GOES flares between 2009-09-01 00:00:00 and 2009-09-01 23:59:00...\n"
     ]
    },
    {
     "name": "stdout",
     "output_type": "stream",
     "text": [
      "se calculó T y EM con el modelo de abundancias:photospheric\n",
      "4. CONSTRUIR df_full\n",
      "5. añadiendo observatorio: GOES: GOES-10\n",
      "se añadió observatorio: GOES: GOES-10\n",
      "6. Descargando flares: 2009-09-01 00:00:00 - 2009-09-01 23:59:00\n"
     ]
    },
    {
     "name": "stderr",
     "output_type": "stream",
     "text": [
      "2025-10-08 13:23:19 - root - INFO: No solar flares found between 2009-09-01 00:00:00 and 2009-09-01 23:59:00.\n"
     ]
    },
    {
     "name": "stdout",
     "output_type": "stream",
     "text": [
      "No se encontraron flares para el intervalo 2009-09-01 00:00:00 - 2009-09-01 23:59:00. Saltando...\n",
      "Saltando intervalo 2009-09-01 00:00:00 - 2009-09-01 23:59:00 (sin datos/flares).\n",
      "1. Descargar datos GOES\n",
      "Buscando datos de: 2009-09-17 00:00:00\n",
      "Descargando datos de 2009-09-17 00:00:00...\n"
     ]
    },
    {
     "name": "stderr",
     "output_type": "stream",
     "text": [
      "Files Downloaded: 100%|██████████| 1/1 [00:00<00:00,  1.80file/s]\n"
     ]
    },
    {
     "name": "stdout",
     "output_type": "stream",
     "text": [
      "Resolution = 1 minute\n",
      "Gráfica guardada en 2025-10-07_Analysis_for_1000_days/Block_34/data_graphs/GOES_2009-09-17_00-00-00.png\n",
      "Observatorio encontrado: GOES-10\n",
      "Se encontraron datos  GOES para 2009-09-17 00:00:00 - 2009-09-17 23:59:00. Día saltado.\n",
      "\n",
      "Número de registros: 1440\n",
      "Columnas disponibles: ['xrsa', 'xrsb', 'xrsa_quality', 'xrsb_quality']\n",
      "2. Restar Background\n",
      "Plot saved at: 2025-10-07_Analysis_for_1000_days/Block_34/data_graphs/GOES_diff_linear_2009-09-17_00-00-00.png\n",
      "Plot saved at: 2025-10-07_Analysis_for_1000_days/Block_34/data_graphs/GOES_diff_log_2009-09-17_00-00-00.png\n"
     ]
    },
    {
     "name": "stderr",
     "output_type": "stream",
     "text": [
      "/tmp/ipykernel_1683080/4009928038.py:226: FutureWarning: Downcasting behavior in Series and DataFrame methods 'where', 'mask', and 'clip' is deprecated. In a future version this will not infer object dtypes or cast all-round floats to integers. Instead call result.infer_objects(copy=False) for object inference, or cast round floats explicitly. To opt-in to the future behavior, set `pd.set_option('future.no_silent_downcasting', True)`\n",
      "  df_o = df_o.clip(lower=1e-9)\n"
     ]
    },
    {
     "name": "stdout",
     "output_type": "stream",
     "text": [
      "Plot saved at: 2025-10-07_Analysis_for_1000_days/Block_34/data_graphs/GOES_diff_positive_2009-09-17_00-00-00.png\n",
      "3. USAR FUNCIÓN SUNPY calculate_t_em\n",
      "Ahora vamos a calcular la T y EM con el modelo de abundancias:coronal\n"
     ]
    },
    {
     "name": "stderr",
     "output_type": "stream",
     "text": [
      "Files Downloaded: 100%|██████████| 1/1 [00:00<00:00,  1.13file/s]\n",
      "/home/pjgonzalesp/miniforge3/envs/sunpy/lib/python3.13/site-packages/astropy/units/quantity.py:659: RuntimeWarning: divide by zero encountered in divide\n",
      "  result = super().__array_ufunc__(function, method, *arrays, **kwargs)\n",
      "/home/pjgonzalesp/miniforge3/envs/sunpy/lib/python3.13/site-packages/astropy/units/quantity.py:659: RuntimeWarning: invalid value encountered in divide\n",
      "  result = super().__array_ufunc__(function, method, *arrays, **kwargs)\n"
     ]
    },
    {
     "name": "stdout",
     "output_type": "stream",
     "text": [
      "se calculó T y EM con el modelo de abundancias:coronal\n",
      "Ahora vamos a calcular la T y EM con el modelo de abundancias:photospheric\n"
     ]
    },
    {
     "name": "stderr",
     "output_type": "stream",
     "text": [
      "Files Downloaded: 100%|██████████| 1/1 [00:00<00:00,  1.33file/s]\n",
      "2025-10-08 13:23:32 - root - INFO: Searching for GOES flares between 2009-09-17 00:00:00 and 2009-09-17 23:59:00...\n"
     ]
    },
    {
     "name": "stdout",
     "output_type": "stream",
     "text": [
      "se calculó T y EM con el modelo de abundancias:photospheric\n",
      "4. CONSTRUIR df_full\n",
      "5. añadiendo observatorio: GOES: GOES-10\n",
      "se añadió observatorio: GOES: GOES-10\n",
      "6. Descargando flares: 2009-09-17 00:00:00 - 2009-09-17 23:59:00\n"
     ]
    },
    {
     "name": "stderr",
     "output_type": "stream",
     "text": [
      "2025-10-08 13:23:33 - root - INFO: No solar flares found between 2009-09-17 00:00:00 and 2009-09-17 23:59:00.\n"
     ]
    },
    {
     "name": "stdout",
     "output_type": "stream",
     "text": [
      "No se encontraron flares para el intervalo 2009-09-17 00:00:00 - 2009-09-17 23:59:00. Saltando...\n",
      "Saltando intervalo 2009-09-17 00:00:00 - 2009-09-17 23:59:00 (sin datos/flares).\n",
      "1. Descargar datos GOES\n",
      "Buscando datos de: 2009-10-03 00:00:00\n",
      "Descargando datos de 2009-10-03 00:00:00...\n"
     ]
    },
    {
     "name": "stderr",
     "output_type": "stream",
     "text": [
      "Files Downloaded: 100%|██████████| 1/1 [00:00<00:00,  1.83file/s]\n"
     ]
    },
    {
     "name": "stdout",
     "output_type": "stream",
     "text": [
      "Resolution = 1 minute\n",
      "Gráfica guardada en 2025-10-07_Analysis_for_1000_days/Block_34/data_graphs/GOES_2009-10-03_00-00-00.png\n",
      "Observatorio encontrado: GOES-10\n",
      "Se encontraron datos  GOES para 2009-10-03 00:00:00 - 2009-10-03 23:59:00. Día saltado.\n",
      "\n",
      "Número de registros: 1440\n",
      "Columnas disponibles: ['xrsa', 'xrsb', 'xrsa_quality', 'xrsb_quality']\n",
      "2. Restar Background\n",
      "Plot saved at: 2025-10-07_Analysis_for_1000_days/Block_34/data_graphs/GOES_diff_linear_2009-10-03_00-00-00.png\n",
      "Plot saved at: 2025-10-07_Analysis_for_1000_days/Block_34/data_graphs/GOES_diff_log_2009-10-03_00-00-00.png\n"
     ]
    },
    {
     "name": "stderr",
     "output_type": "stream",
     "text": [
      "/tmp/ipykernel_1683080/4009928038.py:226: FutureWarning: Downcasting behavior in Series and DataFrame methods 'where', 'mask', and 'clip' is deprecated. In a future version this will not infer object dtypes or cast all-round floats to integers. Instead call result.infer_objects(copy=False) for object inference, or cast round floats explicitly. To opt-in to the future behavior, set `pd.set_option('future.no_silent_downcasting', True)`\n",
      "  df_o = df_o.clip(lower=1e-9)\n"
     ]
    },
    {
     "name": "stdout",
     "output_type": "stream",
     "text": [
      "Plot saved at: 2025-10-07_Analysis_for_1000_days/Block_34/data_graphs/GOES_diff_positive_2009-10-03_00-00-00.png\n",
      "3. USAR FUNCIÓN SUNPY calculate_t_em\n",
      "Ahora vamos a calcular la T y EM con el modelo de abundancias:coronal\n"
     ]
    },
    {
     "name": "stderr",
     "output_type": "stream",
     "text": [
      "Files Downloaded: 100%|██████████| 1/1 [00:00<00:00,  1.33file/s]\n",
      "/home/pjgonzalesp/miniforge3/envs/sunpy/lib/python3.13/site-packages/astropy/units/quantity.py:659: RuntimeWarning: divide by zero encountered in divide\n",
      "  result = super().__array_ufunc__(function, method, *arrays, **kwargs)\n",
      "/home/pjgonzalesp/miniforge3/envs/sunpy/lib/python3.13/site-packages/astropy/units/quantity.py:659: RuntimeWarning: invalid value encountered in divide\n",
      "  result = super().__array_ufunc__(function, method, *arrays, **kwargs)\n"
     ]
    },
    {
     "name": "stdout",
     "output_type": "stream",
     "text": [
      "se calculó T y EM con el modelo de abundancias:coronal\n",
      "Ahora vamos a calcular la T y EM con el modelo de abundancias:photospheric\n"
     ]
    },
    {
     "name": "stderr",
     "output_type": "stream",
     "text": [
      "Files Downloaded: 100%|██████████| 1/1 [00:00<00:00,  1.18file/s]\n",
      "2025-10-08 13:23:47 - root - INFO: Searching for GOES flares between 2009-10-03 00:00:00 and 2009-10-03 23:59:00...\n"
     ]
    },
    {
     "name": "stdout",
     "output_type": "stream",
     "text": [
      "se calculó T y EM con el modelo de abundancias:photospheric\n",
      "4. CONSTRUIR df_full\n",
      "5. añadiendo observatorio: GOES: GOES-10\n",
      "se añadió observatorio: GOES: GOES-10\n",
      "6. Descargando flares: 2009-10-03 00:00:00 - 2009-10-03 23:59:00\n"
     ]
    },
    {
     "name": "stderr",
     "output_type": "stream",
     "text": [
      "2025-10-08 13:23:48 - root - INFO: No solar flares found between 2009-10-03 00:00:00 and 2009-10-03 23:59:00.\n"
     ]
    },
    {
     "name": "stdout",
     "output_type": "stream",
     "text": [
      "No se encontraron flares para el intervalo 2009-10-03 00:00:00 - 2009-10-03 23:59:00. Saltando...\n",
      "Saltando intervalo 2009-10-03 00:00:00 - 2009-10-03 23:59:00 (sin datos/flares).\n",
      " Bloque 34 terminado y guardado en 2025-10-07_Analysis_for_1000_days/Block_34\n",
      "Procesando bloque 35/53 con 20 días...\n",
      "⚠️ Bloque 35 ya procesado, saltando...\n",
      "Procesando bloque 36/53 con 20 días...\n",
      "⚠️ Bloque 36 ya procesado, saltando...\n",
      "Procesando bloque 37/53 con 20 días...\n",
      "⚠️ Bloque 37 ya procesado, saltando...\n",
      "Procesando bloque 38/53 con 20 días...\n",
      "⚠️ Bloque 38 ya procesado, saltando...\n",
      "Procesando bloque 39/53 con 20 días...\n",
      "⚠️ Bloque 39 ya procesado, saltando...\n",
      "Procesando bloque 40/53 con 20 días...\n",
      "⚠️ Bloque 40 ya procesado, saltando...\n",
      "Procesando bloque 41/53 con 20 días...\n",
      "⚠️ Bloque 41 ya procesado, saltando...\n",
      "Procesando bloque 42/53 con 20 días...\n",
      "⚠️ Bloque 42 ya procesado, saltando...\n",
      "Procesando bloque 43/53 con 20 días...\n",
      "⚠️ Bloque 43 ya procesado, saltando...\n",
      "Procesando bloque 44/53 con 20 días...\n",
      "⚠️ Bloque 44 ya procesado, saltando...\n",
      "Procesando bloque 45/53 con 20 días...\n",
      "⚠️ Bloque 45 ya procesado, saltando...\n",
      "Procesando bloque 46/53 con 20 días...\n",
      "⚠️ Bloque 46 ya procesado, saltando...\n",
      "Procesando bloque 47/53 con 20 días...\n",
      "⚠️ Bloque 47 ya procesado, saltando...\n",
      "Procesando bloque 48/53 con 20 días...\n",
      "⚠️ Bloque 48 ya procesado, saltando...\n",
      "Procesando bloque 49/53 con 20 días...\n",
      "⚠️ Bloque 49 ya procesado, saltando...\n",
      "Procesando bloque 50/53 con 20 días...\n",
      "⚠️ Bloque 50 ya procesado, saltando...\n",
      "Procesando bloque 51/53 con 20 días...\n",
      "⚠️ Bloque 51 ya procesado, saltando...\n",
      "Procesando bloque 52/53 con 20 días...\n",
      "⚠️ Bloque 52 ya procesado, saltando...\n",
      "Procesando bloque 53/53 con 5 días...\n",
      "⚠️ Bloque 53 ya procesado, saltando...\n"
     ]
    }
   ],
   "source": [
    "# Crear contenedores vacíos\n",
    "all_df_full = pd.DataFrame()\n",
    "all_df_flare_data = pd.DataFrame()\n",
    "#chunk_size=20 # días para cada bloque\n",
    "\n",
    "# Dividir los intervalos en bloques de \"chunk_size\" días\n",
    "chunks = chunk_dataframe(df_intervals, chunk_size=chunk_size)\n",
    "\n",
    "for i, chunk in enumerate(chunks, start=1):\n",
    "    print(f\"Procesando bloque {i}/{len(chunks)} con {len(chunk)} días...\")\n",
    "    \n",
    "    # Crear carpeta para este bloque\n",
    "    block_dir = os.path.join(output_dir, f\"Block_{i}\")\n",
    "    os.makedirs(block_dir, exist_ok=True)\n",
    "\n",
    "    # Archivos esperados\n",
    "    file_full  = os.path.join(block_dir, f\"df_full_block{i}.csv\")\n",
    "    file_flare = os.path.join(block_dir, f\"df_flare_data_block{i}.csv\")\n",
    "\n",
    "    # Si ya existen ambos, saltamos este bloque\n",
    "    if os.path.exists(file_full) and os.path.exists(file_flare):\n",
    "        print(f\"⚠️ Bloque {i} ya procesado, saltando...\")\n",
    "        continue\n",
    "\n",
    "    # Contenedores para este bloque\n",
    "    list_df_full = []\n",
    "    list_df_flare_data = []\n",
    "    \n",
    "    for idx, row in chunk.iterrows():\n",
    "        start_time = row[\"start_time\"]\n",
    "        end_time   = row[\"end_time\"]\n",
    "\n",
    "        try:\n",
    "            results = download_goes_flare_data(start_time, end_time, \n",
    "                                                resolution=\"avg1m\",  #resolución de descarga de los datos GOES (1min)\n",
    "                                                Dif_time=5,            #Difference time Δt (for background)\n",
    "                                                plot_diff=True)\n",
    "            \n",
    "        except Exception as e:\n",
    "            print(f\" Error en intervalo {start_time} - {end_time}: {e}\")\n",
    "            continue\n",
    "\n",
    "        if results is None or results[\"df_flare_data\"].empty:\n",
    "            print(f\"Saltando intervalo {start_time} - {end_time} (sin datos/flares).\")\n",
    "            continue\n",
    "\n",
    "        # Acumular en listas\n",
    "        list_df_full.append(results[\"df_full\"])\n",
    "        list_df_flare_data.append(results[\"df_flare_data\"])\n",
    "        \n",
    "    # Guardar resultados del bloque\n",
    "    if list_df_full:\n",
    "        pd.concat(list_df_full).to_csv(os.path.join(block_dir, f\"df_full_block{i}.csv\"))\n",
    "    if list_df_flare_data:\n",
    "        pd.concat(list_df_flare_data).to_csv(os.path.join(block_dir, f\"df_flare_data_block{i}.csv\"))\n",
    "    \n",
    "\n",
    "    print(f\" Bloque {i} terminado y guardado en {block_dir}\")"
   ]
  },
  {
   "cell_type": "code",
   "execution_count": 30,
   "id": "e3517f23",
   "metadata": {},
   "outputs": [
    {
     "ename": "ValueError",
     "evalue": "unconverted data remains when parsing with format \"%Y-%m-%d %H:%M:%S\": \".000000\", at position 822107. You might want to try:\n    - passing `format` if your strings have a consistent format;\n    - passing `format='ISO8601'` if your strings are all ISO8601 but not necessarily in exactly the same format;\n    - passing `format='mixed'`, and the format will be inferred for each element individually. You might want to use `dayfirst` alongside this.",
     "output_type": "error",
     "traceback": [
      "\u001b[31m---------------------------------------------------------------------------\u001b[39m",
      "\u001b[31mValueError\u001b[39m                                Traceback (most recent call last)",
      "\u001b[36mCell\u001b[39m\u001b[36m \u001b[39m\u001b[32mIn[30]\u001b[39m\u001b[32m, line 2\u001b[39m\n\u001b[32m      1\u001b[39m \u001b[38;5;66;03m# Unir cada salida\u001b[39;00m\n\u001b[32m----> \u001b[39m\u001b[32m2\u001b[39m \u001b[43mcombine_blocks\u001b[49m\u001b[43m(\u001b[49m\u001b[43moutput_dir\u001b[49m\u001b[43m,\u001b[49m\u001b[43m \u001b[49m\u001b[33;43m\"\u001b[39;49m\u001b[33;43mdf_full_block\u001b[39;49m\u001b[33;43m\"\u001b[39;49m\u001b[43m,\u001b[49m\u001b[43m \u001b[49m\u001b[33;43mf\u001b[39;49m\u001b[33;43m\"\u001b[39;49m\u001b[33;43mall_df_full_\u001b[39;49m\u001b[38;5;132;43;01m{\u001b[39;49;00m\u001b[43mn\u001b[49m\u001b[38;5;132;43;01m}\u001b[39;49;00m\u001b[33;43m.csv\u001b[39;49m\u001b[33;43m\"\u001b[39;49m\u001b[43m,\u001b[49m\u001b[43m \u001b[49m\u001b[43mtime_column\u001b[49m\u001b[43m=\u001b[49m\u001b[38;5;28;43;01mNone\u001b[39;49;00m\u001b[43m)\u001b[49m\n\u001b[32m      3\u001b[39m combine_blocks(output_dir, \u001b[33m\"\u001b[39m\u001b[33mdf_flare_data_block\u001b[39m\u001b[33m\"\u001b[39m, \u001b[33mf\u001b[39m\u001b[33m\"\u001b[39m\u001b[33mall_df_flare_data_\u001b[39m\u001b[38;5;132;01m{\u001b[39;00mn\u001b[38;5;132;01m}\u001b[39;00m\u001b[33m.csv\u001b[39m\u001b[33m\"\u001b[39m, time_column=\u001b[33m\"\u001b[39m\u001b[33mStartTime\u001b[39m\u001b[33m\"\u001b[39m)\n",
      "\u001b[36mCell\u001b[39m\u001b[36m \u001b[39m\u001b[32mIn[22]\u001b[39m\u001b[32m, line 641\u001b[39m, in \u001b[36mcombine_blocks\u001b[39m\u001b[34m(output_dir, pattern, final_name, time_column)\u001b[39m\n\u001b[32m    638\u001b[39m \u001b[38;5;66;03m# Ordenar según columna de tiempo\u001b[39;00m\n\u001b[32m    639\u001b[39m \u001b[38;5;28;01mif\u001b[39;00m time_column \u001b[38;5;129;01mis\u001b[39;00m \u001b[38;5;28;01mNone\u001b[39;00m:\n\u001b[32m    640\u001b[39m     \u001b[38;5;66;03m# usar la primera columna como tiempo\u001b[39;00m\n\u001b[32m--> \u001b[39m\u001b[32m641\u001b[39m     combined.iloc[:, \u001b[32m0\u001b[39m] = \u001b[43mpd\u001b[49m\u001b[43m.\u001b[49m\u001b[43mto_datetime\u001b[49m\u001b[43m(\u001b[49m\u001b[43mcombined\u001b[49m\u001b[43m.\u001b[49m\u001b[43miloc\u001b[49m\u001b[43m[\u001b[49m\u001b[43m:\u001b[49m\u001b[43m,\u001b[49m\u001b[43m \u001b[49m\u001b[32;43m0\u001b[39;49m\u001b[43m]\u001b[49m\u001b[43m)\u001b[49m\n\u001b[32m    642\u001b[39m     combined = combined.sort_values(by=combined.columns[\u001b[32m0\u001b[39m]).reset_index(drop=\u001b[38;5;28;01mTrue\u001b[39;00m)\n\u001b[32m    643\u001b[39m     \u001b[38;5;28mprint\u001b[39m(\u001b[33mf\u001b[39m\u001b[33m\"\u001b[39m\u001b[33m✅ Ordenado por la primera columna (usada como tiempo)\u001b[39m\u001b[33m\"\u001b[39m)\n",
      "\u001b[36mFile \u001b[39m\u001b[32m~/miniforge3/envs/sunpy/lib/python3.13/site-packages/pandas/core/tools/datetimes.py:1072\u001b[39m, in \u001b[36mto_datetime\u001b[39m\u001b[34m(arg, errors, dayfirst, yearfirst, utc, format, exact, unit, infer_datetime_format, origin, cache)\u001b[39m\n\u001b[32m   1070\u001b[39m         result = arg.map(cache_array)\n\u001b[32m   1071\u001b[39m     \u001b[38;5;28;01melse\u001b[39;00m:\n\u001b[32m-> \u001b[39m\u001b[32m1072\u001b[39m         values = \u001b[43mconvert_listlike\u001b[49m\u001b[43m(\u001b[49m\u001b[43marg\u001b[49m\u001b[43m.\u001b[49m\u001b[43m_values\u001b[49m\u001b[43m,\u001b[49m\u001b[43m \u001b[49m\u001b[38;5;28;43mformat\u001b[39;49m\u001b[43m)\u001b[49m\n\u001b[32m   1073\u001b[39m         result = arg._constructor(values, index=arg.index, name=arg.name)\n\u001b[32m   1074\u001b[39m \u001b[38;5;28;01melif\u001b[39;00m \u001b[38;5;28misinstance\u001b[39m(arg, (ABCDataFrame, abc.MutableMapping)):\n",
      "\u001b[36mFile \u001b[39m\u001b[32m~/miniforge3/envs/sunpy/lib/python3.13/site-packages/pandas/core/tools/datetimes.py:435\u001b[39m, in \u001b[36m_convert_listlike_datetimes\u001b[39m\u001b[34m(arg, format, name, utc, unit, errors, dayfirst, yearfirst, exact)\u001b[39m\n\u001b[32m    433\u001b[39m \u001b[38;5;66;03m# `format` could be inferred, or user didn't ask for mixed-format parsing.\u001b[39;00m\n\u001b[32m    434\u001b[39m \u001b[38;5;28;01mif\u001b[39;00m \u001b[38;5;28mformat\u001b[39m \u001b[38;5;129;01mis\u001b[39;00m \u001b[38;5;129;01mnot\u001b[39;00m \u001b[38;5;28;01mNone\u001b[39;00m \u001b[38;5;129;01mand\u001b[39;00m \u001b[38;5;28mformat\u001b[39m != \u001b[33m\"\u001b[39m\u001b[33mmixed\u001b[39m\u001b[33m\"\u001b[39m:\n\u001b[32m--> \u001b[39m\u001b[32m435\u001b[39m     \u001b[38;5;28;01mreturn\u001b[39;00m \u001b[43m_array_strptime_with_fallback\u001b[49m\u001b[43m(\u001b[49m\u001b[43marg\u001b[49m\u001b[43m,\u001b[49m\u001b[43m \u001b[49m\u001b[43mname\u001b[49m\u001b[43m,\u001b[49m\u001b[43m \u001b[49m\u001b[43mutc\u001b[49m\u001b[43m,\u001b[49m\u001b[43m \u001b[49m\u001b[38;5;28;43mformat\u001b[39;49m\u001b[43m,\u001b[49m\u001b[43m \u001b[49m\u001b[43mexact\u001b[49m\u001b[43m,\u001b[49m\u001b[43m \u001b[49m\u001b[43merrors\u001b[49m\u001b[43m)\u001b[49m\n\u001b[32m    437\u001b[39m result, tz_parsed = objects_to_datetime64(\n\u001b[32m    438\u001b[39m     arg,\n\u001b[32m    439\u001b[39m     dayfirst=dayfirst,\n\u001b[32m   (...)\u001b[39m\u001b[32m    443\u001b[39m     allow_object=\u001b[38;5;28;01mTrue\u001b[39;00m,\n\u001b[32m    444\u001b[39m )\n\u001b[32m    446\u001b[39m \u001b[38;5;28;01mif\u001b[39;00m tz_parsed \u001b[38;5;129;01mis\u001b[39;00m \u001b[38;5;129;01mnot\u001b[39;00m \u001b[38;5;28;01mNone\u001b[39;00m:\n\u001b[32m    447\u001b[39m     \u001b[38;5;66;03m# We can take a shortcut since the datetime64 numpy array\u001b[39;00m\n\u001b[32m    448\u001b[39m     \u001b[38;5;66;03m# is in UTC\u001b[39;00m\n",
      "\u001b[36mFile \u001b[39m\u001b[32m~/miniforge3/envs/sunpy/lib/python3.13/site-packages/pandas/core/tools/datetimes.py:469\u001b[39m, in \u001b[36m_array_strptime_with_fallback\u001b[39m\u001b[34m(arg, name, utc, fmt, exact, errors)\u001b[39m\n\u001b[32m    458\u001b[39m \u001b[38;5;28;01mdef\u001b[39;00m\u001b[38;5;250m \u001b[39m\u001b[34m_array_strptime_with_fallback\u001b[39m(\n\u001b[32m    459\u001b[39m     arg,\n\u001b[32m    460\u001b[39m     name,\n\u001b[32m   (...)\u001b[39m\u001b[32m    464\u001b[39m     errors: \u001b[38;5;28mstr\u001b[39m,\n\u001b[32m    465\u001b[39m ) -> Index:\n\u001b[32m    466\u001b[39m \u001b[38;5;250m    \u001b[39m\u001b[33;03m\"\"\"\u001b[39;00m\n\u001b[32m    467\u001b[39m \u001b[33;03m    Call array_strptime, with fallback behavior depending on 'errors'.\u001b[39;00m\n\u001b[32m    468\u001b[39m \u001b[33;03m    \"\"\"\u001b[39;00m\n\u001b[32m--> \u001b[39m\u001b[32m469\u001b[39m     result, tz_out = \u001b[43marray_strptime\u001b[49m\u001b[43m(\u001b[49m\u001b[43marg\u001b[49m\u001b[43m,\u001b[49m\u001b[43m \u001b[49m\u001b[43mfmt\u001b[49m\u001b[43m,\u001b[49m\u001b[43m \u001b[49m\u001b[43mexact\u001b[49m\u001b[43m=\u001b[49m\u001b[43mexact\u001b[49m\u001b[43m,\u001b[49m\u001b[43m \u001b[49m\u001b[43merrors\u001b[49m\u001b[43m=\u001b[49m\u001b[43merrors\u001b[49m\u001b[43m,\u001b[49m\u001b[43m \u001b[49m\u001b[43mutc\u001b[49m\u001b[43m=\u001b[49m\u001b[43mutc\u001b[49m\u001b[43m)\u001b[49m\n\u001b[32m    470\u001b[39m     \u001b[38;5;28;01mif\u001b[39;00m tz_out \u001b[38;5;129;01mis\u001b[39;00m \u001b[38;5;129;01mnot\u001b[39;00m \u001b[38;5;28;01mNone\u001b[39;00m:\n\u001b[32m    471\u001b[39m         unit = np.datetime_data(result.dtype)[\u001b[32m0\u001b[39m]\n",
      "\u001b[36mFile \u001b[39m\u001b[32mpandas/_libs/tslibs/strptime.pyx:501\u001b[39m, in \u001b[36mpandas._libs.tslibs.strptime.array_strptime\u001b[39m\u001b[34m()\u001b[39m\n",
      "\u001b[36mFile \u001b[39m\u001b[32mpandas/_libs/tslibs/strptime.pyx:451\u001b[39m, in \u001b[36mpandas._libs.tslibs.strptime.array_strptime\u001b[39m\u001b[34m()\u001b[39m\n",
      "\u001b[36mFile \u001b[39m\u001b[32mpandas/_libs/tslibs/strptime.pyx:587\u001b[39m, in \u001b[36mpandas._libs.tslibs.strptime._parse_with_format\u001b[39m\u001b[34m()\u001b[39m\n",
      "\u001b[31mValueError\u001b[39m: unconverted data remains when parsing with format \"%Y-%m-%d %H:%M:%S\": \".000000\", at position 822107. You might want to try:\n    - passing `format` if your strings have a consistent format;\n    - passing `format='ISO8601'` if your strings are all ISO8601 but not necessarily in exactly the same format;\n    - passing `format='mixed'`, and the format will be inferred for each element individually. You might want to use `dayfirst` alongside this."
     ]
    }
   ],
   "source": [
    "# Unir cada salida\n",
    "combine_blocks(output_dir, \"df_full_block\", f\"all_df_full_{n}.csv\", time_column=None)\n",
    "combine_blocks(output_dir, \"df_flare_data_block\", f\"all_df_flare_data_{n}.csv\", time_column=\"StartTime\")\n"
   ]
  },
  {
   "cell_type": "code",
   "execution_count": null,
   "id": "0100a144",
   "metadata": {},
   "outputs": [
    {
     "name": "stdout",
     "output_type": "stream",
     "text": [
      "Archivos encontrados: 1\n",
      "2025-10-07_Analysis_for_2_days/Block_1/df_full_block1.csv\n"
     ]
    }
   ],
   "source": [
    "pattern = \"df_full_block\"\n",
    "files = sorted(glob.glob(os.path.join(output_dir, \"**\", f\"*{pattern}*.csv\"), recursive=True))\n",
    "print(\"Archivos encontrados:\", len(files))\n",
    "for f in files:\n",
    "    print(f)"
   ]
  },
  {
   "cell_type": "code",
   "execution_count": null,
   "id": "6bcc452d",
   "metadata": {},
   "outputs": [
    {
     "name": "stdout",
     "output_type": "stream",
     "text": [
      "Empty DataFrame\n",
      "Columns: []\n",
      "Index: []\n"
     ]
    }
   ],
   "source": [
    "print(all_df_full)"
   ]
  },
  {
   "cell_type": "code",
   "execution_count": null,
   "id": "f937e07f",
   "metadata": {},
   "outputs": [],
   "source": []
  }
 ],
 "metadata": {
  "kernelspec": {
   "display_name": "sunpy",
   "language": "python",
   "name": "python3"
  },
  "language_info": {
   "codemirror_mode": {
    "name": "ipython",
    "version": 3
   },
   "file_extension": ".py",
   "mimetype": "text/x-python",
   "name": "python",
   "nbconvert_exporter": "python",
   "pygments_lexer": "ipython3",
   "version": "3.13.5"
  }
 },
 "nbformat": 4,
 "nbformat_minor": 5
}
